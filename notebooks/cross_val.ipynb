{
 "cells": [
  {
   "cell_type": "code",
   "execution_count": 1,
   "metadata": {
    "Collapsed": "false"
   },
   "outputs": [],
   "source": [
    "import os\n",
    "import sys\n",
    "import random\n",
    "import json\n",
    "import collections\n",
    "import re\n",
    "from itertools import combinations\n",
    "\n",
    "import pandas as pd\n",
    "import numpy as np\n",
    "import scipy\n",
    "import statsmodels\n",
    "from tqdm import trange, tqdm_notebook as tqdm\n",
    "\n",
    "from sklearn.model_selection import train_test_split\n",
    "from sklearn.metrics import f1_score, classification_report\n",
    "from lightgbm import LGBMClassifier\n",
    "\n",
    "from matplotlib import pyplot as plt\n",
    "import seaborn as sns\n",
    "%matplotlib inline\n",
    "\n",
    "\n",
    "pd.options.display.max_columns = 999\n",
    "\n",
    "pd.options.display.max_rows = 100\n",
    "\n",
    "sns.set()\n",
    "plt.rcParams[\"figure.figsize\"] = (10,7)"
   ]
  },
  {
   "cell_type": "code",
   "execution_count": 2,
   "metadata": {
    "Collapsed": "false"
   },
   "outputs": [],
   "source": [
    "%load_ext autoreload\n",
    "%autoreload 2"
   ]
  },
  {
   "cell_type": "code",
   "execution_count": 68,
   "metadata": {
    "Collapsed": "false"
   },
   "outputs": [],
   "source": [
    "from sigmod_src.make_dataset import make_specs_dataset\n",
    "from sigmod_src.preprocessing import preprocess_specs_dataset\n",
    "from sigmod_src.pipeline import LGBMPipeline\n",
    "from sigmod_src.utils import get_additional_labels, make_classes_df"
   ]
  },
  {
   "cell_type": "code",
   "execution_count": 5,
   "metadata": {
    "Collapsed": "false"
   },
   "outputs": [],
   "source": [
    "LG_LABELS_PATH = '../data/raw/sigmod_large_labelled_dataset.csv'\n",
    "SPECS_PATH = '../data/raw/2013_camera_specs/'"
   ]
  },
  {
   "cell_type": "markdown",
   "metadata": {
    "Collapsed": "false"
   },
   "source": [
    "# Load labels df"
   ]
  },
  {
   "cell_type": "code",
   "execution_count": 6,
   "metadata": {
    "Collapsed": "false"
   },
   "outputs": [
    {
     "data": {
      "text/plain": [
       "(297651, 3)"
      ]
     },
     "execution_count": 6,
     "metadata": {},
     "output_type": "execute_result"
    }
   ],
   "source": [
    "labels_df = pd.read_csv(LG_LABELS_PATH)\n",
    "labels_df.shape"
   ]
  },
  {
   "cell_type": "markdown",
   "metadata": {
    "Collapsed": "false"
   },
   "source": [
    "# Load specs df"
   ]
  },
  {
   "cell_type": "code",
   "execution_count": 10,
   "metadata": {
    "Collapsed": "false"
   },
   "outputs": [],
   "source": [
    "specs_dataset_src = make_specs_dataset(SPECS_PATH)"
   ]
  },
  {
   "cell_type": "code",
   "execution_count": 25,
   "metadata": {
    "Collapsed": "false"
   },
   "outputs": [
    {
     "name": "stdout",
     "output_type": "stream",
     "text": [
      "Conflict, no matching items found for brand: nikon\n",
      "Conflict, no matching items found for brand: dgx\n",
      "Conflict, no matching items found for brand: nikon\n",
      "Conflict, no matching items found for brand: ion\n",
      "Conflict, no matching items found for brand: nikon\n",
      "Conflict, no matching items found for brand: nikon\n",
      "Conflict, no matching items found for brand: digital\n",
      "Conflict, no matching items found for brand: olympu\n",
      "Conflict, no matching items found for brand: nikon\n",
      "Conflict, no matching items found for brand: nikon\n",
      "Conflict, no matching items found for brand: panasoniclumix\n",
      "Conflict, no matching items found for brand: digital\n",
      "Conflict, no matching items found for brand: ion\n",
      "Conflict, no matching items found for brand: digital\n",
      "Conflict, no matching items found for brand: phoenix\n",
      "Conflict, no matching items found for brand: akai\n",
      "Conflict, no matching items found for brand: nikon\n",
      "Conflict, no matching items found for brand: nikon\n",
      "Conflict, no matching items found for brand: nikon\n",
      "Conflict, no matching items found for brand: nikon\n",
      "Conflict, no matching items found for brand: digital\n",
      "Conflict, no matching items found for brand: dji\n",
      "Conflict, no matching items found for brand: nikon\n",
      "Conflict, no matching items found for brand: unknown\n",
      "Conflict, no matching items found for brand: nikon\n",
      "Conflict, no matching items found for brand: digital\n",
      "Conflict, no matching items found for brand: nikon\n",
      "Conflict, no matching items found for brand: nikon\n",
      "Conflict, no matching items found for brand: nikon\n",
      "Conflict, no matching items found for brand: nikon\n",
      "Conflict, no matching items found for brand: nikon\n",
      "Conflict, no matching items found for brand: nikon\n",
      "Conflict, no matching items found for brand: nikon\n",
      "Conflict, no matching items found for brand: fantasea\n",
      "Conflict, no matching items found for brand: 60\n",
      "Conflict, no matching items found for brand: digital\n",
      "Conflict, no matching items found for brand: nikon\n",
      "Conflict, no matching items found for brand: digital\n",
      "Conflict, no matching items found for brand: evolt\n",
      "Conflict, no matching items found for brand: nikon\n",
      "Conflict, no matching items found for brand: nikon\n",
      "Conflict, no matching items found for brand: nikon\n",
      "Conflict, no matching items found for brand: digital\n",
      "Conflict, no matching items found for brand: phase\n",
      "Conflict, no matching items found for brand: god\n",
      "Conflict, no matching items found for brand: nikon\n",
      "Conflict, no matching items found for brand: nikon\n",
      "Conflict, no matching items found for brand: digital\n",
      "Conflict, no matching items found for brand: nikon\n",
      "Conflict, no matching items found for brand: nikon\n",
      "Conflict, no matching items found for brand: eos\n",
      "Conflict, no matching items found for brand: epson\n",
      "Conflict, no matching items found for brand: nikon\n",
      "Conflict, no matching items found for brand: digital\n",
      "Conflict, no matching items found for brand: nikon\n",
      "Conflict, no matching items found for brand: canonjapan\n",
      "Conflict, no matching items found for brand: garmin\n",
      "Conflict, no matching items found for brand: garmin\n",
      "Conflict, no matching items found for brand: garmin\n",
      "Conflict, no matching items found for brand: jvc\n",
      "Conflict, no matching items found for brand: tamron\n",
      "Conflict, no matching items found for brand: tamron\n",
      "Conflict, no matching items found for brand: shoot\n",
      "Conflict, no matching items found for brand: shoot\n",
      "Conflict, no matching items found for brand: shoot\n",
      "Conflict, no matching items found for brand: shoot\n",
      "Conflict, no matching items found for brand: shoot\n",
      "Conflict, no matching items found for brand: shoot\n",
      "Conflict, no matching items found for brand: shoot\n",
      "Conflict, no matching items found for brand: godspeed\n",
      "Conflict, no matching items found for brand: shoot\n",
      "Conflict, no matching items found for brand: shoot\n",
      "Conflict, no matching items found for brand: neopine\n",
      "Conflict, no matching items found for brand: cxin\n",
      "Conflict, no matching items found for brand: opteka\n",
      "Conflict, no matching items found for brand: olympu\n",
      "Conflict, no matching items found for brand: focus\n",
      "Conflict, no matching items found for brand: olympu\n",
      "Dropping 87 known non-camera brand specs\n"
     ]
    },
    {
     "name": "stderr",
     "output_type": "stream",
     "text": [
      "/home/boris/study/UT study/ACM Sigmod/sigmod/sigmod_src/preprocessing.py:211: SettingWithCopyWarning: \n",
      "A value is trying to be set on a copy of a slice from a DataFrame.\n",
      "Try using .loc[row_indexer,col_indexer] = value instead\n",
      "\n",
      "See the caveats in the documentation: https://pandas.pydata.org/pandas-docs/stable/user_guide/indexing.html#returning-a-view-versus-a-copy\n",
      "  specs_df['brand'] = specs_df['brand'].apply(lambda brand: None if brand in cutoff_brands or not brand else brand)\n"
     ]
    },
    {
     "name": "stdout",
     "output_type": "stream",
     "text": [
      "Dropping 1068 camera bag specs\n",
      "Dropping 1618 cctv specs\n",
      "9\n",
      "Warning, dropped 9 rows containing null page titles\n"
     ]
    },
    {
     "name": "stderr",
     "output_type": "stream",
     "text": [
      "/home/boris/study/UT study/ACM Sigmod/sigmod/sigmod_src/preprocessing.py:230: UserWarning: Boolean Series key will be reindexed to match DataFrame index.\n",
      "  print('Dropping', specs_df[specs_df.brand.isnull()][specs_df.page_title.str.contains('bag')][specs_df.page_title.str.contains('case')].shape[0], 'camera bag specs')\n"
     ]
    }
   ],
   "source": [
    "specs_df = preprocess_specs_dataset(specs_dataset_src)"
   ]
  },
  {
   "cell_type": "code",
   "execution_count": 26,
   "metadata": {
    "Collapsed": "false"
   },
   "outputs": [],
   "source": [
    "specs_df.index = specs_df.spec_id"
   ]
  },
  {
   "cell_type": "code",
   "execution_count": 27,
   "metadata": {
    "Collapsed": "false"
   },
   "outputs": [
    {
     "data": {
      "text/html": [
       "<div>\n",
       "<style scoped>\n",
       "    .dataframe tbody tr th:only-of-type {\n",
       "        vertical-align: middle;\n",
       "    }\n",
       "\n",
       "    .dataframe tbody tr th {\n",
       "        vertical-align: top;\n",
       "    }\n",
       "\n",
       "    .dataframe thead th {\n",
       "        text-align: right;\n",
       "    }\n",
       "</style>\n",
       "<table border=\"1\" class=\"dataframe\">\n",
       "  <thead>\n",
       "    <tr style=\"text-align: right;\">\n",
       "      <th></th>\n",
       "      <th>spec_id</th>\n",
       "      <th>page_title</th>\n",
       "      <th>brand</th>\n",
       "      <th>model</th>\n",
       "      <th>all_text</th>\n",
       "      <th>page_title_stem</th>\n",
       "      <th>all_text_stem</th>\n",
       "      <th>site</th>\n",
       "    </tr>\n",
       "    <tr>\n",
       "      <th>spec_id</th>\n",
       "      <th></th>\n",
       "      <th></th>\n",
       "      <th></th>\n",
       "      <th></th>\n",
       "      <th></th>\n",
       "      <th></th>\n",
       "      <th></th>\n",
       "      <th></th>\n",
       "    </tr>\n",
       "  </thead>\n",
       "  <tbody>\n",
       "    <tr>\n",
       "      <th>www.ebay.com//57656</th>\n",
       "      <td>www.ebay.com//57656</td>\n",
       "      <td>canon powershot elph 110 hs 16 1mp digital</td>\n",
       "      <td>canon</td>\n",
       "      <td>None</td>\n",
       "      <td>canon powershot 110 hs 16 1mp digital canon re...</td>\n",
       "      <td>canon powershot elph 110 hs 16 1mp digit</td>\n",
       "      <td>canon powershot 110 hs 16 1mp digit canon refu...</td>\n",
       "      <td>www.ebay.com</td>\n",
       "    </tr>\n",
       "    <tr>\n",
       "      <th>www.ebay.com//60583</th>\n",
       "      <td>www.ebay.com//60583</td>\n",
       "      <td>canon rebel 2000 35mm great case instruction b...</td>\n",
       "      <td>canon</td>\n",
       "      <td>None</td>\n",
       "      <td>canon rebel 2000 35mm great case instruction b...</td>\n",
       "      <td>canon rebel 2000 35mm great case instruct booklet</td>\n",
       "      <td>canon rebel 2000 35mm great case instruct book...</td>\n",
       "      <td>www.ebay.com</td>\n",
       "    </tr>\n",
       "    <tr>\n",
       "      <th>www.ebay.com//60440</th>\n",
       "      <td>www.ebay.com//60440</td>\n",
       "      <td>canon eos rebel t3i digital slr 18 55mm 75 300...</td>\n",
       "      <td>canon</td>\n",
       "      <td>t3i</td>\n",
       "      <td>canon eos rebel t3i digital slr 18 55mm 75 300...</td>\n",
       "      <td>canon eo rebel t3i digit slr 18 55mm 75 300mm ...</td>\n",
       "      <td>canon eo rebel t3i digit slr 18 55mm 75 300mm ...</td>\n",
       "      <td>www.ebay.com</td>\n",
       "    </tr>\n",
       "    <tr>\n",
       "      <th>www.ebay.com//24139</th>\n",
       "      <td>www.ebay.com//24139</td>\n",
       "      <td>ge c1033 10 1mp digital 3x zoom 2 4 lcd</td>\n",
       "      <td>None</td>\n",
       "      <td>c1033</td>\n",
       "      <td>ge c1033 10 1mp digital 3x zoom 2 4 ge brand-n...</td>\n",
       "      <td>ge c1033 10 1mp digit 3x zoom 2 4 lcd</td>\n",
       "      <td>ge c1033 10 1mp digit 3x zoom 2 4 ge brand-new...</td>\n",
       "      <td>www.ebay.com</td>\n",
       "    </tr>\n",
       "    <tr>\n",
       "      <th>www.ebay.com//54903</th>\n",
       "      <td>www.ebay.com//54903</td>\n",
       "      <td>vivitar clip shot digital 1 1mp</td>\n",
       "      <td>vivitar</td>\n",
       "      <td>None</td>\n",
       "      <td>vivitar clip shot digital 1 1mp vivitar brand-...</td>\n",
       "      <td>vivitar clip shot digit 1 1mp</td>\n",
       "      <td>vivitar clip shot digit 1 1mp vivitar brand-ne...</td>\n",
       "      <td>www.ebay.com</td>\n",
       "    </tr>\n",
       "  </tbody>\n",
       "</table>\n",
       "</div>"
      ],
      "text/plain": [
       "                                 spec_id  \\\n",
       "spec_id                                    \n",
       "www.ebay.com//57656  www.ebay.com//57656   \n",
       "www.ebay.com//60583  www.ebay.com//60583   \n",
       "www.ebay.com//60440  www.ebay.com//60440   \n",
       "www.ebay.com//24139  www.ebay.com//24139   \n",
       "www.ebay.com//54903  www.ebay.com//54903   \n",
       "\n",
       "                                                            page_title  \\\n",
       "spec_id                                                                  \n",
       "www.ebay.com//57656         canon powershot elph 110 hs 16 1mp digital   \n",
       "www.ebay.com//60583  canon rebel 2000 35mm great case instruction b...   \n",
       "www.ebay.com//60440  canon eos rebel t3i digital slr 18 55mm 75 300...   \n",
       "www.ebay.com//24139            ge c1033 10 1mp digital 3x zoom 2 4 lcd   \n",
       "www.ebay.com//54903                    vivitar clip shot digital 1 1mp   \n",
       "\n",
       "                       brand  model  \\\n",
       "spec_id                               \n",
       "www.ebay.com//57656    canon   None   \n",
       "www.ebay.com//60583    canon   None   \n",
       "www.ebay.com//60440    canon    t3i   \n",
       "www.ebay.com//24139     None  c1033   \n",
       "www.ebay.com//54903  vivitar   None   \n",
       "\n",
       "                                                              all_text  \\\n",
       "spec_id                                                                  \n",
       "www.ebay.com//57656  canon powershot 110 hs 16 1mp digital canon re...   \n",
       "www.ebay.com//60583  canon rebel 2000 35mm great case instruction b...   \n",
       "www.ebay.com//60440  canon eos rebel t3i digital slr 18 55mm 75 300...   \n",
       "www.ebay.com//24139  ge c1033 10 1mp digital 3x zoom 2 4 ge brand-n...   \n",
       "www.ebay.com//54903  vivitar clip shot digital 1 1mp vivitar brand-...   \n",
       "\n",
       "                                                       page_title_stem  \\\n",
       "spec_id                                                                  \n",
       "www.ebay.com//57656           canon powershot elph 110 hs 16 1mp digit   \n",
       "www.ebay.com//60583  canon rebel 2000 35mm great case instruct booklet   \n",
       "www.ebay.com//60440  canon eo rebel t3i digit slr 18 55mm 75 300mm ...   \n",
       "www.ebay.com//24139              ge c1033 10 1mp digit 3x zoom 2 4 lcd   \n",
       "www.ebay.com//54903                      vivitar clip shot digit 1 1mp   \n",
       "\n",
       "                                                         all_text_stem  \\\n",
       "spec_id                                                                  \n",
       "www.ebay.com//57656  canon powershot 110 hs 16 1mp digit canon refu...   \n",
       "www.ebay.com//60583  canon rebel 2000 35mm great case instruct book...   \n",
       "www.ebay.com//60440  canon eo rebel t3i digit slr 18 55mm 75 300mm ...   \n",
       "www.ebay.com//24139  ge c1033 10 1mp digit 3x zoom 2 4 ge brand-new...   \n",
       "www.ebay.com//54903  vivitar clip shot digit 1 1mp vivitar brand-ne...   \n",
       "\n",
       "                             site  \n",
       "spec_id                            \n",
       "www.ebay.com//57656  www.ebay.com  \n",
       "www.ebay.com//60583  www.ebay.com  \n",
       "www.ebay.com//60440  www.ebay.com  \n",
       "www.ebay.com//24139  www.ebay.com  \n",
       "www.ebay.com//54903  www.ebay.com  "
      ]
     },
     "execution_count": 27,
     "metadata": {},
     "output_type": "execute_result"
    }
   ],
   "source": [
    "specs_df.head()"
   ]
  },
  {
   "cell_type": "code",
   "execution_count": 33,
   "metadata": {
    "Collapsed": "false"
   },
   "outputs": [
    {
     "data": {
      "text/plain": [
       "array([['casio exilim ex h30bk 16 1mp digital 4971850494867',\n",
       "        'casio exilim ex h30bk 16 1mp digit 4971850494867', 'casio',\n",
       "        None],\n",
       "       ['mini hd waterproof touch digital children children waterproof touch screen alibaba com',\n",
       "        'mini hd waterproof touch digit children children waterproof touch screen alibaba com',\n",
       "        None, None],\n",
       "       ['canon powershot a310 3 2mp digital parts repair final sale',\n",
       "        'canon powershot a310 3 2mp digit part repair final sale',\n",
       "        'canon', 'a310'],\n",
       "       ['fashion waterproof digital slr vintage bag case nikon canon nikon fashion bag waterproof bag vintage bag alibaba com',\n",
       "        'fashion waterproof digit slr vintag bag case nikon canon nikon fashion bag waterproof bag vintag bag alibaba com',\n",
       "        'canon', None],\n",
       "       ['dahua ip speed dome 20x 1080p ptz sd6a220-hn ip speed dome ir ptz ir ptz alibaba com',\n",
       "        'dahua ip speed dome 20x 1080p ptz sd6a220-hn ip speed dome ir ptz ir ptz alibaba com',\n",
       "        None, 'a220']], dtype=object)"
      ]
     },
     "execution_count": 33,
     "metadata": {},
     "output_type": "execute_result"
    }
   ],
   "source": [
    "sample = specs_df.sample(5)\n",
    "sample[['page_title', 'page_title_stem', 'brand', 'model']].values"
   ]
  },
  {
   "cell_type": "code",
   "execution_count": 34,
   "metadata": {
    "Collapsed": "false"
   },
   "outputs": [
    {
     "data": {
      "text/plain": [
       "canon        5527\n",
       "sony         3384\n",
       "nikon        3362\n",
       "fujifilm     1517\n",
       "olympus      1465\n",
       "panasonic    1358\n",
       "samsung      1074\n",
       "kodak         763\n",
       "pentax        627\n",
       "casio         222\n",
       "Name: brand, dtype: int64"
      ]
     },
     "execution_count": 34,
     "metadata": {},
     "output_type": "execute_result"
    }
   ],
   "source": [
    "specs_df.brand.value_counts()[:10]"
   ]
  },
  {
   "cell_type": "code",
   "execution_count": 35,
   "metadata": {
    "Collapsed": "false"
   },
   "outputs": [
    {
     "data": {
      "text/plain": [
       "t3i      203\n",
       "d3200    188\n",
       "60d      180\n",
       "d5200    142\n",
       "1100d    142\n",
       "70d      139\n",
       "d7000    139\n",
       "d5100    138\n",
       "d3100    114\n",
       "d7100    114\n",
       "Name: model, dtype: int64"
      ]
     },
     "execution_count": 35,
     "metadata": {},
     "output_type": "execute_result"
    }
   ],
   "source": [
    "specs_df.model.value_counts()[:10]"
   ]
  },
  {
   "cell_type": "markdown",
   "metadata": {
    "Collapsed": "true",
    "toc-hr-collapsed": true,
    "toc-nb-collapsed": true
   },
   "source": [
    "# Additional labels"
   ]
  },
  {
   "cell_type": "code",
   "execution_count": null,
   "metadata": {
    "Collapsed": "false"
   },
   "outputs": [],
   "source": [
    "additional_labels = get_additional_labels(labels_df, specs_df)"
   ]
  },
  {
   "cell_type": "code",
   "execution_count": null,
   "metadata": {
    "Collapsed": "false"
   },
   "outputs": [],
   "source": [
    "new_dups = additional_labels[additional_labels.label==1]\n",
    "new_dups.head()"
   ]
  },
  {
   "cell_type": "code",
   "execution_count": null,
   "metadata": {
    "Collapsed": "false"
   },
   "outputs": [],
   "source": [
    "new_dups.shape"
   ]
  },
  {
   "cell_type": "code",
   "execution_count": null,
   "metadata": {
    "Collapsed": "false"
   },
   "outputs": [],
   "source": [
    "sample = new_dups.sample(1)\n",
    "\n",
    "print('Left\\n', specs_df.loc[sample.left_spec_id].page_title_stem.values[0])\n",
    "print('')\n",
    "print('Right\\n', specs_df.loc[sample.right_spec_id].page_title_stem.values[0])"
   ]
  },
  {
   "cell_type": "code",
   "execution_count": null,
   "metadata": {
    "Collapsed": "false"
   },
   "outputs": [],
   "source": [
    "new_non_dups = additional_labels[additional_labels.label==0]\n",
    "new_non_dups.shape"
   ]
  },
  {
   "cell_type": "code",
   "execution_count": null,
   "metadata": {
    "Collapsed": "false"
   },
   "outputs": [],
   "source": [
    "sample = new_non_dups.sample(1)\n",
    "\n",
    "print('Left\\n', specs_df.loc[sample.left_spec_id].page_title_stem.values[0])\n",
    "print('')\n",
    "print('Right\\n', specs_df.loc[sample.right_spec_id].page_title_stem.values[0])"
   ]
  },
  {
   "cell_type": "markdown",
   "metadata": {
    "Collapsed": "false"
   },
   "source": [
    "# Test pipeline"
   ]
  },
  {
   "cell_type": "code",
   "execution_count": 40,
   "metadata": {
    "Collapsed": "false"
   },
   "outputs": [],
   "source": [
    "from sigmod_src.pipeline import LGBMPipeline"
   ]
  },
  {
   "cell_type": "code",
   "execution_count": 41,
   "metadata": {
    "Collapsed": "false"
   },
   "outputs": [],
   "source": [
    "model = LGBMPipeline(specs_df, labels_df)"
   ]
  },
  {
   "cell_type": "code",
   "execution_count": 42,
   "metadata": {
    "Collapsed": "false"
   },
   "outputs": [
    {
     "data": {
      "text/plain": [
       "array([1, 0, 0, ..., 0, 0, 0])"
      ]
     },
     "execution_count": 42,
     "metadata": {},
     "output_type": "execute_result"
    }
   ],
   "source": [
    "model.labels"
   ]
  },
  {
   "cell_type": "code",
   "execution_count": 46,
   "metadata": {
    "Collapsed": "false"
   },
   "outputs": [
    {
     "name": "stderr",
     "output_type": "stream",
     "text": [
      "1264it [00:00, 4978.09it/s]\n",
      "100%|██████████| 41/41 [01:27<00:00,  2.14s/it]\n"
     ]
    }
   ],
   "source": [
    "model.precompute()"
   ]
  },
  {
   "cell_type": "code",
   "execution_count": 47,
   "metadata": {
    "Collapsed": "false"
   },
   "outputs": [
    {
     "data": {
      "text/plain": [
       "(2, 21)"
      ]
     },
     "execution_count": 47,
     "metadata": {},
     "output_type": "execute_result"
    }
   ],
   "source": [
    "x = model.make_X([0, 2], [1, 3])\n",
    "x.shape"
   ]
  },
  {
   "cell_type": "code",
   "execution_count": 25,
   "metadata": {
    "Collapsed": "false"
   },
   "outputs": [],
   "source": [
    "train_left_spec_idx = model.specs_id_to_idx[labels_df['left_spec_id']]\n",
    "train_right_spec_idx = model.specs_id_to_idx[labels_df['right_spec_id']]\n",
    "\n",
    "train_X = model.make_X(train_left_spec_idx, train_right_spec_idx)\n",
    "\n",
    "assert train_X.shape[0] == labels_df.shape[0]"
   ]
  },
  {
   "cell_type": "code",
   "execution_count": 48,
   "metadata": {
    "Collapsed": "false"
   },
   "outputs": [
    {
     "name": "stdout",
     "output_type": "stream",
     "text": [
      "Precomputing\n",
      "Making features\n",
      "Making features for additional_labels\n",
      "Fitting model\n"
     ]
    }
   ],
   "source": [
    "model.train(precompute=False)"
   ]
  },
  {
   "cell_type": "code",
   "execution_count": 51,
   "metadata": {
    "Collapsed": "false"
   },
   "outputs": [
    {
     "name": "stdout",
     "output_type": "stream",
     "text": [
      "Train F1 0.9903225080458219\n",
      "              precision    recall  f1-score   support\n",
      "\n",
      "           0       1.00      1.00      1.00    253612\n",
      "           1       0.98      1.00      0.99     44039\n",
      "\n",
      "    accuracy                           1.00    297651\n",
      "   macro avg       0.99      1.00      0.99    297651\n",
      "weighted avg       1.00      1.00      1.00    297651\n",
      "\n"
     ]
    }
   ],
   "source": [
    "pred_train = model.clf.predict(model.train_X)\n",
    "\n",
    "print('Train F1', f1_score(labels_df.label, pred_train))\n",
    "print(classification_report(labels_df.label, pred_train))"
   ]
  },
  {
   "cell_type": "markdown",
   "metadata": {
    "Collapsed": "false"
   },
   "source": [
    "Sanity check passed"
   ]
  },
  {
   "cell_type": "markdown",
   "metadata": {
    "Collapsed": "false",
    "toc-hr-collapsed": true,
    "toc-nb-collapsed": true
   },
   "source": [
    "# Feature importance"
   ]
  },
  {
   "cell_type": "code",
   "execution_count": 37,
   "metadata": {
    "Collapsed": "false"
   },
   "outputs": [],
   "source": [
    "import shap"
   ]
  },
  {
   "cell_type": "code",
   "execution_count": 38,
   "metadata": {
    "Collapsed": "false"
   },
   "outputs": [],
   "source": [
    "explainer = shap.TreeExplainer(model.clf)"
   ]
  },
  {
   "cell_type": "code",
   "execution_count": 40,
   "metadata": {
    "Collapsed": "false"
   },
   "outputs": [],
   "source": [
    "shap_values = explainer.shap_values(model.train_X)"
   ]
  },
  {
   "cell_type": "code",
   "execution_count": 42,
   "metadata": {
    "Collapsed": "false"
   },
   "outputs": [],
   "source": [
    "feature_names = model.feature_names"
   ]
  },
  {
   "cell_type": "code",
   "execution_count": 43,
   "metadata": {
    "Collapsed": "false"
   },
   "outputs": [
    {
     "data": {
      "image/png": "[encoded data removed]",
      "text/plain": [
       "<Figure size 576x684 with 1 Axes>"
      ]
     },
     "metadata": {},
     "output_type": "display_data"
    }
   ],
   "source": [
    "shap.summary_plot(shap_values, model.train_X, plot_type=\"bar\", feature_names=feature_names)"
   ]
  },
  {
   "cell_type": "markdown",
   "metadata": {
    "Collapsed": "false"
   },
   "source": [
    "# Submit"
   ]
  },
  {
   "cell_type": "code",
   "execution_count": 52,
   "metadata": {
    "Collapsed": "false"
   },
   "outputs": [
    {
     "name": "stderr",
     "output_type": "stream",
     "text": [
      "100%|██████████| 62/62 [17:07<00:00, 16.57s/it] \n"
     ]
    }
   ],
   "source": [
    "model.make_submission()"
   ]
  },
  {
   "cell_type": "code",
   "execution_count": 53,
   "metadata": {
    "Collapsed": "false"
   },
   "outputs": [
    {
     "data": {
      "text/plain": [
       "(1059721, 2)"
      ]
     },
     "execution_count": 53,
     "metadata": {},
     "output_type": "execute_result"
    }
   ],
   "source": [
    "submit_df = pd.read_csv('../data/submit/submit.csv')\n",
    "submit_df.shape"
   ]
  },
  {
   "cell_type": "code",
   "execution_count": 54,
   "metadata": {
    "Collapsed": "false"
   },
   "outputs": [],
   "source": [
    "specs_df.index = specs_df.spec_id"
   ]
  },
  {
   "cell_type": "code",
   "execution_count": 64,
   "metadata": {
    "Collapsed": "false"
   },
   "outputs": [
    {
     "name": "stdout",
     "output_type": "stream",
     "text": [
      "Left\n",
      " 700tvl effio-e digital cctv 42 pieces ir-led security waterproof bullet digital waterproof cctv security waterproof bullet waterproof bullet alibaba com\n",
      "\n",
      "Right\n",
      " high quality array led ir digital color ccd 700tvl cctv sony color ccd chip ir digital color ccd digital color cctv cctv 700tvl alibaba com\n"
     ]
    }
   ],
   "source": [
    "row = submit_df.sample(1)\n",
    "\n",
    "print('Left\\n', specs_df.loc[row.left_spec_id].page_title.values[0])\n",
    "print('')\n",
    "print('Right\\n', specs_df.loc[row.right_spec_id].page_title.values[0])"
   ]
  },
  {
   "cell_type": "markdown",
   "metadata": {
    "Collapsed": "false"
   },
   "source": [
    "# CV"
   ]
  },
  {
   "cell_type": "code",
   "execution_count": 65,
   "metadata": {
    "Collapsed": "false"
   },
   "outputs": [],
   "source": [
    "def get_split(classes_df, labels_df, test_classes=5):\n",
    "    classes = classes_df.class_.unique()\n",
    "    test_classes = np.random.choice(classes, test_classes)\n",
    "    \n",
    "    test_spec_ids = classes_df[classes_df.class_.isin(test_classes)].spec_id\n",
    "    \n",
    "    test_label_mask = labels_df.left_spec_id.isin(test_spec_ids) | labels_df.right_spec_id.isin(test_spec_ids)\n",
    "    \n",
    "    test_idx = np.array(labels_df[test_label_mask].index)\n",
    "    train_idx = np.array(labels_df[~test_label_mask].index)\n",
    "    \n",
    "    return train_idx, test_idx\n",
    "\n",
    "def evaluate_submit(submit_df, test_labels_df):\n",
    "    submit_df = submit_df.copy()\n",
    "    submit_df['label'] = 1\n",
    "    \n",
    "    merged = test_labels_df.merge(submit_df, on=['left_spec_id', 'right_spec_id'], how='left', suffixes = ('_true', '_pred'))\n",
    "    merged['label_pred'] = merged['label_pred'].fillna(0)\n",
    "    \n",
    "    tp = merged[(merged.label_true == 1) & (merged.label_pred == 1)]\n",
    "    tn = merged[(merged.label_true == 0) & (merged.label_pred == 0)]\n",
    "    \n",
    "    fp = merged[(merged.label_true == 0) & (merged.label_pred == 1)]\n",
    "    fn = merged[(merged.label_true == 1) & (merged.label_pred == 0)]\n",
    "    \n",
    "    precision = tp.shape[0]/(tp.shape[0]+fp.shape[0])\n",
    "    recall = tp.shape[0]/(tp.shape[0]+fn.shape[0])\n",
    "    \n",
    "    f1 = 2 * (precision * recall)/(precision+recall)\n",
    "    \n",
    "    return f1, tp, tn, fp, fn\n",
    "\n",
    "def cross_validate_pipeline(pipeline_class, specs_df, labels_df, n_folds=5, test_classes=5):\n",
    "    # Obtain triangles from label and number them\n",
    "    classes_df = make_classes_df(labels_df)\n",
    "    folds = []\n",
    "    submit_fpaths = []\n",
    "    scores = []\n",
    "    for i_fold in tqdm(range(n_folds)):\n",
    "        print('Fold', i_fold)\n",
    "        labels_train_idx, labels_test_idx = get_split(classes_df, labels_df, test_classes=test_classes)\n",
    "        folds.append( (labels_train_idx, labels_test_idx) )\n",
    "        \n",
    "        train_labels = labels_df.iloc[labels_train_idx].copy()\n",
    "        test_labels = labels_df.iloc[labels_test_idx].copy()\n",
    "        \n",
    "        submit_fpath = f'../data/interim/cv_submit_fold{i_fold}.csv'\n",
    "        submit_fpaths.append(submit_fpath)\n",
    "        \n",
    "        model = pipeline_class(specs_df, train_labels, submit_fpath=submit_fpath)\n",
    "        print('training model')\n",
    "        model.train()\n",
    "        \n",
    "        print('generating submit')\n",
    "        model.make_submission()\n",
    "        \n",
    "        print('evaluating submit')\n",
    "        f1score, _, _, _, _ = evaluate_submit(pd.read_csv(model.submit_fpath), test_labels)\n",
    "        scores.append(f1score)\n",
    "        print('Score', f1score)\n",
    "    return folds, submit_fpaths, scores"
   ]
  },
  {
   "cell_type": "code",
   "execution_count": null,
   "metadata": {
    "Collapsed": "false"
   },
   "outputs": [
    {
     "data": {
      "application/vnd.jupyter.widget-view+json": {
       "model_id": "af3eaa4dfbf746ef8a925ae799d2a778",
       "version_major": 2,
       "version_minor": 0
      },
      "text/html": [
       "<p>Failed to display Jupyter Widget of type <code>HBox</code>.</p>\n",
       "<p>\n",
       "  If you're reading this message in the Jupyter Notebook or JupyterLab Notebook, it may mean\n",
       "  that the widgets JavaScript is still loading. If this message persists, it\n",
       "  likely means that the widgets JavaScript library is either not installed or\n",
       "  not enabled. See the <a href=\"https://ipywidgets.readthedocs.io/en/stable/user_install.html\">Jupyter\n",
       "  Widgets Documentation</a> for setup instructions.\n",
       "</p>\n",
       "<p>\n",
       "  If you're reading this message in another frontend (for example, a static\n",
       "  rendering on GitHub or <a href=\"https://nbviewer.jupyter.org/\">NBViewer</a>),\n",
       "  it may mean that your frontend doesn't currently support widgets.\n",
       "</p>\n"
      ],
      "text/plain": [
       "HBox(children=(IntProgress(value=0, max=3), HTML(value='')))"
      ]
     },
     "metadata": {},
     "output_type": "display_data"
    },
    {
     "name": "stdout",
     "output_type": "stream",
     "text": [
      "Fold 0\n",
      "training model\n",
      "Precomputing\n"
     ]
    },
    {
     "name": "stderr",
     "output_type": "stream",
     "text": [
      "\n",
      "\n",
      "0it [00:00, ?it/s]\u001b[A\u001b[A\n",
      "\n",
      "91it [00:00, 873.75it/s]\u001b[A\u001b[A\n",
      "\n",
      "287it [00:00, 1047.79it/s]\u001b[A\u001b[A\n",
      "\n",
      "559it [00:00, 1284.68it/s]\u001b[A\u001b[A\n",
      "\n",
      "960it [00:00, 1613.46it/s]\u001b[A\u001b[A\n",
      "\n",
      "1264it [00:00, 2607.95it/s]\u001b[A\u001b[A\n",
      "\n",
      "  0%|          | 0/41 [00:00<?, ?it/s]\u001b[A\u001b[A\n",
      "\n",
      " 10%|▉         | 4/41 [00:11<01:43,  2.79s/it]\u001b[A\u001b[A\n",
      "\n",
      " 12%|█▏        | 5/41 [00:11<01:15,  2.11s/it]\u001b[A\u001b[A\n",
      "\n",
      " 34%|███▍      | 14/41 [00:20<00:48,  1.78s/it]\u001b[A\u001b[A\n",
      "\n",
      " 46%|████▋     | 19/41 [00:27<00:36,  1.65s/it]\u001b[A\u001b[A\n",
      "\n",
      " 59%|█████▊    | 24/41 [00:37<00:29,  1.76s/it]\u001b[A\u001b[A\n",
      "\n",
      " 61%|██████    | 25/41 [00:44<00:51,  3.25s/it]\u001b[A\u001b[A\n",
      "\n",
      " 63%|██████▎   | 26/41 [00:50<01:01,  4.13s/it]\u001b[A\u001b[A\n",
      "\n",
      " 66%|██████▌   | 27/41 [00:51<00:45,  3.24s/it]\u001b[A\u001b[A\n",
      "\n",
      " 71%|███████   | 29/41 [00:51<00:27,  2.29s/it]\u001b[A\u001b[A\n",
      "\n",
      " 78%|███████▊  | 32/41 [00:55<00:17,  1.99s/it]\u001b[A\u001b[A\n",
      "\n",
      " 80%|████████  | 33/41 [00:55<00:11,  1.43s/it]\u001b[A\u001b[A\n",
      "\n",
      " 93%|█████████▎| 38/41 [01:43<00:11,  3.83s/it]\u001b[A\u001b[A\n",
      "\n",
      " 98%|█████████▊| 40/41 [01:43<00:02,  2.72s/it]\u001b[A\u001b[A\n",
      "\n",
      "100%|██████████| 41/41 [01:43<00:00,  2.52s/it]\u001b[A\u001b[A"
     ]
    },
    {
     "name": "stdout",
     "output_type": "stream",
     "text": [
      "Making features\n",
      "Making features for additional_labels\n",
      "Fitting model\n"
     ]
    },
    {
     "name": "stderr",
     "output_type": "stream",
     "text": [
      "\n",
      "\n",
      "  0%|          | 0/62 [00:00<?, ?it/s]\u001b[A\u001b[A"
     ]
    },
    {
     "name": "stdout",
     "output_type": "stream",
     "text": [
      "generating submit\n"
     ]
    },
    {
     "name": "stderr",
     "output_type": "stream",
     "text": [
      "\n",
      "\n",
      "  2%|▏         | 1/62 [00:01<01:04,  1.07s/it]\u001b[A\u001b[A\n",
      "\n",
      "  8%|▊         | 5/62 [08:12<35:44, 37.62s/it]\u001b[A\u001b[A\n",
      "\n",
      " 10%|▉         | 6/62 [08:14<25:00, 26.80s/it]\u001b[A\u001b[A\n",
      "\n",
      " 15%|█▍        | 9/62 [08:14<16:35, 18.78s/it]\u001b[A\u001b[A\n",
      "\n",
      " 23%|██▎       | 14/62 [08:14<10:31, 13.15s/it]\u001b[A\u001b[A\n",
      "\n",
      " 23%|██▎       | 14/62 [08:30<10:31, 13.15s/it]\u001b[A\u001b[A\n",
      "\n",
      " 26%|██▌       | 16/62 [09:18<14:23, 18.77s/it]\u001b[A\u001b[A\n",
      "\n",
      " 31%|███       | 19/62 [09:20<09:35, 13.37s/it]\u001b[A\u001b[A\n",
      "\n",
      " 39%|███▊      | 24/62 [09:30<06:17,  9.92s/it]\u001b[A\u001b[A\n",
      "\n",
      " 42%|████▏     | 26/62 [09:30<04:12,  7.02s/it]\u001b[A\u001b[A\n",
      "\n",
      " 53%|█████▎    | 33/62 [09:30<02:22,  4.92s/it]\u001b[A\u001b[A\n",
      "\n",
      " 53%|█████▎    | 33/62 [09:42<02:22,  4.92s/it]\u001b[A\u001b[A\n",
      "\n",
      " 55%|█████▍    | 34/62 [12:28<26:29, 56.76s/it]\u001b[A\u001b[A\n",
      "\n",
      " 56%|█████▋    | 35/62 [13:01<22:17, 49.55s/it]\u001b[A\u001b[A\n",
      "\n",
      " 60%|█████▉    | 37/62 [13:31<16:21, 39.26s/it]\u001b[A\u001b[A\n",
      "\n",
      " 61%|██████▏   | 38/62 [13:37<11:42, 29.26s/it]\u001b[A\u001b[A\n",
      "\n",
      " 65%|██████▍   | 40/62 [13:37<07:31, 20.52s/it]\u001b[A\u001b[A\n",
      "\n",
      " 68%|██████▊   | 42/62 [13:37<04:47, 14.38s/it]\u001b[A\u001b[A\n",
      "\n",
      " 71%|███████   | 44/62 [13:56<03:52, 12.90s/it]\u001b[A\u001b[A\n",
      "\n",
      " 79%|███████▉  | 49/62 [13:56<01:57,  9.04s/it]\u001b[A\u001b[A\n",
      "\n",
      " 82%|████████▏ | 51/62 [17:46<07:28, 40.74s/it]\u001b[A\u001b[A\n",
      "\n",
      " 95%|█████████▌| 59/62 [17:47<01:25, 28.54s/it]\u001b[A\u001b[A\n",
      "\n",
      "100%|██████████| 62/62 [17:47<00:00, 17.21s/it]\u001b[A\u001b[A"
     ]
    },
    {
     "name": "stdout",
     "output_type": "stream",
     "text": [
      "evaluating submit\n",
      "Score 0.7666666666666667\n",
      "Fold 1\n",
      "training model\n",
      "Precomputing\n"
     ]
    },
    {
     "name": "stderr",
     "output_type": "stream",
     "text": [
      "\n",
      "\n",
      "0it [00:00, ?it/s]\u001b[A\u001b[A\n",
      "\n",
      "470it [00:00, 4683.89it/s]\u001b[A\u001b[A\n",
      "\n",
      "1119it [00:00, 5109.77it/s]\u001b[A\u001b[A\n",
      "\n",
      "1264it [00:00, 5634.71it/s]\u001b[A\u001b[A\n",
      "\n",
      "  0%|          | 0/41 [00:00<?, ?it/s]\u001b[A\u001b[A\n",
      "\n",
      " 10%|▉         | 4/41 [00:09<01:30,  2.44s/it]\u001b[A\u001b[A\n",
      "\n",
      " 12%|█▏        | 5/41 [00:10<01:06,  1.85s/it]\u001b[A\u001b[A\n",
      "\n",
      " 34%|███▍      | 14/41 [00:18<00:42,  1.56s/it]\u001b[A\u001b[A\n",
      "\n",
      " 46%|████▋     | 19/41 [00:24<00:32,  1.48s/it]\u001b[A\u001b[A\n",
      "\n",
      " 59%|█████▊    | 24/41 [00:35<00:28,  1.65s/it]\u001b[A\u001b[A\n",
      "\n",
      " 61%|██████    | 25/41 [00:42<00:52,  3.28s/it]\u001b[A\u001b[A\n",
      "\n",
      " 63%|██████▎   | 26/41 [00:49<01:06,  4.42s/it]\u001b[A\u001b[A\n",
      "\n",
      " 66%|██████▌   | 27/41 [00:50<00:47,  3.38s/it]\u001b[A\u001b[A\n",
      "\n",
      " 71%|███████   | 29/41 [00:50<00:28,  2.39s/it]\u001b[A\u001b[A\n",
      "\n",
      " 78%|███████▊  | 32/41 [00:53<00:18,  2.03s/it]\u001b[A\u001b[A\n",
      "\n",
      " 93%|█████████▎| 38/41 [01:29<00:09,  3.20s/it]\u001b[A\u001b[A\n",
      "\n",
      " 98%|█████████▊| 40/41 [01:29<00:02,  2.26s/it]\u001b[A\u001b[A\n",
      "\n",
      "100%|██████████| 41/41 [01:29<00:00,  2.19s/it]\u001b[A\u001b[A"
     ]
    },
    {
     "name": "stdout",
     "output_type": "stream",
     "text": [
      "Making features\n",
      "Making features for additional_labels\n",
      "Fitting model\n"
     ]
    },
    {
     "name": "stderr",
     "output_type": "stream",
     "text": [
      "\n",
      "\n",
      "  0%|          | 0/62 [00:00<?, ?it/s]\u001b[A\u001b[A"
     ]
    },
    {
     "name": "stdout",
     "output_type": "stream",
     "text": [
      "generating submit\n"
     ]
    },
    {
     "name": "stderr",
     "output_type": "stream",
     "text": [
      "\n",
      "\n",
      "  2%|▏         | 1/62 [00:00<00:49,  1.23it/s]\u001b[A\u001b[A\n",
      "\n",
      "  8%|▊         | 5/62 [11:23<49:10, 51.77s/it]\u001b[A\u001b[A\n",
      "\n",
      " 10%|▉         | 6/62 [11:24<34:02, 36.47s/it]\u001b[A\u001b[A\n",
      "\n",
      " 26%|██▌       | 16/62 [12:03<20:29, 26.72s/it]\u001b[A\u001b[A\n",
      "\n",
      " 31%|███       | 19/62 [12:05<13:29, 18.82s/it]\u001b[A\u001b[A\n",
      "\n",
      " 39%|███▊      | 24/62 [12:13<08:39, 13.66s/it]\u001b[A\u001b[A\n",
      "\n",
      " 42%|████▏     | 26/62 [12:13<05:46,  9.63s/it]\u001b[A\u001b[A\n",
      "\n",
      " 55%|█████▍    | 34/62 [14:35<05:38, 12.08s/it]\u001b[A\u001b[A\n",
      "\n",
      " 56%|█████▋    | 35/62 [15:19<09:41, 21.53s/it]\u001b[A\u001b[A\n",
      "\n",
      " 60%|█████▉    | 37/62 [15:56<08:34, 20.56s/it]\u001b[A\u001b[A\n",
      "\n",
      " 61%|██████▏   | 38/62 [16:03<06:37, 16.54s/it]\u001b[A\u001b[A\n",
      "\n",
      " 65%|██████▍   | 40/62 [16:03<04:15, 11.62s/it]\u001b[A\u001b[A\n",
      "\n",
      " 68%|██████▊   | 42/62 [16:03<02:43,  8.16s/it]\u001b[A\u001b[A\n",
      "\n",
      " 71%|███████   | 44/62 [16:27<02:48,  9.35s/it]\u001b[A\u001b[A\n",
      "\n",
      " 79%|███████▉  | 49/62 [16:28<01:25,  6.56s/it]\u001b[A\u001b[A\n",
      "\n",
      " 82%|████████▏ | 51/62 [20:19<07:12, 39.36s/it]\u001b[A\u001b[A\n",
      "\n",
      " 85%|████████▌ | 53/62 [20:20<04:08, 27.57s/it]\u001b[A\u001b[A\n",
      "\n",
      " 95%|█████████▌| 59/62 [20:20<00:57, 19.33s/it]\u001b[A\u001b[A\n",
      "\n",
      "100%|██████████| 62/62 [20:20<00:00, 19.69s/it]\u001b[A\u001b[A"
     ]
    },
    {
     "name": "stdout",
     "output_type": "stream",
     "text": [
      "evaluating submit\n",
      "Score 0.57703081232493\n",
      "Fold 2\n"
     ]
    },
    {
     "name": "stderr",
     "output_type": "stream",
     "text": [
      "\n",
      "\n",
      "0it [00:00, ?it/s]\u001b[A\u001b[A"
     ]
    },
    {
     "name": "stdout",
     "output_type": "stream",
     "text": [
      "training model\n",
      "Precomputing\n"
     ]
    },
    {
     "name": "stderr",
     "output_type": "stream",
     "text": [
      "\n",
      "\n",
      "352it [00:00, 3515.30it/s]\u001b[A\u001b[A\n",
      "\n",
      "705it [00:00, 3518.78it/s]\u001b[A\u001b[A\n",
      "\n",
      "1147it [00:00, 3746.52it/s]\u001b[A\u001b[A\n",
      "\n",
      "1264it [00:00, 3841.01it/s]\u001b[A\u001b[A\n",
      "\n",
      "  0%|          | 0/41 [00:00<?, ?it/s]\u001b[A\u001b[A\n",
      "\n",
      " 10%|▉         | 4/41 [00:11<01:49,  2.95s/it]\u001b[A\u001b[A\n",
      "\n",
      " 12%|█▏        | 5/41 [00:12<01:19,  2.22s/it]\u001b[A\u001b[A\n",
      "\n",
      " 34%|███▍      | 14/41 [00:20<00:49,  1.83s/it]\u001b[A\u001b[A\n",
      "\n",
      " 46%|████▋     | 19/41 [00:26<00:36,  1.65s/it]\u001b[A\u001b[A\n",
      "\n",
      " 59%|█████▊    | 24/41 [00:36<00:29,  1.72s/it]\u001b[A\u001b[A\n",
      "\n",
      " 61%|██████    | 25/41 [00:45<01:03,  3.97s/it]\u001b[A\u001b[A\n",
      "\n",
      " 63%|██████▎   | 26/41 [00:52<01:12,  4.83s/it]\u001b[A\u001b[A\n",
      "\n",
      " 66%|██████▌   | 27/41 [00:53<00:51,  3.66s/it]\u001b[A\u001b[A\n",
      "\n",
      " 71%|███████   | 29/41 [00:53<00:31,  2.59s/it]\u001b[A\u001b[A\n",
      "\n",
      " 78%|███████▊  | 32/41 [00:57<00:19,  2.17s/it]\u001b[A\u001b[A\n",
      "\n",
      " 80%|████████  | 33/41 [00:57<00:12,  1.56s/it]\u001b[A\u001b[A\n",
      "\n",
      " 93%|█████████▎| 38/41 [01:31<00:09,  3.13s/it]\u001b[A\u001b[A\n",
      "\n",
      " 98%|█████████▊| 40/41 [01:31<00:02,  2.21s/it]\u001b[A\u001b[A\n",
      "\n",
      "100%|██████████| 41/41 [01:31<00:00,  2.23s/it]\u001b[A\u001b[A"
     ]
    },
    {
     "name": "stdout",
     "output_type": "stream",
     "text": [
      "Making features\n",
      "Making features for additional_labels\n",
      "Fitting model\n"
     ]
    },
    {
     "name": "stderr",
     "output_type": "stream",
     "text": [
      "\n",
      "\n",
      "  0%|          | 0/62 [00:00<?, ?it/s]\u001b[A\u001b[A"
     ]
    },
    {
     "name": "stdout",
     "output_type": "stream",
     "text": [
      "generating submit\n"
     ]
    },
    {
     "name": "stderr",
     "output_type": "stream",
     "text": [
      "\n",
      "\n",
      "  2%|▏         | 1/62 [00:00<00:51,  1.18it/s]\u001b[A\u001b[A"
     ]
    }
   ],
   "source": [
    "# np.random.seed(42)\n",
    "np.random.seed(None)\n",
    "folds, submit_fpaths, scores = cross_validate_pipeline(LGBMPipeline, specs_df, labels_df, n_folds=3)"
   ]
  },
  {
   "cell_type": "code",
   "execution_count": null,
   "metadata": {
    "Collapsed": "false"
   },
   "outputs": [],
   "source": [
    "scores"
   ]
  },
  {
   "cell_type": "code",
   "execution_count": null,
   "metadata": {
    "Collapsed": "false"
   },
   "outputs": [],
   "source": [
    "np.mean(scores)"
   ]
  },
  {
   "cell_type": "markdown",
   "metadata": {
    "Collapsed": "false"
   },
   "source": [
    "## Test evaluation scheme"
   ]
  },
  {
   "cell_type": "code",
   "execution_count": null,
   "metadata": {
    "Collapsed": "false"
   },
   "outputs": [],
   "source": [
    "\n",
    "    \n",
    "    \n",
    "test_labels_df = labels_df.iloc[folds[0][1]]\n",
    "submit_df = pd.read_csv(submit_fpaths[0])\n",
    "\n",
    "score, tp, tn, fp, fn = evaluate_submit(submit_df, test_labels_df)\n",
    "score"
   ]
  },
  {
   "cell_type": "markdown",
   "metadata": {
    "Collapsed": "false"
   },
   "source": [
    "Test one true positive"
   ]
  },
  {
   "cell_type": "code",
   "execution_count": null,
   "metadata": {
    "Collapsed": "false"
   },
   "outputs": [],
   "source": [
    "tp.head()"
   ]
  },
  {
   "cell_type": "code",
   "execution_count": null,
   "metadata": {
    "Collapsed": "false"
   },
   "outputs": [],
   "source": [
    "test_labels_df[test_labels_df.label == 1][test_labels_df.left_spec_id == 'www.ebay.com//24206']"
   ]
  },
  {
   "cell_type": "code",
   "execution_count": null,
   "metadata": {
    "Collapsed": "false"
   },
   "outputs": [],
   "source": [
    "submit_df[(submit_df.left_spec_id == 'www.ebay.com//24206') & (submit_df.right_spec_id == 'www.priceme.co.nz//54')]"
   ]
  },
  {
   "cell_type": "markdown",
   "metadata": {
    "Collapsed": "false"
   },
   "source": [
    "Pass"
   ]
  },
  {
   "cell_type": "markdown",
   "metadata": {
    "Collapsed": "false"
   },
   "source": [
    "Check one tn"
   ]
  },
  {
   "cell_type": "code",
   "execution_count": null,
   "metadata": {
    "Collapsed": "false"
   },
   "outputs": [],
   "source": [
    "tn.head()"
   ]
  },
  {
   "cell_type": "code",
   "execution_count": null,
   "metadata": {
    "Collapsed": "false"
   },
   "outputs": [],
   "source": [
    "test_labels_df[test_labels_df.label == 0][test_labels_df.left_spec_id == 'www.ebay.com//42074'][test_labels_df.right_spec_id == 'www.ebay.com//47107']"
   ]
  },
  {
   "cell_type": "code",
   "execution_count": null,
   "metadata": {
    "Collapsed": "false"
   },
   "outputs": [],
   "source": [
    "submit_df[submit_df.left_spec_id == 'www.ebay.com//42074'][submit_df.right_spec_id == 'www.ebay.com//47107']"
   ]
  },
  {
   "cell_type": "markdown",
   "metadata": {
    "Collapsed": "false"
   },
   "source": [
    "Pass"
   ]
  },
  {
   "cell_type": "markdown",
   "metadata": {
    "Collapsed": "false"
   },
   "source": [
    "Check one fp"
   ]
  },
  {
   "cell_type": "code",
   "execution_count": null,
   "metadata": {
    "Collapsed": "false"
   },
   "outputs": [],
   "source": [
    "fp.head()"
   ]
  },
  {
   "cell_type": "code",
   "execution_count": null,
   "metadata": {
    "Collapsed": "false"
   },
   "outputs": [],
   "source": [
    "test_labels_df[test_labels_df.label == 0][test_labels_df.left_spec_id == 'www.ebay.com//42074'][test_labels_df.right_spec_id == 'www.ebay.com//54040']"
   ]
  },
  {
   "cell_type": "code",
   "execution_count": null,
   "metadata": {
    "Collapsed": "false"
   },
   "outputs": [],
   "source": [
    "submit_df[submit_df.left_spec_id == 'www.ebay.com//42074'][submit_df.right_spec_id == 'www.ebay.com//54040']"
   ]
  },
  {
   "cell_type": "markdown",
   "metadata": {
    "Collapsed": "false"
   },
   "source": [
    "Pass"
   ]
  },
  {
   "cell_type": "markdown",
   "metadata": {
    "Collapsed": "false"
   },
   "source": [
    "Check one fn"
   ]
  },
  {
   "cell_type": "code",
   "execution_count": null,
   "metadata": {
    "Collapsed": "false"
   },
   "outputs": [],
   "source": [
    "fn.head()"
   ]
  },
  {
   "cell_type": "code",
   "execution_count": null,
   "metadata": {
    "Collapsed": "false"
   },
   "outputs": [],
   "source": [
    "test_labels_df[test_labels_df.label == 1][test_labels_df.left_spec_id == 'www.ebay.com//54040'][test_labels_df.right_spec_id == 'www.ebay.com//54457']"
   ]
  },
  {
   "cell_type": "code",
   "execution_count": null,
   "metadata": {
    "Collapsed": "false"
   },
   "outputs": [],
   "source": [
    "submit_df[submit_df.left_spec_id == 'www.ebay.com//54040'][submit_df.right_spec_id == 'www.ebay.com//54457']"
   ]
  },
  {
   "cell_type": "markdown",
   "metadata": {
    "Collapsed": "false"
   },
   "source": [
    "pass"
   ]
  },
  {
   "cell_type": "code",
   "execution_count": null,
   "metadata": {
    "Collapsed": "false"
   },
   "outputs": [],
   "source": []
  },
  {
   "cell_type": "code",
   "execution_count": null,
   "metadata": {
    "Collapsed": "false"
   },
   "outputs": [],
   "source": []
  }
 ],
 "metadata": {
  "kernelspec": {
   "display_name": "Python 3",
   "language": "python",
   "name": "python3"
  },
  "language_info": {
   "codemirror_mode": {
    "name": "ipython",
    "version": 3
   },
   "file_extension": ".py",
   "mimetype": "text/x-python",
   "name": "python",
   "nbconvert_exporter": "python",
   "pygments_lexer": "ipython3",
   "version": "3.6.7"
  }
 },
 "nbformat": 4,
 "nbformat_minor": 4
}
