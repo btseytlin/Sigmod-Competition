{
 "cells": [
  {
   "cell_type": "code",
   "execution_count": 1,
   "metadata": {
    "Collapsed": "false"
   },
   "outputs": [],
   "source": [
    "import os\n",
    "import sys\n",
    "import random\n",
    "import json\n",
    "import collections\n",
    "import re\n",
    "from itertools import combinations\n",
    "\n",
    "import pandas as pd\n",
    "import numpy as np\n",
    "import scipy\n",
    "import statsmodels\n",
    "from tqdm import trange, tqdm_notebook as tqdm\n",
    "\n",
    "from sklearn.model_selection import train_test_split\n",
    "from sklearn.metrics import f1_score, classification_report\n",
    "from lightgbm import LGBMClassifier\n",
    "\n",
    "from matplotlib import pyplot as plt\n",
    "import seaborn as sns\n",
    "%matplotlib inline\n",
    "\n",
    "\n",
    "pd.options.display.max_columns = 999\n",
    "\n",
    "pd.options.display.max_rows = 100\n",
    "\n",
    "sns.set()\n",
    "plt.rcParams[\"figure.figsize\"] = (10,7)"
   ]
  },
  {
   "cell_type": "code",
   "execution_count": 2,
   "metadata": {
    "Collapsed": "false"
   },
   "outputs": [],
   "source": [
    "%load_ext autoreload\n",
    "%autoreload 2"
   ]
  },
  {
   "cell_type": "code",
   "execution_count": 3,
   "metadata": {
    "Collapsed": "false"
   },
   "outputs": [],
   "source": [
    "from sigmod_src.make_dataset import make_specs_dataset\n",
    "from sigmod_src.preprocessing import preprocess_specs_dataset\n",
    "from sigmod_src.pipeline import LGBMPipeline\n",
    "from sigmod_src.utils import get_additional_labels, make_classes_df"
   ]
  },
  {
   "cell_type": "code",
   "execution_count": 4,
   "metadata": {
    "Collapsed": "false"
   },
   "outputs": [],
   "source": [
    "LG_LABELS_PATH = '../data/raw/sigmod_large_labelled_dataset.csv'\n",
    "SPECS_PATH = '../data/raw/2013_camera_specs/'"
   ]
  },
  {
   "cell_type": "markdown",
   "metadata": {
    "Collapsed": "false"
   },
   "source": [
    "# Load labels df"
   ]
  },
  {
   "cell_type": "code",
   "execution_count": 5,
   "metadata": {
    "Collapsed": "false"
   },
   "outputs": [
    {
     "data": {
      "text/plain": [
       "(297651, 3)"
      ]
     },
     "execution_count": 5,
     "metadata": {},
     "output_type": "execute_result"
    }
   ],
   "source": [
    "labels_df = pd.read_csv(LG_LABELS_PATH)\n",
    "labels_df.shape"
   ]
  },
  {
   "cell_type": "markdown",
   "metadata": {
    "Collapsed": "false"
   },
   "source": [
    "# Load specs df"
   ]
  },
  {
   "cell_type": "code",
   "execution_count": 6,
   "metadata": {
    "Collapsed": "false"
   },
   "outputs": [],
   "source": [
    "specs_dataset_src = make_specs_dataset(SPECS_PATH)"
   ]
  },
  {
   "cell_type": "code",
   "execution_count": 7,
   "metadata": {
    "Collapsed": "false"
   },
   "outputs": [
    {
     "data": {
      "text/plain": [
       "(29787, 7)"
      ]
     },
     "execution_count": 543,
     "metadata": {},
     "output_type": "execute_result"
    }
   ],
   "source": [
    "specs_dataset_src.shape"
   ]
  },
  {
   "cell_type": "code",
   "execution_count": 544,
   "metadata": {
    "Collapsed": "false"
   },
   "outputs": [
    {
     "name": "stdout",
     "output_type": "stream",
     "text": [
      "Dropping 87 known non-camera brand specs\n",
      "Dropping 2296 camera bag specs\n",
      "Dropping 4006 cctv specs\n",
      "Warning, dropped 9 rows containing null page titles\n"
     ]
    }
   ],
   "source": [
    "specs_df = preprocess_specs_dataset(specs_dataset_src)"
   ]
  },
  {
   "cell_type": "code",
   "execution_count": 8,
   "metadata": {
    "Collapsed": "false"
   },
   "outputs": [
    {
     "data": {
      "text/plain": [
       "(23389, 10)"
      ]
     },
     "execution_count": 545,
     "metadata": {},
     "output_type": "execute_result"
    }
   ],
   "source": [
    "specs_df.shape"
   ]
  },
  {
   "cell_type": "code",
   "execution_count": 547,
   "metadata": {
    "Collapsed": "false"
   },
   "outputs": [
    {
     "data": {
      "text/html": [
       "<div>\n",
       "<style scoped>\n",
       "    .dataframe tbody tr th:only-of-type {\n",
       "        vertical-align: middle;\n",
       "    }\n",
       "\n",
       "    .dataframe tbody tr th {\n",
       "        vertical-align: top;\n",
       "    }\n",
       "\n",
       "    .dataframe thead th {\n",
       "        text-align: right;\n",
       "    }\n",
       "</style>\n",
       "<table border=\"1\" class=\"dataframe\">\n",
       "  <thead>\n",
       "    <tr style=\"text-align: right;\">\n",
       "      <th></th>\n",
       "      <th>left_spec_id</th>\n",
       "      <th>right_spec_id</th>\n",
       "      <th>label</th>\n",
       "    </tr>\n",
       "  </thead>\n",
       "  <tbody>\n",
       "    <tr>\n",
       "      <th>0</th>\n",
       "      <td>www.ebay.com//45356</td>\n",
       "      <td>www.ebay.com//43231</td>\n",
       "      <td>1</td>\n",
       "    </tr>\n",
       "    <tr>\n",
       "      <th>1</th>\n",
       "      <td>www.ebay.com//46559</td>\n",
       "      <td>www.ebay.com//24325</td>\n",
       "      <td>1</td>\n",
       "    </tr>\n",
       "    <tr>\n",
       "      <th>2</th>\n",
       "      <td>www.ebay.com//53122</td>\n",
       "      <td>www.ebay.com//44489</td>\n",
       "      <td>1</td>\n",
       "    </tr>\n",
       "    <tr>\n",
       "      <th>3</th>\n",
       "      <td>www.ebay.com//53122</td>\n",
       "      <td>www.ebay.com//53584</td>\n",
       "      <td>1</td>\n",
       "    </tr>\n",
       "    <tr>\n",
       "      <th>4</th>\n",
       "      <td>www.ebay.com//53122</td>\n",
       "      <td>www.ebay.com//25103</td>\n",
       "      <td>1</td>\n",
       "    </tr>\n",
       "  </tbody>\n",
       "</table>\n",
       "</div>"
      ],
      "text/plain": [
       "          left_spec_id        right_spec_id  label\n",
       "0  www.ebay.com//45356  www.ebay.com//43231      1\n",
       "1  www.ebay.com//46559  www.ebay.com//24325      1\n",
       "2  www.ebay.com//53122  www.ebay.com//44489      1\n",
       "3  www.ebay.com//53122  www.ebay.com//53584      1\n",
       "4  www.ebay.com//53122  www.ebay.com//25103      1"
      ]
     },
     "execution_count": 11,
     "metadata": {},
     "output_type": "execute_result"
    }
   ],
   "source": [
    "new_dups = additional_labels[additional_labels.label==1]\n",
    "new_dups.head()"
   ]
  },
  {
   "cell_type": "code",
   "execution_count": 12,
   "metadata": {
    "Collapsed": "false"
   },
   "outputs": [
    {
     "data": {
      "text/plain": [
       "array([['www.ebay.com//58739',\n",
       "        'sealif reefmast dedic digit dive dc310 0077068411499',\n",
       "        'sealife', None, 'underwater'],\n",
       "       ['www.ebay.com//60523',\n",
       "        'aiptek pocketcam classic 0-3-mp digit 653886000994', 'aiptek',\n",
       "        None, 'point shoot'],\n",
       "       ['www.ebay.com//47827', 'olympus fe 46 12-0-mp digit pink',\n",
       "        'olympus', 'fe46', 'point shoot'],\n",
       "       ['www.ebay.com//52770', 'soni cyber shot dsc w70 7-2-mp digit',\n",
       "        'sony', 'dscw70', 'point shoot'],\n",
       "       ['www.ebay.com//54745',\n",
       "        'olympus fe 190 6-0-mp digit repair part charger', 'olympus',\n",
       "        'fe190', 'point shoot']], dtype=object)"
      ]
     },
     "execution_count": 564,
     "metadata": {},
     "output_type": "execute_result"
    }
   ],
   "source": [
    "sample = specs_df.sample(5)\n",
    "sample[['spec_id', 'page_title_stem', 'brand', 'model', 'type']].values"
   ]
  },
  {
   "cell_type": "code",
   "execution_count": 13,
   "metadata": {
    "Collapsed": "false"
   },
   "outputs": [
    {
     "data": {
      "text/plain": [
       "canon        5521\n",
       "nikon        4742\n",
       "sony         3035\n",
       "NaN          1628\n",
       "fujifilm     1510\n",
       "olympus      1451\n",
       "panasonic    1302\n",
       "samsung      1023\n",
       "kodak         765\n",
       "pentax        667\n",
       "Name: brand, dtype: int64"
      ]
     },
     "execution_count": 565,
     "metadata": {},
     "output_type": "execute_result"
    }
   ],
   "source": [
    "specs_df.brand.value_counts(dropna=False)[:10]"
   ]
  },
  {
   "cell_type": "code",
   "execution_count": 14,
   "metadata": {
    "Collapsed": "false"
   },
   "outputs": [
    {
     "data": {
      "text/plain": [
       "NaN      10135\n",
       "t3i        208\n",
       "d3200      193\n",
       "60d        170\n",
       "d3100      158\n",
       "d5200      145\n",
       "70d        139\n",
       "d5100      137\n",
       "d7000      137\n",
       "1100d      133\n",
       "Name: model, dtype: int64"
      ]
     },
     "execution_count": 566,
     "metadata": {},
     "output_type": "execute_result"
    }
   ],
   "source": [
    "specs_df.model.value_counts(dropna=False)[:10]"
   ]
  },
  {
   "cell_type": "code",
   "execution_count": 567,
   "metadata": {
    "Collapsed": "false"
   },
   "outputs": [
    {
     "data": {
      "text/plain": [
       "point shoot    7511\n",
       "NaN            6659\n",
       "dslr           5756\n",
       "compact        1340\n",
       "mirrorless     1104\n",
       "bridge          619\n",
       "underwater      400\n",
       "Name: type, dtype: int64"
      ]
     },
     "execution_count": 567,
     "metadata": {},
     "output_type": "execute_result"
    }
   ],
   "source": [
    "specs_df.type.value_counts(dropna=False)[:10]"
   ]
  },
  {
   "cell_type": "code",
   "execution_count": 568,
   "metadata": {
    "Collapsed": "false"
   },
   "outputs": [
    {
     "data": {
      "text/plain": [
       "NaN        5575\n",
       "16-mp      1016\n",
       "6-mp        993\n",
       "12-1-mp     881\n",
       "16-1-mp     822\n",
       "14-mp       763\n",
       "18-mp       744\n",
       "8-mp        696\n",
       "10-mp       665\n",
       "12-mp       644\n",
       "Name: megapixels, dtype: int64"
      ]
     },
     "execution_count": 568,
     "metadata": {},
     "output_type": "execute_result"
    }
   ],
   "source": [
    "specs_df.megapixels.value_counts(dropna=False)[:10]"
   ]
  },
  {
   "cell_type": "code",
   "execution_count": 569,
   "metadata": {
    "Collapsed": "false"
   },
   "outputs": [],
   "source": [
    "specs_df.to_csv('../data/processed/specs.csv', index=None)"
   ]
  },
  {
   "cell_type": "code",
   "execution_count": 15,
   "metadata": {
    "Collapsed": "false"
   },
   "outputs": [
    {
     "name": "stdout",
     "output_type": "stream",
     "text": [
      "Left\n",
      " nikon d50 6 1mp digit slr sigma apo 170 500mm telephoto len bundl\n",
      "\n",
      "Right\n",
      " seal nikon coolpix s31 10 1mp digit\n"
     ]
    }
   ],
   "source": [
    "sample = new_non_dups.sample(1)\n",
    "\n",
    "print('Left\\n', specs_df.loc[sample.left_spec_id].page_title_stem.values[0])\n",
    "print('')\n",
    "print('Right\\n', specs_df.loc[sample.right_spec_id].page_title_stem.values[0])"
   ]
  },
  {
   "cell_type": "markdown",
   "metadata": {
    "Collapsed": "false"
   },
   "source": [
    "# Test pipeline"
   ]
  },
  {
   "cell_type": "code",
   "execution_count": 18,
   "metadata": {
    "Collapsed": "false"
   },
   "outputs": [],
   "source": [
    "model = LGBMPipeline(specs_df, labels_df)"
   ]
  },
  {
   "cell_type": "code",
   "execution_count": 21,
   "metadata": {
    "Collapsed": "false"
   },
   "outputs": [
    {
     "name": "stderr",
     "output_type": "stream",
     "text": [
      "1272it [00:00, 5628.80it/s]\n",
      "100%|██████████| 43/43 [01:43<00:00,  2.40s/it]\n"
     ]
    }
   ],
   "source": [
    "model.precompute()"
   ]
  },
  {
   "cell_type": "code",
   "execution_count": 22,
   "metadata": {
    "Collapsed": "false"
   },
   "outputs": [
    {
     "ename": "NameError",
     "evalue": "name 'make_X' is not defined",
     "output_type": "error",
     "traceback": [
      "\u001b[0;31m---------------------------------------------------------------------------\u001b[0m",
      "\u001b[0;31mNameError\u001b[0m                                 Traceback (most recent call last)",
      "\u001b[0;32m<timed exec>\u001b[0m in \u001b[0;36m<module>\u001b[0;34m\u001b[0m\n",
      "\u001b[0;31mNameError\u001b[0m: name 'make_X' is not defined"
     ]
    }
   ],
   "source": [
    "%%time\n",
    "train_left_spec_idx = model.specs_id_to_idx[labels_df['left_spec_id']]\n",
    "train_right_spec_idx = model.specs_id_to_idx[labels_df['right_spec_id']]\n",
    "\n",
    "train_X = make_X(model, train_left_spec_idx, train_right_spec_idx)\n",
    "\n",
    "assert train_X.shape[0] == labels_df.shape[0]"
   ]
  },
  {
   "cell_type": "code",
   "execution_count": null,
   "metadata": {
    "Collapsed": "false"
   },
   "outputs": [],
   "source": [
    "new_non_dups = additional_labels[additional_labels.label==0]\n",
    "new_non_dups.shape"
   ]
  },
  {
   "cell_type": "code",
   "execution_count": null,
   "metadata": {
    "Collapsed": "false"
   },
   "outputs": [],
   "source": [
    "sample = new_non_dups.sample(1)\n",
    "\n",
    "print('Left\\n', specs_df.loc[sample.left_spec_id].page_title_stem.values[0])\n",
    "print('')\n",
    "print('Right\\n', specs_df.loc[sample.right_spec_id].page_title_stem.values[0])"
   ]
  },
  {
   "cell_type": "markdown",
   "metadata": {
    "Collapsed": "false"
   },
   "source": [
    "# Test pipeline"
   ]
  },
  {
   "cell_type": "code",
   "execution_count": 628,
   "metadata": {
    "Collapsed": "false"
   },
   "outputs": [],
   "source": [
    "model = LGBMPipeline(specs_df, labels_df)"
   ]
  },
  {
   "cell_type": "code",
   "execution_count": 629,
   "metadata": {
    "Collapsed": "false"
   },
   "outputs": [
    {
     "data": {
      "text/plain": [
       "array([1, 0, 0, ..., 0, 0, 0])"
      ]
     },
     "execution_count": 629,
     "metadata": {},
     "output_type": "execute_result"
    }
   ],
   "source": [
    "model.labels"
   ]
  },
  {
   "cell_type": "code",
   "execution_count": 630,
   "metadata": {
    "Collapsed": "false"
   },
   "outputs": [
    {
     "name": "stderr",
     "output_type": "stream",
     "text": [
      "\n",
      "0it [00:00, ?it/s]\u001b[A\n",
      "492it [00:00, 4913.42it/s]\u001b[A\n",
      "807it [00:00, 4202.79it/s]\u001b[A\n",
      "1325it [00:00, 4454.11it/s]\u001b[A\n",
      "1399it [00:00, 4457.42it/s]\u001b[A\n",
      "  0%|          | 0/34 [00:00<?, ?it/s]\u001b[A\n",
      " 12%|█▏        | 4/34 [00:00<00:03,  8.48it/s]\u001b[A\n",
      " 47%|████▋     | 16/34 [00:00<00:01, 11.72it/s]\u001b[A\n",
      " 59%|█████▉    | 20/34 [00:01<00:01, 10.44it/s]\u001b[A\n",
      " 91%|█████████ | 31/34 [00:01<00:00, 13.62it/s]\u001b[A\n",
      "100%|██████████| 34/34 [00:01<00:00, 26.05it/s]\u001b[A"
     ]
    }
   ],
   "source": [
    "model.precompute()"
   ]
  },
  {
   "cell_type": "code",
   "execution_count": 631,
   "metadata": {
    "Collapsed": "false"
   },
   "outputs": [
    {
     "data": {
      "text/plain": [
       "(2, 24)"
      ]
     },
     "execution_count": 631,
     "metadata": {},
     "output_type": "execute_result"
    }
   ],
   "source": [
    "x = model.make_X([0, 2], [1, 3])\n",
    "x.shape"
   ]
  },
  {
   "cell_type": "code",
   "execution_count": 635,
   "metadata": {
    "Collapsed": "false"
   },
   "outputs": [
    {
     "name": "stdout",
     "output_type": "stream",
     "text": [
      "Precomputing\n",
      "Making features\n",
      "Making features for additional_labels\n",
      "Fitting model\n"
     ]
    }
   ],
   "source": [
    "model.train(precompute=False)"
   ]
  },
  {
   "cell_type": "code",
   "execution_count": 120,
   "metadata": {
    "Collapsed": "false"
   },
   "outputs": [
    {
     "name": "stdout",
     "output_type": "stream",
     "text": [
      "Train F1 1.0\n",
      "              precision    recall  f1-score   support\n",
      "\n",
      "           0       1.00      1.00      1.00    253612\n",
      "           1       1.00      1.00      1.00     44039\n",
      "\n",
      "    accuracy                           1.00    297651\n",
      "   macro avg       1.00      1.00      1.00    297651\n",
      "weighted avg       1.00      1.00      1.00    297651\n",
      "\n"
     ]
    }
   ],
   "source": [
    "pred_train = model.clf.predict(model.train_X)\n",
    "\n",
    "print('Train F1', f1_score(labels_df.label, pred_train))\n",
    "print(classification_report(labels_df.label, pred_train))"
   ]
  },
  {
   "cell_type": "code",
   "execution_count": 637,
   "metadata": {
    "Collapsed": "false"
   },
   "outputs": [
    {
     "name": "stdout",
     "output_type": "stream",
     "text": [
      "F1 on additional labels 0.5026176428371772\n",
      "              precision    recall  f1-score   support\n",
      "\n",
      "           0       0.90      0.99      0.94    541252\n",
      "           1       0.87      0.35      0.50     93987\n",
      "\n",
      "    accuracy                           0.90    635239\n",
      "   macro avg       0.88      0.67      0.72    635239\n",
      "weighted avg       0.89      0.90      0.88    635239\n",
      "\n"
     ]
    }
   ],
   "source": [
    "additional_left_spec_idx = model.specs_id_to_idx[model.additional_df['left_spec_id']]\n",
    "additional_right_spec_idx = model.specs_id_to_idx[model.additional_df['right_spec_id']]\n",
    "\n",
    "additional_X = model.make_X(additional_left_spec_idx, additional_right_spec_idx)\n",
    "\n",
    "additional_Y = model.additional_df.label\n",
    "\n",
    "pred_additional = model.clf.predict(additional_X)\n",
    "\n",
    "print('F1 on additional labels', f1_score(additional_Y, pred_additional))\n",
    "print(classification_report(additional_Y, pred_additional))"
   ]
  },
  {
   "cell_type": "markdown",
   "metadata": {
    "Collapsed": "false"
   },
   "source": [
    "Sanity check passed"
   ]
  },
  {
   "cell_type": "markdown",
   "metadata": {
    "Collapsed": "false"
   },
   "source": [
    "# Feature importance"
   ]
  },
  {
   "cell_type": "code",
   "execution_count": 124,
   "metadata": {
    "Collapsed": "false"
   },
   "outputs": [],
   "source": [
    "import shap"
   ]
  },
  {
   "cell_type": "code",
   "execution_count": 125,
   "metadata": {
    "Collapsed": "false"
   },
   "outputs": [],
   "source": [
    "explainer = shap.TreeExplainer(model.clf)"
   ]
  },
  {
   "cell_type": "code",
   "execution_count": 126,
   "metadata": {
    "Collapsed": "false"
   },
   "outputs": [],
   "source": [
    "shap_values = explainer.shap_values(model.train_X)"
   ]
  },
  {
   "cell_type": "code",
   "execution_count": 127,
   "metadata": {
    "Collapsed": "false"
   },
   "outputs": [],
   "source": [
    "feature_names = ['n_common_tokens', \n",
    "                    'n_common_tokens_normed',\n",
    "                    'sum_len_common_tokens',\n",
    "                    'special_sum_len_common_tokens',\n",
    "                    'special_n_common_tokens',\n",
    "                    'number_sum_len_common_tokens',\n",
    "                    'number_n_common_tokens',\n",
    "\n",
    "                    'n_common_symbols_models', 'same_model',\n",
    "\n",
    "                    'n_common_symbols_types', 'same_type',\n",
    "\n",
    "                    'n_common_symbols_megapixels', 'same_megapixels',\n",
    "\n",
    "                    'lev_ratios',\n",
    "\n",
    "                    'jaccard_sim',\n",
    "                    'n_common_symbols',\n",
    "\n",
    "                    'n_common_neighboors', 'n_common_neighboors_normed',\n",
    "\n",
    "                    'site_left', 'site_right', 'brand_left', 'brand_right',\n",
    "                   'same_brand', 'same_site',\n",
    "                   ]"
   ]
  },
  {
   "cell_type": "code",
   "execution_count": 128,
   "metadata": {
    "Collapsed": "false"
   },
   "outputs": [
    {
     "data": {
      "image/png": "[encoded data removed]",
      "text/plain": [
       "<Figure size 576x684 with 1 Axes>"
      ]
     },
     "metadata": {},
     "output_type": "display_data"
    }
   ],
   "source": [
    "shap.summary_plot(shap_values, model.train_X, plot_type=\"bar\", feature_names=feature_names)"
   ]
  },
  {
   "cell_type": "markdown",
   "metadata": {
    "Collapsed": "false"
   },
   "source": [
    "# Submit"
   ]
  },
  {
   "cell_type": "code",
   "execution_count": 46,
   "metadata": {
    "Collapsed": "false"
   },
   "outputs": [
    {
     "name": "stderr",
     "output_type": "stream",
     "text": [
      "\n",
      "\n",
      "  0%|          | 0/63 [00:00<?, ?it/s]\u001b[A\u001b[A\n",
      "\n",
      "  2%|▏         | 1/63 [00:00<00:40,  1.54it/s]\u001b[A\u001b[A\n",
      "\n",
      "  8%|▊         | 5/63 [04:27<19:47, 20.47s/it]\u001b[A\u001b[A\n",
      "\n",
      " 10%|▉         | 6/63 [04:28<13:46, 14.51s/it]\u001b[A\u001b[A\n",
      "\n",
      " 24%|██▍       | 15/63 [04:28<08:07, 10.16s/it]\u001b[A\u001b[A\n",
      "\n",
      " 24%|██▍       | 15/63 [04:47<08:07, 10.16s/it]\u001b[A\u001b[A\n",
      "\n",
      " 25%|██▌       | 16/63 [04:54<11:39, 14.89s/it]\u001b[A\u001b[A\n",
      "\n",
      " 30%|███       | 19/63 [04:54<07:41, 10.48s/it]\u001b[A\u001b[A\n",
      "\n",
      " 38%|███▊      | 24/63 [05:00<04:59,  7.69s/it]\u001b[A\u001b[A\n",
      "\n",
      " 41%|████▏     | 26/63 [05:01<03:22,  5.46s/it]\u001b[A\u001b[A\n",
      "\n",
      " 51%|█████     | 32/63 [09:28<08:53, 17.22s/it]\u001b[A\u001b[A\n",
      "\n",
      " 56%|█████▌    | 35/63 [12:45<14:47, 31.71s/it]\u001b[A\u001b[A\n",
      "\n",
      " 57%|█████▋    | 36/63 [13:10<13:18, 29.58s/it]\u001b[A\u001b[A\n",
      "\n",
      " 60%|██████    | 38/63 [13:29<09:50, 23.62s/it]\u001b[A\u001b[A\n",
      "\n",
      " 62%|██████▏   | 39/63 [13:34<07:08, 17.87s/it]\u001b[A\u001b[A\n",
      "\n",
      " 65%|██████▌   | 41/63 [13:34<04:35, 12.54s/it]\u001b[A\u001b[A\n",
      "\n",
      " 68%|██████▊   | 43/63 [13:34<02:56,  8.80s/it]\u001b[A\u001b[A\n",
      "\n",
      " 71%|███████▏  | 45/63 [13:48<02:27,  8.21s/it]\u001b[A\u001b[A\n",
      "\n",
      " 79%|███████▉  | 50/63 [13:48<01:14,  5.76s/it]\u001b[A\u001b[A\n",
      "\n",
      " 83%|████████▎ | 52/63 [15:59<04:21, 23.77s/it]\u001b[A\u001b[A\n",
      "\n",
      " 90%|█████████ | 57/63 [16:00<01:39, 16.65s/it]\u001b[A\u001b[A\n",
      "\n",
      " 95%|█████████▌| 60/63 [16:00<00:35, 11.69s/it]\u001b[A\u001b[A\n",
      "\n",
      "100%|██████████| 63/63 [16:00<00:00, 15.25s/it]\u001b[A\u001b[A"
     ]
    }
   ],
   "source": [
    "model.make_submission()"
   ]
  },
  {
   "cell_type": "code",
   "execution_count": 50,
   "metadata": {
    "Collapsed": "false"
   },
   "outputs": [
    {
     "data": {
      "text/plain": [
       "(533397, 2)"
      ]
     },
     "execution_count": 50,
     "metadata": {},
     "output_type": "execute_result"
    }
   ],
   "source": [
    "submit_df = pd.read_csv('../data/submit/submit.csv')\n",
    "submit_df.shape"
   ]
  },
  {
   "cell_type": "code",
   "execution_count": 51,
   "metadata": {
    "Collapsed": "false"
   },
   "outputs": [],
   "source": [
    "specs_df.index = specs_df.spec_id"
   ]
  },
  {
   "cell_type": "code",
   "execution_count": 55,
   "metadata": {
    "Collapsed": "false"
   },
   "outputs": [
    {
     "name": "stdout",
     "output_type": "stream",
     "text": [
      "Left\n",
      " canon eos rebel t3i 600d 18-0-mp digital slr kit w ef\n",
      "\n",
      "Right\n",
      " canon eos rebel t3i cmos digital slr sale 474 95\n"
     ]
    }
   ],
   "source": [
    "row = submit_df.sample(1)\n",
    "\n",
    "print('Left\\n', specs_df.loc[row.left_spec_id].page_title.values[0])\n",
    "print('')\n",
    "print('Right\\n', specs_df.loc[row.right_spec_id].page_title.values[0])"
   ]
  },
  {
   "cell_type": "markdown",
   "metadata": {
    "Collapsed": "false"
   },
   "source": [
    "# CV"
   ]
  },
  {
   "cell_type": "code",
   "execution_count": 19,
   "metadata": {},
   "outputs": [],
   "source": [
    "from tqdm.notebook import tqdm"
   ]
  },
  {
   "cell_type": "code",
   "execution_count": 20,
   "metadata": {
    "Collapsed": "false"
   },
   "outputs": [],
   "source": [
    "def get_split(classes_df, labels_df, test_classes=5):\n",
    "    classes = classes_df.class_.unique()\n",
    "    test_classes = np.random.choice(classes, test_classes)\n",
    "    \n",
    "    test_spec_ids = classes_df[classes_df.class_.isin(test_classes)].spec_id\n",
    "    \n",
    "    test_label_mask = labels_df.left_spec_id.isin(test_spec_ids) | labels_df.right_spec_id.isin(test_spec_ids)\n",
    "    \n",
    "    test_idx = np.array(labels_df[test_label_mask].index)\n",
    "    train_idx = np.array(labels_df[~test_label_mask].index)\n",
    "    \n",
    "    return train_idx, test_idx\n",
    "\n",
    "def evaluate_submit(submit_df, test_labels_df):\n",
    "    submit_df = submit_df.copy()\n",
    "    submit_df['label'] = 1\n",
    "    \n",
    "    merged = test_labels_df.merge(submit_df, on=['left_spec_id', 'right_spec_id'], how='left', suffixes = ('_true', '_pred'))\n",
    "    merged['label_pred'] = merged['label_pred'].fillna(0)\n",
    "    \n",
    "    tp = merged[(merged.label_true == 1) & (merged.label_pred == 1)]\n",
    "    tn = merged[(merged.label_true == 0) & (merged.label_pred == 0)]\n",
    "    \n",
    "    fp = merged[(merged.label_true == 0) & (merged.label_pred == 1)]\n",
    "    fn = merged[(merged.label_true == 1) & (merged.label_pred == 0)]\n",
    "    \n",
    "    precision = tp.shape[0]/(tp.shape[0]+fp.shape[0])\n",
    "    recall = tp.shape[0]/(tp.shape[0]+fn.shape[0])\n",
    "    \n",
    "    f1 = 2 * (precision * recall)/(precision+recall)\n",
    "    \n",
    "    return f1, tp, tn, fp, fn\n",
    "\n",
    "def cross_validate_pipeline(pipeline_class, specs_df, labels_df, clfs, n_folds=5, test_classes=5):\n",
    "    # Obtain triangles from label and number them\n",
    "    classes_df = make_classes_df(labels_df)\n",
    "    folds = []\n",
    "    submit_fpaths = []\n",
    "    scores = []\n",
    "    for i_fold in tqdm(range(n_folds)):\n",
    "        print('Fold', i_fold)\n",
    "        labels_train_idx, labels_test_idx = get_split(classes_df, labels_df, test_classes=test_classes)\n",
    "        folds.append( (labels_train_idx, labels_test_idx) )\n",
    "        \n",
    "        train_labels = labels_df.iloc[labels_train_idx].copy()\n",
    "        test_labels = labels_df.iloc[labels_test_idx].copy()\n",
    "        \n",
    "        submit_fpath = f'../data/interim/cv_submit_fold{i_fold}.csv'\n",
    "        submit_fpaths.append(submit_fpath)\n",
    "        \n",
    "        model = pipeline_class(specs_df, train_labels, submit_fpath=submit_fpath)\n",
    "        print('training model')\n",
    "        model.train(clfs=clfs)\n",
    "        \n",
    "        print('generating submit')\n",
    "        model.make_submission()\n",
    "        \n",
    "        print('evaluating submit')\n",
    "        f1score, _, _, _, _ = evaluate_submit(pd.read_csv(model.submit_fpath), test_labels)\n",
    "        scores.append(f1score)\n",
    "        print('Score', f1score)\n",
    "    return folds, submit_fpaths, scores"
   ]
  },
  {
   "cell_type": "code",
   "execution_count": 21,
   "metadata": {},
   "outputs": [],
   "source": [
    "clfs = [\n",
    "    LGBMClassifier(sample_pos_weight=5.76, n_jobs=-1),\n",
    "    LGBMClassifier(sample_pos_weight=5.76, n_estimators=500, n_jobs=-1),\n",
    "    LGBMClassifier(sample_pos_weight=5.76, learning_rate=0.01, n_jobs=-1),\n",
    "    LGBMClassifier(sample_pos_weight=5.76, learning_rate=0.01, n_estimators=500, n_jobs=-1),\n",
    "    \n",
    "]"
   ]
  },
  {
   "cell_type": "code",
   "execution_count": null,
   "metadata": {
    "Collapsed": "false"
   },
   "outputs": [],
   "source": [
    "# np.random.seed(42)\n",
    "np.random.seed(None)\n",
    "folds, submit_fpaths, scores = cross_validate_pipeline(LGBMPipeline, specs_df, labels_df, clfs, n_folds=3)"
   ]
  },
  {
   "cell_type": "code",
   "execution_count": 23,
   "metadata": {
    "Collapsed": "false"
   },
   "outputs": [
    {
     "data": {
      "application/vnd.jupyter.widget-view+json": {
       "model_id": "aadba96385584e0386db9bdf1aca595e",
       "version_major": 2,
       "version_minor": 0
      },
      "text/html": [
       "<p>Failed to display Jupyter Widget of type <code>HBox</code>.</p>\n",
       "<p>\n",
       "  If you're reading this message in the Jupyter Notebook or JupyterLab Notebook, it may mean\n",
       "  that the widgets JavaScript is still loading. If this message persists, it\n",
       "  likely means that the widgets JavaScript library is either not installed or\n",
       "  not enabled. See the <a href=\"https://ipywidgets.readthedocs.io/en/stable/user_install.html\">Jupyter\n",
       "  Widgets Documentation</a> for setup instructions.\n",
       "</p>\n",
       "<p>\n",
       "  If you're reading this message in another frontend (for example, a static\n",
       "  rendering on GitHub or <a href=\"https://nbviewer.jupyter.org/\">NBViewer</a>),\n",
       "  it may mean that your frontend doesn't currently support widgets.\n",
       "</p>\n"
      ],
      "text/plain": [
       "[0.43317311141401826, 0.5178181818181818, 0.6896355353075171]"
      ]
     },
     "execution_count": 23,
     "metadata": {},
     "output_type": "execute_result"
    }
   ],
   "source": [
    "scores"
   ]
  },
  {
   "cell_type": "code",
   "execution_count": 24,
   "metadata": {
    "Collapsed": "false"
   },
   "outputs": [
    {
     "data": {
      "text/plain": [
       "0.5468756095132391"
      ]
     },
     "execution_count": 24,
     "metadata": {},
     "output_type": "execute_result"
    }
   ],
   "source": [
    "np.mean(scores)"
   ]
  },
  {
   "cell_type": "markdown",
   "metadata": {
    "Collapsed": "false"
   },
   "source": [
    "## Test evaluation scheme"
   ]
  },
  {
   "cell_type": "code",
   "execution_count": 25,
   "metadata": {
    "Collapsed": "false"
   },
   "outputs": [
    {
     "data": {
      "text/plain": [
       "0.43317311141401826"
      ]
     },
     "execution_count": 25,
     "metadata": {},
     "output_type": "execute_result"
    }
   ],
   "source": [
    "np.mean(scores)"
   ]
  },
  {
   "cell_type": "markdown",
   "metadata": {
    "Collapsed": "false"
   },
   "source": [
    "## Test evaluation scheme"
   ]
  },
  {
   "cell_type": "code",
   "execution_count": null,
   "metadata": {
    "Collapsed": "false"
   },
   "outputs": [],
   "source": [
    "\n",
    "    \n",
    "    \n",
    "test_labels_df = labels_df.iloc[folds[0][1]]\n",
    "submit_df = pd.read_csv(submit_fpaths[0])\n",
    "\n",
    "score, tp, tn, fp, fn = evaluate_submit(submit_df, test_labels_df)\n",
    "score"
   ]
  },
  {
   "cell_type": "markdown",
   "metadata": {
    "Collapsed": "false"
   },
   "source": [
    "Test one true positive"
   ]
  },
  {
   "cell_type": "code",
   "execution_count": null,
   "metadata": {
    "Collapsed": "false"
   },
   "outputs": [],
   "source": [
    "tp.head()"
   ]
  },
  {
   "cell_type": "code",
   "execution_count": 27,
   "metadata": {
    "Collapsed": "false"
   },
   "outputs": [
    {
     "name": "stderr",
     "output_type": "stream",
     "text": [
      "/usr/local/lib/python3.6/dist-packages/ipykernel_launcher.py:1: UserWarning: Boolean Series key will be reindexed to match DataFrame index.\n",
      "  \"\"\"Entry point for launching an IPython kernel.\n"
     ]
    },
    {
     "data": {
      "text/html": [
       "<div>\n",
       "<style scoped>\n",
       "    .dataframe tbody tr th:only-of-type {\n",
       "        vertical-align: middle;\n",
       "    }\n",
       "\n",
       "    .dataframe tbody tr th {\n",
       "        vertical-align: top;\n",
       "    }\n",
       "\n",
       "    .dataframe thead th {\n",
       "        text-align: right;\n",
       "    }\n",
       "</style>\n",
       "<table border=\"1\" class=\"dataframe\">\n",
       "  <thead>\n",
       "    <tr style=\"text-align: right;\">\n",
       "      <th></th>\n",
       "      <th>left_spec_id</th>\n",
       "      <th>right_spec_id</th>\n",
       "      <th>label</th>\n",
       "    </tr>\n",
       "  </thead>\n",
       "  <tbody>\n",
       "  </tbody>\n",
       "</table>\n",
       "</div>"
      ],
      "text/plain": [
       "Empty DataFrame\n",
       "Columns: [left_spec_id, right_spec_id, label]\n",
       "Index: []"
      ]
     },
     "execution_count": 27,
     "metadata": {},
     "output_type": "execute_result"
    }
   ],
   "source": [
    "test_labels_df[test_labels_df.label == 1][test_labels_df.left_spec_id == 'www.ebay.com//24206']"
   ]
  },
  {
   "cell_type": "code",
   "execution_count": 28,
   "metadata": {
    "Collapsed": "false"
   },
   "outputs": [
    {
     "data": {
      "text/html": [
       "<div>\n",
       "<style scoped>\n",
       "    .dataframe tbody tr th:only-of-type {\n",
       "        vertical-align: middle;\n",
       "    }\n",
       "\n",
       "    .dataframe tbody tr th {\n",
       "        vertical-align: top;\n",
       "    }\n",
       "\n",
       "    .dataframe thead th {\n",
       "        text-align: right;\n",
       "    }\n",
       "</style>\n",
       "<table border=\"1\" class=\"dataframe\">\n",
       "  <thead>\n",
       "    <tr style=\"text-align: right;\">\n",
       "      <th></th>\n",
       "      <th>left_spec_id</th>\n",
       "      <th>right_spec_id</th>\n",
       "    </tr>\n",
       "  </thead>\n",
       "  <tbody>\n",
       "  </tbody>\n",
       "</table>\n",
       "</div>"
      ],
      "text/plain": [
       "Empty DataFrame\n",
       "Columns: [left_spec_id, right_spec_id]\n",
       "Index: []"
      ]
     },
     "execution_count": 28,
     "metadata": {},
     "output_type": "execute_result"
    }
   ],
   "source": [
    "submit_df[(submit_df.left_spec_id == 'www.ebay.com//24206') & (submit_df.right_spec_id == 'www.priceme.co.nz//54')]"
   ]
  },
  {
   "cell_type": "markdown",
   "metadata": {
    "Collapsed": "false"
   },
   "source": [
    "Pass"
   ]
  },
  {
   "cell_type": "markdown",
   "metadata": {
    "Collapsed": "false"
   },
   "source": [
    "Check one tn"
   ]
  },
  {
   "cell_type": "code",
   "execution_count": 29,
   "metadata": {
    "Collapsed": "false"
   },
   "outputs": [
    {
     "data": {
      "text/html": [
       "<div>\n",
       "<style scoped>\n",
       "    .dataframe tbody tr th:only-of-type {\n",
       "        vertical-align: middle;\n",
       "    }\n",
       "\n",
       "    .dataframe tbody tr th {\n",
       "        vertical-align: top;\n",
       "    }\n",
       "\n",
       "    .dataframe thead th {\n",
       "        text-align: right;\n",
       "    }\n",
       "</style>\n",
       "<table border=\"1\" class=\"dataframe\">\n",
       "  <thead>\n",
       "    <tr style=\"text-align: right;\">\n",
       "      <th></th>\n",
       "      <th>left_spec_id</th>\n",
       "      <th>right_spec_id</th>\n",
       "      <th>label_true</th>\n",
       "      <th>label_pred</th>\n",
       "    </tr>\n",
       "  </thead>\n",
       "  <tbody>\n",
       "    <tr>\n",
       "      <th>0</th>\n",
       "      <td>www.ebay.com//24817</td>\n",
       "      <td>www.ebay.com//58782</td>\n",
       "      <td>0</td>\n",
       "      <td>0.0</td>\n",
       "    </tr>\n",
       "    <tr>\n",
       "      <th>1</th>\n",
       "      <td>www.ebay.com//43019</td>\n",
       "      <td>www.ebay.com//58782</td>\n",
       "      <td>0</td>\n",
       "      <td>0.0</td>\n",
       "    </tr>\n",
       "    <tr>\n",
       "      <th>2</th>\n",
       "      <td>www.ebay.com//42055</td>\n",
       "      <td>www.ebay.com//54403</td>\n",
       "      <td>0</td>\n",
       "      <td>0.0</td>\n",
       "    </tr>\n",
       "    <tr>\n",
       "      <th>3</th>\n",
       "      <td>www.ebay.com//42039</td>\n",
       "      <td>www.ebay.com//43213</td>\n",
       "      <td>0</td>\n",
       "      <td>0.0</td>\n",
       "    </tr>\n",
       "    <tr>\n",
       "      <th>4</th>\n",
       "      <td>www.ebay.com//42196</td>\n",
       "      <td>www.ebay.com//58588</td>\n",
       "      <td>0</td>\n",
       "      <td>0.0</td>\n",
       "    </tr>\n",
       "  </tbody>\n",
       "</table>\n",
       "</div>"
      ],
      "text/plain": [
       "          left_spec_id        right_spec_id  label_true  label_pred\n",
       "0  www.ebay.com//24817  www.ebay.com//58782           0         0.0\n",
       "1  www.ebay.com//43019  www.ebay.com//58782           0         0.0\n",
       "2  www.ebay.com//42055  www.ebay.com//54403           0         0.0\n",
       "3  www.ebay.com//42039  www.ebay.com//43213           0         0.0\n",
       "4  www.ebay.com//42196  www.ebay.com//58588           0         0.0"
      ]
     },
     "execution_count": 29,
     "metadata": {},
     "output_type": "execute_result"
    }
   ],
   "source": [
    "tn.head()"
   ]
  },
  {
   "cell_type": "code",
   "execution_count": 30,
   "metadata": {
    "Collapsed": "false"
   },
   "outputs": [
    {
     "name": "stderr",
     "output_type": "stream",
     "text": [
      "/usr/local/lib/python3.6/dist-packages/ipykernel_launcher.py:1: UserWarning: Boolean Series key will be reindexed to match DataFrame index.\n",
      "  \"\"\"Entry point for launching an IPython kernel.\n"
     ]
    },
    {
     "data": {
      "text/html": [
       "<div>\n",
       "<style scoped>\n",
       "    .dataframe tbody tr th:only-of-type {\n",
       "        vertical-align: middle;\n",
       "    }\n",
       "\n",
       "    .dataframe tbody tr th {\n",
       "        vertical-align: top;\n",
       "    }\n",
       "\n",
       "    .dataframe thead th {\n",
       "        text-align: right;\n",
       "    }\n",
       "</style>\n",
       "<table border=\"1\" class=\"dataframe\">\n",
       "  <thead>\n",
       "    <tr style=\"text-align: right;\">\n",
       "      <th></th>\n",
       "      <th>left_spec_id</th>\n",
       "      <th>right_spec_id</th>\n",
       "      <th>label</th>\n",
       "    </tr>\n",
       "  </thead>\n",
       "  <tbody>\n",
       "  </tbody>\n",
       "</table>\n",
       "</div>"
      ],
      "text/plain": [
       "Empty DataFrame\n",
       "Columns: [left_spec_id, right_spec_id, label]\n",
       "Index: []"
      ]
     },
     "execution_count": 30,
     "metadata": {},
     "output_type": "execute_result"
    }
   ],
   "source": [
    "test_labels_df[test_labels_df.label == 0][test_labels_df.left_spec_id == 'www.ebay.com//42074'][test_labels_df.right_spec_id == 'www.ebay.com//47107']"
   ]
  },
  {
   "cell_type": "code",
   "execution_count": 31,
   "metadata": {
    "Collapsed": "false"
   },
   "outputs": [
    {
     "name": "stderr",
     "output_type": "stream",
     "text": [
      "/usr/local/lib/python3.6/dist-packages/ipykernel_launcher.py:1: UserWarning: Boolean Series key will be reindexed to match DataFrame index.\n",
      "  \"\"\"Entry point for launching an IPython kernel.\n"
     ]
    },
    {
     "data": {
      "text/html": [
       "<div>\n",
       "<style scoped>\n",
       "    .dataframe tbody tr th:only-of-type {\n",
       "        vertical-align: middle;\n",
       "    }\n",
       "\n",
       "    .dataframe tbody tr th {\n",
       "        vertical-align: top;\n",
       "    }\n",
       "\n",
       "    .dataframe thead th {\n",
       "        text-align: right;\n",
       "    }\n",
       "</style>\n",
       "<table border=\"1\" class=\"dataframe\">\n",
       "  <thead>\n",
       "    <tr style=\"text-align: right;\">\n",
       "      <th></th>\n",
       "      <th>left_spec_id</th>\n",
       "      <th>right_spec_id</th>\n",
       "    </tr>\n",
       "  </thead>\n",
       "  <tbody>\n",
       "  </tbody>\n",
       "</table>\n",
       "</div>"
      ],
      "text/plain": [
       "Empty DataFrame\n",
       "Columns: [left_spec_id, right_spec_id]\n",
       "Index: []"
      ]
     },
     "execution_count": 31,
     "metadata": {},
     "output_type": "execute_result"
    }
   ],
   "source": [
    "submit_df[submit_df.left_spec_id == 'www.ebay.com//42074'][submit_df.right_spec_id == 'www.ebay.com//47107']"
   ]
  },
  {
   "cell_type": "markdown",
   "metadata": {
    "Collapsed": "false"
   },
   "source": [
    "Pass"
   ]
  },
  {
   "cell_type": "markdown",
   "metadata": {
    "Collapsed": "false"
   },
   "source": [
    "Check one fp"
   ]
  },
  {
   "cell_type": "code",
   "execution_count": null,
   "metadata": {
    "Collapsed": "false"
   },
   "outputs": [],
   "source": [
    "fp.head()"
   ]
  },
  {
   "cell_type": "code",
   "execution_count": null,
   "metadata": {
    "Collapsed": "false"
   },
   "outputs": [],
   "source": [
    "test_labels_df[test_labels_df.label == 0][test_labels_df.left_spec_id == 'www.ebay.com//42074'][test_labels_df.right_spec_id == 'www.ebay.com//54040']"
   ]
  },
  {
   "cell_type": "code",
   "execution_count": null,
   "metadata": {
    "Collapsed": "false"
   },
   "outputs": [],
   "source": [
    "submit_df[submit_df.left_spec_id == 'www.ebay.com//42074'][submit_df.right_spec_id == 'www.ebay.com//54040']"
   ]
  },
  {
   "cell_type": "markdown",
   "metadata": {
    "Collapsed": "false"
   },
   "source": [
    "Pass"
   ]
  },
  {
   "cell_type": "markdown",
   "metadata": {
    "Collapsed": "false"
   },
   "source": [
    "Check one fn"
   ]
  },
  {
   "cell_type": "code",
   "execution_count": null,
   "metadata": {
    "Collapsed": "false"
   },
   "outputs": [],
   "source": [
    "fn.head()"
   ]
  },
  {
   "cell_type": "code",
   "execution_count": null,
   "metadata": {
    "Collapsed": "false"
   },
   "outputs": [],
   "source": [
    "test_labels_df[test_labels_df.label == 1][test_labels_df.left_spec_id == 'www.ebay.com//54040'][test_labels_df.right_spec_id == 'www.ebay.com//54457']"
   ]
  },
  {
   "cell_type": "code",
   "execution_count": null,
   "metadata": {
    "Collapsed": "false"
   },
   "outputs": [],
   "source": [
    "submit_df[submit_df.left_spec_id == 'www.ebay.com//54040'][submit_df.right_spec_id == 'www.ebay.com//54457']"
   ]
  },
  {
   "cell_type": "markdown",
   "metadata": {
    "Collapsed": "false"
   },
   "source": [
    "pass"
   ]
  },
  {
   "cell_type": "code",
   "execution_count": null,
   "metadata": {
    "Collapsed": "false"
   },
   "outputs": [],
   "source": []
  },
  {
   "cell_type": "code",
   "execution_count": null,
   "metadata": {
    "Collapsed": "false"
   },
   "outputs": [],
   "source": []
  }
 ],
 "metadata": {
  "kernelspec": {
   "display_name": "Python 3",
   "language": "python",
   "name": "python3"
  },
  "language_info": {
   "codemirror_mode": {
    "name": "ipython",
    "version": 3
   },
   "file_extension": ".py",
   "mimetype": "text/x-python",
   "name": "python",
   "nbconvert_exporter": "python",
   "pygments_lexer": "ipython3",
   "version": "3.6.9"
  }
 },
 "nbformat": 4,
 "nbformat_minor": 4
}
