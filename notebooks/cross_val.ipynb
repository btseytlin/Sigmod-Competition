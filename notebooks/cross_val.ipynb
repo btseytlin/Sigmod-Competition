{
 "cells": [
  {
   "cell_type": "code",
   "execution_count": 1,
   "metadata": {
    "Collapsed": "false"
   },
   "outputs": [],
   "source": [
    "import os\n",
    "import sys\n",
    "import random\n",
    "import json\n",
    "import collections\n",
    "import re\n",
    "from itertools import combinations\n",
    "\n",
    "import pandas as pd\n",
    "import numpy as np\n",
    "import scipy\n",
    "import statsmodels\n",
    "from tqdm import trange, tqdm_notebook as tqdm\n",
    "\n",
    "from sklearn.model_selection import train_test_split\n",
    "from sklearn.metrics import f1_score, classification_report\n",
    "from lightgbm import LGBMClassifier\n",
    "\n",
    "from matplotlib import pyplot as plt\n",
    "import seaborn as sns\n",
    "%matplotlib inline\n",
    "\n",
    "\n",
    "pd.options.display.max_columns = 999\n",
    "\n",
    "pd.options.display.max_rows = 100\n",
    "\n",
    "sns.set()\n",
    "plt.rcParams[\"figure.figsize\"] = (10,7)"
   ]
  },
  {
   "cell_type": "code",
   "execution_count": 2,
   "metadata": {
    "Collapsed": "false"
   },
   "outputs": [],
   "source": [
    "%load_ext autoreload\n",
    "%autoreload 2"
   ]
  },
  {
   "cell_type": "code",
   "execution_count": 3,
   "metadata": {
    "Collapsed": "false"
   },
   "outputs": [],
   "source": [
    "from sigmod_src.make_dataset import make_specs_dataset\n",
    "from sigmod_src.preprocessing import preprocess_specs_dataset\n",
    "from sigmod_src.pipeline import LGBMPipeline\n",
    "from sigmod_src.utils import get_additional_labels, make_classes_df"
   ]
  },
  {
   "cell_type": "code",
   "execution_count": 4,
   "metadata": {
    "Collapsed": "false"
   },
   "outputs": [],
   "source": [
    "LG_LABELS_PATH = '../data/raw/sigmod_large_labelled_dataset.csv'\n",
    "SPECS_PATH = '../data/raw/2013_camera_specs/'"
   ]
  },
  {
   "cell_type": "markdown",
   "metadata": {
    "Collapsed": "false"
   },
   "source": [
    "# Load labels df"
   ]
  },
  {
   "cell_type": "code",
   "execution_count": 5,
   "metadata": {
    "Collapsed": "false"
   },
   "outputs": [
    {
     "data": {
      "text/plain": [
       "(297651, 3)"
      ]
     },
     "execution_count": 5,
     "metadata": {},
     "output_type": "execute_result"
    }
   ],
   "source": [
    "labels_df = pd.read_csv(LG_LABELS_PATH)\n",
    "labels_df.shape"
   ]
  },
  {
   "cell_type": "code",
   "execution_count": 7,
   "metadata": {
    "Collapsed": "false"
   },
   "outputs": [
    {
     "data": {
      "text/plain": [
       "(44039, 3)"
      ]
     },
     "execution_count": 7,
     "metadata": {},
     "output_type": "execute_result"
    }
   ],
   "source": [
    "labels_df[labels_df.label==1].shape"
   ]
  },
  {
   "cell_type": "markdown",
   "metadata": {
    "Collapsed": "false"
   },
   "source": [
    "# Load specs df"
   ]
  },
  {
   "cell_type": "code",
   "execution_count": 6,
   "metadata": {
    "Collapsed": "false"
   },
   "outputs": [],
   "source": [
    "specs_dataset_src = make_specs_dataset(SPECS_PATH)"
   ]
  },
  {
   "cell_type": "code",
   "execution_count": 10,
   "metadata": {
    "Collapsed": "false"
   },
   "outputs": [
    {
     "data": {
      "text/plain": [
       "(29787, 7)"
      ]
     },
     "execution_count": 10,
     "metadata": {},
     "output_type": "execute_result"
    }
   ],
   "source": [
    "specs_dataset_src.shape"
   ]
  },
  {
   "cell_type": "code",
   "execution_count": 26,
   "metadata": {
    "Collapsed": "false"
   },
   "outputs": [
    {
     "name": "stdout",
     "output_type": "stream",
     "text": [
      "Dropping 0 known non-camera brand specs\n",
      "Dropping 2308 camera bag specs\n",
      "Warning, dropped 9 rows containing null page titles\n"
     ]
    }
   ],
   "source": [
    "specs_df = preprocess_specs_dataset(specs_dataset_src)"
   ]
  },
  {
   "cell_type": "code",
   "execution_count": 27,
   "metadata": {
    "Collapsed": "false"
   },
   "outputs": [
    {
     "data": {
      "text/plain": [
       "(27470, 10)"
      ]
     },
     "execution_count": 27,
     "metadata": {},
     "output_type": "execute_result"
    }
   ],
   "source": [
    "specs_df.shape"
   ]
  },
  {
   "cell_type": "code",
   "execution_count": 28,
   "metadata": {
    "Collapsed": "false"
   },
   "outputs": [
    {
     "data": {
      "text/html": [
       "<div>\n",
       "<style scoped>\n",
       "    .dataframe tbody tr th:only-of-type {\n",
       "        vertical-align: middle;\n",
       "    }\n",
       "\n",
       "    .dataframe tbody tr th {\n",
       "        vertical-align: top;\n",
       "    }\n",
       "\n",
       "    .dataframe thead th {\n",
       "        text-align: right;\n",
       "    }\n",
       "</style>\n",
       "<table border=\"1\" class=\"dataframe\">\n",
       "  <thead>\n",
       "    <tr style=\"text-align: right;\">\n",
       "      <th></th>\n",
       "      <th>spec_id</th>\n",
       "      <th>page_title</th>\n",
       "      <th>brand</th>\n",
       "      <th>model</th>\n",
       "      <th>type</th>\n",
       "      <th>megapixels</th>\n",
       "      <th>all_text</th>\n",
       "      <th>page_title_stem</th>\n",
       "      <th>all_text_stem</th>\n",
       "      <th>site</th>\n",
       "    </tr>\n",
       "  </thead>\n",
       "  <tbody>\n",
       "    <tr>\n",
       "      <th>17645</th>\n",
       "      <td>www.buzzillions.com//1004</td>\n",
       "      <td>pentax k2000 slr digital review pentax k2000 1...</td>\n",
       "      <td>pentax</td>\n",
       "      <td>None</td>\n",
       "      <td>None</td>\n",
       "      <td>10-mp</td>\n",
       "      <td>pentax k2000 slr digital review pentax k2000 1...</td>\n",
       "      <td>pentax k2000 slr digit review pentax k2000 10 ...</td>\n",
       "      <td>pentax k2000 slr digit review pentax k2000 10 ...</td>\n",
       "      <td>www.buzzillions.com</td>\n",
       "    </tr>\n",
       "    <tr>\n",
       "      <th>23199</th>\n",
       "      <td>www.alibaba.com//25142</td>\n",
       "      <td>hd 720p bullet hikvision nvr ip ds-2cd2212-i5 ...</td>\n",
       "      <td>None</td>\n",
       "      <td>None</td>\n",
       "      <td>None</td>\n",
       "      <td>1-3-mp</td>\n",
       "      <td>hd 720p bullet hikvision nvr ip ds-2cd2212-i5 ...</td>\n",
       "      <td>hd 720p bullet hikvis nvr ip ds-2cd2212-i5 hik...</td>\n",
       "      <td>hd 720p bullet hikvis nvr ip ds-2cd2212-i5 hik...</td>\n",
       "      <td>www.alibaba.com</td>\n",
       "    </tr>\n",
       "    <tr>\n",
       "      <th>20508</th>\n",
       "      <td>www.alibaba.com//29507</td>\n",
       "      <td>ds-2cd2532f-i full hd ip hikvision mini ir dom...</td>\n",
       "      <td>None</td>\n",
       "      <td>None</td>\n",
       "      <td>None</td>\n",
       "      <td>None</td>\n",
       "      <td>ds-2cd2532f-i full hd ip hikvision mini ir dom...</td>\n",
       "      <td>ds-2cd2532f-i full hd ip hikvis mini ir dome f...</td>\n",
       "      <td>ds-2cd2532f-i full hd ip hikvis mini ir dome f...</td>\n",
       "      <td>www.alibaba.com</td>\n",
       "    </tr>\n",
       "    <tr>\n",
       "      <th>29129</th>\n",
       "      <td>cammarkt.com//61</td>\n",
       "      <td>cammarkt nikon d610 24-3-mp cmos fx-format dig...</td>\n",
       "      <td>nikon</td>\n",
       "      <td>d610</td>\n",
       "      <td>dslr</td>\n",
       "      <td>24-3-mp</td>\n",
       "      <td>cammarkt nikon d610 24-3-mp cmos fx-format dig...</td>\n",
       "      <td>cammarkt nikon d610 24-3-mp cmos fx-format dig...</td>\n",
       "      <td>cammarkt nikon d610 24-3-mp cmos fx-format dig...</td>\n",
       "      <td>cammarkt.com</td>\n",
       "    </tr>\n",
       "    <tr>\n",
       "      <th>28961</th>\n",
       "      <td>www.gosale.com//411</td>\n",
       "      <td>panasonic lumix dmc-zs7 12-1-mp digital sale 5...</td>\n",
       "      <td>panasonic</td>\n",
       "      <td>None</td>\n",
       "      <td>None</td>\n",
       "      <td>12-1-mp</td>\n",
       "      <td>panasonic lumix dmc-zs7 12-1-mp digital sale 5...</td>\n",
       "      <td>panason lumix dmc-zs7 12-1-mp digit sale 599 00</td>\n",
       "      <td>panason lumix dmc-zs7 12-1-mp digit sale 599 0...</td>\n",
       "      <td>www.gosale.com</td>\n",
       "    </tr>\n",
       "    <tr>\n",
       "      <th>3393</th>\n",
       "      <td>www.ebay.com//60384</td>\n",
       "      <td>canon sd870 face reconditioned dependable shar...</td>\n",
       "      <td>canon</td>\n",
       "      <td>sd870</td>\n",
       "      <td>point shoot</td>\n",
       "      <td>8-mp</td>\n",
       "      <td>canon sd870 face reconditioned dependable shar...</td>\n",
       "      <td>canon sd870 face recondit depend sharp clear p...</td>\n",
       "      <td>canon sd870 face recondit depend sharp clear p...</td>\n",
       "      <td>www.ebay.com</td>\n",
       "    </tr>\n",
       "    <tr>\n",
       "      <th>4371</th>\n",
       "      <td>www.ebay.com//43936</td>\n",
       "      <td>nikon canera cool pix 2100</td>\n",
       "      <td>nikon</td>\n",
       "      <td>None</td>\n",
       "      <td>None</td>\n",
       "      <td>None</td>\n",
       "      <td>nikon canera cool pix 2100 nikon may signs cos...</td>\n",
       "      <td>nikon canera cool pix 2100</td>\n",
       "      <td>nikon canera cool pix 2100 nikon may sign cosm...</td>\n",
       "      <td>www.ebay.com</td>\n",
       "    </tr>\n",
       "    <tr>\n",
       "      <th>19597</th>\n",
       "      <td>www.shopmania.in//1327</td>\n",
       "      <td>samsung pl200 digital prices shopping comparis...</td>\n",
       "      <td>samsung</td>\n",
       "      <td>pl200</td>\n",
       "      <td>compact</td>\n",
       "      <td>2-mp</td>\n",
       "      <td>samsung pl200 digital prices shopping comparis...</td>\n",
       "      <td>samsung pl200 digit price shop comparison sams...</td>\n",
       "      <td>samsung pl200 digit price shop comparison sams...</td>\n",
       "      <td>www.shopmania.in</td>\n",
       "    </tr>\n",
       "    <tr>\n",
       "      <th>22619</th>\n",
       "      <td>www.alibaba.com//26891</td>\n",
       "      <td>ds-2cd2012-i hikvision ir network ip monitorin...</td>\n",
       "      <td>None</td>\n",
       "      <td>None</td>\n",
       "      <td>None</td>\n",
       "      <td>None</td>\n",
       "      <td>ds-2cd2012-i hikvision ir network ip monitorin...</td>\n",
       "      <td>ds-2cd2012-i hikvis ir network ip monitor soft...</td>\n",
       "      <td>ds-2cd2012-i hikvis ir network ip monitor soft...</td>\n",
       "      <td>www.alibaba.com</td>\n",
       "    </tr>\n",
       "    <tr>\n",
       "      <th>26769</th>\n",
       "      <td>www.alibaba.com//28662</td>\n",
       "      <td>hikvision security ds-2cd4332fwd-i 3-mp wdr hi...</td>\n",
       "      <td>None</td>\n",
       "      <td>None</td>\n",
       "      <td>None</td>\n",
       "      <td>3-mp</td>\n",
       "      <td>hikvision security ds-2cd4332fwd-i 3-mp wdr hi...</td>\n",
       "      <td>hikvis secur ds-2cd4332fwd-i 3-mp wdr hikvis s...</td>\n",
       "      <td>hikvis secur ds-2cd4332fwd-i 3-mp wdr hikvis s...</td>\n",
       "      <td>www.alibaba.com</td>\n",
       "    </tr>\n",
       "  </tbody>\n",
       "</table>\n",
       "</div>"
      ],
      "text/plain": [
       "                         spec_id  \\\n",
       "17645  www.buzzillions.com//1004   \n",
       "23199     www.alibaba.com//25142   \n",
       "20508     www.alibaba.com//29507   \n",
       "29129           cammarkt.com//61   \n",
       "28961        www.gosale.com//411   \n",
       "3393         www.ebay.com//60384   \n",
       "4371         www.ebay.com//43936   \n",
       "19597     www.shopmania.in//1327   \n",
       "22619     www.alibaba.com//26891   \n",
       "26769     www.alibaba.com//28662   \n",
       "\n",
       "                                              page_title      brand  model  \\\n",
       "17645  pentax k2000 slr digital review pentax k2000 1...     pentax   None   \n",
       "23199  hd 720p bullet hikvision nvr ip ds-2cd2212-i5 ...       None   None   \n",
       "20508  ds-2cd2532f-i full hd ip hikvision mini ir dom...       None   None   \n",
       "29129  cammarkt nikon d610 24-3-mp cmos fx-format dig...      nikon   d610   \n",
       "28961  panasonic lumix dmc-zs7 12-1-mp digital sale 5...  panasonic   None   \n",
       "3393   canon sd870 face reconditioned dependable shar...      canon  sd870   \n",
       "4371                          nikon canera cool pix 2100      nikon   None   \n",
       "19597  samsung pl200 digital prices shopping comparis...    samsung  pl200   \n",
       "22619  ds-2cd2012-i hikvision ir network ip monitorin...       None   None   \n",
       "26769  hikvision security ds-2cd4332fwd-i 3-mp wdr hi...       None   None   \n",
       "\n",
       "              type megapixels  \\\n",
       "17645         None      10-mp   \n",
       "23199         None     1-3-mp   \n",
       "20508         None       None   \n",
       "29129         dslr    24-3-mp   \n",
       "28961         None    12-1-mp   \n",
       "3393   point shoot       8-mp   \n",
       "4371          None       None   \n",
       "19597      compact       2-mp   \n",
       "22619         None       None   \n",
       "26769         None       3-mp   \n",
       "\n",
       "                                                all_text  \\\n",
       "17645  pentax k2000 slr digital review pentax k2000 1...   \n",
       "23199  hd 720p bullet hikvision nvr ip ds-2cd2212-i5 ...   \n",
       "20508  ds-2cd2532f-i full hd ip hikvision mini ir dom...   \n",
       "29129  cammarkt nikon d610 24-3-mp cmos fx-format dig...   \n",
       "28961  panasonic lumix dmc-zs7 12-1-mp digital sale 5...   \n",
       "3393   canon sd870 face reconditioned dependable shar...   \n",
       "4371   nikon canera cool pix 2100 nikon may signs cos...   \n",
       "19597  samsung pl200 digital prices shopping comparis...   \n",
       "22619  ds-2cd2012-i hikvision ir network ip monitorin...   \n",
       "26769  hikvision security ds-2cd4332fwd-i 3-mp wdr hi...   \n",
       "\n",
       "                                         page_title_stem  \\\n",
       "17645  pentax k2000 slr digit review pentax k2000 10 ...   \n",
       "23199  hd 720p bullet hikvis nvr ip ds-2cd2212-i5 hik...   \n",
       "20508  ds-2cd2532f-i full hd ip hikvis mini ir dome f...   \n",
       "29129  cammarkt nikon d610 24-3-mp cmos fx-format dig...   \n",
       "28961    panason lumix dmc-zs7 12-1-mp digit sale 599 00   \n",
       "3393   canon sd870 face recondit depend sharp clear p...   \n",
       "4371                          nikon canera cool pix 2100   \n",
       "19597  samsung pl200 digit price shop comparison sams...   \n",
       "22619  ds-2cd2012-i hikvis ir network ip monitor soft...   \n",
       "26769  hikvis secur ds-2cd4332fwd-i 3-mp wdr hikvis s...   \n",
       "\n",
       "                                           all_text_stem                 site  \n",
       "17645  pentax k2000 slr digit review pentax k2000 10 ...  www.buzzillions.com  \n",
       "23199  hd 720p bullet hikvis nvr ip ds-2cd2212-i5 hik...      www.alibaba.com  \n",
       "20508  ds-2cd2532f-i full hd ip hikvis mini ir dome f...      www.alibaba.com  \n",
       "29129  cammarkt nikon d610 24-3-mp cmos fx-format dig...         cammarkt.com  \n",
       "28961  panason lumix dmc-zs7 12-1-mp digit sale 599 0...       www.gosale.com  \n",
       "3393   canon sd870 face recondit depend sharp clear p...         www.ebay.com  \n",
       "4371   nikon canera cool pix 2100 nikon may sign cosm...         www.ebay.com  \n",
       "19597  samsung pl200 digit price shop comparison sams...     www.shopmania.in  \n",
       "22619  ds-2cd2012-i hikvis ir network ip monitor soft...      www.alibaba.com  \n",
       "26769  hikvis secur ds-2cd4332fwd-i 3-mp wdr hikvis s...      www.alibaba.com  "
      ]
     },
     "execution_count": 28,
     "metadata": {},
     "output_type": "execute_result"
    }
   ],
   "source": [
    "specs_df.sample(10)"
   ]
  },
  {
   "cell_type": "code",
   "execution_count": 29,
   "metadata": {
    "Collapsed": "false"
   },
   "outputs": [],
   "source": [
    "specs_df.index = specs_df.spec_id"
   ]
  },
  {
   "cell_type": "code",
   "execution_count": 30,
   "metadata": {
    "Collapsed": "false"
   },
   "outputs": [
    {
     "data": {
      "text/plain": [
       "array([['www.ebay.com//59828', 'olympus x 42 12-0-mp digit pink',\n",
       "        'olympus', 'x42', 'point shoot'],\n",
       "       ['www.pricedekho.com//1016',\n",
       "        'nikon coolpix p530 point shoot india offer full specif pricedekho com',\n",
       "        'nikon', 'p530', 'point shoot'],\n",
       "       ['buy.net//5758',\n",
       "        'fujifilm blower finepix jx680-16-mp compact 3 lcd 5x optic zoom 4608 x 3440 imag 1280 x 720 video pictbridg hd movi mode comparison net',\n",
       "        'fujifilm', 'jx680', 'compact'],\n",
       "       ['www.eglobalcentral.co.uk//74',\n",
       "        'nikon af- dx nikkor 18-140mm f 3 5-5 6g ed vr lens', 'nikon',\n",
       "        None, None],\n",
       "       ['www.ebay.com//46208',\n",
       "        'samsung st seri st65 14-2-mp digit 8806071373270', 'samsung',\n",
       "        'st65', 'point shoot']], dtype=object)"
      ]
     },
     "execution_count": 30,
     "metadata": {},
     "output_type": "execute_result"
    }
   ],
   "source": [
    "sample = specs_df.sample(5)\n",
    "sample[['spec_id', 'page_title_stem', 'brand', 'model', 'type']].values"
   ]
  },
  {
   "cell_type": "code",
   "execution_count": 35,
   "metadata": {
    "Collapsed": "false"
   },
   "outputs": [
    {
     "data": {
      "text/plain": [
       "NaN          5918\n",
       "canon        5487\n",
       "nikon        4720\n",
       "sony         3442\n",
       "fujifilm     1620\n",
       "olympus      1459\n",
       "panasonic    1284\n",
       "samsung      1042\n",
       "kodak         767\n",
       "pentax        665\n",
       "casio         217\n",
       "leica         216\n",
       "gopro         206\n",
       "vivitar       196\n",
       "polaroid      120\n",
       "ricoh         111\n",
       "Name: brand, dtype: int64"
      ]
     },
     "execution_count": 35,
     "metadata": {},
     "output_type": "execute_result"
    }
   ],
   "source": [
    "specs_df.brand.value_counts(dropna=False)"
   ]
  },
  {
   "cell_type": "code",
   "execution_count": 32,
   "metadata": {
    "Collapsed": "false"
   },
   "outputs": [
    {
     "data": {
      "text/plain": [
       "NaN      13439\n",
       "t3i        210\n",
       "d3200      195\n",
       "60d        167\n",
       "d3100      156\n",
       "70d        146\n",
       "d5200      146\n",
       "d7000      136\n",
       "d5100      136\n",
       "1100d      131\n",
       "Name: model, dtype: int64"
      ]
     },
     "execution_count": 32,
     "metadata": {},
     "output_type": "execute_result"
    }
   ],
   "source": [
    "specs_df.model.value_counts(dropna=False)[:10]"
   ]
  },
  {
   "cell_type": "code",
   "execution_count": 33,
   "metadata": {
    "Collapsed": "false"
   },
   "outputs": [
    {
     "data": {
      "text/plain": [
       "NaN            10701\n",
       "point shoot     7769\n",
       "dslr            5576\n",
       "compact         1235\n",
       "mirrorless      1115\n",
       "underwater       602\n",
       "bridge           472\n",
       "Name: type, dtype: int64"
      ]
     },
     "execution_count": 33,
     "metadata": {},
     "output_type": "execute_result"
    }
   ],
   "source": [
    "specs_df.type.value_counts(dropna=False)[:10]"
   ]
  },
  {
   "cell_type": "code",
   "execution_count": 34,
   "metadata": {
    "Collapsed": "false"
   },
   "outputs": [
    {
     "data": {
      "text/plain": [
       "NaN        7461\n",
       "16-mp      1752\n",
       "2-mp       1678\n",
       "12-1-mp     881\n",
       "3-mp        867\n",
       "18-mp       767\n",
       "1-3-mp      707\n",
       "8-mp        694\n",
       "5-mp        689\n",
       "1-mp        663\n",
       "Name: megapixels, dtype: int64"
      ]
     },
     "execution_count": 34,
     "metadata": {},
     "output_type": "execute_result"
    }
   ],
   "source": [
    "specs_df.megapixels.value_counts(dropna=False)[:10]"
   ]
  },
  {
   "cell_type": "code",
   "execution_count": 36,
   "metadata": {
    "Collapsed": "false"
   },
   "outputs": [],
   "source": [
    "specs_df.to_csv('../data/processed/specs.csv', index=None)"
   ]
  },
  {
   "cell_type": "markdown",
   "metadata": {
    "Collapsed": "false"
   },
   "source": [
    "# Test pipeline"
   ]
  },
  {
   "cell_type": "code",
   "execution_count": 37,
   "metadata": {
    "Collapsed": "false"
   },
   "outputs": [],
   "source": [
    "model = LGBMPipeline(specs_df, labels_df)"
   ]
  },
  {
   "cell_type": "code",
   "execution_count": 38,
   "metadata": {
    "Collapsed": "false"
   },
   "outputs": [
    {
     "data": {
      "text/plain": [
       "array([1, 0, 0, ..., 0, 0, 0])"
      ]
     },
     "execution_count": 38,
     "metadata": {},
     "output_type": "execute_result"
    }
   ],
   "source": [
    "model.labels"
   ]
  },
  {
   "cell_type": "code",
   "execution_count": 39,
   "metadata": {
    "Collapsed": "false"
   },
   "outputs": [
    {
     "name": "stderr",
     "output_type": "stream",
     "text": [
      "1365it [00:00, 6439.02it/s]\n",
      "100%|██████████| 14/14 [00:00<00:00, 14.37it/s]\n"
     ]
    }
   ],
   "source": [
    "model.precompute()"
   ]
  },
  {
   "cell_type": "code",
   "execution_count": 40,
   "metadata": {
    "Collapsed": "false"
   },
   "outputs": [
    {
     "data": {
      "text/plain": [
       "(2, 25)"
      ]
     },
     "execution_count": 40,
     "metadata": {},
     "output_type": "execute_result"
    }
   ],
   "source": [
    "x = model.make_X([0, 2], [1, 3])\n",
    "x.shape"
   ]
  },
  {
   "cell_type": "code",
   "execution_count": 41,
   "metadata": {
    "Collapsed": "false"
   },
   "outputs": [
    {
     "name": "stdout",
     "output_type": "stream",
     "text": [
      "Precomputing\n",
      "Making features\n",
      "Making features for additional_labels\n",
      "Fitting model\n"
     ]
    }
   ],
   "source": [
    "model.train(precompute=False)"
   ]
  },
  {
   "cell_type": "code",
   "execution_count": 42,
   "metadata": {
    "Collapsed": "false"
   },
   "outputs": [
    {
     "name": "stdout",
     "output_type": "stream",
     "text": [
      "Train F1 0.9197842608482472\n",
      "              precision    recall  f1-score   support\n",
      "\n",
      "           0       0.94      1.00      0.97    110212\n",
      "           1       1.00      0.85      0.92     44039\n",
      "\n",
      "    accuracy                           0.96    154251\n",
      "   macro avg       0.97      0.93      0.95    154251\n",
      "weighted avg       0.96      0.96      0.96    154251\n",
      "\n"
     ]
    }
   ],
   "source": [
    "pred_train = model.clf.predict(model.train_X)\n",
    "\n",
    "print('Train F1', f1_score(model.train_Y, pred_train))\n",
    "print(classification_report(model.train_Y, pred_train))"
   ]
  },
  {
   "cell_type": "code",
   "execution_count": 43,
   "metadata": {
    "Collapsed": "false"
   },
   "outputs": [
    {
     "name": "stdout",
     "output_type": "stream",
     "text": [
      "F1 on additional labels 0.5419793004223457\n",
      "              precision    recall  f1-score   support\n",
      "\n",
      "           0       0.90      0.99      0.95    519208\n",
      "           1       0.90      0.39      0.54     90159\n",
      "\n",
      "    accuracy                           0.90    609367\n",
      "   macro avg       0.90      0.69      0.74    609367\n",
      "weighted avg       0.90      0.90      0.89    609367\n",
      "\n"
     ]
    }
   ],
   "source": [
    "additional_left_spec_idx = model.specs_id_to_idx[model.additional_df['left_spec_id']]\n",
    "additional_right_spec_idx = model.specs_id_to_idx[model.additional_df['right_spec_id']]\n",
    "\n",
    "additional_X = model.make_X(additional_left_spec_idx, additional_right_spec_idx)\n",
    "\n",
    "additional_Y = model.additional_df.label\n",
    "\n",
    "pred_additional = model.clf.predict(additional_X)\n",
    "\n",
    "print('F1 on additional labels', f1_score(additional_Y, pred_additional))\n",
    "print(classification_report(additional_Y, pred_additional))"
   ]
  },
  {
   "cell_type": "markdown",
   "metadata": {
    "Collapsed": "false"
   },
   "source": [
    "Sanity check passed"
   ]
  },
  {
   "cell_type": "markdown",
   "metadata": {
    "Collapsed": "false"
   },
   "source": [
    "# Feature importance"
   ]
  },
  {
   "cell_type": "code",
   "execution_count": 146,
   "metadata": {
    "Collapsed": "false"
   },
   "outputs": [],
   "source": [
    "import shap"
   ]
  },
  {
   "cell_type": "code",
   "execution_count": 112,
   "metadata": {
    "Collapsed": "false"
   },
   "outputs": [],
   "source": [
    "explainer = shap.TreeExplainer(model.clf)"
   ]
  },
  {
   "cell_type": "code",
   "execution_count": 113,
   "metadata": {
    "Collapsed": "false"
   },
   "outputs": [],
   "source": [
    "shap_values = explainer.shap_values(model.train_X)"
   ]
  },
  {
   "cell_type": "code",
   "execution_count": 114,
   "metadata": {
    "Collapsed": "false"
   },
   "outputs": [],
   "source": [
    "feature_names = ['n_common_tokens', \n",
    "                    'n_common_tokens_normed',\n",
    "                    'sum_len_common_tokens',\n",
    "                    'special_sum_len_common_tokens',\n",
    "                    'special_n_common_tokens',\n",
    "                    'number_sum_len_common_tokens',\n",
    "                    'number_n_common_tokens',\n",
    "\n",
    "                    'n_common_symbols_models', 'same_model',\n",
    "\n",
    "                    'n_common_symbols_types', 'same_type',\n",
    "\n",
    "                    'n_common_symbols_megapixels', 'same_megapixels',\n",
    "\n",
    "                    'cosine_sim_tfidf',\n",
    "                    'lev_ratios',\n",
    "\n",
    "                    'n_common_neighboors', 'n_common_neighboors_normed',\n",
    "\n",
    "                    'jaccard_sim',\n",
    "                    'n_common_symbols',\n",
    "\n",
    "\n",
    "                    'site_left', 'site_right', \n",
    "\n",
    "\n",
    "                    'sum_len_common_tokens_all_text', 'n_common_tokens_all_text',\n",
    "                    'special_n_common_tokens_all_text', 'special_n_common_tokens_all_text_normed',\n",
    "\n",
    "\n",
    "                   'same_site',\n",
    "                   ]"
   ]
  },
  {
   "cell_type": "code",
   "execution_count": 115,
   "metadata": {
    "Collapsed": "false"
   },
   "outputs": [
    {
     "data": {
      "image/png": "[encoded data removed]",
      "text/plain": [
       "<Figure size 576x684 with 1 Axes>"
      ]
     },
     "metadata": {},
     "output_type": "display_data"
    }
   ],
   "source": [
    "shap.summary_plot(shap_values, model.train_X, plot_type=\"bar\", feature_names=feature_names)"
   ]
  },
  {
   "cell_type": "markdown",
   "metadata": {
    "Collapsed": "false"
   },
   "source": [
    "# Submit"
   ]
  },
  {
   "cell_type": "code",
   "execution_count": 44,
   "metadata": {
    "Collapsed": "false"
   },
   "outputs": [
    {
     "name": "stderr",
     "output_type": "stream",
     "text": [
      "100%|██████████| 16/16 [1:46:15<00:00, 220.25s/it]  \n"
     ]
    }
   ],
   "source": [
    "model.make_submission()"
   ]
  },
  {
   "cell_type": "code",
   "execution_count": 45,
   "metadata": {
    "Collapsed": "false"
   },
   "outputs": [
    {
     "data": {
      "text/plain": [
       "(1849698, 2)"
      ]
     },
     "execution_count": 45,
     "metadata": {},
     "output_type": "execute_result"
    }
   ],
   "source": [
    "submit_df = pd.read_csv('../data/submit/submit.csv')\n",
    "submit_df.shape"
   ]
  },
  {
   "cell_type": "code",
   "execution_count": 46,
   "metadata": {
    "Collapsed": "false"
   },
   "outputs": [],
   "source": [
    "specs_df.index = specs_df.spec_id"
   ]
  },
  {
   "cell_type": "code",
   "execution_count": 48,
   "metadata": {
    "Collapsed": "false"
   },
   "outputs": [
    {
     "name": "stdout",
     "output_type": "stream",
     "text": [
      "Left\n",
      " canon powershot digital elph sd1300 ixus 105 12-1-mp digital\n",
      "\n",
      "Right\n",
      " canon powershot elph 100 hs ixus 115 hs 12-1-mp digital\n"
     ]
    }
   ],
   "source": [
    "row = submit_df.sample(1)\n",
    "\n",
    "print('Left\\n', specs_df.loc[row.left_spec_id].page_title.values[0])\n",
    "print('')\n",
    "print('Right\\n', specs_df.loc[row.right_spec_id].page_title.values[0])"
   ]
  },
  {
   "cell_type": "markdown",
   "metadata": {
    "Collapsed": "false"
   },
   "source": [
    "# CV"
   ]
  },
  {
   "cell_type": "code",
   "execution_count": 645,
   "metadata": {
    "Collapsed": "false"
   },
   "outputs": [],
   "source": [
    "def get_split(classes_df, labels_df, test_classes=5):\n",
    "    classes = classes_df.class_.unique()\n",
    "    test_classes = np.random.choice(classes, test_classes)\n",
    "    \n",
    "    test_spec_ids = classes_df[classes_df.class_.isin(test_classes)].spec_id\n",
    "    \n",
    "    test_label_mask = labels_df.left_spec_id.isin(test_spec_ids) | labels_df.right_spec_id.isin(test_spec_ids)\n",
    "    \n",
    "    test_idx = np.array(labels_df[test_label_mask].index)\n",
    "    train_idx = np.array(labels_df[~test_label_mask].index)\n",
    "    \n",
    "    return train_idx, test_idx\n",
    "\n",
    "def evaluate_submit(submit_df, test_labels_df):\n",
    "    submit_df = submit_df.copy()\n",
    "    submit_df['label'] = 1\n",
    "    \n",
    "    merged = test_labels_df.merge(submit_df, on=['left_spec_id', 'right_spec_id'], how='left', suffixes = ('_true', '_pred'))\n",
    "    merged['label_pred'] = merged['label_pred'].fillna(0)\n",
    "    \n",
    "    tp = merged[(merged.label_true == 1) & (merged.label_pred == 1)]\n",
    "    tn = merged[(merged.label_true == 0) & (merged.label_pred == 0)]\n",
    "    \n",
    "    fp = merged[(merged.label_true == 0) & (merged.label_pred == 1)]\n",
    "    fn = merged[(merged.label_true == 1) & (merged.label_pred == 0)]\n",
    "    \n",
    "    precision = tp.shape[0]/(tp.shape[0]+fp.shape[0])\n",
    "    recall = tp.shape[0]/(tp.shape[0]+fn.shape[0])\n",
    "    \n",
    "    f1 = 2 * (precision * recall)/(precision+recall)\n",
    "    \n",
    "    return f1, tp, tn, fp, fn\n",
    "\n",
    "def cross_validate_pipeline(pipeline_class, specs_df, labels_df, n_folds=5, test_classes=5):\n",
    "    # Obtain triangles from label and number them\n",
    "    classes_df = make_classes_df(labels_df)\n",
    "    folds = []\n",
    "    submit_fpaths = []\n",
    "    scores = []\n",
    "    for i_fold in tqdm(range(n_folds)):\n",
    "        print('Fold', i_fold)\n",
    "        labels_train_idx, labels_test_idx = get_split(classes_df, labels_df, test_classes=test_classes)\n",
    "        folds.append( (labels_train_idx, labels_test_idx) )\n",
    "        \n",
    "        train_labels = labels_df.iloc[labels_train_idx].copy()\n",
    "        test_labels = labels_df.iloc[labels_test_idx].copy()\n",
    "        \n",
    "        submit_fpath = f'../data/interim/cv_submit_fold{i_fold}.csv'\n",
    "        submit_fpaths.append(submit_fpath)\n",
    "        \n",
    "        model = pipeline_class(specs_df, train_labels, submit_fpath=submit_fpath)\n",
    "        print('training model')\n",
    "        model.train()\n",
    "        \n",
    "        print('generating submit')\n",
    "        model.make_submission()\n",
    "        \n",
    "        print('evaluating submit')\n",
    "        f1score, _, _, _, _ = evaluate_submit(pd.read_csv(model.submit_fpath), test_labels)\n",
    "        scores.append(f1score)\n",
    "        print('Score', f1score)\n",
    "    return folds, submit_fpaths, scores"
   ]
  },
  {
   "cell_type": "code",
   "execution_count": null,
   "metadata": {
    "Collapsed": "false"
   },
   "outputs": [
    {
     "data": {
      "application/vnd.jupyter.widget-view+json": {
       "model_id": "aadba96385584e0386db9bdf1aca595e",
       "version_major": 2,
       "version_minor": 0
      },
      "text/html": [
       "<p>Failed to display Jupyter Widget of type <code>HBox</code>.</p>\n",
       "<p>\n",
       "  If you're reading this message in the Jupyter Notebook or JupyterLab Notebook, it may mean\n",
       "  that the widgets JavaScript is still loading. If this message persists, it\n",
       "  likely means that the widgets JavaScript library is either not installed or\n",
       "  not enabled. See the <a href=\"https://ipywidgets.readthedocs.io/en/stable/user_install.html\">Jupyter\n",
       "  Widgets Documentation</a> for setup instructions.\n",
       "</p>\n",
       "<p>\n",
       "  If you're reading this message in another frontend (for example, a static\n",
       "  rendering on GitHub or <a href=\"https://nbviewer.jupyter.org/\">NBViewer</a>),\n",
       "  it may mean that your frontend doesn't currently support widgets.\n",
       "</p>\n"
      ],
      "text/plain": [
       "HBox(children=(IntProgress(value=0, max=3), HTML(value='')))"
      ]
     },
     "metadata": {},
     "output_type": "display_data"
    },
    {
     "name": "stdout",
     "output_type": "stream",
     "text": [
      "Fold 0\n",
      "training model\n",
      "Precomputing\n"
     ]
    },
    {
     "name": "stderr",
     "output_type": "stream",
     "text": [
      "\n",
      "\n",
      "0it [00:00, ?it/s]\u001b[A\u001b[A\n",
      "\n",
      "568it [00:00, 5643.74it/s]\u001b[A\u001b[A\n",
      "\n",
      "865it [00:00, 4439.29it/s]\u001b[A\u001b[A\n",
      "\n",
      "1187it [00:00, 3984.91it/s]\u001b[A\u001b[A\n",
      "\n",
      "1399it [00:00, 4161.64it/s]\u001b[A\u001b[A\n",
      "\n",
      "  0%|          | 0/34 [00:00<?, ?it/s]\u001b[A\u001b[A\n",
      "\n",
      " 12%|█▏        | 4/34 [00:00<00:03,  8.90it/s]\u001b[A\u001b[A\n",
      "\n",
      " 56%|█████▌    | 19/34 [00:00<00:01, 11.33it/s]\u001b[A\u001b[A\n",
      "\n",
      " 79%|███████▉  | 27/34 [00:01<00:00, 15.13it/s]\u001b[A\u001b[A\n",
      "\n",
      " 91%|█████████ | 31/34 [00:01<00:00, 15.74it/s]\u001b[A\u001b[A\n",
      "\n",
      "100%|██████████| 34/34 [00:01<00:00, 26.59it/s]\u001b[A\u001b[A"
     ]
    },
    {
     "name": "stdout",
     "output_type": "stream",
     "text": [
      "Making features\n",
      "Making features for additional_labels\n",
      "Fitting model\n"
     ]
    },
    {
     "name": "stderr",
     "output_type": "stream",
     "text": [
      "\n",
      "\n",
      "  0%|          | 0/58 [00:00<?, ?it/s]\u001b[A\u001b[A"
     ]
    },
    {
     "name": "stdout",
     "output_type": "stream",
     "text": [
      "generating submit\n"
     ]
    },
    {
     "name": "stderr",
     "output_type": "stream",
     "text": [
      "\n",
      "\n",
      "  2%|▏         | 1/58 [00:00<00:39,  1.43it/s]\u001b[A\u001b[A\n",
      "\n",
      "  9%|▊         | 5/58 [06:32<26:23, 29.87s/it]\u001b[A\u001b[A\n",
      "\n",
      " 10%|█         | 6/58 [06:33<18:17, 21.11s/it]\u001b[A\u001b[A\n",
      "\n",
      " 22%|██▏       | 13/58 [06:33<11:05, 14.78s/it]\u001b[A\u001b[A\n",
      "\n",
      " 22%|██▏       | 13/58 [06:50<11:05, 14.78s/it]\u001b[A\u001b[A\n",
      "\n",
      " 26%|██▌       | 15/58 [07:08<11:13, 15.67s/it]\u001b[A\u001b[A\n",
      "\n",
      " 31%|███       | 18/58 [07:08<07:19, 11.00s/it]\u001b[A\u001b[A\n",
      "\n",
      " 40%|███▉      | 23/58 [07:17<04:47,  8.22s/it]\u001b[A\u001b[A\n",
      "\n",
      " 43%|████▎     | 25/58 [07:17<03:11,  5.80s/it]\u001b[A\u001b[A\n",
      "\n",
      " 53%|█████▎    | 31/58 [07:57<02:42,  6.01s/it]\u001b[A\u001b[A\n",
      "\n",
      " 59%|█████▊    | 34/58 [12:47<13:18, 33.27s/it]\u001b[A\u001b[A\n",
      "\n",
      " 60%|██████    | 35/58 [13:16<12:18, 32.09s/it]\u001b[A\u001b[A\n",
      "\n",
      " 64%|██████▍   | 37/58 [13:42<09:11, 26.28s/it]\u001b[A\u001b[A\n",
      "\n",
      " 66%|██████▌   | 38/58 [13:49<06:48, 20.41s/it]\u001b[A\u001b[A\n",
      "\n",
      " 69%|██████▉   | 40/58 [13:49<04:17, 14.31s/it]\u001b[A\u001b[A\n",
      "\n",
      " 71%|███████   | 41/58 [13:49<02:51, 10.09s/it]\u001b[A\u001b[A\n",
      "\n",
      " 74%|███████▍  | 43/58 [14:05<02:22,  9.51s/it]\u001b[A\u001b[A\n",
      "\n",
      " 81%|████████  | 47/58 [16:12<02:57, 16.16s/it]\u001b[A\u001b[A\n",
      "\n",
      " 84%|████████▍ | 49/58 [16:12<01:41, 11.33s/it]\u001b[A\u001b[A\n",
      "\n",
      " 95%|█████████▍| 55/58 [16:13<00:23,  7.96s/it]\u001b[A\u001b[A\n",
      "\n",
      "100%|██████████| 58/58 [16:13<00:00, 16.78s/it]\u001b[A\u001b[A"
     ]
    },
    {
     "name": "stdout",
     "output_type": "stream",
     "text": [
      "evaluating submit\n",
      "Score 0.5209091803601299\n",
      "Fold 1\n",
      "training model\n",
      "Precomputing\n"
     ]
    },
    {
     "name": "stderr",
     "output_type": "stream",
     "text": [
      "\n",
      "\n",
      "0it [00:00, ?it/s]\u001b[A\u001b[A\n",
      "\n",
      "521it [00:00, 5205.96it/s]\u001b[A\u001b[A\n",
      "\n",
      "1033it [00:00, 5178.40it/s]\u001b[A\u001b[A\n",
      "\n",
      "1399it [00:00, 4914.83it/s]\u001b[A\u001b[A\n",
      "\n",
      "  0%|          | 0/34 [00:00<?, ?it/s]\u001b[A\u001b[A\n",
      "\n",
      " 12%|█▏        | 4/34 [00:00<00:03,  9.90it/s]\u001b[A\u001b[A\n",
      "\n",
      " 56%|█████▌    | 19/34 [00:00<00:01, 12.43it/s]\u001b[A\u001b[A\n",
      "\n",
      " 79%|███████▉  | 27/34 [00:01<00:00, 16.51it/s]\u001b[A\u001b[A\n",
      "\n",
      " 91%|█████████ | 31/34 [00:01<00:00, 17.29it/s]\u001b[A\u001b[A\n",
      "\n",
      "100%|██████████| 34/34 [00:01<00:00, 27.92it/s]\u001b[A\u001b[A"
     ]
    },
    {
     "name": "stdout",
     "output_type": "stream",
     "text": [
      "Making features\n",
      "Making features for additional_labels\n",
      "Fitting model\n"
     ]
    },
    {
     "name": "stderr",
     "output_type": "stream",
     "text": [
      "\n",
      "\n",
      "  0%|          | 0/58 [00:00<?, ?it/s]\u001b[A\u001b[A"
     ]
    },
    {
     "name": "stdout",
     "output_type": "stream",
     "text": [
      "generating submit\n"
     ]
    },
    {
     "name": "stderr",
     "output_type": "stream",
     "text": [
      "\n",
      "\n",
      "  2%|▏         | 1/58 [00:00<00:34,  1.64it/s]\u001b[A\u001b[A"
     ]
    }
   ],
   "source": [
    "# np.random.seed(42)\n",
    "np.random.seed(None)\n",
    "folds, submit_fpaths, scores = cross_validate_pipeline(LGBMPipeline, specs_df, labels_df, n_folds=3)"
   ]
  },
  {
   "cell_type": "code",
   "execution_count": 18,
   "metadata": {
    "Collapsed": "false"
   },
   "outputs": [
    {
     "data": {
      "text/plain": [
       "[0.6862745098039216, 0.5894736842105264, 0.6948356807511737]"
      ]
     },
     "execution_count": 18,
     "metadata": {},
     "output_type": "execute_result"
    }
   ],
   "source": [
    "scores"
   ]
  },
  {
   "cell_type": "code",
   "execution_count": 19,
   "metadata": {
    "Collapsed": "false"
   },
   "outputs": [
    {
     "data": {
      "text/plain": [
       "0.6568612915885406"
      ]
     },
     "execution_count": 19,
     "metadata": {},
     "output_type": "execute_result"
    }
   ],
   "source": [
    "np.mean(scores)"
   ]
  },
  {
   "cell_type": "markdown",
   "metadata": {
    "Collapsed": "false"
   },
   "source": [
    "## Test evaluation scheme"
   ]
  },
  {
   "cell_type": "code",
   "execution_count": null,
   "metadata": {
    "Collapsed": "false"
   },
   "outputs": [],
   "source": [
    "\n",
    "    \n",
    "    \n",
    "test_labels_df = labels_df.iloc[folds[0][1]]\n",
    "submit_df = pd.read_csv(submit_fpaths[0])\n",
    "\n",
    "score, tp, tn, fp, fn = evaluate_submit(submit_df, test_labels_df)\n",
    "score"
   ]
  },
  {
   "cell_type": "markdown",
   "metadata": {
    "Collapsed": "false"
   },
   "source": [
    "Test one true positive"
   ]
  },
  {
   "cell_type": "code",
   "execution_count": null,
   "metadata": {
    "Collapsed": "false"
   },
   "outputs": [],
   "source": [
    "tp.head()"
   ]
  },
  {
   "cell_type": "code",
   "execution_count": null,
   "metadata": {
    "Collapsed": "false"
   },
   "outputs": [],
   "source": [
    "test_labels_df[test_labels_df.label == 1][test_labels_df.left_spec_id == 'www.ebay.com//24206']"
   ]
  },
  {
   "cell_type": "code",
   "execution_count": null,
   "metadata": {
    "Collapsed": "false"
   },
   "outputs": [],
   "source": [
    "submit_df[(submit_df.left_spec_id == 'www.ebay.com//24206') & (submit_df.right_spec_id == 'www.priceme.co.nz//54')]"
   ]
  },
  {
   "cell_type": "markdown",
   "metadata": {
    "Collapsed": "false"
   },
   "source": [
    "Pass"
   ]
  },
  {
   "cell_type": "markdown",
   "metadata": {
    "Collapsed": "false"
   },
   "source": [
    "Check one tn"
   ]
  },
  {
   "cell_type": "code",
   "execution_count": null,
   "metadata": {
    "Collapsed": "false"
   },
   "outputs": [],
   "source": [
    "tn.head()"
   ]
  },
  {
   "cell_type": "code",
   "execution_count": null,
   "metadata": {
    "Collapsed": "false"
   },
   "outputs": [],
   "source": [
    "test_labels_df[test_labels_df.label == 0][test_labels_df.left_spec_id == 'www.ebay.com//42074'][test_labels_df.right_spec_id == 'www.ebay.com//47107']"
   ]
  },
  {
   "cell_type": "code",
   "execution_count": null,
   "metadata": {
    "Collapsed": "false"
   },
   "outputs": [],
   "source": [
    "submit_df[submit_df.left_spec_id == 'www.ebay.com//42074'][submit_df.right_spec_id == 'www.ebay.com//47107']"
   ]
  },
  {
   "cell_type": "markdown",
   "metadata": {
    "Collapsed": "false"
   },
   "source": [
    "Pass"
   ]
  },
  {
   "cell_type": "markdown",
   "metadata": {
    "Collapsed": "false"
   },
   "source": [
    "Check one fp"
   ]
  },
  {
   "cell_type": "code",
   "execution_count": null,
   "metadata": {
    "Collapsed": "false"
   },
   "outputs": [],
   "source": [
    "fp.head()"
   ]
  },
  {
   "cell_type": "code",
   "execution_count": null,
   "metadata": {
    "Collapsed": "false"
   },
   "outputs": [],
   "source": [
    "test_labels_df[test_labels_df.label == 0][test_labels_df.left_spec_id == 'www.ebay.com//42074'][test_labels_df.right_spec_id == 'www.ebay.com//54040']"
   ]
  },
  {
   "cell_type": "code",
   "execution_count": null,
   "metadata": {
    "Collapsed": "false"
   },
   "outputs": [],
   "source": [
    "submit_df[submit_df.left_spec_id == 'www.ebay.com//42074'][submit_df.right_spec_id == 'www.ebay.com//54040']"
   ]
  },
  {
   "cell_type": "markdown",
   "metadata": {
    "Collapsed": "false"
   },
   "source": [
    "Pass"
   ]
  },
  {
   "cell_type": "markdown",
   "metadata": {
    "Collapsed": "false"
   },
   "source": [
    "Check one fn"
   ]
  },
  {
   "cell_type": "code",
   "execution_count": null,
   "metadata": {
    "Collapsed": "false"
   },
   "outputs": [],
   "source": [
    "fn.head()"
   ]
  },
  {
   "cell_type": "code",
   "execution_count": null,
   "metadata": {
    "Collapsed": "false"
   },
   "outputs": [],
   "source": [
    "test_labels_df[test_labels_df.label == 1][test_labels_df.left_spec_id == 'www.ebay.com//54040'][test_labels_df.right_spec_id == 'www.ebay.com//54457']"
   ]
  },
  {
   "cell_type": "code",
   "execution_count": null,
   "metadata": {
    "Collapsed": "false"
   },
   "outputs": [],
   "source": [
    "submit_df[submit_df.left_spec_id == 'www.ebay.com//54040'][submit_df.right_spec_id == 'www.ebay.com//54457']"
   ]
  },
  {
   "cell_type": "markdown",
   "metadata": {
    "Collapsed": "false"
   },
   "source": [
    "pass"
   ]
  },
  {
   "cell_type": "code",
   "execution_count": null,
   "metadata": {
    "Collapsed": "false"
   },
   "outputs": [],
   "source": []
  },
  {
   "cell_type": "code",
   "execution_count": null,
   "metadata": {
    "Collapsed": "false"
   },
   "outputs": [],
   "source": []
  }
 ],
 "metadata": {
  "kernelspec": {
   "display_name": "Python 3",
   "language": "python",
   "name": "python3"
  },
  "language_info": {
   "codemirror_mode": {
    "name": "ipython",
    "version": 3
   },
   "file_extension": ".py",
   "mimetype": "text/x-python",
   "name": "python",
   "nbconvert_exporter": "python",
   "pygments_lexer": "ipython3",
   "version": "3.6.7"
  }
 },
 "nbformat": 4,
 "nbformat_minor": 4
}
