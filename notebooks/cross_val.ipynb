{
 "cells": [
  {
   "cell_type": "code",
   "execution_count": 1,
   "metadata": {
    "Collapsed": "false"
   },
   "outputs": [],
   "source": [
    "import os\n",
    "import sys\n",
    "import random\n",
    "import json\n",
    "import collections\n",
    "import re\n",
    "from itertools import combinations\n",
    "\n",
    "import pandas as pd\n",
    "import numpy as np\n",
    "import scipy\n",
    "import statsmodels\n",
    "from tqdm import trange, tqdm_notebook as tqdm\n",
    "\n",
    "from sklearn.model_selection import train_test_split\n",
    "from sklearn.metrics import f1_score, classification_report\n",
    "from lightgbm import LGBMClassifier\n",
    "\n",
    "from matplotlib import pyplot as plt\n",
    "import seaborn as sns\n",
    "%matplotlib inline\n",
    "\n",
    "\n",
    "pd.options.display.max_columns = 999\n",
    "\n",
    "pd.options.display.max_rows = 100\n",
    "\n",
    "sns.set()\n",
    "plt.rcParams[\"figure.figsize\"] = (10,7)"
   ]
  },
  {
   "cell_type": "code",
   "execution_count": 2,
   "metadata": {
    "Collapsed": "false"
   },
   "outputs": [],
   "source": [
    "%load_ext autoreload\n",
    "%autoreload 2"
   ]
  },
  {
   "cell_type": "code",
   "execution_count": 3,
   "metadata": {
    "Collapsed": "false"
   },
   "outputs": [],
   "source": [
    "from sigmod_src.make_dataset import make_specs_dataset\n",
    "from sigmod_src.preprocessing import preprocess_specs_dataset\n",
    "from sigmod_src.pipeline import LGBMPipeline\n",
    "from sigmod_src.utils import get_additional_labels, make_classes_df"
   ]
  },
  {
   "cell_type": "code",
   "execution_count": 4,
   "metadata": {
    "Collapsed": "false"
   },
   "outputs": [],
   "source": [
    "LG_LABELS_PATH = '../data/raw/sigmod_large_labelled_dataset.csv'\n",
    "SPECS_PATH = '../data/raw/2013_camera_specs/'"
   ]
  },
  {
   "cell_type": "markdown",
   "metadata": {
    "Collapsed": "false"
   },
   "source": [
    "# Load labels df"
   ]
  },
  {
   "cell_type": "code",
   "execution_count": 5,
   "metadata": {
    "Collapsed": "false"
   },
   "outputs": [
    {
     "data": {
      "text/plain": [
       "(297651, 3)"
      ]
     },
     "execution_count": 5,
     "metadata": {},
     "output_type": "execute_result"
    }
   ],
   "source": [
    "labels_df = pd.read_csv(LG_LABELS_PATH)\n",
    "labels_df.shape"
   ]
  },
  {
   "cell_type": "markdown",
   "metadata": {
    "Collapsed": "false"
   },
   "source": [
    "# Load specs df"
   ]
  },
  {
   "cell_type": "code",
   "execution_count": 6,
   "metadata": {
    "Collapsed": "false"
   },
   "outputs": [],
   "source": [
    "specs_dataset_src = make_specs_dataset(SPECS_PATH)"
   ]
  },
  {
   "cell_type": "code",
   "execution_count": 7,
   "metadata": {
    "Collapsed": "false"
   },
   "outputs": [
    {
     "name": "stdout",
     "output_type": "stream",
     "text": [
      "Conflict, no matching items found for brand: tamron\n",
      "Conflict, no matching items found for brand: tamron\n",
      "Conflict, no matching items found for brand: shoot\n",
      "Conflict, no matching items found for brand: cxin\n",
      "Conflict, no matching items found for brand: shoot\n",
      "Conflict, no matching items found for brand: shoot\n",
      "Conflict, no matching items found for brand: shoot\n",
      "Conflict, no matching items found for brand: shoot\n",
      "Conflict, no matching items found for brand: shoot\n",
      "Conflict, no matching items found for brand: neopine\n",
      "Conflict, no matching items found for brand: godspeed\n",
      "Conflict, no matching items found for brand: shoot\n",
      "Conflict, no matching items found for brand: shoot\n",
      "Conflict, no matching items found for brand: shoot\n",
      "Conflict, no matching items found for brand: garmin\n",
      "Conflict, no matching items found for brand: garmin\n",
      "Conflict, no matching items found for brand: garmin\n",
      "Conflict, no matching items found for brand: jvc\n",
      "Conflict, no matching items found for brand: unknown\n",
      "Conflict, no matching items found for brand: nikon\n",
      "Conflict, no matching items found for brand: epson\n",
      "Conflict, no matching items found for brand: dgx\n",
      "Conflict, no matching items found for brand: olympu\n",
      "Conflict, no matching items found for brand: nikon\n",
      "Conflict, no matching items found for brand: digital\n",
      "Conflict, no matching items found for brand: nikon\n",
      "Conflict, no matching items found for brand: panasoniclumix\n",
      "Conflict, no matching items found for brand: digital\n",
      "Conflict, no matching items found for brand: nikon\n",
      "Conflict, no matching items found for brand: nikon\n",
      "Conflict, no matching items found for brand: nikon\n",
      "Conflict, no matching items found for brand: nikon\n",
      "Conflict, no matching items found for brand: evolt\n",
      "Conflict, no matching items found for brand: fantasea\n",
      "Conflict, no matching items found for brand: nikon\n",
      "Conflict, no matching items found for brand: digital\n",
      "Conflict, no matching items found for brand: pioneer\n",
      "Conflict, no matching items found for brand: eos\n",
      "Conflict, no matching items found for brand: digital\n",
      "Conflict, no matching items found for brand: digital\n",
      "Conflict, no matching items found for brand: digital\n",
      "Conflict, no matching items found for brand: 60\n",
      "Conflict, no matching items found for brand: nikon\n",
      "Conflict, no matching items found for brand: nikon\n",
      "Conflict, no matching items found for brand: nikon\n",
      "Conflict, no matching items found for brand: nikon\n",
      "Conflict, no matching items found for brand: god\n",
      "Conflict, no matching items found for brand: ion\n",
      "Conflict, no matching items found for brand: phase\n",
      "Conflict, no matching items found for brand: akai\n",
      "Conflict, no matching items found for brand: nikon\n",
      "Conflict, no matching items found for brand: nikon\n",
      "Conflict, no matching items found for brand: phoenix\n",
      "Conflict, no matching items found for brand: nikon\n",
      "Conflict, no matching items found for brand: canonjapan\n",
      "Conflict, no matching items found for brand: digital\n",
      "Conflict, no matching items found for brand: nikon\n",
      "Conflict, no matching items found for brand: nikon\n",
      "Conflict, no matching items found for brand: nikon\n",
      "Conflict, no matching items found for brand: nikon\n",
      "Conflict, no matching items found for brand: nikon\n",
      "Conflict, no matching items found for brand: digital\n",
      "Conflict, no matching items found for brand: nikon\n",
      "Conflict, no matching items found for brand: digital\n",
      "Conflict, no matching items found for brand: nikon\n",
      "Conflict, no matching items found for brand: nikon\n",
      "Conflict, no matching items found for brand: nikon\n",
      "Conflict, no matching items found for brand: nikon\n",
      "Conflict, no matching items found for brand: nikon\n",
      "Conflict, no matching items found for brand: nikon\n",
      "Conflict, no matching items found for brand: digital\n",
      "Conflict, no matching items found for brand: nikon\n",
      "Conflict, no matching items found for brand: nikon\n",
      "Conflict, no matching items found for brand: dji\n",
      "Conflict, no matching items found for brand: focus\n",
      "Conflict, no matching items found for brand: olympu\n",
      "Conflict, no matching items found for brand: olympu\n",
      "Conflict, no matching items found for brand: opteka\n",
      "Dropping 87 known non-camera brand specs\n"
     ]
    },
    {
     "name": "stderr",
     "output_type": "stream",
     "text": [
      "/notebooks/anton/sigmod/sigmod_src/preprocessing.py:211: SettingWithCopyWarning: \n",
      "A value is trying to be set on a copy of a slice from a DataFrame.\n",
      "Try using .loc[row_indexer,col_indexer] = value instead\n",
      "\n",
      "See the caveats in the documentation: http://pandas.pydata.org/pandas-docs/stable/user_guide/indexing.html#returning-a-view-versus-a-copy\n",
      "  specs_df['brand'] = specs_df['brand'].apply(lambda brand: None if brand in cutoff_brands or not brand else brand)\n"
     ]
    },
    {
     "name": "stdout",
     "output_type": "stream",
     "text": [
      "Dropping 1068 camera bag specs\n",
      "Dropping 1618 cctv specs\n",
      "9\n",
      "Warning, dropped 9 rows containing null page titles\n"
     ]
    },
    {
     "name": "stderr",
     "output_type": "stream",
     "text": [
      "/notebooks/anton/sigmod/sigmod_src/preprocessing.py:230: UserWarning: Boolean Series key will be reindexed to match DataFrame index.\n",
      "  print('Dropping', specs_df[specs_df.brand.isnull()][specs_df.page_title.str.contains('bag')][specs_df.page_title.str.contains('case')].shape[0], 'camera bag specs')\n"
     ]
    }
   ],
   "source": [
    "specs_df = preprocess_specs_dataset(specs_dataset_src)"
   ]
  },
  {
   "cell_type": "code",
   "execution_count": 8,
   "metadata": {
    "Collapsed": "false"
   },
   "outputs": [],
   "source": [
    "specs_df.index = specs_df.spec_id"
   ]
  },
  {
   "cell_type": "code",
   "execution_count": 9,
   "metadata": {
    "Collapsed": "false"
   },
   "outputs": [
    {
     "data": {
      "text/plain": [
       "array([['canon ixus 500 hs comparison digital cameras australia',\n",
       "        'canon ixus 500 hs comparison digit camera australia', 'canon',\n",
       "        None],\n",
       "       ['nikon coolpix s2800 digital vna570aa camerafarm australia',\n",
       "        'nikon coolpix s2800 digit vna570aa camerafarm australia', 'nik',\n",
       "        None],\n",
       "       ['canon powershot sx510 hs 12 1mp digital jp version',\n",
       "        'canon powershot sx510 hs 12 1mp digit jp version', 'canon',\n",
       "        'sx510'],\n",
       "       ['sony cyber shot dsc w50 6 0mp digital accessories',\n",
       "        'soni cyber shot dsc w50 6 0mp digit accessori', 'sony',\n",
       "        'dscw50'],\n",
       "       ['canon eos rebel t5i slr digital kit w 18-55mm lens 18mp sd sdhc sdxc cardslot comparison net',\n",
       "        'canon eo rebel t5i slr digit kit w 18-55mm len 18mp sd sdhc sdxc cardslot comparison net',\n",
       "        'canon', 't5i']], dtype=object)"
      ]
     },
     "execution_count": 9,
     "metadata": {},
     "output_type": "execute_result"
    }
   ],
   "source": [
    "sample = specs_df.sample(5)\n",
    "sample[['page_title', 'page_title_stem', 'brand', 'model']].values"
   ]
  },
  {
   "cell_type": "markdown",
   "metadata": {
    "Collapsed": "true",
    "toc-hr-collapsed": true,
    "toc-nb-collapsed": true
   },
   "source": [
    "# Additional labels"
   ]
  },
  {
   "cell_type": "code",
   "execution_count": 10,
   "metadata": {
    "Collapsed": "false"
   },
   "outputs": [
    {
     "name": "stderr",
     "output_type": "stream",
     "text": [
      "1274it [00:00, 5892.57it/s]\n",
      "100%|██████████| 42/42 [01:41<00:00,  2.41s/it]\n"
     ]
    }
   ],
   "source": [
    "additional_labels = get_additional_labels(labels_df, specs_df)"
   ]
  },
  {
   "cell_type": "code",
   "execution_count": 11,
   "metadata": {
    "Collapsed": "false"
   },
   "outputs": [
    {
     "data": {
      "text/html": [
       "<div>\n",
       "<style scoped>\n",
       "    .dataframe tbody tr th:only-of-type {\n",
       "        vertical-align: middle;\n",
       "    }\n",
       "\n",
       "    .dataframe tbody tr th {\n",
       "        vertical-align: top;\n",
       "    }\n",
       "\n",
       "    .dataframe thead th {\n",
       "        text-align: right;\n",
       "    }\n",
       "</style>\n",
       "<table border=\"1\" class=\"dataframe\">\n",
       "  <thead>\n",
       "    <tr style=\"text-align: right;\">\n",
       "      <th></th>\n",
       "      <th>left_spec_id</th>\n",
       "      <th>right_spec_id</th>\n",
       "      <th>label</th>\n",
       "    </tr>\n",
       "  </thead>\n",
       "  <tbody>\n",
       "    <tr>\n",
       "      <th>0</th>\n",
       "      <td>www.ebay.com//45356</td>\n",
       "      <td>www.ebay.com//43231</td>\n",
       "      <td>1</td>\n",
       "    </tr>\n",
       "    <tr>\n",
       "      <th>1</th>\n",
       "      <td>www.ebay.com//46559</td>\n",
       "      <td>www.ebay.com//24325</td>\n",
       "      <td>1</td>\n",
       "    </tr>\n",
       "    <tr>\n",
       "      <th>2</th>\n",
       "      <td>www.ebay.com//53122</td>\n",
       "      <td>www.ebay.com//44489</td>\n",
       "      <td>1</td>\n",
       "    </tr>\n",
       "    <tr>\n",
       "      <th>3</th>\n",
       "      <td>www.ebay.com//53122</td>\n",
       "      <td>www.ebay.com//53584</td>\n",
       "      <td>1</td>\n",
       "    </tr>\n",
       "    <tr>\n",
       "      <th>4</th>\n",
       "      <td>www.ebay.com//53122</td>\n",
       "      <td>www.ebay.com//25103</td>\n",
       "      <td>1</td>\n",
       "    </tr>\n",
       "  </tbody>\n",
       "</table>\n",
       "</div>"
      ],
      "text/plain": [
       "          left_spec_id        right_spec_id  label\n",
       "0  www.ebay.com//45356  www.ebay.com//43231      1\n",
       "1  www.ebay.com//46559  www.ebay.com//24325      1\n",
       "2  www.ebay.com//53122  www.ebay.com//44489      1\n",
       "3  www.ebay.com//53122  www.ebay.com//53584      1\n",
       "4  www.ebay.com//53122  www.ebay.com//25103      1"
      ]
     },
     "execution_count": 11,
     "metadata": {},
     "output_type": "execute_result"
    }
   ],
   "source": [
    "new_dups = additional_labels[additional_labels.label==1]\n",
    "new_dups.head()"
   ]
  },
  {
   "cell_type": "code",
   "execution_count": 12,
   "metadata": {
    "Collapsed": "false"
   },
   "outputs": [
    {
     "data": {
      "text/plain": [
       "(169657, 3)"
      ]
     },
     "execution_count": 12,
     "metadata": {},
     "output_type": "execute_result"
    }
   ],
   "source": [
    "new_dups.shape"
   ]
  },
  {
   "cell_type": "code",
   "execution_count": 13,
   "metadata": {
    "Collapsed": "false"
   },
   "outputs": [
    {
     "name": "stdout",
     "output_type": "stream",
     "text": [
      "Left\n",
      " canon eo rebel t3i 600d 18 0mp digit slr 18 55mm len\n",
      "\n",
      "Right\n",
      " canon eo rebel t3i 600d 18 0mp digit slr kit w ef\n"
     ]
    }
   ],
   "source": [
    "sample = new_dups.sample(1)\n",
    "\n",
    "print('Left\\n', specs_df.loc[sample.left_spec_id].page_title_stem.values[0])\n",
    "print('')\n",
    "print('Right\\n', specs_df.loc[sample.right_spec_id].page_title_stem.values[0])"
   ]
  },
  {
   "cell_type": "code",
   "execution_count": 14,
   "metadata": {
    "Collapsed": "false"
   },
   "outputs": [
    {
     "data": {
      "text/plain": [
       "(977021, 3)"
      ]
     },
     "execution_count": 14,
     "metadata": {},
     "output_type": "execute_result"
    }
   ],
   "source": [
    "new_non_dups = additional_labels[additional_labels.label==0]\n",
    "new_non_dups.shape"
   ]
  },
  {
   "cell_type": "code",
   "execution_count": 15,
   "metadata": {
    "Collapsed": "false"
   },
   "outputs": [
    {
     "name": "stdout",
     "output_type": "stream",
     "text": [
      "Left\n",
      " nikon d50 6 1mp digit slr sigma apo 170 500mm telephoto len bundl\n",
      "\n",
      "Right\n",
      " seal nikon coolpix s31 10 1mp digit\n"
     ]
    }
   ],
   "source": [
    "sample = new_non_dups.sample(1)\n",
    "\n",
    "print('Left\\n', specs_df.loc[sample.left_spec_id].page_title_stem.values[0])\n",
    "print('')\n",
    "print('Right\\n', specs_df.loc[sample.right_spec_id].page_title_stem.values[0])"
   ]
  },
  {
   "cell_type": "markdown",
   "metadata": {
    "Collapsed": "false"
   },
   "source": [
    "# Test pipeline"
   ]
  },
  {
   "cell_type": "code",
   "execution_count": 18,
   "metadata": {
    "Collapsed": "false"
   },
   "outputs": [],
   "source": [
    "model = LGBMPipeline(specs_df, labels_df)"
   ]
  },
  {
   "cell_type": "code",
   "execution_count": 21,
   "metadata": {
    "Collapsed": "false"
   },
   "outputs": [
    {
     "name": "stderr",
     "output_type": "stream",
     "text": [
      "1272it [00:00, 5628.80it/s]\n",
      "100%|██████████| 43/43 [01:43<00:00,  2.40s/it]\n"
     ]
    }
   ],
   "source": [
    "model.precompute()"
   ]
  },
  {
   "cell_type": "code",
   "execution_count": 22,
   "metadata": {
    "Collapsed": "false"
   },
   "outputs": [
    {
     "ename": "NameError",
     "evalue": "name 'make_X' is not defined",
     "output_type": "error",
     "traceback": [
      "\u001b[0;31m---------------------------------------------------------------------------\u001b[0m",
      "\u001b[0;31mNameError\u001b[0m                                 Traceback (most recent call last)",
      "\u001b[0;32m<timed exec>\u001b[0m in \u001b[0;36m<module>\u001b[0;34m\u001b[0m\n",
      "\u001b[0;31mNameError\u001b[0m: name 'make_X' is not defined"
     ]
    }
   ],
   "source": [
    "%%time\n",
    "train_left_spec_idx = model.specs_id_to_idx[labels_df['left_spec_id']]\n",
    "train_right_spec_idx = model.specs_id_to_idx[labels_df['right_spec_id']]\n",
    "\n",
    "train_X = make_X(model, train_left_spec_idx, train_right_spec_idx)\n",
    "\n",
    "assert train_X.shape[0] == labels_df.shape[0]"
   ]
  },
  {
   "cell_type": "code",
   "execution_count": 119,
   "metadata": {
    "Collapsed": "false"
   },
   "outputs": [
    {
     "name": "stdout",
     "output_type": "stream",
     "text": [
      "Precomputing\n",
      "Making features\n",
      "Making features for additional_labels\n",
      "Fitting model\n"
     ]
    }
   ],
   "source": [
    "model.train(precompute=False)"
   ]
  },
  {
   "cell_type": "code",
   "execution_count": 120,
   "metadata": {
    "Collapsed": "false"
   },
   "outputs": [
    {
     "name": "stdout",
     "output_type": "stream",
     "text": [
      "Train F1 1.0\n",
      "              precision    recall  f1-score   support\n",
      "\n",
      "           0       1.00      1.00      1.00    253612\n",
      "           1       1.00      1.00      1.00     44039\n",
      "\n",
      "    accuracy                           1.00    297651\n",
      "   macro avg       1.00      1.00      1.00    297651\n",
      "weighted avg       1.00      1.00      1.00    297651\n",
      "\n"
     ]
    }
   ],
   "source": [
    "pred_train = model.clf.predict(model.train_X)\n",
    "\n",
    "print('Train F1', f1_score(labels_df.label, pred_train))\n",
    "print(classification_report(labels_df.label, pred_train))"
   ]
  },
  {
   "cell_type": "markdown",
   "metadata": {
    "Collapsed": "false"
   },
   "source": [
    "Sanity check passed"
   ]
  },
  {
   "cell_type": "markdown",
   "metadata": {
    "Collapsed": "false",
    "toc-hr-collapsed": true,
    "toc-nb-collapsed": true
   },
   "source": [
    "# Feature importance"
   ]
  },
  {
   "cell_type": "code",
   "execution_count": 124,
   "metadata": {
    "Collapsed": "false"
   },
   "outputs": [],
   "source": [
    "import shap"
   ]
  },
  {
   "cell_type": "code",
   "execution_count": 125,
   "metadata": {
    "Collapsed": "false"
   },
   "outputs": [],
   "source": [
    "explainer = shap.TreeExplainer(model.clf)"
   ]
  },
  {
   "cell_type": "code",
   "execution_count": 126,
   "metadata": {
    "Collapsed": "false"
   },
   "outputs": [],
   "source": [
    "shap_values = explainer.shap_values(model.train_X)"
   ]
  },
  {
   "cell_type": "code",
   "execution_count": 127,
   "metadata": {
    "Collapsed": "false"
   },
   "outputs": [],
   "source": [
    "feature_names = model.feature_names"
   ]
  },
  {
   "cell_type": "code",
   "execution_count": 128,
   "metadata": {
    "Collapsed": "false"
   },
   "outputs": [
    {
     "data": {
      "image/png": "[encoded data removed]",
      "text/plain": [
       "<Figure size 576x684 with 1 Axes>"
      ]
     },
     "metadata": {},
     "output_type": "display_data"
    }
   ],
   "source": [
    "shap.summary_plot(shap_values, model.train_X, plot_type=\"bar\", feature_names=feature_names)"
   ]
  },
  {
   "cell_type": "markdown",
   "metadata": {
    "Collapsed": "false"
   },
   "source": [
    "# Submit"
   ]
  },
  {
   "cell_type": "code",
   "execution_count": 52,
   "metadata": {
    "Collapsed": "false"
   },
   "outputs": [
    {
     "name": "stderr",
     "output_type": "stream",
     "text": [
      "100%|██████████| 62/62 [17:07<00:00, 16.57s/it] \n"
     ]
    }
   ],
   "source": [
    "model.make_submission()"
   ]
  },
  {
   "cell_type": "code",
   "execution_count": 53,
   "metadata": {
    "Collapsed": "false"
   },
   "outputs": [
    {
     "data": {
      "text/plain": [
       "(1059721, 2)"
      ]
     },
     "execution_count": 53,
     "metadata": {},
     "output_type": "execute_result"
    }
   ],
   "source": [
    "submit_df = pd.read_csv('../data/submit/submit.csv')\n",
    "submit_df.shape"
   ]
  },
  {
   "cell_type": "code",
   "execution_count": 54,
   "metadata": {
    "Collapsed": "false"
   },
   "outputs": [],
   "source": [
    "specs_df.index = specs_df.spec_id"
   ]
  },
  {
   "cell_type": "code",
   "execution_count": 64,
   "metadata": {
    "Collapsed": "false"
   },
   "outputs": [
    {
     "name": "stdout",
     "output_type": "stream",
     "text": [
      "Left\n",
      " 700tvl effio-e digital cctv 42 pieces ir-led security waterproof bullet digital waterproof cctv security waterproof bullet waterproof bullet alibaba com\n",
      "\n",
      "Right\n",
      " high quality array led ir digital color ccd 700tvl cctv sony color ccd chip ir digital color ccd digital color cctv cctv 700tvl alibaba com\n"
     ]
    }
   ],
   "source": [
    "row = submit_df.sample(1)\n",
    "\n",
    "print('Left\\n', specs_df.loc[row.left_spec_id].page_title.values[0])\n",
    "print('')\n",
    "print('Right\\n', specs_df.loc[row.right_spec_id].page_title.values[0])"
   ]
  },
  {
   "cell_type": "markdown",
   "metadata": {
    "Collapsed": "false"
   },
   "source": [
    "# CV"
   ]
  },
  {
   "cell_type": "code",
   "execution_count": 19,
   "metadata": {},
   "outputs": [],
   "source": [
    "from tqdm.notebook import tqdm"
   ]
  },
  {
   "cell_type": "code",
   "execution_count": 20,
   "metadata": {
    "Collapsed": "false"
   },
   "outputs": [],
   "source": [
    "def get_split(classes_df, labels_df, test_classes=5):\n",
    "    classes = classes_df.class_.unique()\n",
    "    test_classes = np.random.choice(classes, test_classes)\n",
    "    \n",
    "    test_spec_ids = classes_df[classes_df.class_.isin(test_classes)].spec_id\n",
    "    \n",
    "    test_label_mask = labels_df.left_spec_id.isin(test_spec_ids) | labels_df.right_spec_id.isin(test_spec_ids)\n",
    "    \n",
    "    test_idx = np.array(labels_df[test_label_mask].index)\n",
    "    train_idx = np.array(labels_df[~test_label_mask].index)\n",
    "    \n",
    "    return train_idx, test_idx\n",
    "\n",
    "def evaluate_submit(submit_df, test_labels_df):\n",
    "    submit_df = submit_df.copy()\n",
    "    submit_df['label'] = 1\n",
    "    \n",
    "    merged = test_labels_df.merge(submit_df, on=['left_spec_id', 'right_spec_id'], how='left', suffixes = ('_true', '_pred'))\n",
    "    merged['label_pred'] = merged['label_pred'].fillna(0)\n",
    "    \n",
    "    tp = merged[(merged.label_true == 1) & (merged.label_pred == 1)]\n",
    "    tn = merged[(merged.label_true == 0) & (merged.label_pred == 0)]\n",
    "    \n",
    "    fp = merged[(merged.label_true == 0) & (merged.label_pred == 1)]\n",
    "    fn = merged[(merged.label_true == 1) & (merged.label_pred == 0)]\n",
    "    \n",
    "    precision = tp.shape[0]/(tp.shape[0]+fp.shape[0])\n",
    "    recall = tp.shape[0]/(tp.shape[0]+fn.shape[0])\n",
    "    \n",
    "    f1 = 2 * (precision * recall)/(precision+recall)\n",
    "    \n",
    "    return f1, tp, tn, fp, fn\n",
    "\n",
    "def cross_validate_pipeline(pipeline_class, specs_df, labels_df, clfs, n_folds=5, test_classes=5):\n",
    "    # Obtain triangles from label and number them\n",
    "    classes_df = make_classes_df(labels_df)\n",
    "    folds = []\n",
    "    submit_fpaths = []\n",
    "    scores = []\n",
    "    for i_fold in tqdm(range(n_folds)):\n",
    "        print('Fold', i_fold)\n",
    "        labels_train_idx, labels_test_idx = get_split(classes_df, labels_df, test_classes=test_classes)\n",
    "        folds.append( (labels_train_idx, labels_test_idx) )\n",
    "        \n",
    "        train_labels = labels_df.iloc[labels_train_idx].copy()\n",
    "        test_labels = labels_df.iloc[labels_test_idx].copy()\n",
    "        \n",
    "        submit_fpath = f'../data/interim/cv_submit_fold{i_fold}.csv'\n",
    "        submit_fpaths.append(submit_fpath)\n",
    "        \n",
    "        model = pipeline_class(specs_df, train_labels, submit_fpath=submit_fpath)\n",
    "        print('training model')\n",
    "        model.train(clfs=clfs)\n",
    "        \n",
    "        print('generating submit')\n",
    "        model.make_submission()\n",
    "        \n",
    "        print('evaluating submit')\n",
    "        f1score, _, _, _, _ = evaluate_submit(pd.read_csv(model.submit_fpath), test_labels)\n",
    "        scores.append(f1score)\n",
    "        print('Score', f1score)\n",
    "    return folds, submit_fpaths, scores"
   ]
  },
  {
   "cell_type": "code",
   "execution_count": 21,
   "metadata": {},
   "outputs": [],
   "source": [
    "clfs = [\n",
    "    LGBMClassifier(sample_pos_weight=5.76, n_jobs=-1),\n",
    "    LGBMClassifier(sample_pos_weight=5.76, n_estimators=500, n_jobs=-1),\n",
    "    LGBMClassifier(sample_pos_weight=5.76, learning_rate=0.01, n_jobs=-1),\n",
    "    LGBMClassifier(sample_pos_weight=5.76, learning_rate=0.01, n_estimators=500, n_jobs=-1),\n",
    "    \n",
    "]"
   ]
  },
  {
   "cell_type": "code",
   "execution_count": null,
   "metadata": {
    "Collapsed": "false"
   },
   "outputs": [],
   "source": [
    "# np.random.seed(42)\n",
    "np.random.seed(None)\n",
    "folds, submit_fpaths, scores = cross_validate_pipeline(LGBMPipeline, specs_df, labels_df, clfs, n_folds=3)"
   ]
  },
  {
   "cell_type": "code",
   "execution_count": 23,
   "metadata": {
    "Collapsed": "false"
   },
   "outputs": [
    {
     "data": {
      "text/plain": [
       "[0.43317311141401826, 0.5178181818181818, 0.6896355353075171]"
      ]
     },
     "execution_count": 23,
     "metadata": {},
     "output_type": "execute_result"
    }
   ],
   "source": [
    "scores"
   ]
  },
  {
   "cell_type": "code",
   "execution_count": 24,
   "metadata": {
    "Collapsed": "false"
   },
   "outputs": [
    {
     "data": {
      "text/plain": [
       "0.5468756095132391"
      ]
     },
     "execution_count": 24,
     "metadata": {},
     "output_type": "execute_result"
    }
   ],
   "source": [
    "np.mean(scores)"
   ]
  },
  {
   "cell_type": "markdown",
   "metadata": {
    "Collapsed": "false"
   },
   "source": [
    "## Test evaluation scheme"
   ]
  },
  {
   "cell_type": "code",
   "execution_count": 25,
   "metadata": {
    "Collapsed": "false"
   },
   "outputs": [
    {
     "data": {
      "text/plain": [
       "0.43317311141401826"
      ]
     },
     "execution_count": 25,
     "metadata": {},
     "output_type": "execute_result"
    }
   ],
   "source": [
    "\n",
    "    \n",
    "    \n",
    "test_labels_df = labels_df.iloc[folds[0][1]]\n",
    "submit_df = pd.read_csv(submit_fpaths[0])\n",
    "\n",
    "score, tp, tn, fp, fn = evaluate_submit(submit_df, test_labels_df)\n",
    "score"
   ]
  },
  {
   "cell_type": "markdown",
   "metadata": {
    "Collapsed": "false"
   },
   "source": [
    "Test one true positive"
   ]
  },
  {
   "cell_type": "code",
   "execution_count": 26,
   "metadata": {
    "Collapsed": "false"
   },
   "outputs": [
    {
     "data": {
      "text/html": [
       "<div>\n",
       "<style scoped>\n",
       "    .dataframe tbody tr th:only-of-type {\n",
       "        vertical-align: middle;\n",
       "    }\n",
       "\n",
       "    .dataframe tbody tr th {\n",
       "        vertical-align: top;\n",
       "    }\n",
       "\n",
       "    .dataframe thead th {\n",
       "        text-align: right;\n",
       "    }\n",
       "</style>\n",
       "<table border=\"1\" class=\"dataframe\">\n",
       "  <thead>\n",
       "    <tr style=\"text-align: right;\">\n",
       "      <th></th>\n",
       "      <th>left_spec_id</th>\n",
       "      <th>right_spec_id</th>\n",
       "      <th>label_true</th>\n",
       "      <th>label_pred</th>\n",
       "    </tr>\n",
       "  </thead>\n",
       "  <tbody>\n",
       "    <tr>\n",
       "      <th>7</th>\n",
       "      <td>www.ebay.com//44635</td>\n",
       "      <td>www.ebay.com//46524</td>\n",
       "      <td>1</td>\n",
       "      <td>1.0</td>\n",
       "    </tr>\n",
       "    <tr>\n",
       "      <th>88</th>\n",
       "      <td>www.ebay.com//25039</td>\n",
       "      <td>www.ebay.com//42055</td>\n",
       "      <td>1</td>\n",
       "      <td>1.0</td>\n",
       "    </tr>\n",
       "    <tr>\n",
       "      <th>162</th>\n",
       "      <td>www.ebay.com//43213</td>\n",
       "      <td>www.ebay.com//55623</td>\n",
       "      <td>1</td>\n",
       "      <td>1.0</td>\n",
       "    </tr>\n",
       "    <tr>\n",
       "      <th>279</th>\n",
       "      <td>www.ebay.com//42307</td>\n",
       "      <td>www.ebay.com//54400</td>\n",
       "      <td>1</td>\n",
       "      <td>1.0</td>\n",
       "    </tr>\n",
       "    <tr>\n",
       "      <th>294</th>\n",
       "      <td>www.ebay.com//43543</td>\n",
       "      <td>www.ebay.com//44044</td>\n",
       "      <td>1</td>\n",
       "      <td>1.0</td>\n",
       "    </tr>\n",
       "  </tbody>\n",
       "</table>\n",
       "</div>"
      ],
      "text/plain": [
       "            left_spec_id        right_spec_id  label_true  label_pred\n",
       "7    www.ebay.com//44635  www.ebay.com//46524           1         1.0\n",
       "88   www.ebay.com//25039  www.ebay.com//42055           1         1.0\n",
       "162  www.ebay.com//43213  www.ebay.com//55623           1         1.0\n",
       "279  www.ebay.com//42307  www.ebay.com//54400           1         1.0\n",
       "294  www.ebay.com//43543  www.ebay.com//44044           1         1.0"
      ]
     },
     "execution_count": 26,
     "metadata": {},
     "output_type": "execute_result"
    }
   ],
   "source": [
    "tp.head()"
   ]
  },
  {
   "cell_type": "code",
   "execution_count": 27,
   "metadata": {
    "Collapsed": "false"
   },
   "outputs": [
    {
     "name": "stderr",
     "output_type": "stream",
     "text": [
      "/usr/local/lib/python3.6/dist-packages/ipykernel_launcher.py:1: UserWarning: Boolean Series key will be reindexed to match DataFrame index.\n",
      "  \"\"\"Entry point for launching an IPython kernel.\n"
     ]
    },
    {
     "data": {
      "text/html": [
       "<div>\n",
       "<style scoped>\n",
       "    .dataframe tbody tr th:only-of-type {\n",
       "        vertical-align: middle;\n",
       "    }\n",
       "\n",
       "    .dataframe tbody tr th {\n",
       "        vertical-align: top;\n",
       "    }\n",
       "\n",
       "    .dataframe thead th {\n",
       "        text-align: right;\n",
       "    }\n",
       "</style>\n",
       "<table border=\"1\" class=\"dataframe\">\n",
       "  <thead>\n",
       "    <tr style=\"text-align: right;\">\n",
       "      <th></th>\n",
       "      <th>left_spec_id</th>\n",
       "      <th>right_spec_id</th>\n",
       "      <th>label</th>\n",
       "    </tr>\n",
       "  </thead>\n",
       "  <tbody>\n",
       "  </tbody>\n",
       "</table>\n",
       "</div>"
      ],
      "text/plain": [
       "Empty DataFrame\n",
       "Columns: [left_spec_id, right_spec_id, label]\n",
       "Index: []"
      ]
     },
     "execution_count": 27,
     "metadata": {},
     "output_type": "execute_result"
    }
   ],
   "source": [
    "test_labels_df[test_labels_df.label == 1][test_labels_df.left_spec_id == 'www.ebay.com//24206']"
   ]
  },
  {
   "cell_type": "code",
   "execution_count": 28,
   "metadata": {
    "Collapsed": "false"
   },
   "outputs": [
    {
     "data": {
      "text/html": [
       "<div>\n",
       "<style scoped>\n",
       "    .dataframe tbody tr th:only-of-type {\n",
       "        vertical-align: middle;\n",
       "    }\n",
       "\n",
       "    .dataframe tbody tr th {\n",
       "        vertical-align: top;\n",
       "    }\n",
       "\n",
       "    .dataframe thead th {\n",
       "        text-align: right;\n",
       "    }\n",
       "</style>\n",
       "<table border=\"1\" class=\"dataframe\">\n",
       "  <thead>\n",
       "    <tr style=\"text-align: right;\">\n",
       "      <th></th>\n",
       "      <th>left_spec_id</th>\n",
       "      <th>right_spec_id</th>\n",
       "    </tr>\n",
       "  </thead>\n",
       "  <tbody>\n",
       "  </tbody>\n",
       "</table>\n",
       "</div>"
      ],
      "text/plain": [
       "Empty DataFrame\n",
       "Columns: [left_spec_id, right_spec_id]\n",
       "Index: []"
      ]
     },
     "execution_count": 28,
     "metadata": {},
     "output_type": "execute_result"
    }
   ],
   "source": [
    "submit_df[(submit_df.left_spec_id == 'www.ebay.com//24206') & (submit_df.right_spec_id == 'www.priceme.co.nz//54')]"
   ]
  },
  {
   "cell_type": "markdown",
   "metadata": {
    "Collapsed": "false"
   },
   "source": [
    "Pass"
   ]
  },
  {
   "cell_type": "markdown",
   "metadata": {
    "Collapsed": "false"
   },
   "source": [
    "Check one tn"
   ]
  },
  {
   "cell_type": "code",
   "execution_count": 29,
   "metadata": {
    "Collapsed": "false"
   },
   "outputs": [
    {
     "data": {
      "text/html": [
       "<div>\n",
       "<style scoped>\n",
       "    .dataframe tbody tr th:only-of-type {\n",
       "        vertical-align: middle;\n",
       "    }\n",
       "\n",
       "    .dataframe tbody tr th {\n",
       "        vertical-align: top;\n",
       "    }\n",
       "\n",
       "    .dataframe thead th {\n",
       "        text-align: right;\n",
       "    }\n",
       "</style>\n",
       "<table border=\"1\" class=\"dataframe\">\n",
       "  <thead>\n",
       "    <tr style=\"text-align: right;\">\n",
       "      <th></th>\n",
       "      <th>left_spec_id</th>\n",
       "      <th>right_spec_id</th>\n",
       "      <th>label_true</th>\n",
       "      <th>label_pred</th>\n",
       "    </tr>\n",
       "  </thead>\n",
       "  <tbody>\n",
       "    <tr>\n",
       "      <th>0</th>\n",
       "      <td>www.ebay.com//24817</td>\n",
       "      <td>www.ebay.com//58782</td>\n",
       "      <td>0</td>\n",
       "      <td>0.0</td>\n",
       "    </tr>\n",
       "    <tr>\n",
       "      <th>1</th>\n",
       "      <td>www.ebay.com//43019</td>\n",
       "      <td>www.ebay.com//58782</td>\n",
       "      <td>0</td>\n",
       "      <td>0.0</td>\n",
       "    </tr>\n",
       "    <tr>\n",
       "      <th>2</th>\n",
       "      <td>www.ebay.com//42055</td>\n",
       "      <td>www.ebay.com//54403</td>\n",
       "      <td>0</td>\n",
       "      <td>0.0</td>\n",
       "    </tr>\n",
       "    <tr>\n",
       "      <th>3</th>\n",
       "      <td>www.ebay.com//42039</td>\n",
       "      <td>www.ebay.com//43213</td>\n",
       "      <td>0</td>\n",
       "      <td>0.0</td>\n",
       "    </tr>\n",
       "    <tr>\n",
       "      <th>4</th>\n",
       "      <td>www.ebay.com//42196</td>\n",
       "      <td>www.ebay.com//58588</td>\n",
       "      <td>0</td>\n",
       "      <td>0.0</td>\n",
       "    </tr>\n",
       "  </tbody>\n",
       "</table>\n",
       "</div>"
      ],
      "text/plain": [
       "          left_spec_id        right_spec_id  label_true  label_pred\n",
       "0  www.ebay.com//24817  www.ebay.com//58782           0         0.0\n",
       "1  www.ebay.com//43019  www.ebay.com//58782           0         0.0\n",
       "2  www.ebay.com//42055  www.ebay.com//54403           0         0.0\n",
       "3  www.ebay.com//42039  www.ebay.com//43213           0         0.0\n",
       "4  www.ebay.com//42196  www.ebay.com//58588           0         0.0"
      ]
     },
     "execution_count": 29,
     "metadata": {},
     "output_type": "execute_result"
    }
   ],
   "source": [
    "tn.head()"
   ]
  },
  {
   "cell_type": "code",
   "execution_count": 30,
   "metadata": {
    "Collapsed": "false"
   },
   "outputs": [
    {
     "name": "stderr",
     "output_type": "stream",
     "text": [
      "/usr/local/lib/python3.6/dist-packages/ipykernel_launcher.py:1: UserWarning: Boolean Series key will be reindexed to match DataFrame index.\n",
      "  \"\"\"Entry point for launching an IPython kernel.\n"
     ]
    },
    {
     "data": {
      "text/html": [
       "<div>\n",
       "<style scoped>\n",
       "    .dataframe tbody tr th:only-of-type {\n",
       "        vertical-align: middle;\n",
       "    }\n",
       "\n",
       "    .dataframe tbody tr th {\n",
       "        vertical-align: top;\n",
       "    }\n",
       "\n",
       "    .dataframe thead th {\n",
       "        text-align: right;\n",
       "    }\n",
       "</style>\n",
       "<table border=\"1\" class=\"dataframe\">\n",
       "  <thead>\n",
       "    <tr style=\"text-align: right;\">\n",
       "      <th></th>\n",
       "      <th>left_spec_id</th>\n",
       "      <th>right_spec_id</th>\n",
       "      <th>label</th>\n",
       "    </tr>\n",
       "  </thead>\n",
       "  <tbody>\n",
       "  </tbody>\n",
       "</table>\n",
       "</div>"
      ],
      "text/plain": [
       "Empty DataFrame\n",
       "Columns: [left_spec_id, right_spec_id, label]\n",
       "Index: []"
      ]
     },
     "execution_count": 30,
     "metadata": {},
     "output_type": "execute_result"
    }
   ],
   "source": [
    "test_labels_df[test_labels_df.label == 0][test_labels_df.left_spec_id == 'www.ebay.com//42074'][test_labels_df.right_spec_id == 'www.ebay.com//47107']"
   ]
  },
  {
   "cell_type": "code",
   "execution_count": 31,
   "metadata": {
    "Collapsed": "false"
   },
   "outputs": [
    {
     "name": "stderr",
     "output_type": "stream",
     "text": [
      "/usr/local/lib/python3.6/dist-packages/ipykernel_launcher.py:1: UserWarning: Boolean Series key will be reindexed to match DataFrame index.\n",
      "  \"\"\"Entry point for launching an IPython kernel.\n"
     ]
    },
    {
     "data": {
      "text/html": [
       "<div>\n",
       "<style scoped>\n",
       "    .dataframe tbody tr th:only-of-type {\n",
       "        vertical-align: middle;\n",
       "    }\n",
       "\n",
       "    .dataframe tbody tr th {\n",
       "        vertical-align: top;\n",
       "    }\n",
       "\n",
       "    .dataframe thead th {\n",
       "        text-align: right;\n",
       "    }\n",
       "</style>\n",
       "<table border=\"1\" class=\"dataframe\">\n",
       "  <thead>\n",
       "    <tr style=\"text-align: right;\">\n",
       "      <th></th>\n",
       "      <th>left_spec_id</th>\n",
       "      <th>right_spec_id</th>\n",
       "    </tr>\n",
       "  </thead>\n",
       "  <tbody>\n",
       "  </tbody>\n",
       "</table>\n",
       "</div>"
      ],
      "text/plain": [
       "Empty DataFrame\n",
       "Columns: [left_spec_id, right_spec_id]\n",
       "Index: []"
      ]
     },
     "execution_count": 31,
     "metadata": {},
     "output_type": "execute_result"
    }
   ],
   "source": [
    "submit_df[submit_df.left_spec_id == 'www.ebay.com//42074'][submit_df.right_spec_id == 'www.ebay.com//47107']"
   ]
  },
  {
   "cell_type": "markdown",
   "metadata": {
    "Collapsed": "false"
   },
   "source": [
    "Pass"
   ]
  },
  {
   "cell_type": "markdown",
   "metadata": {
    "Collapsed": "false"
   },
   "source": [
    "Check one fp"
   ]
  },
  {
   "cell_type": "code",
   "execution_count": null,
   "metadata": {
    "Collapsed": "false"
   },
   "outputs": [],
   "source": [
    "fp.head()"
   ]
  },
  {
   "cell_type": "code",
   "execution_count": null,
   "metadata": {
    "Collapsed": "false"
   },
   "outputs": [],
   "source": [
    "test_labels_df[test_labels_df.label == 0][test_labels_df.left_spec_id == 'www.ebay.com//42074'][test_labels_df.right_spec_id == 'www.ebay.com//54040']"
   ]
  },
  {
   "cell_type": "code",
   "execution_count": null,
   "metadata": {
    "Collapsed": "false"
   },
   "outputs": [],
   "source": [
    "submit_df[submit_df.left_spec_id == 'www.ebay.com//42074'][submit_df.right_spec_id == 'www.ebay.com//54040']"
   ]
  },
  {
   "cell_type": "markdown",
   "metadata": {
    "Collapsed": "false"
   },
   "source": [
    "Pass"
   ]
  },
  {
   "cell_type": "markdown",
   "metadata": {
    "Collapsed": "false"
   },
   "source": [
    "Check one fn"
   ]
  },
  {
   "cell_type": "code",
   "execution_count": null,
   "metadata": {
    "Collapsed": "false"
   },
   "outputs": [],
   "source": [
    "fn.head()"
   ]
  },
  {
   "cell_type": "code",
   "execution_count": null,
   "metadata": {
    "Collapsed": "false"
   },
   "outputs": [],
   "source": [
    "test_labels_df[test_labels_df.label == 1][test_labels_df.left_spec_id == 'www.ebay.com//54040'][test_labels_df.right_spec_id == 'www.ebay.com//54457']"
   ]
  },
  {
   "cell_type": "code",
   "execution_count": null,
   "metadata": {
    "Collapsed": "false"
   },
   "outputs": [],
   "source": [
    "submit_df[submit_df.left_spec_id == 'www.ebay.com//54040'][submit_df.right_spec_id == 'www.ebay.com//54457']"
   ]
  },
  {
   "cell_type": "markdown",
   "metadata": {
    "Collapsed": "false"
   },
   "source": [
    "pass"
   ]
  },
  {
   "cell_type": "code",
   "execution_count": null,
   "metadata": {
    "Collapsed": "false"
   },
   "outputs": [],
   "source": []
  },
  {
   "cell_type": "code",
   "execution_count": null,
   "metadata": {
    "Collapsed": "false"
   },
   "outputs": [],
   "source": []
  }
 ],
 "metadata": {
  "kernelspec": {
   "display_name": "Python 3",
   "language": "python",
   "name": "python3"
  },
  "language_info": {
   "codemirror_mode": {
    "name": "ipython",
    "version": 3
   },
   "file_extension": ".py",
   "mimetype": "text/x-python",
   "name": "python",
   "nbconvert_exporter": "python",
   "pygments_lexer": "ipython3",
   "version": "3.6.9"
  }
 },
 "nbformat": 4,
 "nbformat_minor": 4
}
