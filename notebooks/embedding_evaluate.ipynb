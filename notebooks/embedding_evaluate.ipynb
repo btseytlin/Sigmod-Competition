{
 "cells": [
  {
   "cell_type": "code",
   "execution_count": 1,
   "metadata": {
    "Collapsed": "false"
   },
   "outputs": [],
   "source": [
    "import os\n",
    "import sys\n",
    "import random\n",
    "import json\n",
    "import collections\n",
    "import itertools\n",
    "\n",
    "import pandas as pd\n",
    "import numpy as np\n",
    "import scipy        \n",
    "import statsmodels\n",
    "\n",
    "\n",
    "from tqdm import trange, tqdm_notebook as tqdm\n",
    "from matplotlib import pyplot as plt\n",
    "import seaborn as sns\n",
    "%matplotlib inline\n",
    "\n",
    "pd.options.display.max_columns = 999\n",
    "\n",
    "sns.set()\n",
    "\n",
    "plt.rcParams[\"figure.figsize\"] = (10,7)"
   ]
  },
  {
   "cell_type": "code",
   "execution_count": 2,
   "metadata": {
    "Collapsed": "false"
   },
   "outputs": [
    {
     "data": {
      "text/plain": [
       "'/home/boris/study/UT study/ACM Sigmod/sigmod/notebooks'"
      ]
     },
     "execution_count": 2,
     "metadata": {},
     "output_type": "execute_result"
    }
   ],
   "source": [
    "os.getcwd()"
   ]
  },
  {
   "cell_type": "code",
   "execution_count": 3,
   "metadata": {
    "Collapsed": "false"
   },
   "outputs": [],
   "source": [
    "%load_ext autoreload\n",
    "%autoreload 2"
   ]
  },
  {
   "cell_type": "code",
   "execution_count": 4,
   "metadata": {
    "Collapsed": "false"
   },
   "outputs": [],
   "source": [
    "from sigmod_src.utils import read_json, pprint_json, path_from_spec_id, get_vector_for_spec_id\n",
    "from sigmod_src.data.embedding import Embedder"
   ]
  },
  {
   "cell_type": "markdown",
   "metadata": {
    "Collapsed": "false"
   },
   "source": [
    "# Load data"
   ]
  },
  {
   "cell_type": "code",
   "execution_count": 5,
   "metadata": {
    "Collapsed": "false"
   },
   "outputs": [],
   "source": [
    "LABELS_PATH = '../data/raw/sigmod_medium_labelled_dataset.csv'"
   ]
  },
  {
   "cell_type": "code",
   "execution_count": 6,
   "metadata": {
    "Collapsed": "false"
   },
   "outputs": [
    {
     "data": {
      "text/plain": [
       "(46665, 3)"
      ]
     },
     "execution_count": 6,
     "metadata": {},
     "output_type": "execute_result"
    }
   ],
   "source": [
    "labels_df = pd.read_csv(LABELS_PATH)\n",
    "labels_df.shape"
   ]
  },
  {
   "cell_type": "code",
   "execution_count": 7,
   "metadata": {
    "Collapsed": "false"
   },
   "outputs": [
    {
     "data": {
      "text/html": [
       "<div>\n",
       "<style scoped>\n",
       "    .dataframe tbody tr th:only-of-type {\n",
       "        vertical-align: middle;\n",
       "    }\n",
       "\n",
       "    .dataframe tbody tr th {\n",
       "        vertical-align: top;\n",
       "    }\n",
       "\n",
       "    .dataframe thead th {\n",
       "        text-align: right;\n",
       "    }\n",
       "</style>\n",
       "<table border=\"1\" class=\"dataframe\">\n",
       "  <thead>\n",
       "    <tr style=\"text-align: right;\">\n",
       "      <th></th>\n",
       "      <th>left_spec_id</th>\n",
       "      <th>right_spec_id</th>\n",
       "      <th>label</th>\n",
       "    </tr>\n",
       "  </thead>\n",
       "  <tbody>\n",
       "    <tr>\n",
       "      <th>0</th>\n",
       "      <td>www.garricks.com.au//31</td>\n",
       "      <td>www.ebay.com//53278</td>\n",
       "      <td>1</td>\n",
       "    </tr>\n",
       "    <tr>\n",
       "      <th>1</th>\n",
       "      <td>www.ebay.com//58782</td>\n",
       "      <td>www.ebay.com//24817</td>\n",
       "      <td>0</td>\n",
       "    </tr>\n",
       "    <tr>\n",
       "      <th>2</th>\n",
       "      <td>www.ebay.com//58782</td>\n",
       "      <td>www.ebay.com//43019</td>\n",
       "      <td>0</td>\n",
       "    </tr>\n",
       "    <tr>\n",
       "      <th>3</th>\n",
       "      <td>www.ebay.com//42055</td>\n",
       "      <td>www.ebay.com//54403</td>\n",
       "      <td>0</td>\n",
       "    </tr>\n",
       "    <tr>\n",
       "      <th>4</th>\n",
       "      <td>www.ebay.com//44280</td>\n",
       "      <td>buy.net//6145</td>\n",
       "      <td>0</td>\n",
       "    </tr>\n",
       "  </tbody>\n",
       "</table>\n",
       "</div>"
      ],
      "text/plain": [
       "              left_spec_id        right_spec_id  label\n",
       "0  www.garricks.com.au//31  www.ebay.com//53278      1\n",
       "1      www.ebay.com//58782  www.ebay.com//24817      0\n",
       "2      www.ebay.com//58782  www.ebay.com//43019      0\n",
       "3      www.ebay.com//42055  www.ebay.com//54403      0\n",
       "4      www.ebay.com//44280        buy.net//6145      0"
      ]
     },
     "execution_count": 7,
     "metadata": {},
     "output_type": "execute_result"
    }
   ],
   "source": [
    "labels_df.head()"
   ]
  },
  {
   "cell_type": "markdown",
   "metadata": {
    "Collapsed": "false"
   },
   "source": [
    "# Load specs df"
   ]
  },
  {
   "cell_type": "code",
   "execution_count": 8,
   "metadata": {
    "Collapsed": "false"
   },
   "outputs": [
    {
     "data": {
      "text/plain": [
       "(29771, 7)"
      ]
     },
     "execution_count": 8,
     "metadata": {},
     "output_type": "execute_result"
    }
   ],
   "source": [
    "specs_df = pd.read_csv('../data/processed/specs_preprocessed.csv')\n",
    "specs_df.index=  specs_df.spec_id\n",
    "specs_df.shape"
   ]
  },
  {
   "cell_type": "code",
   "execution_count": 9,
   "metadata": {
    "Collapsed": "false"
   },
   "outputs": [
    {
     "data": {
      "text/html": [
       "<div>\n",
       "<style scoped>\n",
       "    .dataframe tbody tr th:only-of-type {\n",
       "        vertical-align: middle;\n",
       "    }\n",
       "\n",
       "    .dataframe tbody tr th {\n",
       "        vertical-align: top;\n",
       "    }\n",
       "\n",
       "    .dataframe thead th {\n",
       "        text-align: right;\n",
       "    }\n",
       "</style>\n",
       "<table border=\"1\" class=\"dataframe\">\n",
       "  <thead>\n",
       "    <tr style=\"text-align: right;\">\n",
       "      <th></th>\n",
       "      <th>spec_id</th>\n",
       "      <th>page_title</th>\n",
       "      <th>all_text</th>\n",
       "      <th>page_title_stem</th>\n",
       "      <th>all_text_stem</th>\n",
       "      <th>brand</th>\n",
       "      <th>site</th>\n",
       "    </tr>\n",
       "    <tr>\n",
       "      <th>spec_id</th>\n",
       "      <th></th>\n",
       "      <th></th>\n",
       "      <th></th>\n",
       "      <th></th>\n",
       "      <th></th>\n",
       "      <th></th>\n",
       "      <th></th>\n",
       "    </tr>\n",
       "  </thead>\n",
       "  <tbody>\n",
       "  </tbody>\n",
       "</table>\n",
       "</div>"
      ],
      "text/plain": [
       "Empty DataFrame\n",
       "Columns: [spec_id, page_title, all_text, page_title_stem, all_text_stem, brand, site]\n",
       "Index: []"
      ]
     },
     "execution_count": 9,
     "metadata": {},
     "output_type": "execute_result"
    }
   ],
   "source": [
    "specs_df[specs_df.page_title.isnull()]"
   ]
  },
  {
   "cell_type": "code",
   "execution_count": 10,
   "metadata": {
    "Collapsed": "false"
   },
   "outputs": [
    {
     "data": {
      "text/html": [
       "<div>\n",
       "<style scoped>\n",
       "    .dataframe tbody tr th:only-of-type {\n",
       "        vertical-align: middle;\n",
       "    }\n",
       "\n",
       "    .dataframe tbody tr th {\n",
       "        vertical-align: top;\n",
       "    }\n",
       "\n",
       "    .dataframe thead th {\n",
       "        text-align: right;\n",
       "    }\n",
       "</style>\n",
       "<table border=\"1\" class=\"dataframe\">\n",
       "  <thead>\n",
       "    <tr style=\"text-align: right;\">\n",
       "      <th></th>\n",
       "      <th>spec_id</th>\n",
       "      <th>page_title</th>\n",
       "      <th>all_text</th>\n",
       "      <th>page_title_stem</th>\n",
       "      <th>all_text_stem</th>\n",
       "      <th>brand</th>\n",
       "      <th>site</th>\n",
       "    </tr>\n",
       "    <tr>\n",
       "      <th>spec_id</th>\n",
       "      <th></th>\n",
       "      <th></th>\n",
       "      <th></th>\n",
       "      <th></th>\n",
       "      <th></th>\n",
       "      <th></th>\n",
       "      <th></th>\n",
       "    </tr>\n",
       "  </thead>\n",
       "  <tbody>\n",
       "    <tr>\n",
       "      <th>www.ebay.com//57656</th>\n",
       "      <td>www.ebay.com//57656</td>\n",
       "      <td>canon powershot elph 110 hs 16 1 mp</td>\n",
       "      <td>canon elph 110 hs 16 1 mp canon manufacturer r...</td>\n",
       "      <td>canon powershot elph 110 hs 16 1 mp</td>\n",
       "      <td>canon elph 110 hs 16 1 mp canon manufactur ref...</td>\n",
       "      <td>canon</td>\n",
       "      <td>www.ebay.com</td>\n",
       "    </tr>\n",
       "    <tr>\n",
       "      <th>www.ebay.com//60583</th>\n",
       "      <td>www.ebay.com//60583</td>\n",
       "      <td>canon rebel 2000 35 mm great case instruction ...</td>\n",
       "      <td>canon rebel 2000 35 mm great case instruction ...</td>\n",
       "      <td>canon rebel 2000 35 mm great case instruct boo...</td>\n",
       "      <td>canon rebel 2000 35 mm great case instruct boo...</td>\n",
       "      <td>canon</td>\n",
       "      <td>www.ebay.com</td>\n",
       "    </tr>\n",
       "    <tr>\n",
       "      <th>www.ebay.com//60440</th>\n",
       "      <td>www.ebay.com//60440</td>\n",
       "      <td>canon eos rebel t3i 18 55mm 75 300mm iii lens ...</td>\n",
       "      <td>canon eos rebel 18 55mm 75 300mm iii lens kit ...</td>\n",
       "      <td>canon eo rebel t3i 18 55mm 75 300mm iii len ki...</td>\n",
       "      <td>canon eo rebel 18 55mm 75 300mm iii len kit us...</td>\n",
       "      <td>canon</td>\n",
       "      <td>www.ebay.com</td>\n",
       "    </tr>\n",
       "    <tr>\n",
       "      <th>www.ebay.com//24139</th>\n",
       "      <td>www.ebay.com//24139</td>\n",
       "      <td>ge c1033 10 1 mp 3x zoom 2 4 lcd</td>\n",
       "      <td>ge c1033 10 1 mp 3x zoom 2 4 ge unused undamag...</td>\n",
       "      <td>ge c1033 10 1 mp 3x zoom 2 4 lcd</td>\n",
       "      <td>ge c1033 10 1 mp 3x zoom 2 4 ge unus undamag o...</td>\n",
       "      <td>NaN</td>\n",
       "      <td>www.ebay.com</td>\n",
       "    </tr>\n",
       "    <tr>\n",
       "      <th>www.ebay.com//54903</th>\n",
       "      <td>www.ebay.com//54903</td>\n",
       "      <td>vivitar clip shot 1 1 mp</td>\n",
       "      <td>vivitar clip shot 1 1 mp vivitar unused undama...</td>\n",
       "      <td>vivitar clip shot 1 1 mp</td>\n",
       "      <td>vivitar clip shot 1 1 mp vivitar unus undamag ...</td>\n",
       "      <td>vivitar</td>\n",
       "      <td>www.ebay.com</td>\n",
       "    </tr>\n",
       "  </tbody>\n",
       "</table>\n",
       "</div>"
      ],
      "text/plain": [
       "                                 spec_id  \\\n",
       "spec_id                                    \n",
       "www.ebay.com//57656  www.ebay.com//57656   \n",
       "www.ebay.com//60583  www.ebay.com//60583   \n",
       "www.ebay.com//60440  www.ebay.com//60440   \n",
       "www.ebay.com//24139  www.ebay.com//24139   \n",
       "www.ebay.com//54903  www.ebay.com//54903   \n",
       "\n",
       "                                                            page_title  \\\n",
       "spec_id                                                                  \n",
       "www.ebay.com//57656                canon powershot elph 110 hs 16 1 mp   \n",
       "www.ebay.com//60583  canon rebel 2000 35 mm great case instruction ...   \n",
       "www.ebay.com//60440  canon eos rebel t3i 18 55mm 75 300mm iii lens ...   \n",
       "www.ebay.com//24139                   ge c1033 10 1 mp 3x zoom 2 4 lcd   \n",
       "www.ebay.com//54903                           vivitar clip shot 1 1 mp   \n",
       "\n",
       "                                                              all_text  \\\n",
       "spec_id                                                                  \n",
       "www.ebay.com//57656  canon elph 110 hs 16 1 mp canon manufacturer r...   \n",
       "www.ebay.com//60583  canon rebel 2000 35 mm great case instruction ...   \n",
       "www.ebay.com//60440  canon eos rebel 18 55mm 75 300mm iii lens kit ...   \n",
       "www.ebay.com//24139  ge c1033 10 1 mp 3x zoom 2 4 ge unused undamag...   \n",
       "www.ebay.com//54903  vivitar clip shot 1 1 mp vivitar unused undama...   \n",
       "\n",
       "                                                       page_title_stem  \\\n",
       "spec_id                                                                  \n",
       "www.ebay.com//57656                canon powershot elph 110 hs 16 1 mp   \n",
       "www.ebay.com//60583  canon rebel 2000 35 mm great case instruct boo...   \n",
       "www.ebay.com//60440  canon eo rebel t3i 18 55mm 75 300mm iii len ki...   \n",
       "www.ebay.com//24139                   ge c1033 10 1 mp 3x zoom 2 4 lcd   \n",
       "www.ebay.com//54903                           vivitar clip shot 1 1 mp   \n",
       "\n",
       "                                                         all_text_stem  \\\n",
       "spec_id                                                                  \n",
       "www.ebay.com//57656  canon elph 110 hs 16 1 mp canon manufactur ref...   \n",
       "www.ebay.com//60583  canon rebel 2000 35 mm great case instruct boo...   \n",
       "www.ebay.com//60440  canon eo rebel 18 55mm 75 300mm iii len kit us...   \n",
       "www.ebay.com//24139  ge c1033 10 1 mp 3x zoom 2 4 ge unus undamag o...   \n",
       "www.ebay.com//54903  vivitar clip shot 1 1 mp vivitar unus undamag ...   \n",
       "\n",
       "                       brand          site  \n",
       "spec_id                                     \n",
       "www.ebay.com//57656    canon  www.ebay.com  \n",
       "www.ebay.com//60583    canon  www.ebay.com  \n",
       "www.ebay.com//60440    canon  www.ebay.com  \n",
       "www.ebay.com//24139      NaN  www.ebay.com  \n",
       "www.ebay.com//54903  vivitar  www.ebay.com  "
      ]
     },
     "execution_count": 10,
     "metadata": {},
     "output_type": "execute_result"
    }
   ],
   "source": [
    "specs_df.head()"
   ]
  },
  {
   "cell_type": "code",
   "execution_count": 11,
   "metadata": {
    "Collapsed": "false"
   },
   "outputs": [
    {
     "data": {
      "text/plain": [
       "'olympus 460 1 3 mp'"
      ]
     },
     "execution_count": 11,
     "metadata": {},
     "output_type": "execute_result"
    }
   ],
   "source": [
    "specs_df.page_title.sample(5).values[0]"
   ]
  },
  {
   "cell_type": "code",
   "execution_count": 12,
   "metadata": {
    "Collapsed": "false"
   },
   "outputs": [
    {
     "data": {
      "text/plain": [
       "'ab case water well inspect drill sewer system drill sewer system pipe inspect plumb inspect'"
      ]
     },
     "execution_count": 12,
     "metadata": {},
     "output_type": "execute_result"
    }
   ],
   "source": [
    "specs_df.page_title_stem.sample(5).values[0]"
   ]
  },
  {
   "cell_type": "markdown",
   "metadata": {
    "Collapsed": "false"
   },
   "source": [
    "# Make embedder and index"
   ]
  },
  {
   "cell_type": "code",
   "execution_count": 13,
   "metadata": {
    "Collapsed": "false"
   },
   "outputs": [],
   "source": [
    "emb = Embedder.load('../models/embedder')"
   ]
  },
  {
   "cell_type": "code",
   "execution_count": 14,
   "metadata": {
    "Collapsed": "false"
   },
   "outputs": [],
   "source": [
    "# emb = Embedder(vector_size=200,\n",
    "#                train_epochs=100,\n",
    "#                index_trees=1000)"
   ]
  },
  {
   "cell_type": "code",
   "execution_count": 15,
   "metadata": {
    "Collapsed": "false"
   },
   "outputs": [],
   "source": [
    "# emb.fit(specs_df.page_title_stem, specs_df.spec_id)"
   ]
  },
  {
   "cell_type": "markdown",
   "metadata": {
    "Collapsed": "false"
   },
   "source": [
    "# Visual evaluation"
   ]
  },
  {
   "cell_type": "code",
   "execution_count": 16,
   "metadata": {
    "Collapsed": "false"
   },
   "outputs": [
    {
     "name": "stdout",
     "output_type": "stream",
     "text": [
      "Query:\n",
      "\tfujifilm finepix z3 5 1 mp pink\n",
      "3 Closest:\n",
      "\tfinepix z3 5 1 mp pink lock af lock audio record auto power save bright control dpof support imag rotat nois reduct direct print pictbridg support resiz imag usb compat ttl contrast detect manufactur specif point shoot may sign cosmet wear fulli oper function intend may floor model store return seller full detail descript imperfect open window tab read moreabout 1 x dc power input 1 x usb 1 x composit output 1 x dock station frame per second frame per second avi 6x 3 1 x card 2 ev rang ev step automat program auto mode mode mode reduct slow synchro flash none 36 108mm automat 10 iso 100 iso 1600 iso 200 iso 400 iso 64 iso 800 iso auto 1600 40 c sec mp microphon 0 c 4 sec z3 z3 appl mac os x later ms window 2000 ms window 98 ms window 98 se ms window ms window xp 3x real photo technolog captur treasur moment eye see combin rpii processor 5th generat super sensor fujinon len optic z3 deliv sensit low nois faster oper speed reduc power consumpt allow captur priceless memori photograph everi nuanc light color even low light situat without featur innov\n",
      "\tfinepix s4000hd price shop comparison fine pix 4000hd onlin india shopmania yes center continu contrast detect face detect live view singl track nimh compact camera composit usb mini hdmi 100 mm avi mjpeg mpeg fix 2 ev rang ev step apertur prioriti auto custom manual program scene shutter prioriti auto eye reduct slow speed sync 7 129 mm 24 720 mm 81 mm dcf dpof jpeg 640x480 1280x960 1600x1200 1920x1080 2048x1360 2048x1536 2560x1920 3072x1728 3072x2048 3072x2304 3264x2448 4288x2416 4288x2864 4288x3216 optic carri strap len cap 23 auto 64 100 200 300 400 800 1600 3200 6400 yes yes sd sdhc averag multi spot yes 8s 30x 98 finepix s4000hd 4 5 face detect yes 14 mp 67 460000 68 3 62 2s 10s ccd vivid write review 320x240 1280x720 97 electron optic 540 g automat custom manual preset daylight sunni flash fluoresc incandesc indoor shade sunni tungsten underwat 118 mm\n",
      "\tfinepix av100 price shop comparison fine pix av 100 onlin india shopmania nimh compact camera composit usb 28 mm avi mjpeg fix 2 ev rang ev step auto manual program scene auto eye reduct slow speed sync mm 32 96 mm 60 mm dcf dpof jpeg 640x480 1600x1200 1920x1080 2048x1536 2816x2112 4000x2248 4000x3000 hand strap 9 auto 80 100 200 400 800 1600 3200 sd sdhc sdxc xd yes 8s 3x finepix av100 4 5 face detect yes mp 61 230000 2s 10s ccd contrast vivid write review 320x240 640x480 1280x720 96 119 g automat preset daylight sunni fine flash fluoresc incandesc indoor shade tungsten 93 mm\n",
      "Most distant:\n",
      "\tdigiflip wizard cb001 rain cover bag onlin best price india digiflip wizard cb001 rain cover backpack\n"
     ]
    }
   ],
   "source": [
    "random_spec = specs_df.sample(1).iloc[0]\n",
    "spec_id = random_spec.spec_id\n",
    "text = random_spec.page_title_stem\n",
    "\n",
    "nn_ids = emb.lookup_ids(text, n=100)\n",
    "nn_texts =  emb.lookup_texts(text, n=100)\n",
    "\n",
    "print(f'Query:\\n\\t{text}')\n",
    "newline_ = '\\n\\t'\n",
    "print(f'3 Closest:\\n\\t{newline_.join(nn_texts[:3])}')\n",
    "\n",
    "print(f'Most distant:\\n\\t{nn_texts[-1]}')"
   ]
  },
  {
   "cell_type": "markdown",
   "metadata": {
    "Collapsed": "false"
   },
   "source": [
    "# Obtian labelled dataset recall"
   ]
  },
  {
   "cell_type": "code",
   "execution_count": 17,
   "metadata": {
    "Collapsed": "false"
   },
   "outputs": [
    {
     "name": "stdout",
     "output_type": "stream",
     "text": [
      "1791\n"
     ]
    },
    {
     "data": {
      "application/vnd.jupyter.widget-view+json": {
       "model_id": "0a0febe10e734e25b94b06117946bfa3",
       "version_major": 2,
       "version_minor": 0
      },
      "text/html": [
       "<p>Failed to display Jupyter Widget of type <code>HBox</code>.</p>\n",
       "<p>\n",
       "  If you're reading this message in the Jupyter Notebook or JupyterLab Notebook, it may mean\n",
       "  that the widgets JavaScript is still loading. If this message persists, it\n",
       "  likely means that the widgets JavaScript library is either not installed or\n",
       "  not enabled. See the <a href=\"https://ipywidgets.readthedocs.io/en/stable/user_install.html\">Jupyter\n",
       "  Widgets Documentation</a> for setup instructions.\n",
       "</p>\n",
       "<p>\n",
       "  If you're reading this message in another frontend (for example, a static\n",
       "  rendering on GitHub or <a href=\"https://nbviewer.jupyter.org/\">NBViewer</a>),\n",
       "  it may mean that your frontend doesn't currently support widgets.\n",
       "</p>\n"
      ],
      "text/plain": [
       "HBox(children=(IntProgress(value=1, bar_style='info', max=1), HTML(value='')))"
      ]
     },
     "metadata": {},
     "output_type": "display_data"
    },
    {
     "name": "stdout",
     "output_type": "stream",
     "text": [
      "\n"
     ]
    }
   ],
   "source": [
    "def get_candidate_specs(query_text, emb, n):\n",
    "    nn_spec_ids = emb.lookup_ids(query_text, n=n)\n",
    "    return nn_spec_ids\n",
    "\n",
    "dups_df = labels_df[labels_df.label==1]\n",
    "results = []\n",
    "print(int(0.5*len(dups_df)))\n",
    "for row in tqdm(dups_df.sample(int(0.5*len(dups_df))).itertuples()):\n",
    "    left_spec = specs_df.loc[row.left_spec_id]\n",
    "    candidates = emb.lookup_ids(left_spec.page_title_stem, n=500, search_k=1500)\n",
    "    target_index = None\n",
    "    if row.right_spec_id in candidates:\n",
    "        target_index = list(candidates).index(row.right_spec_id)\n",
    "    \n",
    "    \n",
    "    results.append((row.left_spec_id, row.right_spec_id, target_index))"
   ]
  },
  {
   "cell_type": "code",
   "execution_count": 18,
   "metadata": {
    "Collapsed": "false"
   },
   "outputs": [
    {
     "data": {
      "text/html": [
       "<div>\n",
       "<style scoped>\n",
       "    .dataframe tbody tr th:only-of-type {\n",
       "        vertical-align: middle;\n",
       "    }\n",
       "\n",
       "    .dataframe tbody tr th {\n",
       "        vertical-align: top;\n",
       "    }\n",
       "\n",
       "    .dataframe thead th {\n",
       "        text-align: right;\n",
       "    }\n",
       "</style>\n",
       "<table border=\"1\" class=\"dataframe\">\n",
       "  <thead>\n",
       "    <tr style=\"text-align: right;\">\n",
       "      <th></th>\n",
       "      <th>left_spec_id</th>\n",
       "      <th>right_spec_id</th>\n",
       "      <th>right_spec_rank</th>\n",
       "    </tr>\n",
       "  </thead>\n",
       "  <tbody>\n",
       "    <tr>\n",
       "      <th>0</th>\n",
       "      <td>www.ebay.com//42569</td>\n",
       "      <td>www.ebay.com//48111</td>\n",
       "      <td>NaN</td>\n",
       "    </tr>\n",
       "    <tr>\n",
       "      <th>1</th>\n",
       "      <td>www.ilgs.net//86</td>\n",
       "      <td>www.ebay.com//55107</td>\n",
       "      <td>NaN</td>\n",
       "    </tr>\n",
       "    <tr>\n",
       "      <th>2</th>\n",
       "      <td>www.ebay.com//54560</td>\n",
       "      <td>www.ebay.com//41940</td>\n",
       "      <td>130.0</td>\n",
       "    </tr>\n",
       "    <tr>\n",
       "      <th>3</th>\n",
       "      <td>www.priceme.co.nz//2382</td>\n",
       "      <td>www.camerafarm.com.au//777</td>\n",
       "      <td>20.0</td>\n",
       "    </tr>\n",
       "    <tr>\n",
       "      <th>4</th>\n",
       "      <td>www.ebay.com//48111</td>\n",
       "      <td>www.ebay.com//54255</td>\n",
       "      <td>NaN</td>\n",
       "    </tr>\n",
       "  </tbody>\n",
       "</table>\n",
       "</div>"
      ],
      "text/plain": [
       "              left_spec_id               right_spec_id  right_spec_rank\n",
       "0      www.ebay.com//42569         www.ebay.com//48111              NaN\n",
       "1         www.ilgs.net//86         www.ebay.com//55107              NaN\n",
       "2      www.ebay.com//54560         www.ebay.com//41940            130.0\n",
       "3  www.priceme.co.nz//2382  www.camerafarm.com.au//777             20.0\n",
       "4      www.ebay.com//48111         www.ebay.com//54255              NaN"
      ]
     },
     "execution_count": 18,
     "metadata": {},
     "output_type": "execute_result"
    }
   ],
   "source": [
    "results_df = pd.DataFrame(results)\n",
    "results_df.columns = ['left_spec_id', 'right_spec_id', 'right_spec_rank']\n",
    "results_df.head()"
   ]
  },
  {
   "cell_type": "code",
   "execution_count": 19,
   "metadata": {
    "Collapsed": "false"
   },
   "outputs": [],
   "source": [
    "def compute_recall_k(ranks, k):\n",
    "    total_number = len(ranks)\n",
    "    matched_number = ranks[(~ranks.isnull()) & (ranks <= k)]\n",
    "    return len(matched_number)/total_number"
   ]
  },
  {
   "cell_type": "code",
   "execution_count": 20,
   "metadata": {
    "Collapsed": "false"
   },
   "outputs": [
    {
     "name": "stdout",
     "output_type": "stream",
     "text": [
      "Recall-1:  0.0089\n",
      "Recall-10:  0.0508\n",
      "Recall-50:  0.1267\n",
      "Recall-100:  0.1843\n",
      "Recall-500:  0.3892\n",
      "Recall-1000:  0.3892\n"
     ]
    }
   ],
   "source": [
    "ks = [1, 10, 50, 100, 500, 1000]\n",
    "for k in ks:\n",
    "    print(f'Recall-{k}: ', round(compute_recall_k(results_df.right_spec_rank, k), 4))"
   ]
  },
  {
   "cell_type": "markdown",
   "metadata": {
    "Collapsed": "false"
   },
   "source": [
    "# Visualize embedding"
   ]
  },
  {
   "cell_type": "markdown",
   "metadata": {
    "Collapsed": "false"
   },
   "source": [
    "## Obtain classes from labels"
   ]
  },
  {
   "cell_type": "markdown",
   "metadata": {
    "Collapsed": "false"
   },
   "source": [
    "Each class - camera model. All specs that are duplicates of eachother consitute the same class. In a graph one class = one connected component."
   ]
  },
  {
   "cell_type": "code",
   "execution_count": 21,
   "metadata": {
    "Collapsed": "false"
   },
   "outputs": [],
   "source": [
    "dup_df = labels_df[labels_df.label==1][['left_spec_id', 'right_spec_id', 'label']].sort_values(by=['left_spec_id', 'right_spec_id'])"
   ]
  },
  {
   "cell_type": "code",
   "execution_count": 22,
   "metadata": {
    "Collapsed": "false"
   },
   "outputs": [
    {
     "data": {
      "text/plain": [
       "(3582, 3)"
      ]
     },
     "execution_count": 22,
     "metadata": {},
     "output_type": "execute_result"
    }
   ],
   "source": [
    "dup_df.shape"
   ]
  },
  {
   "cell_type": "code",
   "execution_count": 23,
   "metadata": {
    "Collapsed": "false"
   },
   "outputs": [
    {
     "data": {
      "text/html": [
       "<div>\n",
       "<style scoped>\n",
       "    .dataframe tbody tr th:only-of-type {\n",
       "        vertical-align: middle;\n",
       "    }\n",
       "\n",
       "    .dataframe tbody tr th {\n",
       "        vertical-align: top;\n",
       "    }\n",
       "\n",
       "    .dataframe thead th {\n",
       "        text-align: right;\n",
       "    }\n",
       "</style>\n",
       "<table border=\"1\" class=\"dataframe\">\n",
       "  <thead>\n",
       "    <tr style=\"text-align: right;\">\n",
       "      <th></th>\n",
       "      <th>left_spec_id</th>\n",
       "      <th>right_spec_id</th>\n",
       "      <th>label</th>\n",
       "    </tr>\n",
       "  </thead>\n",
       "  <tbody>\n",
       "    <tr>\n",
       "      <th>27484</th>\n",
       "      <td>buy.net//5641</td>\n",
       "      <td>www.ebay.com//58588</td>\n",
       "      <td>1</td>\n",
       "    </tr>\n",
       "    <tr>\n",
       "      <th>24490</th>\n",
       "      <td>buy.net//5641</td>\n",
       "      <td>www.gosale.com//849</td>\n",
       "      <td>1</td>\n",
       "    </tr>\n",
       "    <tr>\n",
       "      <th>12459</th>\n",
       "      <td>buy.net//5641</td>\n",
       "      <td>www.price-hunt.com//9794</td>\n",
       "      <td>1</td>\n",
       "    </tr>\n",
       "    <tr>\n",
       "      <th>5120</th>\n",
       "      <td>buy.net//5698</td>\n",
       "      <td>cammarkt.com//501</td>\n",
       "      <td>1</td>\n",
       "    </tr>\n",
       "    <tr>\n",
       "      <th>31627</th>\n",
       "      <td>buy.net//5698</td>\n",
       "      <td>www.ebay.com//41940</td>\n",
       "      <td>1</td>\n",
       "    </tr>\n",
       "  </tbody>\n",
       "</table>\n",
       "</div>"
      ],
      "text/plain": [
       "        left_spec_id             right_spec_id  label\n",
       "27484  buy.net//5641       www.ebay.com//58588      1\n",
       "24490  buy.net//5641       www.gosale.com//849      1\n",
       "12459  buy.net//5641  www.price-hunt.com//9794      1\n",
       "5120   buy.net//5698         cammarkt.com//501      1\n",
       "31627  buy.net//5698       www.ebay.com//41940      1"
      ]
     },
     "execution_count": 23,
     "metadata": {},
     "output_type": "execute_result"
    }
   ],
   "source": [
    "dup_df.head()"
   ]
  },
  {
   "cell_type": "code",
   "execution_count": 24,
   "metadata": {
    "Collapsed": "false"
   },
   "outputs": [
    {
     "data": {
      "text/plain": [
       "306"
      ]
     },
     "execution_count": 24,
     "metadata": {},
     "output_type": "execute_result"
    }
   ],
   "source": [
    "len(set(dup_df.left_spec_id).union(dup_df.right_spec_id))"
   ]
  },
  {
   "cell_type": "code",
   "execution_count": 25,
   "metadata": {
    "Collapsed": "false"
   },
   "outputs": [],
   "source": [
    "class_mapping = {\n",
    "    \n",
    "}\n",
    "\n",
    "def replace_class_mapping(prev_class, new_class):\n",
    "    for k in class_mapping:\n",
    "        if k == prev_class:\n",
    "            class_mapping[k] = new_class\n",
    "\n",
    "cur_class = 0\n",
    "for row in dup_df.itertuples():\n",
    "    if row.left_spec_id in class_mapping or row.right_spec_id in class_mapping:\n",
    "        if row.left_spec_id in class_mapping and row.right_spec_id in class_mapping and class_mapping[row.left_spec_id] != class_mapping[row.right_spec_id]:\n",
    "            raise Exception('wtf')\n",
    "        \n",
    "        existing_class = class_mapping.get(row.left_spec_id, class_mapping.get(row.right_spec_id))\n",
    "        class_mapping[row.left_spec_id] = existing_class\n",
    "        class_mapping[row.right_spec_id] = existing_class\n",
    "    else:\n",
    "        class_mapping[row.left_spec_id] = cur_class\n",
    "        class_mapping[row.right_spec_id] = cur_class\n",
    "        cur_class += 1\n"
   ]
  },
  {
   "cell_type": "code",
   "execution_count": 26,
   "metadata": {
    "Collapsed": "false"
   },
   "outputs": [
    {
     "data": {
      "text/plain": [
       "(306, 2)"
      ]
     },
     "execution_count": 26,
     "metadata": {},
     "output_type": "execute_result"
    }
   ],
   "source": [
    "classes_df = pd.DataFrame({'spec_id': list(class_mapping.keys()), 'class_': list(class_mapping.values())})\n",
    "classes_df.shape"
   ]
  },
  {
   "cell_type": "code",
   "execution_count": 27,
   "metadata": {
    "Collapsed": "false"
   },
   "outputs": [
    {
     "data": {
      "text/html": [
       "<div>\n",
       "<style scoped>\n",
       "    .dataframe tbody tr th:only-of-type {\n",
       "        vertical-align: middle;\n",
       "    }\n",
       "\n",
       "    .dataframe tbody tr th {\n",
       "        vertical-align: top;\n",
       "    }\n",
       "\n",
       "    .dataframe thead th {\n",
       "        text-align: right;\n",
       "    }\n",
       "</style>\n",
       "<table border=\"1\" class=\"dataframe\">\n",
       "  <thead>\n",
       "    <tr style=\"text-align: right;\">\n",
       "      <th></th>\n",
       "      <th>spec_id</th>\n",
       "      <th>class_</th>\n",
       "    </tr>\n",
       "  </thead>\n",
       "  <tbody>\n",
       "    <tr>\n",
       "      <th>0</th>\n",
       "      <td>buy.net//5641</td>\n",
       "      <td>0</td>\n",
       "    </tr>\n",
       "    <tr>\n",
       "      <th>1</th>\n",
       "      <td>www.ebay.com//58588</td>\n",
       "      <td>0</td>\n",
       "    </tr>\n",
       "    <tr>\n",
       "      <th>2</th>\n",
       "      <td>www.gosale.com//849</td>\n",
       "      <td>0</td>\n",
       "    </tr>\n",
       "    <tr>\n",
       "      <th>3</th>\n",
       "      <td>www.price-hunt.com//9794</td>\n",
       "      <td>0</td>\n",
       "    </tr>\n",
       "    <tr>\n",
       "      <th>4</th>\n",
       "      <td>buy.net//5698</td>\n",
       "      <td>1</td>\n",
       "    </tr>\n",
       "  </tbody>\n",
       "</table>\n",
       "</div>"
      ],
      "text/plain": [
       "                    spec_id  class_\n",
       "0             buy.net//5641       0\n",
       "1       www.ebay.com//58588       0\n",
       "2       www.gosale.com//849       0\n",
       "3  www.price-hunt.com//9794       0\n",
       "4             buy.net//5698       1"
      ]
     },
     "execution_count": 27,
     "metadata": {},
     "output_type": "execute_result"
    }
   ],
   "source": [
    "classes_df.head()"
   ]
  },
  {
   "cell_type": "code",
   "execution_count": 28,
   "metadata": {
    "Collapsed": "false"
   },
   "outputs": [
    {
     "data": {
      "text/html": [
       "<div>\n",
       "<style scoped>\n",
       "    .dataframe tbody tr th:only-of-type {\n",
       "        vertical-align: middle;\n",
       "    }\n",
       "\n",
       "    .dataframe tbody tr th {\n",
       "        vertical-align: top;\n",
       "    }\n",
       "\n",
       "    .dataframe thead th {\n",
       "        text-align: right;\n",
       "    }\n",
       "</style>\n",
       "<table border=\"1\" class=\"dataframe\">\n",
       "  <thead>\n",
       "    <tr style=\"text-align: right;\">\n",
       "      <th></th>\n",
       "      <th>spec_id</th>\n",
       "      <th>class_</th>\n",
       "    </tr>\n",
       "  </thead>\n",
       "  <tbody>\n",
       "    <tr>\n",
       "      <th>301</th>\n",
       "      <td>www.gosale.com//462</td>\n",
       "      <td>25</td>\n",
       "    </tr>\n",
       "    <tr>\n",
       "      <th>302</th>\n",
       "      <td>www.shopbot.com.au//271</td>\n",
       "      <td>21</td>\n",
       "    </tr>\n",
       "    <tr>\n",
       "      <th>303</th>\n",
       "      <td>www.shopmania.in//1458</td>\n",
       "      <td>26</td>\n",
       "    </tr>\n",
       "    <tr>\n",
       "      <th>304</th>\n",
       "      <td>www.mypriceindia.com//52</td>\n",
       "      <td>26</td>\n",
       "    </tr>\n",
       "    <tr>\n",
       "      <th>305</th>\n",
       "      <td>www.wexphotographic.com//601</td>\n",
       "      <td>13</td>\n",
       "    </tr>\n",
       "  </tbody>\n",
       "</table>\n",
       "</div>"
      ],
      "text/plain": [
       "                          spec_id  class_\n",
       "301           www.gosale.com//462      25\n",
       "302       www.shopbot.com.au//271      21\n",
       "303        www.shopmania.in//1458      26\n",
       "304      www.mypriceindia.com//52      26\n",
       "305  www.wexphotographic.com//601      13"
      ]
     },
     "execution_count": 28,
     "metadata": {},
     "output_type": "execute_result"
    }
   ],
   "source": [
    "classes_df.tail()"
   ]
  },
  {
   "cell_type": "code",
   "execution_count": 29,
   "metadata": {
    "Collapsed": "false"
   },
   "outputs": [],
   "source": [
    "classes_df.index = classes_df.spec_id"
   ]
  },
  {
   "cell_type": "code",
   "execution_count": 30,
   "metadata": {
    "Collapsed": "false"
   },
   "outputs": [],
   "source": [
    "classes_df.to_csv('../data/interim/classes.csv', index=None)"
   ]
  },
  {
   "cell_type": "code",
   "execution_count": 31,
   "metadata": {
    "Collapsed": "false"
   },
   "outputs": [
    {
     "data": {
      "text/plain": [
       "306"
      ]
     },
     "execution_count": 31,
     "metadata": {},
     "output_type": "execute_result"
    }
   ],
   "source": [
    "len(set(labels_df.left_spec_id).union(labels_df.right_spec_id))"
   ]
  },
  {
   "cell_type": "markdown",
   "metadata": {
    "Collapsed": "false"
   },
   "source": [
    "## Get spec vectors"
   ]
  },
  {
   "cell_type": "code",
   "execution_count": 32,
   "metadata": {
    "Collapsed": "false"
   },
   "outputs": [
    {
     "data": {
      "text/plain": [
       "['__class__',\n",
       " '__delattr__',\n",
       " '__dir__',\n",
       " '__doc__',\n",
       " '__eq__',\n",
       " '__format__',\n",
       " '__ge__',\n",
       " '__getattribute__',\n",
       " '__gt__',\n",
       " '__hash__',\n",
       " '__init__',\n",
       " '__init_subclass__',\n",
       " '__le__',\n",
       " '__lt__',\n",
       " '__ne__',\n",
       " '__new__',\n",
       " '__reduce__',\n",
       " '__reduce_ex__',\n",
       " '__repr__',\n",
       " '__setattr__',\n",
       " '__sizeof__',\n",
       " '__str__',\n",
       " '__subclasshook__',\n",
       " 'add_item',\n",
       " 'build',\n",
       " 'f',\n",
       " 'get_distance',\n",
       " 'get_item_vector',\n",
       " 'get_n_items',\n",
       " 'get_n_trees',\n",
       " 'get_nns_by_item',\n",
       " 'get_nns_by_vector',\n",
       " 'load',\n",
       " 'on_disk_build',\n",
       " 'save',\n",
       " 'set_seed',\n",
       " 'unbuild',\n",
       " 'unload',\n",
       " 'verbose']"
      ]
     },
     "execution_count": 32,
     "metadata": {},
     "output_type": "execute_result"
    }
   ],
   "source": [
    "dir(emb.indexer)"
   ]
  },
  {
   "cell_type": "code",
   "execution_count": 33,
   "metadata": {
    "Collapsed": "false"
   },
   "outputs": [
    {
     "data": {
      "application/vnd.jupyter.widget-view+json": {
       "model_id": "f3d27b44c3044a77aace635a42d149f0",
       "version_major": 2,
       "version_minor": 0
      },
      "text/html": [
       "<p>Failed to display Jupyter Widget of type <code>HBox</code>.</p>\n",
       "<p>\n",
       "  If you're reading this message in the Jupyter Notebook or JupyterLab Notebook, it may mean\n",
       "  that the widgets JavaScript is still loading. If this message persists, it\n",
       "  likely means that the widgets JavaScript library is either not installed or\n",
       "  not enabled. See the <a href=\"https://ipywidgets.readthedocs.io/en/stable/user_install.html\">Jupyter\n",
       "  Widgets Documentation</a> for setup instructions.\n",
       "</p>\n",
       "<p>\n",
       "  If you're reading this message in another frontend (for example, a static\n",
       "  rendering on GitHub or <a href=\"https://nbviewer.jupyter.org/\">NBViewer</a>),\n",
       "  it may mean that your frontend doesn't currently support widgets.\n",
       "</p>\n"
      ],
      "text/plain": [
       "HBox(children=(IntProgress(value=0, max=29771), HTML(value='')))"
      ]
     },
     "metadata": {},
     "output_type": "display_data"
    },
    {
     "name": "stdout",
     "output_type": "stream",
     "text": [
      "\n"
     ]
    }
   ],
   "source": [
    "vecs = []\n",
    "for i in tqdm(range(len(specs_df))):\n",
    "    vecs.append(emb.indexer.get_item_vector(i))"
   ]
  },
  {
   "cell_type": "code",
   "execution_count": 34,
   "metadata": {
    "Collapsed": "false"
   },
   "outputs": [],
   "source": [
    "vecs = np.array(vecs)"
   ]
  },
  {
   "cell_type": "code",
   "execution_count": 35,
   "metadata": {
    "Collapsed": "false"
   },
   "outputs": [
    {
     "data": {
      "text/plain": [
       "(29771, 200)"
      ]
     },
     "execution_count": 35,
     "metadata": {},
     "output_type": "execute_result"
    }
   ],
   "source": [
    "vecs.shape"
   ]
  },
  {
   "cell_type": "code",
   "execution_count": 36,
   "metadata": {
    "Collapsed": "false"
   },
   "outputs": [
    {
     "data": {
      "text/plain": [
       "(29771, 200)"
      ]
     },
     "execution_count": 36,
     "metadata": {},
     "output_type": "execute_result"
    }
   ],
   "source": [
    "vecs = pd.DataFrame(vecs, index=specs_df.spec_id)\n",
    "vecs.shape"
   ]
  },
  {
   "cell_type": "markdown",
   "metadata": {
    "Collapsed": "false"
   },
   "source": [
    "## Pairwise distances distirubtion"
   ]
  },
  {
   "cell_type": "code",
   "execution_count": 37,
   "metadata": {
    "Collapsed": "false"
   },
   "outputs": [],
   "source": [
    "from scipy.spatial.distance import pdist, cdist"
   ]
  },
  {
   "cell_type": "code",
   "execution_count": 38,
   "metadata": {
    "Collapsed": "false"
   },
   "outputs": [],
   "source": [
    "sample_features = vecs.sample(5000)"
   ]
  },
  {
   "cell_type": "code",
   "execution_count": 39,
   "metadata": {
    "Collapsed": "false"
   },
   "outputs": [],
   "source": [
    "pairwise_distances = pdist(sample_features)"
   ]
  },
  {
   "cell_type": "code",
   "execution_count": 40,
   "metadata": {
    "Collapsed": "false"
   },
   "outputs": [
    {
     "name": "stderr",
     "output_type": "stream",
     "text": [
      "/home/boris/anaconda3/lib/python3.6/site-packages/scipy/stats/stats.py:1713: FutureWarning: Using a non-tuple sequence for multidimensional indexing is deprecated; use `arr[tuple(seq)]` instead of `arr[seq]`. In the future this will be interpreted as an array index, `arr[np.array(seq)]`, which will result either in an error or a different result.\n",
      "  return np.add.reduce(sorted[indexer] * weights, axis=axis) / sumval\n"
     ]
    },
    {
     "data": {
      "image/png": "[encoded data removed]",
      "text/plain": [
       "<Figure size 432x288 with 1 Axes>"
      ]
     },
     "metadata": {},
     "output_type": "display_data"
    }
   ],
   "source": [
    "plt.figure()\n",
    "plt.title('Distribution of pairwise distances')\n",
    "sns.distplot(pairwise_distances)\n",
    "plt.show()"
   ]
  },
  {
   "cell_type": "code",
   "execution_count": 41,
   "metadata": {
    "Collapsed": "false"
   },
   "outputs": [
    {
     "data": {
      "text/plain": [
       "0    0.000000\n",
       "1    0.115768\n",
       "2    0.000000\n",
       "3    0.000000\n",
       "4    0.000000\n",
       "Name: www.ebay.com//42835, dtype: float64"
      ]
     },
     "execution_count": 41,
     "metadata": {},
     "output_type": "execute_result"
    }
   ],
   "source": [
    "# Vector for spec\n",
    "vecs.loc['www.ebay.com//42835'].head()"
   ]
  },
  {
   "cell_type": "code",
   "execution_count": 42,
   "metadata": {
    "Collapsed": "false"
   },
   "outputs": [],
   "source": [
    "duplicate_pairs = dup_df.sample(1000)[['left_spec_id', 'right_spec_id']].values\n",
    "\n",
    "duplicate_vector_pairs = []\n",
    "for s1, s2 in duplicate_pairs:\n",
    "    duplicate_vector_pairs.append([\n",
    "        vecs.loc[s1],\n",
    "        vecs.loc[s2]\n",
    "    ])\n",
    "    \n",
    "duplicate_vector_pairs = np.array(duplicate_vector_pairs)\n",
    "\n",
    "#duplicate_vector_pairs[:3]"
   ]
  },
  {
   "cell_type": "code",
   "execution_count": 43,
   "metadata": {
    "Collapsed": "false"
   },
   "outputs": [],
   "source": [
    "non_duplicate_pairs = labels_df[labels_df.label==0].sample(10000)[['left_spec_id', 'right_spec_id']].values\n",
    "\n",
    "non_duplicate_vector_pairs = []\n",
    "for s1, s2 in non_duplicate_pairs:\n",
    "    non_duplicate_vector_pairs.append([\n",
    "        vecs.loc[s1],\n",
    "        vecs.loc[s2]\n",
    "    ])\n",
    "\n",
    "        \n",
    "non_duplicate_vector_pairs = np.array(non_duplicate_vector_pairs)\n",
    "# non_duplicate_vector_pairs[:3]"
   ]
  },
  {
   "cell_type": "code",
   "execution_count": 44,
   "metadata": {
    "Collapsed": "false"
   },
   "outputs": [
    {
     "data": {
      "text/plain": [
       "(1000, 2, 200)"
      ]
     },
     "execution_count": 44,
     "metadata": {},
     "output_type": "execute_result"
    }
   ],
   "source": [
    "duplicate_vector_pairs.shape"
   ]
  },
  {
   "cell_type": "code",
   "execution_count": 45,
   "metadata": {
    "Collapsed": "false"
   },
   "outputs": [],
   "source": [
    "def compute_pairwise_distances(pairs_arr):\n",
    "    dists = []\n",
    "    for i in range(len(pairs_arr)):\n",
    "        dists.append(pdist(pairs_arr[i])[0])\n",
    "    return dists"
   ]
  },
  {
   "cell_type": "code",
   "execution_count": 46,
   "metadata": {
    "Collapsed": "false"
   },
   "outputs": [
    {
     "data": {
      "text/plain": [
       "(1000, 2, 200)"
      ]
     },
     "execution_count": 46,
     "metadata": {},
     "output_type": "execute_result"
    }
   ],
   "source": [
    "duplicate_vector_pairs.shape"
   ]
  },
  {
   "cell_type": "code",
   "execution_count": 47,
   "metadata": {
    "Collapsed": "false"
   },
   "outputs": [],
   "source": [
    "duplicate_distances = compute_pairwise_distances(duplicate_vector_pairs)\n",
    "non_duplicate_distances = compute_pairwise_distances(non_duplicate_vector_pairs)"
   ]
  },
  {
   "cell_type": "code",
   "execution_count": 48,
   "metadata": {
    "Collapsed": "false"
   },
   "outputs": [
    {
     "data": {
      "text/plain": [
       "(1000, 10000)"
      ]
     },
     "execution_count": 48,
     "metadata": {},
     "output_type": "execute_result"
    }
   ],
   "source": [
    "len(duplicate_distances), len(non_duplicate_distances)"
   ]
  },
  {
   "cell_type": "code",
   "execution_count": 49,
   "metadata": {
    "Collapsed": "false"
   },
   "outputs": [
    {
     "name": "stderr",
     "output_type": "stream",
     "text": [
      "/home/boris/anaconda3/lib/python3.6/site-packages/scipy/stats/stats.py:1713: FutureWarning: Using a non-tuple sequence for multidimensional indexing is deprecated; use `arr[tuple(seq)]` instead of `arr[seq]`. In the future this will be interpreted as an array index, `arr[np.array(seq)]`, which will result either in an error or a different result.\n",
      "  return np.add.reduce(sorted[indexer] * weights, axis=axis) / sumval\n"
     ]
    },
    {
     "data": {
      "image/png": "[encoded data removed]",
      "text/plain": [
       "<Figure size 432x288 with 1 Axes>"
      ]
     },
     "metadata": {},
     "output_type": "display_data"
    }
   ],
   "source": [
    "plt.figure()\n",
    "plt.title('Distribution of distances between duplicate pairs and non-duplicate pairs')\n",
    "sns.distplot(duplicate_distances, label='duplicates')\n",
    "sns.distplot(non_duplicate_distances, label='non-duplicates')\n",
    "plt.legend()\n",
    "plt.xlabel('distance')\n",
    "plt.show()"
   ]
  },
  {
   "cell_type": "markdown",
   "metadata": {
    "Collapsed": "false"
   },
   "source": [
    "### Duplicates are more likely to have a small distance, but currenlty the embedding is crap"
   ]
  },
  {
   "cell_type": "markdown",
   "metadata": {
    "Collapsed": "false"
   },
   "source": [
    "# TSNE visualization"
   ]
  },
  {
   "cell_type": "code",
   "execution_count": 50,
   "metadata": {
    "Collapsed": "false"
   },
   "outputs": [],
   "source": [
    "from MulticoreTSNE import MulticoreTSNE as TSNE"
   ]
  },
  {
   "cell_type": "code",
   "execution_count": 51,
   "metadata": {
    "Collapsed": "false"
   },
   "outputs": [],
   "source": [
    "tsne = TSNE(\n",
    "    n_components=2,\n",
    "    metric='cosine',\n",
    "    n_jobs=3,\n",
    "    verbose=True,\n",
    ")"
   ]
  },
  {
   "cell_type": "code",
   "execution_count": 52,
   "metadata": {
    "Collapsed": "false"
   },
   "outputs": [],
   "source": [
    "spec_features_ld = tsne.fit_transform(vecs)"
   ]
  },
  {
   "cell_type": "code",
   "execution_count": 53,
   "metadata": {
    "Collapsed": "false"
   },
   "outputs": [
    {
     "data": {
      "text/plain": [
       "(29771, 2)"
      ]
     },
     "execution_count": 53,
     "metadata": {},
     "output_type": "execute_result"
    }
   ],
   "source": [
    "spec_features_ld.shape"
   ]
  },
  {
   "cell_type": "code",
   "execution_count": 54,
   "metadata": {
    "Collapsed": "false"
   },
   "outputs": [
    {
     "data": {
      "text/plain": [
       "(29771, 3)"
      ]
     },
     "execution_count": 54,
     "metadata": {},
     "output_type": "execute_result"
    }
   ],
   "source": [
    "spec_features_ld = pd.DataFrame(spec_features_ld, index=specs_df.spec_id)\n",
    "spec_features_ld['class_'] = classes_df.class_\n",
    "spec_features_ld.shape"
   ]
  },
  {
   "cell_type": "code",
   "execution_count": 55,
   "metadata": {
    "Collapsed": "false"
   },
   "outputs": [
    {
     "data": {
      "text/plain": [
       "spec_id                                          www.ebay.com//41954\n",
       "page_title                                 canon eos 20d 8 2 mp body\n",
       "all_text           canon eos 20d 8 2 mp body canon extra battery ...\n",
       "page_title_stem                             canon eo 20d 8 2 mp bodi\n",
       "all_text_stem      canon eo 20d 8 2 mp bodi canon extra batteri m...\n",
       "brand                                                          canon\n",
       "site                                                    www.ebay.com\n",
       "Name: www.ebay.com//41954, dtype: object"
      ]
     },
     "execution_count": 55,
     "metadata": {},
     "output_type": "execute_result"
    }
   ],
   "source": [
    "specs_df.iloc[46]"
   ]
  },
  {
   "cell_type": "code",
   "execution_count": 56,
   "metadata": {
    "Collapsed": "false"
   },
   "outputs": [
    {
     "data": {
      "text/plain": [
       "0         -4.810111\n",
       "1         31.783835\n",
       "class_     6.000000\n",
       "Name: www.ebay.com//41954, dtype: float64"
      ]
     },
     "execution_count": 56,
     "metadata": {},
     "output_type": "execute_result"
    }
   ],
   "source": [
    "spec_features_ld.iloc[46]"
   ]
  },
  {
   "cell_type": "code",
   "execution_count": 57,
   "metadata": {
    "Collapsed": "false"
   },
   "outputs": [
    {
     "data": {
      "image/png": "[encoded data removed]",
      "text/plain": [
       "<Figure size 432x288 with 1 Axes>"
      ]
     },
     "metadata": {},
     "output_type": "display_data"
    }
   ],
   "source": [
    "plt.figure()\n",
    "plt.title('Labelled instances')\n",
    "class_ld_df = spec_features_ld[pd.isnull(spec_features_ld.class_)]\n",
    "plt.scatter(class_ld_df.iloc[:, 0], class_ld_df.iloc[:, 1], label=f'class ?')\n",
    "\n",
    "for class_ in spec_features_ld['class_'].sort_values().unique():\n",
    "    if pd.isnull(class_):\n",
    "        continue\n",
    "    class_ld_df = spec_features_ld[spec_features_ld.class_==class_]\n",
    "    plt.scatter(class_ld_df.iloc[:, 0], class_ld_df.iloc[:, 1], label=f'class {class_}')\n",
    "\n",
    "plt.legend()\n",
    "plt.show()"
   ]
  },
  {
   "cell_type": "code",
   "execution_count": null,
   "metadata": {
    "Collapsed": "false"
   },
   "outputs": [],
   "source": []
  },
  {
   "cell_type": "code",
   "execution_count": null,
   "metadata": {
    "Collapsed": "false"
   },
   "outputs": [],
   "source": []
  }
 ],
 "metadata": {
  "kernelspec": {
   "display_name": "Python 3",
   "language": "python",
   "name": "python3"
  },
  "language_info": {
   "codemirror_mode": {
    "name": "ipython",
    "version": 3
   },
   "file_extension": ".py",
   "mimetype": "text/x-python",
   "name": "python",
   "nbconvert_exporter": "python",
   "pygments_lexer": "ipython3",
   "version": "3.6.7"
  }
 },
 "nbformat": 4,
 "nbformat_minor": 4
}
