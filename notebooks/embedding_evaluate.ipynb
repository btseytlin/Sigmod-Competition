{
 "cells": [
  {
   "cell_type": "code",
   "execution_count": 156,
   "metadata": {
    "Collapsed": "false"
   },
   "outputs": [],
   "source": [
    "import os\n",
    "import sys\n",
    "import random\n",
    "import json\n",
    "import collections\n",
    "import itertools\n",
    "\n",
    "import pandas as pd\n",
    "import numpy as np\n",
    "import scipy        \n",
    "import statsmodels\n",
    "\n",
    "\n",
    "from tqdm import trange, tqdm_notebook as tqdm\n",
    "from matplotlib import pyplot as plt\n",
    "import seaborn as sns\n",
    "%matplotlib inline\n",
    "\n",
    "pd.options.display.max_columns = 999\n",
    "\n",
    "sns.set()\n",
    "\n",
    "plt.rcParams[\"figure.figsize\"] = (10,7)"
   ]
  },
  {
   "cell_type": "code",
   "execution_count": 157,
   "metadata": {
    "Collapsed": "false"
   },
   "outputs": [
    {
     "data": {
      "text/plain": [
       "'/home/boris/study/UT study/ACM Sigmod/sigmod/notebooks'"
      ]
     },
     "execution_count": 157,
     "metadata": {},
     "output_type": "execute_result"
    }
   ],
   "source": [
    "os.getcwd()"
   ]
  },
  {
   "cell_type": "code",
   "execution_count": 158,
   "metadata": {
    "Collapsed": "false"
   },
   "outputs": [
    {
     "name": "stdout",
     "output_type": "stream",
     "text": [
      "The autoreload extension is already loaded. To reload it, use:\n",
      "  %reload_ext autoreload\n"
     ]
    }
   ],
   "source": [
    "%load_ext autoreload\n",
    "%autoreload 2"
   ]
  },
  {
   "cell_type": "code",
   "execution_count": 159,
   "metadata": {
    "Collapsed": "false"
   },
   "outputs": [],
   "source": [
    "from sigmod_src.utils import read_json, pprint_json, path_from_spec_id, get_vector_for_spec_id, make_classes_df\n",
    "from sigmod_src.embedding import Embedder"
   ]
  },
  {
   "cell_type": "markdown",
   "metadata": {
    "Collapsed": "false"
   },
   "source": [
    "# Load data"
   ]
  },
  {
   "cell_type": "code",
   "execution_count": 106,
   "metadata": {
    "Collapsed": "false"
   },
   "outputs": [],
   "source": [
    "LABELS_PATH = '../data/raw/sigmod_large_labelled_dataset.csv'"
   ]
  },
  {
   "cell_type": "code",
   "execution_count": 107,
   "metadata": {
    "Collapsed": "false"
   },
   "outputs": [
    {
     "data": {
      "text/plain": [
       "(297651, 3)"
      ]
     },
     "execution_count": 107,
     "metadata": {},
     "output_type": "execute_result"
    }
   ],
   "source": [
    "labels_df = pd.read_csv(LABELS_PATH)\n",
    "labels_df.shape"
   ]
  },
  {
   "cell_type": "code",
   "execution_count": 108,
   "metadata": {
    "Collapsed": "false"
   },
   "outputs": [
    {
     "data": {
      "text/html": [
       "<div>\n",
       "<style scoped>\n",
       "    .dataframe tbody tr th:only-of-type {\n",
       "        vertical-align: middle;\n",
       "    }\n",
       "\n",
       "    .dataframe tbody tr th {\n",
       "        vertical-align: top;\n",
       "    }\n",
       "\n",
       "    .dataframe thead th {\n",
       "        text-align: right;\n",
       "    }\n",
       "</style>\n",
       "<table border=\"1\" class=\"dataframe\">\n",
       "  <thead>\n",
       "    <tr style=\"text-align: right;\">\n",
       "      <th></th>\n",
       "      <th>left_spec_id</th>\n",
       "      <th>right_spec_id</th>\n",
       "      <th>label</th>\n",
       "    </tr>\n",
       "  </thead>\n",
       "  <tbody>\n",
       "    <tr>\n",
       "      <th>0</th>\n",
       "      <td>www.ebay.com//53278</td>\n",
       "      <td>www.garricks.com.au//31</td>\n",
       "      <td>1</td>\n",
       "    </tr>\n",
       "    <tr>\n",
       "      <th>1</th>\n",
       "      <td>www.ebay.com//24817</td>\n",
       "      <td>www.ebay.com//58782</td>\n",
       "      <td>0</td>\n",
       "    </tr>\n",
       "    <tr>\n",
       "      <th>2</th>\n",
       "      <td>www.ebay.com//43019</td>\n",
       "      <td>www.ebay.com//58782</td>\n",
       "      <td>0</td>\n",
       "    </tr>\n",
       "    <tr>\n",
       "      <th>3</th>\n",
       "      <td>www.ebay.com//42055</td>\n",
       "      <td>www.ebay.com//54403</td>\n",
       "      <td>0</td>\n",
       "    </tr>\n",
       "    <tr>\n",
       "      <th>4</th>\n",
       "      <td>buy.net//6145</td>\n",
       "      <td>www.ebay.com//44280</td>\n",
       "      <td>0</td>\n",
       "    </tr>\n",
       "  </tbody>\n",
       "</table>\n",
       "</div>"
      ],
      "text/plain": [
       "          left_spec_id            right_spec_id  label\n",
       "0  www.ebay.com//53278  www.garricks.com.au//31      1\n",
       "1  www.ebay.com//24817      www.ebay.com//58782      0\n",
       "2  www.ebay.com//43019      www.ebay.com//58782      0\n",
       "3  www.ebay.com//42055      www.ebay.com//54403      0\n",
       "4        buy.net//6145      www.ebay.com//44280      0"
      ]
     },
     "execution_count": 108,
     "metadata": {},
     "output_type": "execute_result"
    }
   ],
   "source": [
    "labels_df.head()"
   ]
  },
  {
   "cell_type": "markdown",
   "metadata": {
    "Collapsed": "false"
   },
   "source": [
    "# Load specs df"
   ]
  },
  {
   "cell_type": "code",
   "execution_count": 109,
   "metadata": {
    "Collapsed": "false"
   },
   "outputs": [
    {
     "data": {
      "text/plain": [
       "(29694, 8)"
      ]
     },
     "execution_count": 109,
     "metadata": {},
     "output_type": "execute_result"
    }
   ],
   "source": [
    "specs_df = pd.read_csv('../data/processed/specs.csv')\n",
    "specs_df.index=  specs_df.spec_id\n",
    "specs_df.shape"
   ]
  },
  {
   "cell_type": "code",
   "execution_count": 110,
   "metadata": {
    "Collapsed": "false"
   },
   "outputs": [
    {
     "data": {
      "text/html": [
       "<div>\n",
       "<style scoped>\n",
       "    .dataframe tbody tr th:only-of-type {\n",
       "        vertical-align: middle;\n",
       "    }\n",
       "\n",
       "    .dataframe tbody tr th {\n",
       "        vertical-align: top;\n",
       "    }\n",
       "\n",
       "    .dataframe thead th {\n",
       "        text-align: right;\n",
       "    }\n",
       "</style>\n",
       "<table border=\"1\" class=\"dataframe\">\n",
       "  <thead>\n",
       "    <tr style=\"text-align: right;\">\n",
       "      <th></th>\n",
       "      <th>spec_id</th>\n",
       "      <th>page_title</th>\n",
       "      <th>brand</th>\n",
       "      <th>model</th>\n",
       "      <th>all_text</th>\n",
       "      <th>page_title_stem</th>\n",
       "      <th>all_text_stem</th>\n",
       "      <th>site</th>\n",
       "    </tr>\n",
       "    <tr>\n",
       "      <th>spec_id</th>\n",
       "      <th></th>\n",
       "      <th></th>\n",
       "      <th></th>\n",
       "      <th></th>\n",
       "      <th></th>\n",
       "      <th></th>\n",
       "      <th></th>\n",
       "      <th></th>\n",
       "    </tr>\n",
       "  </thead>\n",
       "  <tbody>\n",
       "  </tbody>\n",
       "</table>\n",
       "</div>"
      ],
      "text/plain": [
       "Empty DataFrame\n",
       "Columns: [spec_id, page_title, brand, model, all_text, page_title_stem, all_text_stem, site]\n",
       "Index: []"
      ]
     },
     "execution_count": 110,
     "metadata": {},
     "output_type": "execute_result"
    }
   ],
   "source": [
    "specs_df[specs_df.page_title.isnull()]"
   ]
  },
  {
   "cell_type": "code",
   "execution_count": 111,
   "metadata": {
    "Collapsed": "false"
   },
   "outputs": [
    {
     "data": {
      "text/html": [
       "<div>\n",
       "<style scoped>\n",
       "    .dataframe tbody tr th:only-of-type {\n",
       "        vertical-align: middle;\n",
       "    }\n",
       "\n",
       "    .dataframe tbody tr th {\n",
       "        vertical-align: top;\n",
       "    }\n",
       "\n",
       "    .dataframe thead th {\n",
       "        text-align: right;\n",
       "    }\n",
       "</style>\n",
       "<table border=\"1\" class=\"dataframe\">\n",
       "  <thead>\n",
       "    <tr style=\"text-align: right;\">\n",
       "      <th></th>\n",
       "      <th>spec_id</th>\n",
       "      <th>page_title</th>\n",
       "      <th>brand</th>\n",
       "      <th>model</th>\n",
       "      <th>all_text</th>\n",
       "      <th>page_title_stem</th>\n",
       "      <th>all_text_stem</th>\n",
       "      <th>site</th>\n",
       "    </tr>\n",
       "    <tr>\n",
       "      <th>spec_id</th>\n",
       "      <th></th>\n",
       "      <th></th>\n",
       "      <th></th>\n",
       "      <th></th>\n",
       "      <th></th>\n",
       "      <th></th>\n",
       "      <th></th>\n",
       "      <th></th>\n",
       "    </tr>\n",
       "  </thead>\n",
       "  <tbody>\n",
       "    <tr>\n",
       "      <th>www.ebay.com//57656</th>\n",
       "      <td>www.ebay.com//57656</td>\n",
       "      <td>canon powershot elph 110 hs 16-1-mp digital</td>\n",
       "      <td>canon</td>\n",
       "      <td>NaN</td>\n",
       "      <td>canon powershot 110 hs 16-1-mp digital canon r...</td>\n",
       "      <td>canon powershot elph 110 hs 16-1-mp digit</td>\n",
       "      <td>canon powershot 110 hs 16-1-mp digit canon ref...</td>\n",
       "      <td>www.ebay.com</td>\n",
       "    </tr>\n",
       "    <tr>\n",
       "      <th>www.ebay.com//60583</th>\n",
       "      <td>www.ebay.com//60583</td>\n",
       "      <td>canon rebel 2000 35mm great case instruction b...</td>\n",
       "      <td>canon</td>\n",
       "      <td>NaN</td>\n",
       "      <td>canon rebel 2000 35mm great case instruction b...</td>\n",
       "      <td>canon rebel 2000 35mm great case instruct booklet</td>\n",
       "      <td>canon rebel 2000 35mm great case instruct book...</td>\n",
       "      <td>www.ebay.com</td>\n",
       "    </tr>\n",
       "    <tr>\n",
       "      <th>www.ebay.com//60440</th>\n",
       "      <td>www.ebay.com//60440</td>\n",
       "      <td>canon eos rebel t3i digital slr 18 55mm 75 300...</td>\n",
       "      <td>canon</td>\n",
       "      <td>t3i</td>\n",
       "      <td>canon eos rebel t3i digital slr 18 55mm 75 300...</td>\n",
       "      <td>canon eo rebel t3i digit slr 18 55mm 75 300mm ...</td>\n",
       "      <td>canon eo rebel t3i digit slr 18 55mm 75 300mm ...</td>\n",
       "      <td>www.ebay.com</td>\n",
       "    </tr>\n",
       "    <tr>\n",
       "      <th>www.ebay.com//24139</th>\n",
       "      <td>www.ebay.com//24139</td>\n",
       "      <td>ge c1033 10-1-mp digital 3x zoom 2 4 lcd</td>\n",
       "      <td>NaN</td>\n",
       "      <td>c1033</td>\n",
       "      <td>ge c1033 10-1-mp digital 3x zoom 2 4 ge brand-...</td>\n",
       "      <td>ge c1033 10-1-mp digit 3x zoom 2 4 lcd</td>\n",
       "      <td>ge c1033 10-1-mp digit 3x zoom 2 4 ge brand-ne...</td>\n",
       "      <td>www.ebay.com</td>\n",
       "    </tr>\n",
       "    <tr>\n",
       "      <th>www.ebay.com//54903</th>\n",
       "      <td>www.ebay.com//54903</td>\n",
       "      <td>vivitar clip shot digital 1-1-mp</td>\n",
       "      <td>vivitar</td>\n",
       "      <td>NaN</td>\n",
       "      <td>vivitar clip shot digital 1-1-mp vivitar brand...</td>\n",
       "      <td>vivitar clip shot digit 1-1-mp</td>\n",
       "      <td>vivitar clip shot digit 1-1-mp vivitar brand-n...</td>\n",
       "      <td>www.ebay.com</td>\n",
       "    </tr>\n",
       "  </tbody>\n",
       "</table>\n",
       "</div>"
      ],
      "text/plain": [
       "                                 spec_id  \\\n",
       "spec_id                                    \n",
       "www.ebay.com//57656  www.ebay.com//57656   \n",
       "www.ebay.com//60583  www.ebay.com//60583   \n",
       "www.ebay.com//60440  www.ebay.com//60440   \n",
       "www.ebay.com//24139  www.ebay.com//24139   \n",
       "www.ebay.com//54903  www.ebay.com//54903   \n",
       "\n",
       "                                                            page_title  \\\n",
       "spec_id                                                                  \n",
       "www.ebay.com//57656        canon powershot elph 110 hs 16-1-mp digital   \n",
       "www.ebay.com//60583  canon rebel 2000 35mm great case instruction b...   \n",
       "www.ebay.com//60440  canon eos rebel t3i digital slr 18 55mm 75 300...   \n",
       "www.ebay.com//24139           ge c1033 10-1-mp digital 3x zoom 2 4 lcd   \n",
       "www.ebay.com//54903                   vivitar clip shot digital 1-1-mp   \n",
       "\n",
       "                       brand  model  \\\n",
       "spec_id                               \n",
       "www.ebay.com//57656    canon    NaN   \n",
       "www.ebay.com//60583    canon    NaN   \n",
       "www.ebay.com//60440    canon    t3i   \n",
       "www.ebay.com//24139      NaN  c1033   \n",
       "www.ebay.com//54903  vivitar    NaN   \n",
       "\n",
       "                                                              all_text  \\\n",
       "spec_id                                                                  \n",
       "www.ebay.com//57656  canon powershot 110 hs 16-1-mp digital canon r...   \n",
       "www.ebay.com//60583  canon rebel 2000 35mm great case instruction b...   \n",
       "www.ebay.com//60440  canon eos rebel t3i digital slr 18 55mm 75 300...   \n",
       "www.ebay.com//24139  ge c1033 10-1-mp digital 3x zoom 2 4 ge brand-...   \n",
       "www.ebay.com//54903  vivitar clip shot digital 1-1-mp vivitar brand...   \n",
       "\n",
       "                                                       page_title_stem  \\\n",
       "spec_id                                                                  \n",
       "www.ebay.com//57656          canon powershot elph 110 hs 16-1-mp digit   \n",
       "www.ebay.com//60583  canon rebel 2000 35mm great case instruct booklet   \n",
       "www.ebay.com//60440  canon eo rebel t3i digit slr 18 55mm 75 300mm ...   \n",
       "www.ebay.com//24139             ge c1033 10-1-mp digit 3x zoom 2 4 lcd   \n",
       "www.ebay.com//54903                     vivitar clip shot digit 1-1-mp   \n",
       "\n",
       "                                                         all_text_stem  \\\n",
       "spec_id                                                                  \n",
       "www.ebay.com//57656  canon powershot 110 hs 16-1-mp digit canon ref...   \n",
       "www.ebay.com//60583  canon rebel 2000 35mm great case instruct book...   \n",
       "www.ebay.com//60440  canon eo rebel t3i digit slr 18 55mm 75 300mm ...   \n",
       "www.ebay.com//24139  ge c1033 10-1-mp digit 3x zoom 2 4 ge brand-ne...   \n",
       "www.ebay.com//54903  vivitar clip shot digit 1-1-mp vivitar brand-n...   \n",
       "\n",
       "                             site  \n",
       "spec_id                            \n",
       "www.ebay.com//57656  www.ebay.com  \n",
       "www.ebay.com//60583  www.ebay.com  \n",
       "www.ebay.com//60440  www.ebay.com  \n",
       "www.ebay.com//24139  www.ebay.com  \n",
       "www.ebay.com//54903  www.ebay.com  "
      ]
     },
     "execution_count": 111,
     "metadata": {},
     "output_type": "execute_result"
    }
   ],
   "source": [
    "specs_df.head()"
   ]
  },
  {
   "cell_type": "code",
   "execution_count": 112,
   "metadata": {
    "Collapsed": "false"
   },
   "outputs": [
    {
     "data": {
      "text/plain": [
       "'e-pl2 olympus pen e-pl2 digital w 14-42mm ii lens buzzillions com'"
      ]
     },
     "execution_count": 112,
     "metadata": {},
     "output_type": "execute_result"
    }
   ],
   "source": [
    "specs_df.page_title.sample(5).values[0]"
   ]
  },
  {
   "cell_type": "code",
   "execution_count": 113,
   "metadata": {
    "Collapsed": "false"
   },
   "outputs": [
    {
     "data": {
      "text/plain": [
       "'canon powershot s110 12-1-mp digit 013803157161'"
      ]
     },
     "execution_count": 113,
     "metadata": {},
     "output_type": "execute_result"
    }
   ],
   "source": [
    "specs_df.page_title_stem.sample(5).values[0]"
   ]
  },
  {
   "cell_type": "markdown",
   "metadata": {
    "Collapsed": "false",
    "toc-hr-collapsed": true,
    "toc-nb-collapsed": true
   },
   "source": [
    "# Make embedder and index"
   ]
  },
  {
   "cell_type": "code",
   "execution_count": 114,
   "metadata": {
    "Collapsed": "false"
   },
   "outputs": [],
   "source": [
    "# emb = Embedder.load('../models/embedder')"
   ]
  },
  {
   "cell_type": "code",
   "execution_count": 115,
   "metadata": {
    "Collapsed": "false"
   },
   "outputs": [],
   "source": [
    "# emb = Embedder(vector_size=200,\n",
    "#                train_epochs=100,\n",
    "#                index_trees=1000)"
   ]
  },
  {
   "cell_type": "code",
   "execution_count": 116,
   "metadata": {
    "Collapsed": "false"
   },
   "outputs": [],
   "source": [
    "# emb.fit(specs_df.page_title_stem, specs_df.spec_id)"
   ]
  },
  {
   "cell_type": "markdown",
   "metadata": {
    "Collapsed": "false",
    "toc-hr-collapsed": true,
    "toc-nb-collapsed": true
   },
   "source": [
    "# Visual evaluation"
   ]
  },
  {
   "cell_type": "code",
   "execution_count": 117,
   "metadata": {
    "Collapsed": "false"
   },
   "outputs": [],
   "source": [
    "# random_spec = specs_df.sample(1).iloc[0]\n",
    "# spec_id = random_spec.spec_id\n",
    "# text = random_spec.page_title_stem\n",
    "\n",
    "# nn_ids = emb.lookup_ids(text, n=100)\n",
    "# nn_texts =  emb.lookup_texts(text, n=100)\n",
    "\n",
    "# print(f'Query:\\n\\t{text}')\n",
    "# newline_ = '\\n\\t'\n",
    "# print(f'3 Closest:\\n\\t{newline_.join(nn_texts[:3])}')\n",
    "\n",
    "# print(f'Most distant:\\n\\t{nn_texts[-1]}')"
   ]
  },
  {
   "cell_type": "markdown",
   "metadata": {
    "Collapsed": "false",
    "toc-hr-collapsed": true,
    "toc-nb-collapsed": true
   },
   "source": [
    "# Obtian labelled dataset recall"
   ]
  },
  {
   "cell_type": "code",
   "execution_count": 118,
   "metadata": {
    "Collapsed": "false"
   },
   "outputs": [],
   "source": [
    "# def get_candidate_specs(query_text, emb, n):\n",
    "#     nn_spec_ids = emb.lookup_ids(query_text, n=n)\n",
    "#     return nn_spec_ids\n",
    "\n",
    "# dups_df = labels_df[labels_df.label==1]\n",
    "# results = []\n",
    "# print(int(0.5*len(dups_df)))\n",
    "# for row in tqdm(dups_df.sample(int(0.5*len(dups_df))).itertuples()):\n",
    "#     left_spec = specs_df.loc[row.left_spec_id]\n",
    "#     candidates = emb.lookup_ids(left_spec.page_title_stem, n=500, search_k=1500)\n",
    "#     target_index = None\n",
    "#     if row.right_spec_id in candidates:\n",
    "#         target_index = list(candidates).index(row.right_spec_id)\n",
    "    \n",
    "    \n",
    "#     results.append((row.left_spec_id, row.right_spec_id, target_index))"
   ]
  },
  {
   "cell_type": "code",
   "execution_count": 119,
   "metadata": {
    "Collapsed": "false"
   },
   "outputs": [],
   "source": [
    "# results_df = pd.DataFrame(results)\n",
    "# results_df.columns = ['left_spec_id', 'right_spec_id', 'right_spec_rank']\n",
    "# results_df.head()"
   ]
  },
  {
   "cell_type": "code",
   "execution_count": 120,
   "metadata": {
    "Collapsed": "false"
   },
   "outputs": [],
   "source": [
    "def compute_recall_k(ranks, k):\n",
    "    total_number = len(ranks)\n",
    "    matched_number = ranks[(~ranks.isnull()) & (ranks <= k)]\n",
    "    return len(matched_number)/total_number"
   ]
  },
  {
   "cell_type": "code",
   "execution_count": 121,
   "metadata": {
    "Collapsed": "false"
   },
   "outputs": [],
   "source": [
    "# ks = [1, 10, 50, 100, 500, 1000]\n",
    "# for k in ks:\n",
    "#     print(f'Recall-{k}: ', round(compute_recall_k(results_df.right_spec_rank, k), 4))"
   ]
  },
  {
   "cell_type": "markdown",
   "metadata": {
    "Collapsed": "false"
   },
   "source": [
    "# Visualize embedding"
   ]
  },
  {
   "cell_type": "markdown",
   "metadata": {
    "Collapsed": "false",
    "toc-hr-collapsed": true,
    "toc-nb-collapsed": true
   },
   "source": [
    "## Obtain classes from labels"
   ]
  },
  {
   "cell_type": "markdown",
   "metadata": {
    "Collapsed": "false"
   },
   "source": [
    "Each class - camera model. All specs that are duplicates of eachother consitute the same class. In a graph one class = one connected component."
   ]
  },
  {
   "cell_type": "code",
   "execution_count": 122,
   "metadata": {
    "Collapsed": "false"
   },
   "outputs": [],
   "source": [
    "classes_df = make_classes_df(labels_df)"
   ]
  },
  {
   "cell_type": "code",
   "execution_count": 123,
   "metadata": {
    "Collapsed": "false"
   },
   "outputs": [
    {
     "data": {
      "text/html": [
       "<div>\n",
       "<style scoped>\n",
       "    .dataframe tbody tr th:only-of-type {\n",
       "        vertical-align: middle;\n",
       "    }\n",
       "\n",
       "    .dataframe tbody tr th {\n",
       "        vertical-align: top;\n",
       "    }\n",
       "\n",
       "    .dataframe thead th {\n",
       "        text-align: right;\n",
       "    }\n",
       "</style>\n",
       "<table border=\"1\" class=\"dataframe\">\n",
       "  <thead>\n",
       "    <tr style=\"text-align: right;\">\n",
       "      <th></th>\n",
       "      <th>spec_id</th>\n",
       "      <th>class_</th>\n",
       "    </tr>\n",
       "  </thead>\n",
       "  <tbody>\n",
       "    <tr>\n",
       "      <th>0</th>\n",
       "      <td>buy.net//5641</td>\n",
       "      <td>0</td>\n",
       "    </tr>\n",
       "    <tr>\n",
       "      <th>1</th>\n",
       "      <td>www.ebay.com//54217</td>\n",
       "      <td>0</td>\n",
       "    </tr>\n",
       "    <tr>\n",
       "      <th>2</th>\n",
       "      <td>www.ebay.com//58588</td>\n",
       "      <td>0</td>\n",
       "    </tr>\n",
       "    <tr>\n",
       "      <th>3</th>\n",
       "      <td>www.ebay.com//59612</td>\n",
       "      <td>0</td>\n",
       "    </tr>\n",
       "    <tr>\n",
       "      <th>4</th>\n",
       "      <td>www.gosale.com//849</td>\n",
       "      <td>0</td>\n",
       "    </tr>\n",
       "  </tbody>\n",
       "</table>\n",
       "</div>"
      ],
      "text/plain": [
       "               spec_id  class_\n",
       "0        buy.net//5641       0\n",
       "1  www.ebay.com//54217       0\n",
       "2  www.ebay.com//58588       0\n",
       "3  www.ebay.com//59612       0\n",
       "4  www.gosale.com//849       0"
      ]
     },
     "execution_count": 123,
     "metadata": {},
     "output_type": "execute_result"
    }
   ],
   "source": [
    "classes_df.head()"
   ]
  },
  {
   "cell_type": "code",
   "execution_count": 124,
   "metadata": {
    "Collapsed": "false"
   },
   "outputs": [],
   "source": [
    "classes_df.index = classes_df.spec_id"
   ]
  },
  {
   "cell_type": "markdown",
   "metadata": {
    "Collapsed": "false"
   },
   "source": [
    "## Get spec vectors"
   ]
  },
  {
   "cell_type": "code",
   "execution_count": 317,
   "metadata": {
    "Collapsed": "false"
   },
   "outputs": [
    {
     "data": {
      "text/plain": [
       "(29694, 8)"
      ]
     },
     "execution_count": 317,
     "metadata": {},
     "output_type": "execute_result"
    }
   ],
   "source": [
    "specs_df.shape"
   ]
  },
  {
   "cell_type": "code",
   "execution_count": 318,
   "metadata": {
    "Collapsed": "false"
   },
   "outputs": [],
   "source": [
    "embeddings = pd.read_csv('../data/processed/embeddings.csv')"
   ]
  },
  {
   "cell_type": "code",
   "execution_count": 319,
   "metadata": {
    "Collapsed": "false"
   },
   "outputs": [
    {
     "data": {
      "text/plain": [
       "(29694, 50)"
      ]
     },
     "execution_count": 319,
     "metadata": {},
     "output_type": "execute_result"
    }
   ],
   "source": [
    "embeddings.shape"
   ]
  },
  {
   "cell_type": "code",
   "execution_count": 320,
   "metadata": {
    "Collapsed": "false"
   },
   "outputs": [],
   "source": [
    "vecs = embeddings.values"
   ]
  },
  {
   "cell_type": "code",
   "execution_count": 321,
   "metadata": {
    "Collapsed": "false"
   },
   "outputs": [
    {
     "data": {
      "text/plain": [
       "(29694, 50)"
      ]
     },
     "execution_count": 321,
     "metadata": {},
     "output_type": "execute_result"
    }
   ],
   "source": [
    "vecs.shape"
   ]
  },
  {
   "cell_type": "code",
   "execution_count": 322,
   "metadata": {
    "Collapsed": "false"
   },
   "outputs": [
    {
     "data": {
      "text/plain": [
       "(29694, 50)"
      ]
     },
     "execution_count": 322,
     "metadata": {},
     "output_type": "execute_result"
    }
   ],
   "source": [
    "vecs = pd.DataFrame(vecs, index=specs_df.spec_id)\n",
    "vecs.shape"
   ]
  },
  {
   "cell_type": "code",
   "execution_count": 323,
   "metadata": {
    "Collapsed": "false"
   },
   "outputs": [
    {
     "data": {
      "text/html": [
       "<div>\n",
       "<style scoped>\n",
       "    .dataframe tbody tr th:only-of-type {\n",
       "        vertical-align: middle;\n",
       "    }\n",
       "\n",
       "    .dataframe tbody tr th {\n",
       "        vertical-align: top;\n",
       "    }\n",
       "\n",
       "    .dataframe thead th {\n",
       "        text-align: right;\n",
       "    }\n",
       "</style>\n",
       "<table border=\"1\" class=\"dataframe\">\n",
       "  <thead>\n",
       "    <tr style=\"text-align: right;\">\n",
       "      <th></th>\n",
       "      <th>0</th>\n",
       "      <th>1</th>\n",
       "      <th>2</th>\n",
       "      <th>3</th>\n",
       "      <th>4</th>\n",
       "      <th>5</th>\n",
       "      <th>6</th>\n",
       "      <th>7</th>\n",
       "      <th>8</th>\n",
       "      <th>9</th>\n",
       "      <th>10</th>\n",
       "      <th>11</th>\n",
       "      <th>12</th>\n",
       "      <th>13</th>\n",
       "      <th>14</th>\n",
       "      <th>15</th>\n",
       "      <th>16</th>\n",
       "      <th>17</th>\n",
       "      <th>18</th>\n",
       "      <th>19</th>\n",
       "      <th>20</th>\n",
       "      <th>21</th>\n",
       "      <th>22</th>\n",
       "      <th>23</th>\n",
       "      <th>24</th>\n",
       "      <th>25</th>\n",
       "      <th>26</th>\n",
       "      <th>27</th>\n",
       "      <th>28</th>\n",
       "      <th>29</th>\n",
       "      <th>30</th>\n",
       "      <th>31</th>\n",
       "      <th>32</th>\n",
       "      <th>33</th>\n",
       "      <th>34</th>\n",
       "      <th>35</th>\n",
       "      <th>36</th>\n",
       "      <th>37</th>\n",
       "      <th>38</th>\n",
       "      <th>39</th>\n",
       "      <th>40</th>\n",
       "      <th>41</th>\n",
       "      <th>42</th>\n",
       "      <th>43</th>\n",
       "      <th>44</th>\n",
       "      <th>45</th>\n",
       "      <th>46</th>\n",
       "      <th>47</th>\n",
       "      <th>48</th>\n",
       "      <th>49</th>\n",
       "    </tr>\n",
       "    <tr>\n",
       "      <th>spec_id</th>\n",
       "      <th></th>\n",
       "      <th></th>\n",
       "      <th></th>\n",
       "      <th></th>\n",
       "      <th></th>\n",
       "      <th></th>\n",
       "      <th></th>\n",
       "      <th></th>\n",
       "      <th></th>\n",
       "      <th></th>\n",
       "      <th></th>\n",
       "      <th></th>\n",
       "      <th></th>\n",
       "      <th></th>\n",
       "      <th></th>\n",
       "      <th></th>\n",
       "      <th></th>\n",
       "      <th></th>\n",
       "      <th></th>\n",
       "      <th></th>\n",
       "      <th></th>\n",
       "      <th></th>\n",
       "      <th></th>\n",
       "      <th></th>\n",
       "      <th></th>\n",
       "      <th></th>\n",
       "      <th></th>\n",
       "      <th></th>\n",
       "      <th></th>\n",
       "      <th></th>\n",
       "      <th></th>\n",
       "      <th></th>\n",
       "      <th></th>\n",
       "      <th></th>\n",
       "      <th></th>\n",
       "      <th></th>\n",
       "      <th></th>\n",
       "      <th></th>\n",
       "      <th></th>\n",
       "      <th></th>\n",
       "      <th></th>\n",
       "      <th></th>\n",
       "      <th></th>\n",
       "      <th></th>\n",
       "      <th></th>\n",
       "      <th></th>\n",
       "      <th></th>\n",
       "      <th></th>\n",
       "      <th></th>\n",
       "      <th></th>\n",
       "    </tr>\n",
       "  </thead>\n",
       "  <tbody>\n",
       "    <tr>\n",
       "      <th>www.ebay.com//57656</th>\n",
       "      <td>0.0</td>\n",
       "      <td>0.0</td>\n",
       "      <td>0.0</td>\n",
       "      <td>0.0</td>\n",
       "      <td>0.0</td>\n",
       "      <td>0.543518</td>\n",
       "      <td>0.0</td>\n",
       "      <td>0.0</td>\n",
       "      <td>0.152717</td>\n",
       "      <td>0.0</td>\n",
       "      <td>0.0</td>\n",
       "      <td>0.0</td>\n",
       "      <td>0.0</td>\n",
       "      <td>0.422614</td>\n",
       "      <td>0.0</td>\n",
       "      <td>0.531746</td>\n",
       "      <td>0.0</td>\n",
       "      <td>0.0</td>\n",
       "      <td>0.0</td>\n",
       "      <td>0.0</td>\n",
       "      <td>0.0</td>\n",
       "      <td>0.0</td>\n",
       "      <td>0.0</td>\n",
       "      <td>0.0</td>\n",
       "      <td>0.0</td>\n",
       "      <td>0.0</td>\n",
       "      <td>0.0</td>\n",
       "      <td>0.0</td>\n",
       "      <td>0.0</td>\n",
       "      <td>0.0</td>\n",
       "      <td>0.400646</td>\n",
       "      <td>0.0</td>\n",
       "      <td>0.0</td>\n",
       "      <td>0.229439</td>\n",
       "      <td>0.0</td>\n",
       "      <td>0.0</td>\n",
       "      <td>0.0</td>\n",
       "      <td>0.0</td>\n",
       "      <td>0.0</td>\n",
       "      <td>0.0</td>\n",
       "      <td>0.0</td>\n",
       "      <td>0.0</td>\n",
       "      <td>0.0</td>\n",
       "      <td>0.0</td>\n",
       "      <td>0.0</td>\n",
       "      <td>0.0</td>\n",
       "      <td>0.0</td>\n",
       "      <td>0.082160</td>\n",
       "      <td>0.0</td>\n",
       "      <td>0.0</td>\n",
       "    </tr>\n",
       "    <tr>\n",
       "      <th>www.ebay.com//60583</th>\n",
       "      <td>0.0</td>\n",
       "      <td>0.0</td>\n",
       "      <td>0.0</td>\n",
       "      <td>0.0</td>\n",
       "      <td>0.0</td>\n",
       "      <td>0.543516</td>\n",
       "      <td>0.0</td>\n",
       "      <td>0.0</td>\n",
       "      <td>0.152718</td>\n",
       "      <td>0.0</td>\n",
       "      <td>0.0</td>\n",
       "      <td>0.0</td>\n",
       "      <td>0.0</td>\n",
       "      <td>0.422619</td>\n",
       "      <td>0.0</td>\n",
       "      <td>0.531746</td>\n",
       "      <td>0.0</td>\n",
       "      <td>0.0</td>\n",
       "      <td>0.0</td>\n",
       "      <td>0.0</td>\n",
       "      <td>0.0</td>\n",
       "      <td>0.0</td>\n",
       "      <td>0.0</td>\n",
       "      <td>0.0</td>\n",
       "      <td>0.0</td>\n",
       "      <td>0.0</td>\n",
       "      <td>0.0</td>\n",
       "      <td>0.0</td>\n",
       "      <td>0.0</td>\n",
       "      <td>0.0</td>\n",
       "      <td>0.400643</td>\n",
       "      <td>0.0</td>\n",
       "      <td>0.0</td>\n",
       "      <td>0.229439</td>\n",
       "      <td>0.0</td>\n",
       "      <td>0.0</td>\n",
       "      <td>0.0</td>\n",
       "      <td>0.0</td>\n",
       "      <td>0.0</td>\n",
       "      <td>0.0</td>\n",
       "      <td>0.0</td>\n",
       "      <td>0.0</td>\n",
       "      <td>0.0</td>\n",
       "      <td>0.0</td>\n",
       "      <td>0.0</td>\n",
       "      <td>0.0</td>\n",
       "      <td>0.0</td>\n",
       "      <td>0.082162</td>\n",
       "      <td>0.0</td>\n",
       "      <td>0.0</td>\n",
       "    </tr>\n",
       "    <tr>\n",
       "      <th>www.ebay.com//60440</th>\n",
       "      <td>0.0</td>\n",
       "      <td>0.0</td>\n",
       "      <td>0.0</td>\n",
       "      <td>0.0</td>\n",
       "      <td>0.0</td>\n",
       "      <td>0.543518</td>\n",
       "      <td>0.0</td>\n",
       "      <td>0.0</td>\n",
       "      <td>0.152713</td>\n",
       "      <td>0.0</td>\n",
       "      <td>0.0</td>\n",
       "      <td>0.0</td>\n",
       "      <td>0.0</td>\n",
       "      <td>0.422594</td>\n",
       "      <td>0.0</td>\n",
       "      <td>0.531749</td>\n",
       "      <td>0.0</td>\n",
       "      <td>0.0</td>\n",
       "      <td>0.0</td>\n",
       "      <td>0.0</td>\n",
       "      <td>0.0</td>\n",
       "      <td>0.0</td>\n",
       "      <td>0.0</td>\n",
       "      <td>0.0</td>\n",
       "      <td>0.0</td>\n",
       "      <td>0.0</td>\n",
       "      <td>0.0</td>\n",
       "      <td>0.0</td>\n",
       "      <td>0.0</td>\n",
       "      <td>0.0</td>\n",
       "      <td>0.400672</td>\n",
       "      <td>0.0</td>\n",
       "      <td>0.0</td>\n",
       "      <td>0.229431</td>\n",
       "      <td>0.0</td>\n",
       "      <td>0.0</td>\n",
       "      <td>0.0</td>\n",
       "      <td>0.0</td>\n",
       "      <td>0.0</td>\n",
       "      <td>0.0</td>\n",
       "      <td>0.0</td>\n",
       "      <td>0.0</td>\n",
       "      <td>0.0</td>\n",
       "      <td>0.0</td>\n",
       "      <td>0.0</td>\n",
       "      <td>0.0</td>\n",
       "      <td>0.0</td>\n",
       "      <td>0.082148</td>\n",
       "      <td>0.0</td>\n",
       "      <td>0.0</td>\n",
       "    </tr>\n",
       "    <tr>\n",
       "      <th>www.ebay.com//24139</th>\n",
       "      <td>0.0</td>\n",
       "      <td>0.0</td>\n",
       "      <td>0.0</td>\n",
       "      <td>0.0</td>\n",
       "      <td>0.0</td>\n",
       "      <td>0.543518</td>\n",
       "      <td>0.0</td>\n",
       "      <td>0.0</td>\n",
       "      <td>0.152721</td>\n",
       "      <td>0.0</td>\n",
       "      <td>0.0</td>\n",
       "      <td>0.0</td>\n",
       "      <td>0.0</td>\n",
       "      <td>0.422613</td>\n",
       "      <td>0.0</td>\n",
       "      <td>0.531747</td>\n",
       "      <td>0.0</td>\n",
       "      <td>0.0</td>\n",
       "      <td>0.0</td>\n",
       "      <td>0.0</td>\n",
       "      <td>0.0</td>\n",
       "      <td>0.0</td>\n",
       "      <td>0.0</td>\n",
       "      <td>0.0</td>\n",
       "      <td>0.0</td>\n",
       "      <td>0.0</td>\n",
       "      <td>0.0</td>\n",
       "      <td>0.0</td>\n",
       "      <td>0.0</td>\n",
       "      <td>0.0</td>\n",
       "      <td>0.400644</td>\n",
       "      <td>0.0</td>\n",
       "      <td>0.0</td>\n",
       "      <td>0.229436</td>\n",
       "      <td>0.0</td>\n",
       "      <td>0.0</td>\n",
       "      <td>0.0</td>\n",
       "      <td>0.0</td>\n",
       "      <td>0.0</td>\n",
       "      <td>0.0</td>\n",
       "      <td>0.0</td>\n",
       "      <td>0.0</td>\n",
       "      <td>0.0</td>\n",
       "      <td>0.0</td>\n",
       "      <td>0.0</td>\n",
       "      <td>0.0</td>\n",
       "      <td>0.0</td>\n",
       "      <td>0.082163</td>\n",
       "      <td>0.0</td>\n",
       "      <td>0.0</td>\n",
       "    </tr>\n",
       "    <tr>\n",
       "      <th>www.ebay.com//54903</th>\n",
       "      <td>0.0</td>\n",
       "      <td>0.0</td>\n",
       "      <td>0.0</td>\n",
       "      <td>0.0</td>\n",
       "      <td>0.0</td>\n",
       "      <td>0.543533</td>\n",
       "      <td>0.0</td>\n",
       "      <td>0.0</td>\n",
       "      <td>0.152692</td>\n",
       "      <td>0.0</td>\n",
       "      <td>0.0</td>\n",
       "      <td>0.0</td>\n",
       "      <td>0.0</td>\n",
       "      <td>0.422588</td>\n",
       "      <td>0.0</td>\n",
       "      <td>0.531748</td>\n",
       "      <td>0.0</td>\n",
       "      <td>0.0</td>\n",
       "      <td>0.0</td>\n",
       "      <td>0.0</td>\n",
       "      <td>0.0</td>\n",
       "      <td>0.0</td>\n",
       "      <td>0.0</td>\n",
       "      <td>0.0</td>\n",
       "      <td>0.0</td>\n",
       "      <td>0.0</td>\n",
       "      <td>0.0</td>\n",
       "      <td>0.0</td>\n",
       "      <td>0.0</td>\n",
       "      <td>0.0</td>\n",
       "      <td>0.400660</td>\n",
       "      <td>0.0</td>\n",
       "      <td>0.0</td>\n",
       "      <td>0.229441</td>\n",
       "      <td>0.0</td>\n",
       "      <td>0.0</td>\n",
       "      <td>0.0</td>\n",
       "      <td>0.0</td>\n",
       "      <td>0.0</td>\n",
       "      <td>0.0</td>\n",
       "      <td>0.0</td>\n",
       "      <td>0.0</td>\n",
       "      <td>0.0</td>\n",
       "      <td>0.0</td>\n",
       "      <td>0.0</td>\n",
       "      <td>0.0</td>\n",
       "      <td>0.0</td>\n",
       "      <td>0.082155</td>\n",
       "      <td>0.0</td>\n",
       "      <td>0.0</td>\n",
       "    </tr>\n",
       "  </tbody>\n",
       "</table>\n",
       "</div>"
      ],
      "text/plain": [
       "                       0    1    2    3    4         5    6    7         8  \\\n",
       "spec_id                                                                      \n",
       "www.ebay.com//57656  0.0  0.0  0.0  0.0  0.0  0.543518  0.0  0.0  0.152717   \n",
       "www.ebay.com//60583  0.0  0.0  0.0  0.0  0.0  0.543516  0.0  0.0  0.152718   \n",
       "www.ebay.com//60440  0.0  0.0  0.0  0.0  0.0  0.543518  0.0  0.0  0.152713   \n",
       "www.ebay.com//24139  0.0  0.0  0.0  0.0  0.0  0.543518  0.0  0.0  0.152721   \n",
       "www.ebay.com//54903  0.0  0.0  0.0  0.0  0.0  0.543533  0.0  0.0  0.152692   \n",
       "\n",
       "                       9   10   11   12        13   14        15   16   17  \\\n",
       "spec_id                                                                      \n",
       "www.ebay.com//57656  0.0  0.0  0.0  0.0  0.422614  0.0  0.531746  0.0  0.0   \n",
       "www.ebay.com//60583  0.0  0.0  0.0  0.0  0.422619  0.0  0.531746  0.0  0.0   \n",
       "www.ebay.com//60440  0.0  0.0  0.0  0.0  0.422594  0.0  0.531749  0.0  0.0   \n",
       "www.ebay.com//24139  0.0  0.0  0.0  0.0  0.422613  0.0  0.531747  0.0  0.0   \n",
       "www.ebay.com//54903  0.0  0.0  0.0  0.0  0.422588  0.0  0.531748  0.0  0.0   \n",
       "\n",
       "                      18   19   20   21   22   23   24   25   26   27   28  \\\n",
       "spec_id                                                                      \n",
       "www.ebay.com//57656  0.0  0.0  0.0  0.0  0.0  0.0  0.0  0.0  0.0  0.0  0.0   \n",
       "www.ebay.com//60583  0.0  0.0  0.0  0.0  0.0  0.0  0.0  0.0  0.0  0.0  0.0   \n",
       "www.ebay.com//60440  0.0  0.0  0.0  0.0  0.0  0.0  0.0  0.0  0.0  0.0  0.0   \n",
       "www.ebay.com//24139  0.0  0.0  0.0  0.0  0.0  0.0  0.0  0.0  0.0  0.0  0.0   \n",
       "www.ebay.com//54903  0.0  0.0  0.0  0.0  0.0  0.0  0.0  0.0  0.0  0.0  0.0   \n",
       "\n",
       "                      29        30   31   32        33   34   35   36   37  \\\n",
       "spec_id                                                                      \n",
       "www.ebay.com//57656  0.0  0.400646  0.0  0.0  0.229439  0.0  0.0  0.0  0.0   \n",
       "www.ebay.com//60583  0.0  0.400643  0.0  0.0  0.229439  0.0  0.0  0.0  0.0   \n",
       "www.ebay.com//60440  0.0  0.400672  0.0  0.0  0.229431  0.0  0.0  0.0  0.0   \n",
       "www.ebay.com//24139  0.0  0.400644  0.0  0.0  0.229436  0.0  0.0  0.0  0.0   \n",
       "www.ebay.com//54903  0.0  0.400660  0.0  0.0  0.229441  0.0  0.0  0.0  0.0   \n",
       "\n",
       "                      38   39   40   41   42   43   44   45   46        47  \\\n",
       "spec_id                                                                      \n",
       "www.ebay.com//57656  0.0  0.0  0.0  0.0  0.0  0.0  0.0  0.0  0.0  0.082160   \n",
       "www.ebay.com//60583  0.0  0.0  0.0  0.0  0.0  0.0  0.0  0.0  0.0  0.082162   \n",
       "www.ebay.com//60440  0.0  0.0  0.0  0.0  0.0  0.0  0.0  0.0  0.0  0.082148   \n",
       "www.ebay.com//24139  0.0  0.0  0.0  0.0  0.0  0.0  0.0  0.0  0.0  0.082163   \n",
       "www.ebay.com//54903  0.0  0.0  0.0  0.0  0.0  0.0  0.0  0.0  0.0  0.082155   \n",
       "\n",
       "                      48   49  \n",
       "spec_id                        \n",
       "www.ebay.com//57656  0.0  0.0  \n",
       "www.ebay.com//60583  0.0  0.0  \n",
       "www.ebay.com//60440  0.0  0.0  \n",
       "www.ebay.com//24139  0.0  0.0  \n",
       "www.ebay.com//54903  0.0  0.0  "
      ]
     },
     "execution_count": 323,
     "metadata": {},
     "output_type": "execute_result"
    }
   ],
   "source": [
    "vecs.head()"
   ]
  },
  {
   "cell_type": "markdown",
   "metadata": {
    "Collapsed": "false"
   },
   "source": [
    "## Pairwise distances distirubtion"
   ]
  },
  {
   "cell_type": "code",
   "execution_count": 324,
   "metadata": {
    "Collapsed": "false"
   },
   "outputs": [],
   "source": [
    "from scipy.spatial.distance import pdist, cdist"
   ]
  },
  {
   "cell_type": "code",
   "execution_count": 325,
   "metadata": {
    "Collapsed": "false"
   },
   "outputs": [],
   "source": [
    "sample_features = vecs.sample(5000)"
   ]
  },
  {
   "cell_type": "code",
   "execution_count": 326,
   "metadata": {
    "Collapsed": "false"
   },
   "outputs": [],
   "source": [
    "pairwise_distances = pdist(sample_features.values)"
   ]
  },
  {
   "cell_type": "code",
   "execution_count": 327,
   "metadata": {
    "Collapsed": "false"
   },
   "outputs": [
    {
     "data": {
      "text/plain": [
       "array([1.29002363e-05, 0.00000000e+00, 5.33376612e-05, 3.27480015e-06,\n",
       "       1.29980151e-05, 1.38955617e-05, 3.75912306e-05, 2.36752900e-05,\n",
       "       8.60990482e-06, 5.51772272e-06])"
      ]
     },
     "execution_count": 327,
     "metadata": {},
     "output_type": "execute_result"
    }
   ],
   "source": [
    "pairwise_distances[:10]"
   ]
  },
  {
   "cell_type": "code",
   "execution_count": 328,
   "metadata": {
    "Collapsed": "false"
   },
   "outputs": [
    {
     "data": {
      "image/png": "[encoded data removed]",
      "text/plain": [
       "<Figure size 720x504 with 1 Axes>"
      ]
     },
     "metadata": {},
     "output_type": "display_data"
    }
   ],
   "source": [
    "plt.figure()\n",
    "plt.title('Distribution of pairwise distances')\n",
    "sns.distplot(pairwise_distances)\n",
    "plt.show()"
   ]
  },
  {
   "cell_type": "code",
   "execution_count": 329,
   "metadata": {
    "Collapsed": "false"
   },
   "outputs": [
    {
     "data": {
      "text/plain": [
       "0    0.0\n",
       "1    0.0\n",
       "2    0.0\n",
       "3    0.0\n",
       "4    0.0\n",
       "Name: www.ebay.com//42835, dtype: float64"
      ]
     },
     "execution_count": 329,
     "metadata": {},
     "output_type": "execute_result"
    }
   ],
   "source": [
    "# Vector for spec\n",
    "vecs.loc['www.ebay.com//42835'].head()"
   ]
  },
  {
   "cell_type": "code",
   "execution_count": 330,
   "metadata": {
    "Collapsed": "false"
   },
   "outputs": [],
   "source": [
    "dup_df = labels_df[labels_df.label==1]"
   ]
  },
  {
   "cell_type": "code",
   "execution_count": 331,
   "metadata": {
    "Collapsed": "false"
   },
   "outputs": [],
   "source": [
    "duplicate_pairs = dup_df.sample(10000)[['left_spec_id', 'right_spec_id']].values\n",
    "\n",
    "duplicate_vector_pairs = []\n",
    "for s1, s2 in duplicate_pairs:\n",
    "    duplicate_vector_pairs.append([\n",
    "        vecs.loc[s1],\n",
    "        vecs.loc[s2]\n",
    "    ])\n",
    "    \n",
    "duplicate_vector_pairs = np.array(duplicate_vector_pairs)\n",
    "\n",
    "#duplicate_vector_pairs[:3]"
   ]
  },
  {
   "cell_type": "code",
   "execution_count": 332,
   "metadata": {
    "Collapsed": "false"
   },
   "outputs": [],
   "source": [
    "non_duplicate_pairs = labels_df[labels_df.label==0].sample(10000)[['left_spec_id', 'right_spec_id']].values\n",
    "\n",
    "non_duplicate_vector_pairs = []\n",
    "for s1, s2 in non_duplicate_pairs:\n",
    "    non_duplicate_vector_pairs.append([\n",
    "        vecs.loc[s1],\n",
    "        vecs.loc[s2]\n",
    "    ])\n",
    "\n",
    "        \n",
    "non_duplicate_vector_pairs = np.array(non_duplicate_vector_pairs)\n",
    "# non_duplicate_vector_pairs[:3]"
   ]
  },
  {
   "cell_type": "code",
   "execution_count": 333,
   "metadata": {
    "Collapsed": "false"
   },
   "outputs": [
    {
     "data": {
      "text/plain": [
       "(10000, 2, 50)"
      ]
     },
     "execution_count": 333,
     "metadata": {},
     "output_type": "execute_result"
    }
   ],
   "source": [
    "duplicate_vector_pairs.shape"
   ]
  },
  {
   "cell_type": "code",
   "execution_count": 334,
   "metadata": {
    "Collapsed": "false"
   },
   "outputs": [],
   "source": [
    "def compute_pairwise_distances(pairs_arr):\n",
    "    dists = []\n",
    "    for i in range(len(pairs_arr)):\n",
    "        dists.append(pdist(pairs_arr[i])[0])\n",
    "    return dists"
   ]
  },
  {
   "cell_type": "code",
   "execution_count": 335,
   "metadata": {
    "Collapsed": "false"
   },
   "outputs": [
    {
     "data": {
      "text/plain": [
       "(10000, 2, 50)"
      ]
     },
     "execution_count": 335,
     "metadata": {},
     "output_type": "execute_result"
    }
   ],
   "source": [
    "duplicate_vector_pairs.shape"
   ]
  },
  {
   "cell_type": "code",
   "execution_count": 336,
   "metadata": {
    "Collapsed": "false"
   },
   "outputs": [],
   "source": [
    "duplicate_distances = compute_pairwise_distances(duplicate_vector_pairs)\n",
    "non_duplicate_distances = compute_pairwise_distances(non_duplicate_vector_pairs)"
   ]
  },
  {
   "cell_type": "code",
   "execution_count": 337,
   "metadata": {
    "Collapsed": "false"
   },
   "outputs": [
    {
     "data": {
      "text/plain": [
       "(10000, 10000)"
      ]
     },
     "execution_count": 337,
     "metadata": {},
     "output_type": "execute_result"
    }
   ],
   "source": [
    "len(duplicate_distances), len(non_duplicate_distances)"
   ]
  },
  {
   "cell_type": "code",
   "execution_count": 338,
   "metadata": {
    "Collapsed": "false"
   },
   "outputs": [
    {
     "data": {
      "text/plain": [
       "[5.582212908875964e-05,\n",
       " 1.214784491173814e-05,\n",
       " 0.0,\n",
       " 1.2018994799939631e-05,\n",
       " 5.8562943061253796e-05,\n",
       " 7.614402471636107e-06,\n",
       " 2.461793606293622e-05,\n",
       " 2.6269366189631813e-06,\n",
       " 3.9195147659085136e-06,\n",
       " 2.8123043932005366e-06]"
      ]
     },
     "execution_count": 338,
     "metadata": {},
     "output_type": "execute_result"
    }
   ],
   "source": [
    "duplicate_distances[:10]"
   ]
  },
  {
   "cell_type": "code",
   "execution_count": 339,
   "metadata": {
    "Collapsed": "false"
   },
   "outputs": [
    {
     "data": {
      "text/plain": [
       "[0.0039395786437765425,\n",
       " 2.0857249962548293e-05,\n",
       " 2.4913424092266344e-05,\n",
       " 6.455578084876714e-05,\n",
       " 5.54341916148876e-06,\n",
       " 9.517651811258448e-06,\n",
       " 1.6709353667943963e-05,\n",
       " 3.104244030358803e-05,\n",
       " 3.496428463444103e-05,\n",
       " 2.6585821409150595e-05]"
      ]
     },
     "execution_count": 339,
     "metadata": {},
     "output_type": "execute_result"
    }
   ],
   "source": [
    "non_duplicate_distances[:10]"
   ]
  },
  {
   "cell_type": "code",
   "execution_count": 340,
   "metadata": {
    "Collapsed": "false"
   },
   "outputs": [
    {
     "data": {
      "image/png": "[encoded data removed]",
      "text/plain": [
       "<Figure size 720x504 with 1 Axes>"
      ]
     },
     "metadata": {},
     "output_type": "display_data"
    }
   ],
   "source": [
    "plt.figure()\n",
    "plt.title('Distribution of distances between duplicate pairs and non-duplicate pairs')\n",
    "sns.distplot(duplicate_distances, label='duplicates')\n",
    "sns.distplot(non_duplicate_distances, label='non-duplicates')\n",
    "plt.legend()\n",
    "plt.xlabel('distance')\n",
    "plt.show()"
   ]
  },
  {
   "cell_type": "markdown",
   "metadata": {
    "Collapsed": "false"
   },
   "source": [
    "# TSNE visualization"
   ]
  },
  {
   "cell_type": "code",
   "execution_count": 309,
   "metadata": {
    "Collapsed": "false"
   },
   "outputs": [],
   "source": [
    "from MulticoreTSNE import MulticoreTSNE as TSNE"
   ]
  },
  {
   "cell_type": "code",
   "execution_count": 310,
   "metadata": {
    "Collapsed": "false"
   },
   "outputs": [],
   "source": [
    "tsne = TSNE(\n",
    "    n_components=2,\n",
    "    metric='cosine',\n",
    "    n_jobs=3,\n",
    "    verbose=True,\n",
    ")"
   ]
  },
  {
   "cell_type": "code",
   "execution_count": 311,
   "metadata": {
    "Collapsed": "false"
   },
   "outputs": [],
   "source": [
    "spec_features_ld = tsne.fit_transform(vecs)"
   ]
  },
  {
   "cell_type": "code",
   "execution_count": 312,
   "metadata": {
    "Collapsed": "false"
   },
   "outputs": [
    {
     "data": {
      "text/plain": [
       "(29694, 2)"
      ]
     },
     "execution_count": 312,
     "metadata": {},
     "output_type": "execute_result"
    }
   ],
   "source": [
    "spec_features_ld.shape"
   ]
  },
  {
   "cell_type": "code",
   "execution_count": 313,
   "metadata": {
    "Collapsed": "false"
   },
   "outputs": [
    {
     "data": {
      "text/plain": [
       "(29694, 3)"
      ]
     },
     "execution_count": 313,
     "metadata": {},
     "output_type": "execute_result"
    }
   ],
   "source": [
    "spec_features_ld = pd.DataFrame(spec_features_ld, index=specs_df.spec_id)\n",
    "spec_features_ld['class_'] = classes_df.class_\n",
    "spec_features_ld.shape"
   ]
  },
  {
   "cell_type": "code",
   "execution_count": 314,
   "metadata": {
    "Collapsed": "false"
   },
   "outputs": [
    {
     "data": {
      "text/plain": [
       "spec_id                                          www.ebay.com//41954\n",
       "page_title                     canon eos 20d 8-2-mp digital slr body\n",
       "brand                                                          canon\n",
       "model                                                            20d\n",
       "all_text           canon eos 20d 8-2-mp digital slr body canon ex...\n",
       "page_title_stem                   canon eo 20d 8-2-mp digit slr bodi\n",
       "all_text_stem      canon eo 20d 8-2-mp digit slr bodi canon extra...\n",
       "site                                                    www.ebay.com\n",
       "Name: www.ebay.com//41954, dtype: object"
      ]
     },
     "execution_count": 314,
     "metadata": {},
     "output_type": "execute_result"
    }
   ],
   "source": [
    "specs_df.iloc[46]"
   ]
  },
  {
   "cell_type": "code",
   "execution_count": 315,
   "metadata": {
    "Collapsed": "false"
   },
   "outputs": [
    {
     "data": {
      "text/plain": [
       "0        -21.278856\n",
       "1        -26.234839\n",
       "class_    10.000000\n",
       "Name: www.ebay.com//41954, dtype: float64"
      ]
     },
     "execution_count": 315,
     "metadata": {},
     "output_type": "execute_result"
    }
   ],
   "source": [
    "spec_features_ld.iloc[46]"
   ]
  },
  {
   "cell_type": "code",
   "execution_count": 316,
   "metadata": {
    "Collapsed": "false"
   },
   "outputs": [
    {
     "data": {
      "image/png": "[encoded data removed]",
      "text/plain": [
       "<Figure size 720x504 with 1 Axes>"
      ]
     },
     "metadata": {},
     "output_type": "display_data"
    }
   ],
   "source": [
    "plt.figure()\n",
    "plt.title('Labelled instances')\n",
    "class_ld_df = spec_features_ld[pd.isnull(spec_features_ld.class_)]\n",
    "plt.scatter(class_ld_df.iloc[:, 0], class_ld_df.iloc[:, 1], label=f'class ?')\n",
    "\n",
    "for class_ in spec_features_ld['class_'].sort_values().unique():\n",
    "    if pd.isnull(class_):\n",
    "        continue\n",
    "    class_ld_df = spec_features_ld[spec_features_ld.class_==class_]\n",
    "    plt.scatter(class_ld_df.iloc[:, 0], class_ld_df.iloc[:, 1], label=f'class {class_}')\n",
    "\n",
    "plt.legend()\n",
    "plt.show()"
   ]
  },
  {
   "cell_type": "code",
   "execution_count": null,
   "metadata": {
    "Collapsed": "false"
   },
   "outputs": [],
   "source": []
  },
  {
   "cell_type": "code",
   "execution_count": null,
   "metadata": {
    "Collapsed": "false"
   },
   "outputs": [],
   "source": []
  }
 ],
 "metadata": {
  "kernelspec": {
   "display_name": "Python 3",
   "language": "python",
   "name": "python3"
  },
  "language_info": {
   "codemirror_mode": {
    "name": "ipython",
    "version": 3
   },
   "file_extension": ".py",
   "mimetype": "text/x-python",
   "name": "python",
   "nbconvert_exporter": "python",
   "pygments_lexer": "ipython3",
   "version": "3.6.7"
  }
 },
 "nbformat": 4,
 "nbformat_minor": 4
}
