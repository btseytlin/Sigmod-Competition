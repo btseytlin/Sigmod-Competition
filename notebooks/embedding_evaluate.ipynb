{
 "cells": [
  {
   "cell_type": "code",
   "execution_count": 1,
   "metadata": {},
   "outputs": [],
   "source": [
    "import os\n",
    "import sys\n",
    "import random\n",
    "import json\n",
    "import collections\n",
    "import itertools\n",
    "\n",
    "import pandas as pd\n",
    "import numpy as np\n",
    "import scipy        \n",
    "import statsmodels\n",
    "\n",
    "\n",
    "from tqdm import trange, tqdm_notebook as tqdm\n",
    "from matplotlib import pyplot as plt\n",
    "import seaborn as sns\n",
    "%matplotlib inline\n",
    "\n",
    "pd.options.display.max_columns = 999\n",
    "\n",
    "sns.set()\n",
    "\n",
    "plt.rcParams[\"figure.figsize\"] = (10,7)"
   ]
  },
  {
   "cell_type": "code",
   "execution_count": 2,
   "metadata": {},
   "outputs": [
    {
     "data": {
      "text/plain": [
       "'/home/boris/study/UT study/ACM Sigmod/sigmod/notebooks'"
      ]
     },
     "execution_count": 2,
     "metadata": {},
     "output_type": "execute_result"
    }
   ],
   "source": [
    "os.getcwd()"
   ]
  },
  {
   "cell_type": "code",
   "execution_count": 3,
   "metadata": {},
   "outputs": [],
   "source": [
    "%load_ext autoreload\n",
    "%autoreload 2"
   ]
  },
  {
   "cell_type": "code",
   "execution_count": 4,
   "metadata": {},
   "outputs": [],
   "source": [
    "from sigmod_src.utils import read_json, pprint_json, path_from_spec_id, get_vector_for_spec_id\n",
    "from sigmod_src.data.embedding import Embedder"
   ]
  },
  {
   "cell_type": "markdown",
   "metadata": {},
   "source": [
    "# Load data"
   ]
  },
  {
   "cell_type": "code",
   "execution_count": 6,
   "metadata": {},
   "outputs": [],
   "source": [
    "LABELS_PATH = '../data/raw/sigmod_medium_labelled_dataset.csv'"
   ]
  },
  {
   "cell_type": "code",
   "execution_count": 7,
   "metadata": {},
   "outputs": [
    {
     "data": {
      "text/plain": [
       "(46665, 3)"
      ]
     },
     "execution_count": 7,
     "metadata": {},
     "output_type": "execute_result"
    }
   ],
   "source": [
    "labels_df = pd.read_csv(LABELS_PATH)\n",
    "labels_df.shape"
   ]
  },
  {
   "cell_type": "code",
   "execution_count": 8,
   "metadata": {},
   "outputs": [
    {
     "data": {
      "text/html": [
       "<div>\n",
       "<style scoped>\n",
       "    .dataframe tbody tr th:only-of-type {\n",
       "        vertical-align: middle;\n",
       "    }\n",
       "\n",
       "    .dataframe tbody tr th {\n",
       "        vertical-align: top;\n",
       "    }\n",
       "\n",
       "    .dataframe thead th {\n",
       "        text-align: right;\n",
       "    }\n",
       "</style>\n",
       "<table border=\"1\" class=\"dataframe\">\n",
       "  <thead>\n",
       "    <tr style=\"text-align: right;\">\n",
       "      <th></th>\n",
       "      <th>left_spec_id</th>\n",
       "      <th>right_spec_id</th>\n",
       "      <th>label</th>\n",
       "    </tr>\n",
       "  </thead>\n",
       "  <tbody>\n",
       "    <tr>\n",
       "      <th>0</th>\n",
       "      <td>www.garricks.com.au//31</td>\n",
       "      <td>www.ebay.com//53278</td>\n",
       "      <td>1</td>\n",
       "    </tr>\n",
       "    <tr>\n",
       "      <th>1</th>\n",
       "      <td>www.ebay.com//58782</td>\n",
       "      <td>www.ebay.com//24817</td>\n",
       "      <td>0</td>\n",
       "    </tr>\n",
       "    <tr>\n",
       "      <th>2</th>\n",
       "      <td>www.ebay.com//58782</td>\n",
       "      <td>www.ebay.com//43019</td>\n",
       "      <td>0</td>\n",
       "    </tr>\n",
       "    <tr>\n",
       "      <th>3</th>\n",
       "      <td>www.ebay.com//42055</td>\n",
       "      <td>www.ebay.com//54403</td>\n",
       "      <td>0</td>\n",
       "    </tr>\n",
       "    <tr>\n",
       "      <th>4</th>\n",
       "      <td>www.ebay.com//44280</td>\n",
       "      <td>buy.net//6145</td>\n",
       "      <td>0</td>\n",
       "    </tr>\n",
       "  </tbody>\n",
       "</table>\n",
       "</div>"
      ],
      "text/plain": [
       "              left_spec_id        right_spec_id  label\n",
       "0  www.garricks.com.au//31  www.ebay.com//53278      1\n",
       "1      www.ebay.com//58782  www.ebay.com//24817      0\n",
       "2      www.ebay.com//58782  www.ebay.com//43019      0\n",
       "3      www.ebay.com//42055  www.ebay.com//54403      0\n",
       "4      www.ebay.com//44280        buy.net//6145      0"
      ]
     },
     "execution_count": 8,
     "metadata": {},
     "output_type": "execute_result"
    }
   ],
   "source": [
    "labels_df.head()"
   ]
  },
  {
   "cell_type": "markdown",
   "metadata": {},
   "source": [
    "# Load specs df"
   ]
  },
  {
   "cell_type": "code",
   "execution_count": 9,
   "metadata": {},
   "outputs": [
    {
     "data": {
      "text/plain": [
       "(29771, 5)"
      ]
     },
     "execution_count": 9,
     "metadata": {},
     "output_type": "execute_result"
    }
   ],
   "source": [
    "specs_df = pd.read_csv('../data/processed/specs_preprocessed.csv')\n",
    "specs_df.index=  specs_df.spec_id\n",
    "specs_df.shape"
   ]
  },
  {
   "cell_type": "code",
   "execution_count": 10,
   "metadata": {},
   "outputs": [
    {
     "data": {
      "text/html": [
       "<div>\n",
       "<style scoped>\n",
       "    .dataframe tbody tr th:only-of-type {\n",
       "        vertical-align: middle;\n",
       "    }\n",
       "\n",
       "    .dataframe tbody tr th {\n",
       "        vertical-align: top;\n",
       "    }\n",
       "\n",
       "    .dataframe thead th {\n",
       "        text-align: right;\n",
       "    }\n",
       "</style>\n",
       "<table border=\"1\" class=\"dataframe\">\n",
       "  <thead>\n",
       "    <tr style=\"text-align: right;\">\n",
       "      <th></th>\n",
       "      <th>spec_id</th>\n",
       "      <th>page_title</th>\n",
       "      <th>page_title_stem</th>\n",
       "      <th>brand</th>\n",
       "      <th>site</th>\n",
       "    </tr>\n",
       "    <tr>\n",
       "      <th>spec_id</th>\n",
       "      <th></th>\n",
       "      <th></th>\n",
       "      <th></th>\n",
       "      <th></th>\n",
       "      <th></th>\n",
       "    </tr>\n",
       "  </thead>\n",
       "  <tbody>\n",
       "  </tbody>\n",
       "</table>\n",
       "</div>"
      ],
      "text/plain": [
       "Empty DataFrame\n",
       "Columns: [spec_id, page_title, page_title_stem, brand, site]\n",
       "Index: []"
      ]
     },
     "execution_count": 10,
     "metadata": {},
     "output_type": "execute_result"
    }
   ],
   "source": [
    "specs_df[specs_df.page_title.isnull()]"
   ]
  },
  {
   "cell_type": "code",
   "execution_count": 11,
   "metadata": {},
   "outputs": [
    {
     "data": {
      "text/html": [
       "<div>\n",
       "<style scoped>\n",
       "    .dataframe tbody tr th:only-of-type {\n",
       "        vertical-align: middle;\n",
       "    }\n",
       "\n",
       "    .dataframe tbody tr th {\n",
       "        vertical-align: top;\n",
       "    }\n",
       "\n",
       "    .dataframe thead th {\n",
       "        text-align: right;\n",
       "    }\n",
       "</style>\n",
       "<table border=\"1\" class=\"dataframe\">\n",
       "  <thead>\n",
       "    <tr style=\"text-align: right;\">\n",
       "      <th></th>\n",
       "      <th>spec_id</th>\n",
       "      <th>page_title</th>\n",
       "      <th>page_title_stem</th>\n",
       "      <th>brand</th>\n",
       "      <th>site</th>\n",
       "    </tr>\n",
       "    <tr>\n",
       "      <th>spec_id</th>\n",
       "      <th></th>\n",
       "      <th></th>\n",
       "      <th></th>\n",
       "      <th></th>\n",
       "      <th></th>\n",
       "    </tr>\n",
       "  </thead>\n",
       "  <tbody>\n",
       "    <tr>\n",
       "      <th>www.ebay.com//57656</th>\n",
       "      <td>www.ebay.com//57656</td>\n",
       "      <td>canon powershot elph 110 hs 16 1 mp</td>\n",
       "      <td>canon powershot elph 110 hs 16 1 mp</td>\n",
       "      <td>canon</td>\n",
       "      <td>www.ebay.com</td>\n",
       "    </tr>\n",
       "    <tr>\n",
       "      <th>www.ebay.com//60583</th>\n",
       "      <td>www.ebay.com//60583</td>\n",
       "      <td>canon rebel 2000 35 mm great condition case</td>\n",
       "      <td>canon rebel 2000 35 mm great condit case</td>\n",
       "      <td>canon</td>\n",
       "      <td>www.ebay.com</td>\n",
       "    </tr>\n",
       "    <tr>\n",
       "      <th>www.ebay.com//60440</th>\n",
       "      <td>www.ebay.com//60440</td>\n",
       "      <td>canon eos rebel t3i 18 55mm</td>\n",
       "      <td>canon eo rebel t3i 18 55mm</td>\n",
       "      <td>canon</td>\n",
       "      <td>www.ebay.com</td>\n",
       "    </tr>\n",
       "    <tr>\n",
       "      <th>www.ebay.com//24139</th>\n",
       "      <td>www.ebay.com//24139</td>\n",
       "      <td>ge c1033 10 1 mp 3x zoom 2</td>\n",
       "      <td>ge c1033 10 1 mp 3x zoom 2</td>\n",
       "      <td>ge</td>\n",
       "      <td>www.ebay.com</td>\n",
       "    </tr>\n",
       "    <tr>\n",
       "      <th>www.ebay.com//54903</th>\n",
       "      <td>www.ebay.com//54903</td>\n",
       "      <td>vivitar clip shot 1 1 mp</td>\n",
       "      <td>vivitar clip shot 1 1 mp</td>\n",
       "      <td>vivitar</td>\n",
       "      <td>www.ebay.com</td>\n",
       "    </tr>\n",
       "  </tbody>\n",
       "</table>\n",
       "</div>"
      ],
      "text/plain": [
       "                                 spec_id  \\\n",
       "spec_id                                    \n",
       "www.ebay.com//57656  www.ebay.com//57656   \n",
       "www.ebay.com//60583  www.ebay.com//60583   \n",
       "www.ebay.com//60440  www.ebay.com//60440   \n",
       "www.ebay.com//24139  www.ebay.com//24139   \n",
       "www.ebay.com//54903  www.ebay.com//54903   \n",
       "\n",
       "                                                      page_title  \\\n",
       "spec_id                                                            \n",
       "www.ebay.com//57656          canon powershot elph 110 hs 16 1 mp   \n",
       "www.ebay.com//60583  canon rebel 2000 35 mm great condition case   \n",
       "www.ebay.com//60440                  canon eos rebel t3i 18 55mm   \n",
       "www.ebay.com//24139                   ge c1033 10 1 mp 3x zoom 2   \n",
       "www.ebay.com//54903                     vivitar clip shot 1 1 mp   \n",
       "\n",
       "                                              page_title_stem    brand  \\\n",
       "spec_id                                                                  \n",
       "www.ebay.com//57656       canon powershot elph 110 hs 16 1 mp    canon   \n",
       "www.ebay.com//60583  canon rebel 2000 35 mm great condit case    canon   \n",
       "www.ebay.com//60440                canon eo rebel t3i 18 55mm    canon   \n",
       "www.ebay.com//24139                ge c1033 10 1 mp 3x zoom 2       ge   \n",
       "www.ebay.com//54903                  vivitar clip shot 1 1 mp  vivitar   \n",
       "\n",
       "                             site  \n",
       "spec_id                            \n",
       "www.ebay.com//57656  www.ebay.com  \n",
       "www.ebay.com//60583  www.ebay.com  \n",
       "www.ebay.com//60440  www.ebay.com  \n",
       "www.ebay.com//24139  www.ebay.com  \n",
       "www.ebay.com//54903  www.ebay.com  "
      ]
     },
     "execution_count": 11,
     "metadata": {},
     "output_type": "execute_result"
    }
   ],
   "source": [
    "specs_df.head()"
   ]
  },
  {
   "cell_type": "code",
   "execution_count": 12,
   "metadata": {},
   "outputs": [
    {
     "data": {
      "text/plain": [
       "'olympus e 510 10 0 mp 14 45mm'"
      ]
     },
     "execution_count": 12,
     "metadata": {},
     "output_type": "execute_result"
    }
   ],
   "source": [
    "specs_df.page_title.sample(5).values[0]"
   ]
  },
  {
   "cell_type": "code",
   "execution_count": 13,
   "metadata": {},
   "outputs": [
    {
     "data": {
      "text/plain": [
       "'onvif hd cmos manual zoom len dome p2p case'"
      ]
     },
     "execution_count": 13,
     "metadata": {},
     "output_type": "execute_result"
    }
   ],
   "source": [
    "specs_df.page_title_stem.sample(5).values[0]"
   ]
  },
  {
   "cell_type": "markdown",
   "metadata": {},
   "source": [
    "# Make embedder and index"
   ]
  },
  {
   "cell_type": "code",
   "execution_count": 14,
   "metadata": {},
   "outputs": [],
   "source": [
    "# emb = Embedder.load('../models/embedder')"
   ]
  },
  {
   "cell_type": "code",
   "execution_count": 24,
   "metadata": {},
   "outputs": [],
   "source": [
    "emb = Embedder(vector_size=200,\n",
    "               train_epochs=100,\n",
    "               index_trees=1000)"
   ]
  },
  {
   "cell_type": "code",
   "execution_count": 25,
   "metadata": {},
   "outputs": [
    {
     "name": "stdout",
     "output_type": "stream",
     "text": [
      "Epoch #10\n",
      "Epoch #20\n",
      "Epoch #30\n",
      "Epoch #40\n",
      "Epoch #50\n",
      "Epoch #60\n",
      "Epoch #70\n",
      "Epoch #80\n",
      "Epoch #90\n",
      "Epoch #100\n"
     ]
    },
    {
     "name": "stderr",
     "output_type": "stream",
     "text": [
      "/home/boris/anaconda3/lib/python3.6/site-packages/gensim/similarities/index.py:184: FutureWarning: The default argument for metric will be removed in future version of Annoy. Please pass metric='angular' explicitly.\n",
      "  index = AnnoyIndex(num_features)\n"
     ]
    }
   ],
   "source": [
    "emb.fit(specs_df.page_title_stem, specs_df.spec_id)"
   ]
  },
  {
   "cell_type": "markdown",
   "metadata": {},
   "source": [
    "# Visual evaluation"
   ]
  },
  {
   "cell_type": "code",
   "execution_count": 26,
   "metadata": {},
   "outputs": [
    {
     "name": "stdout",
     "output_type": "stream",
     "text": [
      "Query:\n",
      "\tolympus zealand price\n",
      "3 Closest:\n",
      "\tolympus zealand price\n",
      "\tolympus zealand price\n",
      "\tolympus zealand price pricem\n",
      "Most distant:\n",
      "\tolympus mp\n"
     ]
    }
   ],
   "source": [
    "random_spec = specs_df.sample(1).iloc[0]\n",
    "spec_id = random_spec.spec_id\n",
    "text = random_spec.page_title_stem\n",
    "\n",
    "nn_ids = emb.lookup_ids(text, n=100)\n",
    "nn_texts = specs_df.page_title_stem.loc[nn_ids].values\n",
    "\n",
    "print(f'Query:\\n\\t{text}')\n",
    "newline_ = '\\n\\t'\n",
    "print(f'3 Closest:\\n\\t{newline_.join(nn_texts[:3])}')\n",
    "\n",
    "print(f'Most distant:\\n\\t{nn_texts[-1]}')"
   ]
  },
  {
   "cell_type": "markdown",
   "metadata": {},
   "source": [
    "# Obtian labelled dataset recall"
   ]
  },
  {
   "cell_type": "code",
   "execution_count": 27,
   "metadata": {},
   "outputs": [
    {
     "data": {
      "application/vnd.jupyter.widget-view+json": {
       "model_id": "857d26817e3d457c8d10cb391c8f598f",
       "version_major": 2,
       "version_minor": 0
      },
      "text/html": [
       "<p>Failed to display Jupyter Widget of type <code>HBox</code>.</p>\n",
       "<p>\n",
       "  If you're reading this message in the Jupyter Notebook or JupyterLab Notebook, it may mean\n",
       "  that the widgets JavaScript is still loading. If this message persists, it\n",
       "  likely means that the widgets JavaScript library is either not installed or\n",
       "  not enabled. See the <a href=\"https://ipywidgets.readthedocs.io/en/stable/user_install.html\">Jupyter\n",
       "  Widgets Documentation</a> for setup instructions.\n",
       "</p>\n",
       "<p>\n",
       "  If you're reading this message in another frontend (for example, a static\n",
       "  rendering on GitHub or <a href=\"https://nbviewer.jupyter.org/\">NBViewer</a>),\n",
       "  it may mean that your frontend doesn't currently support widgets.\n",
       "</p>\n"
      ],
      "text/plain": [
       "HBox(children=(IntProgress(value=1, bar_style='info', max=1), HTML(value='')))"
      ]
     },
     "metadata": {},
     "output_type": "display_data"
    },
    {
     "name": "stdout",
     "output_type": "stream",
     "text": [
      "\n"
     ]
    }
   ],
   "source": [
    "def get_candidate_specs(query_text, emb, n):\n",
    "    nns = emb.lookup(query_text, n=n)\n",
    "    nn_spec_ids = [nn[0] for nn in nns]\n",
    "    return nn_spec_ids\n",
    "\n",
    "dups_df = labels_df[labels_df.label==1]\n",
    "results = []\n",
    "for row in tqdm(dups_df.sample(int(0.5*len(dups_df))).itertuples()):\n",
    "    left_spec = specs_df.loc[row.left_spec_id]\n",
    "    candidates = emb.lookup_ids(left_spec.page_title_stem, n=1000)\n",
    "    \n",
    "    target_index = None\n",
    "    if row.right_spec_id in candidates:\n",
    "        target_index = candidates.index(row.right_spec_id)\n",
    "    \n",
    "    \n",
    "    results.append((row.left_spec_id, row.right_spec_id, target_index))"
   ]
  },
  {
   "cell_type": "code",
   "execution_count": 28,
   "metadata": {},
   "outputs": [
    {
     "data": {
      "text/html": [
       "<div>\n",
       "<style scoped>\n",
       "    .dataframe tbody tr th:only-of-type {\n",
       "        vertical-align: middle;\n",
       "    }\n",
       "\n",
       "    .dataframe tbody tr th {\n",
       "        vertical-align: top;\n",
       "    }\n",
       "\n",
       "    .dataframe thead th {\n",
       "        text-align: right;\n",
       "    }\n",
       "</style>\n",
       "<table border=\"1\" class=\"dataframe\">\n",
       "  <thead>\n",
       "    <tr style=\"text-align: right;\">\n",
       "      <th></th>\n",
       "      <th>left_spec_id</th>\n",
       "      <th>right_spec_id</th>\n",
       "      <th>right_spec_rank</th>\n",
       "    </tr>\n",
       "  </thead>\n",
       "  <tbody>\n",
       "    <tr>\n",
       "      <th>0</th>\n",
       "      <td>www.ebay.com//47932</td>\n",
       "      <td>www.ebay.com//41940</td>\n",
       "      <td>NaN</td>\n",
       "    </tr>\n",
       "    <tr>\n",
       "      <th>1</th>\n",
       "      <td>www.shopbot.com.au//331</td>\n",
       "      <td>www.ebay.com//52928</td>\n",
       "      <td>NaN</td>\n",
       "    </tr>\n",
       "    <tr>\n",
       "      <th>2</th>\n",
       "      <td>www.ebay.com//25180</td>\n",
       "      <td>www.ebay.com//54939</td>\n",
       "      <td>NaN</td>\n",
       "    </tr>\n",
       "    <tr>\n",
       "      <th>3</th>\n",
       "      <td>www.walmart.com//633</td>\n",
       "      <td>www.ebay.com//47932</td>\n",
       "      <td>NaN</td>\n",
       "    </tr>\n",
       "    <tr>\n",
       "      <th>4</th>\n",
       "      <td>www.ebay.com//43940</td>\n",
       "      <td>www.walmart.com//644</td>\n",
       "      <td>NaN</td>\n",
       "    </tr>\n",
       "  </tbody>\n",
       "</table>\n",
       "</div>"
      ],
      "text/plain": [
       "              left_spec_id         right_spec_id  right_spec_rank\n",
       "0      www.ebay.com//47932   www.ebay.com//41940              NaN\n",
       "1  www.shopbot.com.au//331   www.ebay.com//52928              NaN\n",
       "2      www.ebay.com//25180   www.ebay.com//54939              NaN\n",
       "3     www.walmart.com//633   www.ebay.com//47932              NaN\n",
       "4      www.ebay.com//43940  www.walmart.com//644              NaN"
      ]
     },
     "execution_count": 28,
     "metadata": {},
     "output_type": "execute_result"
    }
   ],
   "source": [
    "results_df = pd.DataFrame(results)\n",
    "results_df.columns = ['left_spec_id', 'right_spec_id', 'right_spec_rank']\n",
    "results_df.head()"
   ]
  },
  {
   "cell_type": "code",
   "execution_count": 29,
   "metadata": {},
   "outputs": [],
   "source": [
    "def compute_recall_k(ranks, k):\n",
    "    total_number = len(ranks)\n",
    "    matched_number = ranks[(~ranks.isnull()) & (ranks <= k)]\n",
    "    return len(matched_number)/total_number"
   ]
  },
  {
   "cell_type": "code",
   "execution_count": 30,
   "metadata": {},
   "outputs": [
    {
     "name": "stdout",
     "output_type": "stream",
     "text": [
      "Recall-1:  0.0017\n",
      "Recall-10:  0.0089\n",
      "Recall-50:  0.0201\n",
      "Recall-100:  0.038\n",
      "Recall-500:  0.1697\n",
      "Recall-1000:  0.2552\n"
     ]
    }
   ],
   "source": [
    "ks = [1, 10, 50, 100, 500, 1000]\n",
    "for k in ks:\n",
    "    print(f'Recall-{k}: ', round(compute_recall_k(results_df.right_spec_rank, k), 4))"
   ]
  },
  {
   "cell_type": "markdown",
   "metadata": {},
   "source": [
    "# Visualize embedding"
   ]
  },
  {
   "cell_type": "markdown",
   "metadata": {},
   "source": [
    "## Obtain classes from labels"
   ]
  },
  {
   "cell_type": "markdown",
   "metadata": {},
   "source": [
    "Each class - camera model. All specs that are duplicates of eachother consitute the same class. In a graph one class = one connected component."
   ]
  },
  {
   "cell_type": "code",
   "execution_count": 33,
   "metadata": {},
   "outputs": [],
   "source": [
    "dup_df = labels_df[labels_df.label==1][['left_spec_id', 'right_spec_id', 'label']].sort_values(by=['left_spec_id', 'right_spec_id'])"
   ]
  },
  {
   "cell_type": "code",
   "execution_count": 34,
   "metadata": {},
   "outputs": [
    {
     "data": {
      "text/plain": [
       "(3582, 3)"
      ]
     },
     "execution_count": 34,
     "metadata": {},
     "output_type": "execute_result"
    }
   ],
   "source": [
    "dup_df.shape"
   ]
  },
  {
   "cell_type": "code",
   "execution_count": 35,
   "metadata": {},
   "outputs": [
    {
     "data": {
      "text/html": [
       "<div>\n",
       "<style scoped>\n",
       "    .dataframe tbody tr th:only-of-type {\n",
       "        vertical-align: middle;\n",
       "    }\n",
       "\n",
       "    .dataframe tbody tr th {\n",
       "        vertical-align: top;\n",
       "    }\n",
       "\n",
       "    .dataframe thead th {\n",
       "        text-align: right;\n",
       "    }\n",
       "</style>\n",
       "<table border=\"1\" class=\"dataframe\">\n",
       "  <thead>\n",
       "    <tr style=\"text-align: right;\">\n",
       "      <th></th>\n",
       "      <th>left_spec_id</th>\n",
       "      <th>right_spec_id</th>\n",
       "      <th>label</th>\n",
       "    </tr>\n",
       "  </thead>\n",
       "  <tbody>\n",
       "    <tr>\n",
       "      <th>27484</th>\n",
       "      <td>buy.net//5641</td>\n",
       "      <td>www.ebay.com//58588</td>\n",
       "      <td>1</td>\n",
       "    </tr>\n",
       "    <tr>\n",
       "      <th>24490</th>\n",
       "      <td>buy.net//5641</td>\n",
       "      <td>www.gosale.com//849</td>\n",
       "      <td>1</td>\n",
       "    </tr>\n",
       "    <tr>\n",
       "      <th>12459</th>\n",
       "      <td>buy.net//5641</td>\n",
       "      <td>www.price-hunt.com//9794</td>\n",
       "      <td>1</td>\n",
       "    </tr>\n",
       "    <tr>\n",
       "      <th>5120</th>\n",
       "      <td>buy.net//5698</td>\n",
       "      <td>cammarkt.com//501</td>\n",
       "      <td>1</td>\n",
       "    </tr>\n",
       "    <tr>\n",
       "      <th>31627</th>\n",
       "      <td>buy.net//5698</td>\n",
       "      <td>www.ebay.com//41940</td>\n",
       "      <td>1</td>\n",
       "    </tr>\n",
       "  </tbody>\n",
       "</table>\n",
       "</div>"
      ],
      "text/plain": [
       "        left_spec_id             right_spec_id  label\n",
       "27484  buy.net//5641       www.ebay.com//58588      1\n",
       "24490  buy.net//5641       www.gosale.com//849      1\n",
       "12459  buy.net//5641  www.price-hunt.com//9794      1\n",
       "5120   buy.net//5698         cammarkt.com//501      1\n",
       "31627  buy.net//5698       www.ebay.com//41940      1"
      ]
     },
     "execution_count": 35,
     "metadata": {},
     "output_type": "execute_result"
    }
   ],
   "source": [
    "dup_df.head()"
   ]
  },
  {
   "cell_type": "code",
   "execution_count": 36,
   "metadata": {},
   "outputs": [
    {
     "data": {
      "text/plain": [
       "252"
      ]
     },
     "execution_count": 36,
     "metadata": {},
     "output_type": "execute_result"
    }
   ],
   "source": [
    "len(set(dup_df.left_spec_id).intersection(dup_df.right_spec_id))"
   ]
  },
  {
   "cell_type": "code",
   "execution_count": 37,
   "metadata": {},
   "outputs": [],
   "source": [
    "class_mapping = {\n",
    "    \n",
    "}\n",
    "\n",
    "def replace_class_mapping(prev_class, new_class):\n",
    "    for k in class_mapping:\n",
    "        if k == prev_class:\n",
    "            class_mapping[k] = new_class\n",
    "\n",
    "cur_class = 0\n",
    "for row in dup_df.itertuples():\n",
    "    if row.left_spec_id in class_mapping or row.right_spec_id in class_mapping:\n",
    "        if row.left_spec_id in class_mapping and row.right_spec_id in class_mapping and class_mapping[row.left_spec_id] != class_mapping[row.right_spec_id]:\n",
    "            raise Exception('wtf')\n",
    "        \n",
    "        existing_class = class_mapping.get(row.left_spec_id, class_mapping.get(row.right_spec_id))\n",
    "        class_mapping[row.left_spec_id] = existing_class\n",
    "        class_mapping[row.right_spec_id] = existing_class\n",
    "    else:\n",
    "        class_mapping[row.left_spec_id] = cur_class\n",
    "        class_mapping[row.right_spec_id] = cur_class\n",
    "        cur_class += 1\n"
   ]
  },
  {
   "cell_type": "code",
   "execution_count": 38,
   "metadata": {},
   "outputs": [
    {
     "data": {
      "text/plain": [
       "(306, 2)"
      ]
     },
     "execution_count": 38,
     "metadata": {},
     "output_type": "execute_result"
    }
   ],
   "source": [
    "classes_df = pd.DataFrame({'spec_id': list(class_mapping.keys()), 'class_': list(class_mapping.values())})\n",
    "classes_df.shape"
   ]
  },
  {
   "cell_type": "code",
   "execution_count": 39,
   "metadata": {},
   "outputs": [
    {
     "data": {
      "text/html": [
       "<div>\n",
       "<style scoped>\n",
       "    .dataframe tbody tr th:only-of-type {\n",
       "        vertical-align: middle;\n",
       "    }\n",
       "\n",
       "    .dataframe tbody tr th {\n",
       "        vertical-align: top;\n",
       "    }\n",
       "\n",
       "    .dataframe thead th {\n",
       "        text-align: right;\n",
       "    }\n",
       "</style>\n",
       "<table border=\"1\" class=\"dataframe\">\n",
       "  <thead>\n",
       "    <tr style=\"text-align: right;\">\n",
       "      <th></th>\n",
       "      <th>spec_id</th>\n",
       "      <th>class_</th>\n",
       "    </tr>\n",
       "  </thead>\n",
       "  <tbody>\n",
       "    <tr>\n",
       "      <th>0</th>\n",
       "      <td>buy.net//5641</td>\n",
       "      <td>0</td>\n",
       "    </tr>\n",
       "    <tr>\n",
       "      <th>1</th>\n",
       "      <td>www.ebay.com//58588</td>\n",
       "      <td>0</td>\n",
       "    </tr>\n",
       "    <tr>\n",
       "      <th>2</th>\n",
       "      <td>www.gosale.com//849</td>\n",
       "      <td>0</td>\n",
       "    </tr>\n",
       "    <tr>\n",
       "      <th>3</th>\n",
       "      <td>www.price-hunt.com//9794</td>\n",
       "      <td>0</td>\n",
       "    </tr>\n",
       "    <tr>\n",
       "      <th>4</th>\n",
       "      <td>buy.net//5698</td>\n",
       "      <td>1</td>\n",
       "    </tr>\n",
       "  </tbody>\n",
       "</table>\n",
       "</div>"
      ],
      "text/plain": [
       "                    spec_id  class_\n",
       "0             buy.net//5641       0\n",
       "1       www.ebay.com//58588       0\n",
       "2       www.gosale.com//849       0\n",
       "3  www.price-hunt.com//9794       0\n",
       "4             buy.net//5698       1"
      ]
     },
     "execution_count": 39,
     "metadata": {},
     "output_type": "execute_result"
    }
   ],
   "source": [
    "classes_df.head()"
   ]
  },
  {
   "cell_type": "code",
   "execution_count": 104,
   "metadata": {},
   "outputs": [],
   "source": [
    "classes_df.index = classes_df.spec_id"
   ]
  },
  {
   "cell_type": "markdown",
   "metadata": {},
   "source": [
    "## Get spec vectors"
   ]
  },
  {
   "cell_type": "code",
   "execution_count": 50,
   "metadata": {},
   "outputs": [],
   "source": [
    "vecs = emb.doc2vec.docvecs.vectors_docs"
   ]
  },
  {
   "cell_type": "code",
   "execution_count": 54,
   "metadata": {},
   "outputs": [
    {
     "data": {
      "text/plain": [
       "(29771, 200)"
      ]
     },
     "execution_count": 54,
     "metadata": {},
     "output_type": "execute_result"
    }
   ],
   "source": [
    "vecs.shape"
   ]
  },
  {
   "cell_type": "code",
   "execution_count": 65,
   "metadata": {},
   "outputs": [
    {
     "data": {
      "text/plain": [
       "(29771, 200)"
      ]
     },
     "execution_count": 65,
     "metadata": {},
     "output_type": "execute_result"
    }
   ],
   "source": [
    "vecs = pd.DataFrame(vecs, index=specs_df.spec_id)\n",
    "vecs.shape"
   ]
  },
  {
   "cell_type": "markdown",
   "metadata": {},
   "source": [
    "## Pairwise distances distirubtion"
   ]
  },
  {
   "cell_type": "code",
   "execution_count": 51,
   "metadata": {},
   "outputs": [],
   "source": [
    "from scipy.spatial.distance import pdist, cdist"
   ]
  },
  {
   "cell_type": "code",
   "execution_count": 71,
   "metadata": {},
   "outputs": [],
   "source": [
    "sample_features = vecs.sample(5000)"
   ]
  },
  {
   "cell_type": "code",
   "execution_count": 72,
   "metadata": {},
   "outputs": [],
   "source": [
    "pairwise_distances = pdist(sample_features)"
   ]
  },
  {
   "cell_type": "code",
   "execution_count": 73,
   "metadata": {},
   "outputs": [
    {
     "name": "stderr",
     "output_type": "stream",
     "text": [
      "/home/boris/anaconda3/lib/python3.6/site-packages/scipy/stats/stats.py:1713: FutureWarning: Using a non-tuple sequence for multidimensional indexing is deprecated; use `arr[tuple(seq)]` instead of `arr[seq]`. In the future this will be interpreted as an array index, `arr[np.array(seq)]`, which will result either in an error or a different result.\n",
      "  return np.add.reduce(sorted[indexer] * weights, axis=axis) / sumval\n"
     ]
    },
    {
     "data": {
      "image/png": "[encoded data removed]",
      "text/plain": [
       "<Figure size 432x288 with 1 Axes>"
      ]
     },
     "metadata": {},
     "output_type": "display_data"
    }
   ],
   "source": [
    "plt.figure()\n",
    "plt.title('Distribution of pairwise distances')\n",
    "sns.distplot(pairwise_distances)\n",
    "plt.show()"
   ]
  },
  {
   "cell_type": "code",
   "execution_count": 74,
   "metadata": {},
   "outputs": [
    {
     "data": {
      "text/plain": [
       "0   -0.045119\n",
       "1   -0.064009\n",
       "2    0.136609\n",
       "3    0.107015\n",
       "4   -0.047888\n",
       "Name: www.ebay.com//42835, dtype: float32"
      ]
     },
     "execution_count": 74,
     "metadata": {},
     "output_type": "execute_result"
    }
   ],
   "source": [
    "# Vector for spec\n",
    "vecs.loc['www.ebay.com//42835'].head()"
   ]
  },
  {
   "cell_type": "code",
   "execution_count": 88,
   "metadata": {},
   "outputs": [
    {
     "data": {
      "text/plain": [
       "array([[[-0.17393182, -0.02544539,  0.16579558, ...,  0.06987065,\n",
       "         -0.03432765,  0.03119265],\n",
       "        [-0.00281865,  0.08442257,  0.04089072, ..., -0.10923864,\n",
       "         -0.29468775,  0.0784305 ]],\n",
       "\n",
       "       [[-0.03166717,  0.07730271,  0.02098622, ..., -0.01709495,\n",
       "         -0.06661601,  0.08568059],\n",
       "        [-0.00263251, -0.04840624,  0.09852695, ...,  0.09487066,\n",
       "         -0.04286393, -0.07568391]],\n",
       "\n",
       "       [[ 0.04665071, -0.01333624,  0.15095663, ...,  0.04686065,\n",
       "         -0.10503448,  0.13103634],\n",
       "        [-0.16161348, -0.02597628,  0.14134157, ...,  0.03348852,\n",
       "         -0.05938867,  0.01785627]]], dtype=float32)"
      ]
     },
     "execution_count": 88,
     "metadata": {},
     "output_type": "execute_result"
    }
   ],
   "source": [
    "duplicate_pairs = dup_df.sample(1000)[['left_spec_id', 'right_spec_id']].values\n",
    "\n",
    "duplicate_vector_pairs = []\n",
    "for s1, s2 in duplicate_pairs:\n",
    "    duplicate_vector_pairs.append([\n",
    "        vecs.loc[s1],\n",
    "        vecs.loc[s2]\n",
    "    ])\n",
    "    \n",
    "duplicate_vector_pairs = np.array(duplicate_vector_pairs)\n",
    "\n",
    "duplicate_vector_pairs[:3]"
   ]
  },
  {
   "cell_type": "code",
   "execution_count": 89,
   "metadata": {},
   "outputs": [
    {
     "data": {
      "text/plain": [
       "array([[[-0.02518978, -0.054712  ,  0.18599375, ...,  0.07657019,\n",
       "         -0.1622029 ,  0.02980449],\n",
       "        [-0.04629386, -0.08941987, -0.01130236, ..., -0.00860991,\n",
       "         -0.09799675,  0.03369134]],\n",
       "\n",
       "       [[-0.11039374,  0.11573584,  0.16780064, ...,  0.2055268 ,\n",
       "          0.04665672, -0.00941093],\n",
       "        [-0.06202738, -0.05842616,  0.11538555, ...,  0.03862777,\n",
       "         -0.09813445,  0.00707581]],\n",
       "\n",
       "       [[ 0.02076366, -0.13753624,  0.15036097, ...,  0.03508536,\n",
       "         -0.09003238, -0.0917429 ],\n",
       "        [ 0.03426943, -0.01837048,  0.17242263, ...,  0.01447255,\n",
       "         -0.24468581, -0.01284188]]], dtype=float32)"
      ]
     },
     "execution_count": 89,
     "metadata": {},
     "output_type": "execute_result"
    }
   ],
   "source": [
    "non_duplicate_pairs = labels_df[labels_df.label==0].sample(10000)[['left_spec_id', 'right_spec_id']].values\n",
    "\n",
    "non_duplicate_vector_pairs = []\n",
    "for s1, s2 in non_duplicate_pairs:\n",
    "    non_duplicate_vector_pairs.append([\n",
    "        vecs.loc[s1],\n",
    "        vecs.loc[s2]\n",
    "    ])\n",
    "\n",
    "        \n",
    "non_duplicate_vector_pairs = np.array(non_duplicate_vector_pairs)\n",
    "non_duplicate_vector_pairs[:3]"
   ]
  },
  {
   "cell_type": "code",
   "execution_count": 90,
   "metadata": {},
   "outputs": [
    {
     "data": {
      "text/plain": [
       "(1000, 2, 200)"
      ]
     },
     "execution_count": 90,
     "metadata": {},
     "output_type": "execute_result"
    }
   ],
   "source": [
    "duplicate_vector_pairs.shape"
   ]
  },
  {
   "cell_type": "code",
   "execution_count": 91,
   "metadata": {},
   "outputs": [],
   "source": [
    "def compute_pairwise_distances(pairs_arr):\n",
    "    dists = []\n",
    "    for i in range(len(pairs_arr)):\n",
    "        dists.append(pdist(pairs_arr[i])[0])\n",
    "    return dists"
   ]
  },
  {
   "cell_type": "code",
   "execution_count": 92,
   "metadata": {},
   "outputs": [
    {
     "data": {
      "text/plain": [
       "(1000, 2, 200)"
      ]
     },
     "execution_count": 92,
     "metadata": {},
     "output_type": "execute_result"
    }
   ],
   "source": [
    "duplicate_vector_pairs.shape"
   ]
  },
  {
   "cell_type": "code",
   "execution_count": 93,
   "metadata": {},
   "outputs": [],
   "source": [
    "duplicate_distances = compute_pairwise_distances(duplicate_vector_pairs)\n",
    "non_duplicate_distances = compute_pairwise_distances(non_duplicate_vector_pairs)"
   ]
  },
  {
   "cell_type": "code",
   "execution_count": 94,
   "metadata": {},
   "outputs": [
    {
     "data": {
      "text/plain": [
       "(1000, 10000)"
      ]
     },
     "execution_count": 94,
     "metadata": {},
     "output_type": "execute_result"
    }
   ],
   "source": [
    "len(duplicate_distances), len(non_duplicate_distances)"
   ]
  },
  {
   "cell_type": "code",
   "execution_count": 95,
   "metadata": {},
   "outputs": [
    {
     "name": "stderr",
     "output_type": "stream",
     "text": [
      "/home/boris/anaconda3/lib/python3.6/site-packages/scipy/stats/stats.py:1713: FutureWarning: Using a non-tuple sequence for multidimensional indexing is deprecated; use `arr[tuple(seq)]` instead of `arr[seq]`. In the future this will be interpreted as an array index, `arr[np.array(seq)]`, which will result either in an error or a different result.\n",
      "  return np.add.reduce(sorted[indexer] * weights, axis=axis) / sumval\n"
     ]
    },
    {
     "data": {
      "image/png": "[encoded data removed]",
      "text/plain": [
       "<Figure size 432x288 with 1 Axes>"
      ]
     },
     "metadata": {},
     "output_type": "display_data"
    }
   ],
   "source": [
    "plt.figure()\n",
    "plt.title('Distribution of distances between duplicate pairs and non-duplicate pairs')\n",
    "sns.distplot(duplicate_distances, label='duplicates')\n",
    "sns.distplot(non_duplicate_distances, label='non-duplicates')\n",
    "plt.legend()\n",
    "plt.xlabel('distance')\n",
    "plt.show()"
   ]
  },
  {
   "cell_type": "markdown",
   "metadata": {},
   "source": [
    "### Duplicates are more likely to have a small distance, but currenlty the embedding is crap"
   ]
  },
  {
   "cell_type": "markdown",
   "metadata": {},
   "source": [
    "# TSNE visualization"
   ]
  },
  {
   "cell_type": "code",
   "execution_count": 96,
   "metadata": {},
   "outputs": [],
   "source": [
    "from MulticoreTSNE import MulticoreTSNE as TSNE"
   ]
  },
  {
   "cell_type": "code",
   "execution_count": 97,
   "metadata": {},
   "outputs": [],
   "source": [
    "tsne = TSNE(\n",
    "    n_components=2,\n",
    "    metric='cosine',\n",
    "    n_jobs=3,\n",
    "    verbose=True,\n",
    ")"
   ]
  },
  {
   "cell_type": "code",
   "execution_count": 111,
   "metadata": {},
   "outputs": [],
   "source": [
    "spec_features_ld = tsne.fit_transform(vecs)"
   ]
  },
  {
   "cell_type": "code",
   "execution_count": 112,
   "metadata": {},
   "outputs": [
    {
     "data": {
      "text/plain": [
       "(29771, 2)"
      ]
     },
     "execution_count": 112,
     "metadata": {},
     "output_type": "execute_result"
    }
   ],
   "source": [
    "spec_features_ld.shape"
   ]
  },
  {
   "cell_type": "code",
   "execution_count": 113,
   "metadata": {},
   "outputs": [
    {
     "data": {
      "text/plain": [
       "(29771, 3)"
      ]
     },
     "execution_count": 113,
     "metadata": {},
     "output_type": "execute_result"
    }
   ],
   "source": [
    "spec_features_ld = pd.DataFrame(spec_features_ld, index=specs_df.spec_id)\n",
    "spec_features_ld['class_'] = classes_df.class_\n",
    "spec_features_ld.shape"
   ]
  },
  {
   "cell_type": "code",
   "execution_count": 115,
   "metadata": {},
   "outputs": [
    {
     "data": {
      "text/plain": [
       "spec_id             www.ebay.com//41954\n",
       "page_title         canon eos 20d 8 2 mp\n",
       "page_title_stem     canon eo 20d 8 2 mp\n",
       "brand                             canon\n",
       "site                       www.ebay.com\n",
       "Name: www.ebay.com//41954, dtype: object"
      ]
     },
     "execution_count": 115,
     "metadata": {},
     "output_type": "execute_result"
    }
   ],
   "source": [
    "specs_df.iloc[46]"
   ]
  },
  {
   "cell_type": "code",
   "execution_count": 116,
   "metadata": {},
   "outputs": [
    {
     "data": {
      "text/plain": [
       "0         -7.045589\n",
       "1         39.724914\n",
       "class_     6.000000\n",
       "Name: www.ebay.com//41954, dtype: float64"
      ]
     },
     "execution_count": 116,
     "metadata": {},
     "output_type": "execute_result"
    }
   ],
   "source": [
    "spec_features_ld.iloc[46]"
   ]
  },
  {
   "cell_type": "code",
   "execution_count": 117,
   "metadata": {},
   "outputs": [
    {
     "data": {
      "image/png": "[encoded data removed]",
      "text/plain": [
       "<Figure size 432x288 with 1 Axes>"
      ]
     },
     "metadata": {},
     "output_type": "display_data"
    }
   ],
   "source": [
    "plt.figure()\n",
    "plt.title('Labelled instances')\n",
    "class_ld_df = spec_features_ld[pd.isnull(spec_features_ld.class_)]\n",
    "plt.scatter(class_ld_df.iloc[:, 0], class_ld_df.iloc[:, 1], label=f'class ?')\n",
    "\n",
    "for class_ in spec_features_ld['class_'].sort_values().unique():\n",
    "    if pd.isnull(class_):\n",
    "        continue\n",
    "    class_ld_df = spec_features_ld[spec_features_ld.class_==class_]\n",
    "    plt.scatter(class_ld_df.iloc[:, 0], class_ld_df.iloc[:, 1], label=f'class {class_}')\n",
    "\n",
    "plt.legend()\n",
    "plt.show()"
   ]
  },
  {
   "cell_type": "markdown",
   "metadata": {},
   "source": [
    "## Either the embedding vectors are shit, or the visualization is shit"
   ]
  }
 ],
 "metadata": {
  "kernelspec": {
   "display_name": "Python 3",
   "language": "python",
   "name": "python3"
  },
  "language_info": {
   "codemirror_mode": {
    "name": "ipython",
    "version": 3
   },
   "file_extension": ".py",
   "mimetype": "text/x-python",
   "name": "python",
   "nbconvert_exporter": "python",
   "pygments_lexer": "ipython3",
   "version": "3.6.7"
  }
 },
 "nbformat": 4,
 "nbformat_minor": 4
}
