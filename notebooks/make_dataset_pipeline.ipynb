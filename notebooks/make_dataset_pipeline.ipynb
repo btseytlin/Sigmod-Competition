{
 "cells": [
  {
   "cell_type": "code",
   "execution_count": 1,
   "metadata": {},
   "outputs": [],
   "source": [
    "import os\n",
    "import sys\n",
    "import random\n",
    "import json\n",
    "import collections\n",
    "\n",
    "import pandas as pd\n",
    "import numpy as np\n",
    "import scipy\n",
    "import statsmodels\n",
    "\n",
    "from tqdm import trange, tqdm_notebook as tqdm\n",
    "from matplotlib import pyplot as plt\n",
    "import seaborn as sns\n",
    "%matplotlib inline\n",
    "\n",
    "plt.rcParams[\"figure.figsize\"] = (10,7)\n",
    "pd.options.display.max_columns = 999\n",
    "\n",
    "sns.set()"
   ]
  },
  {
   "cell_type": "code",
   "execution_count": 2,
   "metadata": {},
   "outputs": [],
   "source": [
    "from annoy import AnnoyIndex"
   ]
  },
  {
   "cell_type": "code",
   "execution_count": 3,
   "metadata": {},
   "outputs": [
    {
     "data": {
      "text/plain": [
       "'/home/boris/study/UT study/ACM Sigmod/sigmod/notebooks'"
      ]
     },
     "execution_count": 3,
     "metadata": {},
     "output_type": "execute_result"
    }
   ],
   "source": [
    "os.getcwd()"
   ]
  },
  {
   "cell_type": "code",
   "execution_count": 4,
   "metadata": {},
   "outputs": [],
   "source": [
    "%load_ext autoreload\n",
    "%autoreload 2"
   ]
  },
  {
   "cell_type": "code",
   "execution_count": 5,
   "metadata": {},
   "outputs": [
    {
     "name": "stderr",
     "output_type": "stream",
     "text": [
      "[nltk_data] Downloading package punkt to /home/boris/nltk_data...\n",
      "[nltk_data]   Package punkt is already up-to-date!\n"
     ]
    }
   ],
   "source": [
    "from sigmod_src.utils import read_json, pprint_json, path_from_spec_id, get_vector_for_spec_id\n",
    "from sigmod_src.data.make_dataset import make_specs_dataset, preprocess_specs_dataset, make_labelled_dataset, make_classes_df\n",
    "from sigmod_src.features.build_features import make_features\n",
    "from sigmod_src.data.embedding import Embedder"
   ]
  },
  {
   "cell_type": "markdown",
   "metadata": {},
   "source": [
    "# Load raw data"
   ]
  },
  {
   "cell_type": "code",
   "execution_count": 6,
   "metadata": {},
   "outputs": [],
   "source": [
    "SPECS_PATH = '../data/raw/2013_camera_specs/'"
   ]
  },
  {
   "cell_type": "code",
   "execution_count": 7,
   "metadata": {},
   "outputs": [],
   "source": [
    "MED_LABELS_PATH = '../data/raw/sigmod_medium_labelled_dataset.csv'\n",
    "LG_LABELS_PATH = '../data/raw/sigmod_large_labelled_dataset.csv'"
   ]
  },
  {
   "cell_type": "markdown",
   "metadata": {},
   "source": [
    "# Make disjoint labelled datasets"
   ]
  },
  {
   "cell_type": "code",
   "execution_count": 8,
   "metadata": {},
   "outputs": [
    {
     "data": {
      "text/plain": [
       "((46665, 3), (297651, 3))"
      ]
     },
     "execution_count": 8,
     "metadata": {},
     "output_type": "execute_result"
    }
   ],
   "source": [
    "med_labels_df = pd.read_csv(MED_LABELS_PATH)\n",
    "lg_labels_df = pd.read_csv(LG_LABELS_PATH)\n",
    "\n",
    "med_labels_df.shape, lg_labels_df.shape"
   ]
  },
  {
   "cell_type": "code",
   "execution_count": 9,
   "metadata": {},
   "outputs": [
    {
     "data": {
      "text/plain": [
       "(250986, 3)"
      ]
     },
     "execution_count": 9,
     "metadata": {},
     "output_type": "execute_result"
    }
   ],
   "source": [
    "lg_no_overlap_df = lg_labels_df[~lg_labels_df.isin(med_labels_df)].dropna()\n",
    "lg_no_overlap_df.shape"
   ]
  },
  {
   "cell_type": "code",
   "execution_count": 10,
   "metadata": {},
   "outputs": [],
   "source": [
    "lg_no_overlap_df.to_csv('../data/interim/large_labelled_dataset_disjoint.csv', index=None)"
   ]
  },
  {
   "cell_type": "markdown",
   "metadata": {},
   "source": [
    "# Make specs dataset"
   ]
  },
  {
   "cell_type": "markdown",
   "metadata": {},
   "source": [
    "Extract fields from json, create one csv file"
   ]
  },
  {
   "cell_type": "code",
   "execution_count": 11,
   "metadata": {},
   "outputs": [],
   "source": [
    "specs_df = make_specs_dataset(SPECS_PATH)"
   ]
  },
  {
   "cell_type": "code",
   "execution_count": 12,
   "metadata": {},
   "outputs": [
    {
     "data": {
      "text/plain": [
       "(29787, 3)"
      ]
     },
     "execution_count": 12,
     "metadata": {},
     "output_type": "execute_result"
    }
   ],
   "source": [
    "specs_df.shape"
   ]
  },
  {
   "cell_type": "code",
   "execution_count": 16,
   "metadata": {},
   "outputs": [
    {
     "name": "stderr",
     "output_type": "stream",
     "text": [
      "[nltk_data] Downloading package punkt to /home/boris/nltk_data...\n",
      "[nltk_data]   Package punkt is already up-to-date!\n"
     ]
    },
    {
     "data": {
      "text/html": [
       "<div>\n",
       "<style scoped>\n",
       "    .dataframe tbody tr th:only-of-type {\n",
       "        vertical-align: middle;\n",
       "    }\n",
       "\n",
       "    .dataframe tbody tr th {\n",
       "        vertical-align: top;\n",
       "    }\n",
       "\n",
       "    .dataframe thead th {\n",
       "        text-align: right;\n",
       "    }\n",
       "</style>\n",
       "<table border=\"1\" class=\"dataframe\">\n",
       "  <thead>\n",
       "    <tr style=\"text-align: right;\">\n",
       "      <th></th>\n",
       "      <th>spec_id</th>\n",
       "      <th>page_title</th>\n",
       "      <th>all_text</th>\n",
       "      <th>page_title_stem</th>\n",
       "      <th>all_text_stem</th>\n",
       "      <th>brand</th>\n",
       "      <th>site</th>\n",
       "    </tr>\n",
       "  </thead>\n",
       "  <tbody>\n",
       "    <tr>\n",
       "      <th>0</th>\n",
       "      <td>www.ebay.com//57656</td>\n",
       "      <td>canon powershot elph 110 hs 16 1 mp</td>\n",
       "      <td>canon powershot elph 110 hs 16 1 mp canon manu...</td>\n",
       "      <td>canon powershot elph 110 hs 16 1 mp</td>\n",
       "      <td>canon powershot elph 110 hs 16 1 mp canon manu...</td>\n",
       "      <td>canon</td>\n",
       "      <td>www.ebay.com</td>\n",
       "    </tr>\n",
       "    <tr>\n",
       "      <th>1</th>\n",
       "      <td>www.ebay.com//60583</td>\n",
       "      <td>canon rebel 2000 35 mm great case instruction ...</td>\n",
       "      <td>canon rebel 2000 35 mm great case instruction ...</td>\n",
       "      <td>canon rebel 2000 35 mm great case instruct boo...</td>\n",
       "      <td>canon rebel 2000 35 mm great case instruct boo...</td>\n",
       "      <td>canon</td>\n",
       "      <td>www.ebay.com</td>\n",
       "    </tr>\n",
       "    <tr>\n",
       "      <th>2</th>\n",
       "      <td>www.ebay.com//60440</td>\n",
       "      <td>canon eos rebel t3i 18 55mm 75 300mm iii lens ...</td>\n",
       "      <td>canon eos rebel t3i 18 55mm 75 300mm iii lens ...</td>\n",
       "      <td>canon eo rebel t3i 18 55mm 75 300mm iii len ki...</td>\n",
       "      <td>canon eo rebel t3i 18 55mm 75 300mm iii len ki...</td>\n",
       "      <td>canon</td>\n",
       "      <td>www.ebay.com</td>\n",
       "    </tr>\n",
       "    <tr>\n",
       "      <th>3</th>\n",
       "      <td>www.ebay.com//24139</td>\n",
       "      <td>ge c1033 10 1 mp 3x zoom 2 4 lcd</td>\n",
       "      <td>ge c1033 10 1 mp 3x zoom 2 4 lcd ge unused uno...</td>\n",
       "      <td>ge c1033 10 1 mp 3x zoom 2 4 lcd</td>\n",
       "      <td>ge c1033 10 1 mp 3x zoom 2 4 lcd ge unus unope...</td>\n",
       "      <td>None</td>\n",
       "      <td>www.ebay.com</td>\n",
       "    </tr>\n",
       "    <tr>\n",
       "      <th>4</th>\n",
       "      <td>www.ebay.com//54903</td>\n",
       "      <td>vivitar clip shot 1 1 mp</td>\n",
       "      <td>vivitar clip shot 1 1 mp vivitar unused unopen...</td>\n",
       "      <td>vivitar clip shot 1 1 mp</td>\n",
       "      <td>vivitar clip shot 1 1 mp vivitar unus unopen u...</td>\n",
       "      <td>vivitar</td>\n",
       "      <td>www.ebay.com</td>\n",
       "    </tr>\n",
       "  </tbody>\n",
       "</table>\n",
       "</div>"
      ],
      "text/plain": [
       "               spec_id                                         page_title  \\\n",
       "0  www.ebay.com//57656                canon powershot elph 110 hs 16 1 mp   \n",
       "1  www.ebay.com//60583  canon rebel 2000 35 mm great case instruction ...   \n",
       "2  www.ebay.com//60440  canon eos rebel t3i 18 55mm 75 300mm iii lens ...   \n",
       "3  www.ebay.com//24139                   ge c1033 10 1 mp 3x zoom 2 4 lcd   \n",
       "4  www.ebay.com//54903                           vivitar clip shot 1 1 mp   \n",
       "\n",
       "                                            all_text  \\\n",
       "0  canon powershot elph 110 hs 16 1 mp canon manu...   \n",
       "1  canon rebel 2000 35 mm great case instruction ...   \n",
       "2  canon eos rebel t3i 18 55mm 75 300mm iii lens ...   \n",
       "3  ge c1033 10 1 mp 3x zoom 2 4 lcd ge unused uno...   \n",
       "4  vivitar clip shot 1 1 mp vivitar unused unopen...   \n",
       "\n",
       "                                     page_title_stem  \\\n",
       "0                canon powershot elph 110 hs 16 1 mp   \n",
       "1  canon rebel 2000 35 mm great case instruct boo...   \n",
       "2  canon eo rebel t3i 18 55mm 75 300mm iii len ki...   \n",
       "3                   ge c1033 10 1 mp 3x zoom 2 4 lcd   \n",
       "4                           vivitar clip shot 1 1 mp   \n",
       "\n",
       "                                       all_text_stem    brand          site  \n",
       "0  canon powershot elph 110 hs 16 1 mp canon manu...    canon  www.ebay.com  \n",
       "1  canon rebel 2000 35 mm great case instruct boo...    canon  www.ebay.com  \n",
       "2  canon eo rebel t3i 18 55mm 75 300mm iii len ki...    canon  www.ebay.com  \n",
       "3  ge c1033 10 1 mp 3x zoom 2 4 lcd ge unus unope...     None  www.ebay.com  \n",
       "4  vivitar clip shot 1 1 mp vivitar unus unopen u...  vivitar  www.ebay.com  "
      ]
     },
     "execution_count": 16,
     "metadata": {},
     "output_type": "execute_result"
    }
   ],
   "source": [
    "specs_df.head()"
   ]
  },
  {
   "cell_type": "code",
   "execution_count": 22,
   "metadata": {},
   "outputs": [
    {
     "name": "stderr",
     "output_type": "stream",
     "text": [
      "[nltk_data] Downloading package punkt to /home/boris/nltk_data...\n",
      "[nltk_data]   Package punkt is already up-to-date!\n"
     ]
    },
    {
     "data": {
      "text/html": [
       "<div>\n",
       "<style scoped>\n",
       "    .dataframe tbody tr th:only-of-type {\n",
       "        vertical-align: middle;\n",
       "    }\n",
       "\n",
       "    .dataframe tbody tr th {\n",
       "        vertical-align: top;\n",
       "    }\n",
       "\n",
       "    .dataframe thead th {\n",
       "        text-align: right;\n",
       "    }\n",
       "</style>\n",
       "<table border=\"1\" class=\"dataframe\">\n",
       "  <thead>\n",
       "    <tr style=\"text-align: right;\">\n",
       "      <th></th>\n",
       "      <th>spec_id</th>\n",
       "      <th>page_title</th>\n",
       "      <th>all_text</th>\n",
       "      <th>page_title_stem</th>\n",
       "      <th>all_text_stem</th>\n",
       "      <th>brand</th>\n",
       "      <th>site</th>\n",
       "    </tr>\n",
       "  </thead>\n",
       "  <tbody>\n",
       "    <tr>\n",
       "      <th>0</th>\n",
       "      <td>www.ebay.com//57656</td>\n",
       "      <td>canon powershot elph 110 hs 16 1 mp</td>\n",
       "      <td>canon powershot elph 110 hs 16 1 mp canon manu...</td>\n",
       "      <td>canon powershot elph 110 hs 16 1 mp</td>\n",
       "      <td>canon powershot elph 110 hs 16 1 mp canon manu...</td>\n",
       "      <td>canon</td>\n",
       "      <td>www.ebay.com</td>\n",
       "    </tr>\n",
       "    <tr>\n",
       "      <th>1</th>\n",
       "      <td>www.ebay.com//60583</td>\n",
       "      <td>canon rebel 2000 35 mm great case instruction ...</td>\n",
       "      <td>canon rebel 2000 35 mm great case instruction ...</td>\n",
       "      <td>canon rebel 2000 35 mm great case instruct boo...</td>\n",
       "      <td>canon rebel 2000 35 mm great case instruct boo...</td>\n",
       "      <td>canon</td>\n",
       "      <td>www.ebay.com</td>\n",
       "    </tr>\n",
       "    <tr>\n",
       "      <th>2</th>\n",
       "      <td>www.ebay.com//60440</td>\n",
       "      <td>canon eos rebel t3i 18 55mm 75 300mm iii lens ...</td>\n",
       "      <td>canon eos rebel t3i 18 55mm 75 300mm iii lens ...</td>\n",
       "      <td>canon eo rebel t3i 18 55mm 75 300mm iii len ki...</td>\n",
       "      <td>canon eo rebel t3i 18 55mm 75 300mm iii len ki...</td>\n",
       "      <td>canon</td>\n",
       "      <td>www.ebay.com</td>\n",
       "    </tr>\n",
       "    <tr>\n",
       "      <th>3</th>\n",
       "      <td>www.ebay.com//24139</td>\n",
       "      <td>ge c1033 10 1 mp 3x zoom 2 4 lcd</td>\n",
       "      <td>ge c1033 10 1 mp 3x zoom 2 4 lcd ge unused uno...</td>\n",
       "      <td>ge c1033 10 1 mp 3x zoom 2 4 lcd</td>\n",
       "      <td>ge c1033 10 1 mp 3x zoom 2 4 lcd ge unus unope...</td>\n",
       "      <td>None</td>\n",
       "      <td>www.ebay.com</td>\n",
       "    </tr>\n",
       "    <tr>\n",
       "      <th>4</th>\n",
       "      <td>www.ebay.com//54903</td>\n",
       "      <td>vivitar clip shot 1 1 mp</td>\n",
       "      <td>vivitar clip shot 1 1 mp vivitar unused unopen...</td>\n",
       "      <td>vivitar clip shot 1 1 mp</td>\n",
       "      <td>vivitar clip shot 1 1 mp vivitar unus unopen u...</td>\n",
       "      <td>vivitar</td>\n",
       "      <td>www.ebay.com</td>\n",
       "    </tr>\n",
       "  </tbody>\n",
       "</table>\n",
       "</div>"
      ],
      "text/plain": [
       "               spec_id                                         page_title  \\\n",
       "0  www.ebay.com//57656                canon powershot elph 110 hs 16 1 mp   \n",
       "1  www.ebay.com//60583  canon rebel 2000 35 mm great case instruction ...   \n",
       "2  www.ebay.com//60440  canon eos rebel t3i 18 55mm 75 300mm iii lens ...   \n",
       "3  www.ebay.com//24139                   ge c1033 10 1 mp 3x zoom 2 4 lcd   \n",
       "4  www.ebay.com//54903                           vivitar clip shot 1 1 mp   \n",
       "\n",
       "                                            all_text  \\\n",
       "0  canon powershot elph 110 hs 16 1 mp canon manu...   \n",
       "1  canon rebel 2000 35 mm great case instruction ...   \n",
       "2  canon eos rebel t3i 18 55mm 75 300mm iii lens ...   \n",
       "3  ge c1033 10 1 mp 3x zoom 2 4 lcd ge unused uno...   \n",
       "4  vivitar clip shot 1 1 mp vivitar unused unopen...   \n",
       "\n",
       "                                     page_title_stem  \\\n",
       "0                canon powershot elph 110 hs 16 1 mp   \n",
       "1  canon rebel 2000 35 mm great case instruct boo...   \n",
       "2  canon eo rebel t3i 18 55mm 75 300mm iii len ki...   \n",
       "3                   ge c1033 10 1 mp 3x zoom 2 4 lcd   \n",
       "4                           vivitar clip shot 1 1 mp   \n",
       "\n",
       "                                       all_text_stem    brand          site  \n",
       "0  canon powershot elph 110 hs 16 1 mp canon manu...    canon  www.ebay.com  \n",
       "1  canon rebel 2000 35 mm great case instruct boo...    canon  www.ebay.com  \n",
       "2  canon eo rebel t3i 18 55mm 75 300mm iii len ki...    canon  www.ebay.com  \n",
       "3  ge c1033 10 1 mp 3x zoom 2 4 lcd ge unus unope...     None  www.ebay.com  \n",
       "4  vivitar clip shot 1 1 mp vivitar unus unopen u...  vivitar  www.ebay.com  "
      ]
     },
     "execution_count": 22,
     "metadata": {},
     "output_type": "execute_result"
    }
   ],
   "source": [
    "specs_df = preprocess_specs_dataset(specs_df)\n",
    "specs_df.head()"
   ]
  },
  {
   "cell_type": "code",
   "execution_count": 23,
   "metadata": {},
   "outputs": [
    {
     "data": {
      "text/plain": [
       "array([['2015 waterproof case sale waterproof case waterproof shockproof case waterproof case nikon',\n",
       "        '2015 waterproof case sale waterproof case waterproof shockproof case waterproof case nikon us piece get latest 1000 western union shenzhen 30000 per month'],\n",
       "       ['nikon d5100 18 55mm vr 3 lens 16gb case filters battery',\n",
       "        'delivers lifelike images vivid colors reduced noise smooth tonal gradations enables capture action four frames per second nikon d5100 18 55mm vr 3 lens 16gb case filters battery included 1 76 28 maximum minimum 22 video mono yes 1x rechargeable battery pack nikon case bag extra battery flash lens memory card dx crop factor interchangeable lenses unused unopened undamaged original packaging packaging applicable packaging found retail store unless handmade packaged manufacturer packaging unprinted box plastic bag seller full details opens window tab read moreabout microphone av output hdmi c mini usb 4 fps discovered defective upon receipt replaced model 7 approx cm cm 3 rear screen lcd 921000 dedicated button right next makes easy keep steady switch recording stills movies mode keeps everything focus monitor special effects mode enable unique shots supports use external microphone offers 30p 25p 24p frame rates image sensor cleaning airflow control systems keep dust away image sensor clear images optimizes technologies superior performance maximum image quality modes aperture priority auto manual program shutter priority lets edit enhance photos movies offers range effects filters including perspective control soft focus color outline transforms photo line drawing hot shoe still images jpeg raw movies audio linear pcm front'],\n",
       "       ['super case gopro hero 3 case gopro case case',\n",
       "        'super case gopro hero 3 case gopro case case us piece get latest 1000 western union moneygram shenzhen 100000 per month'],\n",
       "       ['hot products 2014 hikvision ds 2mp dome network hot products 2014 hot products ir indoor',\n",
       "        'hot products 2014 hikvision ds 2mp dome network hot products 2014 hot products ir indoor 355 tilt 0 75 rotation 0 355 intrusion detection defocus detection motion detection face detection dynamic analysis tampering alarm network disconnect ip address conflict storage exception dc drive 32 kbps 16 mbps support image sensor progressive scan cmossignal system illumination lux agc 0 lux ir lux agc 0 lux irshutter time 1 slens mm angle view mount 14auto iris dc driveadjustment range 355 tilt 0 75 rotation 0 355day night ir cut filter auto switchwide dynamic range wdrdigital noise reduction 3d dnr 1 rj45 10m 100m ethernet interface 1 interface video compression mpeg4 mjpegbit rate 32 kbps 16 mbpsaudio compression streams yes ir cut filter auto switch 3d dnr 140 mm support 50hz 25fps 1920 1080 25fps 1280 960 25fps 1280 720 60hz 30fps 1920 1080 30fps 1280 960 30fps 1280 720 operating conditions c 60 c f 140 f humidity 95 less power supply 12 vdc 10 poe power consumption max 6 w max 9 w ir 2w motorized vf lens 1w impact protection 50j en50102 ik10ir range approx 10 30 metersdimensions 140 mm weight 1400 g lbs support max image resolution 1920x1080frame rate'],\n",
       "       ['waterproof 2014 design bag case canon 550d case canon 550d cheap bag bag',\n",
       "        'waterproof 2014 design bag case canon 550d case canon 550d cheap bag bag 1 lenses red pink grey purple army green eirmai days oem days frosted polyester within 40 days receiving deposit eirmai oem welcomed 1pc pp bag paypal escrow western union eirmai payment shipment oem deposit balance shipment 80pcs eirmai days oem days']],\n",
       "      dtype=object)"
      ]
     },
     "execution_count": 23,
     "metadata": {},
     "output_type": "execute_result"
    }
   ],
   "source": [
    "specs_df.sample(5)[['page_title', 'all_text']].values"
   ]
  },
  {
   "cell_type": "code",
   "execution_count": 24,
   "metadata": {},
   "outputs": [],
   "source": [
    "specs_df.to_csv('../data/processed/specs_preprocessed.csv', index=None)"
   ]
  },
  {
   "cell_type": "markdown",
   "metadata": {},
   "source": [
    "# Make classes from labels"
   ]
  },
  {
   "cell_type": "markdown",
   "metadata": {},
   "source": [
    "Each class - camera model. All specs that are duplicates of eachother consitute the same class. In a graph one class = one connected component."
   ]
  },
  {
   "cell_type": "code",
   "execution_count": 88,
   "metadata": {},
   "outputs": [
    {
     "data": {
      "text/plain": [
       "(908, 2)"
      ]
     },
     "execution_count": 88,
     "metadata": {},
     "output_type": "execute_result"
    }
   ],
   "source": [
    "classes_df = make_classes_df(pd.concat([med_labels_df, lg_no_overlap_df], axis=0))\n",
    "classes_df.shape"
   ]
  },
  {
   "cell_type": "code",
   "execution_count": 93,
   "metadata": {},
   "outputs": [
    {
     "data": {
      "text/plain": [
       "6     178\n",
       "2     130\n",
       "11     95\n",
       "4      91\n",
       "13     80\n",
       "7      78\n",
       "9      57\n",
       "1      55\n",
       "12     16\n",
       "24     14\n",
       "10     14\n",
       "19     11\n",
       "20      9\n",
       "5       9\n",
       "23      9\n",
       "3       9\n",
       "17      7\n",
       "0       6\n",
       "14      5\n",
       "16      5\n",
       "18      5\n",
       "15      4\n",
       "21      4\n",
       "26      4\n",
       "25      3\n",
       "28      2\n",
       "8       2\n",
       "22      2\n",
       "27      2\n",
       "29      2\n",
       "Name: class_, dtype: int64"
      ]
     },
     "execution_count": 93,
     "metadata": {},
     "output_type": "execute_result"
    }
   ],
   "source": [
    "classes_df.class_.value_counts()"
   ]
  },
  {
   "cell_type": "code",
   "execution_count": 77,
   "metadata": {},
   "outputs": [
    {
     "data": {
      "text/html": [
       "<div>\n",
       "<style scoped>\n",
       "    .dataframe tbody tr th:only-of-type {\n",
       "        vertical-align: middle;\n",
       "    }\n",
       "\n",
       "    .dataframe tbody tr th {\n",
       "        vertical-align: top;\n",
       "    }\n",
       "\n",
       "    .dataframe thead th {\n",
       "        text-align: right;\n",
       "    }\n",
       "</style>\n",
       "<table border=\"1\" class=\"dataframe\">\n",
       "  <thead>\n",
       "    <tr style=\"text-align: right;\">\n",
       "      <th></th>\n",
       "      <th>spec_id</th>\n",
       "      <th>class_</th>\n",
       "    </tr>\n",
       "  </thead>\n",
       "  <tbody>\n",
       "    <tr>\n",
       "      <th>0</th>\n",
       "      <td>buy.net//5641</td>\n",
       "      <td>0</td>\n",
       "    </tr>\n",
       "    <tr>\n",
       "      <th>1</th>\n",
       "      <td>www.ebay.com//58588</td>\n",
       "      <td>0</td>\n",
       "    </tr>\n",
       "    <tr>\n",
       "      <th>2</th>\n",
       "      <td>www.gosale.com//849</td>\n",
       "      <td>0</td>\n",
       "    </tr>\n",
       "    <tr>\n",
       "      <th>3</th>\n",
       "      <td>www.price-hunt.com//9794</td>\n",
       "      <td>0</td>\n",
       "    </tr>\n",
       "    <tr>\n",
       "      <th>4</th>\n",
       "      <td>buy.net//5698</td>\n",
       "      <td>1</td>\n",
       "    </tr>\n",
       "  </tbody>\n",
       "</table>\n",
       "</div>"
      ],
      "text/plain": [
       "                    spec_id  class_\n",
       "0             buy.net//5641       0\n",
       "1       www.ebay.com//58588       0\n",
       "2       www.gosale.com//849       0\n",
       "3  www.price-hunt.com//9794       0\n",
       "4             buy.net//5698       1"
      ]
     },
     "execution_count": 77,
     "metadata": {},
     "output_type": "execute_result"
    }
   ],
   "source": [
    "classes_df.head()"
   ]
  },
  {
   "cell_type": "code",
   "execution_count": 94,
   "metadata": {},
   "outputs": [
    {
     "data": {
      "text/plain": [
       "(908, 2)"
      ]
     },
     "execution_count": 94,
     "metadata": {},
     "output_type": "execute_result"
    }
   ],
   "source": [
    "classes_df.drop_duplicates().shape"
   ]
  },
  {
   "cell_type": "code",
   "execution_count": 95,
   "metadata": {},
   "outputs": [],
   "source": [
    "classes_df.to_csv('../data/interim/classes.csv', index=None)"
   ]
  },
  {
   "cell_type": "markdown",
   "metadata": {},
   "source": [
    "# Make embedding"
   ]
  },
  {
   "cell_type": "code",
   "execution_count": 133,
   "metadata": {},
   "outputs": [
    {
     "name": "stderr",
     "output_type": "stream",
     "text": [
      "[nltk_data] Downloading package punkt to /home/boris/nltk_data...\n",
      "[nltk_data]   Package punkt is already up-to-date!\n"
     ]
    }
   ],
   "source": [
    "emb = Embedder(vector_size=100,\n",
    "               train_epochs=100,\n",
    "               index_trees=1000)"
   ]
  },
  {
   "cell_type": "code",
   "execution_count": null,
   "metadata": {},
   "outputs": [
    {
     "name": "stdout",
     "output_type": "stream",
     "text": [
      "Epoch #10\n",
      "Epoch #20\n",
      "Epoch #30\n",
      "Epoch #40\n",
      "Epoch #50\n",
      "Epoch #60\n",
      "Epoch #70\n",
      "Epoch #80\n",
      "Epoch #90\n",
      "Epoch #100\n"
     ]
    },
    {
     "name": "stderr",
     "output_type": "stream",
     "text": [
      "/home/boris/anaconda3/lib/python3.6/site-packages/gensim/similarities/index.py:184: FutureWarning: The default argument for metric will be removed in future version of Annoy. Please pass metric='angular' explicitly.\n",
      "  index = AnnoyIndex(num_features)\n"
     ]
    }
   ],
   "source": [
    "emb.fit(specs_df.page_title_stem, specs_df.spec_id)"
   ]
  },
  {
   "cell_type": "markdown",
   "metadata": {},
   "source": [
    "Quick test by eye"
   ]
  },
  {
   "cell_type": "code",
   "execution_count": null,
   "metadata": {},
   "outputs": [],
   "source": [
    "random_row = specs_df.sample(1).iloc[0]\n",
    "text, spec_id = random_row.page_title_stem, random_row.spec_id\n",
    "\n",
    "nns = emb_lookup(text, emb, indexer)\n",
    "\n",
    "nn_pairs = []\n",
    "for nn in nns:\n",
    "    nn_spec_id, dist = nn\n",
    "    nn_row = specs_df[specs_df.spec_id == nn_spec_id].iloc[0]\n",
    "    nn_pairs.append((nn_row.spec_id, nn_row.page_title_stem))\n",
    "print(f'[{spec_id}] ', text)\n",
    "print('')\n",
    "print('Most similar')\n",
    "for pair in nn_pairs:\n",
    "    print(f'[{pair[0]}] ', pair[1])"
   ]
  },
  {
   "cell_type": "code",
   "execution_count": null,
   "metadata": {},
   "outputs": [],
   "source": [
    "emb.save('../models/embedder')"
   ]
  },
  {
   "cell_type": "markdown",
   "metadata": {},
   "source": [
    "# Make features for classifier"
   ]
  },
  {
   "cell_type": "code",
   "execution_count": null,
   "metadata": {},
   "outputs": [],
   "source": [
    "spec_features_df, vectorizers, site_le = make_features(specs_df)"
   ]
  },
  {
   "cell_type": "code",
   "execution_count": null,
   "metadata": {},
   "outputs": [],
   "source": [
    "spec_features_df.shape"
   ]
  },
  {
   "cell_type": "code",
   "execution_count": null,
   "metadata": {},
   "outputs": [],
   "source": [
    "spec_features_df.head()"
   ]
  },
  {
   "cell_type": "code",
   "execution_count": null,
   "metadata": {},
   "outputs": [],
   "source": [
    "spec_features_df.info()"
   ]
  },
  {
   "cell_type": "code",
   "execution_count": null,
   "metadata": {},
   "outputs": [],
   "source": [
    "spec_features_df = specs_df.merge(spec_features_df, on='spec_id', how='left')"
   ]
  },
  {
   "cell_type": "code",
   "execution_count": null,
   "metadata": {},
   "outputs": [],
   "source": [
    "spec_features_df.head()"
   ]
  },
  {
   "cell_type": "code",
   "execution_count": null,
   "metadata": {},
   "outputs": [],
   "source": [
    "spec_features_df.to_csv('../data/processed/specs_features.csv', index=None)"
   ]
  },
  {
   "cell_type": "markdown",
   "metadata": {},
   "source": [
    "# Make labelled dataset"
   ]
  },
  {
   "cell_type": "code",
   "execution_count": null,
   "metadata": {},
   "outputs": [],
   "source": [
    "labels_df = make_labelled_dataset(LABELS_PATH, spec_features_df)\n",
    "labels_df.shape"
   ]
  },
  {
   "cell_type": "code",
   "execution_count": null,
   "metadata": {},
   "outputs": [],
   "source": [
    "labels_df.head()"
   ]
  },
  {
   "cell_type": "code",
   "execution_count": null,
   "metadata": {},
   "outputs": [],
   "source": [
    "labels_df.info()"
   ]
  },
  {
   "cell_type": "code",
   "execution_count": null,
   "metadata": {},
   "outputs": [],
   "source": [
    "labels_df.to_csv('../data/processed/labelled_features.csv', index=None)"
   ]
  },
  {
   "cell_type": "code",
   "execution_count": null,
   "metadata": {},
   "outputs": [],
   "source": []
  }
 ],
 "metadata": {
  "kernelspec": {
   "display_name": "Python 3",
   "language": "python",
   "name": "python3"
  },
  "language_info": {
   "codemirror_mode": {
    "name": "ipython",
    "version": 3
   },
   "file_extension": ".py",
   "mimetype": "text/x-python",
   "name": "python",
   "nbconvert_exporter": "python",
   "pygments_lexer": "ipython3",
   "version": "3.6.7"
  }
 },
 "nbformat": 4,
 "nbformat_minor": 4
}
