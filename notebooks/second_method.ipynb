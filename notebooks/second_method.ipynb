{
 "cells": [
  {
   "cell_type": "code",
   "execution_count": 1,
   "metadata": {},
   "outputs": [],
   "source": [
    "import os\n",
    "import sys\n",
    "import random\n",
    "import json\n",
    "import collections\n",
    "\n",
    "import pandas as pd\n",
    "import numpy as np\n",
    "import scipy\n",
    "import statsmodels\n",
    "from tqdm import trange, tqdm_notebook as tqdm\n",
    "\n",
    "from matplotlib import pyplot as plt\n",
    "import seaborn as sns\n",
    "%matplotlib inline\n",
    "\n",
    "\n",
    "pd.options.display.max_columns = 999\n",
    "\n",
    "sns.set()\n",
    "plt.rcParams[\"figure.figsize\"] = (10,7)"
   ]
  },
  {
   "cell_type": "code",
   "execution_count": 2,
   "metadata": {},
   "outputs": [
    {
     "data": {
      "text/plain": [
       "'/notebooks/anton/sigmod/notebooks'"
      ]
     },
     "execution_count": 2,
     "metadata": {},
     "output_type": "execute_result"
    }
   ],
   "source": [
    "os.getcwd()"
   ]
  },
  {
   "cell_type": "code",
   "execution_count": 105,
   "metadata": {},
   "outputs": [],
   "source": [
    "LG_LABELS_PATH = '../data/raw/sigmod_large_labelled_dataset.csv'"
   ]
  },
  {
   "cell_type": "code",
   "execution_count": 109,
   "metadata": {},
   "outputs": [
    {
     "data": {
      "text/html": [
       "<div>\n",
       "<style scoped>\n",
       "    .dataframe tbody tr th:only-of-type {\n",
       "        vertical-align: middle;\n",
       "    }\n",
       "\n",
       "    .dataframe tbody tr th {\n",
       "        vertical-align: top;\n",
       "    }\n",
       "\n",
       "    .dataframe thead th {\n",
       "        text-align: right;\n",
       "    }\n",
       "</style>\n",
       "<table border=\"1\" class=\"dataframe\">\n",
       "  <thead>\n",
       "    <tr style=\"text-align: right;\">\n",
       "      <th></th>\n",
       "      <th>left_spec_id</th>\n",
       "      <th>right_spec_id</th>\n",
       "      <th>label</th>\n",
       "    </tr>\n",
       "  </thead>\n",
       "  <tbody>\n",
       "    <tr>\n",
       "      <th>0</th>\n",
       "      <td>www.ebay.com//53278</td>\n",
       "      <td>www.garricks.com.au//31</td>\n",
       "      <td>1</td>\n",
       "    </tr>\n",
       "    <tr>\n",
       "      <th>1</th>\n",
       "      <td>www.ebay.com//24817</td>\n",
       "      <td>www.ebay.com//58782</td>\n",
       "      <td>0</td>\n",
       "    </tr>\n",
       "    <tr>\n",
       "      <th>2</th>\n",
       "      <td>www.ebay.com//43019</td>\n",
       "      <td>www.ebay.com//58782</td>\n",
       "      <td>0</td>\n",
       "    </tr>\n",
       "    <tr>\n",
       "      <th>3</th>\n",
       "      <td>www.ebay.com//42055</td>\n",
       "      <td>www.ebay.com//54403</td>\n",
       "      <td>0</td>\n",
       "    </tr>\n",
       "    <tr>\n",
       "      <th>4</th>\n",
       "      <td>buy.net//6145</td>\n",
       "      <td>www.ebay.com//44280</td>\n",
       "      <td>0</td>\n",
       "    </tr>\n",
       "  </tbody>\n",
       "</table>\n",
       "</div>"
      ],
      "text/plain": [
       "          left_spec_id            right_spec_id  label\n",
       "0  www.ebay.com//53278  www.garricks.com.au//31      1\n",
       "1  www.ebay.com//24817      www.ebay.com//58782      0\n",
       "2  www.ebay.com//43019      www.ebay.com//58782      0\n",
       "3  www.ebay.com//42055      www.ebay.com//54403      0\n",
       "4        buy.net//6145      www.ebay.com//44280      0"
      ]
     },
     "execution_count": 109,
     "metadata": {},
     "output_type": "execute_result"
    }
   ],
   "source": [
    "lg_labels_df = pd.read_csv(LG_LABELS_PATH)\n",
    "lg_labels_df.head()"
   ]
  },
  {
   "cell_type": "markdown",
   "metadata": {},
   "source": [
    "### Get Brands for all products"
   ]
  },
  {
   "cell_type": "code",
   "execution_count": 151,
   "metadata": {},
   "outputs": [],
   "source": [
    "from tqdm import tqdm_notebook"
   ]
  },
  {
   "cell_type": "code",
   "execution_count": 19,
   "metadata": {},
   "outputs": [],
   "source": [
    "SPECS_PATH = '../data/raw/2013_camera_specs/'"
   ]
  },
  {
   "cell_type": "code",
   "execution_count": 739,
   "metadata": {},
   "outputs": [],
   "source": [
    "def read_json(path):\n",
    "    with open(path, 'r') as f:\n",
    "        return json.load(f)\n",
    "    \n",
    "def pprint_json(json_):\n",
    "    print(json.dumps(json_, indent=4, sort_keys=True))"
   ]
  },
  {
   "cell_type": "markdown",
   "metadata": {},
   "source": [
    "getting all titles and brands form specs"
   ]
  },
  {
   "cell_type": "code",
   "execution_count": 924,
   "metadata": {},
   "outputs": [],
   "source": [
    "from collections import defaultdict\n",
    "brands = defaultdict(list)\n",
    "titles = []\n",
    "sps = []\n",
    "title_name = []\n",
    "for site in site_folders:\n",
    "    specs = os.path.join(SPECS_PATH, site)\n",
    "    for i, spec in enumerate(os.listdir(specs)):\n",
    "        spec_path = os.path.join(specs, spec)\n",
    "        js = read_json(spec_path)\n",
    "        brand = js.get('brand')\n",
    "        title = js.get('<page title>')\n",
    "        if isinstance(brand, list):\n",
    "            continue\n",
    "        if brand:\n",
    "            brand = re.sub('[^a-z0-9] ', '', brand.lower())\n",
    "            brands[brand].append(len(titles))\n",
    "        title = re.sub('[^a-z0-9]', ' ', title.lower())\n",
    "        title = re.sub(' +', ' ', title)\n",
    "        titles.append(title)\n",
    "        title_name.append(site+'//'+spec[:-5])\n",
    "        sps.append(js)"
   ]
  },
  {
   "cell_type": "markdown",
   "metadata": {},
   "source": [
    "add some brands from internal knowledges"
   ]
  },
  {
   "cell_type": "code",
   "execution_count": 864,
   "metadata": {},
   "outputs": [],
   "source": [
    "list_of_brands = list(brands.keys())\n",
    "list_of_brands.append('cctv')\n",
    "list_of_brands.append('ip')\n",
    "list_of_brands.append('binoculars')\n",
    "list_of_brands.append('sekonic')\n",
    "list_of_brands.append('samyang')\n",
    "list_of_brands.append('lexar')\n",
    "list_of_brands.append('ksm')\n",
    "list_of_brands.append('uv')\n",
    "list_of_brands.append('hoya')\n",
    "list_of_brands.append('dahua')\n",
    "list_of_brands.append('hikvision')\n",
    "list_of_brands.append('colorpix')\n",
    "list_of_brands.append('onvif')"
   ]
  },
  {
   "cell_type": "markdown",
   "metadata": {},
   "source": [
    "drop all brands with less then 10 examples"
   ]
  },
  {
   "cell_type": "code",
   "execution_count": 865,
   "metadata": {},
   "outputs": [
    {
     "name": "stderr",
     "output_type": "stream",
     "text": [
      "/usr/local/lib/python3.6/dist-packages/ipykernel_launcher.py:4: TqdmDeprecationWarning: This function will be removed in tqdm==5.0.0\n",
      "Please use `tqdm.notebook.tqdm` instead of `tqdm.tqdm_notebook`\n",
      "  after removing the cwd from sys.path.\n"
     ]
    },
    {
     "data": {
      "application/vnd.jupyter.widget-view+json": {
       "model_id": "ebb93bddea6042089a9c74f796ec8c2e",
       "version_major": 2,
       "version_minor": 0
      },
      "text/plain": [
       "HBox(children=(FloatProgress(value=1.0, bar_style='info', max=1.0), HTML(value='')))"
      ]
     },
     "metadata": {},
     "output_type": "display_data"
    },
    {
     "name": "stdout",
     "output_type": "stream",
     "text": [
      "\n"
     ]
    }
   ],
   "source": [
    "br_in = defaultdict(int)\n",
    "br_num = defaultdict(list)\n",
    "emp = []\n",
    "for i, title in tqdm_notebook(enumerate(titles)):\n",
    "    list_title = title.split(' ')\n",
    "    z = 0\n",
    "    for word in list_title:\n",
    "        if word in list_of_brands:\n",
    "            br_in[word] += 1\n",
    "            br_num[word].append(i)\n",
    "            z = 1\n",
    "    if z == 0:\n",
    "        emp.append(i)\n",
    "        \n",
    "for key, val in tuple(br_in.items()):\n",
    "    if val < 10:\n",
    "        br_in.pop(key)\n",
    "        br_num.pop(key)\n",
    "        emp.append(k)"
   ]
  },
  {
   "cell_type": "markdown",
   "metadata": {},
   "source": [
    "for each title get it's brand number"
   ]
  },
  {
   "cell_type": "code",
   "execution_count": 893,
   "metadata": {},
   "outputs": [],
   "source": [
    "br_num['nonbrand'] = 0\n",
    "not_brand = set(('eos', 'action', 'shoot', 'new', 'class', 'neopine', 'ion', 'sharp', 'fuji', 'tamron'))\n",
    "brands = set(br_num.keys()) - not_brand"
   ]
  },
  {
   "cell_type": "code",
   "execution_count": 894,
   "metadata": {},
   "outputs": [],
   "source": [
    "brand_to_num = {brand:i for i, brand in enumerate(brands)} \n",
    "num_to_brand = {i:brand for i, brand in enumerate(brands)} "
   ]
  },
  {
   "cell_type": "code",
   "execution_count": 895,
   "metadata": {},
   "outputs": [
    {
     "name": "stderr",
     "output_type": "stream",
     "text": [
      "/usr/local/lib/python3.6/dist-packages/ipykernel_launcher.py:3: TqdmDeprecationWarning: This function will be removed in tqdm==5.0.0\n",
      "Please use `tqdm.notebook.tqdm` instead of `tqdm.tqdm_notebook`\n",
      "  This is separate from the ipykernel package so we can avoid doing imports until\n"
     ]
    },
    {
     "data": {
      "application/vnd.jupyter.widget-view+json": {
       "model_id": "",
       "version_major": 2,
       "version_minor": 0
      },
      "text/plain": [
       "HBox(children=(FloatProgress(value=1.0, bar_style='info', max=1.0), HTML(value='')))"
      ]
     },
     "metadata": {},
     "output_type": "display_data"
    },
    {
     "name": "stdout",
     "output_type": "stream",
     "text": [
      "\n"
     ]
    }
   ],
   "source": [
    "br_finish = defaultdict(list)\n",
    "title_labels = []\n",
    "for i, title in tqdm_notebook(enumerate(titles)):\n",
    "    title = re.sub('[^a-z0-9]', ' ', title.lower())\n",
    "    title = re.sub(' +', ' ', title)\n",
    "    title = title.replace('cannon', 'canon')\n",
    "\n",
    "    if 'fuji' in title:\n",
    "        title_labels.append(brand_to_num['fujifilm'])\n",
    "        br_finish['fujifilm'].append(i)\n",
    "        continue\n",
    "\n",
    "    if 'eos' in title:\n",
    "        title_labels.append(brand_to_num['canon'])\n",
    "        br_finish['canon'].append(i)\n",
    "        continue\n",
    "\n",
    "    for br in brands:\n",
    "        if br + ' ' in title or ' ' + br in title:\n",
    "            title_labels.append(brand_to_num[br])\n",
    "            br_finish[br].append(i)\n",
    "            break\n",
    "    else:\n",
    "        title_labels.append(brand_to_num['nonbrand'])\n",
    "        br_finish['nonbrand'].append(i)"
   ]
  },
  {
   "cell_type": "markdown",
   "metadata": {},
   "source": [
    "len(set(tuple(br_num['telesin'])) & set(tuple(br_num['gopro']))) # not shure merge or not\n",
    "\n",
    "len(set(tuple(br_num['dv'])) & set(tuple(br_num['sony'])))"
   ]
  },
  {
   "cell_type": "markdown",
   "metadata": {},
   "source": [
    "Check whether are dublicates from labels in the came class "
   ]
  },
  {
   "cell_type": "code",
   "execution_count": 872,
   "metadata": {},
   "outputs": [],
   "source": [
    "LG_LABELS_PATH = '../data/raw/sigmod_large_labelled_dataset.csv'\n",
    "labels_df = pd.read_csv(LG_LABELS_PATH)\n",
    "title_name = np.array(title_name)"
   ]
  },
  {
   "cell_type": "code",
   "execution_count": 923,
   "metadata": {},
   "outputs": [
    {
     "name": "stderr",
     "output_type": "stream",
     "text": [
      "/usr/local/lib/python3.6/dist-packages/ipykernel_launcher.py:2: TqdmDeprecationWarning: This function will be removed in tqdm==5.0.0\n",
      "Please use `tqdm.notebook.tqdm` instead of `tqdm.tqdm_notebook`\n",
      "  \n"
     ]
    },
    {
     "data": {
      "application/vnd.jupyter.widget-view+json": {
       "model_id": "",
       "version_major": 2,
       "version_minor": 0
      },
      "text/plain": [
       "HBox(children=(FloatProgress(value=1.0, bar_style='info', max=1.0), HTML(value='')))"
      ]
     },
     "metadata": {},
     "output_type": "display_data"
    },
    {
     "name": "stdout",
     "output_type": "stream",
     "text": [
      "\n"
     ]
    }
   ],
   "source": [
    "\n",
    "bad_examples = []\n",
    "for i, (first_it, second_it, cl) in tqdm_notebook(enumerate(np.array(labels_df))):\n",
    "    id_f = np.where(title_name == first_it)[0][0]\n",
    "    id_sec = np.where(title_name == second_it)[0][0]\n",
    "\n",
    "    if title_labels[id_f] != title_labels[id_sec] and cl == '1':\n",
    "        print('ALERT')\n",
    "        bad_examples.append([first_it, second_it, cl, id_f, id_sec])\n",
    "#     elif title_labels[id_f] == title_labels[id_sec] and:\n",
    "#         print('ALERT2')\n",
    "#         break"
   ]
  },
  {
   "cell_type": "markdown",
   "metadata": {},
   "source": [
    "### Get model for all products"
   ]
  },
  {
   "cell_type": "code",
   "execution_count": 931,
   "metadata": {},
   "outputs": [],
   "source": [
    "from collections import defaultdict\n",
    "models = defaultdict(list)\n",
    "z = 0\n",
    "for site in site_folders:\n",
    "    specs = os.path.join(SPECS_PATH, site)\n",
    "    for i, spec in enumerate(os.listdir(specs)):\n",
    "        spec_path = os.path.join(specs, spec)\n",
    "        js = read_json(spec_path)\n",
    "        model = js.get('model')\n",
    "        if isinstance(model, list):\n",
    "            model = ' '.join(model)\n",
    "        if model:\n",
    "            model = re.sub('[^a-z0-9] ', '', model.lower())\n",
    "            models[model].append(z)\n",
    "        z +=1"
   ]
  },
  {
   "cell_type": "code",
   "execution_count": 941,
   "metadata": {},
   "outputs": [],
   "source": [
    "from sigmod_src.data.make_dataset import make_specs_dataset, preprocess_specs_dataset, make_labelled_dataset \n",
    "from sigmod_src.features.build_features import make_features"
   ]
  },
  {
   "cell_type": "code",
   "execution_count": 938,
   "metadata": {},
   "outputs": [
    {
     "name": "stdout",
     "output_type": "stream",
     "text": [
      "Warning, dropped 16 rows containing null page titles\n"
     ]
    },
    {
     "ename": "NameError",
     "evalue": "name 'make_features' is not defined",
     "output_type": "error",
     "traceback": [
      "\u001b[0;31m---------------------------------------------------------------------------\u001b[0m",
      "\u001b[0;31mNameError\u001b[0m                                 Traceback (most recent call last)",
      "\u001b[0;32m<ipython-input-938-89611b5bb71a>\u001b[0m in \u001b[0;36m<module>\u001b[0;34m\u001b[0m\n\u001b[1;32m      2\u001b[0m \u001b[0mspecs_df\u001b[0m \u001b[0;34m=\u001b[0m \u001b[0mmake_specs_dataset\u001b[0m\u001b[0;34m(\u001b[0m\u001b[0mSPECS_PATH\u001b[0m\u001b[0;34m)\u001b[0m\u001b[0;34m\u001b[0m\u001b[0;34m\u001b[0m\u001b[0m\n\u001b[1;32m      3\u001b[0m \u001b[0mspecs_df\u001b[0m \u001b[0;34m=\u001b[0m \u001b[0mpreprocess_specs_dataset\u001b[0m\u001b[0;34m(\u001b[0m\u001b[0mspecs_df\u001b[0m\u001b[0;34m)\u001b[0m\u001b[0;34m\u001b[0m\u001b[0;34m\u001b[0m\u001b[0m\n\u001b[0;32m----> 4\u001b[0;31m \u001b[0mspec_features_df\u001b[0m\u001b[0;34m,\u001b[0m \u001b[0mvectorizers\u001b[0m\u001b[0;34m,\u001b[0m \u001b[0msite_le\u001b[0m \u001b[0;34m=\u001b[0m \u001b[0mmake_features\u001b[0m\u001b[0;34m(\u001b[0m\u001b[0mspecs_df\u001b[0m\u001b[0;34m)\u001b[0m\u001b[0;34m\u001b[0m\u001b[0;34m\u001b[0m\u001b[0m\n\u001b[0m",
      "\u001b[0;31mNameError\u001b[0m: name 'make_features' is not defined"
     ]
    }
   ],
   "source": [
    "SPECS_PATH = '../data/raw/2013_camera_specs/'\n",
    "specs_df = make_specs_dataset(SPECS_PATH)\n",
    "specs_df = preprocess_specs_dataset(specs_df)"
   ]
  },
  {
   "cell_type": "code",
   "execution_count": 942,
   "metadata": {},
   "outputs": [],
   "source": [
    "spec_features_df, vectorizers, site_le = make_features(specs_df)\n",
    "spec_features_df = specs_df.merge(spec_features_df, on='spec_id', how='left')"
   ]
  },
  {
   "cell_type": "code",
   "execution_count": 943,
   "metadata": {},
   "outputs": [],
   "source": [
    "labels_df = make_labelled_dataset(LG_LABELS_PATH, spec_features_df)"
   ]
  },
  {
   "cell_type": "code",
   "execution_count": null,
   "metadata": {},
   "outputs": [],
   "source": [
    "labels_df.to_csv('../data/processed/labelled_features.csv', index=None)"
   ]
  },
  {
   "cell_type": "code",
   "execution_count": null,
   "metadata": {},
   "outputs": [],
   "source": [
    "labelled_dataset_path = '../data/processed/labelled_features.csv'\n",
    "df = pd.read_csv(labelled_dataset_path)"
   ]
  },
  {
   "cell_type": "code",
   "execution_count": null,
   "metadata": {},
   "outputs": [],
   "source": [
    "from sklearn.model_selection import train_test_split"
   ]
  },
  {
   "cell_type": "code",
   "execution_count": null,
   "metadata": {},
   "outputs": [],
   "source": [
    "X = df.drop(['label', 'left_spec_id', 'right_spec_id'], axis=1)\n",
    "Y = df.label"
   ]
  },
  {
   "cell_type": "code",
   "execution_count": null,
   "metadata": {},
   "outputs": [],
   "source": [
    "train_X, test_X, train_Y, test_Y = train_test_split(X, Y, stratify=Y)\n",
    "train_Y.shape, test_Y.shape"
   ]
  },
  {
   "cell_type": "code",
   "execution_count": 24,
   "metadata": {
    "Collapsed": "false"
   },
   "outputs": [],
   "source": [
    "from sklearn.metrics import f1_score, plot_confusion_matrix, classification_report"
   ]
  },
  {
   "cell_type": "code",
   "execution_count": 23,
   "metadata": {
    "Collapsed": "false"
   },
   "outputs": [],
   "source": [
    "from lightgbm import LGBMClassifier"
   ]
  },
  {
   "cell_type": "code",
   "execution_count": 25,
   "metadata": {
    "Collapsed": "false"
   },
   "outputs": [
    {
     "data": {
      "text/plain": [
       "0    32312\n",
       "1     2686\n",
       "Name: label, dtype: int64"
      ]
     },
     "execution_count": 25,
     "metadata": {},
     "output_type": "execute_result"
    }
   ],
   "source": [
    "train_Y.value_counts()"
   ]
  },
  {
   "cell_type": "code",
   "execution_count": 26,
   "metadata": {
    "Collapsed": "false"
   },
   "outputs": [
    {
     "data": {
      "text/plain": [
       "0    10771\n",
       "1      896\n",
       "Name: label, dtype: int64"
      ]
     },
     "execution_count": 26,
     "metadata": {},
     "output_type": "execute_result"
    }
   ],
   "source": [
    "test_Y.value_counts()"
   ]
  },
  {
   "cell_type": "code",
   "execution_count": 28,
   "metadata": {
    "Collapsed": "false"
   },
   "outputs": [
    {
     "data": {
      "text/plain": [
       "12.027638190954773"
      ]
     },
     "execution_count": 28,
     "metadata": {},
     "output_type": "execute_result"
    }
   ],
   "source": [
    "sample_pos_weight = Y.value_counts()[0] / Y.value_counts()[1]\n",
    "sample_pos_weight"
   ]
  },
  {
   "cell_type": "code",
   "execution_count": 29,
   "metadata": {
    "Collapsed": "false"
   },
   "outputs": [],
   "source": [
    "clf = LGBMClassifier(sample_pos_weight=sample_pos_weight)"
   ]
  },
  {
   "cell_type": "code",
   "execution_count": 30,
   "metadata": {
    "Collapsed": "false"
   },
   "outputs": [
    {
     "data": {
      "text/plain": [
       "LGBMClassifier(boosting_type='gbdt', class_weight=None, colsample_bytree=1.0,\n",
       "               learning_rate=0.1, max_depth=-1, min_child_samples=20,\n",
       "               min_child_weight=0.001, min_split_gain=0.0, n_estimators=100,\n",
       "               n_jobs=-1, num_leaves=31, objective=None, random_state=None,\n",
       "               reg_alpha=0.0, reg_lambda=0.0,\n",
       "               sample_pos_weight=12.027638190954773, silent=True, subsample=1.0,\n",
       "               subsample_for_bin=200000, subsample_freq=1)"
      ]
     },
     "execution_count": 30,
     "metadata": {},
     "output_type": "execute_result"
    }
   ],
   "source": [
    "clf.fit(train_X, train_Y)"
   ]
  },
  {
   "cell_type": "code",
   "execution_count": 37,
   "metadata": {
    "Collapsed": "false"
   },
   "outputs": [],
   "source": [
    "pred_train_Y = clf.predict(train_X)"
   ]
  },
  {
   "cell_type": "code",
   "execution_count": 38,
   "metadata": {
    "Collapsed": "false"
   },
   "outputs": [
    {
     "name": "stdout",
     "output_type": "stream",
     "text": [
      "Train F1 0.9992548435171386\n",
      "              precision    recall  f1-score   support\n",
      "\n",
      "           0       1.00      1.00      1.00     32312\n",
      "           1       1.00      1.00      1.00      2686\n",
      "\n",
      "    accuracy                           1.00     34998\n",
      "   macro avg       1.00      1.00      1.00     34998\n",
      "weighted avg       1.00      1.00      1.00     34998\n",
      "\n"
     ]
    }
   ],
   "source": [
    "print('Train F1', f1_score(train_Y, pred_train_Y))\n",
    "print(classification_report(train_Y, pred_train_Y))"
   ]
  }
 ],
 "metadata": {
  "kernelspec": {
   "display_name": "Python 3",
   "language": "python",
   "name": "python3"
  },
  "language_info": {
   "codemirror_mode": {
    "name": "ipython",
    "version": 3
   },
   "file_extension": ".py",
   "mimetype": "text/x-python",
   "name": "python",
   "nbconvert_exporter": "python",
   "pygments_lexer": "ipython3",
   "version": "3.6.9"
  }
 },
 "nbformat": 4,
 "nbformat_minor": 4
}
