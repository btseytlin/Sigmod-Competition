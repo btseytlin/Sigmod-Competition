{
 "cells": [
  {
   "cell_type": "code",
   "execution_count": 1,
   "metadata": {
    "Collapsed": "false"
   },
   "outputs": [],
   "source": [
    "from rank_bm25 import BM25Okapi"
   ]
  },
  {
   "cell_type": "code",
   "execution_count": 101,
   "metadata": {
    "Collapsed": "false"
   },
   "outputs": [],
   "source": [
    "import os\n",
    "import sys\n",
    "import random\n",
    "import math\n",
    "import json\n",
    "import collections\n",
    "import itertools\n",
    "\n",
    "import pandas as pd\n",
    "import numpy as np\n",
    "import scipy        \n",
    "import statsmodels\n",
    "\n",
    "\n",
    "from tqdm import trange, tqdm_notebook as tqdm\n",
    "from matplotlib import pyplot as plt\n",
    "import seaborn as sns\n",
    "%matplotlib inline\n",
    "\n",
    "pd.options.display.max_columns = 999\n",
    "\n",
    "sns.set()\n",
    "\n",
    "plt.rcParams[\"figure.figsize\"] = (10,7)"
   ]
  },
  {
   "cell_type": "code",
   "execution_count": 102,
   "metadata": {
    "Collapsed": "false"
   },
   "outputs": [
    {
     "data": {
      "text/plain": [
       "'/home/boris/study/UT study/ACM Sigmod/sigmod/notebooks'"
      ]
     },
     "execution_count": 102,
     "metadata": {},
     "output_type": "execute_result"
    }
   ],
   "source": [
    "os.getcwd()"
   ]
  },
  {
   "cell_type": "code",
   "execution_count": 103,
   "metadata": {
    "Collapsed": "false"
   },
   "outputs": [
    {
     "name": "stdout",
     "output_type": "stream",
     "text": [
      "The autoreload extension is already loaded. To reload it, use:\n",
      "  %reload_ext autoreload\n"
     ]
    }
   ],
   "source": [
    "%load_ext autoreload\n",
    "%autoreload 2"
   ]
  },
  {
   "cell_type": "code",
   "execution_count": 108,
   "metadata": {
    "Collapsed": "false"
   },
   "outputs": [],
   "source": [
    "from sigmod_src.utils import read_json, pprint_json, path_from_spec_id, get_vector_for_spec_id"
   ]
  },
  {
   "cell_type": "markdown",
   "metadata": {
    "Collapsed": "false"
   },
   "source": [
    "# Load labels data"
   ]
  },
  {
   "cell_type": "code",
   "execution_count": 109,
   "metadata": {
    "Collapsed": "false"
   },
   "outputs": [],
   "source": [
    "LABELS_PATH = '../data/raw/sigmod_medium_labelled_dataset.csv'"
   ]
  },
  {
   "cell_type": "code",
   "execution_count": 110,
   "metadata": {
    "Collapsed": "false"
   },
   "outputs": [
    {
     "data": {
      "text/plain": [
       "(46665, 3)"
      ]
     },
     "execution_count": 110,
     "metadata": {},
     "output_type": "execute_result"
    }
   ],
   "source": [
    "labels_df = pd.read_csv(LABELS_PATH)\n",
    "labels_df.shape"
   ]
  },
  {
   "cell_type": "code",
   "execution_count": 111,
   "metadata": {
    "Collapsed": "false"
   },
   "outputs": [
    {
     "data": {
      "text/html": [
       "<div>\n",
       "<style scoped>\n",
       "    .dataframe tbody tr th:only-of-type {\n",
       "        vertical-align: middle;\n",
       "    }\n",
       "\n",
       "    .dataframe tbody tr th {\n",
       "        vertical-align: top;\n",
       "    }\n",
       "\n",
       "    .dataframe thead th {\n",
       "        text-align: right;\n",
       "    }\n",
       "</style>\n",
       "<table border=\"1\" class=\"dataframe\">\n",
       "  <thead>\n",
       "    <tr style=\"text-align: right;\">\n",
       "      <th></th>\n",
       "      <th>left_spec_id</th>\n",
       "      <th>right_spec_id</th>\n",
       "      <th>label</th>\n",
       "    </tr>\n",
       "  </thead>\n",
       "  <tbody>\n",
       "    <tr>\n",
       "      <th>0</th>\n",
       "      <td>www.garricks.com.au//31</td>\n",
       "      <td>www.ebay.com//53278</td>\n",
       "      <td>1</td>\n",
       "    </tr>\n",
       "    <tr>\n",
       "      <th>1</th>\n",
       "      <td>www.ebay.com//58782</td>\n",
       "      <td>www.ebay.com//24817</td>\n",
       "      <td>0</td>\n",
       "    </tr>\n",
       "    <tr>\n",
       "      <th>2</th>\n",
       "      <td>www.ebay.com//58782</td>\n",
       "      <td>www.ebay.com//43019</td>\n",
       "      <td>0</td>\n",
       "    </tr>\n",
       "    <tr>\n",
       "      <th>3</th>\n",
       "      <td>www.ebay.com//42055</td>\n",
       "      <td>www.ebay.com//54403</td>\n",
       "      <td>0</td>\n",
       "    </tr>\n",
       "    <tr>\n",
       "      <th>4</th>\n",
       "      <td>www.ebay.com//44280</td>\n",
       "      <td>buy.net//6145</td>\n",
       "      <td>0</td>\n",
       "    </tr>\n",
       "  </tbody>\n",
       "</table>\n",
       "</div>"
      ],
      "text/plain": [
       "              left_spec_id        right_spec_id  label\n",
       "0  www.garricks.com.au//31  www.ebay.com//53278      1\n",
       "1      www.ebay.com//58782  www.ebay.com//24817      0\n",
       "2      www.ebay.com//58782  www.ebay.com//43019      0\n",
       "3      www.ebay.com//42055  www.ebay.com//54403      0\n",
       "4      www.ebay.com//44280        buy.net//6145      0"
      ]
     },
     "execution_count": 111,
     "metadata": {},
     "output_type": "execute_result"
    }
   ],
   "source": [
    "labels_df.head()"
   ]
  },
  {
   "cell_type": "markdown",
   "metadata": {
    "Collapsed": "false"
   },
   "source": [
    "# Load specs data"
   ]
  },
  {
   "cell_type": "code",
   "execution_count": 133,
   "metadata": {
    "Collapsed": "false"
   },
   "outputs": [
    {
     "data": {
      "text/plain": [
       "(29771, 7)"
      ]
     },
     "execution_count": 133,
     "metadata": {},
     "output_type": "execute_result"
    }
   ],
   "source": [
    "specs_df = pd.read_csv('../data/processed/specs_preprocessed.csv')\n",
    "specs_df.index=  specs_df.spec_id\n",
    "specs_df.shape"
   ]
  },
  {
   "cell_type": "code",
   "execution_count": 134,
   "metadata": {
    "Collapsed": "false"
   },
   "outputs": [
    {
     "data": {
      "text/html": [
       "<div>\n",
       "<style scoped>\n",
       "    .dataframe tbody tr th:only-of-type {\n",
       "        vertical-align: middle;\n",
       "    }\n",
       "\n",
       "    .dataframe tbody tr th {\n",
       "        vertical-align: top;\n",
       "    }\n",
       "\n",
       "    .dataframe thead th {\n",
       "        text-align: right;\n",
       "    }\n",
       "</style>\n",
       "<table border=\"1\" class=\"dataframe\">\n",
       "  <thead>\n",
       "    <tr style=\"text-align: right;\">\n",
       "      <th></th>\n",
       "      <th>spec_id</th>\n",
       "      <th>page_title</th>\n",
       "      <th>all_text</th>\n",
       "      <th>page_title_stem</th>\n",
       "      <th>all_text_stem</th>\n",
       "      <th>brand</th>\n",
       "      <th>site</th>\n",
       "    </tr>\n",
       "    <tr>\n",
       "      <th>spec_id</th>\n",
       "      <th></th>\n",
       "      <th></th>\n",
       "      <th></th>\n",
       "      <th></th>\n",
       "      <th></th>\n",
       "      <th></th>\n",
       "      <th></th>\n",
       "    </tr>\n",
       "  </thead>\n",
       "  <tbody>\n",
       "    <tr>\n",
       "      <th>www.ebay.com//57656</th>\n",
       "      <td>www.ebay.com//57656</td>\n",
       "      <td>canon powershot elph 110 hs 16 1 mp</td>\n",
       "      <td>canon powershot elph 110 hs 16 1 mp canon manu...</td>\n",
       "      <td>canon powershot elph 110 hs 16 1 mp</td>\n",
       "      <td>canon powershot elph 110 hs 16 1 mp canon manu...</td>\n",
       "      <td>canon</td>\n",
       "      <td>www.ebay.com</td>\n",
       "    </tr>\n",
       "    <tr>\n",
       "      <th>www.ebay.com//60583</th>\n",
       "      <td>www.ebay.com//60583</td>\n",
       "      <td>canon rebel 2000 35 mm great case instruction ...</td>\n",
       "      <td>canon rebel 2000 35 mm great case instruction ...</td>\n",
       "      <td>canon rebel 2000 35 mm great case instruct boo...</td>\n",
       "      <td>canon rebel 2000 35 mm great case instruct boo...</td>\n",
       "      <td>canon</td>\n",
       "      <td>www.ebay.com</td>\n",
       "    </tr>\n",
       "    <tr>\n",
       "      <th>www.ebay.com//60440</th>\n",
       "      <td>www.ebay.com//60440</td>\n",
       "      <td>canon eos rebel t3i 18 55mm 75 300mm iii lens ...</td>\n",
       "      <td>canon eos rebel t3i 18 55mm 75 300mm iii lens ...</td>\n",
       "      <td>canon eo rebel t3i 18 55mm 75 300mm iii len ki...</td>\n",
       "      <td>canon eo rebel t3i 18 55mm 75 300mm iii len ki...</td>\n",
       "      <td>canon</td>\n",
       "      <td>www.ebay.com</td>\n",
       "    </tr>\n",
       "    <tr>\n",
       "      <th>www.ebay.com//24139</th>\n",
       "      <td>www.ebay.com//24139</td>\n",
       "      <td>ge c1033 10 1 mp 3x zoom 2 4 lcd</td>\n",
       "      <td>ge c1033 10 1 mp 3x zoom 2 4 lcd ge unused uno...</td>\n",
       "      <td>ge c1033 10 1 mp 3x zoom 2 4 lcd</td>\n",
       "      <td>ge c1033 10 1 mp 3x zoom 2 4 lcd ge unus unope...</td>\n",
       "      <td>NaN</td>\n",
       "      <td>www.ebay.com</td>\n",
       "    </tr>\n",
       "    <tr>\n",
       "      <th>www.ebay.com//54903</th>\n",
       "      <td>www.ebay.com//54903</td>\n",
       "      <td>vivitar clip shot 1 1 mp</td>\n",
       "      <td>vivitar clip shot 1 1 mp vivitar unused unopen...</td>\n",
       "      <td>vivitar clip shot 1 1 mp</td>\n",
       "      <td>vivitar clip shot 1 1 mp vivitar unus unopen u...</td>\n",
       "      <td>vivitar</td>\n",
       "      <td>www.ebay.com</td>\n",
       "    </tr>\n",
       "  </tbody>\n",
       "</table>\n",
       "</div>"
      ],
      "text/plain": [
       "                                 spec_id  \\\n",
       "spec_id                                    \n",
       "www.ebay.com//57656  www.ebay.com//57656   \n",
       "www.ebay.com//60583  www.ebay.com//60583   \n",
       "www.ebay.com//60440  www.ebay.com//60440   \n",
       "www.ebay.com//24139  www.ebay.com//24139   \n",
       "www.ebay.com//54903  www.ebay.com//54903   \n",
       "\n",
       "                                                            page_title  \\\n",
       "spec_id                                                                  \n",
       "www.ebay.com//57656                canon powershot elph 110 hs 16 1 mp   \n",
       "www.ebay.com//60583  canon rebel 2000 35 mm great case instruction ...   \n",
       "www.ebay.com//60440  canon eos rebel t3i 18 55mm 75 300mm iii lens ...   \n",
       "www.ebay.com//24139                   ge c1033 10 1 mp 3x zoom 2 4 lcd   \n",
       "www.ebay.com//54903                           vivitar clip shot 1 1 mp   \n",
       "\n",
       "                                                              all_text  \\\n",
       "spec_id                                                                  \n",
       "www.ebay.com//57656  canon powershot elph 110 hs 16 1 mp canon manu...   \n",
       "www.ebay.com//60583  canon rebel 2000 35 mm great case instruction ...   \n",
       "www.ebay.com//60440  canon eos rebel t3i 18 55mm 75 300mm iii lens ...   \n",
       "www.ebay.com//24139  ge c1033 10 1 mp 3x zoom 2 4 lcd ge unused uno...   \n",
       "www.ebay.com//54903  vivitar clip shot 1 1 mp vivitar unused unopen...   \n",
       "\n",
       "                                                       page_title_stem  \\\n",
       "spec_id                                                                  \n",
       "www.ebay.com//57656                canon powershot elph 110 hs 16 1 mp   \n",
       "www.ebay.com//60583  canon rebel 2000 35 mm great case instruct boo...   \n",
       "www.ebay.com//60440  canon eo rebel t3i 18 55mm 75 300mm iii len ki...   \n",
       "www.ebay.com//24139                   ge c1033 10 1 mp 3x zoom 2 4 lcd   \n",
       "www.ebay.com//54903                           vivitar clip shot 1 1 mp   \n",
       "\n",
       "                                                         all_text_stem  \\\n",
       "spec_id                                                                  \n",
       "www.ebay.com//57656  canon powershot elph 110 hs 16 1 mp canon manu...   \n",
       "www.ebay.com//60583  canon rebel 2000 35 mm great case instruct boo...   \n",
       "www.ebay.com//60440  canon eo rebel t3i 18 55mm 75 300mm iii len ki...   \n",
       "www.ebay.com//24139  ge c1033 10 1 mp 3x zoom 2 4 lcd ge unus unope...   \n",
       "www.ebay.com//54903  vivitar clip shot 1 1 mp vivitar unus unopen u...   \n",
       "\n",
       "                       brand          site  \n",
       "spec_id                                     \n",
       "www.ebay.com//57656    canon  www.ebay.com  \n",
       "www.ebay.com//60583    canon  www.ebay.com  \n",
       "www.ebay.com//60440    canon  www.ebay.com  \n",
       "www.ebay.com//24139      NaN  www.ebay.com  \n",
       "www.ebay.com//54903  vivitar  www.ebay.com  "
      ]
     },
     "execution_count": 134,
     "metadata": {},
     "output_type": "execute_result"
    }
   ],
   "source": [
    "specs_df.head()"
   ]
  },
  {
   "cell_type": "code",
   "execution_count": 135,
   "metadata": {
    "Collapsed": "false"
   },
   "outputs": [],
   "source": [
    "specs_df.dropna(inplace=True)"
   ]
  },
  {
   "cell_type": "markdown",
   "metadata": {
    "Collapsed": "false"
   },
   "source": [
    "# Make index"
   ]
  },
  {
   "cell_type": "code",
   "execution_count": 137,
   "metadata": {
    "Collapsed": "false"
   },
   "outputs": [],
   "source": [
    "text_field = 'page_title_stem'"
   ]
  },
  {
   "cell_type": "code",
   "execution_count": 138,
   "metadata": {
    "Collapsed": "false"
   },
   "outputs": [
    {
     "data": {
      "text/html": [
       "['canon', 'powershot', 'elph', '110', 'hs', '16', '1', 'mp']"
      ],
      "text/plain": [
       "['canon', 'powershot', 'elph', '110', 'hs', '16', '1', 'mp']"
      ]
     },
     "execution_count": 138,
     "metadata": {},
     "output_type": "execute_result"
    }
   ],
   "source": [
    "corpus = specs_df[text_field].values\n",
    "tokenized_corpus = specs_df[text_field].apply(lambda x: x.split(' ')).values\n",
    "tokenized_corpus[0]"
   ]
  },
  {
   "cell_type": "code",
   "execution_count": 139,
   "metadata": {
    "Collapsed": "false"
   },
   "outputs": [],
   "source": [
    "bm25 = BM25Okapi(tokenized_corpus)"
   ]
  },
  {
   "cell_type": "code",
   "execution_count": 140,
   "metadata": {
    "Collapsed": "false"
   },
   "outputs": [
    {
     "name": "stdout",
     "output_type": "stream",
     "text": [
      "Query:\n",
      "\t canon powershot a4000 16 0 mp blue\n",
      "\n",
      "Top 10 neighboors:\n",
      "\t canon powershot a4000 16 0 mp blue\n",
      "\tcanon powershot a4000 16 0 mp blue\n",
      "\tcanon powershot a4000 16 0 mp blue\n",
      "\tcanon powershot a4000 16 0 mp blue\n",
      "\tcanon powershot a4000 16 0 mp blue\n",
      "\tcanon powershot a4000 16 0 mp\n",
      "\tcanon powershot a4000 16 0 mp\n",
      "\tcanon powershot a4000 16 0 mp silver\n",
      "\tcanon powershot a4000 16 0 mp silver\n",
      "\tcanon powershot a4000 16 0 mp silver\n"
     ]
    }
   ],
   "source": [
    "query = specs_df[text_field].sample(1).values[0]\n",
    "\n",
    "tokenized_query = query.split(' ')\n",
    "\n",
    "doc_scores = bm25.get_scores(tokenized_query)\n",
    "\n",
    "n = 10\n",
    "ind = np.argsort(doc_scores)[::-1][:n]\n",
    "closest_texts = specs_df.iloc[ind][text_field].values\n",
    "\n",
    "print('Query:\\n\\t', query)\n",
    "print()\n",
    "print('Top 10 neighboors:\\n\\t', '\\n\\t'.join(closest_texts))"
   ]
  },
  {
   "cell_type": "markdown",
   "metadata": {
    "Collapsed": "false"
   },
   "source": [
    "# Evaluate index"
   ]
  },
  {
   "cell_type": "code",
   "execution_count": 141,
   "metadata": {
    "Collapsed": "false"
   },
   "outputs": [],
   "source": [
    "def tokenize(text):\n",
    "    return text.split(' ')\n",
    "\n",
    "class Bm25Indexer:\n",
    "    def __init__(self, \n",
    "                 ids=None,\n",
    "                 texts=None):\n",
    "        self.ids = np.array(ids)\n",
    "        self.texts = np.array(texts)\n",
    "        self.bm25 = None\n",
    "\n",
    "    def fit(self):\n",
    "        tokenized_corpus = [tokenize(t) for t in self.texts]\n",
    "        self.bm25 = BM25Okapi(tokenized_corpus)\n",
    "\n",
    "    def lookup_idx(self, query, n=10):\n",
    "        tokenized_query = tokenize(query)\n",
    "        doc_scores = self.bm25.get_scores(tokenized_query)\n",
    "        ind = np.argsort(doc_scores)[::-1][:n]\n",
    "        return ind\n",
    "    \n",
    "    def lookup(self, text, n=10):\n",
    "        idxs = self.lookup_idx(query, n=n)\n",
    "        texts = self.texts[idxs]\n",
    "        ids = self.ids[idxs]\n",
    "        return ids, texts"
   ]
  },
  {
   "cell_type": "code",
   "execution_count": 142,
   "metadata": {
    "Collapsed": "false"
   },
   "outputs": [],
   "source": [
    "indexer = Bm25Indexer(specs_df.spec_id, specs_df[text_field])\n",
    "indexer.fit()"
   ]
  },
  {
   "cell_type": "code",
   "execution_count": 143,
   "metadata": {
    "Collapsed": "false"
   },
   "outputs": [
    {
     "name": "stdout",
     "output_type": "stream",
     "text": [
      "Query www.ebay.com//44270 kodak easyshar z1485 14 0 mp batteri charger\n",
      "\n",
      "Results:  ['canon powershot a4000 16 0 mp blue' 'canon powershot a4000 16 0 mp blue'\n",
      " 'canon powershot a4000 16 0 mp blue' 'canon powershot a4000 16 0 mp blue'\n",
      " 'canon powershot a4000 16 0 mp blue' 'canon powershot a4000 16 0 mp'\n",
      " 'canon powershot a4000 16 0 mp' 'canon powershot a4000 16 0 mp silver'\n",
      " 'canon powershot a4000 16 0 mp silver'\n",
      " 'canon powershot a4000 16 0 mp silver']\n"
     ]
    }
   ],
   "source": [
    "test_spec = specs_df.sample(1)\n",
    "test_id, text =  test_spec.spec_id.values[0], test_spec[text_field].values[0]\n",
    "\n",
    "print('Query', test_id, text)\n",
    "print()\n",
    "print('Results: ', indexer.lookup(text)[1])"
   ]
  },
  {
   "cell_type": "markdown",
   "metadata": {
    "Collapsed": "false"
   },
   "source": [
    "## Obtian labelled dataset recall"
   ]
  },
  {
   "cell_type": "code",
   "execution_count": 144,
   "metadata": {
    "Collapsed": "false"
   },
   "outputs": [
    {
     "name": "stdout",
     "output_type": "stream",
     "text": [
      "Evaluating on a sample of duplicates: 1791\n"
     ]
    },
    {
     "data": {
      "application/vnd.jupyter.widget-view+json": {
       "model_id": "dacae0981d694ea0a351260f625089d8",
       "version_major": 2,
       "version_minor": 0
      },
      "text/html": [
       "<p>Failed to display Jupyter Widget of type <code>HBox</code>.</p>\n",
       "<p>\n",
       "  If you're reading this message in the Jupyter Notebook or JupyterLab Notebook, it may mean\n",
       "  that the widgets JavaScript is still loading. If this message persists, it\n",
       "  likely means that the widgets JavaScript library is either not installed or\n",
       "  not enabled. See the <a href=\"https://ipywidgets.readthedocs.io/en/stable/user_install.html\">Jupyter\n",
       "  Widgets Documentation</a> for setup instructions.\n",
       "</p>\n",
       "<p>\n",
       "  If you're reading this message in another frontend (for example, a static\n",
       "  rendering on GitHub or <a href=\"https://nbviewer.jupyter.org/\">NBViewer</a>),\n",
       "  it may mean that your frontend doesn't currently support widgets.\n",
       "</p>\n"
      ],
      "text/plain": [
       "HBox(children=(IntProgress(value=1, bar_style='info', max=1), HTML(value='')))"
      ]
     },
     "metadata": {},
     "output_type": "display_data"
    }
   ],
   "source": [
    "dups_df = labels_df[labels_df.label==1]\n",
    "results = []\n",
    "print('Evaluating on a sample of duplicates:', int(0.5*len(dups_df)))\n",
    "for row in tqdm(dups_df.sample(int(0.5*len(dups_df))).itertuples()):\n",
    "    left_spec = specs_df.loc[row.left_spec_id]\n",
    "    query_text = left_spec[text_field]\n",
    "    cand_id, cand_text = indexer.lookup(query_text, n=1000)\n",
    "    target_index = None\n",
    "    if row.right_spec_id in cand_id:\n",
    "        target_index = list(cand_id).index(row.right_spec_id)\n",
    "    results.append((row.left_spec_id, row.right_spec_id, target_index))"
   ]
  },
  {
   "cell_type": "code",
   "execution_count": 145,
   "metadata": {
    "Collapsed": "false"
   },
   "outputs": [
    {
     "data": {
      "text/html": [
       "<div>\n",
       "<style scoped>\n",
       "    .dataframe tbody tr th:only-of-type {\n",
       "        vertical-align: middle;\n",
       "    }\n",
       "\n",
       "    .dataframe tbody tr th {\n",
       "        vertical-align: top;\n",
       "    }\n",
       "\n",
       "    .dataframe thead th {\n",
       "        text-align: right;\n",
       "    }\n",
       "</style>\n",
       "<table border=\"1\" class=\"dataframe\">\n",
       "  <thead>\n",
       "    <tr style=\"text-align: right;\">\n",
       "      <th></th>\n",
       "      <th>left_spec_id</th>\n",
       "      <th>right_spec_id</th>\n",
       "      <th>right_spec_rank</th>\n",
       "    </tr>\n",
       "  </thead>\n",
       "  <tbody>\n",
       "    <tr>\n",
       "      <th>0</th>\n",
       "      <td>www.ebay.com//53706</td>\n",
       "      <td>www.ebay.com//44643</td>\n",
       "      <td>NaN</td>\n",
       "    </tr>\n",
       "    <tr>\n",
       "      <th>1</th>\n",
       "      <td>www.ebay.com//56576</td>\n",
       "      <td>www.garricks.com.au//66</td>\n",
       "      <td>NaN</td>\n",
       "    </tr>\n",
       "    <tr>\n",
       "      <th>2</th>\n",
       "      <td>www.ebay.com//24625</td>\n",
       "      <td>www.ebay.com//55912</td>\n",
       "      <td>NaN</td>\n",
       "    </tr>\n",
       "    <tr>\n",
       "      <th>3</th>\n",
       "      <td>www.ebay.com//47191</td>\n",
       "      <td>www.ebay.com//43020</td>\n",
       "      <td>NaN</td>\n",
       "    </tr>\n",
       "    <tr>\n",
       "      <th>4</th>\n",
       "      <td>www.ebay.com//58782</td>\n",
       "      <td>www.ebay.com//55745</td>\n",
       "      <td>NaN</td>\n",
       "    </tr>\n",
       "  </tbody>\n",
       "</table>\n",
       "</div>"
      ],
      "text/plain": [
       "          left_spec_id            right_spec_id  right_spec_rank\n",
       "0  www.ebay.com//53706      www.ebay.com//44643              NaN\n",
       "1  www.ebay.com//56576  www.garricks.com.au//66              NaN\n",
       "2  www.ebay.com//24625      www.ebay.com//55912              NaN\n",
       "3  www.ebay.com//47191      www.ebay.com//43020              NaN\n",
       "4  www.ebay.com//58782      www.ebay.com//55745              NaN"
      ]
     },
     "execution_count": 145,
     "metadata": {},
     "output_type": "execute_result"
    }
   ],
   "source": [
    "results_df = pd.DataFrame(results)\n",
    "results_df.columns = ['left_spec_id', 'right_spec_id', 'right_spec_rank']\n",
    "results_df.head()"
   ]
  },
  {
   "cell_type": "code",
   "execution_count": 146,
   "metadata": {
    "Collapsed": "false"
   },
   "outputs": [],
   "source": [
    "def compute_recall_k(ranks, k):\n",
    "    total_number = len(ranks)\n",
    "    matched_number = ranks[(~ranks.isnull()) & (ranks <= k)]\n",
    "    return len(matched_number)/total_number"
   ]
  },
  {
   "cell_type": "code",
   "execution_count": 148,
   "metadata": {
    "Collapsed": "false"
   },
   "outputs": [
    {
     "name": "stdout",
     "output_type": "stream",
     "text": [
      "Recall-1:  0.0\n",
      "Recall-10:  0.0\n",
      "Recall-50:  0.0\n",
      "Recall-100:  0.0\n",
      "Recall-500:  0.0039\n",
      "Recall-1000:  0.0045\n"
     ]
    }
   ],
   "source": [
    "ks = [1, 10, 50, 100, 500, 1000]\n",
    "for k in ks:\n",
    "    print(f'Recall-{k}: ', round(compute_recall_k(results_df.right_spec_rank, k), 4))"
   ]
  },
  {
   "cell_type": "code",
   "execution_count": null,
   "metadata": {
    "Collapsed": "false"
   },
   "outputs": [],
   "source": []
  }
 ],
 "metadata": {
  "kernelspec": {
   "display_name": "Python 3",
   "language": "python",
   "name": "python3"
  },
  "language_info": {
   "codemirror_mode": {
    "name": "ipython",
    "version": 3
   },
   "file_extension": ".py",
   "mimetype": "text/x-python",
   "name": "python",
   "nbconvert_exporter": "python",
   "pygments_lexer": "ipython3",
   "version": "3.6.7"
  }
 },
 "nbformat": 4,
 "nbformat_minor": 4
}
