{
 "cells": [
  {
   "cell_type": "code",
   "execution_count": 1,
   "metadata": {
    "Collapsed": "false"
   },
   "outputs": [],
   "source": [
    "import os\n",
    "import sys\n",
    "import random\n",
    "import json\n",
    "import collections\n",
    "import re\n",
    "import itertools\n",
    "from itertools import combinations\n",
    "\n",
    "import pandas as pd\n",
    "import numpy as np\n",
    "import scipy\n",
    "import statsmodels\n",
    "from tqdm import trange, tqdm_notebook as tqdm\n",
    "\n",
    "from sklearn.model_selection import train_test_split\n",
    "from sklearn.metrics import f1_score, classification_report\n",
    "from lightgbm import LGBMClassifier\n",
    "\n",
    "from matplotlib import pyplot as plt\n",
    "import seaborn as sns\n",
    "%matplotlib inline\n",
    "\n",
    "\n",
    "pd.options.display.max_columns = 999\n",
    "\n",
    "pd.options.display.max_rows = 100\n",
    "\n",
    "sns.set()\n",
    "plt.rcParams[\"figure.figsize\"] = (10,7)"
   ]
  },
  {
   "cell_type": "code",
   "execution_count": 2,
   "metadata": {
    "Collapsed": "false"
   },
   "outputs": [],
   "source": [
    "%load_ext autoreload\n",
    "%autoreload 2"
   ]
  },
  {
   "cell_type": "code",
   "execution_count": 3,
   "metadata": {
    "Collapsed": "false"
   },
   "outputs": [],
   "source": [
    "from sigmod_src.make_dataset import make_specs_dataset\n",
    "from sigmod_src.preprocessing import preprocess_specs_dataset\n",
    "from sigmod_src.pipeline import LGBMPipeline\n",
    "from sigmod_src.utils import get_additional_labels, make_classes_df"
   ]
  },
  {
   "cell_type": "code",
   "execution_count": 4,
   "metadata": {
    "Collapsed": "false"
   },
   "outputs": [],
   "source": [
    "LG_LABELS_PATH = '../data/raw/sigmod_large_labelled_dataset.csv'\n",
    "SPECS_PATH = '../data/raw/2013_camera_specs/'"
   ]
  },
  {
   "cell_type": "code",
   "execution_count": 5,
   "metadata": {
    "Collapsed": "false"
   },
   "outputs": [
    {
     "data": {
      "text/html": [
       "<div>\n",
       "<style scoped>\n",
       "    .dataframe tbody tr th:only-of-type {\n",
       "        vertical-align: middle;\n",
       "    }\n",
       "\n",
       "    .dataframe tbody tr th {\n",
       "        vertical-align: top;\n",
       "    }\n",
       "\n",
       "    .dataframe thead th {\n",
       "        text-align: right;\n",
       "    }\n",
       "</style>\n",
       "<table border=\"1\" class=\"dataframe\">\n",
       "  <thead>\n",
       "    <tr style=\"text-align: right;\">\n",
       "      <th></th>\n",
       "      <th>spec_id</th>\n",
       "      <th>page_title</th>\n",
       "      <th>brand</th>\n",
       "      <th>model</th>\n",
       "      <th>all_text</th>\n",
       "      <th>page_title_stem</th>\n",
       "      <th>all_text_stem</th>\n",
       "      <th>site</th>\n",
       "    </tr>\n",
       "  </thead>\n",
       "  <tbody>\n",
       "    <tr>\n",
       "      <th>0</th>\n",
       "      <td>www.ebay.com//57656</td>\n",
       "      <td>canon powershot elph 110 hs 16-1-mp digital</td>\n",
       "      <td>canon</td>\n",
       "      <td>NaN</td>\n",
       "      <td>canon powershot 110 hs 16-1-mp digital canon r...</td>\n",
       "      <td>canon powershot elph 110 hs 16-1-mp digit</td>\n",
       "      <td>canon powershot 110 hs 16-1-mp digit canon ref...</td>\n",
       "      <td>www.ebay.com</td>\n",
       "    </tr>\n",
       "    <tr>\n",
       "      <th>1</th>\n",
       "      <td>www.ebay.com//60583</td>\n",
       "      <td>canon rebel 2000 35mm great case instruction b...</td>\n",
       "      <td>canon</td>\n",
       "      <td>NaN</td>\n",
       "      <td>canon rebel 2000 35mm great case instruction b...</td>\n",
       "      <td>canon rebel 2000 35mm great case instruct booklet</td>\n",
       "      <td>canon rebel 2000 35mm great case instruct book...</td>\n",
       "      <td>www.ebay.com</td>\n",
       "    </tr>\n",
       "    <tr>\n",
       "      <th>2</th>\n",
       "      <td>www.ebay.com//60440</td>\n",
       "      <td>canon eos rebel t3i digital slr 18 55mm 75 300...</td>\n",
       "      <td>canon</td>\n",
       "      <td>t3i</td>\n",
       "      <td>canon eos rebel t3i digital slr 18 55mm 75 300...</td>\n",
       "      <td>canon eo rebel t3i digit slr 18 55mm 75 300mm ...</td>\n",
       "      <td>canon eo rebel t3i digit slr 18 55mm 75 300mm ...</td>\n",
       "      <td>www.ebay.com</td>\n",
       "    </tr>\n",
       "    <tr>\n",
       "      <th>3</th>\n",
       "      <td>www.ebay.com//24139</td>\n",
       "      <td>ge c1033 10-1-mp digital 3x zoom 2 4 lcd</td>\n",
       "      <td>NaN</td>\n",
       "      <td>c1033</td>\n",
       "      <td>ge c1033 10-1-mp digital 3x zoom 2 4 ge brand-...</td>\n",
       "      <td>ge c1033 10-1-mp digit 3x zoom 2 4 lcd</td>\n",
       "      <td>ge c1033 10-1-mp digit 3x zoom 2 4 ge brand-ne...</td>\n",
       "      <td>www.ebay.com</td>\n",
       "    </tr>\n",
       "    <tr>\n",
       "      <th>4</th>\n",
       "      <td>www.ebay.com//54903</td>\n",
       "      <td>vivitar clip shot digital 1-1-mp</td>\n",
       "      <td>vivitar</td>\n",
       "      <td>NaN</td>\n",
       "      <td>vivitar clip shot digital 1-1-mp vivitar brand...</td>\n",
       "      <td>vivitar clip shot digit 1-1-mp</td>\n",
       "      <td>vivitar clip shot digit 1-1-mp vivitar brand-n...</td>\n",
       "      <td>www.ebay.com</td>\n",
       "    </tr>\n",
       "  </tbody>\n",
       "</table>\n",
       "</div>"
      ],
      "text/plain": [
       "               spec_id                                         page_title  \\\n",
       "0  www.ebay.com//57656        canon powershot elph 110 hs 16-1-mp digital   \n",
       "1  www.ebay.com//60583  canon rebel 2000 35mm great case instruction b...   \n",
       "2  www.ebay.com//60440  canon eos rebel t3i digital slr 18 55mm 75 300...   \n",
       "3  www.ebay.com//24139           ge c1033 10-1-mp digital 3x zoom 2 4 lcd   \n",
       "4  www.ebay.com//54903                   vivitar clip shot digital 1-1-mp   \n",
       "\n",
       "     brand  model                                           all_text  \\\n",
       "0    canon    NaN  canon powershot 110 hs 16-1-mp digital canon r...   \n",
       "1    canon    NaN  canon rebel 2000 35mm great case instruction b...   \n",
       "2    canon    t3i  canon eos rebel t3i digital slr 18 55mm 75 300...   \n",
       "3      NaN  c1033  ge c1033 10-1-mp digital 3x zoom 2 4 ge brand-...   \n",
       "4  vivitar    NaN  vivitar clip shot digital 1-1-mp vivitar brand...   \n",
       "\n",
       "                                     page_title_stem  \\\n",
       "0          canon powershot elph 110 hs 16-1-mp digit   \n",
       "1  canon rebel 2000 35mm great case instruct booklet   \n",
       "2  canon eo rebel t3i digit slr 18 55mm 75 300mm ...   \n",
       "3             ge c1033 10-1-mp digit 3x zoom 2 4 lcd   \n",
       "4                     vivitar clip shot digit 1-1-mp   \n",
       "\n",
       "                                       all_text_stem          site  \n",
       "0  canon powershot 110 hs 16-1-mp digit canon ref...  www.ebay.com  \n",
       "1  canon rebel 2000 35mm great case instruct book...  www.ebay.com  \n",
       "2  canon eo rebel t3i digit slr 18 55mm 75 300mm ...  www.ebay.com  \n",
       "3  ge c1033 10-1-mp digit 3x zoom 2 4 ge brand-ne...  www.ebay.com  \n",
       "4  vivitar clip shot digit 1-1-mp vivitar brand-n...  www.ebay.com  "
      ]
     },
     "execution_count": 5,
     "metadata": {},
     "output_type": "execute_result"
    }
   ],
   "source": [
    "specs_df = pd.read_csv('../data/processed/specs.csv')\n",
    "specs_df.head()"
   ]
  },
  {
   "cell_type": "code",
   "execution_count": 6,
   "metadata": {
    "Collapsed": "false"
   },
   "outputs": [
    {
     "data": {
      "text/plain": [
       "(29694, 8)"
      ]
     },
     "execution_count": 6,
     "metadata": {},
     "output_type": "execute_result"
    }
   ],
   "source": [
    "specs_df.shape"
   ]
  },
  {
   "cell_type": "code",
   "execution_count": 11,
   "metadata": {
    "Collapsed": "false"
   },
   "outputs": [],
   "source": [
    "specs_df['spec_idx'] = range(len(specs_df))"
   ]
  },
  {
   "cell_type": "code",
   "execution_count": 25,
   "metadata": {
    "Collapsed": "false"
   },
   "outputs": [],
   "source": [
    "specs_df['brand'] = specs_df.brand.fillna('missing')"
   ]
  },
  {
   "cell_type": "code",
   "execution_count": 26,
   "metadata": {
    "Collapsed": "false"
   },
   "outputs": [],
   "source": [
    "import Levenshtein as lev"
   ]
  },
  {
   "cell_type": "code",
   "execution_count": 27,
   "metadata": {
    "Collapsed": "false"
   },
   "outputs": [],
   "source": [
    "page_titles = specs_df.page_title_stem.values"
   ]
  },
  {
   "cell_type": "code",
   "execution_count": 28,
   "metadata": {
    "Collapsed": "false"
   },
   "outputs": [],
   "source": [
    "threshold = 0.9"
   ]
  },
  {
   "cell_type": "code",
   "execution_count": 29,
   "metadata": {
    "Collapsed": "false"
   },
   "outputs": [],
   "source": [
    "brand_groups = specs_df.groupby('brand')['spec_idx'].agg(list).to_dict()"
   ]
  },
  {
   "cell_type": "code",
   "execution_count": 31,
   "metadata": {
    "Collapsed": "false"
   },
   "outputs": [
    {
     "data": {
      "text/plain": [
       "[('missing', 8713),\n",
       " ('canon', 5589),\n",
       " ('sony', 3407),\n",
       " ('nikon', 3361),\n",
       " ('fujifilm', 1516),\n",
       " ('olympus', 1457),\n",
       " ('panasonic', 1353),\n",
       " ('samsung', 1071),\n",
       " ('kodak', 763),\n",
       " ('pentax', 622),\n",
       " ('casio', 221),\n",
       " ('gopro', 215),\n",
       " ('vivitar', 194),\n",
       " ('leica', 174),\n",
       " ('polaroid', 117),\n",
       " ('ricoh', 97),\n",
       " ('sigma', 65),\n",
       " ('konica', 59),\n",
       " ('svp', 51),\n",
       " ('sanyo', 46),\n",
       " ('coleman', 41),\n",
       " ('bell', 38),\n",
       " ('vizio', 37),\n",
       " ('sakar', 32),\n",
       " ('minolta', 27),\n",
       " ('digital', 25),\n",
       " ('fvanor', 24),\n",
       " ('hasselblad', 21),\n",
       " ('lytro', 20),\n",
       " ('toshiba', 19)]"
      ]
     },
     "execution_count": 31,
     "metadata": {},
     "output_type": "execute_result"
    }
   ],
   "source": [
    "brand_group_sizes = {k: len(v) for k, v in brand_groups.items()}\n",
    "collections.Counter(brand_group_sizes).most_common(30)"
   ]
  },
  {
   "cell_type": "code",
   "execution_count": 35,
   "metadata": {
    "Collapsed": "false"
   },
   "outputs": [
    {
     "data": {
      "application/vnd.jupyter.widget-view+json": {
       "model_id": "d871701c96f54f04b6a2a11cb561b98c",
       "version_major": 2,
       "version_minor": 0
      },
      "text/html": [
       "<p>Failed to display Jupyter Widget of type <code>HBox</code>.</p>\n",
       "<p>\n",
       "  If you're reading this message in the Jupyter Notebook or JupyterLab Notebook, it may mean\n",
       "  that the widgets JavaScript is still loading. If this message persists, it\n",
       "  likely means that the widgets JavaScript library is either not installed or\n",
       "  not enabled. See the <a href=\"https://ipywidgets.readthedocs.io/en/stable/user_install.html\">Jupyter\n",
       "  Widgets Documentation</a> for setup instructions.\n",
       "</p>\n",
       "<p>\n",
       "  If you're reading this message in another frontend (for example, a static\n",
       "  rendering on GitHub or <a href=\"https://nbviewer.jupyter.org/\">NBViewer</a>),\n",
       "  it may mean that your frontend doesn't currently support widgets.\n",
       "</p>\n"
      ],
      "text/plain": [
       "HBox(children=(IntProgress(value=0, max=63), HTML(value='')))"
      ]
     },
     "metadata": {},
     "output_type": "display_data"
    },
    {
     "data": {
      "application/vnd.jupyter.widget-view+json": {
       "model_id": "5e643f2820b84fe6b6d0ca3d3ba17e82",
       "version_major": 2,
       "version_minor": 0
      },
      "text/html": [
       "<p>Failed to display Jupyter Widget of type <code>HBox</code>.</p>\n",
       "<p>\n",
       "  If you're reading this message in the Jupyter Notebook or JupyterLab Notebook, it may mean\n",
       "  that the widgets JavaScript is still loading. If this message persists, it\n",
       "  likely means that the widgets JavaScript library is either not installed or\n",
       "  not enabled. See the <a href=\"https://ipywidgets.readthedocs.io/en/stable/user_install.html\">Jupyter\n",
       "  Widgets Documentation</a> for setup instructions.\n",
       "</p>\n",
       "<p>\n",
       "  If you're reading this message in another frontend (for example, a static\n",
       "  rendering on GitHub or <a href=\"https://nbviewer.jupyter.org/\">NBViewer</a>),\n",
       "  it may mean that your frontend doesn't currently support widgets.\n",
       "</p>\n"
      ],
      "text/plain": [
       "HBox(children=(IntProgress(value=0, max=55), HTML(value='')))"
      ]
     },
     "metadata": {},
     "output_type": "display_data"
    },
    {
     "data": {
      "application/vnd.jupyter.widget-view+json": {
       "model_id": "5d55618eefaf4536b3f730dfa5743151",
       "version_major": 2,
       "version_minor": 0
      },
      "text/html": [
       "<p>Failed to display Jupyter Widget of type <code>HBox</code>.</p>\n",
       "<p>\n",
       "  If you're reading this message in the Jupyter Notebook or JupyterLab Notebook, it may mean\n",
       "  that the widgets JavaScript is still loading. If this message persists, it\n",
       "  likely means that the widgets JavaScript library is either not installed or\n",
       "  not enabled. See the <a href=\"https://ipywidgets.readthedocs.io/en/stable/user_install.html\">Jupyter\n",
       "  Widgets Documentation</a> for setup instructions.\n",
       "</p>\n",
       "<p>\n",
       "  If you're reading this message in another frontend (for example, a static\n",
       "  rendering on GitHub or <a href=\"https://nbviewer.jupyter.org/\">NBViewer</a>),\n",
       "  it may mean that your frontend doesn't currently support widgets.\n",
       "</p>\n"
      ],
      "text/plain": [
       "HBox(children=(IntProgress(value=0, max=28), HTML(value='')))"
      ]
     },
     "metadata": {},
     "output_type": "display_data"
    },
    {
     "data": {
      "application/vnd.jupyter.widget-view+json": {
       "model_id": "8fff3bfc307347eaa64bbfaa6ba20ac4",
       "version_major": 2,
       "version_minor": 0
      },
      "text/html": [
       "<p>Failed to display Jupyter Widget of type <code>HBox</code>.</p>\n",
       "<p>\n",
       "  If you're reading this message in the Jupyter Notebook or JupyterLab Notebook, it may mean\n",
       "  that the widgets JavaScript is still loading. If this message persists, it\n",
       "  likely means that the widgets JavaScript library is either not installed or\n",
       "  not enabled. See the <a href=\"https://ipywidgets.readthedocs.io/en/stable/user_install.html\">Jupyter\n",
       "  Widgets Documentation</a> for setup instructions.\n",
       "</p>\n",
       "<p>\n",
       "  If you're reading this message in another frontend (for example, a static\n",
       "  rendering on GitHub or <a href=\"https://nbviewer.jupyter.org/\">NBViewer</a>),\n",
       "  it may mean that your frontend doesn't currently support widgets.\n",
       "</p>\n"
      ],
      "text/plain": [
       "HBox(children=(IntProgress(value=0, max=703), HTML(value='')))"
      ]
     },
     "metadata": {},
     "output_type": "display_data"
    },
    {
     "data": {
      "application/vnd.jupyter.widget-view+json": {
       "model_id": "154431ae779d43b293b810f4e92bc0fc",
       "version_major": 2,
       "version_minor": 0
      },
      "text/html": [
       "<p>Failed to display Jupyter Widget of type <code>HBox</code>.</p>\n",
       "<p>\n",
       "  If you're reading this message in the Jupyter Notebook or JupyterLab Notebook, it may mean\n",
       "  that the widgets JavaScript is still loading. If this message persists, it\n",
       "  likely means that the widgets JavaScript library is either not installed or\n",
       "  not enabled. See the <a href=\"https://ipywidgets.readthedocs.io/en/stable/user_install.html\">Jupyter\n",
       "  Widgets Documentation</a> for setup instructions.\n",
       "</p>\n",
       "<p>\n",
       "  If you're reading this message in another frontend (for example, a static\n",
       "  rendering on GitHub or <a href=\"https://nbviewer.jupyter.org/\">NBViewer</a>),\n",
       "  it may mean that your frontend doesn't currently support widgets.\n",
       "</p>\n"
      ],
      "text/plain": [
       "HBox(children=(IntProgress(value=0, max=105), HTML(value='')))"
      ]
     },
     "metadata": {},
     "output_type": "display_data"
    },
    {
     "data": {
      "application/vnd.jupyter.widget-view+json": {
       "model_id": "64507a2f6ff0477da89e6e0afee15c2d",
       "version_major": 2,
       "version_minor": 0
      },
      "text/html": [
       "<p>Failed to display Jupyter Widget of type <code>HBox</code>.</p>\n",
       "<p>\n",
       "  If you're reading this message in the Jupyter Notebook or JupyterLab Notebook, it may mean\n",
       "  that the widgets JavaScript is still loading. If this message persists, it\n",
       "  likely means that the widgets JavaScript library is either not installed or\n",
       "  not enabled. See the <a href=\"https://ipywidgets.readthedocs.io/en/stable/user_install.html\">Jupyter\n",
       "  Widgets Documentation</a> for setup instructions.\n",
       "</p>\n",
       "<p>\n",
       "  If you're reading this message in another frontend (for example, a static\n",
       "  rendering on GitHub or <a href=\"https://nbviewer.jupyter.org/\">NBViewer</a>),\n",
       "  it may mean that your frontend doesn't currently support widgets.\n",
       "</p>\n"
      ],
      "text/plain": [
       "HBox(children=(IntProgress(value=0, max=15615666), HTML(value='')))"
      ]
     },
     "metadata": {},
     "output_type": "display_data"
    },
    {
     "data": {
      "application/vnd.jupyter.widget-view+json": {
       "model_id": "32eab11f20c245dba06ca2a771ee5ae6",
       "version_major": 2,
       "version_minor": 0
      },
      "text/html": [
       "<p>Failed to display Jupyter Widget of type <code>HBox</code>.</p>\n",
       "<p>\n",
       "  If you're reading this message in the Jupyter Notebook or JupyterLab Notebook, it may mean\n",
       "  that the widgets JavaScript is still loading. If this message persists, it\n",
       "  likely means that the widgets JavaScript library is either not installed or\n",
       "  not enabled. See the <a href=\"https://ipywidgets.readthedocs.io/en/stable/user_install.html\">Jupyter\n",
       "  Widgets Documentation</a> for setup instructions.\n",
       "</p>\n",
       "<p>\n",
       "  If you're reading this message in another frontend (for example, a static\n",
       "  rendering on GitHub or <a href=\"https://nbviewer.jupyter.org/\">NBViewer</a>),\n",
       "  it may mean that your frontend doesn't currently support widgets.\n",
       "</p>\n"
      ],
      "text/plain": [
       "HBox(children=(IntProgress(value=0, max=24310), HTML(value='')))"
      ]
     },
     "metadata": {},
     "output_type": "display_data"
    },
    {
     "data": {
      "application/vnd.jupyter.widget-view+json": {
       "model_id": "103047e86b984791b435b8bd72be8364",
       "version_major": 2,
       "version_minor": 0
      },
      "text/html": [
       "<p>Failed to display Jupyter Widget of type <code>HBox</code>.</p>\n",
       "<p>\n",
       "  If you're reading this message in the Jupyter Notebook or JupyterLab Notebook, it may mean\n",
       "  that the widgets JavaScript is still loading. If this message persists, it\n",
       "  likely means that the widgets JavaScript library is either not installed or\n",
       "  not enabled. See the <a href=\"https://ipywidgets.readthedocs.io/en/stable/user_install.html\">Jupyter\n",
       "  Widgets Documentation</a> for setup instructions.\n",
       "</p>\n",
       "<p>\n",
       "  If you're reading this message in another frontend (for example, a static\n",
       "  rendering on GitHub or <a href=\"https://nbviewer.jupyter.org/\">NBViewer</a>),\n",
       "  it may mean that your frontend doesn't currently support widgets.\n",
       "</p>\n"
      ],
      "text/plain": [
       "HBox(children=(IntProgress(value=0, max=66), HTML(value='')))"
      ]
     },
     "metadata": {},
     "output_type": "display_data"
    },
    {
     "data": {
      "application/vnd.jupyter.widget-view+json": {
       "model_id": "738c4b73eb3b4956bd809980110a0a28",
       "version_major": 2,
       "version_minor": 0
      },
      "text/html": [
       "<p>Failed to display Jupyter Widget of type <code>HBox</code>.</p>\n",
       "<p>\n",
       "  If you're reading this message in the Jupyter Notebook or JupyterLab Notebook, it may mean\n",
       "  that the widgets JavaScript is still loading. If this message persists, it\n",
       "  likely means that the widgets JavaScript library is either not installed or\n",
       "  not enabled. See the <a href=\"https://ipywidgets.readthedocs.io/en/stable/user_install.html\">Jupyter\n",
       "  Widgets Documentation</a> for setup instructions.\n",
       "</p>\n",
       "<p>\n",
       "  If you're reading this message in another frontend (for example, a static\n",
       "  rendering on GitHub or <a href=\"https://nbviewer.jupyter.org/\">NBViewer</a>),\n",
       "  it may mean that your frontend doesn't currently support widgets.\n",
       "</p>\n"
      ],
      "text/plain": [
       "HBox(children=(IntProgress(value=0, max=820), HTML(value='')))"
      ]
     },
     "metadata": {},
     "output_type": "display_data"
    },
    {
     "data": {
      "application/vnd.jupyter.widget-view+json": {
       "model_id": "f5f1418f1bc6452d8637103f42bfb5d3",
       "version_major": 2,
       "version_minor": 0
      },
      "text/html": [
       "<p>Failed to display Jupyter Widget of type <code>HBox</code>.</p>\n",
       "<p>\n",
       "  If you're reading this message in the Jupyter Notebook or JupyterLab Notebook, it may mean\n",
       "  that the widgets JavaScript is still loading. If this message persists, it\n",
       "  likely means that the widgets JavaScript library is either not installed or\n",
       "  not enabled. See the <a href=\"https://ipywidgets.readthedocs.io/en/stable/user_install.html\">Jupyter\n",
       "  Widgets Documentation</a> for setup instructions.\n",
       "</p>\n",
       "<p>\n",
       "  If you're reading this message in another frontend (for example, a static\n",
       "  rendering on GitHub or <a href=\"https://nbviewer.jupyter.org/\">NBViewer</a>),\n",
       "  it may mean that your frontend doesn't currently support widgets.\n",
       "</p>\n"
      ],
      "text/plain": [
       "HBox(children=(IntProgress(value=0, max=300), HTML(value='')))"
      ]
     },
     "metadata": {},
     "output_type": "display_data"
    },
    {
     "data": {
      "application/vnd.jupyter.widget-view+json": {
       "model_id": "3a52c4a79af045de8565ac19435bccf1",
       "version_major": 2,
       "version_minor": 0
      },
      "text/html": [
       "<p>Failed to display Jupyter Widget of type <code>HBox</code>.</p>\n",
       "<p>\n",
       "  If you're reading this message in the Jupyter Notebook or JupyterLab Notebook, it may mean\n",
       "  that the widgets JavaScript is still loading. If this message persists, it\n",
       "  likely means that the widgets JavaScript library is either not installed or\n",
       "  not enabled. See the <a href=\"https://ipywidgets.readthedocs.io/en/stable/user_install.html\">Jupyter\n",
       "  Widgets Documentation</a> for setup instructions.\n",
       "</p>\n",
       "<p>\n",
       "  If you're reading this message in another frontend (for example, a static\n",
       "  rendering on GitHub or <a href=\"https://nbviewer.jupyter.org/\">NBViewer</a>),\n",
       "  it may mean that your frontend doesn't currently support widgets.\n",
       "</p>\n"
      ],
      "text/plain": [
       "HBox(children=(IntProgress(value=0, max=91), HTML(value='')))"
      ]
     },
     "metadata": {},
     "output_type": "display_data"
    },
    {
     "data": {
      "application/vnd.jupyter.widget-view+json": {
       "model_id": "fb0f06a3e7734ad598d99b37dd472ef6",
       "version_major": 2,
       "version_minor": 0
      },
      "text/html": [
       "<p>Failed to display Jupyter Widget of type <code>HBox</code>.</p>\n",
       "<p>\n",
       "  If you're reading this message in the Jupyter Notebook or JupyterLab Notebook, it may mean\n",
       "  that the widgets JavaScript is still loading. If this message persists, it\n",
       "  likely means that the widgets JavaScript library is either not installed or\n",
       "  not enabled. See the <a href=\"https://ipywidgets.readthedocs.io/en/stable/user_install.html\">Jupyter\n",
       "  Widgets Documentation</a> for setup instructions.\n",
       "</p>\n",
       "<p>\n",
       "  If you're reading this message in another frontend (for example, a static\n",
       "  rendering on GitHub or <a href=\"https://nbviewer.jupyter.org/\">NBViewer</a>),\n",
       "  it may mean that your frontend doesn't currently support widgets.\n",
       "</p>\n"
      ],
      "text/plain": [
       "HBox(children=(IntProgress(value=0, max=91), HTML(value='')))"
      ]
     },
     "metadata": {},
     "output_type": "display_data"
    },
    {
     "data": {
      "application/vnd.jupyter.widget-view+json": {
       "model_id": "f43fc473e10442f58cea9946a06b7209",
       "version_major": 2,
       "version_minor": 0
      },
      "text/html": [
       "<p>Failed to display Jupyter Widget of type <code>HBox</code>.</p>\n",
       "<p>\n",
       "  If you're reading this message in the Jupyter Notebook or JupyterLab Notebook, it may mean\n",
       "  that the widgets JavaScript is still loading. If this message persists, it\n",
       "  likely means that the widgets JavaScript library is either not installed or\n",
       "  not enabled. See the <a href=\"https://ipywidgets.readthedocs.io/en/stable/user_install.html\">Jupyter\n",
       "  Widgets Documentation</a> for setup instructions.\n",
       "</p>\n",
       "<p>\n",
       "  If you're reading this message in another frontend (for example, a static\n",
       "  rendering on GitHub or <a href=\"https://nbviewer.jupyter.org/\">NBViewer</a>),\n",
       "  it may mean that your frontend doesn't currently support widgets.\n",
       "</p>\n"
      ],
      "text/plain": [
       "HBox(children=(IntProgress(value=0, max=36), HTML(value='')))"
      ]
     },
     "metadata": {},
     "output_type": "display_data"
    },
    {
     "data": {
      "application/vnd.jupyter.widget-view+json": {
       "model_id": "c4bbd1059bb942629ee67dca502482ca",
       "version_major": 2,
       "version_minor": 0
      },
      "text/html": [
       "<p>Failed to display Jupyter Widget of type <code>HBox</code>.</p>\n",
       "<p>\n",
       "  If you're reading this message in the Jupyter Notebook or JupyterLab Notebook, it may mean\n",
       "  that the widgets JavaScript is still loading. If this message persists, it\n",
       "  likely means that the widgets JavaScript library is either not installed or\n",
       "  not enabled. See the <a href=\"https://ipywidgets.readthedocs.io/en/stable/user_install.html\">Jupyter\n",
       "  Widgets Documentation</a> for setup instructions.\n",
       "</p>\n",
       "<p>\n",
       "  If you're reading this message in another frontend (for example, a static\n",
       "  rendering on GitHub or <a href=\"https://nbviewer.jupyter.org/\">NBViewer</a>),\n",
       "  it may mean that your frontend doesn't currently support widgets.\n",
       "</p>\n"
      ],
      "text/plain": [
       "HBox(children=(IntProgress(value=0, max=66), HTML(value='')))"
      ]
     },
     "metadata": {},
     "output_type": "display_data"
    },
    {
     "data": {
      "application/vnd.jupyter.widget-view+json": {
       "model_id": "10aee71af998415990b21534a54b57db",
       "version_major": 2,
       "version_minor": 0
      },
      "text/html": [
       "<p>Failed to display Jupyter Widget of type <code>HBox</code>.</p>\n",
       "<p>\n",
       "  If you're reading this message in the Jupyter Notebook or JupyterLab Notebook, it may mean\n",
       "  that the widgets JavaScript is still loading. If this message persists, it\n",
       "  likely means that the widgets JavaScript library is either not installed or\n",
       "  not enabled. See the <a href=\"https://ipywidgets.readthedocs.io/en/stable/user_install.html\">Jupyter\n",
       "  Widgets Documentation</a> for setup instructions.\n",
       "</p>\n",
       "<p>\n",
       "  If you're reading this message in another frontend (for example, a static\n",
       "  rendering on GitHub or <a href=\"https://nbviewer.jupyter.org/\">NBViewer</a>),\n",
       "  it may mean that your frontend doesn't currently support widgets.\n",
       "</p>\n"
      ],
      "text/plain": [
       "HBox(children=(IntProgress(value=0, max=10), HTML(value='')))"
      ]
     },
     "metadata": {},
     "output_type": "display_data"
    },
    {
     "data": {
      "application/vnd.jupyter.widget-view+json": {
       "model_id": "e963f67c20974260a4993945626d49ea",
       "version_major": 2,
       "version_minor": 0
      },
      "text/html": [
       "<p>Failed to display Jupyter Widget of type <code>HBox</code>.</p>\n",
       "<p>\n",
       "  If you're reading this message in the Jupyter Notebook or JupyterLab Notebook, it may mean\n",
       "  that the widgets JavaScript is still loading. If this message persists, it\n",
       "  likely means that the widgets JavaScript library is either not installed or\n",
       "  not enabled. See the <a href=\"https://ipywidgets.readthedocs.io/en/stable/user_install.html\">Jupyter\n",
       "  Widgets Documentation</a> for setup instructions.\n",
       "</p>\n",
       "<p>\n",
       "  If you're reading this message in another frontend (for example, a static\n",
       "  rendering on GitHub or <a href=\"https://nbviewer.jupyter.org/\">NBViewer</a>),\n",
       "  it may mean that your frontend doesn't currently support widgets.\n",
       "</p>\n"
      ],
      "text/plain": [
       "HBox(children=(IntProgress(value=0, max=21), HTML(value='')))"
      ]
     },
     "metadata": {},
     "output_type": "display_data"
    },
    {
     "data": {
      "application/vnd.jupyter.widget-view+json": {
       "model_id": "4b66a42285654a40beaf48ffac585699",
       "version_major": 2,
       "version_minor": 0
      },
      "text/html": [
       "<p>Failed to display Jupyter Widget of type <code>HBox</code>.</p>\n",
       "<p>\n",
       "  If you're reading this message in the Jupyter Notebook or JupyterLab Notebook, it may mean\n",
       "  that the widgets JavaScript is still loading. If this message persists, it\n",
       "  likely means that the widgets JavaScript library is either not installed or\n",
       "  not enabled. See the <a href=\"https://ipywidgets.readthedocs.io/en/stable/user_install.html\">Jupyter\n",
       "  Widgets Documentation</a> for setup instructions.\n",
       "</p>\n",
       "<p>\n",
       "  If you're reading this message in another frontend (for example, a static\n",
       "  rendering on GitHub or <a href=\"https://nbviewer.jupyter.org/\">NBViewer</a>),\n",
       "  it may mean that your frontend doesn't currently support widgets.\n",
       "</p>\n"
      ],
      "text/plain": [
       "HBox(children=(IntProgress(value=0, max=1148370), HTML(value='')))"
      ]
     },
     "metadata": {},
     "output_type": "display_data"
    },
    {
     "data": {
      "application/vnd.jupyter.widget-view+json": {
       "model_id": "e89eb6c997bd483595904a3639421819",
       "version_major": 2,
       "version_minor": 0
      },
      "text/html": [
       "<p>Failed to display Jupyter Widget of type <code>HBox</code>.</p>\n",
       "<p>\n",
       "  If you're reading this message in the Jupyter Notebook or JupyterLab Notebook, it may mean\n",
       "  that the widgets JavaScript is still loading. If this message persists, it\n",
       "  likely means that the widgets JavaScript library is either not installed or\n",
       "  not enabled. See the <a href=\"https://ipywidgets.readthedocs.io/en/stable/user_install.html\">Jupyter\n",
       "  Widgets Documentation</a> for setup instructions.\n",
       "</p>\n",
       "<p>\n",
       "  If you're reading this message in another frontend (for example, a static\n",
       "  rendering on GitHub or <a href=\"https://nbviewer.jupyter.org/\">NBViewer</a>),\n",
       "  it may mean that your frontend doesn't currently support widgets.\n",
       "</p>\n"
      ],
      "text/plain": [
       "HBox(children=(IntProgress(value=0, max=276), HTML(value='')))"
      ]
     },
     "metadata": {},
     "output_type": "display_data"
    },
    {
     "data": {
      "application/vnd.jupyter.widget-view+json": {
       "model_id": "3ed6847f960c4702b2f1d950eae0ca0d",
       "version_major": 2,
       "version_minor": 0
      },
      "text/html": [
       "<p>Failed to display Jupyter Widget of type <code>HBox</code>.</p>\n",
       "<p>\n",
       "  If you're reading this message in the Jupyter Notebook or JupyterLab Notebook, it may mean\n",
       "  that the widgets JavaScript is still loading. If this message persists, it\n",
       "  likely means that the widgets JavaScript library is either not installed or\n",
       "  not enabled. See the <a href=\"https://ipywidgets.readthedocs.io/en/stable/user_install.html\">Jupyter\n",
       "  Widgets Documentation</a> for setup instructions.\n",
       "</p>\n",
       "<p>\n",
       "  If you're reading this message in another frontend (for example, a static\n",
       "  rendering on GitHub or <a href=\"https://nbviewer.jupyter.org/\">NBViewer</a>),\n",
       "  it may mean that your frontend doesn't currently support widgets.\n",
       "</p>\n"
      ],
      "text/plain": [
       "HBox(children=(IntProgress(value=0, max=10), HTML(value='')))"
      ]
     },
     "metadata": {},
     "output_type": "display_data"
    },
    {
     "data": {
      "application/vnd.jupyter.widget-view+json": {
       "model_id": "8c179755656641f99bf9f3c094f7f1d1",
       "version_major": 2,
       "version_minor": 0
      },
      "text/html": [
       "<p>Failed to display Jupyter Widget of type <code>HBox</code>.</p>\n",
       "<p>\n",
       "  If you're reading this message in the Jupyter Notebook or JupyterLab Notebook, it may mean\n",
       "  that the widgets JavaScript is still loading. If this message persists, it\n",
       "  likely means that the widgets JavaScript library is either not installed or\n",
       "  not enabled. See the <a href=\"https://ipywidgets.readthedocs.io/en/stable/user_install.html\">Jupyter\n",
       "  Widgets Documentation</a> for setup instructions.\n",
       "</p>\n",
       "<p>\n",
       "  If you're reading this message in another frontend (for example, a static\n",
       "  rendering on GitHub or <a href=\"https://nbviewer.jupyter.org/\">NBViewer</a>),\n",
       "  it may mean that your frontend doesn't currently support widgets.\n",
       "</p>\n"
      ],
      "text/plain": [
       "HBox(children=(IntProgress(value=0, max=23005), HTML(value='')))"
      ]
     },
     "metadata": {},
     "output_type": "display_data"
    },
    {
     "data": {
      "application/vnd.jupyter.widget-view+json": {
       "model_id": "8128d5c96ce84f16bb8e60c42e8ff818",
       "version_major": 2,
       "version_minor": 0
      },
      "text/html": [
       "<p>Failed to display Jupyter Widget of type <code>HBox</code>.</p>\n",
       "<p>\n",
       "  If you're reading this message in the Jupyter Notebook or JupyterLab Notebook, it may mean\n",
       "  that the widgets JavaScript is still loading. If this message persists, it\n",
       "  likely means that the widgets JavaScript library is either not installed or\n",
       "  not enabled. See the <a href=\"https://ipywidgets.readthedocs.io/en/stable/user_install.html\">Jupyter\n",
       "  Widgets Documentation</a> for setup instructions.\n",
       "</p>\n",
       "<p>\n",
       "  If you're reading this message in another frontend (for example, a static\n",
       "  rendering on GitHub or <a href=\"https://nbviewer.jupyter.org/\">NBViewer</a>),\n",
       "  it may mean that your frontend doesn't currently support widgets.\n",
       "</p>\n"
      ],
      "text/plain": [
       "HBox(children=(IntProgress(value=0, max=210), HTML(value='')))"
      ]
     },
     "metadata": {},
     "output_type": "display_data"
    },
    {
     "data": {
      "application/vnd.jupyter.widget-view+json": {
       "model_id": "3dba323669bd4e59b8b51477972c7cb0",
       "version_major": 2,
       "version_minor": 0
      },
      "text/html": [
       "<p>Failed to display Jupyter Widget of type <code>HBox</code>.</p>\n",
       "<p>\n",
       "  If you're reading this message in the Jupyter Notebook or JupyterLab Notebook, it may mean\n",
       "  that the widgets JavaScript is still loading. If this message persists, it\n",
       "  likely means that the widgets JavaScript library is either not installed or\n",
       "  not enabled. See the <a href=\"https://ipywidgets.readthedocs.io/en/stable/user_install.html\">Jupyter\n",
       "  Widgets Documentation</a> for setup instructions.\n",
       "</p>\n",
       "<p>\n",
       "  If you're reading this message in another frontend (for example, a static\n",
       "  rendering on GitHub or <a href=\"https://nbviewer.jupyter.org/\">NBViewer</a>),\n",
       "  it may mean that your frontend doesn't currently support widgets.\n",
       "</p>\n"
      ],
      "text/plain": [
       "HBox(children=(IntProgress(value=0, max=28), HTML(value='')))"
      ]
     },
     "metadata": {},
     "output_type": "display_data"
    },
    {
     "data": {
      "application/vnd.jupyter.widget-view+json": {
       "model_id": "419628381eaa4f5795808aa77a45331f",
       "version_major": 2,
       "version_minor": 0
      },
      "text/html": [
       "<p>Failed to display Jupyter Widget of type <code>HBox</code>.</p>\n",
       "<p>\n",
       "  If you're reading this message in the Jupyter Notebook or JupyterLab Notebook, it may mean\n",
       "  that the widgets JavaScript is still loading. If this message persists, it\n",
       "  likely means that the widgets JavaScript library is either not installed or\n",
       "  not enabled. See the <a href=\"https://ipywidgets.readthedocs.io/en/stable/user_install.html\">Jupyter\n",
       "  Widgets Documentation</a> for setup instructions.\n",
       "</p>\n",
       "<p>\n",
       "  If you're reading this message in another frontend (for example, a static\n",
       "  rendering on GitHub or <a href=\"https://nbviewer.jupyter.org/\">NBViewer</a>),\n",
       "  it may mean that your frontend doesn't currently support widgets.\n",
       "</p>\n"
      ],
      "text/plain": [
       "HBox(children=(IntProgress(value=0, max=66), HTML(value='')))"
      ]
     },
     "metadata": {},
     "output_type": "display_data"
    },
    {
     "data": {
      "application/vnd.jupyter.widget-view+json": {
       "model_id": "cd6d5c9bc26d417d80f058a7508ace74",
       "version_major": 2,
       "version_minor": 0
      },
      "text/html": [
       "<p>Failed to display Jupyter Widget of type <code>HBox</code>.</p>\n",
       "<p>\n",
       "  If you're reading this message in the Jupyter Notebook or JupyterLab Notebook, it may mean\n",
       "  that the widgets JavaScript is still loading. If this message persists, it\n",
       "  likely means that the widgets JavaScript library is either not installed or\n",
       "  not enabled. See the <a href=\"https://ipywidgets.readthedocs.io/en/stable/user_install.html\">Jupyter\n",
       "  Widgets Documentation</a> for setup instructions.\n",
       "</p>\n",
       "<p>\n",
       "  If you're reading this message in another frontend (for example, a static\n",
       "  rendering on GitHub or <a href=\"https://nbviewer.jupyter.org/\">NBViewer</a>),\n",
       "  it may mean that your frontend doesn't currently support widgets.\n",
       "</p>\n"
      ],
      "text/plain": [
       "HBox(children=(IntProgress(value=0, max=21), HTML(value='')))"
      ]
     },
     "metadata": {},
     "output_type": "display_data"
    },
    {
     "data": {
      "application/vnd.jupyter.widget-view+json": {
       "model_id": "1ecd031a43174bb8a8a5a407a062c00f",
       "version_major": 2,
       "version_minor": 0
      },
      "text/html": [
       "<p>Failed to display Jupyter Widget of type <code>HBox</code>.</p>\n",
       "<p>\n",
       "  If you're reading this message in the Jupyter Notebook or JupyterLab Notebook, it may mean\n",
       "  that the widgets JavaScript is still loading. If this message persists, it\n",
       "  likely means that the widgets JavaScript library is either not installed or\n",
       "  not enabled. See the <a href=\"https://ipywidgets.readthedocs.io/en/stable/user_install.html\">Jupyter\n",
       "  Widgets Documentation</a> for setup instructions.\n",
       "</p>\n",
       "<p>\n",
       "  If you're reading this message in another frontend (for example, a static\n",
       "  rendering on GitHub or <a href=\"https://nbviewer.jupyter.org/\">NBViewer</a>),\n",
       "  it may mean that your frontend doesn't currently support widgets.\n",
       "</p>\n"
      ],
      "text/plain": [
       "HBox(children=(IntProgress(value=0, max=290703), HTML(value='')))"
      ]
     },
     "metadata": {},
     "output_type": "display_data"
    },
    {
     "data": {
      "application/vnd.jupyter.widget-view+json": {
       "model_id": "e2845a96a4fd421382efd505dbb79d83",
       "version_major": 2,
       "version_minor": 0
      },
      "text/html": [
       "<p>Failed to display Jupyter Widget of type <code>HBox</code>.</p>\n",
       "<p>\n",
       "  If you're reading this message in the Jupyter Notebook or JupyterLab Notebook, it may mean\n",
       "  that the widgets JavaScript is still loading. If this message persists, it\n",
       "  likely means that the widgets JavaScript library is either not installed or\n",
       "  not enabled. See the <a href=\"https://ipywidgets.readthedocs.io/en/stable/user_install.html\">Jupyter\n",
       "  Widgets Documentation</a> for setup instructions.\n",
       "</p>\n",
       "<p>\n",
       "  If you're reading this message in another frontend (for example, a static\n",
       "  rendering on GitHub or <a href=\"https://nbviewer.jupyter.org/\">NBViewer</a>),\n",
       "  it may mean that your frontend doesn't currently support widgets.\n",
       "</p>\n"
      ],
      "text/plain": [
       "HBox(children=(IntProgress(value=0, max=1711), HTML(value='')))"
      ]
     },
     "metadata": {},
     "output_type": "display_data"
    },
    {
     "data": {
      "application/vnd.jupyter.widget-view+json": {
       "model_id": "d13213808a464e2d8bd3e236d6ac5876",
       "version_major": 2,
       "version_minor": 0
      },
      "text/html": [
       "<p>Failed to display Jupyter Widget of type <code>HBox</code>.</p>\n",
       "<p>\n",
       "  If you're reading this message in the Jupyter Notebook or JupyterLab Notebook, it may mean\n",
       "  that the widgets JavaScript is still loading. If this message persists, it\n",
       "  likely means that the widgets JavaScript library is either not installed or\n",
       "  not enabled. See the <a href=\"https://ipywidgets.readthedocs.io/en/stable/user_install.html\">Jupyter\n",
       "  Widgets Documentation</a> for setup instructions.\n",
       "</p>\n",
       "<p>\n",
       "  If you're reading this message in another frontend (for example, a static\n",
       "  rendering on GitHub or <a href=\"https://nbviewer.jupyter.org/\">NBViewer</a>),\n",
       "  it may mean that your frontend doesn't currently support widgets.\n",
       "</p>\n"
      ],
      "text/plain": [
       "HBox(children=(IntProgress(value=0, max=15051), HTML(value='')))"
      ]
     },
     "metadata": {},
     "output_type": "display_data"
    },
    {
     "data": {
      "application/vnd.jupyter.widget-view+json": {
       "model_id": "42436d34853c4cceb00013058617aa8b",
       "version_major": 2,
       "version_minor": 0
      },
      "text/html": [
       "<p>Failed to display Jupyter Widget of type <code>HBox</code>.</p>\n",
       "<p>\n",
       "  If you're reading this message in the Jupyter Notebook or JupyterLab Notebook, it may mean\n",
       "  that the widgets JavaScript is still loading. If this message persists, it\n",
       "  likely means that the widgets JavaScript library is either not installed or\n",
       "  not enabled. See the <a href=\"https://ipywidgets.readthedocs.io/en/stable/user_install.html\">Jupyter\n",
       "  Widgets Documentation</a> for setup instructions.\n",
       "</p>\n",
       "<p>\n",
       "  If you're reading this message in another frontend (for example, a static\n",
       "  rendering on GitHub or <a href=\"https://nbviewer.jupyter.org/\">NBViewer</a>),\n",
       "  it may mean that your frontend doesn't currently support widgets.\n",
       "</p>\n"
      ],
      "text/plain": [
       "HBox(children=(IntProgress(value=0, max=21), HTML(value='')))"
      ]
     },
     "metadata": {},
     "output_type": "display_data"
    },
    {
     "data": {
      "application/vnd.jupyter.widget-view+json": {
       "model_id": "87a91c7f2c37432b814b25c40203dd42",
       "version_major": 2,
       "version_minor": 0
      },
      "text/html": [
       "<p>Failed to display Jupyter Widget of type <code>HBox</code>.</p>\n",
       "<p>\n",
       "  If you're reading this message in the Jupyter Notebook or JupyterLab Notebook, it may mean\n",
       "  that the widgets JavaScript is still loading. If this message persists, it\n",
       "  likely means that the widgets JavaScript library is either not installed or\n",
       "  not enabled. See the <a href=\"https://ipywidgets.readthedocs.io/en/stable/user_install.html\">Jupyter\n",
       "  Widgets Documentation</a> for setup instructions.\n",
       "</p>\n",
       "<p>\n",
       "  If you're reading this message in another frontend (for example, a static\n",
       "  rendering on GitHub or <a href=\"https://nbviewer.jupyter.org/\">NBViewer</a>),\n",
       "  it may mean that your frontend doesn't currently support widgets.\n",
       "</p>\n"
      ],
      "text/plain": [
       "HBox(children=(IntProgress(value=0, max=190), HTML(value='')))"
      ]
     },
     "metadata": {},
     "output_type": "display_data"
    },
    {
     "data": {
      "application/vnd.jupyter.widget-view+json": {
       "model_id": "26f7c74b5736452fa9bd093a332ff806",
       "version_major": 2,
       "version_minor": 0
      },
      "text/html": [
       "<p>Failed to display Jupyter Widget of type <code>HBox</code>.</p>\n",
       "<p>\n",
       "  If you're reading this message in the Jupyter Notebook or JupyterLab Notebook, it may mean\n",
       "  that the widgets JavaScript is still loading. If this message persists, it\n",
       "  likely means that the widgets JavaScript library is either not installed or\n",
       "  not enabled. See the <a href=\"https://ipywidgets.readthedocs.io/en/stable/user_install.html\">Jupyter\n",
       "  Widgets Documentation</a> for setup instructions.\n",
       "</p>\n",
       "<p>\n",
       "  If you're reading this message in another frontend (for example, a static\n",
       "  rendering on GitHub or <a href=\"https://nbviewer.jupyter.org/\">NBViewer</a>),\n",
       "  it may mean that your frontend doesn't currently support widgets.\n",
       "</p>\n"
      ],
      "text/plain": [
       "HBox(children=(IntProgress(value=0, max=15), HTML(value='')))"
      ]
     },
     "metadata": {},
     "output_type": "display_data"
    },
    {
     "data": {
      "application/vnd.jupyter.widget-view+json": {
       "model_id": "a7e157029d6648b0be2a8ab27e488566",
       "version_major": 2,
       "version_minor": 0
      },
      "text/html": [
       "<p>Failed to display Jupyter Widget of type <code>HBox</code>.</p>\n",
       "<p>\n",
       "  If you're reading this message in the Jupyter Notebook or JupyterLab Notebook, it may mean\n",
       "  that the widgets JavaScript is still loading. If this message persists, it\n",
       "  likely means that the widgets JavaScript library is either not installed or\n",
       "  not enabled. See the <a href=\"https://ipywidgets.readthedocs.io/en/stable/user_install.html\">Jupyter\n",
       "  Widgets Documentation</a> for setup instructions.\n",
       "</p>\n",
       "<p>\n",
       "  If you're reading this message in another frontend (for example, a static\n",
       "  rendering on GitHub or <a href=\"https://nbviewer.jupyter.org/\">NBViewer</a>),\n",
       "  it may mean that your frontend doesn't currently support widgets.\n",
       "</p>\n"
      ],
      "text/plain": [
       "HBox(children=(IntProgress(value=0, max=351), HTML(value='')))"
      ]
     },
     "metadata": {},
     "output_type": "display_data"
    },
    {
     "data": {
      "application/vnd.jupyter.widget-view+json": {
       "model_id": "32a9ba79d6a149549c4c93d11e10afc0",
       "version_major": 2,
       "version_minor": 0
      },
      "text/html": [
       "<p>Failed to display Jupyter Widget of type <code>HBox</code>.</p>\n",
       "<p>\n",
       "  If you're reading this message in the Jupyter Notebook or JupyterLab Notebook, it may mean\n",
       "  that the widgets JavaScript is still loading. If this message persists, it\n",
       "  likely means that the widgets JavaScript library is either not installed or\n",
       "  not enabled. See the <a href=\"https://ipywidgets.readthedocs.io/en/stable/user_install.html\">Jupyter\n",
       "  Widgets Documentation</a> for setup instructions.\n",
       "</p>\n",
       "<p>\n",
       "  If you're reading this message in another frontend (for example, a static\n",
       "  rendering on GitHub or <a href=\"https://nbviewer.jupyter.org/\">NBViewer</a>),\n",
       "  it may mean that your frontend doesn't currently support widgets.\n",
       "</p>\n"
      ],
      "text/plain": [
       "HBox(children=(IntProgress(value=0, max=36), HTML(value='')))"
      ]
     },
     "metadata": {},
     "output_type": "display_data"
    },
    {
     "data": {
      "application/vnd.jupyter.widget-view+json": {
       "model_id": "48d6c00955d84aa5a640aed937267428",
       "version_major": 2,
       "version_minor": 0
      },
      "text/html": [
       "<p>Failed to display Jupyter Widget of type <code>HBox</code>.</p>\n",
       "<p>\n",
       "  If you're reading this message in the Jupyter Notebook or JupyterLab Notebook, it may mean\n",
       "  that the widgets JavaScript is still loading. If this message persists, it\n",
       "  likely means that the widgets JavaScript library is either not installed or\n",
       "  not enabled. See the <a href=\"https://ipywidgets.readthedocs.io/en/stable/user_install.html\">Jupyter\n",
       "  Widgets Documentation</a> for setup instructions.\n",
       "</p>\n",
       "<p>\n",
       "  If you're reading this message in another frontend (for example, a static\n",
       "  rendering on GitHub or <a href=\"https://nbviewer.jupyter.org/\">NBViewer</a>),\n",
       "  it may mean that your frontend doesn't currently support widgets.\n",
       "</p>\n"
      ],
      "text/plain": [
       "HBox(children=(IntProgress(value=0, max=37953828), HTML(value='')))"
      ]
     },
     "metadata": {},
     "output_type": "display_data"
    },
    {
     "data": {
      "application/vnd.jupyter.widget-view+json": {
       "model_id": "b783213a225648a5b0c3fb6af550d8de",
       "version_major": 2,
       "version_minor": 0
      },
      "text/html": [
       "<p>Failed to display Jupyter Widget of type <code>HBox</code>.</p>\n",
       "<p>\n",
       "  If you're reading this message in the Jupyter Notebook or JupyterLab Notebook, it may mean\n",
       "  that the widgets JavaScript is still loading. If this message persists, it\n",
       "  likely means that the widgets JavaScript library is either not installed or\n",
       "  not enabled. See the <a href=\"https://ipywidgets.readthedocs.io/en/stable/user_install.html\">Jupyter\n",
       "  Widgets Documentation</a> for setup instructions.\n",
       "</p>\n",
       "<p>\n",
       "  If you're reading this message in another frontend (for example, a static\n",
       "  rendering on GitHub or <a href=\"https://nbviewer.jupyter.org/\">NBViewer</a>),\n",
       "  it may mean that your frontend doesn't currently support widgets.\n",
       "</p>\n"
      ],
      "text/plain": [
       "HBox(children=(IntProgress(value=0, max=10), HTML(value='')))"
      ]
     },
     "metadata": {},
     "output_type": "display_data"
    },
    {
     "data": {
      "application/vnd.jupyter.widget-view+json": {
       "model_id": "81a5b2d95652417d933f6dcb185da5c2",
       "version_major": 2,
       "version_minor": 0
      },
      "text/html": [
       "<p>Failed to display Jupyter Widget of type <code>HBox</code>.</p>\n",
       "<p>\n",
       "  If you're reading this message in the Jupyter Notebook or JupyterLab Notebook, it may mean\n",
       "  that the widgets JavaScript is still loading. If this message persists, it\n",
       "  likely means that the widgets JavaScript library is either not installed or\n",
       "  not enabled. See the <a href=\"https://ipywidgets.readthedocs.io/en/stable/user_install.html\">Jupyter\n",
       "  Widgets Documentation</a> for setup instructions.\n",
       "</p>\n",
       "<p>\n",
       "  If you're reading this message in another frontend (for example, a static\n",
       "  rendering on GitHub or <a href=\"https://nbviewer.jupyter.org/\">NBViewer</a>),\n",
       "  it may mean that your frontend doesn't currently support widgets.\n",
       "</p>\n"
      ],
      "text/plain": [
       "HBox(children=(IntProgress(value=0, max=36), HTML(value='')))"
      ]
     },
     "metadata": {},
     "output_type": "display_data"
    },
    {
     "data": {
      "application/vnd.jupyter.widget-view+json": {
       "model_id": "bce3764230c14b3c82c916423b2188bf",
       "version_major": 2,
       "version_minor": 0
      },
      "text/html": [
       "<p>Failed to display Jupyter Widget of type <code>HBox</code>.</p>\n",
       "<p>\n",
       "  If you're reading this message in the Jupyter Notebook or JupyterLab Notebook, it may mean\n",
       "  that the widgets JavaScript is still loading. If this message persists, it\n",
       "  likely means that the widgets JavaScript library is either not installed or\n",
       "  not enabled. See the <a href=\"https://ipywidgets.readthedocs.io/en/stable/user_install.html\">Jupyter\n",
       "  Widgets Documentation</a> for setup instructions.\n",
       "</p>\n",
       "<p>\n",
       "  If you're reading this message in another frontend (for example, a static\n",
       "  rendering on GitHub or <a href=\"https://nbviewer.jupyter.org/\">NBViewer</a>),\n",
       "  it may mean that your frontend doesn't currently support widgets.\n",
       "</p>\n"
      ],
      "text/plain": [
       "HBox(children=(IntProgress(value=0, max=5646480), HTML(value='')))"
      ]
     },
     "metadata": {},
     "output_type": "display_data"
    },
    {
     "data": {
      "application/vnd.jupyter.widget-view+json": {
       "model_id": "65ad5bf563284f34919963eb837a9a10",
       "version_major": 2,
       "version_minor": 0
      },
      "text/html": [
       "<p>Failed to display Jupyter Widget of type <code>HBox</code>.</p>\n",
       "<p>\n",
       "  If you're reading this message in the Jupyter Notebook or JupyterLab Notebook, it may mean\n",
       "  that the widgets JavaScript is still loading. If this message persists, it\n",
       "  likely means that the widgets JavaScript library is either not installed or\n",
       "  not enabled. See the <a href=\"https://ipywidgets.readthedocs.io/en/stable/user_install.html\">Jupyter\n",
       "  Widgets Documentation</a> for setup instructions.\n",
       "</p>\n",
       "<p>\n",
       "  If you're reading this message in another frontend (for example, a static\n",
       "  rendering on GitHub or <a href=\"https://nbviewer.jupyter.org/\">NBViewer</a>),\n",
       "  it may mean that your frontend doesn't currently support widgets.\n",
       "</p>\n"
      ],
      "text/plain": [
       "HBox(children=(IntProgress(value=0, max=1060696), HTML(value='')))"
      ]
     },
     "metadata": {},
     "output_type": "display_data"
    },
    {
     "data": {
      "application/vnd.jupyter.widget-view+json": {
       "model_id": "3beb08e71f054f80928a3908cd51acc6",
       "version_major": 2,
       "version_minor": 0
      },
      "text/html": [
       "<p>Failed to display Jupyter Widget of type <code>HBox</code>.</p>\n",
       "<p>\n",
       "  If you're reading this message in the Jupyter Notebook or JupyterLab Notebook, it may mean\n",
       "  that the widgets JavaScript is still loading. If this message persists, it\n",
       "  likely means that the widgets JavaScript library is either not installed or\n",
       "  not enabled. See the <a href=\"https://ipywidgets.readthedocs.io/en/stable/user_install.html\">Jupyter\n",
       "  Widgets Documentation</a> for setup instructions.\n",
       "</p>\n",
       "<p>\n",
       "  If you're reading this message in another frontend (for example, a static\n",
       "  rendering on GitHub or <a href=\"https://nbviewer.jupyter.org/\">NBViewer</a>),\n",
       "  it may mean that your frontend doesn't currently support widgets.\n",
       "</p>\n"
      ],
      "text/plain": [
       "HBox(children=(IntProgress(value=0, max=36), HTML(value='')))"
      ]
     },
     "metadata": {},
     "output_type": "display_data"
    },
    {
     "data": {
      "application/vnd.jupyter.widget-view+json": {
       "model_id": "2d3c13909b564e18b36f4f1e3285985a",
       "version_major": 2,
       "version_minor": 0
      },
      "text/html": [
       "<p>Failed to display Jupyter Widget of type <code>HBox</code>.</p>\n",
       "<p>\n",
       "  If you're reading this message in the Jupyter Notebook or JupyterLab Notebook, it may mean\n",
       "  that the widgets JavaScript is still loading. If this message persists, it\n",
       "  likely means that the widgets JavaScript library is either not installed or\n",
       "  not enabled. See the <a href=\"https://ipywidgets.readthedocs.io/en/stable/user_install.html\">Jupyter\n",
       "  Widgets Documentation</a> for setup instructions.\n",
       "</p>\n",
       "<p>\n",
       "  If you're reading this message in another frontend (for example, a static\n",
       "  rendering on GitHub or <a href=\"https://nbviewer.jupyter.org/\">NBViewer</a>),\n",
       "  it may mean that your frontend doesn't currently support widgets.\n",
       "</p>\n"
      ],
      "text/plain": [
       "HBox(children=(IntProgress(value=0, max=914628), HTML(value='')))"
      ]
     },
     "metadata": {},
     "output_type": "display_data"
    },
    {
     "data": {
      "application/vnd.jupyter.widget-view+json": {
       "model_id": "46bf49a627de41ef90f2072c91f35f9e",
       "version_major": 2,
       "version_minor": 0
      },
      "text/html": [
       "<p>Failed to display Jupyter Widget of type <code>HBox</code>.</p>\n",
       "<p>\n",
       "  If you're reading this message in the Jupyter Notebook or JupyterLab Notebook, it may mean\n",
       "  that the widgets JavaScript is still loading. If this message persists, it\n",
       "  likely means that the widgets JavaScript library is either not installed or\n",
       "  not enabled. See the <a href=\"https://ipywidgets.readthedocs.io/en/stable/user_install.html\">Jupyter\n",
       "  Widgets Documentation</a> for setup instructions.\n",
       "</p>\n",
       "<p>\n",
       "  If you're reading this message in another frontend (for example, a static\n",
       "  rendering on GitHub or <a href=\"https://nbviewer.jupyter.org/\">NBViewer</a>),\n",
       "  it may mean that your frontend doesn't currently support widgets.\n",
       "</p>\n"
      ],
      "text/plain": [
       "HBox(children=(IntProgress(value=0, max=193131), HTML(value='')))"
      ]
     },
     "metadata": {},
     "output_type": "display_data"
    },
    {
     "data": {
      "application/vnd.jupyter.widget-view+json": {
       "model_id": "45ada17c8fbc4d64b05eedc225e73f20",
       "version_major": 2,
       "version_minor": 0
      },
      "text/html": [
       "<p>Failed to display Jupyter Widget of type <code>HBox</code>.</p>\n",
       "<p>\n",
       "  If you're reading this message in the Jupyter Notebook or JupyterLab Notebook, it may mean\n",
       "  that the widgets JavaScript is still loading. If this message persists, it\n",
       "  likely means that the widgets JavaScript library is either not installed or\n",
       "  not enabled. See the <a href=\"https://ipywidgets.readthedocs.io/en/stable/user_install.html\">Jupyter\n",
       "  Widgets Documentation</a> for setup instructions.\n",
       "</p>\n",
       "<p>\n",
       "  If you're reading this message in another frontend (for example, a static\n",
       "  rendering on GitHub or <a href=\"https://nbviewer.jupyter.org/\">NBViewer</a>),\n",
       "  it may mean that your frontend doesn't currently support widgets.\n",
       "</p>\n"
      ],
      "text/plain": [
       "HBox(children=(IntProgress(value=0, max=153), HTML(value='')))"
      ]
     },
     "metadata": {},
     "output_type": "display_data"
    },
    {
     "data": {
      "application/vnd.jupyter.widget-view+json": {
       "model_id": "867193cb84164efa932d84a8b4b8c1b5",
       "version_major": 2,
       "version_minor": 0
      },
      "text/html": [
       "<p>Failed to display Jupyter Widget of type <code>HBox</code>.</p>\n",
       "<p>\n",
       "  If you're reading this message in the Jupyter Notebook or JupyterLab Notebook, it may mean\n",
       "  that the widgets JavaScript is still loading. If this message persists, it\n",
       "  likely means that the widgets JavaScript library is either not installed or\n",
       "  not enabled. See the <a href=\"https://ipywidgets.readthedocs.io/en/stable/user_install.html\">Jupyter\n",
       "  Widgets Documentation</a> for setup instructions.\n",
       "</p>\n",
       "<p>\n",
       "  If you're reading this message in another frontend (for example, a static\n",
       "  rendering on GitHub or <a href=\"https://nbviewer.jupyter.org/\">NBViewer</a>),\n",
       "  it may mean that your frontend doesn't currently support widgets.\n",
       "</p>\n"
      ],
      "text/plain": [
       "HBox(children=(IntProgress(value=0, max=6786), HTML(value='')))"
      ]
     },
     "metadata": {},
     "output_type": "display_data"
    },
    {
     "data": {
      "application/vnd.jupyter.widget-view+json": {
       "model_id": "0da3f04b6b4e48d78bc98f84ef192f7c",
       "version_major": 2,
       "version_minor": 0
      },
      "text/html": [
       "<p>Failed to display Jupyter Widget of type <code>HBox</code>.</p>\n",
       "<p>\n",
       "  If you're reading this message in the Jupyter Notebook or JupyterLab Notebook, it may mean\n",
       "  that the widgets JavaScript is still loading. If this message persists, it\n",
       "  likely means that the widgets JavaScript library is either not installed or\n",
       "  not enabled. See the <a href=\"https://ipywidgets.readthedocs.io/en/stable/user_install.html\">Jupyter\n",
       "  Widgets Documentation</a> for setup instructions.\n",
       "</p>\n",
       "<p>\n",
       "  If you're reading this message in another frontend (for example, a static\n",
       "  rendering on GitHub or <a href=\"https://nbviewer.jupyter.org/\">NBViewer</a>),\n",
       "  it may mean that your frontend doesn't currently support widgets.\n",
       "</p>\n"
      ],
      "text/plain": [
       "HBox(children=(IntProgress(value=0, max=28), HTML(value='')))"
      ]
     },
     "metadata": {},
     "output_type": "display_data"
    },
    {
     "data": {
      "application/vnd.jupyter.widget-view+json": {
       "model_id": "7aa2cedb199446d985d2877c5befb701",
       "version_major": 2,
       "version_minor": 0
      },
      "text/html": [
       "<p>Failed to display Jupyter Widget of type <code>HBox</code>.</p>\n",
       "<p>\n",
       "  If you're reading this message in the Jupyter Notebook or JupyterLab Notebook, it may mean\n",
       "  that the widgets JavaScript is still loading. If this message persists, it\n",
       "  likely means that the widgets JavaScript library is either not installed or\n",
       "  not enabled. See the <a href=\"https://ipywidgets.readthedocs.io/en/stable/user_install.html\">Jupyter\n",
       "  Widgets Documentation</a> for setup instructions.\n",
       "</p>\n",
       "<p>\n",
       "  If you're reading this message in another frontend (for example, a static\n",
       "  rendering on GitHub or <a href=\"https://nbviewer.jupyter.org/\">NBViewer</a>),\n",
       "  it may mean that your frontend doesn't currently support widgets.\n",
       "</p>\n"
      ],
      "text/plain": [
       "HBox(children=(IntProgress(value=0, max=4656), HTML(value='')))"
      ]
     },
     "metadata": {},
     "output_type": "display_data"
    },
    {
     "data": {
      "application/vnd.jupyter.widget-view+json": {
       "model_id": "a4ca4f41b13540ca94d37e77d4baba73",
       "version_major": 2,
       "version_minor": 0
      },
      "text/html": [
       "<p>Failed to display Jupyter Widget of type <code>HBox</code>.</p>\n",
       "<p>\n",
       "  If you're reading this message in the Jupyter Notebook or JupyterLab Notebook, it may mean\n",
       "  that the widgets JavaScript is still loading. If this message persists, it\n",
       "  likely means that the widgets JavaScript library is either not installed or\n",
       "  not enabled. See the <a href=\"https://ipywidgets.readthedocs.io/en/stable/user_install.html\">Jupyter\n",
       "  Widgets Documentation</a> for setup instructions.\n",
       "</p>\n",
       "<p>\n",
       "  If you're reading this message in another frontend (for example, a static\n",
       "  rendering on GitHub or <a href=\"https://nbviewer.jupyter.org/\">NBViewer</a>),\n",
       "  it may mean that your frontend doesn't currently support widgets.\n",
       "</p>\n"
      ],
      "text/plain": [
       "HBox(children=(IntProgress(value=0, max=496), HTML(value='')))"
      ]
     },
     "metadata": {},
     "output_type": "display_data"
    },
    {
     "data": {
      "application/vnd.jupyter.widget-view+json": {
       "model_id": "4ef4335f028a47679e706a233516a6f2",
       "version_major": 2,
       "version_minor": 0
      },
      "text/html": [
       "<p>Failed to display Jupyter Widget of type <code>HBox</code>.</p>\n",
       "<p>\n",
       "  If you're reading this message in the Jupyter Notebook or JupyterLab Notebook, it may mean\n",
       "  that the widgets JavaScript is still loading. If this message persists, it\n",
       "  likely means that the widgets JavaScript library is either not installed or\n",
       "  not enabled. See the <a href=\"https://ipywidgets.readthedocs.io/en/stable/user_install.html\">Jupyter\n",
       "  Widgets Documentation</a> for setup instructions.\n",
       "</p>\n",
       "<p>\n",
       "  If you're reading this message in another frontend (for example, a static\n",
       "  rendering on GitHub or <a href=\"https://nbviewer.jupyter.org/\">NBViewer</a>),\n",
       "  it may mean that your frontend doesn't currently support widgets.\n",
       "</p>\n"
      ],
      "text/plain": [
       "HBox(children=(IntProgress(value=0, max=572985), HTML(value='')))"
      ]
     },
     "metadata": {},
     "output_type": "display_data"
    },
    {
     "data": {
      "application/vnd.jupyter.widget-view+json": {
       "model_id": "dd0a4e75203a4a31800e159b5c6a2652",
       "version_major": 2,
       "version_minor": 0
      },
      "text/html": [
       "<p>Failed to display Jupyter Widget of type <code>HBox</code>.</p>\n",
       "<p>\n",
       "  If you're reading this message in the Jupyter Notebook or JupyterLab Notebook, it may mean\n",
       "  that the widgets JavaScript is still loading. If this message persists, it\n",
       "  likely means that the widgets JavaScript library is either not installed or\n",
       "  not enabled. See the <a href=\"https://ipywidgets.readthedocs.io/en/stable/user_install.html\">Jupyter\n",
       "  Widgets Documentation</a> for setup instructions.\n",
       "</p>\n",
       "<p>\n",
       "  If you're reading this message in another frontend (for example, a static\n",
       "  rendering on GitHub or <a href=\"https://nbviewer.jupyter.org/\">NBViewer</a>),\n",
       "  it may mean that your frontend doesn't currently support widgets.\n",
       "</p>\n"
      ],
      "text/plain": [
       "HBox(children=(IntProgress(value=0, max=1035), HTML(value='')))"
      ]
     },
     "metadata": {},
     "output_type": "display_data"
    },
    {
     "data": {
      "application/vnd.jupyter.widget-view+json": {
       "model_id": "63924aab1bfe4ad28693aecc1dfc2434",
       "version_major": 2,
       "version_minor": 0
      },
      "text/html": [
       "<p>Failed to display Jupyter Widget of type <code>HBox</code>.</p>\n",
       "<p>\n",
       "  If you're reading this message in the Jupyter Notebook or JupyterLab Notebook, it may mean\n",
       "  that the widgets JavaScript is still loading. If this message persists, it\n",
       "  likely means that the widgets JavaScript library is either not installed or\n",
       "  not enabled. See the <a href=\"https://ipywidgets.readthedocs.io/en/stable/user_install.html\">Jupyter\n",
       "  Widgets Documentation</a> for setup instructions.\n",
       "</p>\n",
       "<p>\n",
       "  If you're reading this message in another frontend (for example, a static\n",
       "  rendering on GitHub or <a href=\"https://nbviewer.jupyter.org/\">NBViewer</a>),\n",
       "  it may mean that your frontend doesn't currently support widgets.\n",
       "</p>\n"
      ],
      "text/plain": [
       "HBox(children=(IntProgress(value=0, max=105), HTML(value='')))"
      ]
     },
     "metadata": {},
     "output_type": "display_data"
    },
    {
     "data": {
      "application/vnd.jupyter.widget-view+json": {
       "model_id": "5afa7645b9da4a60a9087d05c0a96d53",
       "version_major": 2,
       "version_minor": 0
      },
      "text/html": [
       "<p>Failed to display Jupyter Widget of type <code>HBox</code>.</p>\n",
       "<p>\n",
       "  If you're reading this message in the Jupyter Notebook or JupyterLab Notebook, it may mean\n",
       "  that the widgets JavaScript is still loading. If this message persists, it\n",
       "  likely means that the widgets JavaScript library is either not installed or\n",
       "  not enabled. See the <a href=\"https://ipywidgets.readthedocs.io/en/stable/user_install.html\">Jupyter\n",
       "  Widgets Documentation</a> for setup instructions.\n",
       "</p>\n",
       "<p>\n",
       "  If you're reading this message in another frontend (for example, a static\n",
       "  rendering on GitHub or <a href=\"https://nbviewer.jupyter.org/\">NBViewer</a>),\n",
       "  it may mean that your frontend doesn't currently support widgets.\n",
       "</p>\n"
      ],
      "text/plain": [
       "HBox(children=(IntProgress(value=0, max=66), HTML(value='')))"
      ]
     },
     "metadata": {},
     "output_type": "display_data"
    },
    {
     "data": {
      "application/vnd.jupyter.widget-view+json": {
       "model_id": "58c1a8681c464a798373d2e7df4b8082",
       "version_major": 2,
       "version_minor": 0
      },
      "text/html": [
       "<p>Failed to display Jupyter Widget of type <code>HBox</code>.</p>\n",
       "<p>\n",
       "  If you're reading this message in the Jupyter Notebook or JupyterLab Notebook, it may mean\n",
       "  that the widgets JavaScript is still loading. If this message persists, it\n",
       "  likely means that the widgets JavaScript library is either not installed or\n",
       "  not enabled. See the <a href=\"https://ipywidgets.readthedocs.io/en/stable/user_install.html\">Jupyter\n",
       "  Widgets Documentation</a> for setup instructions.\n",
       "</p>\n",
       "<p>\n",
       "  If you're reading this message in another frontend (for example, a static\n",
       "  rendering on GitHub or <a href=\"https://nbviewer.jupyter.org/\">NBViewer</a>),\n",
       "  it may mean that your frontend doesn't currently support widgets.\n",
       "</p>\n"
      ],
      "text/plain": [
       "HBox(children=(IntProgress(value=0, max=36), HTML(value='')))"
      ]
     },
     "metadata": {},
     "output_type": "display_data"
    },
    {
     "data": {
      "application/vnd.jupyter.widget-view+json": {
       "model_id": "7638ab8e9f5e4645aa3a6d5970bdd2ae",
       "version_major": 2,
       "version_minor": 0
      },
      "text/html": [
       "<p>Failed to display Jupyter Widget of type <code>HBox</code>.</p>\n",
       "<p>\n",
       "  If you're reading this message in the Jupyter Notebook or JupyterLab Notebook, it may mean\n",
       "  that the widgets JavaScript is still loading. If this message persists, it\n",
       "  likely means that the widgets JavaScript library is either not installed or\n",
       "  not enabled. See the <a href=\"https://ipywidgets.readthedocs.io/en/stable/user_install.html\">Jupyter\n",
       "  Widgets Documentation</a> for setup instructions.\n",
       "</p>\n",
       "<p>\n",
       "  If you're reading this message in another frontend (for example, a static\n",
       "  rendering on GitHub or <a href=\"https://nbviewer.jupyter.org/\">NBViewer</a>),\n",
       "  it may mean that your frontend doesn't currently support widgets.\n",
       "</p>\n"
      ],
      "text/plain": [
       "HBox(children=(IntProgress(value=0, max=2080), HTML(value='')))"
      ]
     },
     "metadata": {},
     "output_type": "display_data"
    },
    {
     "data": {
      "application/vnd.jupyter.widget-view+json": {
       "model_id": "577f587b766e45ad874ad92caf9b6ee1",
       "version_major": 2,
       "version_minor": 0
      },
      "text/html": [
       "<p>Failed to display Jupyter Widget of type <code>HBox</code>.</p>\n",
       "<p>\n",
       "  If you're reading this message in the Jupyter Notebook or JupyterLab Notebook, it may mean\n",
       "  that the widgets JavaScript is still loading. If this message persists, it\n",
       "  likely means that the widgets JavaScript library is either not installed or\n",
       "  not enabled. See the <a href=\"https://ipywidgets.readthedocs.io/en/stable/user_install.html\">Jupyter\n",
       "  Widgets Documentation</a> for setup instructions.\n",
       "</p>\n",
       "<p>\n",
       "  If you're reading this message in another frontend (for example, a static\n",
       "  rendering on GitHub or <a href=\"https://nbviewer.jupyter.org/\">NBViewer</a>),\n",
       "  it may mean that your frontend doesn't currently support widgets.\n",
       "</p>\n"
      ],
      "text/plain": [
       "HBox(children=(IntProgress(value=0, max=21), HTML(value='')))"
      ]
     },
     "metadata": {},
     "output_type": "display_data"
    },
    {
     "data": {
      "application/vnd.jupyter.widget-view+json": {
       "model_id": "33d223dfaeb74b1fbfa6505911680f9c",
       "version_major": 2,
       "version_minor": 0
      },
      "text/html": [
       "<p>Failed to display Jupyter Widget of type <code>HBox</code>.</p>\n",
       "<p>\n",
       "  If you're reading this message in the Jupyter Notebook or JupyterLab Notebook, it may mean\n",
       "  that the widgets JavaScript is still loading. If this message persists, it\n",
       "  likely means that the widgets JavaScript library is either not installed or\n",
       "  not enabled. See the <a href=\"https://ipywidgets.readthedocs.io/en/stable/user_install.html\">Jupyter\n",
       "  Widgets Documentation</a> for setup instructions.\n",
       "</p>\n",
       "<p>\n",
       "  If you're reading this message in another frontend (for example, a static\n",
       "  rendering on GitHub or <a href=\"https://nbviewer.jupyter.org/\">NBViewer</a>),\n",
       "  it may mean that your frontend doesn't currently support widgets.\n",
       "</p>\n"
      ],
      "text/plain": [
       "HBox(children=(IntProgress(value=0, max=5802121), HTML(value='')))"
      ]
     },
     "metadata": {},
     "output_type": "display_data"
    },
    {
     "data": {
      "application/vnd.jupyter.widget-view+json": {
       "model_id": "945dc13439d448e4b0ee5fecc8170a12",
       "version_major": 2,
       "version_minor": 0
      },
      "text/html": [
       "<p>Failed to display Jupyter Widget of type <code>HBox</code>.</p>\n",
       "<p>\n",
       "  If you're reading this message in the Jupyter Notebook or JupyterLab Notebook, it may mean\n",
       "  that the widgets JavaScript is still loading. If this message persists, it\n",
       "  likely means that the widgets JavaScript library is either not installed or\n",
       "  not enabled. See the <a href=\"https://ipywidgets.readthedocs.io/en/stable/user_install.html\">Jupyter\n",
       "  Widgets Documentation</a> for setup instructions.\n",
       "</p>\n",
       "<p>\n",
       "  If you're reading this message in another frontend (for example, a static\n",
       "  rendering on GitHub or <a href=\"https://nbviewer.jupyter.org/\">NBViewer</a>),\n",
       "  it may mean that your frontend doesn't currently support widgets.\n",
       "</p>\n"
      ],
      "text/plain": [
       "HBox(children=(IntProgress(value=0, max=28), HTML(value='')))"
      ]
     },
     "metadata": {},
     "output_type": "display_data"
    },
    {
     "data": {
      "application/vnd.jupyter.widget-view+json": {
       "model_id": "d7c42f2866f1407dba04f84537f071f9",
       "version_major": 2,
       "version_minor": 0
      },
      "text/html": [
       "<p>Failed to display Jupyter Widget of type <code>HBox</code>.</p>\n",
       "<p>\n",
       "  If you're reading this message in the Jupyter Notebook or JupyterLab Notebook, it may mean\n",
       "  that the widgets JavaScript is still loading. If this message persists, it\n",
       "  likely means that the widgets JavaScript library is either not installed or\n",
       "  not enabled. See the <a href=\"https://ipywidgets.readthedocs.io/en/stable/user_install.html\">Jupyter\n",
       "  Widgets Documentation</a> for setup instructions.\n",
       "</p>\n",
       "<p>\n",
       "  If you're reading this message in another frontend (for example, a static\n",
       "  rendering on GitHub or <a href=\"https://nbviewer.jupyter.org/\">NBViewer</a>),\n",
       "  it may mean that your frontend doesn't currently support widgets.\n",
       "</p>\n"
      ],
      "text/plain": [
       "HBox(children=(IntProgress(value=0, max=1275), HTML(value='')))"
      ]
     },
     "metadata": {},
     "output_type": "display_data"
    },
    {
     "data": {
      "application/vnd.jupyter.widget-view+json": {
       "model_id": "5339f1b608f24faca16329c13e0a42dd",
       "version_major": 2,
       "version_minor": 0
      },
      "text/html": [
       "<p>Failed to display Jupyter Widget of type <code>HBox</code>.</p>\n",
       "<p>\n",
       "  If you're reading this message in the Jupyter Notebook or JupyterLab Notebook, it may mean\n",
       "  that the widgets JavaScript is still loading. If this message persists, it\n",
       "  likely means that the widgets JavaScript library is either not installed or\n",
       "  not enabled. See the <a href=\"https://ipywidgets.readthedocs.io/en/stable/user_install.html\">Jupyter\n",
       "  Widgets Documentation</a> for setup instructions.\n",
       "</p>\n",
       "<p>\n",
       "  If you're reading this message in another frontend (for example, a static\n",
       "  rendering on GitHub or <a href=\"https://nbviewer.jupyter.org/\">NBViewer</a>),\n",
       "  it may mean that your frontend doesn't currently support widgets.\n",
       "</p>\n"
      ],
      "text/plain": [
       "HBox(children=(IntProgress(value=0, max=10), HTML(value='')))"
      ]
     },
     "metadata": {},
     "output_type": "display_data"
    },
    {
     "data": {
      "application/vnd.jupyter.widget-view+json": {
       "model_id": "50a443916bca46d3876cde87ce9d4dbe",
       "version_major": 2,
       "version_minor": 0
      },
      "text/html": [
       "<p>Failed to display Jupyter Widget of type <code>HBox</code>.</p>\n",
       "<p>\n",
       "  If you're reading this message in the Jupyter Notebook or JupyterLab Notebook, it may mean\n",
       "  that the widgets JavaScript is still loading. If this message persists, it\n",
       "  likely means that the widgets JavaScript library is either not installed or\n",
       "  not enabled. See the <a href=\"https://ipywidgets.readthedocs.io/en/stable/user_install.html\">Jupyter\n",
       "  Widgets Documentation</a> for setup instructions.\n",
       "</p>\n",
       "<p>\n",
       "  If you're reading this message in another frontend (for example, a static\n",
       "  rendering on GitHub or <a href=\"https://nbviewer.jupyter.org/\">NBViewer</a>),\n",
       "  it may mean that your frontend doesn't currently support widgets.\n",
       "</p>\n"
      ],
      "text/plain": [
       "HBox(children=(IntProgress(value=0, max=10), HTML(value='')))"
      ]
     },
     "metadata": {},
     "output_type": "display_data"
    },
    {
     "data": {
      "application/vnd.jupyter.widget-view+json": {
       "model_id": "2458eab296c74275afa3038d7a4cb6af",
       "version_major": 2,
       "version_minor": 0
      },
      "text/html": [
       "<p>Failed to display Jupyter Widget of type <code>HBox</code>.</p>\n",
       "<p>\n",
       "  If you're reading this message in the Jupyter Notebook or JupyterLab Notebook, it may mean\n",
       "  that the widgets JavaScript is still loading. If this message persists, it\n",
       "  likely means that the widgets JavaScript library is either not installed or\n",
       "  not enabled. See the <a href=\"https://ipywidgets.readthedocs.io/en/stable/user_install.html\">Jupyter\n",
       "  Widgets Documentation</a> for setup instructions.\n",
       "</p>\n",
       "<p>\n",
       "  If you're reading this message in another frontend (for example, a static\n",
       "  rendering on GitHub or <a href=\"https://nbviewer.jupyter.org/\">NBViewer</a>),\n",
       "  it may mean that your frontend doesn't currently support widgets.\n",
       "</p>\n"
      ],
      "text/plain": [
       "HBox(children=(IntProgress(value=0, max=171), HTML(value='')))"
      ]
     },
     "metadata": {},
     "output_type": "display_data"
    },
    {
     "data": {
      "application/vnd.jupyter.widget-view+json": {
       "model_id": "36002513042d4e20a7ceabb0083a828e",
       "version_major": 2,
       "version_minor": 0
      },
      "text/html": [
       "<p>Failed to display Jupyter Widget of type <code>HBox</code>.</p>\n",
       "<p>\n",
       "  If you're reading this message in the Jupyter Notebook or JupyterLab Notebook, it may mean\n",
       "  that the widgets JavaScript is still loading. If this message persists, it\n",
       "  likely means that the widgets JavaScript library is either not installed or\n",
       "  not enabled. See the <a href=\"https://ipywidgets.readthedocs.io/en/stable/user_install.html\">Jupyter\n",
       "  Widgets Documentation</a> for setup instructions.\n",
       "</p>\n",
       "<p>\n",
       "  If you're reading this message in another frontend (for example, a static\n",
       "  rendering on GitHub or <a href=\"https://nbviewer.jupyter.org/\">NBViewer</a>),\n",
       "  it may mean that your frontend doesn't currently support widgets.\n",
       "</p>\n"
      ],
      "text/plain": [
       "HBox(children=(IntProgress(value=0, max=136), HTML(value='')))"
      ]
     },
     "metadata": {},
     "output_type": "display_data"
    },
    {
     "data": {
      "application/vnd.jupyter.widget-view+json": {
       "model_id": "e0df2b9021cb4995a3a98bb399b7107b",
       "version_major": 2,
       "version_minor": 0
      },
      "text/html": [
       "<p>Failed to display Jupyter Widget of type <code>HBox</code>.</p>\n",
       "<p>\n",
       "  If you're reading this message in the Jupyter Notebook or JupyterLab Notebook, it may mean\n",
       "  that the widgets JavaScript is still loading. If this message persists, it\n",
       "  likely means that the widgets JavaScript library is either not installed or\n",
       "  not enabled. See the <a href=\"https://ipywidgets.readthedocs.io/en/stable/user_install.html\">Jupyter\n",
       "  Widgets Documentation</a> for setup instructions.\n",
       "</p>\n",
       "<p>\n",
       "  If you're reading this message in another frontend (for example, a static\n",
       "  rendering on GitHub or <a href=\"https://nbviewer.jupyter.org/\">NBViewer</a>),\n",
       "  it may mean that your frontend doesn't currently support widgets.\n",
       "</p>\n"
      ],
      "text/plain": [
       "HBox(children=(IntProgress(value=0, max=66), HTML(value='')))"
      ]
     },
     "metadata": {},
     "output_type": "display_data"
    },
    {
     "data": {
      "application/vnd.jupyter.widget-view+json": {
       "model_id": "aa0c21e4fd46434aa2c75b56661a732d",
       "version_major": 2,
       "version_minor": 0
      },
      "text/html": [
       "<p>Failed to display Jupyter Widget of type <code>HBox</code>.</p>\n",
       "<p>\n",
       "  If you're reading this message in the Jupyter Notebook or JupyterLab Notebook, it may mean\n",
       "  that the widgets JavaScript is still loading. If this message persists, it\n",
       "  likely means that the widgets JavaScript library is either not installed or\n",
       "  not enabled. See the <a href=\"https://ipywidgets.readthedocs.io/en/stable/user_install.html\">Jupyter\n",
       "  Widgets Documentation</a> for setup instructions.\n",
       "</p>\n",
       "<p>\n",
       "  If you're reading this message in another frontend (for example, a static\n",
       "  rendering on GitHub or <a href=\"https://nbviewer.jupyter.org/\">NBViewer</a>),\n",
       "  it may mean that your frontend doesn't currently support widgets.\n",
       "</p>\n"
      ],
      "text/plain": [
       "HBox(children=(IntProgress(value=0, max=18721), HTML(value='')))"
      ]
     },
     "metadata": {},
     "output_type": "display_data"
    },
    {
     "data": {
      "application/vnd.jupyter.widget-view+json": {
       "model_id": "5ed5a9257d094c84af19b62e61e81485",
       "version_major": 2,
       "version_minor": 0
      },
      "text/html": [
       "<p>Failed to display Jupyter Widget of type <code>HBox</code>.</p>\n",
       "<p>\n",
       "  If you're reading this message in the Jupyter Notebook or JupyterLab Notebook, it may mean\n",
       "  that the widgets JavaScript is still loading. If this message persists, it\n",
       "  likely means that the widgets JavaScript library is either not installed or\n",
       "  not enabled. See the <a href=\"https://ipywidgets.readthedocs.io/en/stable/user_install.html\">Jupyter\n",
       "  Widgets Documentation</a> for setup instructions.\n",
       "</p>\n",
       "<p>\n",
       "  If you're reading this message in another frontend (for example, a static\n",
       "  rendering on GitHub or <a href=\"https://nbviewer.jupyter.org/\">NBViewer</a>),\n",
       "  it may mean that your frontend doesn't currently support widgets.\n",
       "</p>\n"
      ],
      "text/plain": [
       "HBox(children=(IntProgress(value=0, max=666), HTML(value='')))"
      ]
     },
     "metadata": {},
     "output_type": "display_data"
    },
    {
     "data": {
      "application/vnd.jupyter.widget-view+json": {
       "model_id": "5aba3b8882be4ddb928f0c4ddd210b96",
       "version_major": 2,
       "version_minor": 0
      },
      "text/html": [
       "<p>Failed to display Jupyter Widget of type <code>HBox</code>.</p>\n",
       "<p>\n",
       "  If you're reading this message in the Jupyter Notebook or JupyterLab Notebook, it may mean\n",
       "  that the widgets JavaScript is still loading. If this message persists, it\n",
       "  likely means that the widgets JavaScript library is either not installed or\n",
       "  not enabled. See the <a href=\"https://ipywidgets.readthedocs.io/en/stable/user_install.html\">Jupyter\n",
       "  Widgets Documentation</a> for setup instructions.\n",
       "</p>\n",
       "<p>\n",
       "  If you're reading this message in another frontend (for example, a static\n",
       "  rendering on GitHub or <a href=\"https://nbviewer.jupyter.org/\">NBViewer</a>),\n",
       "  it may mean that your frontend doesn't currently support widgets.\n",
       "</p>\n"
      ],
      "text/plain": [
       "HBox(children=(IntProgress(value=0, max=45), HTML(value='')))"
      ]
     },
     "metadata": {},
     "output_type": "display_data"
    },
    {
     "data": {
      "application/vnd.jupyter.widget-view+json": {
       "model_id": "89dfdb2180cb49ceb3eed3192d6086b7",
       "version_major": 2,
       "version_minor": 0
      },
      "text/html": [
       "<p>Failed to display Jupyter Widget of type <code>HBox</code>.</p>\n",
       "<p>\n",
       "  If you're reading this message in the Jupyter Notebook or JupyterLab Notebook, it may mean\n",
       "  that the widgets JavaScript is still loading. If this message persists, it\n",
       "  likely means that the widgets JavaScript library is either not installed or\n",
       "  not enabled. See the <a href=\"https://ipywidgets.readthedocs.io/en/stable/user_install.html\">Jupyter\n",
       "  Widgets Documentation</a> for setup instructions.\n",
       "</p>\n",
       "<p>\n",
       "  If you're reading this message in another frontend (for example, a static\n",
       "  rendering on GitHub or <a href=\"https://nbviewer.jupyter.org/\">NBViewer</a>),\n",
       "  it may mean that your frontend doesn't currently support widgets.\n",
       "</p>\n"
      ],
      "text/plain": [
       "HBox(children=(IntProgress(value=0, max=36), HTML(value='')))"
      ]
     },
     "metadata": {},
     "output_type": "display_data"
    }
   ],
   "source": [
    "edge_list = []\n",
    "threshold = 0.9\n",
    "for brand, group_specs in tqdm(brand_groups.items()):\n",
    "    brand_combs = np.array(list(combinations(group_specs, 2)))\n",
    "    for pair in tqdm(brand_combs):\n",
    "        left, right = pair    \n",
    "        ratio = lev.ratio(page_titles[left], page_titles[right])\n",
    "        if ratio >= threshold:\n",
    "            edge_list.append((left, right, ratio))"
   ]
  },
  {
   "cell_type": "code",
   "execution_count": 37,
   "metadata": {
    "Collapsed": "false"
   },
   "outputs": [
    {
     "data": {
      "text/plain": [
       "93444"
      ]
     },
     "execution_count": 37,
     "metadata": {},
     "output_type": "execute_result"
    }
   ],
   "source": [
    "len(edge_list)"
   ]
  },
  {
   "cell_type": "code",
   "execution_count": 40,
   "metadata": {
    "Collapsed": "false"
   },
   "outputs": [],
   "source": [
    "with open('../data/processed/graph_edgelist.txt', 'w') as f:\n",
    "    for row in edge_list:\n",
    "        f.write(f'{row[0]} {row[1]} {row[2]}\\n')"
   ]
  },
  {
   "cell_type": "code",
   "execution_count": 41,
   "metadata": {
    "Collapsed": "false"
   },
   "outputs": [],
   "source": [
    "import networkx as nx"
   ]
  },
  {
   "cell_type": "code",
   "execution_count": 42,
   "metadata": {
    "Collapsed": "false"
   },
   "outputs": [],
   "source": [
    "graph = nx.read_weighted_edgelist('../data/processed/graph_edgelist.txt')"
   ]
  },
  {
   "cell_type": "code",
   "execution_count": 46,
   "metadata": {
    "Collapsed": "false"
   },
   "outputs": [
    {
     "data": {
      "text/plain": [
       "AtlasView({'580': {'weight': 0.9512195121951219}, '2616': {'weight': 0.925}, '3180': {'weight': 0.9512195121951219}, '7095': {'weight': 0.926829268292683}, '7260': {'weight': 0.926829268292683}, '7292': {'weight': 0.9512195121951219}, '8380': {'weight': 1.0}, '11757': {'weight': 0.9425287356321839}})"
      ]
     },
     "execution_count": 46,
     "metadata": {},
     "output_type": "execute_result"
    }
   ],
   "source": [
    "graph.adj['0']"
   ]
  },
  {
   "cell_type": "code",
   "execution_count": 47,
   "metadata": {
    "Collapsed": "false"
   },
   "outputs": [
    {
     "data": {
      "text/plain": [
       "AtlasView({'0': {'weight': 0.9512195121951219}, '1673': {'weight': 0.9213483146067416}, '1770': {'weight': 0.9425287356321839}, '2616': {'weight': 0.95}, '3180': {'weight': 1.0}, '7095': {'weight': 0.975609756097561}, '7260': {'weight': 0.975609756097561}, '7292': {'weight': 1.0}, '8380': {'weight': 0.9512195121951219}, '12379': {'weight': 0.9210526315789473}})"
      ]
     },
     "execution_count": 47,
     "metadata": {},
     "output_type": "execute_result"
    }
   ],
   "source": [
    "graph.adj['580']"
   ]
  },
  {
   "cell_type": "code",
   "execution_count": 53,
   "metadata": {
    "Collapsed": "false"
   },
   "outputs": [
    {
     "data": {
      "text/plain": [
       "array([6.])"
      ]
     },
     "execution_count": 53,
     "metadata": {},
     "output_type": "execute_result"
    }
   ],
   "source": [
    "def n_graph_common_neighboors(left_idx, right_idx, graph_adj):\n",
    "    graph_keys = graph_adj.keys()\n",
    "    n_common_neighboors = np.zeros(len(left_idx))\n",
    "    for i in range(len(left_idx)):\n",
    "        left, right = left_idx[i], right_idx[i]\n",
    "        if left not in graph_keys or right not in graph_keys:\n",
    "            n_common_neighboors[i] = 0\n",
    "            continue\n",
    "        left_neighboors = graph_adj[left]\n",
    "        right_neighboors = graph_adj[right]\n",
    "        n_common_neighboors[i] = len(set(left_neighboors).intersection(set(right_neighboors)))\n",
    "    return n_common_neighboors\n",
    "\n",
    "n_graph_common_neighboors(['0'], ['580'], graph.adj)"
   ]
  },
  {
   "cell_type": "code",
   "execution_count": 55,
   "metadata": {
    "Collapsed": "false"
   },
   "outputs": [
    {
     "data": {
      "text/plain": [
       "NodeView(('14297', '14444', '14499', '3833', '11211', '4285', '7782', '6817', '9604', '16969', '16997', '17007', '17045', '588', '10169', '16021', '16164', '16221', '16279', '19332', '19433', '19435', '19583', '0', '580', '2616', '3180', '7095', '7260', '7292', '8380', '11757', '2', '4594', '5223', '6499', '7198', '13832', '9', '14173', '11', '140', '260', '659', '755', '1026', '1077', '1206', '1208', '1319', '1399', '1526', '1553', '1726', '1902', '2161', '2364', '2558', '2708', '3072', '3403', '3614', '3907', '3959', '4467', '4705', '4799', '5689', '5760', '5808', '5881', '6217', '6223', '6279', '6706', '6760', '6894', '6940', '7509', '7924', '8495', '8666', '8725', '8783', '9576', '9647', '9702', '9908', '9945', '9977', '10047', '10115', '10152', '10966', '11400', '11652', '11689', '11756', '11956', '12013', '12065', '12086', '12158', '12225', '12262', '12398', '12425', '12601', '12727', '12759', '12793', '12923', '13004', '13061', '13112', '13133', '13194', '13426', '13829', '13997', '12', '122', '209', '550', '1268', '1655', '1686', '2130', '2751', '3020', '3406', '3544', '4781', '5071', '5583', '5596', '5741', '6851', '7135', '7557', '7584', '7665', '7686', '8300', '8626', '10010', '10146', '10296', '10701', '10774', '11665', '11769', '11997', '12126', '12272', '12324', '12696', '12734', '13', '2175', '2454', '4730', '5339', '6181', '6373', '8270', '15', '1949', '10746', '13910', '18', '291', '4892', '5507', '7866', '9505', '9720', '23', '6784', '8185', '8891', '25', '3892', '6696', '9373', '9482', '13787', '34', '9821', '46', '183', '654', '1118', '1881', '2357', '2438', '2441', '2472', '2604', '3274', '3519', '4763', '5195', '5995', '6750', '7907', '9324', '9361', '9713', '10057', '10130', '11079', '11598', '12072', '12201', '12375', '12450', '12535', '12738', '13440', '13640', '14105', '14154', '56', '1474', '62', '11536', '12009', '13015', '84', '3204', '5328', '6871', '10594', '13954', '90', '223', '12551', '111', '5326', '6039', '9842', '1198', '1230', '2231', '3660', '4061', '4561', '4990', '5936', '6335', '8292', '8362', '8524', '8782', '9699', '10666', '11190', '11199', '11238', '11547', '12790', '12876', '13197', '13626', '13809', '13944', '14110', '14190', '124', '9307', '127', '12146', '13862', '131', '1821', '2059', '2068', '2301', '3013', '3226', '3236', '3575', '3727', '4708', '4787', '5140', '5206', '5334', '5547', '6059', '6573', '7093', '7701', '8065', '8394', '9100', '9279', '9358', '10137', '10488', '12259', '12572', '12892', '12968', '13080', '13494', '133', '2704', '3890', '6226', '136', '3757', '6049', '7110', '8704', '11738', '880', '4868', '5262', '5894', '6140', '6173', '9011', '9125', '10892', '11517', '12904', '141', '13836', '142', '849', '1264', '2045', '2214', '2691', '3124', '3772', '4265', '4711', '6108', '8344', '9276', '9464', '10373', '10654', '11061', '13094', '143', '189', '444', '895', '1475', '1843', '2457', '2500', '3415', '3605', '4383', '4507', '4641', '4644', '4825', '5086', '5920', '6322', '6326', '7299', '8099', '8169', '9211', '9898', '10018', '11259', '11463', '11489', '11705', '12206', '12213', '12692', '12828', '12844', '13111', '13126', '13714', '13800', '160', '166', '623', '1480', '1840', '2741', '3599', '4527', '6674', '7283', '8870', '13196', '13237', '13327', '204', '541', '730', '1018', '1346', '1379', '1609', '1718', '1851', '2081', '3178', '3698', '3820', '3844', '4047', '4195', '4439', '4531', '4590', '5214', '5273', '5484', '5678', '5685', '5725', '5744', '5755', '5992', '6002', '6427', '6473', '6555', '6556', '6633', '7079', '7403', '7696', '7869', '7926', '7933', '8018', '8067', '8125', '8249', '8279', '8453', '8720', '8904', '8949', '9156', '9238', '9415', '10033', '10321', '10450', '10905', '10922', '10939', '10955', '11083', '11124', '11806', '12351', '12634', '12728', '12766', '12771', '13266', '13608', '13641', '13718', '13785', '13794', '13894', '13966', '14050', '14077', '196', '949', '1539', '1752', '2004', '2254', '2685', '2718', '4647', '5285', '5347', '7572', '9779', '12081', '12090', '13272', '13474', '13715', '197', '2962', '4581', '6486', '12320', '12862', '203', '479', '495', '609', '651', '809', '811', '956', '1093', '1153', '1330', '1535', '1543', '1603', '1735', '1914', '2064', '2294', '2596', '3091', '3127', '3365', '3649', '3768', '4250', '4275', '4301', '4364', '4854', '5377', '5517', '5587', '5740', '6073', '6077', '6187', '6565', '6715', '6790', '6889', '6932', '6951', '7068', '7162', '7359', '7376', '7535', '7573', '7680', '7683', '8041', '8104', '8588', '8655', '8738', '9082', '9220', '9679', '9722', '10065', '10111', '10145', '10462', '11025', '11184', '11226', '11370', '11658', '11786', '11845', '11957', '12018', '12102', '12274', '12293', '12376', '12789', '12894', '13136', '13363', '13478', '13518', '13557', '13602', '13905', '14022', '14150', '14258', '766', '240', '2401', '10510', '250', '1421', '2075', '3541', '4206', '4680', '5037', '6190', '6434', '10997', '11128', '12958', '14006', '14076', '252', '2367', '2764', '3319', '3400', '4809', '5001', '5875', '6010', '6640', '6762', '7112', '8086', '10956', '11125', '11873', '12110', '12251', '12809', '13556', '13976', '414', '545', '1641', '2027', '2289', '3315', '5449', '5798', '7578', '8761', '9241', '9919', '10646', '10907', '11002', '264', '2675', '3982', '4448', '5762', '6038', '13104', '281', '696', '5176', '5604', '6975', '8157', '9321', '9422', '10465', '10568', '10960', '12399', '14168', '304', '2207', '4198', '14097', '308', '5355', '319', '1035', '2183', '2599', '3450', '3452', '4813', '6319', '7571', '8712', '8735', '9450', '10415', '10897', '12787', '13643', '326', '8118', '331', '3073', '336', '2114', '6941', '10341', '337', '3567', '10049', '351', '7253', '357', '9777', '362', '3258', '4760', '7148', '364', '9694', '10343', '13400', '365', '1598', '2643', '2798', '4030', '4287', '4580', '5009', '5244', '5378', '5965', '6200', '7849', '8386', '10026', '10054', '10918', '10947', '11134', '11681', '11733', '11884', '12472', '13464', '13875', '368', '3030', '13929', '376', '3803', '407', '1632', '1943', '3723', '4970', '6946', '7132', '8461', '9872', '10578', '11175', '11465', '13540', '13760', '13811', '423', '1751', '2287', '3322', '3903', '7945', '8341', '8894', '9519', '10478', '10697', '12712', '429', '9605', '432', '1075', '2052', '2587', '3261', '4325', '4453', '5711', '5945', '6612', '7432', '7591', '7654', '8978', '9227', '9701', '9736', '11597', '11690', '11784', '12012', '12059', '12928', '13509', '13541', '14100', '14229', '434', '5282', '6649', '7010', '7026', '10802', '10971', '12452', '11091', '445', '1022', '2475', '5910', '6671', '7710', '9053', '11251', '11523', '12367', '13839', '13986', '14175', '447', '11595', '461', '8645', '10564', '469', '862', '2817', '5904', '6068', '9191', '12539', '14233', '470', '497', '2557', '6823', '1877', '1947', '2264', '2921', '3677', '3851', '5638', '6030', '6155', '8442', '8508', '8917', '9328', '9811', '11010', '11674', '13264', '13806', '13937', '4012', '5738', '499', '3457', '11789', '520', '7187', '538', '1155', '6959', '13463', '673', '778', '2729', '4042', '5390', '7140', '8005', '9323', '10835', '11846', '12426', '12685', '13093', '13908', '13961', '544', '9343', '12655', '764', '1360', '13943', '14074', '1554', '4013', '7955', '9431', '11629', '13891', '568', '1222', '1717', '1730', '2340', '3153', '4291', '4674', '6082', '6258', '6642', '7704', '8913', '10288', '11235', '13716', '13916', '14142', '1673', '1770', '12379', '590', '606', '3515', '613', '7234', '10796', '625', '5402', '637', '6804', '7204', '7524', '10505', '645', '1223', '14085', '2212', '4573', '12204', '3852', '660', '819', '2906', '3240', '7901', '8320', '9073', '10609', '11458', '675', '3353', '5709', '7891', '8742', '8948', '11408', '689', '740', '1107', '1177', '1273', '2489', '4162', '4213', '4230', '4483', '6323', '6347', '6436', '7827', '8532', '9208', '9383', '9750', '10030', '10138', '10484', '10745', '10930', '11242', '12083', '12210', '12328', '12690', '14254', '697', '3437', '3522', '4742', '7064', '8038', '10389', '10761', '10965', '11318', '12378', '13297', '14021', '14096', '715', '7200', '735', '1696', '1921', '3244', '3330', '4688', '6576', '13555', '750', '12534', '759', '2848', '762', '6125', '11459', '11994', '6690', '794', '3387', '3621', '3697', '4057', '4401', '4470', '4949', '5153', '6327', '6385', '7151', '7161', '7165', '7667', '7990', '8246', '9606', '9974', '10107', '11144', '11358', '11869', '13694', '805', '6796', '7762', '13286', '13783', '7443', '8773', '9927', '12688', '13759', '9937', '812', '1648', '1683', '2041', '3248', '11132', '11938', '12964', '825', '4138', '6232', '8846', '842', '847', '6493', '3433', '4496', '6298', '6590', '11393', '13461', '853', '2402', '863', '10850', '12681', '9004', '10216', '885', '10400', '891', '912', '5887', '7006', '2862', '2887', '10709', '11380', '911', '4863', '923', '7130', '930', '1315', '3679', '933', '11423', '19024', '935', '3090', '13089', '943', '7669', '951', '1758', '2422', '7940', '13114', '4282', '966', '1128', '1199', '1790', '2149', '3708', '4850', '7030', '7332', '8456', '9245', '9391', '10438', '11030', '11208', '13495', '13779', '984', '1613', '7518', '9745', '995', '4058', '9879', '10081', '1004', '2019', '2065', '2091', '2201', '4397', '10266', '11008', '12677', '13439', '2428', '2635', '3355', '3559', '3816', '6712', '6884', '7293', '8804', '9458', '9503', '10172', '10639', '10977', '11662', '13681', '1023', '2580', '2885', '3390', '7351', '8658', '8972', '9849', '11452', '13274', '13821', '13951', '1059', '2329', '6957', '3479', '1081', '10588', '1086', '2261', '2985', '3116', '4018', '5099', '6299', '7192', '8146', '8487', '9363', '10792', '12368', '12981', '13347', '1087', '3298', '5251', '8606', '11876', '12753', '13056', '1094', '2577', '3453', '4588', '6453', '7333', '7552', '14160', '1117', '10986', '1131', '4710', '1136', '11978', '1140', '1242', '2333', '4886', '5255', '5935', '6490', '7038', '8764', '11024', '1158', '12456', '1173', '2033', '3778', '4125', '4967', '13058', '1207', '1316', '6055', '7098', '10112', '1221', '1321', '6409', '1469', '6561', '3639', '7744', '11935', '12672', '1240', '3525', '7380', '1255', '2051', '7257', '10347', '10775', '13248', '1291', '1299', '13609', '1309', '3340', '12865', '13935', '14243', '1337', '6980', '10351', '13593', '1377', '5658', '7024', '10427', '13769', '5872', '6009', '4669', '5426', '6622', '9192', '1431', '3531', '7825', '12570', '13699', '14116', '1440', '2883', '2949', '3716', '4010', '4305', '4558', '7651', '9020', '9909', '13288', '1445', '3860', '14015', '1454', '2823', '7070', '7417', '8919', '11741', '11804', '1456', '6074', '8868', '1463', '7650', '1465', '2337', '4152', '5162', '4208', '9752', '1491', '3028', '1502', '6189', '1509', '11528', '1528', '7020', '1530', '5003', '9433', '11589', '1566', '4734', '13046', '5544', '1614', '11942', '1624', '12648', '8775', '1664', '8905', '1706', '7484', '10515', '10962', '11076', '9684', '7718', '8652', '13073', '3081', '1811', '1823', '2139', '2923', '12642', '13329', '1831', '3762', '29333', '1842', '12702', '10723', '1858', '3920', '5093', '5510', '8152', '8851', '11980', '1859', '13135', '7639', '7218', '11747', '12768', '1899', '1905', '7152', '9599', '1927', '3533', '4472', '4910', '5053', '5534', '6234', '7047', '8319', '8871', '9014', '11060', '12222', '12348', '12720', '13366', '1938', '2608', '6025', '8078', '12011', '11263', '1968', '10523', '1995', '6007', '6865', '9903', '12438', '13721', '29607', '2474', '6599', '8816', '6115', '8421', '12187', '13493', '2044', '5902', '10547', '12493', '13722', '2061', '2290', '3130', '5499', '6667', '9274', '10331', '2085', '7717', '2101', '2445', '2573', '2910', '3347', '9319', '10141', '12647', '14108', '2123', '6743', '8045', '8843', '2171', '2900', '2993', '3615', '4670', '6828', '7759', '8504', '9071', '10545', '10909', '11721', '12926', '4598', '2195', '3021', '4055', '4105', '5054', '7011', '7994', '8448', '9551', '11156', '11291', '11649', '12589', '14178', '2275', '2811', '2277', '6459', '12761', '2278', '5235', '3449', '2292', '11679', '4500', '6726', '11670', '2305', '12814', '2335', '3015', '3690', '10642', '2338', '2368', '2999', '6999', '9544', '2383', '6637', '12023', '2391', '8308', '8489', '12297', '2413', '7104', '2426', '5856', '7324', '9480', '2427', '4845', '2432', '6933', '6428', '5242', '2463', '2602', '5790', '13550', '11426', '2512', '2515', '12998', '2525', '13737', '2540', '9643', '5949', '9204', '10535', '11167', '2583', '7979', '2586', '12561', '2588', '5379', '2626', '7911', '13991', '2663', '6984', '11611', '2670', '2672', '11609', '2716', '7724', '6604', '2734', '6782', '7575', '8200', '2736', '5813', '2739', '3293', '13365', '2758', '6974', '9835', '10529', '2777', '7599', '2831', '5568', '2846', '14031', '2877', '10846', '2895', '11987', '13091', '2896', '3043', '5644', '9581', '11708', '2904', '2978', '4610', '10561', '11900', '2913', '2986', '4361', '4961', '6625', '8578', '9910', '10027', '10204', '12573', '2938', '3260', '6898', '11094', '12242', '12833', '11006', '2981', '5697', '6503', '9687', '10532', '11080', '12843', '13600', '3149', '6389', '6547', '11576', '12327', '19002', '6277', '3686', '6695', '9524', '11172', '13526', '6807', '3118', '6034', '3182', '4078', '5281', '6558', '3241', '10069', '3247', '8648', '3250', '3287', '3312', '9322', '10814', '3921', '9299', '3333', '3841', '3337', '3363', '8755', '13095', '13903', '13959', '18964', '18991', '19044', '3369', '6311', '10767', '3371', '8140', '3374', '5971', '9741', '3407', '4312', '9030', '5933', '6224', '3456', '10800', '3458', '6105', '6866', '9174', '3463', '11796', '4481', '3603', '4900', '12370', '3527', '7824', '7877', '10229', '11376', '11822', '13888', '3536', '3564', '3730', '8839', '10019', '3566', '3795', '5060', '9584', '11147', '11387', '3576', '9127', '10125', '10219', '3592', '12234', '6307', '3604', '10496', '3629', '3711', '3650', '8410', '9704', '3655', '12153', '12054', '11066', '14226', '3706', '13011', '3732', '6809', '10156', '5629', '3765', '5237', '13771', '3786', '6531', '13485', '10334', '6936', '10186', '3862', '14125', '29274', '29334', '29482', '29514', '3871', '7096', '3885', '5269', '3918', '5822', '6862', '8889', '3919', '5592', '11552', '3943', '4178', '29404', '3957', '6958', '3999', '9686', '11838', '12057', '13952', '4008', '4506', '4791', '9537', '8597', '13475', '5266', '7884', '8315', '8760', '9734', '10276', '12806', '4126', '6827', '9063', '29147', '4200', '5147', '10557', '4207', '10788', '11031', '4238', '10481', '4246', '12950', '4248', '4717', '4264', '7227', '8906', '4362', '5197', '4365', '10241', '10368', '4389', '14080', '4402', '11906', '4493', '5577', '9244', '9895', '4514', '6978', '9499', '12107', '4524', '5312', '9385', '4529', '8885', '9611', '7304', '4619', '12549', '12264', '4716', '13727', '4729', '5906', '4740', '5679', '4749', '12489', '4757', '6686', '9703', '4782', '10183', '11336', '4998', '5010', '13574', '5018', '12100', '5046', '6925', '10133', '5077', '7008', '5122', '11514', '13293', '13848', '5137', '12694', '5157', '6912', '8085', '11177', '13374', '5158', '7846', '8530', '8623', '9126', '9846', '10163', '11417', '8546', '5250', '10782', '12514', '5939', '5400', '7523', '5420', '7468', '13890', '5448', '10323', '13911', '5451', '13358', '5470', '6691', '6278', '5546', '8477', '14251', '5720', '10167', '5730', '5733', '7108', '10173', '10489', '12510', '5763', '9932', '5765', '6507', '5838', '9797', '5843', '11277', '5847', '13167', '5903', '11868', '5934', '9992', '5997', '11871', '6029', '6381', '6035', '6924', '6045', '9981', '6110', '6152', '6283', '8582', '12318', '14047', '14086', '6175', '11032', '12049', '14156', '6180', '6199', '6202', '10759', '6235', '13244', '6259', '9234', '10605', '6308', '13214', '6321', '12145', '6411', '6414', '7216', '6572', '9130', '6704', '9862', '6716', '12445', '8165', '13258', '6775', '8898', '6819', '9283', '11205', '6814', '12257', '7980', '6874', '6880', '11659', '6976', '11832', '12220', '6997', '9978', '7033', '10695', '7034', '7097', '7147', '8194', '10468', '12133', '7170', '7183', '12585', '7312', '8370', '9294', '9794', '7338', '7346', '8535', '10318', '13270', '7396', '7448', '14139', '7474', '8352', '10020', '7729', '7519', '7563', '7589', '7631', '12176', '11875', '7786', '8903', '7858', '14199', '11743', '7973', '12745', '7983', '8042', '13420', '10490', '8141', '12003', '9440', '8174', '8573', '12912', '8181', '11223', '8222', '13500', '8262', '8875', '8281', '13763', '8314', '9728', '8377', '8399', '8552', '12931', '12093', '12098', '8604', '11904', '12682', '8731', '11492', '19045', '19063', '8823', '10182', '8800', '13018', '8813', '10470', '11889', '8849', '10598', '12239', '8947', '11394', '8956', '12354', '9214', '10240', '9746', '9427', '11348', '9456', '13822', '9460', '9465', '10117', '9469', '9497', '12610', '9648', '13799', '9542', '10705', '12171', '9610', '11432', '9618', '14061', '9628', '11566', '9632', '13413', '9652', '10949', '9653', '10981', '12835', '9796', '13968', '9822', '10544', '9825', '13319', '9841', '10596', '11491', '9925', '11099', '13530', '10693', '10338', '12044', '10395', '10494', '10611', '10999', '10516', '13921', '10563', '13306', '10576', '11500', '10677', '12417', '10848', '12846', '10919', '13764', '11013', '12810', '11137', '11420', '13281', '11320', '11331', '11466', '11641', '13675', '13415', '11798', '14165', '11807', '12403', '13914', '13188', '14271', '14274', '14290', '14291', '14314', '14317', '14327', '14360', '14365', '14415', '14418', '14419', '14427', '14428', '14431', '14443', '14445', '14453', '14461', '14478', '14489', '14502', '14513', '14518', '14521', '14525', '14533', '14540', '14545', '14549', '14551', '14553', '14554', '14558', '14579', '14584', '14585', '14587', '14591', '14295', '14379', '14441', '14472', '14602', '14635', '14643', '14652', '14664', '14673', '14686', '14758', '14768', '14799', '14817', '14866', '14919', '14922', '14607', '14613', '14646', '14649', '14656', '14695', '14698', '14714', '14716', '14750', '14757', '14767', '14783', '14785', '14838', '14846', '14869', '14891', '14894', '14903', '14933', '14610', '14617', '14648', '14688', '14700', '14761', '14825', '14870', '14619', '14921', '14615', '14625', '14707', '14790', '14867', '14622', '14663', '14669', '14738', '14745', '14798', '14818', '14829', '14835', '14864', '14893', '14908', '14914', '14965', '14987', '15041', '15059', '15137', '15138', '14982', '15012', '14985', '15029', '14986', '15090', '15125', '14990', '15141', '14993', '15005', '15062', '15045', '15077', '15099', '15047', '15097', '15130', '15142', '15131', '15152', '15179', '15204', '15245', '15258', '15264', '15153', '15211', '15157', '15158', '15218', '15246', '15159', '15169', '15212', '15244', '15265', '15174', '15182', '15193', '15175', '15187', '15225', '15254', '15266', '15189', '15199', '15243', '15203', '15224', '15227', '15231', '15237', '15242', '15261', '15277', '15316', '15331', '15352', '15459', '15551', '15552', '15617', '15628', '15652', '15755', '15874', '15952', '15969', '15278', '15292', '15373', '15434', '15472', '15565', '15608', '15705', '15708', '15810', '15279', '15287', '15289', '15300', '15330', '15334', '15339', '15363', '15368', '15374', '15428', '15450', '15471', '15476', '15496', '15507', '15524', '15554', '15560', '15561', '15647', '15656', '15664', '15683', '15684', '15697', '15718', '15728', '15732', '15734', '15758', '15760', '15764', '15767', '15775', '15808', '15826', '15829', '15842', '15870', '15872', '15880', '15920', '15550', '15288', '15348', '15447', '15464', '15543', '15653', '15678', '15692', '15695', '15696', '15699', '15733', '15757', '15778', '15932', '15950', '15291', '15309', '15350', '15488', '15501', '15645', '15660', '15740', '15800', '15821', '15846', '15943', '15965', '15985', '15992', '15997', '16003', '15310', '15456', '15378', '15402', '15519', '15562', '15777', '15794', '15853', '15917', '16004', '15333', '15358', '15749', '15803', '15912', '15959', '15346', '15444', '15772', '15616', '15702', '15709', '15748', '15381', '15426', '15384', '15946', '15868', '15439', '15542', '15568', '15973', '15579', '15600', '15854', '16016', '16110', '16131', '16284', '16328', '16018', '16065', '16067', '16077', '16085', '16101', '16116', '16120', '16122', '16139', '16151', '16161', '16204', '16207', '16210', '16212', '16217', '16236', '16251', '16263', '16315', '16340', '16342', '16359', '16360', '16370', '16375', '16024', '16299', '16026', '16054', '16064', '16115', '16153', '16158', '16162', '16181', '16244', '16252', '16272', '16333', '16374', '16031', '16035', '16156', '16235', '16264', '16058', '16084', '16091', '16098', '16160', '16240', '16301', '16358', '16362', '16243', '16339', '16117', '16129', '16157', '16159', '16306', '16326', '16361', '16376', '16406', '16461', '16474', '16496', '16529', '16534', '16541', '16545', '16611', '16656', '16659', '16709', '16755', '16377', '16443', '16456', '16458', '16462', '16503', '16524', '16544', '16552', '16568', '16591', '16599', '16607', '16630', '16646', '16647', '16666', '16704', '16710', '16787', '16812', '16815', '16849', '16880', '16378', '16447', '16457', '16484', '16770', '16783', '16817', '16820', '16390', '16396', '16428', '16449', '16476', '16478', '16500', '16538', '16554', '16614', '16674', '16731', '16829', '16833', '16843', '16393', '16535', '16579', '16587', '16613', '16624', '16635', '16735', '16736', '16795', '16796', '16852', '16864', '16868', '16888', '16891', '16847', '16492', '16433', '16438', '16440', '16459', '16491', '16549', '16595', '16634', '16675', '16679', '16681', '16696', '16752', '16764', '16773', '16798', '16811', '16821', '16855', '16876', '16887', '16463', '16678', '16872', '16642', '16819', '16898', '16926', '17032', '16903', '16925', '16942', '17044', '17048', '16934', '16982', '16945', '17016', '16948', '17055', '16961', '17075', '17080', '16986', '16995', '17066', '16998', '17042', '17001', '17071', '17004', '17068', '17009', '17050', '17049', '17061', '17119', '17182', '17202', '17137', '17159', '17174', '17206', '17212', '17231', '17138', '17175', '17209', '17154', '17165', '17216', '17230', '17191', '17223', '17241', '17308', '17331', '17333', '17242', '17248', '17263', '17280', '17297', '17310', '17315', '17324', '17325', '17255', '17272', '17282', '17285', '17260', '17261', '17267', '17274', '17281', '17322', '17293', '17309', '17314', '17332', '17336', '17339', '17342', '17343', '17349', '17359', '17369', '17372', '17375', '17381', '17383', '17388', '17391', '17399', '17410', '17414', '17415', '17428', '17437', '17440', '17455', '17457', '17467', '17468', '17469', '17471', '17474', '17479', '17480', '17485', '17487', '17489', '17492', '17497', '17499', '17337', '17338', '17344', '17345', '17347', '17348', '17356', '17360', '17361', '17362', '17367', '17370', '17373', '17374', '17376', '17377', '17379', '17380', '17390', '17392', '17394', '17406', '17409', '17413', '17416', '17418', '17419', '17420', '17425', '17426', '17431', '17432', '17433', '17434', '17436', '17442', '17443', '17444', '17445', '17446', '17449', '17450', '17451', '17452', '17453', '17456', '17459', '17462', '17464', '17465', '17466', '17470', '17475', '17477', '17478', '17482', '17484', '17486', '17493', '17494', '17495', '17498', '17340', '17341', '17350', '17351', '17352', '17353', '17355', '17358', '17363', '17365', '17366', '17368', '17371', '17378', '17384', '17385', '17387', '17393', '17396', '17397', '17398', '17400', '17401', '17402', '17405', '17408', '17411', '17412', '17417', '17421', '17422', '17424', '17435', '17438', '17439', '17447', '17448', '17454', '17461', '17463', '17472', '17473', '17481', '17483', '17496', '17346', '17354', '17357', '17364', '17382', '17386', '17389', '17395', '17403', '17407', '17423', '17427', '17429', '17430', '17441', '17458', '17460', '17476', '17490', '17491', '17404', '17488', '17501', '17864', '17882', '17512', '17935', '17514', '18046', '17517', '17521', '17520', '18002', '17663', '17719', '17535', '17602', '18013', '18203', '18221', '18235', '18296', '17568', '17594', '17710', '17788', '17805', '17813', '17827', '17848', '17957', '18130', '18239', '18249', '18317', '18319', '18323', '17585', '17591', '17589', '17856', '17592', '17620', '18129', '18306', '17610', '17768', '17887', '17635', '17817', '17877', '17657', '17688', '17825', '18234', '17712', '17901', '17961', '17750', '18123', '17758', '17865', '17767', '17923', '18314', '18324', '17776', '18294', '17866', '18193', '18035', '18164', '17968', '17999', '17991', '18124', '18198', '18114', '18263', '18122', '18225', '18126', '18219', '18345', '18389', '18403', '18422', '18426', '18433', '18435', '18349', '18351', '18352', '18356', '18378', '18382', '18397', '18399', '18423', '18440', '18456', '18460', '18405', '18395', '18449', '18473', '18476', '18525', '18527', '18541', '18569', '18479', '18488', '18495', '18508', '18536', '18575', '18480', '18552', '18484', '18494', '18496', '18504', '18547', '18558', '18485', '18513', '18554', '18487', '18519', '18563', '18566', '18574', '18581', '18664', '18742', '18803', '18812', '18822', '18838', '18851', '18878', '18600', '18609', '18656', '18660', '18814', '18815', '18922', '18929', '18610', '18765', '18652', '18662', '18709', '18720', '18828', '18913', '18810', '18692', '18714', '18715', '18724', '18869', '18699', '18889', '18758', '18782', '18843', '18881', '18785', '18826', '18849', '18932', '18872', '18907', '18941', '19035', '18956', '19065', '18958', '19053', '18974', '29176', '29196', '29218', '29243', '29261', '29300', '29340', '18976', '19030', '18981', '18993', '19020', '19050', '19073', '19235', '19272', '19349', '19369', '19412', '19538', '19543', '19602', '19606', '19694', '19079', '19120', '19138', '19247', '19281', '19320', '19340', '19423', '19425', '19451', '19508', '19509', '19540', '19629', '19645', '19664', '19684', '19087', '19153', '19198', '19202', '19252', '19298', '19326', '19372', '19373', '19461', '19463', '19487', '19492', '19518', '19530', '19586', '19649', '19657', '19093', '19505', '19094', '19100', '19149', '19183', '19294', '19350', '19414', '19448', '19628', '19637', '19663', '19688', '19264', '19309', '19355', '19358', '19361', '19364', '19444', '19533', '19609', '19619', '19653', '19677', '19111', '19131', '19158', '19162', '19230', '19266', '19268', '19275', '19300', '19311', '19344', '19378', '19383', '19405', '19434', '19456', '19466', '19490', '19491', '19497', '19512', '19524', '19527', '19542', '19556', '19568', '19571', '19595', '19613', '19625', '19633', '19655', '19691', '19113', '19592', '19506', '19567', '19692', '19654', '19164', '19552', '19678', '19204', '19216', '19388', '19395', '19386', '19443', '19347', '19704', '19724', '19739', '19757', '19772', '19793', '19798', '19810', '19820', '19826', '19710', '19825', '19712', '19823', '19720', '19760', '19723', '19835', '19836', '19761', '19768', '19834', '19844', '19765', '19779', '19782', '19789', '19859', '20001', '19862', '20011', '19867', '19946', '19873', '19892', '19913', '19981', '19918', '20007', '20325', '25647', '20399', '24254', '20442', '22603', '23312', '20449', '25671', '20476', '27708', '20817', '22178', '20852', '24070', '20860', '27872', '20926', '24733', '21173', '27901', '21499', '26669', '22010', '22037', '22059', '25250', '25874', '27597', '27614', '27849', '22029', '23530', '23581', '24697', '26226', '27679', '22078', '23805', '26571', '24187', '22798', '23078', '23146', '26564', '23272', '23965', '25342', '23429', '23933', '27143', '24177', '27916', '25481', '24249', '25649', '24417', '26060', '24507', '25014', '27290', '27927', '28902', '27934', '27995', '28164', '28658', '28669', '27944', '28011', '28102', '28246', '28272', '28838', '27945', '28325', '27959', '28550', '28698', '27961', '28458', '27968', '27991', '28069', '28616', '27973', '28454', '28465', '28839', '27975', '28810', '28894', '27982', '28017', '28380', '27992', '28217', '28002', '28544', '28624', '28890', '28010', '28462', '28015', '28197', '28288', '28357', '28449', '28486', '28600', '28680', '28851', '28896', '28024', '28223', '28026', '28296', '28028', '28311', '28761', '28796', '28036', '28634', '28873', '28039', '28144', '28350', '28766', '28041', '28803', '28051', '28332', '28924', '28284', '28319', '28569', '28671', '28073', '28515', '28085', '28237', '28089', '28841', '28099', '28180', '28261', '28712', '28110', '28599', '28116', '28642', '28125', '28673', '28756', '28880', '28870', '28145', '28901', '28188', '28528', '28764', '28192', '28402', '28440', '28195', '28199', '28847', '28202', '28351', '28640', '28663', '28207', '28772', '28829', '28208', '28242', '28720', '28489', '28709', '28738', '28231', '28459', '28245', '28260', '28525', '28263', '28817', '28265', '28826', '28494', '28297', '28303', '28594', '28866', '28308', '28792', '28314', '28760', '28334', '28633', '28349', '28559', '28693', '28892', '28353', '28358', '28644', '28362', '28834', '28375', '28408', '28463', '28546', '28575', '28412', '28799', '28433', '28718', '28439', '28457', '28567', '28467', '28831', '28480', '28517', '28729', '28504', '28510', '28715', '28526', '28554', '28557', '28754', '28579', '28603', '28586', '28610', '28686', '28730', '28928', '29007', '29031', '29070', '29085', '28934', '29012', '29116', '28936', '29066', '28937', '28953', '28955', '28998', '29016', '29067', '28952', '29096', '29122', '28957', '28973', '28979', '29107', '28962', '29048', '28964', '28987', '29037', '29120', '29004', '29034', '29005', '29112', '29017', '29020', '29098', '29022', '29125', '29225', '29329', '29387', '29398', '29132', '29624', '29133', '29144', '29203', '29413', '29448', '29557', '29673', '29206', '29252', '29483', '29500', '29666', '29145', '29169', '29364', '29531', '29149', '29335', '29586', '29151', '29175', '29400', '29153', '29277', '29338', '29170', '29515', '29191', '29431', '29487', '29192', '29250', '29197', '29436', '29498', '29198', '29371', '29434', '29455', '29202', '29690', '29401', '29505', '29220', '29561', '29591', '29639', '29223', '29282', '29269', '29304', '29270', '29424', '29691', '29290', '29367', '29291', '29610', '29299', '29613', '29303', '29320', '29470', '29325', '29650', '29669', '29326', '29635', '29328', '29516', '29512', '29664', '29584', '29345', '29350', '29536', '29353', '29391', '29507', '29355', '29540', '29441', '29397', '29403', '29585', '29399', '29570', '29588', '29684', '29405', '29438', '29582', '29467', '29602', '29480', '29529', '29575', '29518', '29547', '29560', '29652', '29654', '24', '11600', '534', '1885', '2467', '2532', '2995', '3145', '7438', '8429', '10083', '10827', '12741', '12820', '13129', '13435', '837', '12109', '909', '6153', '7715', '12708', '1407', '9455', '1575', '5222', '1621', '7301', '8613', '2666', '13223', '3029', '3420', '4242', '9526', '3740', '8144', '10707', '4272', '10077', '4969', '8583', '5787', '10912', '7406', '8277', '8777', '8577', '11425', '12505', '8736', '11193', '10292', '10590', '10702', '10944', '12307', '14282', '14305', '15351', '15376', '15480', '15481', '15564', '15618', '15629', '15715', '15786', '15807', '15966', '16020', '16025', '16420', '16586', '16619', '16673', '17552', '17954', '18191', '17618', '17955', '17979', '18209', '17873', '18233', '18245', '17894', '17992', '19163', '19346', '19427', '19574', '19680', '19186', '19394', '19402', '19647', '416', '1314', '5617', '1611', '5441', '5969', '12147', '2112', '6353', '2257', '3652', '13388', '3166', '7383', '5706', '7874', '16928', '16987', '16938', '16940', '16968', '17015', '17037', '17059', '17081', '18615', '18900', '2316', '3667', '11192', '13711', '5558', '7382', '13404', '7028', '11826', '13107', '1560', '5337', '8525', '367', '3187', '2199', '6773', '2671', '9950', '12381', '55', '6682', '7327', '8686', '13552', '13617', '60', '3538', '5209', '6571', '8980', '9478', '12496', '67', '7256', '10763', '228', '5816', '13612', '280', '2774', '4382', '5069', '9104', '9332', '10542', '344', '7266', '7960', '9673', '11495', '11612', '13041', '14208', '359', '9512', '418', '10333', '436', '1524', '8548', '456', '8280', '472', '4302', '513', '11720', '12747', '529', '11750', '579', '2970', '652', '11419', '13434', '13899', '678', '1236', '2298', '2866', '3134', '3521', '3905', '3922', '4660', '5294', '5477', '5938', '7175', '7776', '8660', '9158', '9182', '11604', '11918', '11982', '13742', '679', '685', '999', '2807', '3164', '10392', '12683', '13590', '13883', '3191', '4001', '6516', '7251', '8468', '8856', '8964', '10055', '10558', '10786', '12562', '13573', '13637', '692', '7213', '8006', '10766', '11153', '706', '4597', '5110', '13850', '720', '14238', '741', '7633', '757', '3848', '775', '1746', '6562', '6965', '13410', '802', '3974', '836', '9331', '873', '14102', '881', '6632', '970', '10652', '982', '6702', '1003', '8799', '9094', '9993', '10434', '11127', '11407', '11687', '1008', '6833', '8107', '8593', '1021', '11896', '1090', '3059', '1179', '12089', '1197', '13595', '1214', '10171', '5653', '8267', '11569', '1254', '2622', '4901', '7668', '1318', '3102', '1443', '12115', '1498', '4000', '12815', '1630', '6374', '7666', '1644', '3427', '3912', '4794', '8502', '8563', '9830', '12306', '1650', '12020', '1651', '7660', '1716', '3906', '8691', '1767', '9368', '1780', '8224', '1888', '8286', '2025', '2077', '3735', '2128', '7374', '2143', '7497', '7565', '9399', '9789', '11856', '2162', '13229', '2163', '3402', '2233', '6371', '7812', '12719', '13029', '5824', '2341', '2351', '2429', '5554', '9708', '10109', '13859', '2496', '9134', '2505', '6832', '9376', '2537', '10284', '12519', '2542', '6852', '2559', '7510', '2624', '5565', '11916', '2625', '4648', '10644', '14075', '2709', '3838', '5443', '2735', '9688', '2792', '5911', '7939', '12132', '12542', '2818', '6799', '3428', '3496', '6772', '7453', '10059', '10121', '11927', '12480', '13331', '3040', '5966', '12254', '3078', '3093', '9936', '13789', '3106', '4501', '5925', '8732', '10414', '13692', '3175', '5192', '6112', '3211', '12404', '12501', '13032', '13786', '3343', '10978', '3477', '10625', '6408', '8934', '9479', '3535', '5751', '3616', '4655', '3681', '7635', '12992', '3904', '5921', '9442', '10970', '13724', '3984', '10534', '3986', '5318', '4014', '9518', '10066', '4103', '11367', '4191', '4392', '11510', '4404', '5566', '6537', '7515', '4437', '11140', '12537', '4449', '9408', '4602', '7042', '4805', '6757', '9922', '10486', '4882', '11990', '13881', '14128', '9799', '4948', '12443', '5007', '5066', '5080', '12664', '5088', '5097', '9326', '12506', '5287', '8908', '9535', '12979', '5440', '7207', '10840', '12750', '5447', '6854', '5624', '7315', '12316', '8390', '10315', '5675', '6519', '7927', '11121', '7682', '9554', '7834', '5950', '9416', '5964', '14121', '6160', '6164', '6188', '6221', '13147', '6285', '12192', '6292', '7379', '6393', '11951', '6469', '6616', '10681', '12972', '6582', '10205', '6584', '11063', '11766', '6711', '10711', '6900', '13066', '6986', '10466', '10456', '12986', '7377', '9496', '10193', '13134', '9203', '8248', '8385', '9001', '9928', '8690', '13069', '11360', '9475', '13756', '14135', '10493', '11077', '9765', '10394', '13151', '9964', '13988', '10068', '13758', '10297', '12266', '10655', '12852', '11553', '12350', '11648', '12914', '11920', '12186', '12483', '29415', '29453', '29668', '14270', '14275', '14277', '14303', '14318', '14323', '14332', '14337', '14351', '14364', '14424', '14430', '14440', '14446', '14450', '14451', '14456', '14459', '14479', '14480', '14505', '14511', '14515', '14519', '14532', '14536', '14568', '14344', '14566', '14639', '14659', '14679', '14683', '14699', '14721', '14744', '14749', '14754', '14759', '14766', '14782', '14794', '14811', '14822', '14834', '14836', '14848', '14851', '14877', '14930', '14787', '14791', '14872', '14920', '14733', '14865', '14788', '14857', '14807', '14752', '14756', '14852', '14941', '14997', '15055', '15149', '14942', '14981', '15021', '14957', '14973', '15007', '15061', '15081', '14958', '15048', '14978', '15010', '15133', '15004', '15019', '15085', '15093', '15000', '15275', '15299', '15308', '15317', '15323', '15393', '15399', '15445', '15469', '15484', '15505', '15508', '15556', '15595', '15602', '15613', '15620', '15624', '15661', '15674', '15716', '15741', '15788', '15790', '15805', '15817', '15830', '15839', '15856', '15908', '15914', '15925', '15926', '15937', '15962', '15995', '15283', '15461', '15296', '15304', '15415', '15441', '15498', '15662', '15832', '15834', '15318', '15375', '15379', '15401', '15431', '15442', '15455', '15460', '15486', '15516', '15534', '15588', '15668', '15745', '15776', '15780', '15789', '15883', '15886', '15933', '15935', '15968', '15991', '16000', '15813', '15538', '15818', '15336', '15578', '15590', '15646', '15783', '15840', '15890', '15939', '15999', '15392', '15545', '15621', '15423', '15535', '15666', '15706', '15609', '15623', '15861', '16034', '16044', '16050', '16051', '16059', '16066', '16071', '16092', '16108', '16111', '16133', '16143', '16149', '16171', '16179', '16198', '16222', '16231', '16285', '16300', '16308', '16317', '16341', '16363', '16038', '16039', '16097', '16135', '16245', '16247', '16353', '16356', '16382', '16408', '16416', '16423', '16427', '16494', '16499', '16530', '16571', '16576', '16580', '16643', '16653', '16657', '16663', '16687', '16688', '16719', '16746', '16813', '16854', '16863', '16875', '16383', '16387', '16556', '16562', '16602', '16604', '16652', '16680', '16781', '16794', '16836', '16592', '16603', '16717', '16392', '16395', '16435', '16446', '16542', '16689', '16814', '16826', '16857', '16869', '16838', '16921', '16956', '16930', '17012', '16941', '17026', '17067', '16999', '17000', '17087', '17105', '17133', '17180', '17111', '17130', '17178', '17181', '17203', '17204', '17214', '17116', '17126', '17185', '17189', '17210', '17186', '17253', '17271', '17264', '17508', '17548', '17650', '17543', '17837', '17557', '17598', '17660', '17779', '17824', '17841', '17884', '17888', '17933', '18047', '18113', '18174', '18195', '18196', '18208', '18218', '18231', '18284', '18304', '18310', '18316', '18321', '17567', '17973', '18295', '17709', '17871', '17945', '17634', '17913', '17708', '17891', '17814', '18264', '17815', '17996', '18205', '18241', '18334', '18353', '18354', '18359', '18383', '18400', '18421', '18428', '18436', '18343', '18360', '18393', '18425', '18441', '18346', '18364', '18497', '18553', '18595', '18637', '18767', '18806', '18870', '18613', '18811', '18820', '18885', '18624', '18631', '18632', '18719', '18752', '18757', '18779', '18857', '18871', '18787', '18642', '18667', '18716', '18722', '18723', '18809', '18829', '18834', '18891', '18902', '18924', '18704', '18854', '18823', '18827', '19074', '19082', '19102', '19259', '19293', '19295', '19299', '19334', '19352', '19375', '19382', '19465', '19482', '19531', '19549', '19575', '19589', '19599', '19603', '19610', '19611', '19614', '19634', '19152', '19371', '19569', '19545', '19107', '19468', '19576', '19666', '19130', '19141', '19156', '19159', '19175', '19258', '19278', '19297', '19317', '19343', '19420', '19422', '19450', '19485', '19489', '19585', '19659', '19695', '19168', '19532', '19591', '19194', '19308', '19393', '19228', '19270', '19400', '19866', '19963', '19868', '19943', '19885', '19927', '19932', '20003', '19937', '19994', '19961', '19979', '19970', '19987', '19992', '20026', '20030', '27935', '28631', '28915', '27954', '27958', '28163', '28248', '28329', '28331', '28495', '28592', '28783', '27981', '27987', '28088', '28198', '28850', '28798', '27998', '28157', '28523', '28647', '28748', '28022', '28369', '28032', '28274', '28568', '28922', '28253', '28106', '28399', '28639', '28153', '28278', '28293', '28503', '28618', '28626', '28874', '28324', '28381', '28511', '28257', '28258', '28420', '28912', '28355', '28691', '28562', '28378', '28758', '28384', '28498', '28407', '28774', '28862', '28576', '28687', '28710', '28704', '28705', '29127', '29183', '29446', '29558', '29572', '29174', '29407', '29180', '29605', '29242', '29317', '29267', '29589', '29297', '29410', '29316', '29519', '554', '815', '952', '1897', '2138', '3344', '3410', '3789', '3932', '5888', '6230', '6354', '6456', '6740', '7005', '8123', '8493', '9217', '9802', '10032', '11170', '13402', '14042', '14286', '14296', '14371', '19', '2926', '1134', '2423', '2881', '3217', '3799', '6916', '7781', '8325', '9139', '9155', '10140', '11339', '11919', '1277', '1401', '2408', '3715', '7194', '11819', '3070', '11795', '1684', '6504', '2876', '9168', '7089', '13690', '7101', '9832', '11800', '13594', '19736', '19846', '20039', '22123', '20607', '26095', '20635', '23678', '27796', '21213', '24109', '21297', '24363', '21736', '23672', '22863', '24506', '22894', '26393', '23930', '26092', '24157', '27635', '24319', '26758', '161', '2936', '3574', '5143', '3084', '4185', '6069', '3107', '7560', '4351', '5652', '50', '674', '2832', '3169', '4026', '4098', '5152', '5330', '6047', '6730', '6861', '7310', '7492', '7632', '8938', '9269', '10439', '10556', '10777', '13796', '105', '13383', '137', '9237', '10410', '13975', '153', '9453', '175', '10801', '207', '355', '698', '2218', '3098', '4123', '6403', '8628', '9016', '9091', '9668', '10056', '10425', '12468', '13127', '245', '2479', '10097', '12870', '295', '10421', '343', '1270', '2084', '4539', '6336', '13946', '3229', '4626', '7178', '7984', '8188', '8916', '12896', '13628', '381', '8945', '13770', '14039', '392', '2972', '3962', '5682', '8357', '8375', '8990', '10875', '11126', '11937', '12299', '12875', '12917', '13399', '13973', '453', '12455', '642', '3171', '3608', '5771', '7871', '9931', '11480', '12113', '14210', '653', '2969', '3251', '8023', '1918', '2458', '4614', '6211', '6701', '7574', '8052', '8311', '8708', '9873', '10607', '10834', '749', '10245', '799', '2073', '5923', '7023', '851', '1848', '1926', '6169', '9284', '9678', '9837', '13398', '919', '2662', '3177', '4368', '5317', '9795', '10968', '936', '1838', '938', '6859', '11315', '962', '4091', '987', '1694', '1979', '2258', '2636', '3624', '3793', '3814', '4270', '6222', '6295', '6595', '7471', '10383', '10921', '12531', '12933', '13996', '1073', '1680', '4902', '6972', '1076', '8822', '1078', '6885', '1089', '12385', '1150', '1583', '3783', '3792', '9568', '13370', '1359', '9186', '9347', '10419', '11429', '12073', '13917', '12987', '1501', '5229', '1520', '1590', '1549', '3491', '6067', '11194', '13685', '14014', '14036', '7325', '12611', '1597', '10448', '1674', '3308', '4889', '1700', '11096', '1762', '10722', '4180', '4262', '7222', '1887', '4474', '1901', '11780', '11941', '12352', '2327', '7027', '8498', '2403', '4430', '10600', '3963', '12617', '2531', '5560', '13265', '2555', '5525', '3103', '2963', '5996', '6078', '3066', '3942', '4591', '5156', '13489', '13687', '3144', '8166', '3143', '8368', '3195', '3964', '13466', '3202', '11219', '13462', '3207', '9590', '3218', '3577', '3255', '9293', '10370', '14071', '3317', '13002', '3526', '5944', '9665', '3553', '6849', '3628', '13407', '3781', '8607', '14203', '14158', '13814', '10001', '4060', '7677', '4080', '4682', '5320', '9637', '4220', '12131', '4456', '13719', '4490', '11779', '4824', '11161', '4872', '11447', '5108', '9731', '5278', '5627', '13218', '5460', '11954', '6271', '9457', '6399', '6853', '6527', '13999', '14011', '6598', '7408', '7076', '8346', '7129', '9477', '12824', '7239', '7487', '12856', '12945', '7777', '9805', '7791', '11443', '8112', '10716', '11041', '8787', '8811', '9117', '13207', '8828', '8840', '8858', '13054', '9302', '13122', '9371', '9468', '9612', '9529', '10521', '13115', '10567', '12071', '11754', '12521', '11888', '12174', '11953', '13335', '12037', '13128', '14273', '14349', '14352', '14356', '14383', '14393', '14429', '14454', '14542', '14560', '14654', '14897', '16947', '17073', '16955', '16990', '17005', '16984', '17034', '17502', '17980', '17540', '18149', '17612', '17692', '18079', '17798', '17944', '17870', '18250', '17886', '17985', '17928', '18053', '17963', '18138', '18049', '18179', '18104', '18322', '19098', '19195', '19227', '19244', '19417', '19562', '19578', '19671', '19139', '19190', '19303', '19537', '19555', '19449', '28881', '28895', '299', '801', '922', '3294', '4578', '1111', '5208', '6167', '1405', '13193', '1723', '9600', '10610', '13304', '2844', '4441', '9403', '10565', '11685', '620', '1776', '2174', '646', '9112', '942', '5421', '14040', '1000', '7075', '1147', '12919', '1577', '6096', '1805', '12338', '2712', '9667', '3598', '13184', '4996', '9209', '12776', '5907', '13642', '8285', '9726', '11327', '12004', '11582', '12936', '12216', '15276', '15511', '15844', '15429', '15919', '15437', '15497', '15526', '15603', '16533', '16598', '16672', '16802', '16637', '16648', '16851', '16762', '18855', '18901', '19869', '20023', '6100', '12271', '7150', '10948', '7538', '8446', '10235', '14030', '16641', '16845', '1380', '8079', '4504', '5884', '4386', '11543', '6139', '8920', '12199', '93', '774', '13558', '408', '11383', '12075', '561', '4533', '826', '2875', '7159', '7693', '7835', '11473', '12112', '13350', '13945', '914', '8136', '1105', '2569', '4663', '10005', '1182', '1419', '1912', '3558', '10221', '11568', '1302', '9470', '1305', '1420', '1336', '11412', '1373', '8063', '1534', '9311', '1653', '10727', '1701', '12821', '1779', '2392', '4269', '5980', '6174', '8677', '8936', '10832', '2169', '11529', '2265', '2516', '2266', '2924', '11217', '2461', '7173', '2513', '4114', '2726', '6395', '3053', '11882', '3431', '8155', '3694', '4502', '4153', '4707', '4554', '9335', '4699', '13739', '4816', '4920', '5182', '7698', '8087', '5427', '9897', '5886', '8213', '9729', '10247', '11239', '12296', '6088', '9318', '6484', '8259', '6492', '11356', '6533', '6847', '9891', '11346', '6839', '11863', '12042', '7629', '10051', '10713', '7821', '12802', '7851', '10044', '8088', '10886', '8383', '14001', '9357', '9985', '9401', '13703', '10250', '12079', '14268', '14304', '14387', '14524', '14448', '14514', '14547', '14575', '14578', '14596', '14624', '14627', '14628', '14632', '14667', '14670', '14696', '14701', '14709', '14713', '14719', '14720', '14723', '14725', '14808', '14812', '14824', '14843', '14875', '14876', '14896', '14904', '14907', '14912', '14913', '14924', '14926', '14597', '14606', '14621', '14634', '14636', '14640', '14650', '14665', '14671', '14677', '14680', '14681', '14682', '14687', '14691', '14692', '14729', '14735', '14742', '14746', '14751', '14762', '14763', '14771', '14776', '14779', '14804', '14806', '14809', '14814', '14833', '14839', '14840', '14842', '14853', '14854', '14871', '14879', '14883', '14898', '14905', '14917', '14925', '14599', '14604', '14605', '14614', '14623', '14647', '14660', '14662', '14666', '14684', '14702', '14722', '14727', '14728', '14734', '14743', '14747', '14769', '14773', '14774', '14803', '14823', '14856', '14880', '14884', '14886', '14889', '14937', '14938', '14631', '14910', '14827', '14796', '14911', '14828', '14668', '14943', '15011', '15074', '15112', '14944', '15023', '15031', '15049', '15065', '15079', '15096', '15115', '15116', '14952', '15089', '14960', '14969', '15122', '14963', '15032', '15107', '14972', '15046', '15126', '15013', '15064', '15083', '15087', '15036', '15051', '15129', '15040', '15058', '15057', '15110', '15073', '15120', '15140', '15164', '15171', '15239', '15201', '15208', '15210', '15221', '15241', '15214', '15270', '15382', '15454', '15462', '15474', '15587', '15639', '15694', '15714', '15795', '15885', '15924', '15964', '15982', '15282', '15367', '15793', '15858', '16005', '15303', '15338', '15362', '15729', '15784', '15822', '15877', '15896', '15970', '15986', '15306', '15343', '15357', '15371', '15430', '15449', '15457', '15470', '15478', '15500', '15513', '15517', '15532', '15539', '15547', '15557', '15559', '15566', '15585', '15605', '15622', '15625', '15648', '15671', '15677', '15679', '15690', '15737', '15738', '15747', '15773', '15792', '15802', '15804', '15833', '15864', '15867', '15881', '15893', '15899', '15955', '15976', '15998', '15313', '15327', '15340', '15395', '15408', '15463', '15573', '15743', '15322', '15324', '15504', '15506', '15746', '15326', '15436', '15686', '15879', '15894', '15901', '15328', '15418', '15440', '15448', '15475', '15499', '15514', '15544', '15592', '15644', '15650', '15663', '15711', '15848', '15871', '15971', '15983', '16008', '15347', '15424', '15627', '15744', '15825', '15411', '15479', '15345', '15607', '15736', '15349', '15975', '15355', '15680', '15938', '15403', '15489', '15996', '15414', '15611', '15875', '15936', '15940', '15446', '15533', '15485', '15520', '15555', '15657', '15888', '15907', '15922', '16019', '16030', '16036', '16047', '16048', '16060', '16061', '16076', '16080', '16081', '16086', '16095', '16100', '16109', '16112', '16124', '16137', '16163', '16185', '16228', '16229', '16232', '16248', '16281', '16290', '16293', '16298', '16307', '16312', '16319', '16330', '16331', '16343', '16350', '16365', '16368', '16069', '16105', '16119', '16145', '16152', '16191', '16254', '16256', '16280', '16321', '16372', '16225', '16170', '16188', '16190', '16274', '16291', '16302', '16304', '16352', '16371', '16380', '16404', '16414', '16424', '16434', '16466', '16505', '16539', '16649', '16650', '16677', '16699', '16703', '16714', '16726', '16777', '16816', '16832', '16858', '16883', '16381', '16410', '16413', '16417', '16442', '16467', '16473', '16498', '16532', '16540', '16566', '16578', '16590', '16628', '16633', '16636', '16639', '16676', '16690', '16691', '16694', '16720', '16722', '16723', '16738', '16744', '16753', '16785', '16828', '16834', '16860', '16873', '16877', '16882', '16507', '16419', '16430', '16448', '16452', '16477', '16487', '16511', '16523', '16543', '16569', '16582', '16588', '16623', '16654', '16668', '16693', '16697', '16701', '16715', '16728', '16739', '16748', '16749', '16754', '16788', '16805', '16806', '16837', '16850', '16867', '16884', '16886', '16422', '16583', '16610', '16685', '16768', '16483', '16502', '16553', '16662', '16708', '16718', '16750', '16844', '16515', '16707', '16577', '16606', '16758', '16892', '16960', '16897', '16900', '16910', '16917', '16924', '16927', '16935', '16959', '16962', '16964', '16977', '17003', '17006', '17065', '17072', '17077', '16899', '17086', '16906', '16978', '16912', '16949', '16970', '16971', '16916', '16943', '16950', '16992', '16923', '16996', '16936', '17039', '16985', '16994', '17040', '16991', '17078', '17021', '17035', '17088', '17094', '17097', '17118', '17194', '17211', '17228', '17129', '17151', '17160', '17164', '17193', '17110', '17114', '17121', '17122', '17150', '17153', '17176', '17190', '17201', '17125', '17145', '17199', '17224', '17198', '17163', '17148', '17222', '17233', '17239', '17312', '17320', '17249', '17250', '17273', '17277', '17289', '17294', '17301', '17313', '17500', '17505', '17690', '17701', '17718', '17771', '17855', '17857', '18018', '18096', '18168', '18257', '17739', '18254', '17511', '17676', '17519', '17669', '17713', '17524', '17536', '17559', '17616', '17658', '17682', '17697', '17736', '17947', '18025', '18211', '18307', '18286', '18299', '17537', '17702', '18303', '17564', '18228', '17577', '18320', '17581', '17974', '17584', '17958', '17600', '17929', '17630', '18325', '17641', '17737', '17976', '17987', '18229', '17648', '18305', '17653', '18022', '17675', '17808', '18247', '18269', '17922', '17721', '17810', '17731', '17932', '18256', '18274', '17741', '18054', '17748', '18154', '17833', '17890', '17842', '18222', '18318', '17869', '17905', '18088', '17969', '17924', '18042', '18034', '18059', '18127', '18220', '18085', '18331', '18463', '18468', '18469', '18472', '18492', '18507', '18539', '18464', '18471', '18483', '18493', '18505', '18509', '18517', '18523', '18530', '18531', '18538', '18548', '18555', '18556', '18557', '18559', '18561', '18562', '18565', '18465', '18533', '18466', '18475', '18486', '18474', '18518', '18499', '18514', '18528', '18540', '18546', '18567', '18544', '18545', '18570', '18576', '18578', '18587', '18749', '18904', '18588', '18605', '18608', '18611', '18628', '18629', '18644', '18678', '18695', '18712', '18731', '18741', '18748', '18772', '18807', '18825', '18841', '18896', '18910', '18930', '18853', '18916', '18626', '18780', '18744', '18852', '18935', '18647', '18676', '18799', '18874', '18649', '18880', '18666', '18796', '18684', '18743', '18776', '18788', '18875', '18893', '18903', '18920', '18927', '18832', '18928', '18703', '18718', '18908', '18727', '18763', '18771', '18781', '18937', '18977', '19000', '19049', '18944', '19027', '18947', '18951', '18960', '18962', '18979', '18982', '19010', '19056', '18954', '19042', '18955', '18978', '18963', '19007', '19034', '18965', '19028', '19031', '19041', '19047', '19054', '19060', '18983', '19043', '18986', '19012', '29166', '29208', '29211', '29224', '29232', '29236', '29241', '29314', '29349', '29396', '29430', '29452', '29473', '29517', '29556', '29590', '29601', '29618', '29642', '29663', '19040', '19032', '19200', '19572', '19697', '19701', '19708', '19727', '19731', '19747', '19781', '19805', '19824', '19830', '19839', '19848', '19852', '19767', '19706', '19719', '19722', '19743', '19742', '19750', '19751', '19784', '19822', '19829', '19843', '19874', '19974', '19888', '19972', '19895', '19898', '19902', '19986', '19905', '19914', '19909', '19922', '19915', '19928', '19920', '20020', '19948', '20012', '19953', '19966', '20031', '20033', '20038', '22368', '20040', '24241', '20042', '20737', '20046', '22714', '25313', '20053', '26394', '20054', '26744', '27124', '20064', '27180', '20070', '21078', '26136', '20074', '26260', '20079', '27312', '20082', '24493', '20086', '20262', '21504', '27008', '27909', '20090', '25943', '20094', '21285', '25018', '27540', '20111', '24801', '26274', '20112', '21044', '22084', '23949', '20118', '24563', '24902', '20132', '24469', '20134', '23067', '24913', '25112', '26231', '27555', '20151', '22948', '20152', '22683', '24972', '20168', '26651', '20173', '24603', '24708', '20189', '20378', '20190', '23235', '20196', '24250', '26202', '27294', '20203', '22848', '27116', '20208', '25007', '20210', '20270', '20223', '27145', '20228', '21800', '20231', '20255', '20234', '21340', '23916', '24685', '25089', '20238', '25098', '20251', '21350', '22954', '25419', '26219', '26400', '27816', '20258', '20840', '22392', '23336', '23972', '24086', '26161', '27348', '20299', '22904', '20263', '20287', '21496', '22748', '20291', '21539', '22018', '22968', '24313', '20298', '24269', '24339', '26527', '27065', '20324', '24782', '26928', '20352', '21367', '23236', '24483', '27458', '20358', '23018', '20361', '22405', '20367', '24354', '20385', '25058', '20388', '23379', '23473', '27866', '20401', '22575', '20411', '21956', '20420', '25917', '26515', '20431', '22524', '20448', '22841', '24320', '20458', '27163', '20464', '21900', '25601', '20477', '24273', '20482', '27887', '20505', '25555', '20506', '25408', '20510', '21043', '21398', '23116', '24001', '25248', '25562', '25573', '20511', '26153', '20520', '23162', '20526', '27208', '27421', '20535', '24558', '20536', '23600', '27868', '20552', '27703', '20568', '26015', '20571', '26663', '20575', '22531', '27048', '20582', '20931', '24728', '25677', '20593', '20797', '21254', '26979', '20612', '21027', '24221', '24243', '27200', '20616', '21774', '20618', '22410', '26786', '20631', '21088', '21841', '23989', '24965', '25633', '20665', '26507', '20668', '22607', '24748', '20684', '23115', '23359', '23918', '24747', '24956', '26039', '26858', '20701', '24757', '20704', '24569', '20716', '22805', '25675', '25839', '20719', '22009', '20726', '27759', '20729', '27147', '20732', '23653', '20764', '27211', '20765', '25789', '20768', '24526', '20783', '25507', '20786', '22686', '26368', '27658', '20800', '25899', '27174', '20813', '27606', '20821', '25344', '20824', '22328', '20828', '25340', '20834', '21464', '25451', '25604', '25680', '27548', '27910', '20838', '23176', '26685', '27434', '20844', '22019', '25962', '27433', '20851', '20911', '22701', '23960', '26061', '20862', '22821', '26377', '20892', '24112', '24336', '27409', '20897', '27809', '20917', '24621', '20923', '22324', '23394', '26211', '27059', '20959', '22274', '20970', '26913', '20975', '22908', '27269', '20996', '21668', '22837', '23252', '23534', '23720', '21019', '22266', '21030', '21051', '21065', '26762', '21066', '21134', '21070', '24531', '21077', '21795', '26664', '21086', '23269', '23784', '22174', '23993', '25580', '27360', '21109', '25030', '21110', '23340', '23380', '21119', '23966', '26391', '27860', '21122', '21344', '21128', '22469', '21130', '21169', '21132', '26396', '21153', '23005', '27625', '21155', '22203', '21156', '21161', '22179', '25625', '21176', '21695', '22243', '24672', '26915', '21183', '27570', '21192', '25021', '21203', '21209', '21371', '21558', '21840', '25026', '25541', '26182', '26303', '27340', '27491', '21206', '24651', '22711', '26702', '21222', '26147', '21223', '25495', '26067', '21231', '22745', '21234', '25173', '21242', '23681', '27411', '21250', '24126', '21252', '21267', '24994', '26308', '21276', '27282', '21279', '22699', '21287', '21688', '21303', '25974', '21304', '26427', '21312', '25821', '26034', '21322', '22866', '24888', '21347', '21690', '24523', '21356', '27247', '21358', '25111', '21362', '27013', '21363', '21626', '24053', '21366', '26973', '21379', '23020', '21397', '21575', '21410', '25428', '21412', '25079', '21418', '23556', '21422', '21765', '21449', '22148', '25176', '21453', '25909', '21454', '21458', '26755', '21459', '25381', '27276', '21461', '24173', '21472', '21468', '27438', '23334', '26156', '26963', '21493', '27182', '21515', '22793', '21518', '25544', '21522', '22487', '21523', '21527', '25390', '21534', '24102', '27375', '22180', '26681', '21557', '21777', '22362', '27094', '21563', '21671', '21570', '27006', '27405', '21588', '26615', '21590', '22339', '25171', '27357', '21592', '24570', '21605', '23193', '21623', '26342', '21627', '24176', '24666', '21632', '22287', '22483', '22762', '23685', '23703', '26387', '21641', '21661', '22507', '23951', '26826', '21669', '22976', '21670', '22770', '21680', '21921', '24328', '21698', '24144', '21723', '27610', '21725', '24156', '21728', '23226', '23445', '21747', '24625', '21753', '26655', '21834', '21778', '23952', '21779', '24687', '21793', '24696', '21797', '21817', '24555', '21818', '23500', '21823', '27112', '27132', '22753', '23727', '25043', '25843', '27745', '21867', '27281', '22951', '21910', '21972', '21938', '25005', '21964', '25643', '21968', '27210', '21976', '23276', '24041', '21986', '22079', '22000', '23833', '22004', '23740', '22013', '22432', '24310', '24357', '25127', '26296', '27683', '22026', '22878', '23265', '22040', '27841', '22052', '22600', '22063', '24599', '25116', '22096', '23485', '25062', '22118', '26579', '22137', '23941', '22950', '22156', '24659', '26339', '27133', '25052', '22193', '24513', '22196', '26270', '22212', '22391', '23961', '22247', '24624', '25346', '25652', '27452', '27476', '22261', '23071', '22285', '23250', '24017', '22307', '23023', '22311', '24734', '22337', '25072', '27844', '22341', '22827', '25623', '22358', '22962', '22369', '25251', '22374', '22379', '27652', '22380', '25104', '22386', '23738', '26909', '22398', '24995', '22400', '23186', '22439', '23711', '22448', '26096', '22456', '22691', '22466', '22470', '25747', '22473', '24095', '26115', '26978', '23098', '22493', '27428', '22494', '22684', '23212', '22502', '25202', '22503', '22525', '24138', '26931', '22543', '23585', '22553', '25199', '22586', '25938', '26313', '22591', '25914', '22610', '24873', '22629', '24595', '22678', '23016', '22698', '26440', '22716', '26882', '24166', '22751', '25615', '23150', '23230', '24694', '26334', '22768', '23437', '22810', '26056', '22812', '24941', '22815', '23624', '25227', '22834', '27767', '22836', '26216', '27195', '24887', '27871', '22843', '27765', '22850', '24219', '24322', '22857', '25547', '24021', '22902', '26195', '22921', '24160', '22930', '24481', '25765', '24976', '22956', '27857', '22957', '24876', '22978', '26005', '22983', '25232', '23807', '23007', '26699', '23053', '25641', '23025', '23032', '24727', '27870', '23035', '27484', '23056', '26570', '23073', '24240', '23094', '25712', '23102', '27109', '23109', '24626', '23125', '23132', '25369', '23135', '26043', '23151', '27845', '23156', '27419', '23192', '27689', '23205', '24227', '23241', '24237', '24258', '26800', '23278', '23289', '23299', '26889', '27056', '23321', '26353', '27902', '23338', '25215', '23345', '23349', '23998', '24206', '25588', '26771', '23977', '24983', '23413', '26080', '23434', '23663', '27031', '23449', '25459', '23455', '24791', '23467', '25269', '23468', '27083', '23495', '24216', '23496', '23559', '23887', '24035', '24453', '25935', '27110', '27611', '23558', '24181', '25715', '23560', '25206', '25579', '25779', '23563', '26302', '23593', '26641', '23598', '24934', '23603', '26346', '23614', '25780', '23619', '23838', '25097', '23621', '26378', '23623', '27852', '23644', '23649', '23656', '24689', '23662', '25261', '23683', '26505', '23693', '26831', '23707', '26670', '23737', '27879', '23751', '24353', '23765', '27455', '27557', '23767', '23806', '27002', '24418', '23822', '25708', '26648', '23861', '24244', '23905', '23944', '24393', '26254', '27257', '27699', '23953', '24783', '24820', '23959', '25655', '23973', '26549', '23996', '27803', '24008', '24583', '24030', '24069', '24802', '24116', '24885', '24130', '25373', '24171', '26190', '26595', '24172', '25910', '24182', '24194', '24520', '24197', '26024', '24210', '27637', '24229', '25603', '26283', '24238', '24263', '27859', '24265', '24636', '24274', '25084', '24287', '25036', '24321', '24996', '24352', '24714', '24383', '24402', '26553', '24403', '27201', '24432', '26923', '24455', '25665', '26235', '24468', '27183', '24476', '27509', '24480', '26083', '24540', '24612', '24543', '24597', '27590', '24602', '25598', '24616', '25636', '24634', '26203', '27684', '24645', '25281', '24648', '24650', '24653', '25720', '27254', '24658', '24684', '25622', '24735', '25292', '24771', '24908', '24786', '24806', '25418', '24831', '24838', '24869', '24853', '25808', '24854', '26008', '25878', '24903', '25758', '24915', '27853', '24922', '24932', '25837', '24939', '26775', '27277', '25022', '26388', '25029', '25732', '25663', '25045', '27553', '25047', '27647', '25056', '25057', '26612', '25092', '25290', '25118', '25723', '25133', '26805', '25259', '25431', '25360', '27224', '27810', '25386', '26731', '25412', '25433', '26536', '25535', '25551', '25548', '25679', '27593', '26163', '25754', '26262', '25820', '27300', '25829', '25834', '26466', '25923', '25983', '25930', '25948', '25969', '25970', '26917', '26017', '26010', '27004', '26029', '26794', '26099', '26098', '27154', '27651', '26208', '26752', '26911', '26212', '27015', '26250', '26621', '26252', '26253', '26759', '26509', '26268', '27876', '26295', '27874', '26357', '27161', '26484', '27188', '26517', '27127', '26558', '27076', '26653', '27865', '26696', '27824', '27308', '27741', '27235', '27629', '27675', '27717', '27926', '28172', '27931', '28491', '27932', '28239', '28605', '27966', '28652', '28744', '27971', '28074', '28147', '27978', '28090', '28135', '28000', '28271', '28001', '28060', '28081', '28869', '28035', '28219', '28471', '28909', '28057', '28444', '28171', '28062', '28664', '28063', '28607', '28067', '28330', '28376', '28794', '28068', '28118', '28070', '28855', '28183', '28234', '28092', '28802', '28100', '28475', '28410', '28137', '28194', '28835', '28148', '28287', '28149', '28506', '28168', '28483', '28923', '28206', '28175', '28648', '28176', '28666', '28688', '28695', '28570', '28630', '28825', '28214', '28830', '28215', '28226', '28216', '28509', '28218', '28665', '28677', '28224', '28394', '28338', '28655', '28225', '28852', '28426', '28249', '28317', '28347', '28341', '28512', '28497', '28597', '28641', '28809', '29124', '29136', '29167', '29266', '29271', '29313', '29318', '29442', '29476', '29532', '29611', '29630', '29658', '29179', '29221', '29288', '29306', '29426', '29528', '29665', '29670', '29137', '29530', '29140', '29330', '29574', '29152', '29331', '29362', '29633', '29154', '29210', '29293', '29376', '29392', '29493', '29521', '29577', '29649', '29672', '29156', '29185', '29219', '29237', '29281', '29372', '29389', '29157', '29181', '29248', '29385', '29394', '29541', '29636', '29162', '29307', '29332', '29468', '29499', '29504', '29523', '29567', '29632', '29638', '29640', '29163', '29327', '29474', '29486', '29609', '29660', '29164', '29177', '29375', '29182', '29217', '29249', '29280', '29310', '29336', '29548', '29563', '29637', '29227', '29275', '29190', '29254', '29283', '29439', '29513', '29568', '29653', '29676', '29195', '29363', '29433', '29201', '29409', '29209', '29279', '29386', '29402', '29449', '29545', '29571', '29592', '29579', '29226', '29302', '29305', '29379', '29228', '29478', '29587', '29617', '29465', '29612', '29263', '29576', '29265', '29645', '29273', '29456', '29599', '29406', '29569', '29603', '29294', '29593', '29674', '29311', '29366', '29381', '29388', '29477', '29484', '29550', '29598', '29688', '29312', '29634', '29321', '29322', '29472', '29343', '29693', '29347', '29378', '29357', '29440', '29538', '29361', '29450', '29380', '29606', '29393', '29423', '29457', '29420', '29677', '29447', '29522', '29543', '29553', '6', '100', '386', '1464', '1466', '2898', '3108', '3822', '4499', '4991', '6652', '7078', '8737', '9038', '9783', '11810', '11970', '12056', '12118', '12650', '13198', '14', '8180', '29', '865', '1376', '1896', '1930', '2620', '2800', '2928', '3089', '3737', '4176', '4703', '4878', '4973', '5076', '5356', '5389', '5707', '5734', '5774', '6380', '6425', '7090', '7439', '8886', '9194', '9432', '9900', '10267', '10501', '11434', '11881', '12339', '12920', '12993', '37', '1886', '2153', '2215', '2453', '3668', '4035', '4110', '4288', '4713', '5169', '6113', '7801', '7920', '8102', '8438', '9172', '10025', '10933', '11036', '11178', '11646', '12412', '12848', '13159', '13213', '13450', '13803', '13867', '40', '2795', '3909', '4513', '5178', '5736', '5748', '7480', '8114', '9012', '9786', '11709', '13356', '14164', '41', '1568', '1704', '2094', '2455', '3017', '3037', '3039', '3279', '3877', '4085', '4645', '5089', '5410', '6066', '7149', '7469', '7748', '10074', '10428', '10808', '10946', '11039', '11581', '12269', '12343', '12482', '13592', '14209', '44', '7743', '49', '52', '7826', '11368', '75', '2937', '5941', '77', '5849', '88', '5581', '99', '352', '465', '716', '1771', '1837', '1872', '2196', '2400', '2567', '2664', '2859', '2909', '2992', '3334', '3441', '3506', '4169', '4595', '4774', '5029', '5106', '5341', '5358', '5392', '5601', '5649', '5651', '6288', '6508', '6765', '6836', '7238', '7437', '7728', '7993', '8094', '8647', '8826', '8992', '9084', '9210', '9828', '10432', '11533', '11998', '12114', '12373', '12785', '13369', '13477', '14049', '14189', '14222', '14236', '681', '727', '1138', '1834', '2251', '2520', '2738', '2853', '4160', '4214', '4937', '5257', '5752', '5915', '6737', '7937', '8566', '9116', '10388', '10402', '11233', '11430', '11877', '13081', '112', '2464', '128', '190', '400', '484', '587', '776', '948', '991', '996', '1282', '1525', '1866', '2299', '2784', '2852', '3156', '3471', '3785', '3951', '4355', '4814', '5112', '5586', '5620', '5699', '5710', '6270', '6587', '6710', '7548', '7614', '8082', '8642', '9034', '9109', '9474', '9865', '10084', '10612', '11450', '11511', '11844', '12332', '12491', '13360', '146', '263', '719', '1152', '1544', '1620', '1681', '2961', '3086', '4344', '4895', '5074', '5125', '5138', '5802', '5986', '6410', '6591', '9046', '9405', '10526', '10881', '11664', '11815', '12268', '12459', '12522', '13931', '14234', '173', '3561', '6521', '7342', '185', '494', '1030', '4385', '5567', '12215', '13235', '187', '2239', '6811', '7841', '10514', '10703', '10730', '12419', '191', '1219', '211', '498', '1016', '1024', '1116', '1181', '1304', '3138', '3327', '3619', '4015', '4040', '4785', '4873', '4954', '5563', '6016', '6927', '7549', '8376', '8625', '9212', '9346', '9547', '9793', '10335', '10404', '10754', '10878', '12513', '12823', '13653', '13793', '13922', '13987', '221', '10031', '10248', '224', '1425', '2220', '2971', '3381', '3438', '3555', '4718', '4769', '4796', '5343', '5542', '6895', '6988', '7118', '7628', '9151', '9375', '9669', '10740', '10825', '11070', '11851', '12160', '12523', '12853', '13791', '14023', '234', '1784', '4143', '5464', '5729', '5830', '6287', '235', '782', '1987', '3348', '3612', '6494', '6705', '9790', '10753', '11625', '13376', '242', '524', '688', '803', '1965', '4417', '4672', '7653', '12396', '12581', '253', '3685', '5837', '6468', '7559', '12816', '13414', '13561', '255', '12121', '258', '1867', '4853', '268', '1678', '3291', '10043', '10407', '283', '2302', '2374', '2689', '3303', '4593', '5942', '6042', '6947', '7988', '9285', '9508', '10070', '10135', '10252', '10271', '10593', '10630', '10839', '11999', '13299', '13317', '13700', '14045', '293', '307', '347', '670', '756', '1967', '2252', '2653', '2797', '2821', '3192', '3398', '3572', '3745', '3868', '4002', '4354', '4394', '4419', '4429', '4471', '4677', '5480', '5794', '5927', '6293', '6939', '7069', '7214', '7795', '7818', '7897', '7999', '8080', '8343', '9757', '10067', '10485', '10694', '11424', '11557', '12755', '13125', '13583', '14184', '297', '3170', '4451', '8540', '10326', '10345', '12546', '14167', '301', '338', '8967', '9753', '11928', '13062', '305', '798', '2117', '2822', '2912', '4521', '5000', '5551', '5943', '8899', '12701', '13209', '13826', '13924', '12569', '317', '4790', '6376', '11710', '328', '1274', '1988', '2976', '5538', '5593', '6242', '7648', '7975', '11355', '13202', '13220', '13655', '14133', '339', '397', '3501', '3600', '6918', '7758', '8232', '8351', '8768', '9510', '10179', '10384', '11627', '345', '824', '1146', '1585', '1759', '2203', '2582', '4526', '4586', '4747', '5047', '5293', '5468', '7870', '8545', '11483', '11752', '12401', '13695', '4158', '7737', '14239', '8227', '12832', '356', '547', '1279', '1635', '1690', '2180', '2459', '4096', '4959', '6301', '7226', '11981', '12991', '13430', '383', '2941', '388', '777', '2069', '4337', '4434', '4643', '5382', '6372', '6416', '6767', '6909', '7000', '7712', '8590', '8699', '8932', '9054', '9607', '10812', '11464', '11614', '11880', '13048', '13871', '411', '5897', '6154', '8728', '9226', '10546', '10815', '11104', '11588', '11967', '13357', '13393', '13624', '14241', '424', '11114', '449', '460', '1637', '2747', '3082', '5785', '8021', '8299', '11149', '3068', '11661', '466', '6559', '478', '502', '2448', '9287', '9710', '13380', '14140', '486', '789', '490', '10569', '4800', '496', '5473', '1668', '3743', '5290', '5491', '5549', '5660', '6312', '6460', '7622', '8587', '8803', '12447', '13747', '512', '1276', '2785', '3031', '3688', '3777', '3887', '4309', '4896', '5114', '6018', '6969', '7458', '7658', '8723', '10016', '10259', '11948', '12212', '13510', '13657', '14064', '14264', '517', '2601', '523', '1658', '5639', '5998', '8521', '557', '3061', '5170', '9744', '14099', '558', '3742', '13121', '14127', '560', '2425', '5264', '5688', '6783', '6990', '9079', '564', '875', '4639', '7928', '8555', '11451', '13405', '13812', '4628', '592', '8492', '595', '9010', '12076', '599', '1940', '611', '1211', '5489', '635', '644', '4044', '5754', '655', '11556', '12431', '662', '1064', '9459', '687', '9586', '10583', '11477', '12167', '694', '9257', '13455', '1085', '1515', '2379', '2803', '3220', '5438', '6143', '7100', '8795', '9167', '9995', '10187', '11090', '11449', '12586', '12969', '13116', '729', '3748', '13898', '14232', '742', '1763', '2132', '2303', '2535', '2835', '3060', '3700', '3939', '4589', '5117', '7116', '8806', '8965', '12048', '13422', '14004', '14200', '745', '2146', '6831', '7643', '7878', '8417', '8754', '9160', '10301', '12693', '13295', '751', '917', '976', '1062', '1235', '1326', '2118', '2648', '4016', '5043', '5314', '6145', '6446', '6498', '7460', '8167', '9102', '10855', '12062', '13318', '4821', '761', '3051', '3366', '771', '3488', '856', '10517', '786', '1034', '2311', '2480', '4452', '7186', '7387', '9423', '13564', '13661', '796', '12365', '1296', '1724', '2346', '2356', '2647', '2951', '4657', '5180', '5891', '6159', '7145', '11352', '13656', '3911', '7313', '11174', '813', '832', '4350', '834', '2658', '4218', '10744', '12498', '12613', '12736', '883', '5972', '6563', '8307', '8696', '9511', '887', '2159', '9032', '9110', '11329', '12905', '7385', '8212', '8252', '12279', '924', '5272', '9136', '946', '6129', '965', '11931', '971', '5136', '5248', '5425', '7297', '7962', '9446', '10099', '10105', '10924', '11462', '12563', '13150', '972', '1610', '8862', '974', '2679', '3554', '6826', '6239', '13934', '977', '2656', '2945', '5115', '8440', '979', '12921', '992', '11859', '1001', '5901', '9972', '12064', '14072', '1010', '3602', '8159', '10242', '8254', '1492', '10843', '1032', '2697', '4442', '7854', '13969', '1033', '9847', '1045', '1055', '1135', '2380', '13105', '8878', '8466', '10461', '11645', '1103', '1338', '1429', '1533', '1647', '3504', '4786', '7679', '8199', '13019', '13813', '14002', '1109', '1341', '1123', '3937', '4522', '4564', '4609', '5146', '6545', '9289', '13892', '1189', '12418', '1192', '5065', '1249', '2269', '1271', '2748', '6210', '8017', '1289', '13378', '3174', '7587', '11130', '12321', '1298', '2080', '1307', '3670', '4811', '10752', '11632', '13487', '1310', '2956', '1313', '6693', '1317', '5788', '6709', '8245', '9064', '12731', '1334', '7039', '2109', '9577', '11697', '13343', '1353', '11042', '12464', '12568', '1381', '2106', '14028', '1393', '2181', '1417', '1657', '2847', '4819', '4827', '5504', '6109', '6968', '7246', '7411', '13962', '1428', '2642', '3929', '1436', '3746', '11100', '2948', '1467', '2193', '2761', '6876', '7768', '9154', '11934', '12643', '14172', '1488', '8400', '12602', '1550', '4885', '8115', '9231', '1563', '6415', '10371', '1570', '4049', '1588', '1638', '3545', '4712', '4977', '10004', '1625', '7713', '1636', '4131', '7873', '1645', '8117', '2060', '3990', '4326', '5226', '7958', '10164', '13403', '1709', '4410', '10168', '12094', '1711', '8464', '13443', '2504', '4199', '8622', '11047', '14122', '1733', '7272', '8772', '12070', '2273', '12414', '1792', '5189', '11651', '1793', '1815', '6398', '1846', '6172', '7088', '10177', '10851', '12599', '1856', '12783', '11111', '1875', '5263', '1919', '9164', '9732', '1956', '3758', '6606', '10643', '11958', '12699', '13679', '1969', '8940', '9646', '11095', '1972', '11486', '1973', '4444', '1985', '4736', '2002', '9202', '2039', '12934', '2046', '12409', '2055', '2082', '6515', '2100', '5578', '6451', '10836', '13226', '5957', '2110', '3724', '2120', '3176', '6417', '2136', '8083', '2152', '13191', '3648', '6471', '7863', '11836', '14008', '2172', '7606', '8619', '10873', '12323', '2185', '11397', '12908', '2189', '3684', '4576', '4925', '7807', '12278', '12618', '4761', '10413', '2229', '11269', '13588', '2260', '3399', '2262', '8631', '8013', '2285', '8516', '2991', '8789', '2326', '3183', '11309', '12366', '2350', '11729', '2362', '2829', '2965', '5365', '5841', '9550', '11195', '13060', '2371', '2753', '2376', '4909', '8478', '11468', '8433', '2382', '8999', '13820', '3955', '2546', '5030', '2576', '8857', '5630', '5848', '6815', '7793', '9439', '2631', '3481', '7819', '8954', '11461', '11702', '2732', '4612', '2665', '11630', '2688', '8026', '13668', '6156', '9864', '2727', '7977', '5605', '6443', '2833', '9725', '2857', '10258', '2858', '4416', '9553', '2872', '2873', '5338', '2879', '8306', '9313', '9813', '2908', '9247', '2925', '3006', '3242', '3638', '8243', '14225', '2954', '13334', '3009', '4881', '3038', '5978', '5079', '8838', '3112', '12578', '3114', '3131', '4297', '3161', '4062', '4235', '5656', '7059', '7271', '7321', '8163', '3188', '4839', '5163', '11089', '13619', '3196', '8338', '3214', '3264', '3283', '7352', '3290', '6514', '11767', '3341', '12786', '3352', '7592', '3439', '6141', '12001', '13221', '3462', '6648', '9075', '3494', '4852', '7910', '14060', '14183', '11620', '3508', '5004', '5552', '8550', '11301', '3523', '6011', '13849', '12704', '8853', '3607', '9056', '3651', '3659', '8111', '3671', '12161', '3703', '6193', '3771', '7158', '12597', '3794', '10122', '3847', '4187', '4320', '10829', '3983', '4840', '7410', '8253', '13519', '3994', '4310', '4007', '6593', '4009', '4190', '13476', '4032', '7099', '7857', '9367', '12691', '13416', '4121', '5607', '10011', '4124', '4519', '4145', '6650', '6964', '4165', '9557', '4184', '7329', '10683', '11145', '12189', '10155', '4193', '5580', '11683', '4259', '6505', '4318', '9120', '9697', '4393', '5104', '7063', '7895', '10952', '11372', '12335', '13245', '4413', '5254', '4426', '7016', '8986', '4450', '7319', '4461', '9527', '13880', '6785', '4480', '5414', '4494', '10879', '4498', '10891', '12331', '4511', '11494', '13355', '13751', '4512', '13179', '4515', '8403', '4548', '11243', '10859', '4673', '4741', '6037', '4744', '12623', '4750', '11299', '4771', '8268', '4836', '4847', '7511', '6450', '9817', '6166', '4931', '8189', '4950', '10282', '12017', '6602', '5026', '7014', '10344', '12893', '5067', '9074', '7915', '9268', '5139', '8774', '5148', '5316', '8749', '5174', '11015', '5220', '7494', '5333', '8321', '5353', '6953', '5357', '9483', '12780', '5367', '8930', '5368', '13586', '5373', '13865', '5399', '10885', '5466', '8695', '5493', '10689', '5511', '6075', '8888', '12067', '13368', '6044', '5553', '7012', '7500', '7520', '14196', '5598', '5623', '9295', '5641', '7032', '7976', '5669', '11701', '13956', '5693', '11711', '13861', '5696', '8479', '9022', '10310', '10390', '5708', '8035', '9683', '10559', '13551', '5746', '13023', '5767', '5805', '13386', '5806', '5828', '9800', '10160', '10910', '5896', '10820', '5967', '8387', '5999', '6014', '6052', '8462', '6053', '10676', '6093', '10058', '6253', '10363', '6273', '7887', '6318', '11656', '6339', '10285', '11118', '6430', '8519', '6474', '7848', '6496', '13325', '6525', '9613', '6528', '7370', '6585', '13877', '9033', '6624', '10281', '13704', '6627', '6646', '6655', '8512', '6669', '8569', '9583', '9719', '12159', '12444', '13322', '6744', '6747', '8056', '10502', '12000', '13831', '6906', '13026', '6954', '14016', '6977', '13217', '7061', '12256', '7066', '12957', '7167', '9434', '7229', '8671', '7240', '8863', '7262', '8131', '7335', '7714', '7347', '11799', '12577', '7361', '8586', '7371', '12584', '7412', '10197', '7451', '11988', '7462', '8835', '7723', '13828', '7817', '11968', '7831', '8445', '8488', '8602', '7860', '12281', '8046', '8654', '10170', '10412', '8196', '10289', '8215', '8237', '9834', '11638', '8309', '9721', '8402', '12142', '8472', '10455', '13780', '8496', '8568', '8574', '11575', '8612', '12433', '8621', '11274', '8692', '13305', '9602', '10913', '8882', '13149', '8902', '8909', '8939', '9963', '9617', '9113', '9555', '9173', '12796', '9233', '10290', '9315', '10294', '9404', '12884', '9506', '9747', '13972', '9791', '9838', '10648', '9858', '14212', '9863', '11374', '10040', '10100', '10985', '10158', '12666', '10278', '11764', '10599', '13963', '11349', '11524', '11926', '11768', '13589', '12002', '12209', '12178', '14219', '12230', '12231', '14192', '12722', '13985', '13009', '13289', '14269', '14278', '14306', '14307', '14313', '14342', '14362', '14363', '14366', '14375', '14394', '14406', '14410', '14411', '14417', '14421', '14436', '14439', '14463', '14474', '14476', '14490', '14501', '14527', '14528', '14529', '14539', '14550', '14552', '14555', '14565', '14570', '14272', '14298', '14299', '14359', '14384', '14407', '14408', '14512', '14567', '14571', '15151', '15154', '15155', '15161', '15162', '15167', '15177', '15185', '15228', '15235', '15236', '15247', '15255', '15256', '15269', '15207', '15223', '15156', '15181', '15183', '15184', '15190', '15209', '15249', '15251', '15267', '15160', '15165', '15168', '15178', '15188', '15215', '15226', '15230', '15252', '15202', '15232', '15180', '15259', '15173', '15222', '15234', '15220', '15213', '15217', '16023', '16053', '16125', '16130', '16166', '16295', '16351', '16049', '16055', '16126', '16128', '16146', '16147', '16177', '16180', '16199', '16206', '16213', '16215', '16322', '16325', '16327', '16347', '16364', '16114', '16202', '16127', '16335', '16311', '16265', '16186', '16226', '16277', '18333', '18340', '18365', '18366', '18369', '18371', '18372', '18373', '18377', '18380', '18381', '18388', '18392', '18394', '18398', '18404', '18409', '18410', '18412', '18417', '18424', '18429', '18438', '18455', '18339', '18427', '18342', '18375', '18439', '18453', '18361', '18437', '18457', '19067', '19101', '19136', '19193', '19209', '19215', '19239', '19241', '19254', '19261', '19304', '19312', '19337', '19348', '19365', '19368', '19455', '19486', '19593', '19604', '19626', '19635', '19672', '19674', '19686', '19068', '19069', '19071', '19072', '19081', '19083', '19096', '19108', '19109', '19112', '19114', '19154', '19161', '19180', '19191', '19196', '19208', '19214', '19226', '19231', '19232', '19236', '19279', '19283', '19288', '19313', '19314', '19322', '19324', '19327', '19329', '19330', '19336', '19345', '19357', '19363', '19410', '19428', '19430', '19478', '19479', '19510', '19529', '19534', '19546', '19566', '19573', '19582', '19638', '19639', '19640', '19662', '19673', '19075', '19132', '19217', '19274', '19596', '19431', '19598', '19089', '19192', '19211', '19238', '19256', '19263', '19277', '19339', '19367', '19390', '19397', '19418', '19440', '19452', '19514', '19519', '19095', '19115', '19123', '19179', '19219', '19260', '19265', '19267', '19286', '19341', '19377', '19380', '19429', '19447', '19457', '19458', '19528', '19536', '19623', '19627', '19632', '19140', '19218', '19670', '19419', '19197', '19221', '19525', '19683', '19687', '19558', '19331', '19675', '19698', '19699', '19709', '19716', '19735', '19741', '19754', '19758', '19762', '19766', '19775', '19776', '19783', '19788', '19811', '19814', '19816', '19827', '19828', '19832', '19833', '19838', '19845', '19851', '19728', '19729', '19752', '19759', '19769', '19773', '19707', '19714', '19732', '19737', '19745', '19756', '19815', '19837', '19738', '19763', '19831', '19749', '19778', '19771', '28931', '29028', '28939', '29011', '29077', '28944', '29075', '28945', '28965', '29046', '29078', '29084', '28947', '28985', '28988', '28956', '28959', '29047', '29055', '29115', '28961', '29089', '28968', '29024', '28984', '29051', '29009', '29076', '29100', '29015', '29021', '29035', '29103', '29036', '29057', '29059', '29119', '10', '9098', '73', '3634', '4877', '8328', '180', '9275', '9758', '220', '3618', '3898', '4871', '5094', '8831', '9021', '12232', '13348', '13766', '230', '7476', '256', '13251', '265', '2773', '3368', '6635', '8710', '11623', '13713', '333', '1400', '3417', '11266', '13183', '382', '855', '2405', '2579', '11297', '11653', '12715', '13932', '409', '4864', '8161', '440', '10143', '448', '506', '7613', '576', '9031', '10211', '702', '1286', '1996', '5929', '7753', '13050', '739', '1861', '792', '2410', '829', '5452', '841', '5759', '7397', '877', '2012', '9634', '9899', '11898', '913', '6467', '8345', '940', '1188', '13086', '953', '6979', '1104', '2874', '1126', '4965', '10092', '12312', '13239', '1185', '13353', '1293', '5562', '13412', '1294', '3168', '12595', '13840', '1348', '1768', '3451', '3744', '4841', '5008', '5045', '6204', '7499', '8937', '11501', '12035', '12500', '13611', '14017', '14195', '1387', '7689', '1403', '3380', '1514', '3120', '4635', '6557', '9413', '1574', '3309', '1578', '11573', '1618', '2078', '1732', '7794', '1744', '3601', '1813', '10698', '1958', '2071', '1959', '6023', '6539', '9640', '4108', '7789', '13364', '9594', '2037', '11879', '8970', '2124', '3961', '2125', '5271', '2158', '14073', '2372', '3766', '4084', '4427', '4454', '12830', '2460', '5810', '6480', '9409', '2659', '13802', '2710', '11048', '2780', '2919', '5932', '6698', '2837', '12791', '2890', '12614', '2946', '7188', '7330', '8901', '9444', '10603', '3022', '3511', '3055', '11441', '3115', '7053', '3978', '4974', '5289', '7526', '3186', '5622', '11049', '13615', '3271', '7904', '3328', '6136', '3329', '8711', '3378', '6341', '8305', '11706', '14062', '10706', '3455', '5462', '6368', '11069', '3483', '3503', '3938', '5453', '6162', '7398', '3587', '4161', '10931', '3622', '11035', '3640', '3807', '6272', '10862', '11371', '3843', '6231', '10364', '3865', '10998', '12872', '12507', '4011', '4266', '5366', '4174', '7610', '4261', '5602', '4307', '4701', '4485', '12243', '4540', '11282', '4607', '6488', '13387', '4684', '12454', '14081', '4751', '13633', '4865', '9994', '5160', '8412', '13847', '5260', '11899', '5302', '13252', '5322', '10132', '11696', '12068', '5703', '9137', '5743', '7732', '14003', '5779', '8192', '5905', '6670', '5960', '12947', '5991', '6798', '10674', '6095', '11357', '6121', '10911', '8918', '6274', '9780', '6306', '6367', '6309', '7086', '12165', '6344', '7741', '6387', '13992', '6580', '11736', '12900', '7146', '12322', '10906', '7362', '9761', '7434', '12260', '7489', '8415', '11571', '7664', '10614', '7754', '7828', '8060', '11482', '8064', '9381', '8668', '9081', '8715', '11852', '8873', '14078', '8942', '13016', '9041', '11386', '9521', '12358', '13231', '10314', '11829', '10632', '12304', '12449', '12765', '12659', '13256', '12962', '13909', '14266', '14276', '14293', '14311', '14312', '14316', '14330', '14339', '14473', '14488', '14496', '14500', '14508', '14509', '14520', '14538', '14561', '14392', '14517', '14603', '14609', '14630', '14678', '14739', '14815', '14830', '14855', '14859', '14862', '14909', '14927', '14946', '14966', '15113', '14949', '14953', '14998', '15105', '15111', '14959', '14984', '14996', '15053', '15066', '15076', '15118', '15143', '15144', '15037', '14968', '15033', '15135', '14979', '15119', '15020', '15128', '15060', '15139', '15285', '15487', '15669', '15314', '15325', '15361', '15670', '15359', '15866', '15417', '15589', '15610', '15659', '15364', '15458', '15527', '15655', '15845', '15851', '15915', '15963', '15980', '15386', '15387', '15406', '15643', '15689', '15900', '15422', '15495', '15580', '15820', '15889', '15902', '15911', '15522', '15836', '15575', '15725', '15957', '15981', '15869', '15930', '15591', '15615', '15787', '15847', '15614', '15687', '15771', '15910', '15942', '15707', '15945', '16012', '16022', '16043', '16074', '16094', '16102', '16132', '16155', '16218', '16227', '16238', '16286', '16289', '16367', '16017', '16141', '16029', '16082', '16320', '16336', '16088', '16142', '16268', '16379', '16495', '16497', '16514', '16616', '16632', '16655', '16769', '16842', '16384', '16432', '16479', '16522', '16527', '16625', '16706', '16711', '16793', '16870', '16388', '16425', '16426', '16468', '16605', '16622', '16629', '16638', '16669', '16784', '16879', '16389', '16411', '16645', '16658', '16399', '16465', '16493', '16825', '16455', '16464', '16730', '16481', '16470', '16528', '16861', '16700', '16778', '16980', '17085', '17098', '17131', '17136', '17177', '17218', '17102', '17120', '17158', '17183', '17215', '17187', '17192', '17197', '17240', '17245', '17251', '17256', '17270', '17276', '17283', '17298', '17300', '17306', '17321', '17330', '17510', '17949', '17558', '17766', '17574', '17609', '18004', '17586', '17622', '17603', '17659', '17730', '17925', '18297', '17638', '17728', '17672', '17977', '18240', '17679', '17874', '18016', '17738', '17868', '18171', '18175', '17756', '17826', '17970', '17995', '17769', '18143', '17786', '17994', '17789', '17916', '17938', '18100', '18202', '18112', '18045', '18072', '18056', '18106', '18336', '18374', '18391', '18355', '18386', '18430', '18442', '18357', '18362', '18512', '18535', '18542', '18593', '18755', '18603', '18630', '18790', '18805', '18921', '18607', '18768', '18612', '18736', '18936', '18675', '18680', '18634', '18665', '18840', '18865', '18883', '18690', '18804', '18892', '18833', '18862', '18939', '18972', '18980', '18989', '18940', '18975', '18946', '19033', '19057', '18952', '19021', '18967', '18969', '18970', '18998', '18973', '19009', '19018', '19022', '19059', '18985', '19004', '19015', '18988', '19011', '18996', '19023', '18999', '19036', '19013', '19017', '19038', '19058', '19070', '19084', '19085', '19088', '19137', '19150', '19157', '19173', '19184', '19187', '19222', '19234', '19242', '19251', '19276', '19280', '19287', '19315', '19316', '19354', '19360', '19392', '19406', '19416', '19424', '19439', '19471', '19474', '19494', '19515', '19520', '19551', '19561', '19577', '19587', '19642', '19145', '19290', '19501', '19597', '19148', '19220', '19271', '19579', '19210', '19090', '19104', '19099', '19105', '19126', '19285', '19432', '19605', '19669', '19124', '19189', '19205', '19250', '19408', '19454', '19493', '19667', '19160', '19438', '19470', '19861', '19950', '20015', '19881', '19934', '19993', '20057', '22360', '21277', '22234', '22031', '25394', '26953', '27977', '27997', '28053', '28213', '28283', '28354', '28580', '28660', '28891', '27980', '28461', '27984', '27993', '28014', '28700', '28096', '28205', '28323', '28717', '28269', '28474', '28310', '28422', '28716', '28832', '28808', '28827', '28954', '29061', '29071', '28976', '29093', '28977', '28994', '29026', '29044', '29056', '29135', '29286', '29251', '29412', '29680', '29264', '29377', '29344', '29414', '29373', '29462', '29466', '29533', '29583', '29656', '29659', '19790', '19803', '78', '154', '514', '1406', '1437', '2243', '2398', '7455', '9541', '10162', '11579', '12382', '12384', '12619', '80', '8396', '86', '144', '857', '1993', '3000', '3401', '3721', '3854', '4189', '4298', '4653', '4735', '5111', '6208', '7209', '7611', '8209', '8547', '9003', '9039', '9696', '9706', '9717', '9743', '9809', '9967', '10123', '10858', '10869', '10884', '11276', '11503', '11802', '11828', '11975', '12163', '12246', '12673', '12676', '13003', '13308', '14179', '2988', '4930', '8208', '10175', '12774', '13920', '1708', '10243', '374', '5019', '377', '5292', '404', '467', '471', '614', '8059', '10367', '412', '10863', '422', '10613', '430', '1356', '450', '8683', '13613', '589', '7267', '7832', '7987', '11369', '480', '3484', '5852', '6305', '11989', '8802', '754', '1589', '763', '1629', '2205', '10131', '12157', '12782', '14235', '850', '7490', '2836', '868', '4170', '8911', '872', '957', '4629', '8049', '1047', '12117', '12235', '14230', '1057', '3121', '9911', '10618', '10649', '13456', '1370', '7309', '7512', '9737', '13797', '5193', '5635', '10893', '13049', '1442', '6080', '11252', '1481', '4363', '1545', '7570', '1565', '3872', '8452', '10441', '5668', '1754', '8011', '1781', '4862', '12284', '12461', '12729', '1862', '8501', '1922', '10035', '2054', '4849', '13753', '2057', '6634', '8162', '10845', '2291', '12541', '2522', '9303', '2674', '10819', '2733', '2815', '6610', '11236', '2894', '13337', '10280', '3184', '12526', '3377', '7365', '10936', '13736', '3594', '13548', '3654', '6294', '3751', '7922', '8210', '8361', '13878', '3947', '8027', '3953', '12129', '13553', '4033', '12069', '4087', '5975', '7919', '8985', '4396', '12261', '14231', '4436', '12974', '4477', '9935', '11650', '4530', '9819', '10454', '4550', '5196', '7295', '13738', '10964', '5023', '5433', '12248', '7908', '14151', '9078', '5210', '5329', '6607', '5570', '5786', '5713', '7532', '5761', '10914', '11009', '6251', '12837', '5889', '10755', '11212', '5977', '6594', '11848', '6350', '6497', '6520', '10684', '12517', '14182', '6407', '8178', '12752', '6432', '10265', '10587', '6549', '11867', '6770', '12710', '6795', '7258', '11101', '7568', '8469', '13582', '8794', '11584', '8890', '9270', '9179', '13750', '9339', '13648', '9356', '10003', '9488', '12441', '9608', '9887', '11201', '10126', '11469', '10818', '11253', '10901', '14249', '10974', '12148', '13710', '13119', '12937', '13157', '14265', '14335', '14347', '14361', '14369', '14370', '14378', '14382', '14390', '14412', '14414', '14426', '14434', '14438', '14447', '14452', '14466', '14487', '14491', '14543', '14577', '14581', '14582', '14279', '14284', '14294', '14309', '14310', '14315', '14357', '14374', '14377', '14381', '14391', '14395', '14397', '14423', '14437', '14449', '14458', '14465', '14485', '14503', '14562', '14563', '14595', '14598', '14629', '14638', '14641', '14642', '14653', '14655', '14690', '14693', '14703', '14706', '14710', '14726', '14732', '14736', '14737', '14765', '14784', '14795', '14797', '14800', '14801', '14805', '14810', '14820', '14831', '14832', '14878', '14899', '14901', '14902', '14916', '14934', '14781', '14730', '14740', '14940', '15109', '14975', '15108', '15034', '15063', '15124', '15052', '15101', '15271', '15274', '15281', '15293', '15397', '15483', '15518', '15576', '15577', '15606', '15626', '15651', '15701', '15703', '15719', '15819', '15860', '15865', '15891', '15948', '15949', '15977', '16001', '15280', '15884', '15286', '15295', '15632', '15993', '15335', '15366', '15370', '15420', '15432', '15466', '15467', '15493', '15549', '15597', '15636', '15641', '15672', '15953', '15958', '15990', '15396', '15604', '15768', '15638', '15649', '15675', '15742', '15838', '16014', '16032', '16037', '16042', '16046', '16056', '16073', '16075', '16123', '16144', '16172', '16178', '16184', '16195', '16201', '16219', '16233', '16234', '16260', '16261', '16262', '16266', '16276', '16309', '16323', '16329', '16349', '16015', '16182', '16223', '16237', '16283', '16385', '16401', '16403', '16407', '16441', '16444', '16469', '16480', '16485', '16486', '16504', '16506', '16517', '16520', '16546', '16557', '16560', '16564', '16573', '16581', '16593', '16608', '16644', '16651', '16660', '16692', '16698', '16740', '16743', '16756', '16775', '16799', '16804', '16807', '16824', '16862', '16871', '16400', '16412', '16415', '16437', '16548', '16559', '16563', '16597', '16612', '16661', '16713', '16765', '16797', '16808', '16818', '16840', '16866', '16885', '16772', '16901', '16905', '17092', '17109', '17113', '17124', '17172', '17232', '17134', '17149', '17184', '17142', '17127', '17140', '17168', '17268', '17296', '17303', '17328', '17329', '17326', '17513', '17556', '17623', '17642', '17742', '17755', '17778', '17784', '17791', '17934', '18078', '17544', '17606', '18199', '17593', '18043', '18137', '18232', '17613', '17637', '17678', '17706', '17794', '17966', '18108', '18281', '17664', '18057', '18092', '18217', '17677', '18001', '18290', '17705', '18029', '17717', '17946', '18162', '17729', '18107', '17754', '17910', '17763', '18030', '17777', '17823', '17941', '17804', '18150', '18298', '17806', '18069', '18140', '17818', '17872', '17843', '17862', '17943', '17906', '18187', '18115', '18330', '18335', '18338', '18384', '18390', '18396', '18402', '18411', '18416', '18432', '18443', '18448', '18370', '18379', '18434', '18444', '18447', '18348', '18462', '18560', '18467', '18532', '18501', '18564', '18503', '18516', '18568', '18573', '18617', '18735', '18622', '18668', '18696', '18753', '18808', '18636', '18737', '18831', '18639', '18657', '18766', '18793', '18836', '18867', '18677', '18792', '18707', '18747', '18911', '18797', '18915', '18905', '18931', '19091', '19092', '19103', '19125', '19127', '19133', '19166', '19171', '19185', '19213', '19233', '19305', '19306', '19323', '19359', '19374', '19379', '19396', '19401', '19415', '19436', '19469', '19483', '19488', '19495', '19496', '19499', '19500', '19511', '19513', '19550', '19590', '19594', '19600', '19607', '19624', '19631', '19641', '19643', '19644', '19656', '19685', '19690', '19696', '19097', '19106', '19146', '19182', '19273', '19318', '19353', '19366', '19370', '19437', '19523', '19553', '19565', '19660', '19165', '19882', '19921', '19933', '19977', '20008', '19957', '20025', '21052', '21377', '21123', '21245', '23992', '26693', '24522', '27908', '25520', '27026', '27929', '28139', '28156', '28295', '28431', '28589', '28763', '27943', '28114', '28236', '28414', '28530', '27953', '28290', '28860', '28003', '28397', '28005', '28479', '28750', '28797', '28008', '28321', '28447', '28472', '28493', '28547', '28578', '28016', '28029', '28105', '28222', '28411', '28541', '28719', '28857', '28877', '28077', '28123', '28490', '28524', '28608', '28636', '28082', '28133', '28430', '28488', '28531', '28095', '28361', '28276', '28864', '28151', '28230', '28914', '28159', '28769', '28828', '28243', '28742', '28427', '28907', '28868', '28672', '28367', '28853', '28466', '28752', '28573', '28620', '28678', '28613', '28812', '28621', '28667', '29240', '29647', '29268', '29384', '29346', '29490', '118', '1586', '152', '978', '6433', '167', '10658', '11790', '229', '13979', '419', '2651', '8722', '473', '4592', '975', '5385', '1142', '2276', '1167', '13531', '1229', '11151', '1606', '11317', '1764', '5415', '1950', '5739', '9108', '2000', '5868', '11056', '2248', '5036', '10342', '2255', '12143', '2646', '7963', '3307', '9573', '13381', '3534', '8204', '3631', '12657', '3837', '6776', '10664', '3925', '14214', '4017', '4412', '4377', '7840', '4559', '5135', '7652', '10554', '5315', '8518', '8763', '9272', '5590', '5749', '5745', '10036', '11558', '10443', '6440', '10209', '11403', '6708', '10246', '6729', '8459', '7131', '12680', '7579', '12016', '8709', '13893', '9968', '12292', '11045', '11245', '14287', '14350', '14367', '14386', '14396', '14486', '14497', '14507', '14535', '14559', '14608', '14612', '14645', '14764', '14775', '14813', '14860', '14868', '14892', '14954', '14961', '15080', '14971', '15071', '14976', '15091', '15134', '15148', '15069', '15082', '15290', '15515', '15531', '15567', '15654', '15763', '15766', '15850', '15855', '15862', '15897', '15906', '16006', '16009', '15369', '15400', '15443', '15700', '15731', '15785', '15798', '15811', '15967', '15989', '15882', '15583', '15878', '15921', '15954', '15828', '15852', '15979', '16397', '16471', '16518', '16531', '16555', '16574', '16589', '16615', '16621', '16702', '16761', '16878', '16881', '16418', '16489', '16490', '16513', '16724', '16830', '16450', '16501', '16525', '16594', '16626', '16665', '16741', '16801', '16779', '16841', '17234', '17302', '17316', '17317', '17319', '17236', '17258', '17243', '17275', '17254', '17523', '18060', '17617', '17953', '17680', '17751', '17695', '17696', '17880', '17698', '18200', '18207', '17760', '18019', '17975', '18300', '18000', '18146', '18619', '18821', '18635', '18888', '18685', '18777', '19077', '19269', '19310', '19563', '19229', '19384', '19689', '19342', '28037', '28811', '28047', '28048', '28107', '28270', '28339', '28359', '28383', '28413', '28432', '28446', '28478', '28522', '28556', '28564', '28590', '28690', '28706', '28708', '28818', '28899', '28052', '28078', '28189', '28126', '28229', '28415', '28464', '28722', '28746', '28932', '28941', '29082', '29101', '29108', '28935', '29043', '28940', '28949', '29013', '29018', '29114', '28942', '28971', '29008', '29041', '29052', '29074', '29081', '28950', '29030', '29049', '28963', '29060', '28970', '28999', '29003', '29063', '29064', '28974', '29000', '28978', '29094', '29118', '29090', '29027', '29038', '29065', '29109', '1125', '1803', '12275', '139', '9161', '9730', '569', '1962', '787', '4601', '3927', '4971', '13885', '4960', '5350', '7772', '8700', '8266', '11912', '13132', '10350', '12995', '540', '5274', '2006', '12636', '2574', '7883', '3189', '12195', '3756', '13636', '4311', '9877', '5348', '8581', '6220', '7071', '9901', '11668', '10867', '13970', '14338', '14493', '14494', '14537', '14580', '16488', '16695', '17090', '17108', '17227', '17146', '17220', '17257', '17327', '18341', '18347', '18459', '18407', '18452', '19910', '19926', '19945', '19968', '188', '1172', '14962', '15039', '30', '937', '43', '4041', '5370', '7982', '12180', '13182', '79', '3666', '4005', '6838', '13925', '81', '10518', '85', '2989', '5465', '8126', '102', '3497', '11862', '130', '4823', '12956', '306', '9129', '380', '2892', '3233', '5483', '5506', '6362', '9649', '9759', '12869', '12898', '13529', '425', '2234', '575', '2922', '13156', '615', '11637', '617', '7378', '9878', '10322', '10387', '13022', '701', '1327', '4555', '5012', '5323', '5530', '6694', '8657', '8974', '13572', '752', '1159', '874', '2884', '1007', '13243', '1144', '2952', '5078', '7638', '8561', '8895', '1171', '1187', '9691', '9939', '1489', '13584', '1542', '7264', '1692', '12903', '1756', '5505', '8572', '13445', '1822', '9359', '13778', '1833', '11631', '1920', '1936', '4358', '7128', '11018', '2116', '2349', '2315', '9718', '2436', '9609', '14216', '2639', '12502', '2717', '13919', '2808', '7407', '2931', '5663', '8549', '9485', '9806', '5225', '14253', '3088', '13542', '3104', '12871', '3119', '4611', '3140', '5633', '3152', '4391', '12227', '12845', '3225', '3478', '4857', '6544', '6882', '7358', '11341', '14242', '3325', '8734', '11827', '3394', '9097', '12536', '3467', '10340', '3658', '6780', '12303', '3741', '7771', '3971', '14005', '3975', '6639', '4019', '5631', '4252', '4376', '9259', '9727', '4497', '10616', '4525', '5705', '6921', '7647', '9438', '12228', '13516', '4675', '7091', '8244', '8989', '10640', '14169', '4784', '12645', '5006', '13100', '5056', '7799', '8848', '9748', '12196', '5221', '5870', '9885', '5349', '7953', '10012', '5795', '6420', '13037', '6107', '7478', '12854', '6247', '8641', '6324', '11139', '6596', '11271', '6660', '11102', '11275', '6752', '12963', '6789', '13660', '6802', '11933', '6806', '12313', '6863', '7616', '6923', '11541', '6945', '11607', '7454', '12550', '7630', '12624', '7967', '8019', '8098', '11712', '12554', '13076', '8322', '9768', '8428', '9138', '10157', '9749', '11202', '10088', '13162', '10244', '13798', '10989', '12878', '11306', '12198', '12607', '14280', '14283', '14348', '14385', '14399', '14404', '14405', '14416', '14457', '14470', '14530', '14534', '14616', '14658', '14661', '14676', '14685', '14697', '14821', '14887', '14900', '14915', '14932', '14936', '15094', '15145', '15197', '15198', '15248', '15263', '15272', '15477', '15774', '15831', '15284', '15372', '15546', '15596', '15307', '15390', '15631', '15809', '15319', '15321', '15341', '15356', '15383', '15509', '15637', '15837', '15849', '15988', '15332', '15353', '15682', '15570', '15530', '15698', '15365', '15717', '15569', '15691', '16013', '16028', '16045', '16083', '16106', '16118', '16138', '16197', '16241', '16255', '16373', '16033', '16057', '16068', '16089', '16090', '16093', '16154', '16168', '16193', '16211', '16220', '16239', '16246', '16249', '16310', '16052', '16104', '16150', '16366', '16205', '16103', '16189', '16273', '16334', '16134', '16214', '16391', '16453', '16454', '16526', '16537', '16822', '16865', '16889', '16431', '16683', '16766', '16789', '16823', '16831', '16439', '16727', '16782', '16809', '16902', '16919', '16972', '16974', '17022', '16911', '16958', '16913', '16975', '16933', '16983', '16989', '17101', '17143', '17144', '17162', '17123', '17171', '17132', '17166', '17200', '17226', '17229', '17252', '17262', '17318', '17259', '17284', '17288', '17299', '17541', '18065', '17562', '18061', '17628', '17964', '18111', '18135', '18252', '17666', '18006', '17724', '18036', '17753', '17803', '18089', '18147', '18095', '18285', '18121', '18132', '18293', '18367', '18368', '18418', '18387', '18401', '18413', '18450', '18616', '18670', '18682', '18734', '18754', '18773', '18860', '18866', '18877', '18681', '18701', '18711', '18858', '19078', '19129', '19143', '19199', '19212', '19301', '19398', '19411', '19413', '19426', '19476', '19503', '19539', '19651', '19665', '19679', '19086', '19119', '19128', '19167', '19249', '19289', '19296', '19351', '19407', '19464', '19522', '19544', '19554', '19564', '19652', '19134', '19176', '19181', '19385', '19473', '19481', '19517', '19580', '19588', '19376', '19446', '19876', '19924', '19906', '19938', '20018', '21171', '23574', '24189', '24952', '27255', '27691', '21445', '22844', '23657', '21666', '22214', '21756', '27833', '21836', '22712', '23168', '26556', '26712', '27215', '22288', '22353', '22295', '27368', '25860', '22721', '24423', '25027', '22972', '23113', '25934', '26275', '27861', '28113', '28591', '28882', '28883', '28637', '28711', '29148', '29173', '29459', '29594', '29679', '29458', '29615', '29425', '29461', '29620', '29445', '29463', '594', '13568', '1898', '8366', '4447', '6553', '4721', '8514', '8333', '8809', '10941', '10996', '3675', '10555', '6613', '8393', '20110', '22365', '23277', '24343', '26167', '22032', '22417', '23165', '25729', '4222', '6899', '10629', '15503', '15843', '15892', '16670', '16671', '17089', '17095', '19796', '19841', '29255', '29358', '29287', '29342', '29289', '29657', '29369', '29508', '227', '1239', '961', '1580', '16', '647', '1050', '2698', '4348', '10958', '27', '2307', '4491', '13082', '32', '2373', '2568', '5371', '5372', '8138', '71', '3356', '11496', '11908', '82', '113', '571', '591', '843', '985', '1088', '1114', '1170', '1472', '1495', '1695', '1961', '2133', '2188', '2286', '2508', '2584', '2838', '3101', '3354', '3386', '3514', '3972', '3991', '4906', '4987', '5128', '5186', '5240', '5299', '5354', '5369', '5502', '5721', '5803', '5883', '5970', '5989', '6079', '6215', '6485', '6522', '6567', '6631', '6758', '6897', '7022', '7113', '7275', '7350', '7384', '7415', '7495', '7842', '8158', '8409', '8430', '8638', '8966', '9090', '9273', '9342', '9491', '9561', '9685', '9804', '10551', '10793', '11344', '11776', '11792', '11805', '11816', '12141', '12298', '12416', '12448', '12631', '12772', '12778', '13283', '13303', '13351', '13502', '13565', '13616', '13889', '14020', '91', '530', '3099', '3111', '3589', '6926', '9185', '9635', '9986', '10500', '12139', '664', '1005', '1663', '1871', '2192', '2297', '3122', '4773', '5456', '5490', '6583', '6724', '7048', '7621', '8032', '8576', '8701', '8893', '9636', '10633', '10938', '11078', '11082', '11086', '11234', '11445', '11618', '11771', '12661', '13320', '13458', '13792', '13842', '14180', '132', '507', '535', '916', '1250', '1682', '1697', '1992', '2347', '3627', '3726', '4678', '5429', '6391', '6844', '6890', '9119', '9201', '10482', '10619', '10993', '11351', '155', '570', '1036', '1251', '1329', '5589', '6205', '7106', '8081', '8564', '9215', '9957', '10491', '10890', '11169', '11248', '11456', '12763', '12924', '162', '3245', '3412', '3917', '4120', '4151', '5528', '5908', '5926', '6536', '7852', '8702', '12050', '169', '822', '1523', '4468', '5833', '6158', '6922', '7507', '7612', '8229', '9080', '10474', '11402', '11950', '13873', '13926', '177', '734', '1233', '3936', '4832', '5091', '6212', '6864', '7692', '7961', '10571', '11206', '12039', '13036', '13882', '186', '2619', '6315', '7242', '7674', '8326', '9372', '9666', '10014', '10667', '10783', '11181', '11560', '11642', '12476', '226', '2703', '5049', '5947', '6342', '11016', '239', '929', '1284', '1984', '3142', '4211', '5594', '6092', '6462', '6526', '6857', '6982', '7670', '12603', '246', '2456', '5063', '8646', '9240', '13731', '251', '322', '9546', '324', '11143', '12043', '14224', '370', '12434', '395', '13255', '396', '6614', '482', '1841', '4043', '4122', '4172', '4999', '7642', '9507', '9886', '10636', '11554', '13939', '500', '5212', '505', '7619', '3804', '4352', '11700', '3256', '5750', '5832', '7306', '7367', '9472', '13424', '13838', '536', '1384', '546', '1835', '3606', '8784', '551', '29194', '29301', '553', '2240', '4240', '9144', '9689', '11023', '11059', '556', '1775', '3774', '3956', '7516', '8575', '8599', '12214', '13726', '3033', '6146', '10080', '10444', '11286', '14051', '14146', '636', '1741', '5924', '677', '3643', '693', '2759', '4627', '12481', '710', '12104', '726', '2150', '9915', '10355', '973', '783', '10060', '804', '1795', '4422', '6500', '8233', '806', '1051', '1378', '3141', '4134', '4944', '6771', '7184', '808', '1037', '1352', '1513', '3913', '4803', '5040', '5469', '9206', '14240', '814', '8694', '10391', '12021', '13310', '1479', '14091', '833', '1698', '860', '1952', '4277', '5844', '7562', '7601', '9671', '870', '6788', '10772', '10857', '13788', '13928', '14094', '871', '5496', '12970', '889', '6910', '896', '1748', '920', '1124', '9952', '11244', '13781', '960', '2308', '3945', '7623', '13079', '13749', '7867', '1002', '4458', '12754', '4780', '10536', '1046', '1193', '5161', '8265', '8963', '10479', '10626', '13006', '1048', '7929', '9566', '12808', '1052', '13654', '1080', '1687', '4866', '6046', '11821', '1092', '1231', '2491', '1161', '1547', '1165', '11446', '1195', '1226', '4048', '1228', '3549', '3980', '1261', '3979', '9654', '10690', '1275', '8242', '8297', '9603', '11727', '12543', '12851', '1297', '13301', '1342', '12594', '1347', '3486', '1363', '1981', '1395', '3372', '4879', '7760', '10116', '1398', '1799', '2901', '3209', '3645', '6333', '7644', '7706', '7932', '8424', '8579', '9230', '11781', '1411', '1894', '9060', '1416', '7586', '1459', '4516', '10586', '12516', '3310', '4054', '5724', '12124', '14038', '1518', '7485', '1546', '5022', '5265', '8020', '9716', '1612', '3065', '12349', '13907', '5412', '10264', '12781', '8127', '1715', '13211', '1747', '6658', '14257', '4183', '1802', '7413', '9062', '12392', '13145', '14177', '1865', '12866', '1883', '6280', '1900', '4300', '1932', '3109', '6071', '6254', '10352', '10480', '11929', '12656', '1954', '2787', '9407', '2855', '3181', '6028', '9826', '2016', '4520', '2053', '5002', '10189', '12211', '12371', '12674', '2103', '2126', '2178', '12528', '2182', '5527', '12463', '13647', '8669', '2208', '2210', '13034', '2313', '3876', '2331', '4328', '2344', '12689', '2360', '3596', '13663', '2361', '3044', '4290', '8557', '13302', '2381', '13942', '2404', '2839', '2471', '7115', '2490', '2548', '14211', '2538', '10226', '2578', '3512', '5407', '7493', '2592', '3998', '4523', '9760', '2605', '9975', '13168', '13437', '2610', '5228', '6248', '8633', '9290', '11608', '12183', '13492', '7746', '2641', '10979', '2678', '7223', '11415', '7141', '13227', '2711', '5172', '10360', '2763', '5657', '8819', '2772', '11731', '2775', '12405', '2790', '8241', '2794', '2816', '4695', '5532', '5637', '8337', '12915', '13247', '13371', '13777', '2824', '8473', '5238', '6089', '10287', '13623', '2864', '12326', '2889', '6163', '2918', '5395', '7404', '7659', '10876', '2940', '7323', '2987', '4833', '5958', '11379', '3010', '12134', '3036', '3076', '6182', '12929', '3227', '10136', '3162', '4662', '6886', '3173', '11001', '13741', '3210', '8329', '8968', '10487', '13014', '11290', '3237', '6700', '3263', '4830', '6586', '12063', '3285', '3342', '8681', '3360', '9818', '3364', '13775', '6769', '3383', '7914', '3432', '12850', '3440', '6538', '8137', '10499', '12571', '12652', '3459', '13224', '7661', '7944', '10272', '12773', '3518', '11540', '3532', '3642', '5851', '5962', '3565', '6084', '3569', '5070', '8420', '11893', '13854', '3570', '3809', '5171', '7885', '8907', '9540', '12028', '3586', '5900', '7778', '9661', '4723', '13810', '3595', '4631', '5603', '9571', '3623', '10017', '3719', '3891', '3738', '5561', '3773', '6733', '3850', '7174', '3864', '6955', '3873', '11542', '14244', '3899', '4535', '10548', '3902', '4231', '7263', '3931', '11179', '3970', '9682', '3988', '5728', '11288', '4070', '6902', '4154', '9017', '9351', '12777', '4179', '6261', '10365', '4192', '12051', '4215', '4495', '4315', '12177', '4356', '9807', '4360', '9235', '4371', '12700', '13627', '4381', '4632', '4395', '8721', '9309', '4398', '13702', '4406', '4459', '8106', '5608', '4486', '8790', '4534', '5444', '4666', '5090', '7784', '4693', '12596', '4727', '7995', '4779', '5858', '5882', '7943', '4818', '6151', '6325', '9530', '4828', '8040', '10769', '4858', '4899', '6718', '13291', '4916', '9280', '11842', '4939', '14069', '4992', '8120', '5081', '14095', '11436', '5213', '13614', '5261', '10738', '5306', '9735', '5436', '8595', '9662', '9262', '5576', '10150', '5753', '6330', '6123', '6875', '7690', '8792', '5899', '6378', '7294', '10575', '5912', '5959', '14041', '5963', '6697', '9229', '9504', '6027', '12294', '6134', '12060', '13949', '6260', '6269', '13933', '6331', '8168', '8384', '8406', '8644', '6348', '13101', '6541', '9756', '6609', '10212', '6663', '13522', '6728', '7449', '6746', '6858', '6928', '9778', '13532', '7065', '8411', '7105', '8036', '8825', '12015', '7191', '9698', '7286', '10591', '8900', '7366', '14201', '7391', '11984', '7764', '11714', '7540', '7675', '11034', '7750', '8363', '10725', '11427', '7790', '11437', '7890', '7902', '9340', '8071', '11765', '8434', '12989', '8447', '12283', '8465', '14174', '8603', '9087', '8757', '12758', '8788', '9430', '8830', '13857', '8933', '12397', '8951', '13418', '8988', '13772', '9147', '11004', '12978', '10734', '9492', '12927', '10218', '11254', '10312', '14143', '10844', '10868', '12219', '12559', '10895', '13083', '11196', '11421', '11246', '11759', '11676', '14093', '11801', '11825', '13469', '12007', '13915', '12082', '13688', '12345', '13448', '13543', '14223', '13673', '19026', '14281', '14285', '14319', '14320', '14321', '14328', '14334', '14340', '14358', '14373', '14389', '14398', '14401', '14402', '14409', '14422', '14435', '14462', '14464', '14483', '14492', '14506', '14522', '14541', '14544', '14556', '14573', '14576', '14588', '14590', '14288', '14292', '14301', '14302', '14331', '14353', '14354', '14355', '14372', '14380', '14400', '14425', '14432', '14468', '14481', '14482', '14495', '14504', '14546', '14564', '14583', '14586', '14341', '14455', '14523', '14531', '14420', '14300', '14308', '14324', '14325', '14326', '14329', '14345', '14388', '14403', '14467', '14510', '14569', '14336', '14376', '14469', '14516', '14557', '14442', '14368', '14433', '14477', '14572', '14343', '14346', '14526', '14471', '14592', '14593', '14826', '14847', '14850', '14873', '14748', '14841', '14885', '14888', '14918', '14931', '14594', '14600', '14618', '14620', '14657', '14672', '14674', '14675', '14694', '14704', '14705', '14711', '14715', '14724', '14731', '14741', '14755', '14770', '14802', '14816', '14819', '14849', '14858', '14861', '14881', '14895', '14906', '14601', '14935', '14611', '14637', '14651', '14689', '14717', '14772', '14786', '14789', '14793', '14844', '14845', '14863', '14882', '14890', '14626', '14708', '14712', '14778', '14874', '14928', '14929', '14760', '14967', '15003', '15136', '14974', '15078', '15018', '15025', '15035', '15042', '15050', '15056', '15043', '15054', '15103', '15084', '15117', '15195', '15205', '15229', '15250', '15260', '15257', '15268', '15294', '15673', '15676', '15685', '15769', '15824', '15898', '15978', '15297', '16002', '15298', '15305', '15311', '15312', '15342', '15354', '15360', '15380', '15388', '15389', '15412', '15413', '15416', '15425', '15433', '15492', '15502', '15521', '15525', '15529', '15541', '15558', '15563', '15594', '15630', '15658', '15665', '15681', '15723', '15730', '15739', '15756', '15762', '15765', '15770', '15781', '15799', '15801', '15814', '15823', '15827', '15863', '15876', '15895', '15913', '15918', '15927', '15929', '15956', '15960', '15972', '15994', '15582', '15410', '15419', '15320', '15540', '15720', '15377', '15398', '15421', '15490', '15548', '15574', '15944', '15407', '15726', '15405', '15710', '15409', '15987', '15465', '15435', '15598', '15438', '15634', '15815', '15974', '15451', '15584', '15612', '15688', '15735', '15752', '15779', '15816', '15859', '15903', '15928', '15482', '15491', '15751', '15754', '15759', '15806', '15835', '15934', '15528', '15704', '15796', '15905', '15931', '15586', '15593', '15642', '15721', '15782', '15984', '15727', '15812', '15947', '16010', '16040', '16070', '16107', '16113', '16194', '16230', '16259', '16271', '16337', '16338', '16344', '16346', '16011', '16062', '16063', '16096', '16099', '16148', '16173', '16176', '16187', '16192', '16209', '16267', '16292', '16294', '16296', '16303', '16332', '16345', '16357', '16369', '16027', '16078', '16324', '16355', '16072', '16140', '16079', '16348', '16087', '16203', '16275', '16297', '16175', '16253', '16242', '16250', '16386', '16409', '16451', '16472', '16667', '16725', '16751', '16759', '16791', '16803', '16810', '16827', '16394', '16402', '16445', '16508', '16509', '16512', '16519', '16521', '16561', '16575', '16596', '16618', '16620', '16631', '16640', '16664', '16682', '16686', '16716', '16729', '16733', '16734', '16742', '16745', '16760', '16767', '16780', '16800', '16835', '16846', '16853', '16890', '16398', '16421', '16585', '16705', '16721', '16551', '16567', '16570', '16763', '16792', '16859', '16429', '16774', '16839', '16874', '16510', '16771', '16856', '16460', '16584', '16550', '16747', '16565', '16786', '16848', '16609', '16907', '17014', '16944', '17057', '17020', '17079', '17028', '17053', '17052', '17084', '17100', '17115', '17117', '17128', '17103', '17156', '17104', '17141', '17169', '17205', '17135', '17173', '17221', '17225', '17139', '17152', '17196', '17208', '17147', '17195', '17161', '17237', '17246', '17265', '17286', '17323', '17292', '17334', '17269', '17279', '17307', '17311', '17287', '17290', '17553', '17561', '17667', '17749', '17835', '17948', '17967', '18009', '18105', '18181', '18280', '18327', '17651', '17565', '18062', '18278', '17566', '17832', '18125', '18158', '18204', '17570', '18074', '18145', '17582', '17982', '17595', '18082', '18312', '17607', '17699', '17962', '18197', '17652', '17909', '17897', '18180', '18017', '18075', '18337', '18344', '18350', '18406', '18414', '18419', '18420', '18431', '18363', '18445', '18454', '18478', '18521', '18482', '18520', '18537', '18543', '18551', '18522', '18592', '18602', '18601', '18706', '18759', '18879', '18646', '18890', '18669', '18672', '18756', '18700', '18819', '18923', '18730', '18740', '18769', '18868', '18957', '19003', '19066', '29475', '29578', '19014', '19055', '19051', '19061', '19076', '19080', '19110', '19147', '19169', '19174', '19203', '19207', '19223', '19225', '19237', '19246', '19262', '19284', '19292', '19321', '19389', '19399', '19409', '19441', '19442', '19477', '19480', '19521', '19541', '19560', '19584', '19618', '19630', '19636', '19661', '19668', '19676', '19682', '19116', '19135', '19307', '19362', '19646', '19117', '19224', '19557', '19118', '19122', '19144', '19155', '19170', '19172', '19177', '19206', '19240', '19243', '19248', '19253', '19302', '19319', '19333', '19381', '19453', '19472', '19484', '19504', '19526', '19559', '19608', '19612', '19615', '19616', '19620', '19621', '19658', '19681', '19459', '19581', '19325', '19570', '19617', '19142', '19178', '19188', '19245', '19335', '19338', '19387', '19391', '19404', '19547', '19693', '19535', '19201', '19356', '19507', '19648', '19711', '19718', '19733', '19734', '19744', '19774', '19777', '19791', '19802', '19821', '19842', '19847', '19850', '19787', '19795', '19797', '19800', '19804', '19746', '19753', '19871', '19964', '19930', '19962', '19944', '19955', '20017', '20024', '20052', '23189', '20518', '22718', '26471', '27412', '20630', '23052', '21305', '24654', '21309', '21574', '21846', '22106', '24170', '22385', '23813', '22452', '27489', '22907', '25963', '23247', '23824', '23307', '24780', '23479', '24344', '23545', '26605', '26631', '24088', '26157', '25055', '25654', '25117', '26857', '25848', '26545', '25979', '27521', '27371', '27846', '27924', '28757', '27956', '28158', '28441', '28865', '27965', '28262', '28279', '27967', '28534', '28849', '27970', '28289', '28304', '28816', '27983', '28281', '28662', '28703', '28786', '27999', '28104', '28813', '28023', '28558', '28033', '28233', '28040', '28632', '28044', '28776', '28064', '28298', '28787', '28079', '28791', '28098', '28313', '28780', '28788', '28103', '28450', '28291', '28162', '28617', '28165', '28456', '28254', '28328', '28398', '28784', '28264', '28595', '28821', '28585', '28371', '28819', '28390', '28656', '28403', '28404', '28418', '28499', '28436', '28438', '28625', '28918', '28445', '28507', '28584', '28476', '28682', '28893', '28627', '28755', '28661', '28815', '28943', '28983', '28996', '28992', '29105', '29126', '29129', '29685', '29165', '29184', '29352', '29390', '29534', '29199', '29511', '29200', '29284', '29213', '29443', '29662', '29238', '29537', '29259', '29596', '29260', '29262', '29643', '29356', '29626', '29469', '29489', '29625', '1216', '11952', '574', '1272', '1966', '2827', '5479', '7617', '10460', '10531', '12135', '12795', '939', '4676', '6103', '6566', '7813', '13664', '1364', '5467', '8044', '2394', '4508', '4923', '7300', '7779', '8336', '12579', '13131', '4767', '8946', '11719', '12191', '12606', '4976', '12197', '7865', '10377', '19717', '19840', '19812', '19813', '8304', '12625', '1556', '4050', '83', '699', '179', '5543', '10660', '458', '7416', '8427', '12788', '13918', '631', '14012', '1070', '1333', '2293', '3609', '7705', '14026', '1164', '7154', '1617', '9823', '2079', '2122', '2296', '10139', '2543', '7031', '3208', '10696', '4314', '5704', '5034', '5239', '5615', '13817', '5662', '6656', '9880', '9894', '11103', '12005', '5796', '10506', '6227', '8147', '6873', '12340', '10471', '11742', '13537', '11634', '13900', '17542', '18170', '17573', '18050', '18073', '18039', '18309', '19328', '19421', '19462', '3914', '4409', '6896', '10375', '14267', '14322', '14484', '14498', '14548', '19700', '19713', '19780', '19809'))"
      ]
     },
     "execution_count": 55,
     "metadata": {},
     "output_type": "execute_result"
    }
   ],
   "source": [
    "graph.nodes()"
   ]
  },
  {
   "cell_type": "code",
   "execution_count": 57,
   "metadata": {
    "Collapsed": "false"
   },
   "outputs": [],
   "source": [
    "relabel = {i: int(i) for i in graph.nodes()}"
   ]
  },
  {
   "cell_type": "code",
   "execution_count": 59,
   "metadata": {
    "Collapsed": "false"
   },
   "outputs": [],
   "source": [
    "graph1 = nx.relabel_nodes(graph, relabel)"
   ]
  },
  {
   "cell_type": "code",
   "execution_count": 61,
   "metadata": {
    "Collapsed": "false"
   },
   "outputs": [
    {
     "data": {
      "text/plain": [
       "AtlasView({580: {'weight': 0.9512195121951219}, 2616: {'weight': 0.925}, 3180: {'weight': 0.9512195121951219}, 7095: {'weight': 0.926829268292683}, 7260: {'weight': 0.926829268292683}, 7292: {'weight': 0.9512195121951219}, 8380: {'weight': 1.0}, 11757: {'weight': 0.9425287356321839}})"
      ]
     },
     "execution_count": 61,
     "metadata": {},
     "output_type": "execute_result"
    }
   ],
   "source": [
    "graph1.adj[0]"
   ]
  },
  {
   "cell_type": "code",
   "execution_count": null,
   "metadata": {
    "Collapsed": "false"
   },
   "outputs": [],
   "source": []
  }
 ],
 "metadata": {
  "kernelspec": {
   "display_name": "Python 3",
   "language": "python",
   "name": "python3"
  },
  "language_info": {
   "codemirror_mode": {
    "name": "ipython",
    "version": 3
   },
   "file_extension": ".py",
   "mimetype": "text/x-python",
   "name": "python",
   "nbconvert_exporter": "python",
   "pygments_lexer": "ipython3",
   "version": "3.6.7"
  }
 },
 "nbformat": 4,
 "nbformat_minor": 4
}
