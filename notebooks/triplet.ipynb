{
 "cells": [
  {
   "cell_type": "code",
   "execution_count": 776,
   "metadata": {},
   "outputs": [],
   "source": [
    "import os\n",
    "import sys\n",
    "import random\n",
    "import json\n",
    "import collections\n",
    "import itertools\n",
    "\n",
    "import pandas as pd\n",
    "import numpy as np\n",
    "import scipy        \n",
    "import statsmodels\n",
    "from sklearn.model_selection import train_test_split\n",
    "\n",
    "from tqdm import trange, tqdm_notebook as tqdm\n",
    "from matplotlib import pyplot as plt\n",
    "import seaborn as sns\n",
    "\n",
    "import pickle\n",
    "import torch\n",
    "import torchtext\n",
    "import torch.nn as nn\n",
    "import torch.nn.functional as F\n",
    "from torch.utils.data import DataLoader\n",
    "import time\n",
    "import torch.optim as optim\n",
    "from torchtext.data import Field\n",
    "from torchtext.data import Dataset, TabularDataset\n",
    "from torchtext.data import Iterator\n",
    "\n",
    "from annoy import AnnoyIndex\n",
    "\n",
    "from MulticoreTSNE import MulticoreTSNE as TSNE\n",
    "\n",
    "%matplotlib inline\n",
    "\n",
    "pd.options.display.max_columns = 999\n",
    "\n",
    "sns.set()\n",
    "\n",
    "plt.rcParams[\"figure.figsize\"] = (10,7)"
   ]
  },
  {
   "cell_type": "code",
   "execution_count": 777,
   "metadata": {},
   "outputs": [
    {
     "data": {
      "text/plain": [
       "'/home/boris/study/UT study/ACM Sigmod/sigmod/notebooks'"
      ]
     },
     "execution_count": 777,
     "metadata": {},
     "output_type": "execute_result"
    }
   ],
   "source": [
    "os.getcwd()"
   ]
  },
  {
   "cell_type": "code",
   "execution_count": 778,
   "metadata": {},
   "outputs": [
    {
     "name": "stdout",
     "output_type": "stream",
     "text": [
      "The autoreload extension is already loaded. To reload it, use:\n",
      "  %reload_ext autoreload\n"
     ]
    }
   ],
   "source": [
    "%load_ext autoreload\n",
    "%autoreload 2"
   ]
  },
  {
   "cell_type": "code",
   "execution_count": 779,
   "metadata": {},
   "outputs": [],
   "source": [
    "from sigmod_src.utils import read_json, pprint_json, path_from_spec_id, get_vector_for_spec_id\n",
    "from sigmod_src.data.embedding import Embedder, EmbeddingBagEmbedder, get_fields"
   ]
  },
  {
   "cell_type": "markdown",
   "metadata": {},
   "source": [
    "# Load data"
   ]
  },
  {
   "cell_type": "code",
   "execution_count": 780,
   "metadata": {},
   "outputs": [],
   "source": [
    "MED_LABELS_PATH = '../data/raw/sigmod_medium_labelled_dataset.csv'\n",
    "LG_LABELS_PATH = '../data/interim/large_labelled_dataset_disjoint.csv'"
   ]
  },
  {
   "cell_type": "code",
   "execution_count": 781,
   "metadata": {},
   "outputs": [],
   "source": [
    "med_labels_df = pd.read_csv(MED_LABELS_PATH)\n",
    "lg_labels_df = pd.read_csv(LG_LABELS_PATH)"
   ]
  },
  {
   "cell_type": "code",
   "execution_count": 782,
   "metadata": {},
   "outputs": [
    {
     "data": {
      "text/plain": [
       "((46665, 3), (250986, 3))"
      ]
     },
     "execution_count": 782,
     "metadata": {},
     "output_type": "execute_result"
    }
   ],
   "source": [
    "med_labels_df.shape, lg_labels_df.shape"
   ]
  },
  {
   "cell_type": "code",
   "execution_count": 783,
   "metadata": {},
   "outputs": [
    {
     "data": {
      "text/html": [
       "<div>\n",
       "<style scoped>\n",
       "    .dataframe tbody tr th:only-of-type {\n",
       "        vertical-align: middle;\n",
       "    }\n",
       "\n",
       "    .dataframe tbody tr th {\n",
       "        vertical-align: top;\n",
       "    }\n",
       "\n",
       "    .dataframe thead th {\n",
       "        text-align: right;\n",
       "    }\n",
       "</style>\n",
       "<table border=\"1\" class=\"dataframe\">\n",
       "  <thead>\n",
       "    <tr style=\"text-align: right;\">\n",
       "      <th></th>\n",
       "      <th>left_spec_id</th>\n",
       "      <th>right_spec_id</th>\n",
       "      <th>label</th>\n",
       "    </tr>\n",
       "  </thead>\n",
       "  <tbody>\n",
       "    <tr>\n",
       "      <th>0</th>\n",
       "      <td>www.garricks.com.au//31</td>\n",
       "      <td>www.ebay.com//53278</td>\n",
       "      <td>1</td>\n",
       "    </tr>\n",
       "    <tr>\n",
       "      <th>1</th>\n",
       "      <td>www.ebay.com//58782</td>\n",
       "      <td>www.ebay.com//24817</td>\n",
       "      <td>0</td>\n",
       "    </tr>\n",
       "    <tr>\n",
       "      <th>2</th>\n",
       "      <td>www.ebay.com//58782</td>\n",
       "      <td>www.ebay.com//43019</td>\n",
       "      <td>0</td>\n",
       "    </tr>\n",
       "    <tr>\n",
       "      <th>3</th>\n",
       "      <td>www.ebay.com//42055</td>\n",
       "      <td>www.ebay.com//54403</td>\n",
       "      <td>0</td>\n",
       "    </tr>\n",
       "    <tr>\n",
       "      <th>4</th>\n",
       "      <td>www.ebay.com//44280</td>\n",
       "      <td>buy.net//6145</td>\n",
       "      <td>0</td>\n",
       "    </tr>\n",
       "  </tbody>\n",
       "</table>\n",
       "</div>"
      ],
      "text/plain": [
       "              left_spec_id        right_spec_id  label\n",
       "0  www.garricks.com.au//31  www.ebay.com//53278      1\n",
       "1      www.ebay.com//58782  www.ebay.com//24817      0\n",
       "2      www.ebay.com//58782  www.ebay.com//43019      0\n",
       "3      www.ebay.com//42055  www.ebay.com//54403      0\n",
       "4      www.ebay.com//44280        buy.net//6145      0"
      ]
     },
     "execution_count": 783,
     "metadata": {},
     "output_type": "execute_result"
    }
   ],
   "source": [
    "med_labels_df.head()"
   ]
  },
  {
   "cell_type": "code",
   "execution_count": 784,
   "metadata": {},
   "outputs": [
    {
     "data": {
      "text/html": [
       "<div>\n",
       "<style scoped>\n",
       "    .dataframe tbody tr th:only-of-type {\n",
       "        vertical-align: middle;\n",
       "    }\n",
       "\n",
       "    .dataframe tbody tr th {\n",
       "        vertical-align: top;\n",
       "    }\n",
       "\n",
       "    .dataframe thead th {\n",
       "        text-align: right;\n",
       "    }\n",
       "</style>\n",
       "<table border=\"1\" class=\"dataframe\">\n",
       "  <thead>\n",
       "    <tr style=\"text-align: right;\">\n",
       "      <th></th>\n",
       "      <th>left_spec_id</th>\n",
       "      <th>right_spec_id</th>\n",
       "      <th>label</th>\n",
       "    </tr>\n",
       "  </thead>\n",
       "  <tbody>\n",
       "    <tr>\n",
       "      <th>0</th>\n",
       "      <td>www.pricedekho.com//1053</td>\n",
       "      <td>www.ebay.com//58716</td>\n",
       "      <td>1.0</td>\n",
       "    </tr>\n",
       "    <tr>\n",
       "      <th>1</th>\n",
       "      <td>www.ebay.com//60064</td>\n",
       "      <td>www.ebay.com//54572</td>\n",
       "      <td>1.0</td>\n",
       "    </tr>\n",
       "    <tr>\n",
       "      <th>2</th>\n",
       "      <td>www.ebay.com//47074</td>\n",
       "      <td>www.ebay.com//55373</td>\n",
       "      <td>1.0</td>\n",
       "    </tr>\n",
       "    <tr>\n",
       "      <th>3</th>\n",
       "      <td>www.ebay.com//48188</td>\n",
       "      <td>www.ebay.com//44391</td>\n",
       "      <td>1.0</td>\n",
       "    </tr>\n",
       "    <tr>\n",
       "      <th>4</th>\n",
       "      <td>www.ebay.com//54736</td>\n",
       "      <td>www.ebay.com//58806</td>\n",
       "      <td>1.0</td>\n",
       "    </tr>\n",
       "  </tbody>\n",
       "</table>\n",
       "</div>"
      ],
      "text/plain": [
       "               left_spec_id        right_spec_id  label\n",
       "0  www.pricedekho.com//1053  www.ebay.com//58716    1.0\n",
       "1       www.ebay.com//60064  www.ebay.com//54572    1.0\n",
       "2       www.ebay.com//47074  www.ebay.com//55373    1.0\n",
       "3       www.ebay.com//48188  www.ebay.com//44391    1.0\n",
       "4       www.ebay.com//54736  www.ebay.com//58806    1.0"
      ]
     },
     "execution_count": 784,
     "metadata": {},
     "output_type": "execute_result"
    }
   ],
   "source": [
    "lg_labels_df.head()"
   ]
  },
  {
   "cell_type": "markdown",
   "metadata": {},
   "source": [
    "# Load specs df"
   ]
  },
  {
   "cell_type": "code",
   "execution_count": 785,
   "metadata": {},
   "outputs": [
    {
     "data": {
      "text/plain": [
       "(29771, 7)"
      ]
     },
     "execution_count": 785,
     "metadata": {},
     "output_type": "execute_result"
    }
   ],
   "source": [
    "specs_df = pd.read_csv('../data/processed/specs_preprocessed.csv')\n",
    "# specs_df.index=  specs_df.spec_id\n",
    "specs_df.shape"
   ]
  },
  {
   "cell_type": "code",
   "execution_count": 786,
   "metadata": {},
   "outputs": [
    {
     "data": {
      "text/html": [
       "<div>\n",
       "<style scoped>\n",
       "    .dataframe tbody tr th:only-of-type {\n",
       "        vertical-align: middle;\n",
       "    }\n",
       "\n",
       "    .dataframe tbody tr th {\n",
       "        vertical-align: top;\n",
       "    }\n",
       "\n",
       "    .dataframe thead th {\n",
       "        text-align: right;\n",
       "    }\n",
       "</style>\n",
       "<table border=\"1\" class=\"dataframe\">\n",
       "  <thead>\n",
       "    <tr style=\"text-align: right;\">\n",
       "      <th></th>\n",
       "      <th>spec_id</th>\n",
       "      <th>page_title</th>\n",
       "      <th>all_text</th>\n",
       "      <th>page_title_stem</th>\n",
       "      <th>all_text_stem</th>\n",
       "      <th>brand</th>\n",
       "      <th>site</th>\n",
       "    </tr>\n",
       "  </thead>\n",
       "  <tbody>\n",
       "  </tbody>\n",
       "</table>\n",
       "</div>"
      ],
      "text/plain": [
       "Empty DataFrame\n",
       "Columns: [spec_id, page_title, all_text, page_title_stem, all_text_stem, brand, site]\n",
       "Index: []"
      ]
     },
     "execution_count": 786,
     "metadata": {},
     "output_type": "execute_result"
    }
   ],
   "source": [
    "specs_df[specs_df.page_title.isnull()]"
   ]
  },
  {
   "cell_type": "code",
   "execution_count": 787,
   "metadata": {},
   "outputs": [
    {
     "data": {
      "text/html": [
       "<div>\n",
       "<style scoped>\n",
       "    .dataframe tbody tr th:only-of-type {\n",
       "        vertical-align: middle;\n",
       "    }\n",
       "\n",
       "    .dataframe tbody tr th {\n",
       "        vertical-align: top;\n",
       "    }\n",
       "\n",
       "    .dataframe thead th {\n",
       "        text-align: right;\n",
       "    }\n",
       "</style>\n",
       "<table border=\"1\" class=\"dataframe\">\n",
       "  <thead>\n",
       "    <tr style=\"text-align: right;\">\n",
       "      <th></th>\n",
       "      <th>spec_id</th>\n",
       "      <th>page_title</th>\n",
       "      <th>all_text</th>\n",
       "      <th>page_title_stem</th>\n",
       "      <th>all_text_stem</th>\n",
       "      <th>brand</th>\n",
       "      <th>site</th>\n",
       "    </tr>\n",
       "  </thead>\n",
       "  <tbody>\n",
       "    <tr>\n",
       "      <th>0</th>\n",
       "      <td>www.ebay.com//57656</td>\n",
       "      <td>canon powershot elph 110 hs 16 1 mp</td>\n",
       "      <td>canon powershot elph 110 hs 16 1 mp canon manu...</td>\n",
       "      <td>canon powershot elph 110 hs 16 1 mp</td>\n",
       "      <td>canon powershot elph 110 hs 16 1 mp canon manu...</td>\n",
       "      <td>canon</td>\n",
       "      <td>www.ebay.com</td>\n",
       "    </tr>\n",
       "    <tr>\n",
       "      <th>1</th>\n",
       "      <td>www.ebay.com//60583</td>\n",
       "      <td>canon rebel 2000 35 mm great case instruction ...</td>\n",
       "      <td>canon rebel 2000 35 mm great case instruction ...</td>\n",
       "      <td>canon rebel 2000 35 mm great case instruct boo...</td>\n",
       "      <td>canon rebel 2000 35 mm great case instruct boo...</td>\n",
       "      <td>canon</td>\n",
       "      <td>www.ebay.com</td>\n",
       "    </tr>\n",
       "    <tr>\n",
       "      <th>2</th>\n",
       "      <td>www.ebay.com//60440</td>\n",
       "      <td>canon eos rebel t3i 18 55mm 75 300mm iii lens ...</td>\n",
       "      <td>canon eos rebel t3i 18 55mm 75 300mm iii lens ...</td>\n",
       "      <td>canon eo rebel t3i 18 55mm 75 300mm iii len ki...</td>\n",
       "      <td>canon eo rebel t3i 18 55mm 75 300mm iii len ki...</td>\n",
       "      <td>canon</td>\n",
       "      <td>www.ebay.com</td>\n",
       "    </tr>\n",
       "    <tr>\n",
       "      <th>3</th>\n",
       "      <td>www.ebay.com//24139</td>\n",
       "      <td>ge c1033 10 1 mp 3x zoom 2 4 lcd</td>\n",
       "      <td>ge c1033 10 1 mp 3x zoom 2 4 lcd ge unused uno...</td>\n",
       "      <td>ge c1033 10 1 mp 3x zoom 2 4 lcd</td>\n",
       "      <td>ge c1033 10 1 mp 3x zoom 2 4 lcd ge unus unope...</td>\n",
       "      <td>NaN</td>\n",
       "      <td>www.ebay.com</td>\n",
       "    </tr>\n",
       "    <tr>\n",
       "      <th>4</th>\n",
       "      <td>www.ebay.com//54903</td>\n",
       "      <td>vivitar clip shot 1 1 mp</td>\n",
       "      <td>vivitar clip shot 1 1 mp vivitar unused unopen...</td>\n",
       "      <td>vivitar clip shot 1 1 mp</td>\n",
       "      <td>vivitar clip shot 1 1 mp vivitar unus unopen u...</td>\n",
       "      <td>vivitar</td>\n",
       "      <td>www.ebay.com</td>\n",
       "    </tr>\n",
       "  </tbody>\n",
       "</table>\n",
       "</div>"
      ],
      "text/plain": [
       "               spec_id                                         page_title  \\\n",
       "0  www.ebay.com//57656                canon powershot elph 110 hs 16 1 mp   \n",
       "1  www.ebay.com//60583  canon rebel 2000 35 mm great case instruction ...   \n",
       "2  www.ebay.com//60440  canon eos rebel t3i 18 55mm 75 300mm iii lens ...   \n",
       "3  www.ebay.com//24139                   ge c1033 10 1 mp 3x zoom 2 4 lcd   \n",
       "4  www.ebay.com//54903                           vivitar clip shot 1 1 mp   \n",
       "\n",
       "                                            all_text  \\\n",
       "0  canon powershot elph 110 hs 16 1 mp canon manu...   \n",
       "1  canon rebel 2000 35 mm great case instruction ...   \n",
       "2  canon eos rebel t3i 18 55mm 75 300mm iii lens ...   \n",
       "3  ge c1033 10 1 mp 3x zoom 2 4 lcd ge unused uno...   \n",
       "4  vivitar clip shot 1 1 mp vivitar unused unopen...   \n",
       "\n",
       "                                     page_title_stem  \\\n",
       "0                canon powershot elph 110 hs 16 1 mp   \n",
       "1  canon rebel 2000 35 mm great case instruct boo...   \n",
       "2  canon eo rebel t3i 18 55mm 75 300mm iii len ki...   \n",
       "3                   ge c1033 10 1 mp 3x zoom 2 4 lcd   \n",
       "4                           vivitar clip shot 1 1 mp   \n",
       "\n",
       "                                       all_text_stem    brand          site  \n",
       "0  canon powershot elph 110 hs 16 1 mp canon manu...    canon  www.ebay.com  \n",
       "1  canon rebel 2000 35 mm great case instruct boo...    canon  www.ebay.com  \n",
       "2  canon eo rebel t3i 18 55mm 75 300mm iii len ki...    canon  www.ebay.com  \n",
       "3  ge c1033 10 1 mp 3x zoom 2 4 lcd ge unus unope...      NaN  www.ebay.com  \n",
       "4  vivitar clip shot 1 1 mp vivitar unus unopen u...  vivitar  www.ebay.com  "
      ]
     },
     "execution_count": 787,
     "metadata": {},
     "output_type": "execute_result"
    }
   ],
   "source": [
    "specs_df.head()"
   ]
  },
  {
   "cell_type": "markdown",
   "metadata": {},
   "source": [
    "# Classes df"
   ]
  },
  {
   "cell_type": "code",
   "execution_count": 788,
   "metadata": {},
   "outputs": [
    {
     "data": {
      "text/html": [
       "<div>\n",
       "<style scoped>\n",
       "    .dataframe tbody tr th:only-of-type {\n",
       "        vertical-align: middle;\n",
       "    }\n",
       "\n",
       "    .dataframe tbody tr th {\n",
       "        vertical-align: top;\n",
       "    }\n",
       "\n",
       "    .dataframe thead th {\n",
       "        text-align: right;\n",
       "    }\n",
       "</style>\n",
       "<table border=\"1\" class=\"dataframe\">\n",
       "  <thead>\n",
       "    <tr style=\"text-align: right;\">\n",
       "      <th></th>\n",
       "      <th>spec_id</th>\n",
       "      <th>class_</th>\n",
       "    </tr>\n",
       "  </thead>\n",
       "  <tbody>\n",
       "    <tr>\n",
       "      <th>0</th>\n",
       "      <td>buy.net//5641</td>\n",
       "      <td>0</td>\n",
       "    </tr>\n",
       "    <tr>\n",
       "      <th>1</th>\n",
       "      <td>www.ebay.com//58588</td>\n",
       "      <td>0</td>\n",
       "    </tr>\n",
       "    <tr>\n",
       "      <th>2</th>\n",
       "      <td>www.gosale.com//849</td>\n",
       "      <td>0</td>\n",
       "    </tr>\n",
       "    <tr>\n",
       "      <th>3</th>\n",
       "      <td>www.price-hunt.com//9794</td>\n",
       "      <td>0</td>\n",
       "    </tr>\n",
       "    <tr>\n",
       "      <th>4</th>\n",
       "      <td>buy.net//5698</td>\n",
       "      <td>1</td>\n",
       "    </tr>\n",
       "  </tbody>\n",
       "</table>\n",
       "</div>"
      ],
      "text/plain": [
       "                    spec_id  class_\n",
       "0             buy.net//5641       0\n",
       "1       www.ebay.com//58588       0\n",
       "2       www.gosale.com//849       0\n",
       "3  www.price-hunt.com//9794       0\n",
       "4             buy.net//5698       1"
      ]
     },
     "execution_count": 788,
     "metadata": {},
     "output_type": "execute_result"
    }
   ],
   "source": [
    "classes_df = pd.read_csv('../data/interim/classes.csv')\n",
    "classes_df.head()"
   ]
  },
  {
   "cell_type": "code",
   "execution_count": 789,
   "metadata": {},
   "outputs": [
    {
     "data": {
      "text/plain": [
       "(908, 2)"
      ]
     },
     "execution_count": 789,
     "metadata": {},
     "output_type": "execute_result"
    }
   ],
   "source": [
    "classes_df.shape"
   ]
  },
  {
   "cell_type": "code",
   "execution_count": 790,
   "metadata": {},
   "outputs": [
    {
     "data": {
      "text/plain": [
       "6     178\n",
       "2     130\n",
       "11     95\n",
       "4      91\n",
       "13     80\n",
       "7      78\n",
       "9      57\n",
       "1      55\n",
       "12     16\n",
       "24     14\n",
       "10     14\n",
       "19     11\n",
       "20      9\n",
       "5       9\n",
       "23      9\n",
       "3       9\n",
       "17      7\n",
       "0       6\n",
       "14      5\n",
       "16      5\n",
       "18      5\n",
       "15      4\n",
       "21      4\n",
       "26      4\n",
       "25      3\n",
       "28      2\n",
       "8       2\n",
       "22      2\n",
       "27      2\n",
       "29      2\n",
       "Name: class_, dtype: int64"
      ]
     },
     "execution_count": 790,
     "metadata": {},
     "output_type": "execute_result"
    }
   ],
   "source": [
    "classes_df.class_.value_counts()"
   ]
  },
  {
   "cell_type": "markdown",
   "metadata": {},
   "source": [
    "## Add classes to specs"
   ]
  },
  {
   "cell_type": "code",
   "execution_count": 791,
   "metadata": {},
   "outputs": [
    {
     "data": {
      "text/html": [
       "<div>\n",
       "<style scoped>\n",
       "    .dataframe tbody tr th:only-of-type {\n",
       "        vertical-align: middle;\n",
       "    }\n",
       "\n",
       "    .dataframe tbody tr th {\n",
       "        vertical-align: top;\n",
       "    }\n",
       "\n",
       "    .dataframe thead th {\n",
       "        text-align: right;\n",
       "    }\n",
       "</style>\n",
       "<table border=\"1\" class=\"dataframe\">\n",
       "  <thead>\n",
       "    <tr style=\"text-align: right;\">\n",
       "      <th></th>\n",
       "      <th>spec_id</th>\n",
       "      <th>page_title</th>\n",
       "      <th>all_text</th>\n",
       "      <th>page_title_stem</th>\n",
       "      <th>all_text_stem</th>\n",
       "      <th>brand</th>\n",
       "      <th>site</th>\n",
       "      <th>class_</th>\n",
       "    </tr>\n",
       "  </thead>\n",
       "  <tbody>\n",
       "    <tr>\n",
       "      <th>0</th>\n",
       "      <td>www.ebay.com//57656</td>\n",
       "      <td>canon powershot elph 110 hs 16 1 mp</td>\n",
       "      <td>canon powershot elph 110 hs 16 1 mp canon manu...</td>\n",
       "      <td>canon powershot elph 110 hs 16 1 mp</td>\n",
       "      <td>canon powershot elph 110 hs 16 1 mp canon manu...</td>\n",
       "      <td>canon</td>\n",
       "      <td>www.ebay.com</td>\n",
       "      <td>NaN</td>\n",
       "    </tr>\n",
       "    <tr>\n",
       "      <th>1</th>\n",
       "      <td>www.ebay.com//60583</td>\n",
       "      <td>canon rebel 2000 35 mm great case instruction ...</td>\n",
       "      <td>canon rebel 2000 35 mm great case instruction ...</td>\n",
       "      <td>canon rebel 2000 35 mm great case instruct boo...</td>\n",
       "      <td>canon rebel 2000 35 mm great case instruct boo...</td>\n",
       "      <td>canon</td>\n",
       "      <td>www.ebay.com</td>\n",
       "      <td>NaN</td>\n",
       "    </tr>\n",
       "    <tr>\n",
       "      <th>2</th>\n",
       "      <td>www.ebay.com//60440</td>\n",
       "      <td>canon eos rebel t3i 18 55mm 75 300mm iii lens ...</td>\n",
       "      <td>canon eos rebel t3i 18 55mm 75 300mm iii lens ...</td>\n",
       "      <td>canon eo rebel t3i 18 55mm 75 300mm iii len ki...</td>\n",
       "      <td>canon eo rebel t3i 18 55mm 75 300mm iii len ki...</td>\n",
       "      <td>canon</td>\n",
       "      <td>www.ebay.com</td>\n",
       "      <td>NaN</td>\n",
       "    </tr>\n",
       "    <tr>\n",
       "      <th>3</th>\n",
       "      <td>www.ebay.com//24139</td>\n",
       "      <td>ge c1033 10 1 mp 3x zoom 2 4 lcd</td>\n",
       "      <td>ge c1033 10 1 mp 3x zoom 2 4 lcd ge unused uno...</td>\n",
       "      <td>ge c1033 10 1 mp 3x zoom 2 4 lcd</td>\n",
       "      <td>ge c1033 10 1 mp 3x zoom 2 4 lcd ge unus unope...</td>\n",
       "      <td>NaN</td>\n",
       "      <td>www.ebay.com</td>\n",
       "      <td>NaN</td>\n",
       "    </tr>\n",
       "    <tr>\n",
       "      <th>4</th>\n",
       "      <td>www.ebay.com//54903</td>\n",
       "      <td>vivitar clip shot 1 1 mp</td>\n",
       "      <td>vivitar clip shot 1 1 mp vivitar unused unopen...</td>\n",
       "      <td>vivitar clip shot 1 1 mp</td>\n",
       "      <td>vivitar clip shot 1 1 mp vivitar unus unopen u...</td>\n",
       "      <td>vivitar</td>\n",
       "      <td>www.ebay.com</td>\n",
       "      <td>NaN</td>\n",
       "    </tr>\n",
       "  </tbody>\n",
       "</table>\n",
       "</div>"
      ],
      "text/plain": [
       "               spec_id                                         page_title  \\\n",
       "0  www.ebay.com//57656                canon powershot elph 110 hs 16 1 mp   \n",
       "1  www.ebay.com//60583  canon rebel 2000 35 mm great case instruction ...   \n",
       "2  www.ebay.com//60440  canon eos rebel t3i 18 55mm 75 300mm iii lens ...   \n",
       "3  www.ebay.com//24139                   ge c1033 10 1 mp 3x zoom 2 4 lcd   \n",
       "4  www.ebay.com//54903                           vivitar clip shot 1 1 mp   \n",
       "\n",
       "                                            all_text  \\\n",
       "0  canon powershot elph 110 hs 16 1 mp canon manu...   \n",
       "1  canon rebel 2000 35 mm great case instruction ...   \n",
       "2  canon eos rebel t3i 18 55mm 75 300mm iii lens ...   \n",
       "3  ge c1033 10 1 mp 3x zoom 2 4 lcd ge unused uno...   \n",
       "4  vivitar clip shot 1 1 mp vivitar unused unopen...   \n",
       "\n",
       "                                     page_title_stem  \\\n",
       "0                canon powershot elph 110 hs 16 1 mp   \n",
       "1  canon rebel 2000 35 mm great case instruct boo...   \n",
       "2  canon eo rebel t3i 18 55mm 75 300mm iii len ki...   \n",
       "3                   ge c1033 10 1 mp 3x zoom 2 4 lcd   \n",
       "4                           vivitar clip shot 1 1 mp   \n",
       "\n",
       "                                       all_text_stem    brand          site  \\\n",
       "0  canon powershot elph 110 hs 16 1 mp canon manu...    canon  www.ebay.com   \n",
       "1  canon rebel 2000 35 mm great case instruct boo...    canon  www.ebay.com   \n",
       "2  canon eo rebel t3i 18 55mm 75 300mm iii len ki...    canon  www.ebay.com   \n",
       "3  ge c1033 10 1 mp 3x zoom 2 4 lcd ge unus unope...      NaN  www.ebay.com   \n",
       "4  vivitar clip shot 1 1 mp vivitar unus unopen u...  vivitar  www.ebay.com   \n",
       "\n",
       "   class_  \n",
       "0     NaN  \n",
       "1     NaN  \n",
       "2     NaN  \n",
       "3     NaN  \n",
       "4     NaN  "
      ]
     },
     "execution_count": 791,
     "metadata": {},
     "output_type": "execute_result"
    }
   ],
   "source": [
    "specs_df = specs_df.merge(classes_df, how='left')\n",
    "specs_df.head()"
   ]
  },
  {
   "cell_type": "code",
   "execution_count": 792,
   "metadata": {},
   "outputs": [
    {
     "data": {
      "text/plain": [
       "6.0     178\n",
       "2.0     130\n",
       "11.0     95\n",
       "4.0      91\n",
       "13.0     80\n",
       "7.0      78\n",
       "9.0      57\n",
       "1.0      55\n",
       "12.0     16\n",
       "10.0     14\n",
       "24.0     14\n",
       "19.0     11\n",
       "5.0       9\n",
       "20.0      9\n",
       "3.0       9\n",
       "23.0      9\n",
       "17.0      7\n",
       "0.0       6\n",
       "16.0      5\n",
       "14.0      5\n",
       "18.0      5\n",
       "26.0      4\n",
       "21.0      4\n",
       "15.0      4\n",
       "25.0      3\n",
       "8.0       2\n",
       "22.0      2\n",
       "28.0      2\n",
       "27.0      2\n",
       "29.0      2\n",
       "Name: class_, dtype: int64"
      ]
     },
     "execution_count": 792,
     "metadata": {},
     "output_type": "execute_result"
    }
   ],
   "source": [
    "class_vcounts = specs_df.class_.value_counts()\n",
    "class_vcounts"
   ]
  },
  {
   "cell_type": "code",
   "execution_count": 793,
   "metadata": {},
   "outputs": [
    {
     "data": {
      "text/plain": [
       "[]"
      ]
     },
     "execution_count": 793,
     "metadata": {},
     "output_type": "execute_result"
    }
   ],
   "source": [
    "bad_classes = list(class_vcounts[class_vcounts<2].index)\n",
    "bad_classes"
   ]
  },
  {
   "cell_type": "code",
   "execution_count": 794,
   "metadata": {},
   "outputs": [
    {
     "data": {
      "text/plain": [
       "(29771, 8)"
      ]
     },
     "execution_count": 794,
     "metadata": {},
     "output_type": "execute_result"
    }
   ],
   "source": [
    "specs_df.shape"
   ]
  },
  {
   "cell_type": "code",
   "execution_count": 795,
   "metadata": {},
   "outputs": [
    {
     "data": {
      "text/plain": [
       "(29771, 8)"
      ]
     },
     "execution_count": 795,
     "metadata": {},
     "output_type": "execute_result"
    }
   ],
   "source": [
    "specs_df = specs_df[~specs_df.class_.isin(bad_classes)]\n",
    "specs_df.shape"
   ]
  },
  {
   "cell_type": "code",
   "execution_count": 796,
   "metadata": {},
   "outputs": [
    {
     "data": {
      "text/plain": [
       "(908, 8)"
      ]
     },
     "execution_count": 796,
     "metadata": {},
     "output_type": "execute_result"
    }
   ],
   "source": [
    "labelled_specs_df = specs_df[~specs_df.class_.isnull()].copy()\n",
    "labelled_specs_df.shape"
   ]
  },
  {
   "cell_type": "code",
   "execution_count": 797,
   "metadata": {},
   "outputs": [],
   "source": [
    "labelled_specs_df.to_csv('../data/interim/specs_df_labelled.csv', index=None)"
   ]
  },
  {
   "cell_type": "markdown",
   "metadata": {},
   "source": [
    "# Triplet generator"
   ]
  },
  {
   "cell_type": "code",
   "execution_count": 798,
   "metadata": {},
   "outputs": [
    {
     "data": {
      "text/html": [
       "<div>\n",
       "<style scoped>\n",
       "    .dataframe tbody tr th:only-of-type {\n",
       "        vertical-align: middle;\n",
       "    }\n",
       "\n",
       "    .dataframe tbody tr th {\n",
       "        vertical-align: top;\n",
       "    }\n",
       "\n",
       "    .dataframe thead th {\n",
       "        text-align: right;\n",
       "    }\n",
       "</style>\n",
       "<table border=\"1\" class=\"dataframe\">\n",
       "  <thead>\n",
       "    <tr style=\"text-align: right;\">\n",
       "      <th></th>\n",
       "      <th>spec_id</th>\n",
       "      <th>page_title</th>\n",
       "      <th>all_text</th>\n",
       "      <th>page_title_stem</th>\n",
       "      <th>all_text_stem</th>\n",
       "      <th>brand</th>\n",
       "      <th>site</th>\n",
       "      <th>class_</th>\n",
       "      <th>spec_idx</th>\n",
       "    </tr>\n",
       "  </thead>\n",
       "  <tbody>\n",
       "    <tr>\n",
       "      <th>29</th>\n",
       "      <td>www.ebay.com//55555</td>\n",
       "      <td>nikon d800 36 3 mp body</td>\n",
       "      <td>nikon d800 36 3 mp body nikon previously may s...</td>\n",
       "      <td>nikon d800 36 3 mp bodi</td>\n",
       "      <td>nikon d800 36 3 mp bodi nikon previous may sig...</td>\n",
       "      <td>nikon</td>\n",
       "      <td>www.ebay.com</td>\n",
       "      <td>13.0</td>\n",
       "      <td>0</td>\n",
       "    </tr>\n",
       "    <tr>\n",
       "      <th>40</th>\n",
       "      <td>www.ebay.com//46983</td>\n",
       "      <td>nikon d90 12 3 mp kit w vr 18 105 mm lens</td>\n",
       "      <td>nikon d90 12 3 mp kit w vr 18 105 mm lens niko...</td>\n",
       "      <td>nikon d90 12 3 mp kit w vr 18 105 mm len</td>\n",
       "      <td>nikon d90 12 3 mp kit w vr 18 105 mm len nikon...</td>\n",
       "      <td>nikon</td>\n",
       "      <td>www.ebay.com</td>\n",
       "      <td>4.0</td>\n",
       "      <td>1</td>\n",
       "    </tr>\n",
       "    <tr>\n",
       "      <th>45</th>\n",
       "      <td>www.ebay.com//55066</td>\n",
       "      <td>nikon d90 12 3 mp w af 18 200mm lens</td>\n",
       "      <td>nikon d90 12 3 mp w af 18 200mm lens nikon len...</td>\n",
       "      <td>nikon d90 12 3 mp w af 18 200mm len</td>\n",
       "      <td>nikon d90 12 3 mp w af 18 200mm len nikon len ...</td>\n",
       "      <td>nikon</td>\n",
       "      <td>www.ebay.com</td>\n",
       "      <td>4.0</td>\n",
       "      <td>2</td>\n",
       "    </tr>\n",
       "    <tr>\n",
       "      <th>46</th>\n",
       "      <td>www.ebay.com//41954</td>\n",
       "      <td>canon eos 20d 8 2 mp body</td>\n",
       "      <td>canon eos 20d 8 2 mp body canon extra battery ...</td>\n",
       "      <td>canon eo 20d 8 2 mp bodi</td>\n",
       "      <td>canon eo 20d 8 2 mp bodi canon extra batteri m...</td>\n",
       "      <td>canon</td>\n",
       "      <td>www.ebay.com</td>\n",
       "      <td>10.0</td>\n",
       "      <td>3</td>\n",
       "    </tr>\n",
       "    <tr>\n",
       "      <th>56</th>\n",
       "      <td>www.ebay.com//45818</td>\n",
       "      <td>canon eos 5d mark ii excellent japan 2882</td>\n",
       "      <td>canon eos 5d mark ii excellent japan never min...</td>\n",
       "      <td>canon eo 5d mark ii excel japan 2882</td>\n",
       "      <td>canon eo 5d mark ii excel japan never minim si...</td>\n",
       "      <td>canon</td>\n",
       "      <td>www.ebay.com</td>\n",
       "      <td>11.0</td>\n",
       "      <td>4</td>\n",
       "    </tr>\n",
       "  </tbody>\n",
       "</table>\n",
       "</div>"
      ],
      "text/plain": [
       "                spec_id                                 page_title  \\\n",
       "29  www.ebay.com//55555                    nikon d800 36 3 mp body   \n",
       "40  www.ebay.com//46983  nikon d90 12 3 mp kit w vr 18 105 mm lens   \n",
       "45  www.ebay.com//55066       nikon d90 12 3 mp w af 18 200mm lens   \n",
       "46  www.ebay.com//41954                  canon eos 20d 8 2 mp body   \n",
       "56  www.ebay.com//45818  canon eos 5d mark ii excellent japan 2882   \n",
       "\n",
       "                                             all_text  \\\n",
       "29  nikon d800 36 3 mp body nikon previously may s...   \n",
       "40  nikon d90 12 3 mp kit w vr 18 105 mm lens niko...   \n",
       "45  nikon d90 12 3 mp w af 18 200mm lens nikon len...   \n",
       "46  canon eos 20d 8 2 mp body canon extra battery ...   \n",
       "56  canon eos 5d mark ii excellent japan never min...   \n",
       "\n",
       "                             page_title_stem  \\\n",
       "29                   nikon d800 36 3 mp bodi   \n",
       "40  nikon d90 12 3 mp kit w vr 18 105 mm len   \n",
       "45       nikon d90 12 3 mp w af 18 200mm len   \n",
       "46                  canon eo 20d 8 2 mp bodi   \n",
       "56      canon eo 5d mark ii excel japan 2882   \n",
       "\n",
       "                                        all_text_stem  brand          site  \\\n",
       "29  nikon d800 36 3 mp bodi nikon previous may sig...  nikon  www.ebay.com   \n",
       "40  nikon d90 12 3 mp kit w vr 18 105 mm len nikon...  nikon  www.ebay.com   \n",
       "45  nikon d90 12 3 mp w af 18 200mm len nikon len ...  nikon  www.ebay.com   \n",
       "46  canon eo 20d 8 2 mp bodi canon extra batteri m...  canon  www.ebay.com   \n",
       "56  canon eo 5d mark ii excel japan never minim si...  canon  www.ebay.com   \n",
       "\n",
       "    class_  spec_idx  \n",
       "29    13.0         0  \n",
       "40     4.0         1  \n",
       "45     4.0         2  \n",
       "46    10.0         3  \n",
       "56    11.0         4  "
      ]
     },
     "execution_count": 798,
     "metadata": {},
     "output_type": "execute_result"
    }
   ],
   "source": [
    "labelled_specs_df['spec_idx'] = range(len(labelled_specs_df))\n",
    "labelled_specs_df.head()"
   ]
  },
  {
   "cell_type": "markdown",
   "metadata": {},
   "source": [
    "# Obtain train/val split"
   ]
  },
  {
   "cell_type": "code",
   "execution_count": 830,
   "metadata": {},
   "outputs": [
    {
     "data": {
      "text/plain": [
       "((784, 9), (124, 9))"
      ]
     },
     "execution_count": 830,
     "metadata": {},
     "output_type": "execute_result"
    }
   ],
   "source": [
    "INTERIM_PATH = '../data/interim/'\n",
    "TRAIN_PATH = 'specs_train.csv'\n",
    "VAL_PATH = 'specs_val.csv'\n",
    "\n",
    "classes = labelled_specs_df.class_.unique()\n",
    "val_classes = np.random.choice(classes, 5)\n",
    "\n",
    "labelled_specs_train = labelled_specs_df[~labelled_specs_df.class_.isin(val_classes)]\n",
    "labelled_specs_val = labelled_specs_df[labelled_specs_df.class_.isin(val_classes)]\n",
    "\n",
    "labelled_specs_train.to_csv(os.path.join(INTERIM_PATH, TRAIN_PATH), index=None)\n",
    "labelled_specs_val.to_csv(os.path.join(INTERIM_PATH, VAL_PATH), index=None)\n",
    "\n",
    "labelled_specs_train.shape, labelled_specs_val.shape"
   ]
  },
  {
   "cell_type": "code",
   "execution_count": 831,
   "metadata": {},
   "outputs": [],
   "source": [
    "text_field = get_fields()"
   ]
  },
  {
   "cell_type": "code",
   "execution_count": 832,
   "metadata": {},
   "outputs": [
    {
     "name": "stdout",
     "output_type": "stream",
     "text": [
      "CPU times: user 1.86 s, sys: 31 ms, total: 1.89 s\n",
      "Wall time: 1.89 s\n"
     ]
    }
   ],
   "source": [
    "%%time\n",
    "datafields = [(\"spec_id\", None),\n",
    "              (\"page_title\", None),\n",
    "              (\"all_text\", None),\n",
    "              (\"page_title_stem\", text_field),\n",
    "              (\"all_text_stem\", text_field),\n",
    "                  (\"brand\", None),\n",
    "                  (\"site\", None),\n",
    "             ('class_', None)]\n",
    "\n",
    "full_dataset = TabularDataset.splits(\n",
    "        path=\"../data/processed/\", # the root directory where the data lies\n",
    "        train='specs_preprocessed.csv',\n",
    "        format='csv',\n",
    "        skip_header=True, # if your csv header has a header, make sure to pass this to ensure it doesn't get proceesed as data!\n",
    "        fields=datafields)\n",
    "\n",
    "train_dataset, val_dataset = TabularDataset.splits(\n",
    "    path=INTERIM_PATH, # the root directory where the data lies\n",
    "    train=TRAIN_PATH,\n",
    "    test=VAL_PATH,\n",
    "    format='csv',\n",
    "    skip_header=True, # if your csv header has a header, make sure to pass this to ensure it doesn't get proceesed as data!\n",
    "    fields=datafields)\n",
    "\n",
    "full_dataset = full_dataset[0]"
   ]
  },
  {
   "cell_type": "code",
   "execution_count": 833,
   "metadata": {},
   "outputs": [],
   "source": [
    "train_labelled_df = pd.read_csv(os.path.join(INTERIM_PATH, TRAIN_PATH))\n",
    "train_labelled_df['spec_idx'] = range(len(train_labelled_df))\n",
    "\n",
    "train_class_lookup = train_labelled_df[~train_labelled_df.class_.isnull()].set_index('spec_idx').to_dict()['class_']\n",
    "train_spec_lookup = train_labelled_df.groupby(['class_'])['spec_idx'].agg(list).to_dict()"
   ]
  },
  {
   "cell_type": "code",
   "execution_count": 834,
   "metadata": {},
   "outputs": [],
   "source": [
    "val_labelled_df = pd.read_csv(os.path.join(INTERIM_PATH, VAL_PATH))\n",
    "val_labelled_df['spec_idx'] = range(len(val_labelled_df))\n",
    "\n",
    "val_class_lookup = val_labelled_df[~val_labelled_df.class_.isnull()].set_index('spec_idx').to_dict()['class_']\n",
    "val_spec_lookup = val_labelled_df.groupby(['class_'])['spec_idx'].agg(list).to_dict()"
   ]
  },
  {
   "cell_type": "code",
   "execution_count": 835,
   "metadata": {},
   "outputs": [
    {
     "name": "stdout",
     "output_type": "stream",
     "text": [
      "CPU times: user 539 ms, sys: 0 ns, total: 539 ms\n",
      "Wall time: 538 ms\n"
     ]
    }
   ],
   "source": [
    "%%time\n",
    "text_field.build_vocab(full_dataset)"
   ]
  },
  {
   "cell_type": "markdown",
   "metadata": {},
   "source": [
    "## Quick checks"
   ]
  },
  {
   "cell_type": "code",
   "execution_count": 836,
   "metadata": {},
   "outputs": [
    {
     "data": {
      "text/html": [
       "<div>\n",
       "<style scoped>\n",
       "    .dataframe tbody tr th:only-of-type {\n",
       "        vertical-align: middle;\n",
       "    }\n",
       "\n",
       "    .dataframe tbody tr th {\n",
       "        vertical-align: top;\n",
       "    }\n",
       "\n",
       "    .dataframe thead th {\n",
       "        text-align: right;\n",
       "    }\n",
       "</style>\n",
       "<table border=\"1\" class=\"dataframe\">\n",
       "  <thead>\n",
       "    <tr style=\"text-align: right;\">\n",
       "      <th></th>\n",
       "      <th>spec_id</th>\n",
       "      <th>page_title</th>\n",
       "      <th>all_text</th>\n",
       "      <th>page_title_stem</th>\n",
       "      <th>all_text_stem</th>\n",
       "      <th>brand</th>\n",
       "      <th>site</th>\n",
       "      <th>class_</th>\n",
       "    </tr>\n",
       "  </thead>\n",
       "  <tbody>\n",
       "    <tr>\n",
       "      <th>0</th>\n",
       "      <td>www.ebay.com//57656</td>\n",
       "      <td>canon powershot elph 110 hs 16 1 mp</td>\n",
       "      <td>canon powershot elph 110 hs 16 1 mp canon manu...</td>\n",
       "      <td>canon powershot elph 110 hs 16 1 mp</td>\n",
       "      <td>canon powershot elph 110 hs 16 1 mp canon manu...</td>\n",
       "      <td>canon</td>\n",
       "      <td>www.ebay.com</td>\n",
       "      <td>NaN</td>\n",
       "    </tr>\n",
       "  </tbody>\n",
       "</table>\n",
       "</div>"
      ],
      "text/plain": [
       "               spec_id                           page_title  \\\n",
       "0  www.ebay.com//57656  canon powershot elph 110 hs 16 1 mp   \n",
       "\n",
       "                                            all_text  \\\n",
       "0  canon powershot elph 110 hs 16 1 mp canon manu...   \n",
       "\n",
       "                       page_title_stem  \\\n",
       "0  canon powershot elph 110 hs 16 1 mp   \n",
       "\n",
       "                                       all_text_stem  brand          site  \\\n",
       "0  canon powershot elph 110 hs 16 1 mp canon manu...  canon  www.ebay.com   \n",
       "\n",
       "   class_  \n",
       "0     NaN  "
      ]
     },
     "execution_count": 836,
     "metadata": {},
     "output_type": "execute_result"
    }
   ],
   "source": [
    "specs_df.head(1)"
   ]
  },
  {
   "cell_type": "code",
   "execution_count": 837,
   "metadata": {},
   "outputs": [
    {
     "data": {
      "text/plain": [
       "{'all_text_stem': ['canon',\n",
       "  'powershot',\n",
       "  'elph',\n",
       "  '110',\n",
       "  'hs',\n",
       "  '16',\n",
       "  '1',\n",
       "  'mp',\n",
       "  'canon',\n",
       "  'manufactur',\n",
       "  'refurbish',\n",
       "  'profession',\n",
       "  'restor',\n",
       "  'work',\n",
       "  'order',\n",
       "  'manufactur',\n",
       "  'vendor',\n",
       "  'mean',\n",
       "  'inspect',\n",
       "  'clean',\n",
       "  'repair',\n",
       "  'meet',\n",
       "  'manufactur',\n",
       "  'specif',\n",
       "  'excel',\n",
       "  'may',\n",
       "  'may',\n",
       "  'origin',\n",
       "  'packag',\n",
       "  'seller',\n",
       "  'full',\n",
       "  'detail',\n",
       "  'open',\n",
       "  'window',\n",
       "  'tab',\n",
       "  'read',\n",
       "  'moreabout',\n",
       "  'mp',\n",
       "  'elph',\n",
       "  '110',\n",
       "  'hs',\n",
       "  'e262121',\n",
       "  'point',\n",
       "  'shoot'],\n",
       " 'page_title_stem': ['canon',\n",
       "  'powershot',\n",
       "  'elph',\n",
       "  '110',\n",
       "  'hs',\n",
       "  '16',\n",
       "  '1',\n",
       "  'mp']}"
      ]
     },
     "execution_count": 837,
     "metadata": {},
     "output_type": "execute_result"
    }
   ],
   "source": [
    "full_dataset.examples[0].__dict__"
   ]
  },
  {
   "cell_type": "code",
   "execution_count": 838,
   "metadata": {},
   "outputs": [
    {
     "data": {
      "text/html": [
       "<div>\n",
       "<style scoped>\n",
       "    .dataframe tbody tr th:only-of-type {\n",
       "        vertical-align: middle;\n",
       "    }\n",
       "\n",
       "    .dataframe tbody tr th {\n",
       "        vertical-align: top;\n",
       "    }\n",
       "\n",
       "    .dataframe thead th {\n",
       "        text-align: right;\n",
       "    }\n",
       "</style>\n",
       "<table border=\"1\" class=\"dataframe\">\n",
       "  <thead>\n",
       "    <tr style=\"text-align: right;\">\n",
       "      <th></th>\n",
       "      <th>spec_id</th>\n",
       "      <th>page_title</th>\n",
       "      <th>all_text</th>\n",
       "      <th>page_title_stem</th>\n",
       "      <th>all_text_stem</th>\n",
       "      <th>brand</th>\n",
       "      <th>site</th>\n",
       "      <th>class_</th>\n",
       "      <th>spec_idx</th>\n",
       "    </tr>\n",
       "  </thead>\n",
       "  <tbody>\n",
       "    <tr>\n",
       "      <th>0</th>\n",
       "      <td>www.ebay.com//55555</td>\n",
       "      <td>nikon d800 36 3 mp body</td>\n",
       "      <td>nikon d800 36 3 mp body nikon previously may s...</td>\n",
       "      <td>nikon d800 36 3 mp bodi</td>\n",
       "      <td>nikon d800 36 3 mp bodi nikon previous may sig...</td>\n",
       "      <td>nikon</td>\n",
       "      <td>www.ebay.com</td>\n",
       "      <td>13.0</td>\n",
       "      <td>0</td>\n",
       "    </tr>\n",
       "  </tbody>\n",
       "</table>\n",
       "</div>"
      ],
      "text/plain": [
       "               spec_id               page_title  \\\n",
       "0  www.ebay.com//55555  nikon d800 36 3 mp body   \n",
       "\n",
       "                                            all_text          page_title_stem  \\\n",
       "0  nikon d800 36 3 mp body nikon previously may s...  nikon d800 36 3 mp bodi   \n",
       "\n",
       "                                       all_text_stem  brand          site  \\\n",
       "0  nikon d800 36 3 mp bodi nikon previous may sig...  nikon  www.ebay.com   \n",
       "\n",
       "   class_  spec_idx  \n",
       "0    13.0         0  "
      ]
     },
     "execution_count": 838,
     "metadata": {},
     "output_type": "execute_result"
    }
   ],
   "source": [
    "train_labelled_df.head(1)"
   ]
  },
  {
   "cell_type": "code",
   "execution_count": 839,
   "metadata": {},
   "outputs": [
    {
     "data": {
      "text/plain": [
       "{'all_text_stem': ['nikon',\n",
       "  'd800',\n",
       "  '36',\n",
       "  '3',\n",
       "  'mp',\n",
       "  'bodi',\n",
       "  'nikon',\n",
       "  'previous',\n",
       "  'may',\n",
       "  'sign',\n",
       "  'cosmet',\n",
       "  'wear',\n",
       "  'fulli',\n",
       "  'oper',\n",
       "  'function',\n",
       "  'intend',\n",
       "  'may',\n",
       "  'floor',\n",
       "  'model',\n",
       "  'store',\n",
       "  'return',\n",
       "  'seller',\n",
       "  'full',\n",
       "  'detail',\n",
       "  'descript',\n",
       "  'imperfect',\n",
       "  'open',\n",
       "  'window',\n",
       "  'tab',\n",
       "  'read',\n",
       "  'moreabout',\n",
       "  'mp',\n",
       "  'd800',\n",
       "  '25480'],\n",
       " 'page_title_stem': ['nikon', 'd800', '36', '3', 'mp', 'bodi']}"
      ]
     },
     "execution_count": 839,
     "metadata": {},
     "output_type": "execute_result"
    }
   ],
   "source": [
    "train_dataset.examples[0].__dict__"
   ]
  },
  {
   "cell_type": "code",
   "execution_count": 840,
   "metadata": {},
   "outputs": [
    {
     "data": {
      "text/html": [
       "<div>\n",
       "<style scoped>\n",
       "    .dataframe tbody tr th:only-of-type {\n",
       "        vertical-align: middle;\n",
       "    }\n",
       "\n",
       "    .dataframe tbody tr th {\n",
       "        vertical-align: top;\n",
       "    }\n",
       "\n",
       "    .dataframe thead th {\n",
       "        text-align: right;\n",
       "    }\n",
       "</style>\n",
       "<table border=\"1\" class=\"dataframe\">\n",
       "  <thead>\n",
       "    <tr style=\"text-align: right;\">\n",
       "      <th></th>\n",
       "      <th>spec_id</th>\n",
       "      <th>page_title</th>\n",
       "      <th>all_text</th>\n",
       "      <th>page_title_stem</th>\n",
       "      <th>all_text_stem</th>\n",
       "      <th>brand</th>\n",
       "      <th>site</th>\n",
       "      <th>class_</th>\n",
       "      <th>spec_idx</th>\n",
       "    </tr>\n",
       "  </thead>\n",
       "  <tbody>\n",
       "    <tr>\n",
       "      <th>0</th>\n",
       "      <td>www.ebay.com//45818</td>\n",
       "      <td>canon eos 5d mark ii excellent japan 2882</td>\n",
       "      <td>canon eos 5d mark ii excellent japan never min...</td>\n",
       "      <td>canon eo 5d mark ii excel japan 2882</td>\n",
       "      <td>canon eo 5d mark ii excel japan never minim si...</td>\n",
       "      <td>canon</td>\n",
       "      <td>www.ebay.com</td>\n",
       "      <td>11.0</td>\n",
       "      <td>0</td>\n",
       "    </tr>\n",
       "  </tbody>\n",
       "</table>\n",
       "</div>"
      ],
      "text/plain": [
       "               spec_id                                 page_title  \\\n",
       "0  www.ebay.com//45818  canon eos 5d mark ii excellent japan 2882   \n",
       "\n",
       "                                            all_text  \\\n",
       "0  canon eos 5d mark ii excellent japan never min...   \n",
       "\n",
       "                        page_title_stem  \\\n",
       "0  canon eo 5d mark ii excel japan 2882   \n",
       "\n",
       "                                       all_text_stem  brand          site  \\\n",
       "0  canon eo 5d mark ii excel japan never minim si...  canon  www.ebay.com   \n",
       "\n",
       "   class_  spec_idx  \n",
       "0    11.0         0  "
      ]
     },
     "execution_count": 840,
     "metadata": {},
     "output_type": "execute_result"
    }
   ],
   "source": [
    "val_labelled_df.head(1)"
   ]
  },
  {
   "cell_type": "code",
   "execution_count": 841,
   "metadata": {},
   "outputs": [
    {
     "data": {
      "text/plain": [
       "{'all_text_stem': ['canon',\n",
       "  'eo',\n",
       "  '5d',\n",
       "  'mark',\n",
       "  'ii',\n",
       "  'excel',\n",
       "  'japan',\n",
       "  'never',\n",
       "  'minim',\n",
       "  'sign',\n",
       "  'use',\n",
       "  'canon',\n",
       "  'strap',\n",
       "  'neck',\n",
       "  'wrist',\n",
       "  'work',\n",
       "  'okay',\n",
       "  'heavi',\n",
       "  'sign',\n",
       "  'use',\n",
       "  'previous',\n",
       "  'may',\n",
       "  'sign',\n",
       "  'cosmet',\n",
       "  'wear',\n",
       "  'fulli',\n",
       "  'oper',\n",
       "  'function',\n",
       "  'intend',\n",
       "  'may',\n",
       "  'floor',\n",
       "  'model',\n",
       "  'store',\n",
       "  'return',\n",
       "  'seller',\n",
       "  'full',\n",
       "  'detail',\n",
       "  'descript',\n",
       "  'imperfect',\n",
       "  'open',\n",
       "  'window',\n",
       "  'tab',\n",
       "  'read',\n",
       "  'moreabout',\n",
       "  'japan',\n",
       "  'restor',\n",
       "  'requir',\n",
       "  'part',\n",
       "  'may',\n",
       "  'broken',\n",
       "  'miss',\n",
       "  'mp',\n",
       "  '5d',\n",
       "  'mark',\n",
       "  'ii',\n",
       "  '2764b003',\n",
       "  '3'],\n",
       " 'page_title_stem': ['canon',\n",
       "  'eo',\n",
       "  '5d',\n",
       "  'mark',\n",
       "  'ii',\n",
       "  'excel',\n",
       "  'japan',\n",
       "  '2882']}"
      ]
     },
     "execution_count": 841,
     "metadata": {},
     "output_type": "execute_result"
    }
   ],
   "source": [
    "val_dataset.examples[0].__dict__"
   ]
  },
  {
   "cell_type": "markdown",
   "metadata": {},
   "source": [
    "# Triplet iterator"
   ]
  },
  {
   "cell_type": "code",
   "execution_count": 842,
   "metadata": {},
   "outputs": [],
   "source": [
    "def gen_triplet(anchor_id, class_lookup, id_lookup):\n",
    "\n",
    "    anchor_class = class_lookup[anchor_id]\n",
    "    positive_id = random.choice(list(set(id_lookup[anchor_class]).difference(set([anchor_id]))))\n",
    "\n",
    "    negative_class = random.choice(list(set(id_lookup.keys()).difference([anchor_class])))\n",
    "    negative_id = random.choice(id_lookup[negative_class])\n",
    "\n",
    "    return (anchor_id, positive_id, negative_id)\n",
    "\n",
    "def triplet_iterator(dataset,\n",
    "                     class_lookup, \n",
    "                     spec_lookup,\n",
    "                     batch_size=1,\n",
    "                     field='all_text_stem'):\n",
    "    shuffled_idx = np.arange(len(dataset))\n",
    "    np.random.shuffle(shuffled_idx)\n",
    "    \n",
    "    num_drop = len(shuffled_idx) % batch_size\n",
    "    shuffled_idx = shuffled_idx[:-num_drop] if num_drop != 0 else shuffled_idx\n",
    "    shuffled_idx = shuffled_idx.reshape(-1, batch_size)\n",
    "    for idxs in shuffled_idx:\n",
    "        list_triplets = []\n",
    "        for i in idxs:\n",
    "            _, pos_idx, neg_idx = gen_triplet(i, class_lookup, spec_lookup)\n",
    "            list_triplets.extend([getattr(dataset[i], field), \n",
    "                                  getattr(dataset[pos_idx], field),\n",
    "                                  getattr(dataset[neg_idx], field)])\n",
    "        #паддим все к одному размеру\n",
    "        triplet = text_field.pad(list_triplets)\n",
    "        triplet = text_field.numericalize(triplet)\n",
    "        yield triplet"
   ]
  },
  {
   "cell_type": "code",
   "execution_count": 843,
   "metadata": {},
   "outputs": [
    {
     "data": {
      "text/plain": [
       "({'all_text_stem': ['nikon',\n",
       "   'd800',\n",
       "   '36',\n",
       "   '3',\n",
       "   'mp',\n",
       "   'bodi',\n",
       "   'nikon',\n",
       "   'previous',\n",
       "   'may',\n",
       "   'sign',\n",
       "   'cosmet',\n",
       "   'wear',\n",
       "   'fulli',\n",
       "   'oper',\n",
       "   'function',\n",
       "   'intend',\n",
       "   'may',\n",
       "   'floor',\n",
       "   'model',\n",
       "   'store',\n",
       "   'return',\n",
       "   'seller',\n",
       "   'full',\n",
       "   'detail',\n",
       "   'descript',\n",
       "   'imperfect',\n",
       "   'open',\n",
       "   'window',\n",
       "   'tab',\n",
       "   'read',\n",
       "   'moreabout',\n",
       "   'mp',\n",
       "   'd800',\n",
       "   '25480'],\n",
       "  'page_title_stem': ['nikon', 'd800', '36', '3', 'mp', 'bodi']},\n",
       " {'all_text_stem': ['nikon',\n",
       "   'd800',\n",
       "   '36',\n",
       "   '3',\n",
       "   'mp',\n",
       "   'cmos',\n",
       "   'fx',\n",
       "   'format',\n",
       "   'great',\n",
       "   '23477',\n",
       "   'nikon',\n",
       "   'previous',\n",
       "   'may',\n",
       "   'sign',\n",
       "   'cosmet',\n",
       "   'wear',\n",
       "   'fulli',\n",
       "   'oper',\n",
       "   'function',\n",
       "   'intend',\n",
       "   'may',\n",
       "   'floor',\n",
       "   'model',\n",
       "   'store',\n",
       "   'return',\n",
       "   'seller',\n",
       "   'full',\n",
       "   'detail',\n",
       "   'descript',\n",
       "   'imperfect',\n",
       "   'open',\n",
       "   'window',\n",
       "   'tab',\n",
       "   'read',\n",
       "   'moreabout',\n",
       "   'mp',\n",
       "   'd800',\n",
       "   '25480'],\n",
       "  'page_title_stem': ['nikon',\n",
       "   'd800',\n",
       "   '36',\n",
       "   '3',\n",
       "   'mp',\n",
       "   'cmos',\n",
       "   'fx',\n",
       "   'format',\n",
       "   'great',\n",
       "   '23477']},\n",
       " {'all_text_stem': ['nikon',\n",
       "   'd7000',\n",
       "   'vr',\n",
       "   'vr',\n",
       "   'zealand',\n",
       "   'price',\n",
       "   'pricem',\n",
       "   '100',\n",
       "   'iso',\n",
       "   '4928x3264',\n",
       "   'cmos',\n",
       "   'amount',\n",
       "   'detail',\n",
       "   'captur',\n",
       "   'call',\n",
       "   'resolut',\n",
       "   'measur',\n",
       "   'mega',\n",
       "   'pixel',\n",
       "   'mp',\n",
       "   'mega',\n",
       "   'pixel',\n",
       "   'detail',\n",
       "   'captur',\n",
       "   'larger',\n",
       "   'pictur',\n",
       "   'without',\n",
       "   'becom',\n",
       "   'blurri',\n",
       "   'jpeg',\n",
       "   'nef',\n",
       "   'raw',\n",
       "   'raw'],\n",
       "  'page_title_stem': ['nikon',\n",
       "   'd7000',\n",
       "   'vr',\n",
       "   'vr',\n",
       "   'zealand',\n",
       "   'price',\n",
       "   'pricem']})"
      ]
     },
     "execution_count": 843,
     "metadata": {},
     "output_type": "execute_result"
    }
   ],
   "source": [
    "(train_dataset[gen_triplet(0, train_class_lookup, train_spec_lookup)[0]].__dict__, \n",
    "train_dataset[gen_triplet(0, train_class_lookup, train_spec_lookup)[1]].__dict__,\n",
    "train_dataset[gen_triplet(0, train_class_lookup, train_spec_lookup)[2]].__dict__)"
   ]
  },
  {
   "cell_type": "code",
   "execution_count": 844,
   "metadata": {},
   "outputs": [
    {
     "data": {
      "text/plain": [
       "({'all_text_stem': ['canon',\n",
       "   'eo',\n",
       "   '5d',\n",
       "   'mark',\n",
       "   'ii',\n",
       "   'excel',\n",
       "   'japan',\n",
       "   'never',\n",
       "   'minim',\n",
       "   'sign',\n",
       "   'use',\n",
       "   'canon',\n",
       "   'strap',\n",
       "   'neck',\n",
       "   'wrist',\n",
       "   'work',\n",
       "   'okay',\n",
       "   'heavi',\n",
       "   'sign',\n",
       "   'use',\n",
       "   'previous',\n",
       "   'may',\n",
       "   'sign',\n",
       "   'cosmet',\n",
       "   'wear',\n",
       "   'fulli',\n",
       "   'oper',\n",
       "   'function',\n",
       "   'intend',\n",
       "   'may',\n",
       "   'floor',\n",
       "   'model',\n",
       "   'store',\n",
       "   'return',\n",
       "   'seller',\n",
       "   'full',\n",
       "   'detail',\n",
       "   'descript',\n",
       "   'imperfect',\n",
       "   'open',\n",
       "   'window',\n",
       "   'tab',\n",
       "   'read',\n",
       "   'moreabout',\n",
       "   'japan',\n",
       "   'restor',\n",
       "   'requir',\n",
       "   'part',\n",
       "   'may',\n",
       "   'broken',\n",
       "   'miss',\n",
       "   'mp',\n",
       "   '5d',\n",
       "   'mark',\n",
       "   'ii',\n",
       "   '2764b003',\n",
       "   '3'],\n",
       "  'page_title_stem': ['canon',\n",
       "   'eo',\n",
       "   '5d',\n",
       "   'mark',\n",
       "   'ii',\n",
       "   'excel',\n",
       "   'japan',\n",
       "   '2882']},\n",
       " {'all_text_stem': ['canon',\n",
       "   'eo',\n",
       "   '5d',\n",
       "   'mark',\n",
       "   'ii',\n",
       "   '21',\n",
       "   '1',\n",
       "   'mp',\n",
       "   'kit',\n",
       "   'w',\n",
       "   'ef',\n",
       "   'l',\n",
       "   'usm',\n",
       "   'canon',\n",
       "   'case',\n",
       "   'bag',\n",
       "   'len',\n",
       "   'len',\n",
       "   'filter',\n",
       "   'memori',\n",
       "   'card',\n",
       "   'previous',\n",
       "   'may',\n",
       "   'sign',\n",
       "   'cosmet',\n",
       "   'wear',\n",
       "   'fulli',\n",
       "   'oper',\n",
       "   'function',\n",
       "   'intend',\n",
       "   'may',\n",
       "   'floor',\n",
       "   'model',\n",
       "   'store',\n",
       "   'return',\n",
       "   'seller',\n",
       "   'full',\n",
       "   'detail',\n",
       "   'descript',\n",
       "   'imperfect',\n",
       "   'open',\n",
       "   'window',\n",
       "   'tab',\n",
       "   'read',\n",
       "   'moreabout',\n",
       "   'japan',\n",
       "   'mp',\n",
       "   '5d',\n",
       "   'mark',\n",
       "   'ii',\n",
       "   '2764b021',\n",
       "   '3'],\n",
       "  'page_title_stem': ['canon',\n",
       "   'eo',\n",
       "   '5d',\n",
       "   'mark',\n",
       "   'ii',\n",
       "   '21',\n",
       "   '1',\n",
       "   'mp',\n",
       "   'kit',\n",
       "   'w',\n",
       "   'ef',\n",
       "   'l',\n",
       "   'usm']},\n",
       " {'all_text_stem': ['soni',\n",
       "   'alpha',\n",
       "   'a3000',\n",
       "   '20',\n",
       "   '1',\n",
       "   'mp',\n",
       "   'bodi',\n",
       "   'low',\n",
       "   'shutter',\n",
       "   'soni',\n",
       "   'mirrorless',\n",
       "   'deliveri',\n",
       "   'time',\n",
       "   'vari',\n",
       "   'depend',\n",
       "   'locat',\n",
       "   'a3000'],\n",
       "  'page_title_stem': ['soni',\n",
       "   'alpha',\n",
       "   'a3000',\n",
       "   '20',\n",
       "   '1',\n",
       "   'mp',\n",
       "   'bodi',\n",
       "   'low',\n",
       "   'shutter']})"
      ]
     },
     "execution_count": 844,
     "metadata": {},
     "output_type": "execute_result"
    }
   ],
   "source": [
    "(val_dataset[gen_triplet(0, val_class_lookup, val_spec_lookup)[0]].__dict__, \n",
    "val_dataset[gen_triplet(0, val_class_lookup, val_spec_lookup)[1]].__dict__,\n",
    "val_dataset[gen_triplet(0, val_class_lookup, val_spec_lookup)[2]].__dict__)"
   ]
  },
  {
   "cell_type": "code",
   "execution_count": 845,
   "metadata": {},
   "outputs": [
    {
     "data": {
      "text/plain": [
       "tensor([[ 591,    6,   10],\n",
       "        [   6,   68,   99],\n",
       "        [  68,  607, 2065],\n",
       "        [ 607,   97,  205],\n",
       "        [ 198,   21,   10],\n",
       "        [   8,    2,   65],\n",
       "        [2058,   71,   15],\n",
       "        [  56,    6,   60],\n",
       "        [ 270,   66,   73],\n",
       "        [ 493,   54,   61],\n",
       "        [   6,  151,   58],\n",
       "        [ 155,  210,   37],\n",
       "        [ 220,  208,   41],\n",
       "        [ 225,    2,   62],\n",
       "        [ 122,  607,   15],\n",
       "        [  14, 2145,   74],\n",
       "        [  14,   17,   53],\n",
       "        [ 203,    1,   36],\n",
       "        [  14,    1,   59],\n",
       "        [ 214,    1,   28],\n",
       "        [ 209,    1,   13],\n",
       "        [  36,    1,   16],\n",
       "        [ 221,    1,   38],\n",
       "        [ 224,    1,   64],\n",
       "        [  14,    1,   29],\n",
       "        [ 120,    1,   22],\n",
       "        [  14,    1,   32],\n",
       "        [ 226,    1,   30],\n",
       "        [ 132,    1,   33],\n",
       "        [ 172,    1, 2065],\n",
       "        [  12,    1,   39],\n",
       "        [  28,    1,    1],\n",
       "        [  13,    1,    1],\n",
       "        [  16,    1,    1],\n",
       "        [  29,    1,    1],\n",
       "        [  22,    1,    1],\n",
       "        [  32,    1,    1],\n",
       "        [  30,    1,    1],\n",
       "        [  33,    1,    1],\n",
       "        [   2,    1,    1],\n",
       "        [ 607,    1,    1],\n",
       "        [2145,    1,    1],\n",
       "        [  56,    1,    1],\n",
       "        [ 132,    1,    1],\n",
       "        [   8,    1,    1],\n",
       "        [1128,    1,    1],\n",
       "        [  17,    1,    1]])"
      ]
     },
     "execution_count": 845,
     "metadata": {},
     "output_type": "execute_result"
    }
   ],
   "source": [
    "next(iter(triplet_iterator(train_dataset, train_class_lookup, train_spec_lookup, 1)))"
   ]
  },
  {
   "cell_type": "code",
   "execution_count": 846,
   "metadata": {},
   "outputs": [
    {
     "data": {
      "text/plain": [
       "tensor([[   6,    6,    6],\n",
       "        [  68,   68,   68],\n",
       "        [ 579,  579, 4945],\n",
       "        [ 377,  377,  185],\n",
       "        [ 294,  294,   80],\n",
       "        [ 992,  992,  399],\n",
       "        [   5,  558, 7887],\n",
       "        [   2,   71,   18],\n",
       "        [  71,  564,   17],\n",
       "        [   6,  219,  369],\n",
       "        [ 206,   13,   38],\n",
       "        [  70, 1757,    6],\n",
       "        [  66, 1291,   68],\n",
       "        [  54,    6, 4945],\n",
       "        [ 151,  354,   71],\n",
       "        [ 210,   36,    6],\n",
       "        [ 208, 1931, 4945],\n",
       "        [   2,  354,   71],\n",
       "        [ 579, 1253,  424],\n",
       "        [ 377,  354, 1596],\n",
       "        [ 294, 1144,    6],\n",
       "        [1935,  162,   69],\n",
       "        [  17,  461,    6],\n",
       "        [   1,  354, 4945],\n",
       "        [   1, 1542,   71],\n",
       "        [   1, 1637,  625],\n",
       "        [   1,   65,  500],\n",
       "        [   1,   15,  315],\n",
       "        [   1,   60,  886],\n",
       "        [   1,   73,   48],\n",
       "        [   1,   61,   55],\n",
       "        [   1,   58,  129],\n",
       "        [   1,   37,   43],\n",
       "        [   1,   41,   44],\n",
       "        [   1,   62,  117],\n",
       "        [   1,   15,   66],\n",
       "        [   1,   74,   54],\n",
       "        [   1,   53,  636],\n",
       "        [   1,   36,  375],\n",
       "        [   1,   59,  101],\n",
       "        [   1,   28,   17],\n",
       "        [   1,   13,  192],\n",
       "        [   1,   16,   87],\n",
       "        [   1,   38,  460],\n",
       "        [   1,   64,   85],\n",
       "        [   1,   29, 4848],\n",
       "        [   1,   22,  908],\n",
       "        [   1,   32,  811],\n",
       "        [   1,   30,  477],\n",
       "        [   1,   33,  319],\n",
       "        [   1,    2,  227],\n",
       "        [   1,  579,   97],\n",
       "        [   1,  377, 1467],\n",
       "        [   1,  294,  890],\n",
       "        [   1, 1935,  369],\n",
       "        [   1,  777,   38],\n",
       "        [   1, 1458,  319],\n",
       "        [   1,  690,  284],\n",
       "        [   1, 1225, 1530],\n",
       "        [   1,  354, 5713],\n",
       "        [   1,   17,  289]])"
      ]
     },
     "execution_count": 846,
     "metadata": {},
     "output_type": "execute_result"
    }
   ],
   "source": [
    "next(iter(triplet_iterator(val_dataset, val_class_lookup, val_spec_lookup, 1)))"
   ]
  },
  {
   "cell_type": "markdown",
   "metadata": {},
   "source": [
    "## Initialize NN Model"
   ]
  },
  {
   "cell_type": "code",
   "execution_count": 847,
   "metadata": {},
   "outputs": [
    {
     "data": {
      "text/plain": [
       "EmbeddingBagEmbedder(\n",
       "  (relu): ReLU()\n",
       "  (embedding_bag): EmbeddingBag(15407, 300, mode=mean)\n",
       "  (linear_layers): ModuleList(\n",
       "    (0): Sequential(\n",
       "      (0): Linear(in_features=300, out_features=300, bias=True)\n",
       "      (1): Dropout(p=0.05, inplace=False)\n",
       "    )\n",
       "    (1): Sequential(\n",
       "      (0): Linear(in_features=300, out_features=300, bias=True)\n",
       "      (1): Dropout(p=0.05, inplace=False)\n",
       "    )\n",
       "    (2): Sequential(\n",
       "      (0): Linear(in_features=300, out_features=300, bias=True)\n",
       "      (1): Dropout(p=0.05, inplace=False)\n",
       "    )\n",
       "    (3): Sequential(\n",
       "      (0): Linear(in_features=300, out_features=300, bias=True)\n",
       "      (1): Dropout(p=0.05, inplace=False)\n",
       "    )\n",
       "    (4): Sequential(\n",
       "      (0): Linear(in_features=300, out_features=150, bias=True)\n",
       "    )\n",
       "  )\n",
       ")"
      ]
     },
     "execution_count": 847,
     "metadata": {},
     "output_type": "execute_result"
    }
   ],
   "source": [
    "emb_dim = 150\n",
    "hidden_dim = 300\n",
    "num_linear = 4\n",
    "model = EmbeddingBagEmbedder(text_field,\n",
    "                     hidden_dim, emb_dim=emb_dim, num_linear=num_linear, num_lstm=num_lstm)\n",
    "\n",
    "model"
   ]
  },
  {
   "cell_type": "code",
   "execution_count": 848,
   "metadata": {},
   "outputs": [
    {
     "data": {
      "text/plain": [
       "tensor([[0.0094, 0.0733, 0.0000, 0.0094, 0.0041, 0.0332, 0.0388, 0.0162, 0.0098,\n",
       "         0.0000, 0.0299, 0.0518, 0.0065, 0.0000, 0.0083, 0.0000, 0.0000, 0.0000,\n",
       "         0.0000, 0.0000, 0.0000, 0.0019, 0.0000, 0.0773, 0.0504, 0.0000, 0.0298,\n",
       "         0.0000, 0.0026, 0.0065, 0.0212, 0.0000, 0.0000, 0.0016, 0.0000, 0.0317,\n",
       "         0.0000, 0.0000, 0.0000, 0.0000, 0.0275, 0.0000, 0.0000, 0.0389, 0.0180,\n",
       "         0.0804, 0.0000, 0.0000, 0.0037, 0.0611, 0.0000, 0.0000, 0.0396, 0.0254,\n",
       "         0.0306, 0.0000, 0.0380, 0.0274, 0.0000, 0.0000, 0.0307, 0.0000, 0.0000,\n",
       "         0.0630, 0.0631, 0.0000, 0.0000, 0.0000, 0.0000, 0.0000, 0.0002, 0.0141,\n",
       "         0.0143, 0.0139, 0.0000, 0.0447, 0.0504, 0.0000, 0.0307, 0.0162, 0.0000,\n",
       "         0.0184, 0.0000, 0.0000, 0.0000, 0.0612, 0.0000, 0.0000, 0.0000, 0.0000,\n",
       "         0.0000, 0.0335, 0.0588, 0.0000, 0.0801, 0.0214, 0.0000, 0.0344, 0.0424,\n",
       "         0.0000, 0.0299, 0.0000, 0.0414, 0.0489, 0.0000, 0.0440, 0.0450, 0.0000,\n",
       "         0.0000, 0.0098, 0.0000, 0.0000, 0.0000, 0.0000, 0.0000, 0.0000, 0.0255,\n",
       "         0.0000, 0.0431, 0.0000, 0.0233, 0.0073, 0.0539, 0.0000, 0.0621, 0.0000,\n",
       "         0.0000, 0.0207, 0.0000, 0.0619, 0.0000, 0.0333, 0.0000, 0.0023, 0.0279,\n",
       "         0.0581, 0.0175, 0.0773, 0.0331, 0.0000, 0.0000, 0.0097, 0.0000, 0.0000,\n",
       "         0.0000, 0.0000, 0.0000, 0.0000, 0.0000, 0.0000],\n",
       "        [0.0080, 0.0722, 0.0000, 0.0062, 0.0000, 0.0310, 0.0417, 0.0253, 0.0092,\n",
       "         0.0000, 0.0328, 0.0656, 0.0126, 0.0000, 0.0097, 0.0000, 0.0000, 0.0000,\n",
       "         0.0000, 0.0000, 0.0012, 0.0058, 0.0000, 0.0677, 0.0639, 0.0018, 0.0327,\n",
       "         0.0000, 0.0001, 0.0024, 0.0265, 0.0000, 0.0000, 0.0137, 0.0000, 0.0416,\n",
       "         0.0000, 0.0000, 0.0000, 0.0000, 0.0239, 0.0000, 0.0000, 0.0336, 0.0123,\n",
       "         0.0830, 0.0000, 0.0000, 0.0047, 0.0528, 0.0000, 0.0000, 0.0362, 0.0316,\n",
       "         0.0278, 0.0000, 0.0386, 0.0146, 0.0107, 0.0000, 0.0287, 0.0000, 0.0000,\n",
       "         0.0699, 0.0624, 0.0000, 0.0000, 0.0000, 0.0000, 0.0000, 0.0000, 0.0178,\n",
       "         0.0203, 0.0099, 0.0036, 0.0413, 0.0541, 0.0000, 0.0389, 0.0208, 0.0000,\n",
       "         0.0190, 0.0000, 0.0000, 0.0000, 0.0514, 0.0000, 0.0000, 0.0000, 0.0000,\n",
       "         0.0000, 0.0405, 0.0499, 0.0000, 0.0795, 0.0139, 0.0000, 0.0432, 0.0385,\n",
       "         0.0000, 0.0254, 0.0000, 0.0414, 0.0509, 0.0000, 0.0484, 0.0499, 0.0000,\n",
       "         0.0000, 0.0054, 0.0000, 0.0000, 0.0000, 0.0000, 0.0000, 0.0000, 0.0275,\n",
       "         0.0000, 0.0389, 0.0000, 0.0152, 0.0127, 0.0479, 0.0000, 0.0681, 0.0000,\n",
       "         0.0000, 0.0252, 0.0000, 0.0616, 0.0000, 0.0304, 0.0000, 0.0000, 0.0338,\n",
       "         0.0609, 0.0064, 0.0761, 0.0408, 0.0000, 0.0000, 0.0105, 0.0000, 0.0000,\n",
       "         0.0000, 0.0000, 0.0000, 0.0000, 0.0000, 0.0000]],\n",
       "       grad_fn=<ReluBackward0>)"
      ]
     },
     "execution_count": 848,
     "metadata": {},
     "output_type": "execute_result"
    }
   ],
   "source": [
    "model.infer(['canon eos 20d 8 2 mp', 'nikon eos 20d 8 2 mp'])"
   ]
  },
  {
   "cell_type": "code",
   "execution_count": 849,
   "metadata": {},
   "outputs": [],
   "source": [
    "loss_history_train = []\n",
    "loss_history_val = []"
   ]
  },
  {
   "cell_type": "code",
   "execution_count": 869,
   "metadata": {},
   "outputs": [],
   "source": [
    "opt = optim.Adam(model.parameters(), lr=1e-4, weight_decay=1e-4)\n",
    "scheduler = torch.optim.lr_scheduler.ReduceLROnPlateau(opt, mode='min', patience=3, verbose=True)\n",
    "batch_size= 10\n",
    "epochs = 25"
   ]
  },
  {
   "cell_type": "code",
   "execution_count": 863,
   "metadata": {},
   "outputs": [],
   "source": [
    "def triplet_loss(anchor, pos, neg, margin=0.9):\n",
    "    \"\"\"\n",
    "    Consine similarity for between anchor and positive should be >= 0.8\n",
    "    \n",
    "    Cosine similarity for negative should be < 0.8\n",
    "    \"\"\"\n",
    "    pos_dist = F.cosine_similarity(anchor, pos, dim=1)\n",
    "    neg_dist = F.cosine_similarity(anchor, neg, dim=1)\n",
    "    \n",
    "    loss_pos = torch.clamp(margin-pos_dist, min=0)\n",
    "    loss_neg = torch.clamp(neg_dist-margin, min=0)\n",
    "    return torch.sum(loss_pos + loss_neg)\n",
    "\n",
    "# def triplet_loss(anchor, pos, neg, margin=0.5):\n",
    "#     \"\"\"\n",
    "#         Triplet loss dot product\n",
    "#     \"\"\"\n",
    "    \n",
    "#     pos_dist = torch.norm(anchor-pos, 2, dim=1) \n",
    "#     neg_dist = torch.norm(anchor-neg, 2, dim=1) \n",
    "    \n",
    "#     return torch.sum(torch.clamp(pos_dist-neg_dist+margin, min=0))"
   ]
  },
  {
   "cell_type": "code",
   "execution_count": 864,
   "metadata": {},
   "outputs": [
    {
     "name": "stdout",
     "output_type": "stream",
     "text": [
      "tensor(0.7131, grad_fn=<SumBackward0>)\n"
     ]
    }
   ],
   "source": [
    "for triplet in iter(triplet_iterator(train_dataset, train_class_lookup, train_spec_lookup, batch_size=batch_size)):\n",
    "    embeddings = model(triplet)\n",
    "    anchors = embeddings[0::3]\n",
    "    pos = embeddings[1::3]\n",
    "    ng = embeddings[2::3]\n",
    "    loss = triplet_loss(anchors, pos, ng)\n",
    "    break\n",
    "print(loss)"
   ]
  },
  {
   "cell_type": "markdown",
   "metadata": {},
   "source": [
    "# Train"
   ]
  },
  {
   "cell_type": "code",
   "execution_count": 865,
   "metadata": {},
   "outputs": [
    {
     "data": {
      "text/plain": [
       "186"
      ]
     },
     "execution_count": 865,
     "metadata": {},
     "output_type": "execute_result"
    }
   ],
   "source": [
    "validation_batches = []\n",
    "for i in range(3):\n",
    "    for triplet in iter(triplet_iterator(val_dataset, val_class_lookup, val_spec_lookup, batch_size=2)):\n",
    "        validation_batches.append(triplet)\n",
    "len(validation_batches)"
   ]
  },
  {
   "cell_type": "code",
   "execution_count": 870,
   "metadata": {},
   "outputs": [
    {
     "data": {
      "application/vnd.jupyter.widget-view+json": {
       "model_id": "b7321896716a4bfa889e50211182a842",
       "version_major": 2,
       "version_minor": 0
      },
      "text/html": [
       "<p>Failed to display Jupyter Widget of type <code>HBox</code>.</p>\n",
       "<p>\n",
       "  If you're reading this message in the Jupyter Notebook or JupyterLab Notebook, it may mean\n",
       "  that the widgets JavaScript is still loading. If this message persists, it\n",
       "  likely means that the widgets JavaScript library is either not installed or\n",
       "  not enabled. See the <a href=\"https://ipywidgets.readthedocs.io/en/stable/user_install.html\">Jupyter\n",
       "  Widgets Documentation</a> for setup instructions.\n",
       "</p>\n",
       "<p>\n",
       "  If you're reading this message in another frontend (for example, a static\n",
       "  rendering on GitHub or <a href=\"https://nbviewer.jupyter.org/\">NBViewer</a>),\n",
       "  it may mean that your frontend doesn't currently support widgets.\n",
       "</p>\n"
      ],
      "text/plain": [
       "HBox(children=(IntProgress(value=0, max=25), HTML(value='')))"
      ]
     },
     "metadata": {},
     "output_type": "display_data"
    },
    {
     "name": "stdout",
     "output_type": "stream",
     "text": [
      "Epoch: 1, Training Loss: 0.1996\n",
      "val Loss: 0.1601\n",
      "Epoch: 2, Training Loss: 0.1797\n",
      "val Loss: 0.1618\n",
      "Epoch: 3, Training Loss: 0.1638\n",
      "val Loss: 0.1518\n",
      "Epoch: 4, Training Loss: 0.1721\n",
      "val Loss: 0.1419\n",
      "Epoch: 5, Training Loss: 0.1744\n",
      "val Loss: 0.1497\n",
      "Epoch: 6, Training Loss: 0.1582\n",
      "val Loss: 0.1521\n",
      "Epoch: 7, Training Loss: 0.1619\n",
      "val Loss: 0.1537\n",
      "Epoch: 8, Training Loss: 0.1641\n",
      "val Loss: 0.1487\n",
      "Epoch     7: reducing learning rate of group 0 to 1.0000e-05.\n",
      "Epoch: 9, Training Loss: 0.1532\n",
      "val Loss: 0.1560\n",
      "Epoch: 10, Training Loss: 0.1526\n",
      "val Loss: 0.1576\n",
      "Epoch: 11, Training Loss: 0.1485\n",
      "val Loss: 0.1601\n",
      "Epoch: 12, Training Loss: 0.1452\n",
      "val Loss: 0.1549\n",
      "Epoch    11: reducing learning rate of group 0 to 1.0000e-06.\n",
      "Epoch: 13, Training Loss: 0.1476\n",
      "val Loss: 0.1553\n",
      "Epoch: 14, Training Loss: 0.1568\n",
      "val Loss: 0.1553\n",
      "Epoch: 15, Training Loss: 0.1561\n",
      "val Loss: 0.1557\n",
      "Epoch: 16, Training Loss: 0.1526\n",
      "val Loss: 0.1564\n",
      "Epoch    15: reducing learning rate of group 0 to 1.0000e-07.\n",
      "Epoch: 17, Training Loss: 0.1477\n",
      "val Loss: 0.1564\n",
      "Epoch: 18, Training Loss: 0.1556\n",
      "val Loss: 0.1563\n",
      "Epoch: 19, Training Loss: 0.1554\n",
      "val Loss: 0.1562\n",
      "Epoch: 20, Training Loss: 0.1397\n",
      "val Loss: 0.1562\n",
      "Epoch    19: reducing learning rate of group 0 to 1.0000e-08.\n",
      "Epoch: 21, Training Loss: 0.1539\n",
      "val Loss: 0.1562\n",
      "Epoch: 22, Training Loss: 0.1368\n",
      "val Loss: 0.1562\n"
     ]
    },
    {
     "ename": "KeyboardInterrupt",
     "evalue": "",
     "output_type": "error",
     "traceback": [
      "\u001b[0;31m---------------------------------------------------------------------------\u001b[0m",
      "\u001b[0;31mKeyboardInterrupt\u001b[0m                         Traceback (most recent call last)",
      "\u001b[0;32m<timed exec>\u001b[0m in \u001b[0;36m<module>\u001b[0;34m()\u001b[0m\n",
      "\u001b[0;32m~/anaconda3/lib/python3.6/site-packages/torch/tensor.py\u001b[0m in \u001b[0;36mbackward\u001b[0;34m(self, gradient, retain_graph, create_graph)\u001b[0m\n\u001b[1;32m    148\u001b[0m                 \u001b[0mproducts\u001b[0m\u001b[0;34m.\u001b[0m \u001b[0mDefaults\u001b[0m \u001b[0mto\u001b[0m\u001b[0;31m \u001b[0m\u001b[0;31m`\u001b[0m\u001b[0;31m`\u001b[0m\u001b[0;32mFalse\u001b[0m\u001b[0;31m`\u001b[0m\u001b[0;31m`\u001b[0m\u001b[0;34m.\u001b[0m\u001b[0;34m\u001b[0m\u001b[0;34m\u001b[0m\u001b[0m\n\u001b[1;32m    149\u001b[0m         \"\"\"\n\u001b[0;32m--> 150\u001b[0;31m         \u001b[0mtorch\u001b[0m\u001b[0;34m.\u001b[0m\u001b[0mautograd\u001b[0m\u001b[0;34m.\u001b[0m\u001b[0mbackward\u001b[0m\u001b[0;34m(\u001b[0m\u001b[0mself\u001b[0m\u001b[0;34m,\u001b[0m \u001b[0mgradient\u001b[0m\u001b[0;34m,\u001b[0m \u001b[0mretain_graph\u001b[0m\u001b[0;34m,\u001b[0m \u001b[0mcreate_graph\u001b[0m\u001b[0;34m)\u001b[0m\u001b[0;34m\u001b[0m\u001b[0;34m\u001b[0m\u001b[0m\n\u001b[0m\u001b[1;32m    151\u001b[0m \u001b[0;34m\u001b[0m\u001b[0m\n\u001b[1;32m    152\u001b[0m     \u001b[0;32mdef\u001b[0m \u001b[0mregister_hook\u001b[0m\u001b[0;34m(\u001b[0m\u001b[0mself\u001b[0m\u001b[0;34m,\u001b[0m \u001b[0mhook\u001b[0m\u001b[0;34m)\u001b[0m\u001b[0;34m:\u001b[0m\u001b[0;34m\u001b[0m\u001b[0;34m\u001b[0m\u001b[0m\n",
      "\u001b[0;32m~/anaconda3/lib/python3.6/site-packages/torch/autograd/__init__.py\u001b[0m in \u001b[0;36mbackward\u001b[0;34m(tensors, grad_tensors, retain_graph, create_graph, grad_variables)\u001b[0m\n\u001b[1;32m     97\u001b[0m     Variable._execution_engine.run_backward(\n\u001b[1;32m     98\u001b[0m         \u001b[0mtensors\u001b[0m\u001b[0;34m,\u001b[0m \u001b[0mgrad_tensors\u001b[0m\u001b[0;34m,\u001b[0m \u001b[0mretain_graph\u001b[0m\u001b[0;34m,\u001b[0m \u001b[0mcreate_graph\u001b[0m\u001b[0;34m,\u001b[0m\u001b[0;34m\u001b[0m\u001b[0;34m\u001b[0m\u001b[0m\n\u001b[0;32m---> 99\u001b[0;31m         allow_unreachable=True)  # allow_unreachable flag\n\u001b[0m\u001b[1;32m    100\u001b[0m \u001b[0;34m\u001b[0m\u001b[0m\n\u001b[1;32m    101\u001b[0m \u001b[0;34m\u001b[0m\u001b[0m\n",
      "\u001b[0;31mKeyboardInterrupt\u001b[0m: "
     ]
    }
   ],
   "source": [
    "%%time\n",
    "for epoch in tqdm(range(1, epochs + 1)):\n",
    "    model.train()\n",
    "    \n",
    "    running_loss = 0\n",
    "    count_triplets = 0\n",
    "    \n",
    "    for triplet in iter(triplet_iterator(train_dataset, train_class_lookup, train_spec_lookup, batch_size=batch_size)):\n",
    "        opt.zero_grad()\n",
    "        \n",
    "        embeddings = model(triplet)\n",
    "        anchors = embeddings[0::3]\n",
    "        pos = embeddings[1::3]\n",
    "        ng = embeddings[2::3]\n",
    "        loss = triplet_loss(anchors, pos, ng)\n",
    "        loss.backward()\n",
    "        opt.step()\n",
    "        \n",
    "        running_loss += loss.data\n",
    "        count_triplets +=1 \n",
    "\n",
    "    \n",
    "    epoch_loss = running_loss / count_triplets\n",
    "    loss_history_train.append(epoch_loss)\n",
    "    print('Epoch: {}, Training Loss: {:.4f}'.format(epoch, epoch_loss))\n",
    "    \n",
    "    model.eval()\n",
    "    val_loss = 0\n",
    "    count_val = 0\n",
    "    with torch.no_grad():\n",
    "        for triplet in validation_batches:\n",
    "            embeddings = model(triplet)\n",
    "            anchors = embeddings[0::3]\n",
    "            pos = embeddings[1::3]\n",
    "            ng = embeddings[2::3]\n",
    "            loss = triplet_loss(anchors, pos, ng)\n",
    "            val_loss += loss.data\n",
    "            count_val +=1 \n",
    "        \n",
    "        epoch_val_loss = val_loss/count_val\n",
    "        loss_history_val.append(epoch_val_loss)\n",
    "        print('val Loss: {:.4f}'.format(epoch_val_loss))\n",
    "        \n",
    "    scheduler.step(epoch_val_loss)\n",
    "    \n",
    "model.eval()"
   ]
  },
  {
   "cell_type": "code",
   "execution_count": 871,
   "metadata": {},
   "outputs": [
    {
     "data": {
      "image/png": "[encoded data removed]",
      "text/plain": [
       "<Figure size 720x504 with 1 Axes>"
      ]
     },
     "metadata": {},
     "output_type": "display_data"
    }
   ],
   "source": [
    "plt.figure()\n",
    "plt.plot(loss_history_train, label='train_loss')\n",
    "plt.plot(loss_history_val, label='val_loss')\n",
    "plt.legend()\n",
    "plt.show()"
   ]
  },
  {
   "cell_type": "code",
   "execution_count": 872,
   "metadata": {},
   "outputs": [
    {
     "data": {
      "text/plain": [
       "EmbeddingBagEmbedder(\n",
       "  (relu): ReLU()\n",
       "  (embedding_bag): EmbeddingBag(15407, 300, mode=mean)\n",
       "  (linear_layers): ModuleList(\n",
       "    (0): Sequential(\n",
       "      (0): Linear(in_features=300, out_features=300, bias=True)\n",
       "      (1): Dropout(p=0.05, inplace=False)\n",
       "    )\n",
       "    (1): Sequential(\n",
       "      (0): Linear(in_features=300, out_features=300, bias=True)\n",
       "      (1): Dropout(p=0.05, inplace=False)\n",
       "    )\n",
       "    (2): Sequential(\n",
       "      (0): Linear(in_features=300, out_features=300, bias=True)\n",
       "      (1): Dropout(p=0.05, inplace=False)\n",
       "    )\n",
       "    (3): Sequential(\n",
       "      (0): Linear(in_features=300, out_features=300, bias=True)\n",
       "      (1): Dropout(p=0.05, inplace=False)\n",
       "    )\n",
       "    (4): Sequential(\n",
       "      (0): Linear(in_features=300, out_features=150, bias=True)\n",
       "    )\n",
       "  )\n",
       ")"
      ]
     },
     "execution_count": 872,
     "metadata": {},
     "output_type": "execute_result"
    }
   ],
   "source": [
    "model.eval()"
   ]
  },
  {
   "cell_type": "markdown",
   "metadata": {},
   "source": [
    "# Produce train embeddings and TSNE"
   ]
  },
  {
   "cell_type": "code",
   "execution_count": 873,
   "metadata": {},
   "outputs": [],
   "source": [
    "from sklearn.preprocessing import normalize"
   ]
  },
  {
   "cell_type": "code",
   "execution_count": 881,
   "metadata": {},
   "outputs": [],
   "source": [
    "def draw_tsne(model, dataset, df, label=''):\n",
    "    embeddings = []\n",
    "    for ex in tqdm(dataset):\n",
    "        emb = np.array(model(model.text_field.numericalize([ex.all_text_stem]))[0].data)\n",
    "        embeddings.append(emb)\n",
    "    embeddings = normalize(np.array(embeddings))\n",
    "    \n",
    "    tsne = TSNE(\n",
    "        n_components=2,\n",
    "        metric='cosine',\n",
    "        n_jobs=3,\n",
    "        verbose=True,\n",
    "    )\n",
    "    \n",
    "    emb_ld = tsne.fit_transform(embeddings)\n",
    "    \n",
    "    labelled_spec_classes = df.class_\n",
    "    labelled_spec_classes = labelled_spec_classes.reset_index()\n",
    "    \n",
    "    emb_tdf = pd.DataFrame(emb_ld)\n",
    "    emb_tdf = pd.concat([emb_tdf, labelled_spec_classes], axis=1, ignore_index=True)\n",
    "    emb_tdf.columns = ['x', 'y', 'original_index', 'class_']\n",
    "\n",
    "    \n",
    "    \n",
    "    plt.figure(figsize=(15, 10))\n",
    "    plt.title(f'TSNE {label}')\n",
    "    for class_ in emb_tdf['class_'].sort_values().unique():\n",
    "        class_ld_df = emb_tdf[emb_tdf.class_==class_]\n",
    "        plt.scatter(class_ld_df.iloc[:, 0], class_ld_df.iloc[:, 1], label=f'class {class_}')\n",
    "\n",
    "    plt.legend()\n",
    "    plt.show()"
   ]
  },
  {
   "cell_type": "code",
   "execution_count": 882,
   "metadata": {},
   "outputs": [
    {
     "data": {
      "application/vnd.jupyter.widget-view+json": {
       "model_id": "2feea237ab984cadb27ec8e2b1057442",
       "version_major": 2,
       "version_minor": 0
      },
      "text/html": [
       "<p>Failed to display Jupyter Widget of type <code>HBox</code>.</p>\n",
       "<p>\n",
       "  If you're reading this message in the Jupyter Notebook or JupyterLab Notebook, it may mean\n",
       "  that the widgets JavaScript is still loading. If this message persists, it\n",
       "  likely means that the widgets JavaScript library is either not installed or\n",
       "  not enabled. See the <a href=\"https://ipywidgets.readthedocs.io/en/stable/user_install.html\">Jupyter\n",
       "  Widgets Documentation</a> for setup instructions.\n",
       "</p>\n",
       "<p>\n",
       "  If you're reading this message in another frontend (for example, a static\n",
       "  rendering on GitHub or <a href=\"https://nbviewer.jupyter.org/\">NBViewer</a>),\n",
       "  it may mean that your frontend doesn't currently support widgets.\n",
       "</p>\n"
      ],
      "text/plain": [
       "HBox(children=(IntProgress(value=0, max=784), HTML(value='')))"
      ]
     },
     "metadata": {},
     "output_type": "display_data"
    },
    {
     "data": {
      "image/png": "[encoded data removed]",
      "text/plain": [
       "<Figure size 1080x720 with 1 Axes>"
      ]
     },
     "metadata": {},
     "output_type": "display_data"
    }
   ],
   "source": [
    "draw_tsne(model, train_dataset, labelled_specs_train, label ='- train')"
   ]
  },
  {
   "cell_type": "code",
   "execution_count": 883,
   "metadata": {},
   "outputs": [
    {
     "data": {
      "application/vnd.jupyter.widget-view+json": {
       "model_id": "7ba67217c1e64f8282760162b3a34e9b",
       "version_major": 2,
       "version_minor": 0
      },
      "text/html": [
       "<p>Failed to display Jupyter Widget of type <code>HBox</code>.</p>\n",
       "<p>\n",
       "  If you're reading this message in the Jupyter Notebook or JupyterLab Notebook, it may mean\n",
       "  that the widgets JavaScript is still loading. If this message persists, it\n",
       "  likely means that the widgets JavaScript library is either not installed or\n",
       "  not enabled. See the <a href=\"https://ipywidgets.readthedocs.io/en/stable/user_install.html\">Jupyter\n",
       "  Widgets Documentation</a> for setup instructions.\n",
       "</p>\n",
       "<p>\n",
       "  If you're reading this message in another frontend (for example, a static\n",
       "  rendering on GitHub or <a href=\"https://nbviewer.jupyter.org/\">NBViewer</a>),\n",
       "  it may mean that your frontend doesn't currently support widgets.\n",
       "</p>\n"
      ],
      "text/plain": [
       "HBox(children=(IntProgress(value=0, max=124), HTML(value='')))"
      ]
     },
     "metadata": {},
     "output_type": "display_data"
    },
    {
     "data": {
      "image/png": "[encoded data removed]",
      "text/plain": [
       "<Figure size 1080x720 with 1 Axes>"
      ]
     },
     "metadata": {},
     "output_type": "display_data"
    }
   ],
   "source": [
    "draw_tsne(model, val_dataset, labelled_specs_val, label ='- val')"
   ]
  },
  {
   "cell_type": "markdown",
   "metadata": {},
   "source": [
    "# Produce whole dataset embeddings"
   ]
  },
  {
   "cell_type": "code",
   "execution_count": 884,
   "metadata": {},
   "outputs": [
    {
     "data": {
      "application/vnd.jupyter.widget-view+json": {
       "model_id": "d4a9c3011c9446f3b6c6df0df93571dc",
       "version_major": 2,
       "version_minor": 0
      },
      "text/html": [
       "<p>Failed to display Jupyter Widget of type <code>HBox</code>.</p>\n",
       "<p>\n",
       "  If you're reading this message in the Jupyter Notebook or JupyterLab Notebook, it may mean\n",
       "  that the widgets JavaScript is still loading. If this message persists, it\n",
       "  likely means that the widgets JavaScript library is either not installed or\n",
       "  not enabled. See the <a href=\"https://ipywidgets.readthedocs.io/en/stable/user_install.html\">Jupyter\n",
       "  Widgets Documentation</a> for setup instructions.\n",
       "</p>\n",
       "<p>\n",
       "  If you're reading this message in another frontend (for example, a static\n",
       "  rendering on GitHub or <a href=\"https://nbviewer.jupyter.org/\">NBViewer</a>),\n",
       "  it may mean that your frontend doesn't currently support widgets.\n",
       "</p>\n"
      ],
      "text/plain": [
       "HBox(children=(IntProgress(value=0, max=29771), HTML(value='')))"
      ]
     },
     "metadata": {},
     "output_type": "display_data"
    }
   ],
   "source": [
    "embeddings = []\n",
    "for ex in tqdm(full_dataset):\n",
    "    emb = np.array(model(model.text_field.numericalize([ex.all_text_stem]))[0].data)\n",
    "    embeddings.append(emb)\n",
    "embeddings = normalize(np.array(embeddings))"
   ]
  },
  {
   "cell_type": "code",
   "execution_count": 885,
   "metadata": {},
   "outputs": [],
   "source": [
    "emb_df = pd.DataFrame(embeddings)\n",
    "emb_df.to_csv('../data/processed/embeddings.csv', index=None)"
   ]
  },
  {
   "cell_type": "code",
   "execution_count": 886,
   "metadata": {},
   "outputs": [],
   "source": [
    "emb_df = pd.read_csv('../data/processed/embeddings.csv')"
   ]
  },
  {
   "cell_type": "code",
   "execution_count": 887,
   "metadata": {},
   "outputs": [],
   "source": [
    "emb = Embedder(model, specs_df.spec_id.values, specs_df.all_text_stem.values)"
   ]
  },
  {
   "cell_type": "code",
   "execution_count": null,
   "metadata": {},
   "outputs": [],
   "source": [
    "emb.fit(emb_df.values)"
   ]
  },
  {
   "cell_type": "code",
   "execution_count": null,
   "metadata": {},
   "outputs": [],
   "source": [
    "emb.lookup_texts('canon eo 20d')"
   ]
  },
  {
   "cell_type": "code",
   "execution_count": null,
   "metadata": {},
   "outputs": [],
   "source": [
    "emb.save('../models/embedder')"
   ]
  },
  {
   "cell_type": "code",
   "execution_count": null,
   "metadata": {},
   "outputs": [],
   "source": []
  }
 ],
 "metadata": {
  "kernelspec": {
   "display_name": "Python 3",
   "language": "python",
   "name": "python3"
  },
  "language_info": {
   "codemirror_mode": {
    "name": "ipython",
    "version": 3
   },
   "file_extension": ".py",
   "mimetype": "text/x-python",
   "name": "python",
   "nbconvert_exporter": "python",
   "pygments_lexer": "ipython3",
   "version": "3.6.7"
  }
 },
 "nbformat": 4,
 "nbformat_minor": 4
}
