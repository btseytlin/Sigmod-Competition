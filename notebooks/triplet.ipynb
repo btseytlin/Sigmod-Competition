{
 "cells": [
  {
   "cell_type": "code",
   "execution_count": 35,
   "metadata": {},
   "outputs": [],
   "source": [
    "import os\n",
    "import sys\n",
    "import random\n",
    "import json\n",
    "import collections\n",
    "import itertools\n",
    "\n",
    "import pandas as pd\n",
    "import numpy as np\n",
    "import scipy        \n",
    "import statsmodels\n",
    "from sklearn.model_selection import train_test_split\n",
    "\n",
    "from tqdm import trange, tqdm_notebook as tqdm\n",
    "from matplotlib import pyplot as plt\n",
    "import seaborn as sns\n",
    "\n",
    "import pickle\n",
    "import torch\n",
    "import torchtext\n",
    "import torch.nn as nn\n",
    "import torch.nn.functional as F\n",
    "from torch.utils.data import DataLoader\n",
    "import time\n",
    "import torch.optim as optim\n",
    "from torchtext.data import Field\n",
    "from torchtext.data import Dataset, TabularDataset\n",
    "from torchtext.data import Iterator\n",
    "\n",
    "from annoy import AnnoyIndex\n",
    "\n",
    "from MulticoreTSNE import MulticoreTSNE as TSNE\n",
    "\n",
    "%matplotlib inline\n",
    "\n",
    "pd.options.display.max_columns = 999\n",
    "\n",
    "sns.set()\n",
    "\n",
    "plt.rcParams[\"figure.figsize\"] = (10,7)"
   ]
  },
  {
   "cell_type": "code",
   "execution_count": 2,
   "metadata": {},
   "outputs": [
    {
     "data": {
      "text/plain": [
       "'/home/boris/study/UT study/ACM Sigmod/sigmod/notebooks'"
      ]
     },
     "execution_count": 2,
     "metadata": {},
     "output_type": "execute_result"
    }
   ],
   "source": [
    "os.getcwd()"
   ]
  },
  {
   "cell_type": "code",
   "execution_count": 3,
   "metadata": {},
   "outputs": [],
   "source": [
    "%load_ext autoreload\n",
    "%autoreload 2"
   ]
  },
  {
   "cell_type": "code",
   "execution_count": 4,
   "metadata": {},
   "outputs": [],
   "source": [
    "from sigmod_src.utils import read_json, pprint_json, path_from_spec_id, get_vector_for_spec_id\n",
    "from sigmod_src.data.embedding import Embedder, LSTMEmbedder, get_fields"
   ]
  },
  {
   "cell_type": "markdown",
   "metadata": {},
   "source": [
    "# Load data"
   ]
  },
  {
   "cell_type": "code",
   "execution_count": 5,
   "metadata": {},
   "outputs": [],
   "source": [
    "LABELS_PATH = '../data/raw/sigmod_medium_labelled_dataset.csv'"
   ]
  },
  {
   "cell_type": "code",
   "execution_count": 6,
   "metadata": {},
   "outputs": [],
   "source": [
    "labels_df = pd.read_csv(LABELS_PATH)"
   ]
  },
  {
   "cell_type": "code",
   "execution_count": 7,
   "metadata": {},
   "outputs": [
    {
     "data": {
      "text/plain": [
       "(46665, 3)"
      ]
     },
     "execution_count": 7,
     "metadata": {},
     "output_type": "execute_result"
    }
   ],
   "source": [
    "labels_df.shape"
   ]
  },
  {
   "cell_type": "code",
   "execution_count": 8,
   "metadata": {},
   "outputs": [
    {
     "data": {
      "text/html": [
       "<div>\n",
       "<style scoped>\n",
       "    .dataframe tbody tr th:only-of-type {\n",
       "        vertical-align: middle;\n",
       "    }\n",
       "\n",
       "    .dataframe tbody tr th {\n",
       "        vertical-align: top;\n",
       "    }\n",
       "\n",
       "    .dataframe thead th {\n",
       "        text-align: right;\n",
       "    }\n",
       "</style>\n",
       "<table border=\"1\" class=\"dataframe\">\n",
       "  <thead>\n",
       "    <tr style=\"text-align: right;\">\n",
       "      <th></th>\n",
       "      <th>left_spec_id</th>\n",
       "      <th>right_spec_id</th>\n",
       "      <th>label</th>\n",
       "    </tr>\n",
       "  </thead>\n",
       "  <tbody>\n",
       "    <tr>\n",
       "      <th>0</th>\n",
       "      <td>www.garricks.com.au//31</td>\n",
       "      <td>www.ebay.com//53278</td>\n",
       "      <td>1</td>\n",
       "    </tr>\n",
       "    <tr>\n",
       "      <th>1</th>\n",
       "      <td>www.ebay.com//58782</td>\n",
       "      <td>www.ebay.com//24817</td>\n",
       "      <td>0</td>\n",
       "    </tr>\n",
       "    <tr>\n",
       "      <th>2</th>\n",
       "      <td>www.ebay.com//58782</td>\n",
       "      <td>www.ebay.com//43019</td>\n",
       "      <td>0</td>\n",
       "    </tr>\n",
       "    <tr>\n",
       "      <th>3</th>\n",
       "      <td>www.ebay.com//42055</td>\n",
       "      <td>www.ebay.com//54403</td>\n",
       "      <td>0</td>\n",
       "    </tr>\n",
       "    <tr>\n",
       "      <th>4</th>\n",
       "      <td>www.ebay.com//44280</td>\n",
       "      <td>buy.net//6145</td>\n",
       "      <td>0</td>\n",
       "    </tr>\n",
       "  </tbody>\n",
       "</table>\n",
       "</div>"
      ],
      "text/plain": [
       "              left_spec_id        right_spec_id  label\n",
       "0  www.garricks.com.au//31  www.ebay.com//53278      1\n",
       "1      www.ebay.com//58782  www.ebay.com//24817      0\n",
       "2      www.ebay.com//58782  www.ebay.com//43019      0\n",
       "3      www.ebay.com//42055  www.ebay.com//54403      0\n",
       "4      www.ebay.com//44280        buy.net//6145      0"
      ]
     },
     "execution_count": 8,
     "metadata": {},
     "output_type": "execute_result"
    }
   ],
   "source": [
    "labels_df.head()"
   ]
  },
  {
   "cell_type": "code",
   "execution_count": 9,
   "metadata": {},
   "outputs": [
    {
     "name": "stdout",
     "output_type": "stream",
     "text": [
      "<class 'pandas.core.frame.DataFrame'>\n",
      "RangeIndex: 46665 entries, 0 to 46664\n",
      "Data columns (total 3 columns):\n",
      "left_spec_id     46665 non-null object\n",
      "right_spec_id    46665 non-null object\n",
      "label            46665 non-null int64\n",
      "dtypes: int64(1), object(2)\n",
      "memory usage: 1.1+ MB\n"
     ]
    }
   ],
   "source": [
    "labels_df.info()"
   ]
  },
  {
   "cell_type": "markdown",
   "metadata": {},
   "source": [
    "# Load specs df"
   ]
  },
  {
   "cell_type": "code",
   "execution_count": 10,
   "metadata": {},
   "outputs": [
    {
     "data": {
      "text/plain": [
       "(29771, 5)"
      ]
     },
     "execution_count": 10,
     "metadata": {},
     "output_type": "execute_result"
    }
   ],
   "source": [
    "specs_df = pd.read_csv('../data/processed/specs_preprocessed.csv')\n",
    "# specs_df.index=  specs_df.spec_id\n",
    "specs_df.shape"
   ]
  },
  {
   "cell_type": "code",
   "execution_count": 11,
   "metadata": {},
   "outputs": [
    {
     "data": {
      "text/html": [
       "<div>\n",
       "<style scoped>\n",
       "    .dataframe tbody tr th:only-of-type {\n",
       "        vertical-align: middle;\n",
       "    }\n",
       "\n",
       "    .dataframe tbody tr th {\n",
       "        vertical-align: top;\n",
       "    }\n",
       "\n",
       "    .dataframe thead th {\n",
       "        text-align: right;\n",
       "    }\n",
       "</style>\n",
       "<table border=\"1\" class=\"dataframe\">\n",
       "  <thead>\n",
       "    <tr style=\"text-align: right;\">\n",
       "      <th></th>\n",
       "      <th>spec_id</th>\n",
       "      <th>page_title</th>\n",
       "      <th>page_title_stem</th>\n",
       "      <th>brand</th>\n",
       "      <th>site</th>\n",
       "    </tr>\n",
       "  </thead>\n",
       "  <tbody>\n",
       "  </tbody>\n",
       "</table>\n",
       "</div>"
      ],
      "text/plain": [
       "Empty DataFrame\n",
       "Columns: [spec_id, page_title, page_title_stem, brand, site]\n",
       "Index: []"
      ]
     },
     "execution_count": 11,
     "metadata": {},
     "output_type": "execute_result"
    }
   ],
   "source": [
    "specs_df[specs_df.page_title.isnull()]"
   ]
  },
  {
   "cell_type": "code",
   "execution_count": 12,
   "metadata": {},
   "outputs": [
    {
     "data": {
      "text/html": [
       "<div>\n",
       "<style scoped>\n",
       "    .dataframe tbody tr th:only-of-type {\n",
       "        vertical-align: middle;\n",
       "    }\n",
       "\n",
       "    .dataframe tbody tr th {\n",
       "        vertical-align: top;\n",
       "    }\n",
       "\n",
       "    .dataframe thead th {\n",
       "        text-align: right;\n",
       "    }\n",
       "</style>\n",
       "<table border=\"1\" class=\"dataframe\">\n",
       "  <thead>\n",
       "    <tr style=\"text-align: right;\">\n",
       "      <th></th>\n",
       "      <th>spec_id</th>\n",
       "      <th>page_title</th>\n",
       "      <th>page_title_stem</th>\n",
       "      <th>brand</th>\n",
       "      <th>site</th>\n",
       "    </tr>\n",
       "  </thead>\n",
       "  <tbody>\n",
       "    <tr>\n",
       "      <th>0</th>\n",
       "      <td>www.ebay.com//57656</td>\n",
       "      <td>canon powershot elph 110 hs 16 1 mp</td>\n",
       "      <td>canon powershot elph 110 hs 16 1 mp</td>\n",
       "      <td>canon</td>\n",
       "      <td>www.ebay.com</td>\n",
       "    </tr>\n",
       "    <tr>\n",
       "      <th>1</th>\n",
       "      <td>www.ebay.com//60583</td>\n",
       "      <td>canon rebel 2000 35 mm great condition case</td>\n",
       "      <td>canon rebel 2000 35 mm great condit case</td>\n",
       "      <td>canon</td>\n",
       "      <td>www.ebay.com</td>\n",
       "    </tr>\n",
       "    <tr>\n",
       "      <th>2</th>\n",
       "      <td>www.ebay.com//60440</td>\n",
       "      <td>canon eos rebel t3i 18 55mm</td>\n",
       "      <td>canon eo rebel t3i 18 55mm</td>\n",
       "      <td>canon</td>\n",
       "      <td>www.ebay.com</td>\n",
       "    </tr>\n",
       "    <tr>\n",
       "      <th>3</th>\n",
       "      <td>www.ebay.com//24139</td>\n",
       "      <td>ge c1033 10 1 mp 3x zoom 2</td>\n",
       "      <td>ge c1033 10 1 mp 3x zoom 2</td>\n",
       "      <td>ge</td>\n",
       "      <td>www.ebay.com</td>\n",
       "    </tr>\n",
       "    <tr>\n",
       "      <th>4</th>\n",
       "      <td>www.ebay.com//54903</td>\n",
       "      <td>vivitar clip shot 1 1 mp</td>\n",
       "      <td>vivitar clip shot 1 1 mp</td>\n",
       "      <td>vivitar</td>\n",
       "      <td>www.ebay.com</td>\n",
       "    </tr>\n",
       "  </tbody>\n",
       "</table>\n",
       "</div>"
      ],
      "text/plain": [
       "               spec_id                                   page_title  \\\n",
       "0  www.ebay.com//57656          canon powershot elph 110 hs 16 1 mp   \n",
       "1  www.ebay.com//60583  canon rebel 2000 35 mm great condition case   \n",
       "2  www.ebay.com//60440                  canon eos rebel t3i 18 55mm   \n",
       "3  www.ebay.com//24139                   ge c1033 10 1 mp 3x zoom 2   \n",
       "4  www.ebay.com//54903                     vivitar clip shot 1 1 mp   \n",
       "\n",
       "                            page_title_stem    brand          site  \n",
       "0       canon powershot elph 110 hs 16 1 mp    canon  www.ebay.com  \n",
       "1  canon rebel 2000 35 mm great condit case    canon  www.ebay.com  \n",
       "2                canon eo rebel t3i 18 55mm    canon  www.ebay.com  \n",
       "3                ge c1033 10 1 mp 3x zoom 2       ge  www.ebay.com  \n",
       "4                  vivitar clip shot 1 1 mp  vivitar  www.ebay.com  "
      ]
     },
     "execution_count": 12,
     "metadata": {},
     "output_type": "execute_result"
    }
   ],
   "source": [
    "specs_df.head()"
   ]
  },
  {
   "cell_type": "markdown",
   "metadata": {},
   "source": [
    "# Classes df"
   ]
  },
  {
   "cell_type": "code",
   "execution_count": 13,
   "metadata": {},
   "outputs": [
    {
     "data": {
      "text/html": [
       "<div>\n",
       "<style scoped>\n",
       "    .dataframe tbody tr th:only-of-type {\n",
       "        vertical-align: middle;\n",
       "    }\n",
       "\n",
       "    .dataframe tbody tr th {\n",
       "        vertical-align: top;\n",
       "    }\n",
       "\n",
       "    .dataframe thead th {\n",
       "        text-align: right;\n",
       "    }\n",
       "</style>\n",
       "<table border=\"1\" class=\"dataframe\">\n",
       "  <thead>\n",
       "    <tr style=\"text-align: right;\">\n",
       "      <th></th>\n",
       "      <th>spec_id</th>\n",
       "      <th>class_</th>\n",
       "    </tr>\n",
       "  </thead>\n",
       "  <tbody>\n",
       "    <tr>\n",
       "      <th>0</th>\n",
       "      <td>buy.net//5641</td>\n",
       "      <td>0</td>\n",
       "    </tr>\n",
       "    <tr>\n",
       "      <th>1</th>\n",
       "      <td>www.ebay.com//58588</td>\n",
       "      <td>0</td>\n",
       "    </tr>\n",
       "    <tr>\n",
       "      <th>2</th>\n",
       "      <td>www.gosale.com//849</td>\n",
       "      <td>0</td>\n",
       "    </tr>\n",
       "    <tr>\n",
       "      <th>3</th>\n",
       "      <td>www.price-hunt.com//9794</td>\n",
       "      <td>0</td>\n",
       "    </tr>\n",
       "    <tr>\n",
       "      <th>4</th>\n",
       "      <td>buy.net//5698</td>\n",
       "      <td>1</td>\n",
       "    </tr>\n",
       "  </tbody>\n",
       "</table>\n",
       "</div>"
      ],
      "text/plain": [
       "                    spec_id  class_\n",
       "0             buy.net//5641       0\n",
       "1       www.ebay.com//58588       0\n",
       "2       www.gosale.com//849       0\n",
       "3  www.price-hunt.com//9794       0\n",
       "4             buy.net//5698       1"
      ]
     },
     "execution_count": 13,
     "metadata": {},
     "output_type": "execute_result"
    }
   ],
   "source": [
    "classes_df = pd.read_csv('../data/interim/classes.csv')\n",
    "# classes_df.index = classes_df.spec_id\n",
    "classes_df.head()"
   ]
  },
  {
   "cell_type": "markdown",
   "metadata": {},
   "source": [
    "## Add classes to specs"
   ]
  },
  {
   "cell_type": "code",
   "execution_count": 14,
   "metadata": {},
   "outputs": [
    {
     "data": {
      "text/html": [
       "<div>\n",
       "<style scoped>\n",
       "    .dataframe tbody tr th:only-of-type {\n",
       "        vertical-align: middle;\n",
       "    }\n",
       "\n",
       "    .dataframe tbody tr th {\n",
       "        vertical-align: top;\n",
       "    }\n",
       "\n",
       "    .dataframe thead th {\n",
       "        text-align: right;\n",
       "    }\n",
       "</style>\n",
       "<table border=\"1\" class=\"dataframe\">\n",
       "  <thead>\n",
       "    <tr style=\"text-align: right;\">\n",
       "      <th></th>\n",
       "      <th>spec_id</th>\n",
       "      <th>page_title</th>\n",
       "      <th>page_title_stem</th>\n",
       "      <th>brand</th>\n",
       "      <th>site</th>\n",
       "      <th>class_</th>\n",
       "    </tr>\n",
       "  </thead>\n",
       "  <tbody>\n",
       "    <tr>\n",
       "      <th>0</th>\n",
       "      <td>www.ebay.com//57656</td>\n",
       "      <td>canon powershot elph 110 hs 16 1 mp</td>\n",
       "      <td>canon powershot elph 110 hs 16 1 mp</td>\n",
       "      <td>canon</td>\n",
       "      <td>www.ebay.com</td>\n",
       "      <td>NaN</td>\n",
       "    </tr>\n",
       "    <tr>\n",
       "      <th>1</th>\n",
       "      <td>www.ebay.com//60583</td>\n",
       "      <td>canon rebel 2000 35 mm great condition case</td>\n",
       "      <td>canon rebel 2000 35 mm great condit case</td>\n",
       "      <td>canon</td>\n",
       "      <td>www.ebay.com</td>\n",
       "      <td>NaN</td>\n",
       "    </tr>\n",
       "    <tr>\n",
       "      <th>2</th>\n",
       "      <td>www.ebay.com//60440</td>\n",
       "      <td>canon eos rebel t3i 18 55mm</td>\n",
       "      <td>canon eo rebel t3i 18 55mm</td>\n",
       "      <td>canon</td>\n",
       "      <td>www.ebay.com</td>\n",
       "      <td>NaN</td>\n",
       "    </tr>\n",
       "    <tr>\n",
       "      <th>3</th>\n",
       "      <td>www.ebay.com//24139</td>\n",
       "      <td>ge c1033 10 1 mp 3x zoom 2</td>\n",
       "      <td>ge c1033 10 1 mp 3x zoom 2</td>\n",
       "      <td>ge</td>\n",
       "      <td>www.ebay.com</td>\n",
       "      <td>NaN</td>\n",
       "    </tr>\n",
       "    <tr>\n",
       "      <th>4</th>\n",
       "      <td>www.ebay.com//54903</td>\n",
       "      <td>vivitar clip shot 1 1 mp</td>\n",
       "      <td>vivitar clip shot 1 1 mp</td>\n",
       "      <td>vivitar</td>\n",
       "      <td>www.ebay.com</td>\n",
       "      <td>NaN</td>\n",
       "    </tr>\n",
       "  </tbody>\n",
       "</table>\n",
       "</div>"
      ],
      "text/plain": [
       "               spec_id                                   page_title  \\\n",
       "0  www.ebay.com//57656          canon powershot elph 110 hs 16 1 mp   \n",
       "1  www.ebay.com//60583  canon rebel 2000 35 mm great condition case   \n",
       "2  www.ebay.com//60440                  canon eos rebel t3i 18 55mm   \n",
       "3  www.ebay.com//24139                   ge c1033 10 1 mp 3x zoom 2   \n",
       "4  www.ebay.com//54903                     vivitar clip shot 1 1 mp   \n",
       "\n",
       "                            page_title_stem    brand          site  class_  \n",
       "0       canon powershot elph 110 hs 16 1 mp    canon  www.ebay.com     NaN  \n",
       "1  canon rebel 2000 35 mm great condit case    canon  www.ebay.com     NaN  \n",
       "2                canon eo rebel t3i 18 55mm    canon  www.ebay.com     NaN  \n",
       "3                ge c1033 10 1 mp 3x zoom 2       ge  www.ebay.com     NaN  \n",
       "4                  vivitar clip shot 1 1 mp  vivitar  www.ebay.com     NaN  "
      ]
     },
     "execution_count": 14,
     "metadata": {},
     "output_type": "execute_result"
    }
   ],
   "source": [
    "specs_df = specs_df.merge(classes_df, how='left')\n",
    "specs_df.head()"
   ]
  },
  {
   "cell_type": "code",
   "execution_count": 15,
   "metadata": {},
   "outputs": [
    {
     "data": {
      "text/html": [
       "<div>\n",
       "<style scoped>\n",
       "    .dataframe tbody tr th:only-of-type {\n",
       "        vertical-align: middle;\n",
       "    }\n",
       "\n",
       "    .dataframe tbody tr th {\n",
       "        vertical-align: top;\n",
       "    }\n",
       "\n",
       "    .dataframe thead th {\n",
       "        text-align: right;\n",
       "    }\n",
       "</style>\n",
       "<table border=\"1\" class=\"dataframe\">\n",
       "  <thead>\n",
       "    <tr style=\"text-align: right;\">\n",
       "      <th></th>\n",
       "      <th>spec_id</th>\n",
       "      <th>page_title</th>\n",
       "      <th>page_title_stem</th>\n",
       "      <th>brand</th>\n",
       "      <th>site</th>\n",
       "      <th>class_</th>\n",
       "    </tr>\n",
       "  </thead>\n",
       "  <tbody>\n",
       "    <tr>\n",
       "      <th>1476</th>\n",
       "      <td>www.ebay.com//59612</td>\n",
       "      <td>excellent nikon d4 body 16 2 mp fx free</td>\n",
       "      <td>excel nikon d4 bodi 16 2 mp fx free</td>\n",
       "      <td>nikon</td>\n",
       "      <td>www.ebay.com</td>\n",
       "      <td>0.0</td>\n",
       "    </tr>\n",
       "    <tr>\n",
       "      <th>10648</th>\n",
       "      <td>www.ebay.com//58588</td>\n",
       "      <td>nikon d4 16 2 mp body</td>\n",
       "      <td>nikon d4 16 2 mp bodi</td>\n",
       "      <td>nikon</td>\n",
       "      <td>www.ebay.com</td>\n",
       "      <td>0.0</td>\n",
       "    </tr>\n",
       "    <tr>\n",
       "      <th>12740</th>\n",
       "      <td>www.ebay.com//54217</td>\n",
       "      <td>near mint nikon d4 body 16 2 mp fx</td>\n",
       "      <td>near mint nikon d4 bodi 16 2 mp fx</td>\n",
       "      <td>nikon</td>\n",
       "      <td>www.ebay.com</td>\n",
       "      <td>0.0</td>\n",
       "    </tr>\n",
       "    <tr>\n",
       "      <th>14506</th>\n",
       "      <td>www.price-hunt.com//9794</td>\n",
       "      <td>nikon d4 best india 2014</td>\n",
       "      <td>nikon d4 best india 2014</td>\n",
       "      <td>nikon</td>\n",
       "      <td>www.price-hunt.com</td>\n",
       "      <td>0.0</td>\n",
       "    </tr>\n",
       "    <tr>\n",
       "      <th>18853</th>\n",
       "      <td>buy.net//5641</td>\n",
       "      <td>nikon d4 body</td>\n",
       "      <td>nikon d4 bodi</td>\n",
       "      <td>nikon</td>\n",
       "      <td>buy.net</td>\n",
       "      <td>0.0</td>\n",
       "    </tr>\n",
       "    <tr>\n",
       "      <th>28521</th>\n",
       "      <td>www.gosale.com//849</td>\n",
       "      <td>nikon d4 cmos fx sale</td>\n",
       "      <td>nikon d4 cmos fx sale</td>\n",
       "      <td>nikon</td>\n",
       "      <td>www.gosale.com</td>\n",
       "      <td>0.0</td>\n",
       "    </tr>\n",
       "  </tbody>\n",
       "</table>\n",
       "</div>"
      ],
      "text/plain": [
       "                        spec_id                               page_title  \\\n",
       "1476        www.ebay.com//59612  excellent nikon d4 body 16 2 mp fx free   \n",
       "10648       www.ebay.com//58588                    nikon d4 16 2 mp body   \n",
       "12740       www.ebay.com//54217       near mint nikon d4 body 16 2 mp fx   \n",
       "14506  www.price-hunt.com//9794                 nikon d4 best india 2014   \n",
       "18853             buy.net//5641                            nikon d4 body   \n",
       "28521       www.gosale.com//849                    nikon d4 cmos fx sale   \n",
       "\n",
       "                           page_title_stem  brand                site  class_  \n",
       "1476   excel nikon d4 bodi 16 2 mp fx free  nikon        www.ebay.com     0.0  \n",
       "10648                nikon d4 16 2 mp bodi  nikon        www.ebay.com     0.0  \n",
       "12740   near mint nikon d4 bodi 16 2 mp fx  nikon        www.ebay.com     0.0  \n",
       "14506             nikon d4 best india 2014  nikon  www.price-hunt.com     0.0  \n",
       "18853                        nikon d4 bodi  nikon             buy.net     0.0  \n",
       "28521                nikon d4 cmos fx sale  nikon      www.gosale.com     0.0  "
      ]
     },
     "execution_count": 15,
     "metadata": {},
     "output_type": "execute_result"
    }
   ],
   "source": [
    "specs_df[specs_df.class_ == 0]"
   ]
  },
  {
   "cell_type": "code",
   "execution_count": 16,
   "metadata": {},
   "outputs": [],
   "source": [
    "labelled_specs_df = specs_df[~specs_df.class_.isnull()]"
   ]
  },
  {
   "cell_type": "code",
   "execution_count": 17,
   "metadata": {},
   "outputs": [],
   "source": [
    "labelled_specs_df.to_csv('../data/interim/specs_df_labelled.csv', index=None)"
   ]
  },
  {
   "cell_type": "markdown",
   "metadata": {},
   "source": [
    "# Triplet generator"
   ]
  },
  {
   "cell_type": "code",
   "execution_count": 18,
   "metadata": {},
   "outputs": [
    {
     "name": "stderr",
     "output_type": "stream",
     "text": [
      "/home/boris/anaconda3/lib/python3.6/site-packages/ipykernel_launcher.py:1: SettingWithCopyWarning: \n",
      "A value is trying to be set on a copy of a slice from a DataFrame.\n",
      "Try using .loc[row_indexer,col_indexer] = value instead\n",
      "\n",
      "See the caveats in the documentation: http://pandas.pydata.org/pandas-docs/stable/indexing.html#indexing-view-versus-copy\n",
      "  \"\"\"Entry point for launching an IPython kernel.\n"
     ]
    },
    {
     "data": {
      "text/html": [
       "<div>\n",
       "<style scoped>\n",
       "    .dataframe tbody tr th:only-of-type {\n",
       "        vertical-align: middle;\n",
       "    }\n",
       "\n",
       "    .dataframe tbody tr th {\n",
       "        vertical-align: top;\n",
       "    }\n",
       "\n",
       "    .dataframe thead th {\n",
       "        text-align: right;\n",
       "    }\n",
       "</style>\n",
       "<table border=\"1\" class=\"dataframe\">\n",
       "  <thead>\n",
       "    <tr style=\"text-align: right;\">\n",
       "      <th></th>\n",
       "      <th>spec_id</th>\n",
       "      <th>page_title</th>\n",
       "      <th>page_title_stem</th>\n",
       "      <th>brand</th>\n",
       "      <th>site</th>\n",
       "      <th>class_</th>\n",
       "      <th>spec_idx</th>\n",
       "    </tr>\n",
       "  </thead>\n",
       "  <tbody>\n",
       "    <tr>\n",
       "      <th>46</th>\n",
       "      <td>www.ebay.com//41954</td>\n",
       "      <td>canon eos 20d 8 2 mp</td>\n",
       "      <td>canon eo 20d 8 2 mp</td>\n",
       "      <td>canon</td>\n",
       "      <td>www.ebay.com</td>\n",
       "      <td>6.0</td>\n",
       "      <td>0</td>\n",
       "    </tr>\n",
       "    <tr>\n",
       "      <th>120</th>\n",
       "      <td>www.ebay.com//48059</td>\n",
       "      <td>canon 20d 8 2 mp 28 80mm</td>\n",
       "      <td>canon 20d 8 2 mp 28 80mm</td>\n",
       "      <td>canon</td>\n",
       "      <td>www.ebay.com</td>\n",
       "      <td>6.0</td>\n",
       "      <td>1</td>\n",
       "    </tr>\n",
       "    <tr>\n",
       "      <th>146</th>\n",
       "      <td>www.ebay.com//47121</td>\n",
       "      <td>nikon d3200 24 2 mp kit</td>\n",
       "      <td>nikon d3200 24 2 mp kit</td>\n",
       "      <td>nikon</td>\n",
       "      <td>www.ebay.com</td>\n",
       "      <td>1.0</td>\n",
       "      <td>2</td>\n",
       "    </tr>\n",
       "    <tr>\n",
       "      <th>245</th>\n",
       "      <td>www.ebay.com//45559</td>\n",
       "      <td>nikon 1 j3 w vr 10 30mm</td>\n",
       "      <td>nikon 1 j3 w vr 10 30mm</td>\n",
       "      <td>nikon</td>\n",
       "      <td>www.ebay.com</td>\n",
       "      <td>7.0</td>\n",
       "      <td>3</td>\n",
       "    </tr>\n",
       "    <tr>\n",
       "      <th>256</th>\n",
       "      <td>www.ebay.com//58782</td>\n",
       "      <td>nikon d80 10 2 mp kit</td>\n",
       "      <td>nikon d80 10 2 mp kit</td>\n",
       "      <td>nikon</td>\n",
       "      <td>www.ebay.com</td>\n",
       "      <td>15.0</td>\n",
       "      <td>4</td>\n",
       "    </tr>\n",
       "  </tbody>\n",
       "</table>\n",
       "</div>"
      ],
      "text/plain": [
       "                 spec_id                page_title           page_title_stem  \\\n",
       "46   www.ebay.com//41954      canon eos 20d 8 2 mp       canon eo 20d 8 2 mp   \n",
       "120  www.ebay.com//48059  canon 20d 8 2 mp 28 80mm  canon 20d 8 2 mp 28 80mm   \n",
       "146  www.ebay.com//47121   nikon d3200 24 2 mp kit   nikon d3200 24 2 mp kit   \n",
       "245  www.ebay.com//45559   nikon 1 j3 w vr 10 30mm   nikon 1 j3 w vr 10 30mm   \n",
       "256  www.ebay.com//58782     nikon d80 10 2 mp kit     nikon d80 10 2 mp kit   \n",
       "\n",
       "     brand          site  class_  spec_idx  \n",
       "46   canon  www.ebay.com     6.0         0  \n",
       "120  canon  www.ebay.com     6.0         1  \n",
       "146  nikon  www.ebay.com     1.0         2  \n",
       "245  nikon  www.ebay.com     7.0         3  \n",
       "256  nikon  www.ebay.com    15.0         4  "
      ]
     },
     "execution_count": 18,
     "metadata": {},
     "output_type": "execute_result"
    }
   ],
   "source": [
    "labelled_specs_df['spec_idx'] = range(len(labelled_specs_df))\n",
    "labelled_specs_df.head()"
   ]
  },
  {
   "cell_type": "code",
   "execution_count": 19,
   "metadata": {},
   "outputs": [],
   "source": [
    "# spec_lookup = labelled_specs_df.groupby(['class_'])['spec_idx'].agg(list).to_dict()\n",
    "# spec_lookup[0]"
   ]
  },
  {
   "cell_type": "code",
   "execution_count": 20,
   "metadata": {},
   "outputs": [],
   "source": [
    "# class_lookup = labelled_specs_df[~labelled_specs_df.class_.isnull()].set_index('spec_idx').to_dict()['class_']\n",
    "# class_lookup[143]"
   ]
  },
  {
   "cell_type": "code",
   "execution_count": 21,
   "metadata": {},
   "outputs": [],
   "source": [
    "# def gen_triplet(anchor_id,\n",
    "#                class_lookup_table,\n",
    "#                id_lookup_table\n",
    "#                ):\n",
    "#     anchor_class = class_lookup_table[anchor_id]\n",
    "#     positive_id = random.choice(list(set(id_lookup_table[anchor_class]).difference(set([anchor_id]))))\n",
    "    \n",
    "#     negative_class = random.choice(list(set(id_lookup_table.keys()).difference([anchor_class])))\n",
    "#     negative_id = random.choice(id_lookup_table[negative_class])\n",
    "#     return (anchor_id, positive_id, negative_id)"
   ]
  },
  {
   "cell_type": "code",
   "execution_count": 22,
   "metadata": {},
   "outputs": [],
   "source": [
    "# labelled_specs_df.iloc[list(gen_triplet(0, class_lookup, spec_lookup))]"
   ]
  },
  {
   "cell_type": "markdown",
   "metadata": {},
   "source": [
    "# Obtain train/val split"
   ]
  },
  {
   "cell_type": "code",
   "execution_count": 517,
   "metadata": {},
   "outputs": [
    {
     "data": {
      "text/plain": [
       "((242, 7), (64, 7))"
      ]
     },
     "execution_count": 517,
     "metadata": {},
     "output_type": "execute_result"
    }
   ],
   "source": [
    "INTERIM_PATH = '../data/interim/'\n",
    "TRAIN_PATH = 'specs_train.csv'\n",
    "VAL_PATH = 'specs_val.csv'\n",
    "\n",
    "classes = labelled_specs_df.class_.unique()\n",
    "val_classes = np.random.choice(classes, 5)\n",
    "\n",
    "labelled_specs_train = labelled_specs_df[~labelled_specs_df.class_.isin(val_classes)]\n",
    "labelled_specs_val = labelled_specs_df[labelled_specs_df.class_.isin(val_classes)]\n",
    "\n",
    "\n",
    "# labelled_specs_train, labelled_specs_val = train_test_split(labelled_specs_df, test_size=0.1)\n",
    "# print(labelled_specs_train.shape, labelled_specs_val.shape)\n",
    "\n",
    "labelled_specs_train.to_csv(os.path.join(INTERIM_PATH, TRAIN_PATH), index=None)\n",
    "labelled_specs_val.to_csv(os.path.join(INTERIM_PATH, VAL_PATH), index=None)\n",
    "\n",
    "labelled_specs_train.shape, labelled_specs_val.shape"
   ]
  },
  {
   "cell_type": "code",
   "execution_count": 518,
   "metadata": {},
   "outputs": [],
   "source": [
    "text_field = get_fields()"
   ]
  },
  {
   "cell_type": "code",
   "execution_count": 519,
   "metadata": {},
   "outputs": [
    {
     "name": "stdout",
     "output_type": "stream",
     "text": [
      "CPU times: user 467 ms, sys: 803 µs, total: 467 ms\n",
      "Wall time: 480 ms\n"
     ]
    }
   ],
   "source": [
    "%%time\n",
    "datafields = [(\"spec_id\", None),\n",
    "              (\"page_title\", None),\n",
    "                 (\"page_title_stem\", text_field),\n",
    "                  (\"brand\", None),\n",
    "                  (\"site\", None),\n",
    "             ('class_', None)]\n",
    "\n",
    "full_dataset = TabularDataset.splits(\n",
    "        path=\"../data/processed/\", # the root directory where the data lies\n",
    "        train='specs_preprocessed.csv',\n",
    "        format='csv',\n",
    "        skip_header=True, # if your csv header has a header, make sure to pass this to ensure it doesn't get proceesed as data!\n",
    "        fields=datafields)\n",
    "\n",
    "train_dataset, val_dataset = TabularDataset.splits(\n",
    "    path=INTERIM_PATH, # the root directory where the data lies\n",
    "    train=TRAIN_PATH,\n",
    "    test=VAL_PATH,\n",
    "    format='csv',\n",
    "    skip_header=True, # if your csv header has a header, make sure to pass this to ensure it doesn't get proceesed as data!\n",
    "    fields=datafields)\n",
    "\n",
    "full_dataset = full_dataset[0]"
   ]
  },
  {
   "cell_type": "code",
   "execution_count": 520,
   "metadata": {},
   "outputs": [],
   "source": [
    "train_labelled_df = pd.read_csv(os.path.join(INTERIM_PATH, TRAIN_PATH))\n",
    "train_labelled_df['spec_idx'] = range(len(train_labelled_df))\n",
    "\n",
    "train_class_lookup = train_labelled_df[~train_labelled_df.class_.isnull()].set_index('spec_idx').to_dict()['class_']\n",
    "train_spec_lookup = train_labelled_df.groupby(['class_'])['spec_idx'].agg(list).to_dict()"
   ]
  },
  {
   "cell_type": "code",
   "execution_count": 521,
   "metadata": {},
   "outputs": [],
   "source": [
    "val_labelled_df = pd.read_csv(os.path.join(INTERIM_PATH, VAL_PATH))\n",
    "val_labelled_df['spec_idx'] = range(len(val_labelled_df))\n",
    "\n",
    "val_class_lookup = val_labelled_df[~val_labelled_df.class_.isnull()].set_index('spec_idx').to_dict()['class_']\n",
    "val_spec_lookup = val_labelled_df.groupby(['class_'])['spec_idx'].agg(list).to_dict()"
   ]
  },
  {
   "cell_type": "code",
   "execution_count": 522,
   "metadata": {},
   "outputs": [
    {
     "name": "stdout",
     "output_type": "stream",
     "text": [
      "CPU times: user 148 ms, sys: 5.11 ms, total: 153 ms\n",
      "Wall time: 155 ms\n"
     ]
    }
   ],
   "source": [
    "%%time\n",
    "text_field.build_vocab(full_dataset)"
   ]
  },
  {
   "cell_type": "markdown",
   "metadata": {},
   "source": [
    "## Quick checks"
   ]
  },
  {
   "cell_type": "code",
   "execution_count": 523,
   "metadata": {},
   "outputs": [
    {
     "data": {
      "text/html": [
       "<div>\n",
       "<style scoped>\n",
       "    .dataframe tbody tr th:only-of-type {\n",
       "        vertical-align: middle;\n",
       "    }\n",
       "\n",
       "    .dataframe tbody tr th {\n",
       "        vertical-align: top;\n",
       "    }\n",
       "\n",
       "    .dataframe thead th {\n",
       "        text-align: right;\n",
       "    }\n",
       "</style>\n",
       "<table border=\"1\" class=\"dataframe\">\n",
       "  <thead>\n",
       "    <tr style=\"text-align: right;\">\n",
       "      <th></th>\n",
       "      <th>spec_id</th>\n",
       "      <th>page_title</th>\n",
       "      <th>page_title_stem</th>\n",
       "      <th>brand</th>\n",
       "      <th>site</th>\n",
       "      <th>class_</th>\n",
       "    </tr>\n",
       "  </thead>\n",
       "  <tbody>\n",
       "    <tr>\n",
       "      <th>0</th>\n",
       "      <td>www.ebay.com//57656</td>\n",
       "      <td>canon powershot elph 110 hs 16 1 mp</td>\n",
       "      <td>canon powershot elph 110 hs 16 1 mp</td>\n",
       "      <td>canon</td>\n",
       "      <td>www.ebay.com</td>\n",
       "      <td>NaN</td>\n",
       "    </tr>\n",
       "  </tbody>\n",
       "</table>\n",
       "</div>"
      ],
      "text/plain": [
       "               spec_id                           page_title  \\\n",
       "0  www.ebay.com//57656  canon powershot elph 110 hs 16 1 mp   \n",
       "\n",
       "                       page_title_stem  brand          site  class_  \n",
       "0  canon powershot elph 110 hs 16 1 mp  canon  www.ebay.com     NaN  "
      ]
     },
     "execution_count": 523,
     "metadata": {},
     "output_type": "execute_result"
    }
   ],
   "source": [
    "specs_df.head(1)"
   ]
  },
  {
   "cell_type": "code",
   "execution_count": 524,
   "metadata": {},
   "outputs": [
    {
     "data": {
      "text/plain": [
       "{'page_title_stem': ['canon',\n",
       "  'powershot',\n",
       "  'elph',\n",
       "  '110',\n",
       "  'hs',\n",
       "  '16',\n",
       "  '1',\n",
       "  'mp']}"
      ]
     },
     "execution_count": 524,
     "metadata": {},
     "output_type": "execute_result"
    }
   ],
   "source": [
    "full_dataset.examples[0].__dict__"
   ]
  },
  {
   "cell_type": "code",
   "execution_count": 525,
   "metadata": {},
   "outputs": [
    {
     "data": {
      "text/html": [
       "<div>\n",
       "<style scoped>\n",
       "    .dataframe tbody tr th:only-of-type {\n",
       "        vertical-align: middle;\n",
       "    }\n",
       "\n",
       "    .dataframe tbody tr th {\n",
       "        vertical-align: top;\n",
       "    }\n",
       "\n",
       "    .dataframe thead th {\n",
       "        text-align: right;\n",
       "    }\n",
       "</style>\n",
       "<table border=\"1\" class=\"dataframe\">\n",
       "  <thead>\n",
       "    <tr style=\"text-align: right;\">\n",
       "      <th></th>\n",
       "      <th>spec_id</th>\n",
       "      <th>page_title</th>\n",
       "      <th>page_title_stem</th>\n",
       "      <th>brand</th>\n",
       "      <th>site</th>\n",
       "      <th>class_</th>\n",
       "      <th>spec_idx</th>\n",
       "    </tr>\n",
       "  </thead>\n",
       "  <tbody>\n",
       "    <tr>\n",
       "      <th>0</th>\n",
       "      <td>www.ebay.com//41954</td>\n",
       "      <td>canon eos 20d 8 2 mp</td>\n",
       "      <td>canon eo 20d 8 2 mp</td>\n",
       "      <td>canon</td>\n",
       "      <td>www.ebay.com</td>\n",
       "      <td>6.0</td>\n",
       "      <td>0</td>\n",
       "    </tr>\n",
       "  </tbody>\n",
       "</table>\n",
       "</div>"
      ],
      "text/plain": [
       "               spec_id            page_title      page_title_stem  brand  \\\n",
       "0  www.ebay.com//41954  canon eos 20d 8 2 mp  canon eo 20d 8 2 mp  canon   \n",
       "\n",
       "           site  class_  spec_idx  \n",
       "0  www.ebay.com     6.0         0  "
      ]
     },
     "execution_count": 525,
     "metadata": {},
     "output_type": "execute_result"
    }
   ],
   "source": [
    "train_labelled_df.head(1)"
   ]
  },
  {
   "cell_type": "code",
   "execution_count": 526,
   "metadata": {},
   "outputs": [
    {
     "data": {
      "text/plain": [
       "{'page_title_stem': ['canon', 'eo', '20d', '8', '2', 'mp']}"
      ]
     },
     "execution_count": 526,
     "metadata": {},
     "output_type": "execute_result"
    }
   ],
   "source": [
    "train_dataset.examples[0].__dict__"
   ]
  },
  {
   "cell_type": "code",
   "execution_count": 527,
   "metadata": {},
   "outputs": [
    {
     "data": {
      "text/html": [
       "<div>\n",
       "<style scoped>\n",
       "    .dataframe tbody tr th:only-of-type {\n",
       "        vertical-align: middle;\n",
       "    }\n",
       "\n",
       "    .dataframe tbody tr th {\n",
       "        vertical-align: top;\n",
       "    }\n",
       "\n",
       "    .dataframe thead th {\n",
       "        text-align: right;\n",
       "    }\n",
       "</style>\n",
       "<table border=\"1\" class=\"dataframe\">\n",
       "  <thead>\n",
       "    <tr style=\"text-align: right;\">\n",
       "      <th></th>\n",
       "      <th>spec_id</th>\n",
       "      <th>page_title</th>\n",
       "      <th>page_title_stem</th>\n",
       "      <th>brand</th>\n",
       "      <th>site</th>\n",
       "      <th>class_</th>\n",
       "      <th>spec_idx</th>\n",
       "    </tr>\n",
       "  </thead>\n",
       "  <tbody>\n",
       "    <tr>\n",
       "      <th>0</th>\n",
       "      <td>www.ebay.com//45559</td>\n",
       "      <td>nikon 1 j3 w vr 10 30mm</td>\n",
       "      <td>nikon 1 j3 w vr 10 30mm</td>\n",
       "      <td>nikon</td>\n",
       "      <td>www.ebay.com</td>\n",
       "      <td>7.0</td>\n",
       "      <td>0</td>\n",
       "    </tr>\n",
       "  </tbody>\n",
       "</table>\n",
       "</div>"
      ],
      "text/plain": [
       "               spec_id               page_title          page_title_stem  \\\n",
       "0  www.ebay.com//45559  nikon 1 j3 w vr 10 30mm  nikon 1 j3 w vr 10 30mm   \n",
       "\n",
       "   brand          site  class_  spec_idx  \n",
       "0  nikon  www.ebay.com     7.0         0  "
      ]
     },
     "execution_count": 527,
     "metadata": {},
     "output_type": "execute_result"
    }
   ],
   "source": [
    "val_labelled_df.head(1)"
   ]
  },
  {
   "cell_type": "code",
   "execution_count": 528,
   "metadata": {},
   "outputs": [
    {
     "data": {
      "text/plain": [
       "{'page_title_stem': ['nikon', '1', 'j3', 'w', 'vr', '10', '30mm']}"
      ]
     },
     "execution_count": 528,
     "metadata": {},
     "output_type": "execute_result"
    }
   ],
   "source": [
    "val_dataset.examples[0].__dict__"
   ]
  },
  {
   "cell_type": "markdown",
   "metadata": {},
   "source": [
    "# Triplet iterator"
   ]
  },
  {
   "cell_type": "code",
   "execution_count": 529,
   "metadata": {},
   "outputs": [],
   "source": [
    "def gen_triplet(anchor_id, class_lookup, id_lookup):\n",
    "\n",
    "    anchor_class = class_lookup[anchor_id]\n",
    "    positive_id = random.choice(list(set(id_lookup[anchor_class]).difference(set([anchor_id]))))\n",
    "\n",
    "    negative_class = random.choice(list(set(id_lookup.keys()).difference([anchor_class])))\n",
    "    negative_id = random.choice(id_lookup[negative_class])\n",
    "\n",
    "    return (anchor_id, positive_id, negative_id)\n",
    "\n",
    "def triplet_iterator(dataset,\n",
    "                     class_lookup, \n",
    "                     spec_lookup,\n",
    "                     batch_size=1):\n",
    "    shuffled_idx = np.arange(len(dataset))\n",
    "    np.random.shuffle(shuffled_idx)\n",
    "    \n",
    "    num_drop = len(shuffled_idx) % batch_size\n",
    "    shuffled_idx = shuffled_idx[:-num_drop] if num_drop != 0 else shuffled_idx\n",
    "    shuffled_idx = shuffled_idx.reshape(-1, batch_size)\n",
    "    for idxs in shuffled_idx:\n",
    "        list_triplets = []\n",
    "        for i in idxs:\n",
    "            _, pos_idx, neg_idx = gen_triplet(i, class_lookup, spec_lookup)\n",
    "            list_triplets.extend([dataset[i].page_title_stem, \n",
    "                                  dataset[pos_idx].page_title_stem,\n",
    "                                  dataset[neg_idx].page_title_stem])\n",
    "        #паддим все к одному размеру\n",
    "        triplet = text_field.pad(list_triplets)\n",
    "        triplet = text_field.numericalize(triplet)\n",
    "        yield triplet"
   ]
  },
  {
   "cell_type": "code",
   "execution_count": 530,
   "metadata": {},
   "outputs": [
    {
     "data": {
      "text/plain": [
       "({'page_title_stem': ['canon', 'eo', '20d', '8', '2', 'mp']},\n",
       " {'page_title_stem': ['cammarkt', 'canon', 'eo', '20d']},\n",
       " {'page_title_stem': ['canon', 'powershot', 'sx600', 'hs', 'camera', 'photo']})"
      ]
     },
     "execution_count": 530,
     "metadata": {},
     "output_type": "execute_result"
    }
   ],
   "source": [
    "(train_dataset[gen_triplet(0, train_class_lookup, train_spec_lookup)[0]].__dict__, \n",
    "train_dataset[gen_triplet(0, train_class_lookup, train_spec_lookup)[1]].__dict__,\n",
    "train_dataset[gen_triplet(0, train_class_lookup, train_spec_lookup)[2]].__dict__)"
   ]
  },
  {
   "cell_type": "code",
   "execution_count": 531,
   "metadata": {},
   "outputs": [
    {
     "data": {
      "text/plain": [
       "({'page_title_stem': ['nikon', '1', 'j3', 'w', 'vr', '10', '30mm']},\n",
       " {'page_title_stem': ['nikon', '1', 'j3', 'kit', 'price', 'shop']},\n",
       " {'page_title_stem': ['fujifilm', 'x', 'seri', 'x10', '12', '0', 'mp']})"
      ]
     },
     "execution_count": 531,
     "metadata": {},
     "output_type": "execute_result"
    }
   ],
   "source": [
    "(val_dataset[gen_triplet(0, val_class_lookup, val_spec_lookup)[0]].__dict__, \n",
    "val_dataset[gen_triplet(0, val_class_lookup, val_spec_lookup)[1]].__dict__,\n",
    "val_dataset[gen_triplet(0, val_class_lookup, val_spec_lookup)[2]].__dict__)"
   ]
  },
  {
   "cell_type": "code",
   "execution_count": 532,
   "metadata": {},
   "outputs": [
    {
     "data": {
      "text/plain": [
       "tensor([[  4,   4,   3],\n",
       "        [377, 377,   9],\n",
       "        [ 29,  29, 416],\n",
       "        [ 11,  11,  47],\n",
       "        [  2,   2, 290],\n",
       "        [ 18,  23, 363],\n",
       "        [  1,   1, 889],\n",
       "        [  1,   1,  33]])"
      ]
     },
     "execution_count": 532,
     "metadata": {},
     "output_type": "execute_result"
    }
   ],
   "source": [
    "next(iter(triplet_iterator(train_dataset, train_class_lookup, train_spec_lookup, 1)))"
   ]
  },
  {
   "cell_type": "code",
   "execution_count": 533,
   "metadata": {},
   "outputs": [
    {
     "data": {
      "text/plain": [
       "tensor([[   4,    4,    4],\n",
       "        [ 285,  285,   14],\n",
       "        [ 294,    1,  645],\n",
       "        [  15,    1,  164],\n",
       "        [   2,    1, 7331],\n",
       "        [  18,    1,    1]])"
      ]
     },
     "execution_count": 533,
     "metadata": {},
     "output_type": "execute_result"
    }
   ],
   "source": [
    "next(iter(triplet_iterator(val_dataset, val_class_lookup, val_spec_lookup, 1)))"
   ]
  },
  {
   "cell_type": "markdown",
   "metadata": {},
   "source": [
    "## Initialize NN Model"
   ]
  },
  {
   "cell_type": "code",
   "execution_count": 608,
   "metadata": {},
   "outputs": [
    {
     "name": "stderr",
     "output_type": "stream",
     "text": [
      "/home/boris/anaconda3/lib/python3.6/site-packages/torch/nn/modules/rnn.py:51: UserWarning: dropout option adds dropout after all but last recurrent layer, so non-zero dropout expects num_layers greater than 1, but got dropout=0.1 and num_layers=1\n",
      "  \"num_layers={}\".format(dropout, num_layers))\n"
     ]
    },
    {
     "data": {
      "text/plain": [
       "LSTMEmbedder(\n",
       "  (embedding): Embedding(7601, 200)\n",
       "  (encoder): LSTM(200, 200, dropout=0.1)\n",
       "  (linear_layers): ModuleList(\n",
       "    (0): Sequential(\n",
       "      (0): Linear(in_features=200, out_features=200, bias=True)\n",
       "    )\n",
       "  )\n",
       ")"
      ]
     },
     "execution_count": 608,
     "metadata": {},
     "output_type": "execute_result"
    }
   ],
   "source": [
    "emb_dim = 200\n",
    "hidden_dim = 200\n",
    "num_linear = 1\n",
    "num_lstm = 1\n",
    "model = LSTMEmbedder(text_field,\n",
    "                     hidden_dim, emb_dim=emb_dim, num_linear=num_linear, num_lstm=num_lstm)\n",
    "\n",
    "model"
   ]
  },
  {
   "cell_type": "code",
   "execution_count": 609,
   "metadata": {},
   "outputs": [
    {
     "data": {
      "text/plain": [
       "tensor([[ 1.2731e-01, -7.0387e-02,  4.2755e-02, -1.9639e-01, -1.8740e-01,\n",
       "         -4.8583e-02,  3.6357e-02,  1.1840e-01,  1.1369e-01, -2.5840e-01,\n",
       "         -1.1864e-01,  1.6462e-02, -4.4504e-02,  2.5792e-02,  1.3534e-02,\n",
       "         -1.9762e-01,  1.3030e-02,  3.8552e-02,  1.2300e-01, -1.4969e-01,\n",
       "          2.7027e-01, -9.3885e-02,  1.3009e-01, -6.0882e-02,  2.6268e-02,\n",
       "          1.7283e-01, -2.2872e-02,  2.2433e-03,  1.3778e-01,  6.3842e-02,\n",
       "         -4.5708e-02,  1.5211e-01,  8.7347e-02, -1.9828e-01, -7.4581e-02,\n",
       "         -3.6471e-02, -8.4945e-02,  1.4094e-01, -6.3080e-02,  4.3299e-02,\n",
       "          1.1011e-01,  1.1176e-01,  1.3641e-01,  5.5339e-02, -8.5188e-02,\n",
       "          1.5122e-01, -7.1782e-02,  6.3046e-02,  5.4624e-03,  4.6658e-02,\n",
       "          2.1132e-01, -7.2026e-02,  2.7161e-02,  7.7036e-02,  7.3578e-02,\n",
       "          1.3796e-01, -7.3216e-02, -2.8027e-02, -1.0937e-02, -1.1465e-01,\n",
       "          1.1041e-03, -1.5415e-02,  2.1099e-01,  7.7649e-02,  1.2668e-03,\n",
       "          9.5120e-02, -1.9279e-04, -2.8215e-02,  1.3010e-01,  6.6344e-02,\n",
       "          5.7603e-02, -2.0707e-02,  1.7787e-02, -7.7644e-02,  2.0477e-02,\n",
       "          8.5824e-02, -1.5203e-01,  1.4119e-01, -1.3542e-01,  9.2371e-02,\n",
       "          7.8318e-02,  3.8699e-02,  6.3306e-02, -6.4210e-02, -7.9105e-02,\n",
       "         -8.4992e-02, -2.1574e-02, -5.1594e-02,  1.0511e-01,  8.9210e-02,\n",
       "         -4.1790e-02, -1.2828e-03, -8.7796e-02, -1.0224e-01,  1.2646e-02,\n",
       "          7.5903e-02,  4.4864e-02, -3.0444e-01,  7.5592e-02,  1.2413e-01,\n",
       "          5.5196e-02,  1.1775e-01, -1.2050e-01,  1.4308e-01, -4.8259e-02,\n",
       "         -2.9322e-02,  1.5558e-01, -1.6645e-02,  5.3985e-02, -4.6474e-02,\n",
       "         -2.9743e-02,  3.2846e-02,  5.3199e-03, -5.8083e-02,  1.0216e-01,\n",
       "          1.6114e-01,  4.2633e-02, -3.9426e-02, -1.0136e-01,  5.2418e-02,\n",
       "          3.6838e-02,  3.2606e-02,  9.8795e-03, -5.3071e-02, -2.6855e-02,\n",
       "          5.8441e-02,  1.7453e-01,  5.9700e-02,  1.4526e-01,  1.4643e-01,\n",
       "          1.5024e-01,  4.5482e-03, -2.3340e-02, -2.0175e-02, -1.8754e-01,\n",
       "         -4.7552e-02, -1.0901e-01, -2.1865e-03,  1.1592e-01, -1.1699e-02,\n",
       "         -3.2299e-02,  2.6696e-02,  7.8092e-03, -6.1935e-02,  1.7674e-01,\n",
       "         -7.5967e-02, -1.0799e-01, -1.0554e-01, -3.0542e-03,  8.9496e-02,\n",
       "         -3.6099e-02,  8.5204e-02, -4.7497e-02,  4.0053e-02,  3.4781e-02,\n",
       "          2.3456e-02, -1.3839e-01,  6.8225e-02,  1.1556e-01, -4.5744e-02,\n",
       "         -5.0625e-02,  6.4568e-02,  1.9045e-01, -7.5656e-03,  3.6314e-02,\n",
       "          4.3039e-02,  2.4863e-02,  5.3952e-02, -2.1676e-01, -2.9856e-02,\n",
       "          9.7063e-02,  1.0121e-01, -2.5363e-02, -5.6601e-02,  6.0901e-02,\n",
       "         -4.4705e-02, -7.4220e-02, -3.8077e-02,  7.7584e-02,  2.3065e-02,\n",
       "          4.7909e-02, -1.3841e-02, -1.1421e-02, -2.6012e-02, -6.1656e-02,\n",
       "          1.2694e-01,  6.0679e-02,  2.9287e-01,  4.4745e-02, -3.7874e-02,\n",
       "         -2.2145e-03, -4.5929e-02, -8.6860e-02, -2.1659e-01,  4.6505e-02,\n",
       "         -1.9409e-01,  5.4806e-02,  1.6101e-01,  1.5928e-02, -1.9587e-01]],\n",
       "       grad_fn=<AddmmBackward>)"
      ]
     },
     "execution_count": 609,
     "metadata": {},
     "output_type": "execute_result"
    }
   ],
   "source": [
    "model.infer(['canon eos 20d 8 2 mp'])"
   ]
  },
  {
   "cell_type": "code",
   "execution_count": 610,
   "metadata": {},
   "outputs": [],
   "source": [
    "loss_history_train = []\n",
    "loss_history_val = []"
   ]
  },
  {
   "cell_type": "code",
   "execution_count": 611,
   "metadata": {},
   "outputs": [],
   "source": [
    "opt = optim.Adam(model.parameters(), lr=1e-4, weight_decay=1e-4)\n",
    "scheduler = torch.optim.lr_scheduler.ReduceLROnPlateau(opt, mode='min', patience=5, verbose=True)\n",
    "batch_size= 10\n",
    "epochs = 40"
   ]
  },
  {
   "cell_type": "code",
   "execution_count": 612,
   "metadata": {},
   "outputs": [],
   "source": [
    "def triplet_loss(anchor, pos, neg, margin=0.8):\n",
    "    \"\"\"\n",
    "    Consine similarity for between anchor and positive should be >= 0.8\n",
    "    \n",
    "    Cosine similarity for negative should be < 0.8\n",
    "    \"\"\"\n",
    "    pos_dist = F.cosine_similarity(anchor, pos, dim=1)\n",
    "    neg_dist = F.cosine_similarity(anchor, neg, dim=1)\n",
    "    \n",
    "    loss_pos = torch.clamp(margin-pos_dist, min=0)\n",
    "    loss_neg = torch.clamp(neg_dist-margin, min=0)\n",
    "    return torch.sum(loss_pos + loss_neg)\n",
    "\n",
    "def triplet_loss(anchor, pos, neg, margin=0.5):\n",
    "    \"\"\"\n",
    "        Triplet loss dot product\n",
    "    \"\"\"\n",
    "    \n",
    "    pos_dist = torch.norm(anchor-pos, 2, dim=1) \n",
    "    neg_dist = torch.norm(anchor-neg, 2, dim=1) \n",
    "    \n",
    "    return torch.sum(torch.clamp(pos_dist-neg_dist+margin, min=0))"
   ]
  },
  {
   "cell_type": "code",
   "execution_count": 613,
   "metadata": {},
   "outputs": [
    {
     "name": "stdout",
     "output_type": "stream",
     "text": [
      "tensor(3.9582, grad_fn=<SumBackward0>)\n"
     ]
    }
   ],
   "source": [
    "for triplet in iter(triplet_iterator(train_dataset, train_class_lookup, train_spec_lookup, batch_size=batch_size)):\n",
    "    embeddings = model(triplet)\n",
    "    anchors = embeddings[0::3]\n",
    "    pos = embeddings[1::3]\n",
    "    ng = embeddings[2::3]\n",
    "    loss = triplet_loss(anchors, pos, ng)\n",
    "    break\n",
    "print(loss)"
   ]
  },
  {
   "cell_type": "markdown",
   "metadata": {},
   "source": [
    "# Train"
   ]
  },
  {
   "cell_type": "code",
   "execution_count": 625,
   "metadata": {},
   "outputs": [
    {
     "data": {
      "application/vnd.jupyter.widget-view+json": {
       "model_id": "15538714c90e47c29d2e07d7897ef69b",
       "version_major": 2,
       "version_minor": 0
      },
      "text/html": [
       "<p>Failed to display Jupyter Widget of type <code>HBox</code>.</p>\n",
       "<p>\n",
       "  If you're reading this message in the Jupyter Notebook or JupyterLab Notebook, it may mean\n",
       "  that the widgets JavaScript is still loading. If this message persists, it\n",
       "  likely means that the widgets JavaScript library is either not installed or\n",
       "  not enabled. See the <a href=\"https://ipywidgets.readthedocs.io/en/stable/user_install.html\">Jupyter\n",
       "  Widgets Documentation</a> for setup instructions.\n",
       "</p>\n",
       "<p>\n",
       "  If you're reading this message in another frontend (for example, a static\n",
       "  rendering on GitHub or <a href=\"https://nbviewer.jupyter.org/\">NBViewer</a>),\n",
       "  it may mean that your frontend doesn't currently support widgets.\n",
       "</p>\n"
      ],
      "text/plain": [
       "HBox(children=(IntProgress(value=0, max=40), HTML(value='')))"
      ]
     },
     "metadata": {},
     "output_type": "display_data"
    },
    {
     "name": "stdout",
     "output_type": "stream",
     "text": [
      "Epoch: 1, Training Loss: 0.0706\n",
      "val Loss: 0.6412\n",
      "Epoch: 2, Training Loss: 0.1988\n",
      "val Loss: 0.6231\n",
      "Epoch: 3, Training Loss: 0.0610\n",
      "val Loss: 0.5515\n",
      "Epoch    42: reducing learning rate of group 0 to 1.0000e-07.\n",
      "Epoch: 4, Training Loss: 0.0903\n",
      "val Loss: 0.6422\n",
      "Epoch: 5, Training Loss: 0.0951\n",
      "val Loss: 0.5870\n",
      "Epoch: 6, Training Loss: 0.1103\n",
      "val Loss: 0.6366\n",
      "Epoch: 7, Training Loss: 0.0583\n",
      "val Loss: 0.6707\n",
      "Epoch: 8, Training Loss: 0.0419\n",
      "val Loss: 0.6363\n",
      "Epoch: 9, Training Loss: 0.0947\n",
      "val Loss: 0.7121\n",
      "Epoch    48: reducing learning rate of group 0 to 1.0000e-08.\n",
      "Epoch: 10, Training Loss: 0.0624\n",
      "val Loss: 0.5711\n",
      "Epoch: 11, Training Loss: 0.1205\n",
      "val Loss: 0.5452\n",
      "Epoch: 12, Training Loss: 0.1046\n",
      "val Loss: 0.7421\n",
      "Epoch: 13, Training Loss: 0.1518\n",
      "val Loss: 0.5509\n",
      "Epoch: 14, Training Loss: 0.1828\n",
      "val Loss: 0.7628\n",
      "Epoch: 15, Training Loss: 0.0946\n",
      "val Loss: 0.6042\n",
      "Epoch: 16, Training Loss: 0.1094\n",
      "val Loss: 0.7024\n",
      "Epoch: 17, Training Loss: 0.1133\n",
      "val Loss: 0.6890\n",
      "Epoch: 18, Training Loss: 0.0408\n",
      "val Loss: 0.6249\n",
      "Epoch: 19, Training Loss: 0.0536\n",
      "val Loss: 0.6387\n",
      "Epoch: 20, Training Loss: 0.0380\n",
      "val Loss: 0.5068\n",
      "Epoch: 21, Training Loss: 0.0818\n",
      "val Loss: 0.7405\n",
      "Epoch: 22, Training Loss: 0.1109\n",
      "val Loss: 0.5188\n",
      "Epoch: 23, Training Loss: 0.2064\n",
      "val Loss: 0.5806\n",
      "Epoch: 24, Training Loss: 0.0677\n",
      "val Loss: 0.6504\n",
      "Epoch: 25, Training Loss: 0.0618\n",
      "val Loss: 0.6455\n",
      "Epoch: 26, Training Loss: 0.1314\n",
      "val Loss: 0.6595\n",
      "Epoch: 27, Training Loss: 0.0947\n",
      "val Loss: 0.5481\n",
      "Epoch: 28, Training Loss: 0.1108\n",
      "val Loss: 0.5264\n",
      "Epoch: 29, Training Loss: 0.1739\n",
      "val Loss: 0.7381\n",
      "Epoch: 30, Training Loss: 0.1004\n",
      "val Loss: 0.5217\n",
      "Epoch: 31, Training Loss: 0.1606\n",
      "val Loss: 0.5603\n",
      "Epoch: 32, Training Loss: 0.1164\n",
      "val Loss: 0.6717\n",
      "Epoch: 33, Training Loss: 0.0946\n",
      "val Loss: 0.7272\n",
      "Epoch: 34, Training Loss: 0.1443\n",
      "val Loss: 0.6839\n",
      "Epoch: 35, Training Loss: 0.0764\n",
      "val Loss: 0.6375\n",
      "Epoch: 36, Training Loss: 0.1280\n",
      "val Loss: 0.5204\n",
      "Epoch: 37, Training Loss: 0.0387\n",
      "val Loss: 0.6042\n",
      "Epoch: 38, Training Loss: 0.0721\n",
      "val Loss: 0.6013\n",
      "Epoch: 39, Training Loss: 0.0473\n",
      "val Loss: 0.7221\n",
      "Epoch: 40, Training Loss: 0.0433\n",
      "val Loss: 0.6716\n",
      "CPU times: user 1min 31s, sys: 24.2 s, total: 1min 56s\n",
      "Wall time: 40.3 s\n"
     ]
    }
   ],
   "source": [
    "%%time\n",
    "for epoch in tqdm(range(1, epochs + 1)):\n",
    "    model.train()\n",
    "    \n",
    "    running_loss = 0\n",
    "    count_triplets = 0\n",
    "    \n",
    "    for triplet in iter(triplet_iterator(train_dataset, train_class_lookup, train_spec_lookup, batch_size=batch_size)):\n",
    "        opt.zero_grad()\n",
    "        \n",
    "        embeddings = model(triplet)\n",
    "        anchors = embeddings[0::3]\n",
    "        pos = embeddings[1::3]\n",
    "        ng = embeddings[2::3]\n",
    "        loss = triplet_loss(anchors, pos, ng)\n",
    "        loss.backward()\n",
    "        opt.step()\n",
    "        \n",
    "        running_loss += loss.data\n",
    "        count_triplets +=1 \n",
    "\n",
    "    \n",
    "    epoch_loss = running_loss / count_triplets\n",
    "    loss_history_train.append(epoch_loss)\n",
    "    print('Epoch: {}, Training Loss: {:.4f}'.format(epoch, epoch_loss))\n",
    "    \n",
    "    model.eval()\n",
    "    val_loss = 0\n",
    "    count_val = 0\n",
    "    with torch.no_grad():\n",
    "        for triplet in iter(triplet_iterator(val_dataset, val_class_lookup, val_spec_lookup, batch_size=2)):\n",
    "            embeddings = model(triplet)\n",
    "            anchors = embeddings[0::3]\n",
    "            pos = embeddings[1::3]\n",
    "            ng = embeddings[2::3]\n",
    "            loss = triplet_loss(anchors, pos, ng)\n",
    "            val_loss += loss.data\n",
    "            count_val +=1 \n",
    "        \n",
    "        epoch_val_loss = val_loss/count_val\n",
    "        loss_history_val.append(epoch_val_loss)\n",
    "        print('val Loss: {:.4f}'.format(epoch_val_loss))\n",
    "        \n",
    "    scheduler.step(epoch_val_loss)\n",
    "    \n",
    "model.eval()"
   ]
  },
  {
   "cell_type": "code",
   "execution_count": 626,
   "metadata": {},
   "outputs": [
    {
     "data": {
      "image/png": "[encoded data removed]",
      "text/plain": [
       "<Figure size 720x504 with 1 Axes>"
      ]
     },
     "metadata": {},
     "output_type": "display_data"
    }
   ],
   "source": [
    "plt.figure()\n",
    "plt.plot(loss_history_train, label='train_loss')\n",
    "plt.plot(loss_history_val, label='val_loss')\n",
    "plt.legend()\n",
    "plt.show()"
   ]
  },
  {
   "cell_type": "code",
   "execution_count": 627,
   "metadata": {},
   "outputs": [
    {
     "data": {
      "text/plain": [
       "LSTMEmbedder(\n",
       "  (embedding): Embedding(7601, 200)\n",
       "  (encoder): LSTM(200, 200, dropout=0.1)\n",
       "  (linear_layers): ModuleList(\n",
       "    (0): Sequential(\n",
       "      (0): Linear(in_features=200, out_features=200, bias=True)\n",
       "    )\n",
       "  )\n",
       ")"
      ]
     },
     "execution_count": 627,
     "metadata": {},
     "output_type": "execute_result"
    }
   ],
   "source": [
    "model.eval()"
   ]
  },
  {
   "cell_type": "markdown",
   "metadata": {},
   "source": [
    "# Produce train embeddings and TSNE"
   ]
  },
  {
   "cell_type": "code",
   "execution_count": 628,
   "metadata": {},
   "outputs": [
    {
     "data": {
      "application/vnd.jupyter.widget-view+json": {
       "model_id": "0f4d45f8f6164b97b82f5c6c3b7884fd",
       "version_major": 2,
       "version_minor": 0
      },
      "text/html": [
       "<p>Failed to display Jupyter Widget of type <code>HBox</code>.</p>\n",
       "<p>\n",
       "  If you're reading this message in the Jupyter Notebook or JupyterLab Notebook, it may mean\n",
       "  that the widgets JavaScript is still loading. If this message persists, it\n",
       "  likely means that the widgets JavaScript library is either not installed or\n",
       "  not enabled. See the <a href=\"https://ipywidgets.readthedocs.io/en/stable/user_install.html\">Jupyter\n",
       "  Widgets Documentation</a> for setup instructions.\n",
       "</p>\n",
       "<p>\n",
       "  If you're reading this message in another frontend (for example, a static\n",
       "  rendering on GitHub or <a href=\"https://nbviewer.jupyter.org/\">NBViewer</a>),\n",
       "  it may mean that your frontend doesn't currently support widgets.\n",
       "</p>\n"
      ],
      "text/plain": [
       "HBox(children=(IntProgress(value=0, max=242), HTML(value='')))"
      ]
     },
     "metadata": {},
     "output_type": "display_data"
    }
   ],
   "source": [
    "embeddings = []\n",
    "for ex in tqdm(train_dataset):\n",
    "    emb = np.array(model(model.text_field.numericalize([ex.page_title_stem]))[0].data)\n",
    "    embeddings.append(emb)\n",
    "embeddings = np.array(embeddings)"
   ]
  },
  {
   "cell_type": "code",
   "execution_count": 629,
   "metadata": {},
   "outputs": [],
   "source": [
    "tsne = TSNE(\n",
    "    n_components=2,\n",
    "    metric='cosine',\n",
    "    n_jobs=3,\n",
    "    verbose=True,\n",
    ")"
   ]
  },
  {
   "cell_type": "code",
   "execution_count": 630,
   "metadata": {},
   "outputs": [],
   "source": [
    "emb_ld = tsne.fit_transform(embeddings)"
   ]
  },
  {
   "cell_type": "code",
   "execution_count": 631,
   "metadata": {},
   "outputs": [
    {
     "data": {
      "text/plain": [
       "(242, 2)"
      ]
     },
     "execution_count": 631,
     "metadata": {},
     "output_type": "execute_result"
    }
   ],
   "source": [
    "emb_ld.shape"
   ]
  },
  {
   "cell_type": "code",
   "execution_count": 632,
   "metadata": {},
   "outputs": [
    {
     "data": {
      "text/plain": [
       "(242, 2)"
      ]
     },
     "execution_count": 632,
     "metadata": {},
     "output_type": "execute_result"
    }
   ],
   "source": [
    "labelled_spec_classes = labelled_specs_train.class_\n",
    "labelled_spec_classes = labelled_spec_classes.reset_index()\n",
    "labelled_spec_classes.shape"
   ]
  },
  {
   "cell_type": "code",
   "execution_count": 633,
   "metadata": {},
   "outputs": [
    {
     "data": {
      "text/html": [
       "<div>\n",
       "<style scoped>\n",
       "    .dataframe tbody tr th:only-of-type {\n",
       "        vertical-align: middle;\n",
       "    }\n",
       "\n",
       "    .dataframe tbody tr th {\n",
       "        vertical-align: top;\n",
       "    }\n",
       "\n",
       "    .dataframe thead th {\n",
       "        text-align: right;\n",
       "    }\n",
       "</style>\n",
       "<table border=\"1\" class=\"dataframe\">\n",
       "  <thead>\n",
       "    <tr style=\"text-align: right;\">\n",
       "      <th></th>\n",
       "      <th>index</th>\n",
       "      <th>class_</th>\n",
       "    </tr>\n",
       "  </thead>\n",
       "  <tbody>\n",
       "    <tr>\n",
       "      <th>0</th>\n",
       "      <td>46</td>\n",
       "      <td>6.0</td>\n",
       "    </tr>\n",
       "    <tr>\n",
       "      <th>1</th>\n",
       "      <td>120</td>\n",
       "      <td>6.0</td>\n",
       "    </tr>\n",
       "    <tr>\n",
       "      <th>2</th>\n",
       "      <td>146</td>\n",
       "      <td>1.0</td>\n",
       "    </tr>\n",
       "    <tr>\n",
       "      <th>3</th>\n",
       "      <td>256</td>\n",
       "      <td>15.0</td>\n",
       "    </tr>\n",
       "    <tr>\n",
       "      <th>4</th>\n",
       "      <td>336</td>\n",
       "      <td>2.0</td>\n",
       "    </tr>\n",
       "  </tbody>\n",
       "</table>\n",
       "</div>"
      ],
      "text/plain": [
       "   index  class_\n",
       "0     46     6.0\n",
       "1    120     6.0\n",
       "2    146     1.0\n",
       "3    256    15.0\n",
       "4    336     2.0"
      ]
     },
     "execution_count": 633,
     "metadata": {},
     "output_type": "execute_result"
    }
   ],
   "source": [
    "labelled_spec_classes.head()"
   ]
  },
  {
   "cell_type": "code",
   "execution_count": 634,
   "metadata": {},
   "outputs": [
    {
     "data": {
      "text/html": [
       "<div>\n",
       "<style scoped>\n",
       "    .dataframe tbody tr th:only-of-type {\n",
       "        vertical-align: middle;\n",
       "    }\n",
       "\n",
       "    .dataframe tbody tr th {\n",
       "        vertical-align: top;\n",
       "    }\n",
       "\n",
       "    .dataframe thead th {\n",
       "        text-align: right;\n",
       "    }\n",
       "</style>\n",
       "<table border=\"1\" class=\"dataframe\">\n",
       "  <thead>\n",
       "    <tr style=\"text-align: right;\">\n",
       "      <th></th>\n",
       "      <th>x</th>\n",
       "      <th>y</th>\n",
       "      <th>original_index</th>\n",
       "      <th>class_</th>\n",
       "    </tr>\n",
       "  </thead>\n",
       "  <tbody>\n",
       "    <tr>\n",
       "      <th>0</th>\n",
       "      <td>19.673364</td>\n",
       "      <td>-1.713071</td>\n",
       "      <td>46</td>\n",
       "      <td>6.0</td>\n",
       "    </tr>\n",
       "    <tr>\n",
       "      <th>1</th>\n",
       "      <td>21.620312</td>\n",
       "      <td>-1.234255</td>\n",
       "      <td>120</td>\n",
       "      <td>6.0</td>\n",
       "    </tr>\n",
       "    <tr>\n",
       "      <th>2</th>\n",
       "      <td>7.605253</td>\n",
       "      <td>-0.786488</td>\n",
       "      <td>146</td>\n",
       "      <td>1.0</td>\n",
       "    </tr>\n",
       "    <tr>\n",
       "      <th>3</th>\n",
       "      <td>14.022644</td>\n",
       "      <td>4.726929</td>\n",
       "      <td>256</td>\n",
       "      <td>15.0</td>\n",
       "    </tr>\n",
       "    <tr>\n",
       "      <th>4</th>\n",
       "      <td>0.708698</td>\n",
       "      <td>0.148982</td>\n",
       "      <td>336</td>\n",
       "      <td>2.0</td>\n",
       "    </tr>\n",
       "  </tbody>\n",
       "</table>\n",
       "</div>"
      ],
      "text/plain": [
       "           x         y  original_index  class_\n",
       "0  19.673364 -1.713071              46     6.0\n",
       "1  21.620312 -1.234255             120     6.0\n",
       "2   7.605253 -0.786488             146     1.0\n",
       "3  14.022644  4.726929             256    15.0\n",
       "4   0.708698  0.148982             336     2.0"
      ]
     },
     "execution_count": 634,
     "metadata": {},
     "output_type": "execute_result"
    }
   ],
   "source": [
    "emb_tdf = pd.DataFrame(emb_ld)\n",
    "emb_tdf = pd.concat([emb_tdf, labelled_spec_classes], axis=1, ignore_index=True)\n",
    "emb_tdf.columns = ['x', 'y', 'original_index', 'class_']\n",
    "emb_tdf.head()"
   ]
  },
  {
   "cell_type": "code",
   "execution_count": 635,
   "metadata": {},
   "outputs": [
    {
     "data": {
      "image/png": "[encoded data removed]",
      "text/plain": [
       "<Figure size 1080x720 with 1 Axes>"
      ]
     },
     "metadata": {},
     "output_type": "display_data"
    }
   ],
   "source": [
    "plt.figure(figsize=(15, 10))\n",
    "plt.title('TSNE - Labelled only')\n",
    "for class_ in emb_tdf['class_'].sort_values().unique():\n",
    "    class_ld_df = emb_tdf[emb_tdf.class_==class_]\n",
    "    plt.scatter(class_ld_df.iloc[:, 0], class_ld_df.iloc[:, 1], label=f'class {class_}')\n",
    "\n",
    "plt.legend()\n",
    "plt.show()"
   ]
  },
  {
   "cell_type": "markdown",
   "metadata": {},
   "source": [
    "# Produce whole dataset embeddings"
   ]
  },
  {
   "cell_type": "code",
   "execution_count": 636,
   "metadata": {},
   "outputs": [
    {
     "data": {
      "application/vnd.jupyter.widget-view+json": {
       "model_id": "b2435608b2714b298bf9a721f765cc13",
       "version_major": 2,
       "version_minor": 0
      },
      "text/html": [
       "<p>Failed to display Jupyter Widget of type <code>HBox</code>.</p>\n",
       "<p>\n",
       "  If you're reading this message in the Jupyter Notebook or JupyterLab Notebook, it may mean\n",
       "  that the widgets JavaScript is still loading. If this message persists, it\n",
       "  likely means that the widgets JavaScript library is either not installed or\n",
       "  not enabled. See the <a href=\"https://ipywidgets.readthedocs.io/en/stable/user_install.html\">Jupyter\n",
       "  Widgets Documentation</a> for setup instructions.\n",
       "</p>\n",
       "<p>\n",
       "  If you're reading this message in another frontend (for example, a static\n",
       "  rendering on GitHub or <a href=\"https://nbviewer.jupyter.org/\">NBViewer</a>),\n",
       "  it may mean that your frontend doesn't currently support widgets.\n",
       "</p>\n"
      ],
      "text/plain": [
       "HBox(children=(IntProgress(value=0, max=29771), HTML(value='')))"
      ]
     },
     "metadata": {},
     "output_type": "display_data"
    }
   ],
   "source": [
    "embeddings = []\n",
    "for ex in tqdm(full_dataset):\n",
    "    emb = np.array(model(model.text_field.numericalize([ex.page_title_stem]))[0].data)\n",
    "    embeddings.append(emb)\n",
    "embeddings = np.array(embeddings)"
   ]
  },
  {
   "cell_type": "code",
   "execution_count": 637,
   "metadata": {},
   "outputs": [],
   "source": [
    "emb = Embedder(model, specs_df.spec_id.values, specs_df.page_title_stem.values)"
   ]
  },
  {
   "cell_type": "code",
   "execution_count": null,
   "metadata": {},
   "outputs": [],
   "source": [
    "emb.fit(embeddings)"
   ]
  },
  {
   "cell_type": "code",
   "execution_count": null,
   "metadata": {},
   "outputs": [],
   "source": [
    "emb.lookup_texts('canon eo 20d')"
   ]
  },
  {
   "cell_type": "code",
   "execution_count": 66,
   "metadata": {},
   "outputs": [],
   "source": [
    "emb.save('../models/embedder')"
   ]
  },
  {
   "cell_type": "code",
   "execution_count": null,
   "metadata": {},
   "outputs": [],
   "source": []
  }
 ],
 "metadata": {
  "kernelspec": {
   "display_name": "Python 3",
   "language": "python",
   "name": "python3"
  },
  "language_info": {
   "codemirror_mode": {
    "name": "ipython",
    "version": 3
   },
   "file_extension": ".py",
   "mimetype": "text/x-python",
   "name": "python",
   "nbconvert_exporter": "python",
   "pygments_lexer": "ipython3",
   "version": "3.6.7"
  }
 },
 "nbformat": 4,
 "nbformat_minor": 4
}
