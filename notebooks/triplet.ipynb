{
 "cells": [
  {
   "cell_type": "code",
   "execution_count": 1,
   "metadata": {
    "Collapsed": "false"
   },
   "outputs": [],
   "source": [
    "import os\n",
    "import sys\n",
    "import random\n",
    "import json\n",
    "import collections\n",
    "import itertools\n",
    "\n",
    "import pandas as pd\n",
    "import numpy as np\n",
    "import scipy        \n",
    "import statsmodels\n",
    "from sklearn.model_selection import train_test_split\n",
    "\n",
    "from tqdm import trange, tqdm_notebook as tqdm\n",
    "from matplotlib import pyplot as plt\n",
    "import seaborn as sns\n",
    "\n",
    "import pickle\n",
    "import torch\n",
    "import torchtext\n",
    "import torch.nn as nn\n",
    "import torch.nn.functional as F\n",
    "from torch.utils.data import DataLoader\n",
    "import time\n",
    "import torch.optim as optim\n",
    "from torchtext.data import Field, RawField\n",
    "from torchtext.data import Dataset, TabularDataset\n",
    "from torchtext.data import Iterator\n",
    "\n",
    "from annoy import AnnoyIndex\n",
    "\n",
    "from MulticoreTSNE import MulticoreTSNE as TSNE\n",
    "\n",
    "%matplotlib inline\n",
    "\n",
    "pd.options.display.max_columns = 999\n",
    "\n",
    "sns.set()\n",
    "\n",
    "plt.rcParams[\"figure.figsize\"] = (10,7)"
   ]
  },
  {
   "cell_type": "code",
   "execution_count": 2,
   "metadata": {
    "Collapsed": "false"
   },
   "outputs": [
    {
     "data": {
      "text/plain": [
       "'/home/boris/study/UT study/ACM Sigmod/sigmod/notebooks'"
      ]
     },
     "execution_count": 2,
     "metadata": {},
     "output_type": "execute_result"
    }
   ],
   "source": [
    "os.getcwd()"
   ]
  },
  {
   "cell_type": "code",
   "execution_count": 3,
   "metadata": {
    "Collapsed": "false"
   },
   "outputs": [],
   "source": [
    "%load_ext autoreload\n",
    "%autoreload 2"
   ]
  },
  {
   "cell_type": "code",
   "execution_count": 4,
   "metadata": {
    "Collapsed": "false"
   },
   "outputs": [],
   "source": [
    "from sigmod_src.utils import read_json, pprint_json, path_from_spec_id, get_vector_for_spec_id, make_classes_df, get_additional_labels\n",
    "from sigmod_src.embedding import Embedder, EmbeddingBagEmbedder, LSTMEmbedder"
   ]
  },
  {
   "cell_type": "markdown",
   "metadata": {
    "Collapsed": "false"
   },
   "source": [
    "# Load data"
   ]
  },
  {
   "cell_type": "code",
   "execution_count": 5,
   "metadata": {
    "Collapsed": "false"
   },
   "outputs": [],
   "source": [
    "LG_LABELS_PATH = '../data/raw/sigmod_large_labelled_dataset.csv'"
   ]
  },
  {
   "cell_type": "code",
   "execution_count": 6,
   "metadata": {
    "Collapsed": "false"
   },
   "outputs": [],
   "source": [
    "labels_df = pd.read_csv(LG_LABELS_PATH)"
   ]
  },
  {
   "cell_type": "code",
   "execution_count": 7,
   "metadata": {
    "Collapsed": "false"
   },
   "outputs": [
    {
     "data": {
      "text/plain": [
       "(297651, 3)"
      ]
     },
     "execution_count": 7,
     "metadata": {},
     "output_type": "execute_result"
    }
   ],
   "source": [
    "labels_df.shape"
   ]
  },
  {
   "cell_type": "code",
   "execution_count": 8,
   "metadata": {
    "Collapsed": "false"
   },
   "outputs": [
    {
     "data": {
      "text/html": [
       "<div>\n",
       "<style scoped>\n",
       "    .dataframe tbody tr th:only-of-type {\n",
       "        vertical-align: middle;\n",
       "    }\n",
       "\n",
       "    .dataframe tbody tr th {\n",
       "        vertical-align: top;\n",
       "    }\n",
       "\n",
       "    .dataframe thead th {\n",
       "        text-align: right;\n",
       "    }\n",
       "</style>\n",
       "<table border=\"1\" class=\"dataframe\">\n",
       "  <thead>\n",
       "    <tr style=\"text-align: right;\">\n",
       "      <th></th>\n",
       "      <th>left_spec_id</th>\n",
       "      <th>right_spec_id</th>\n",
       "      <th>label</th>\n",
       "    </tr>\n",
       "  </thead>\n",
       "  <tbody>\n",
       "    <tr>\n",
       "      <th>0</th>\n",
       "      <td>www.ebay.com//53278</td>\n",
       "      <td>www.garricks.com.au//31</td>\n",
       "      <td>1</td>\n",
       "    </tr>\n",
       "    <tr>\n",
       "      <th>1</th>\n",
       "      <td>www.ebay.com//24817</td>\n",
       "      <td>www.ebay.com//58782</td>\n",
       "      <td>0</td>\n",
       "    </tr>\n",
       "    <tr>\n",
       "      <th>2</th>\n",
       "      <td>www.ebay.com//43019</td>\n",
       "      <td>www.ebay.com//58782</td>\n",
       "      <td>0</td>\n",
       "    </tr>\n",
       "    <tr>\n",
       "      <th>3</th>\n",
       "      <td>www.ebay.com//42055</td>\n",
       "      <td>www.ebay.com//54403</td>\n",
       "      <td>0</td>\n",
       "    </tr>\n",
       "    <tr>\n",
       "      <th>4</th>\n",
       "      <td>buy.net//6145</td>\n",
       "      <td>www.ebay.com//44280</td>\n",
       "      <td>0</td>\n",
       "    </tr>\n",
       "  </tbody>\n",
       "</table>\n",
       "</div>"
      ],
      "text/plain": [
       "          left_spec_id            right_spec_id  label\n",
       "0  www.ebay.com//53278  www.garricks.com.au//31      1\n",
       "1  www.ebay.com//24817      www.ebay.com//58782      0\n",
       "2  www.ebay.com//43019      www.ebay.com//58782      0\n",
       "3  www.ebay.com//42055      www.ebay.com//54403      0\n",
       "4        buy.net//6145      www.ebay.com//44280      0"
      ]
     },
     "execution_count": 8,
     "metadata": {},
     "output_type": "execute_result"
    }
   ],
   "source": [
    "labels_df.head()"
   ]
  },
  {
   "cell_type": "markdown",
   "metadata": {
    "Collapsed": "false"
   },
   "source": [
    "# Load specs df"
   ]
  },
  {
   "cell_type": "code",
   "execution_count": 9,
   "metadata": {
    "Collapsed": "false"
   },
   "outputs": [
    {
     "data": {
      "text/plain": [
       "(28132, 8)"
      ]
     },
     "execution_count": 9,
     "metadata": {},
     "output_type": "execute_result"
    }
   ],
   "source": [
    "specs_df = pd.read_csv('../data/processed/specs.csv')\n",
    "specs_df.shape"
   ]
  },
  {
   "cell_type": "code",
   "execution_count": 10,
   "metadata": {
    "Collapsed": "false"
   },
   "outputs": [
    {
     "data": {
      "text/html": [
       "<div>\n",
       "<style scoped>\n",
       "    .dataframe tbody tr th:only-of-type {\n",
       "        vertical-align: middle;\n",
       "    }\n",
       "\n",
       "    .dataframe tbody tr th {\n",
       "        vertical-align: top;\n",
       "    }\n",
       "\n",
       "    .dataframe thead th {\n",
       "        text-align: right;\n",
       "    }\n",
       "</style>\n",
       "<table border=\"1\" class=\"dataframe\">\n",
       "  <thead>\n",
       "    <tr style=\"text-align: right;\">\n",
       "      <th></th>\n",
       "      <th>spec_id</th>\n",
       "      <th>page_title</th>\n",
       "      <th>brand</th>\n",
       "      <th>model</th>\n",
       "      <th>all_text</th>\n",
       "      <th>page_title_stem</th>\n",
       "      <th>all_text_stem</th>\n",
       "      <th>site</th>\n",
       "    </tr>\n",
       "  </thead>\n",
       "  <tbody>\n",
       "  </tbody>\n",
       "</table>\n",
       "</div>"
      ],
      "text/plain": [
       "Empty DataFrame\n",
       "Columns: [spec_id, page_title, brand, model, all_text, page_title_stem, all_text_stem, site]\n",
       "Index: []"
      ]
     },
     "execution_count": 10,
     "metadata": {},
     "output_type": "execute_result"
    }
   ],
   "source": [
    "specs_df[specs_df.page_title.isnull()]"
   ]
  },
  {
   "cell_type": "code",
   "execution_count": 11,
   "metadata": {
    "Collapsed": "false"
   },
   "outputs": [
    {
     "data": {
      "text/html": [
       "<div>\n",
       "<style scoped>\n",
       "    .dataframe tbody tr th:only-of-type {\n",
       "        vertical-align: middle;\n",
       "    }\n",
       "\n",
       "    .dataframe tbody tr th {\n",
       "        vertical-align: top;\n",
       "    }\n",
       "\n",
       "    .dataframe thead th {\n",
       "        text-align: right;\n",
       "    }\n",
       "</style>\n",
       "<table border=\"1\" class=\"dataframe\">\n",
       "  <thead>\n",
       "    <tr style=\"text-align: right;\">\n",
       "      <th></th>\n",
       "      <th>spec_id</th>\n",
       "      <th>page_title</th>\n",
       "      <th>brand</th>\n",
       "      <th>model</th>\n",
       "      <th>all_text</th>\n",
       "      <th>page_title_stem</th>\n",
       "      <th>all_text_stem</th>\n",
       "      <th>site</th>\n",
       "    </tr>\n",
       "  </thead>\n",
       "  <tbody>\n",
       "    <tr>\n",
       "      <th>0</th>\n",
       "      <td>www.ebay.com//57656</td>\n",
       "      <td>canon powershot elph 110 hs 16-1-mp digital</td>\n",
       "      <td>canon</td>\n",
       "      <td>NaN</td>\n",
       "      <td>canon powershot elph 110 hs 16-1-mp digital ca...</td>\n",
       "      <td>canon powershot elph 110 hs 16-1-mp digit</td>\n",
       "      <td>canon powershot elph 110 hs 16-1-mp digit cano...</td>\n",
       "      <td>www.ebay.com</td>\n",
       "    </tr>\n",
       "    <tr>\n",
       "      <th>1</th>\n",
       "      <td>www.ebay.com//60583</td>\n",
       "      <td>canon rebel 2000 35mm great case instruction b...</td>\n",
       "      <td>canon</td>\n",
       "      <td>NaN</td>\n",
       "      <td>canon rebel 2000 35mm great case instruction b...</td>\n",
       "      <td>canon rebel 2000 35mm great case instruct booklet</td>\n",
       "      <td>canon rebel 2000 35mm great case instruct book...</td>\n",
       "      <td>www.ebay.com</td>\n",
       "    </tr>\n",
       "    <tr>\n",
       "      <th>2</th>\n",
       "      <td>www.ebay.com//60440</td>\n",
       "      <td>canon eos rebel t3i digital slr 18 55mm 75 300...</td>\n",
       "      <td>canon</td>\n",
       "      <td>t3i</td>\n",
       "      <td>canon eos rebel t3i digital slr 18 55mm 75 300...</td>\n",
       "      <td>canon eo rebel t3i digit slr 18 55mm 75 300mm ...</td>\n",
       "      <td>canon eo rebel t3i digit slr 18 55mm 75 300mm ...</td>\n",
       "      <td>www.ebay.com</td>\n",
       "    </tr>\n",
       "    <tr>\n",
       "      <th>3</th>\n",
       "      <td>www.ebay.com//24139</td>\n",
       "      <td>ge c1033 10-1-mp digital 3x zoom 2 4 lcd</td>\n",
       "      <td>NaN</td>\n",
       "      <td>c1033</td>\n",
       "      <td>ge c1033 10-1-mp digital 3x zoom 2 4 lcd ge br...</td>\n",
       "      <td>ge c1033 10-1-mp digit 3x zoom 2 4 lcd</td>\n",
       "      <td>ge c1033 10-1-mp digit 3x zoom 2 4 lcd ge bran...</td>\n",
       "      <td>www.ebay.com</td>\n",
       "    </tr>\n",
       "    <tr>\n",
       "      <th>4</th>\n",
       "      <td>www.ebay.com//54903</td>\n",
       "      <td>vivitar clip shot digital 1-1-mp</td>\n",
       "      <td>vivitar</td>\n",
       "      <td>NaN</td>\n",
       "      <td>vivitar clip shot digital 1-1-mp vivitar brand...</td>\n",
       "      <td>vivitar clip shot digit 1-1-mp</td>\n",
       "      <td>vivitar clip shot digit 1-1-mp vivitar brand-n...</td>\n",
       "      <td>www.ebay.com</td>\n",
       "    </tr>\n",
       "  </tbody>\n",
       "</table>\n",
       "</div>"
      ],
      "text/plain": [
       "               spec_id                                         page_title  \\\n",
       "0  www.ebay.com//57656        canon powershot elph 110 hs 16-1-mp digital   \n",
       "1  www.ebay.com//60583  canon rebel 2000 35mm great case instruction b...   \n",
       "2  www.ebay.com//60440  canon eos rebel t3i digital slr 18 55mm 75 300...   \n",
       "3  www.ebay.com//24139           ge c1033 10-1-mp digital 3x zoom 2 4 lcd   \n",
       "4  www.ebay.com//54903                   vivitar clip shot digital 1-1-mp   \n",
       "\n",
       "     brand  model                                           all_text  \\\n",
       "0    canon    NaN  canon powershot elph 110 hs 16-1-mp digital ca...   \n",
       "1    canon    NaN  canon rebel 2000 35mm great case instruction b...   \n",
       "2    canon    t3i  canon eos rebel t3i digital slr 18 55mm 75 300...   \n",
       "3      NaN  c1033  ge c1033 10-1-mp digital 3x zoom 2 4 lcd ge br...   \n",
       "4  vivitar    NaN  vivitar clip shot digital 1-1-mp vivitar brand...   \n",
       "\n",
       "                                     page_title_stem  \\\n",
       "0          canon powershot elph 110 hs 16-1-mp digit   \n",
       "1  canon rebel 2000 35mm great case instruct booklet   \n",
       "2  canon eo rebel t3i digit slr 18 55mm 75 300mm ...   \n",
       "3             ge c1033 10-1-mp digit 3x zoom 2 4 lcd   \n",
       "4                     vivitar clip shot digit 1-1-mp   \n",
       "\n",
       "                                       all_text_stem          site  \n",
       "0  canon powershot elph 110 hs 16-1-mp digit cano...  www.ebay.com  \n",
       "1  canon rebel 2000 35mm great case instruct book...  www.ebay.com  \n",
       "2  canon eo rebel t3i digit slr 18 55mm 75 300mm ...  www.ebay.com  \n",
       "3  ge c1033 10-1-mp digit 3x zoom 2 4 lcd ge bran...  www.ebay.com  \n",
       "4  vivitar clip shot digit 1-1-mp vivitar brand-n...  www.ebay.com  "
      ]
     },
     "execution_count": 11,
     "metadata": {},
     "output_type": "execute_result"
    }
   ],
   "source": [
    "specs_df.head()"
   ]
  },
  {
   "cell_type": "markdown",
   "metadata": {
    "Collapsed": "false"
   },
   "source": [
    "# Additional labels"
   ]
  },
  {
   "cell_type": "code",
   "execution_count": 844,
   "metadata": {
    "Collapsed": "false"
   },
   "outputs": [
    {
     "name": "stderr",
     "output_type": "stream",
     "text": [
      "\n",
      "\n",
      "\n",
      "\n",
      "\n",
      "\n",
      "\n",
      "\n",
      "\n",
      "0it [00:00, ?it/s]\u001b[A\u001b[A\u001b[A\u001b[A\u001b[A\u001b[A\u001b[A\u001b[A\u001b[A\n",
      "\n",
      "\n",
      "\n",
      "\n",
      "\n",
      "\n",
      "\n",
      "\n",
      "363it [00:00, 3627.50it/s]\u001b[A\u001b[A\u001b[A\u001b[A\u001b[A\u001b[A\u001b[A\u001b[A\u001b[A\n",
      "\n",
      "\n",
      "\n",
      "\n",
      "\n",
      "\n",
      "\n",
      "\n",
      "657it [00:00, 3389.39it/s]\u001b[A\u001b[A\u001b[A\u001b[A\u001b[A\u001b[A\u001b[A\u001b[A\u001b[A\n",
      "\n",
      "\n",
      "\n",
      "\n",
      "\n",
      "\n",
      "\n",
      "\n",
      "1110it [00:00, 3665.94it/s]\u001b[A\u001b[A\u001b[A\u001b[A\u001b[A\u001b[A\u001b[A\u001b[A\u001b[A\n",
      "\n",
      "\n",
      "\n",
      "\n",
      "\n",
      "\n",
      "\n",
      "\n",
      "1261it [00:00, 3681.00it/s]\u001b[A\u001b[A\u001b[A\u001b[A\u001b[A\u001b[A\u001b[A\u001b[A\u001b[A\n",
      "\n",
      "\n",
      "\n",
      "\n",
      "\n",
      "\n",
      "\n",
      "\n",
      "  0%|          | 0/41 [00:00<?, ?it/s]\u001b[A\u001b[A\u001b[A\u001b[A\u001b[A\u001b[A\u001b[A\u001b[A\u001b[A\n",
      "\n",
      "\n",
      "\n",
      "\n",
      "\n",
      "\n",
      "\n",
      "\n",
      " 10%|▉         | 4/41 [00:11<01:44,  2.83s/it]\u001b[A\u001b[A\u001b[A\u001b[A\u001b[A\u001b[A\u001b[A\u001b[A\u001b[A\n",
      "\n",
      "\n",
      "\n",
      "\n",
      "\n",
      "\n",
      "\n",
      "\n",
      " 12%|█▏        | 5/41 [00:11<01:17,  2.15s/it]\u001b[A\u001b[A\u001b[A\u001b[A\u001b[A\u001b[A\u001b[A\u001b[A\u001b[A\n",
      "\n",
      "\n",
      "\n",
      "\n",
      "\n",
      "\n",
      "\n",
      "\n",
      " 34%|███▍      | 14/41 [00:20<00:48,  1.80s/it]\u001b[A\u001b[A\u001b[A\u001b[A\u001b[A\u001b[A\u001b[A\u001b[A\u001b[A\n",
      "\n",
      "\n",
      "\n",
      "\n",
      "\n",
      "\n",
      "\n",
      "\n",
      " 46%|████▋     | 19/41 [00:27<00:36,  1.65s/it]\u001b[A\u001b[A\u001b[A\u001b[A\u001b[A\u001b[A\u001b[A\u001b[A\u001b[A\n",
      "\n",
      "\n",
      "\n",
      "\n",
      "\n",
      "\n",
      "\n",
      "\n",
      " 59%|█████▊    | 24/41 [00:37<00:30,  1.78s/it]\u001b[A\u001b[A\u001b[A\u001b[A\u001b[A\u001b[A\u001b[A\u001b[A\u001b[A\n",
      "\n",
      "\n",
      "\n",
      "\n",
      "\n",
      "\n",
      "\n",
      "\n",
      " 61%|██████    | 25/41 [00:45<00:56,  3.56s/it]\u001b[A\u001b[A\u001b[A\u001b[A\u001b[A\u001b[A\u001b[A\u001b[A\u001b[A\n",
      "\n",
      "\n",
      "\n",
      "\n",
      "\n",
      "\n",
      "\n",
      "\n",
      " 63%|██████▎   | 26/41 [00:51<01:03,  4.24s/it]\u001b[A\u001b[A\u001b[A\u001b[A\u001b[A\u001b[A\u001b[A\u001b[A\u001b[A\n",
      "\n",
      "\n",
      "\n",
      "\n",
      "\n",
      "\n",
      "\n",
      "\n",
      " 66%|██████▌   | 27/41 [00:52<00:44,  3.21s/it]\u001b[A\u001b[A\u001b[A\u001b[A\u001b[A\u001b[A\u001b[A\u001b[A\u001b[A\n",
      "\n",
      "\n",
      "\n",
      "\n",
      "\n",
      "\n",
      "\n",
      "\n",
      " 71%|███████   | 29/41 [00:52<00:27,  2.27s/it]\u001b[A\u001b[A\u001b[A\u001b[A\u001b[A\u001b[A\u001b[A\u001b[A\u001b[A\n",
      "\n",
      "\n",
      "\n",
      "\n",
      "\n",
      "\n",
      "\n",
      "\n",
      " 78%|███████▊  | 32/41 [00:55<00:17,  1.92s/it]\u001b[A\u001b[A\u001b[A\u001b[A\u001b[A\u001b[A\u001b[A\u001b[A\u001b[A\n",
      "\n",
      "\n",
      "\n",
      "\n",
      "\n",
      "\n",
      "\n",
      "\n",
      " 93%|█████████▎| 38/41 [01:32<00:09,  3.18s/it]\u001b[A\u001b[A\u001b[A\u001b[A\u001b[A\u001b[A\u001b[A\u001b[A\u001b[A\n",
      "\n",
      "\n",
      "\n",
      "\n",
      "\n",
      "\n",
      "\n",
      "\n",
      " 98%|█████████▊| 40/41 [01:32<00:02,  2.25s/it]\u001b[A\u001b[A\u001b[A\u001b[A\u001b[A\u001b[A\u001b[A\u001b[A\u001b[A\n",
      "\n",
      "\n",
      "\n",
      "\n",
      "\n",
      "\n",
      "\n",
      "\n",
      "100%|██████████| 41/41 [01:32<00:00,  2.25s/it]\u001b[A\u001b[A\u001b[A\u001b[A\u001b[A\u001b[A\u001b[A\u001b[A\u001b[A"
     ]
    }
   ],
   "source": [
    "additional_labels = get_additional_labels(labels_df, specs_df)"
   ]
  },
  {
   "cell_type": "code",
   "execution_count": 845,
   "metadata": {
    "Collapsed": "false"
   },
   "outputs": [],
   "source": [
    "# additional_labels.head()"
   ]
  },
  {
   "cell_type": "code",
   "execution_count": 846,
   "metadata": {
    "Collapsed": "false"
   },
   "outputs": [],
   "source": [
    "# additional_labels.shape"
   ]
  },
  {
   "cell_type": "code",
   "execution_count": 847,
   "metadata": {
    "Collapsed": "false"
   },
   "outputs": [
    {
     "data": {
      "text/plain": [
       "(1462314, 3)"
      ]
     },
     "execution_count": 847,
     "metadata": {},
     "output_type": "execute_result"
    }
   ],
   "source": [
    "all_labels = pd.concat([labels_df, additional_labels], axis=0)\n",
    "all_labels.shape"
   ]
  },
  {
   "cell_type": "markdown",
   "metadata": {
    "Collapsed": "false"
   },
   "source": [
    "# Classes df"
   ]
  },
  {
   "cell_type": "code",
   "execution_count": 13,
   "metadata": {
    "Collapsed": "false"
   },
   "outputs": [],
   "source": [
    "classes_df = make_classes_df(labels_df)"
   ]
  },
  {
   "cell_type": "code",
   "execution_count": 14,
   "metadata": {
    "Collapsed": "false"
   },
   "outputs": [
    {
     "data": {
      "text/html": [
       "<div>\n",
       "<style scoped>\n",
       "    .dataframe tbody tr th:only-of-type {\n",
       "        vertical-align: middle;\n",
       "    }\n",
       "\n",
       "    .dataframe tbody tr th {\n",
       "        vertical-align: top;\n",
       "    }\n",
       "\n",
       "    .dataframe thead th {\n",
       "        text-align: right;\n",
       "    }\n",
       "</style>\n",
       "<table border=\"1\" class=\"dataframe\">\n",
       "  <thead>\n",
       "    <tr style=\"text-align: right;\">\n",
       "      <th></th>\n",
       "      <th>spec_id</th>\n",
       "      <th>class_</th>\n",
       "    </tr>\n",
       "  </thead>\n",
       "  <tbody>\n",
       "    <tr>\n",
       "      <th>0</th>\n",
       "      <td>buy.net//5641</td>\n",
       "      <td>0</td>\n",
       "    </tr>\n",
       "    <tr>\n",
       "      <th>1</th>\n",
       "      <td>www.ebay.com//54217</td>\n",
       "      <td>0</td>\n",
       "    </tr>\n",
       "    <tr>\n",
       "      <th>2</th>\n",
       "      <td>www.ebay.com//58588</td>\n",
       "      <td>0</td>\n",
       "    </tr>\n",
       "    <tr>\n",
       "      <th>3</th>\n",
       "      <td>www.ebay.com//59612</td>\n",
       "      <td>0</td>\n",
       "    </tr>\n",
       "    <tr>\n",
       "      <th>4</th>\n",
       "      <td>www.gosale.com//849</td>\n",
       "      <td>0</td>\n",
       "    </tr>\n",
       "  </tbody>\n",
       "</table>\n",
       "</div>"
      ],
      "text/plain": [
       "               spec_id  class_\n",
       "0        buy.net//5641       0\n",
       "1  www.ebay.com//54217       0\n",
       "2  www.ebay.com//58588       0\n",
       "3  www.ebay.com//59612       0\n",
       "4  www.gosale.com//849       0"
      ]
     },
     "execution_count": 14,
     "metadata": {},
     "output_type": "execute_result"
    }
   ],
   "source": [
    "classes_df.head()"
   ]
  },
  {
   "cell_type": "code",
   "execution_count": 15,
   "metadata": {
    "Collapsed": "false"
   },
   "outputs": [
    {
     "data": {
      "text/plain": [
       "(908, 2)"
      ]
     },
     "execution_count": 15,
     "metadata": {},
     "output_type": "execute_result"
    }
   ],
   "source": [
    "classes_df.shape"
   ]
  },
  {
   "cell_type": "code",
   "execution_count": 16,
   "metadata": {
    "Collapsed": "false"
   },
   "outputs": [
    {
     "data": {
      "text/plain": [
       "6     178\n",
       "2     130\n",
       "11     95\n",
       "4      91\n",
       "13     80\n",
       "7      78\n",
       "9      57\n",
       "1      55\n",
       "12     16\n",
       "25     14\n",
       "10     14\n",
       "20     11\n",
       "19      9\n",
       "5       9\n",
       "23      9\n",
       "3       9\n",
       "17      7\n",
       "0       6\n",
       "14      5\n",
       "16      5\n",
       "18      5\n",
       "15      4\n",
       "22      4\n",
       "27      4\n",
       "26      3\n",
       "28      2\n",
       "8       2\n",
       "21      2\n",
       "24      2\n",
       "29      2\n",
       "Name: class_, dtype: int64"
      ]
     },
     "execution_count": 16,
     "metadata": {},
     "output_type": "execute_result"
    }
   ],
   "source": [
    "classes_df.class_.value_counts()"
   ]
  },
  {
   "cell_type": "markdown",
   "metadata": {
    "Collapsed": "false"
   },
   "source": [
    "### Add classes to specs"
   ]
  },
  {
   "cell_type": "code",
   "execution_count": 17,
   "metadata": {
    "Collapsed": "false"
   },
   "outputs": [
    {
     "data": {
      "text/html": [
       "<div>\n",
       "<style scoped>\n",
       "    .dataframe tbody tr th:only-of-type {\n",
       "        vertical-align: middle;\n",
       "    }\n",
       "\n",
       "    .dataframe tbody tr th {\n",
       "        vertical-align: top;\n",
       "    }\n",
       "\n",
       "    .dataframe thead th {\n",
       "        text-align: right;\n",
       "    }\n",
       "</style>\n",
       "<table border=\"1\" class=\"dataframe\">\n",
       "  <thead>\n",
       "    <tr style=\"text-align: right;\">\n",
       "      <th></th>\n",
       "      <th>spec_id</th>\n",
       "      <th>page_title</th>\n",
       "      <th>brand</th>\n",
       "      <th>model</th>\n",
       "      <th>all_text</th>\n",
       "      <th>page_title_stem</th>\n",
       "      <th>all_text_stem</th>\n",
       "      <th>site</th>\n",
       "      <th>class_</th>\n",
       "    </tr>\n",
       "  </thead>\n",
       "  <tbody>\n",
       "    <tr>\n",
       "      <th>0</th>\n",
       "      <td>www.ebay.com//57656</td>\n",
       "      <td>canon powershot elph 110 hs 16-1-mp digital</td>\n",
       "      <td>canon</td>\n",
       "      <td>NaN</td>\n",
       "      <td>canon powershot elph 110 hs 16-1-mp digital ca...</td>\n",
       "      <td>canon powershot elph 110 hs 16-1-mp digit</td>\n",
       "      <td>canon powershot elph 110 hs 16-1-mp digit cano...</td>\n",
       "      <td>www.ebay.com</td>\n",
       "      <td>NaN</td>\n",
       "    </tr>\n",
       "    <tr>\n",
       "      <th>1</th>\n",
       "      <td>www.ebay.com//60583</td>\n",
       "      <td>canon rebel 2000 35mm great case instruction b...</td>\n",
       "      <td>canon</td>\n",
       "      <td>NaN</td>\n",
       "      <td>canon rebel 2000 35mm great case instruction b...</td>\n",
       "      <td>canon rebel 2000 35mm great case instruct booklet</td>\n",
       "      <td>canon rebel 2000 35mm great case instruct book...</td>\n",
       "      <td>www.ebay.com</td>\n",
       "      <td>NaN</td>\n",
       "    </tr>\n",
       "    <tr>\n",
       "      <th>2</th>\n",
       "      <td>www.ebay.com//60440</td>\n",
       "      <td>canon eos rebel t3i digital slr 18 55mm 75 300...</td>\n",
       "      <td>canon</td>\n",
       "      <td>t3i</td>\n",
       "      <td>canon eos rebel t3i digital slr 18 55mm 75 300...</td>\n",
       "      <td>canon eo rebel t3i digit slr 18 55mm 75 300mm ...</td>\n",
       "      <td>canon eo rebel t3i digit slr 18 55mm 75 300mm ...</td>\n",
       "      <td>www.ebay.com</td>\n",
       "      <td>NaN</td>\n",
       "    </tr>\n",
       "    <tr>\n",
       "      <th>3</th>\n",
       "      <td>www.ebay.com//24139</td>\n",
       "      <td>ge c1033 10-1-mp digital 3x zoom 2 4 lcd</td>\n",
       "      <td>NaN</td>\n",
       "      <td>c1033</td>\n",
       "      <td>ge c1033 10-1-mp digital 3x zoom 2 4 lcd ge br...</td>\n",
       "      <td>ge c1033 10-1-mp digit 3x zoom 2 4 lcd</td>\n",
       "      <td>ge c1033 10-1-mp digit 3x zoom 2 4 lcd ge bran...</td>\n",
       "      <td>www.ebay.com</td>\n",
       "      <td>NaN</td>\n",
       "    </tr>\n",
       "    <tr>\n",
       "      <th>4</th>\n",
       "      <td>www.ebay.com//54903</td>\n",
       "      <td>vivitar clip shot digital 1-1-mp</td>\n",
       "      <td>vivitar</td>\n",
       "      <td>NaN</td>\n",
       "      <td>vivitar clip shot digital 1-1-mp vivitar brand...</td>\n",
       "      <td>vivitar clip shot digit 1-1-mp</td>\n",
       "      <td>vivitar clip shot digit 1-1-mp vivitar brand-n...</td>\n",
       "      <td>www.ebay.com</td>\n",
       "      <td>NaN</td>\n",
       "    </tr>\n",
       "  </tbody>\n",
       "</table>\n",
       "</div>"
      ],
      "text/plain": [
       "               spec_id                                         page_title  \\\n",
       "0  www.ebay.com//57656        canon powershot elph 110 hs 16-1-mp digital   \n",
       "1  www.ebay.com//60583  canon rebel 2000 35mm great case instruction b...   \n",
       "2  www.ebay.com//60440  canon eos rebel t3i digital slr 18 55mm 75 300...   \n",
       "3  www.ebay.com//24139           ge c1033 10-1-mp digital 3x zoom 2 4 lcd   \n",
       "4  www.ebay.com//54903                   vivitar clip shot digital 1-1-mp   \n",
       "\n",
       "     brand  model                                           all_text  \\\n",
       "0    canon    NaN  canon powershot elph 110 hs 16-1-mp digital ca...   \n",
       "1    canon    NaN  canon rebel 2000 35mm great case instruction b...   \n",
       "2    canon    t3i  canon eos rebel t3i digital slr 18 55mm 75 300...   \n",
       "3      NaN  c1033  ge c1033 10-1-mp digital 3x zoom 2 4 lcd ge br...   \n",
       "4  vivitar    NaN  vivitar clip shot digital 1-1-mp vivitar brand...   \n",
       "\n",
       "                                     page_title_stem  \\\n",
       "0          canon powershot elph 110 hs 16-1-mp digit   \n",
       "1  canon rebel 2000 35mm great case instruct booklet   \n",
       "2  canon eo rebel t3i digit slr 18 55mm 75 300mm ...   \n",
       "3             ge c1033 10-1-mp digit 3x zoom 2 4 lcd   \n",
       "4                     vivitar clip shot digit 1-1-mp   \n",
       "\n",
       "                                       all_text_stem          site  class_  \n",
       "0  canon powershot elph 110 hs 16-1-mp digit cano...  www.ebay.com     NaN  \n",
       "1  canon rebel 2000 35mm great case instruct book...  www.ebay.com     NaN  \n",
       "2  canon eo rebel t3i digit slr 18 55mm 75 300mm ...  www.ebay.com     NaN  \n",
       "3  ge c1033 10-1-mp digit 3x zoom 2 4 lcd ge bran...  www.ebay.com     NaN  \n",
       "4  vivitar clip shot digit 1-1-mp vivitar brand-n...  www.ebay.com     NaN  "
      ]
     },
     "execution_count": 17,
     "metadata": {},
     "output_type": "execute_result"
    }
   ],
   "source": [
    "specs_df = specs_df.merge(classes_df, how='left', on='spec_id')\n",
    "specs_df.head()"
   ]
  },
  {
   "cell_type": "code",
   "execution_count": 18,
   "metadata": {
    "Collapsed": "false"
   },
   "outputs": [
    {
     "data": {
      "text/plain": [
       "(28132, 9)"
      ]
     },
     "execution_count": 18,
     "metadata": {},
     "output_type": "execute_result"
    }
   ],
   "source": [
    "specs_df.shape"
   ]
  },
  {
   "cell_type": "code",
   "execution_count": 19,
   "metadata": {
    "Collapsed": "false"
   },
   "outputs": [
    {
     "data": {
      "text/plain": [
       "6.0     178\n",
       "2.0     130\n",
       "11.0     95\n",
       "4.0      91\n",
       "13.0     80\n",
       "7.0      78\n",
       "9.0      57\n",
       "1.0      55\n",
       "12.0     16\n",
       "10.0     14\n",
       "25.0     14\n",
       "20.0     11\n",
       "5.0       9\n",
       "3.0       9\n",
       "19.0      9\n",
       "23.0      9\n",
       "17.0      7\n",
       "0.0       6\n",
       "16.0      5\n",
       "14.0      5\n",
       "18.0      5\n",
       "22.0      4\n",
       "27.0      4\n",
       "15.0      4\n",
       "26.0      3\n",
       "8.0       2\n",
       "24.0      2\n",
       "28.0      2\n",
       "21.0      2\n",
       "29.0      2\n",
       "Name: class_, dtype: int64"
      ]
     },
     "execution_count": 19,
     "metadata": {},
     "output_type": "execute_result"
    }
   ],
   "source": [
    "class_vcounts = specs_df.class_.value_counts()\n",
    "class_vcounts"
   ]
  },
  {
   "cell_type": "code",
   "execution_count": 20,
   "metadata": {
    "Collapsed": "false"
   },
   "outputs": [
    {
     "data": {
      "text/plain": [
       "[]"
      ]
     },
     "execution_count": 20,
     "metadata": {},
     "output_type": "execute_result"
    }
   ],
   "source": [
    "bad_classes = list(class_vcounts[class_vcounts<2].index)\n",
    "bad_classes"
   ]
  },
  {
   "cell_type": "code",
   "execution_count": 21,
   "metadata": {
    "Collapsed": "false"
   },
   "outputs": [
    {
     "data": {
      "text/plain": [
       "(28132, 9)"
      ]
     },
     "execution_count": 21,
     "metadata": {},
     "output_type": "execute_result"
    }
   ],
   "source": [
    "specs_df.shape"
   ]
  },
  {
   "cell_type": "code",
   "execution_count": 22,
   "metadata": {
    "Collapsed": "false"
   },
   "outputs": [
    {
     "data": {
      "text/plain": [
       "(28132, 9)"
      ]
     },
     "execution_count": 22,
     "metadata": {},
     "output_type": "execute_result"
    }
   ],
   "source": [
    "specs_df = specs_df[~specs_df.class_.isin(bad_classes)]\n",
    "specs_df.shape"
   ]
  },
  {
   "cell_type": "code",
   "execution_count": 23,
   "metadata": {
    "Collapsed": "false"
   },
   "outputs": [
    {
     "data": {
      "text/plain": [
       "(908, 9)"
      ]
     },
     "execution_count": 23,
     "metadata": {},
     "output_type": "execute_result"
    }
   ],
   "source": [
    "labelled_specs_df = specs_df[~specs_df.class_.isnull()].copy()\n",
    "labelled_specs_df.shape"
   ]
  },
  {
   "cell_type": "code",
   "execution_count": 24,
   "metadata": {
    "Collapsed": "false"
   },
   "outputs": [],
   "source": [
    "labelled_specs_df.to_csv('../data/interim/specs_df_labelled.csv', index=None)"
   ]
  },
  {
   "cell_type": "code",
   "execution_count": 860,
   "metadata": {
    "Collapsed": "false"
   },
   "outputs": [
    {
     "data": {
      "text/html": [
       "<div>\n",
       "<style scoped>\n",
       "    .dataframe tbody tr th:only-of-type {\n",
       "        vertical-align: middle;\n",
       "    }\n",
       "\n",
       "    .dataframe tbody tr th {\n",
       "        vertical-align: top;\n",
       "    }\n",
       "\n",
       "    .dataframe thead th {\n",
       "        text-align: right;\n",
       "    }\n",
       "</style>\n",
       "<table border=\"1\" class=\"dataframe\">\n",
       "  <thead>\n",
       "    <tr style=\"text-align: right;\">\n",
       "      <th></th>\n",
       "      <th>spec_id</th>\n",
       "      <th>page_title</th>\n",
       "      <th>brand</th>\n",
       "      <th>model</th>\n",
       "      <th>all_text</th>\n",
       "      <th>page_title_stem</th>\n",
       "      <th>all_text_stem</th>\n",
       "      <th>site</th>\n",
       "      <th>class_</th>\n",
       "      <th>spec_idx</th>\n",
       "    </tr>\n",
       "  </thead>\n",
       "  <tbody>\n",
       "    <tr>\n",
       "      <th>2</th>\n",
       "      <td>www.ebay.com//60440</td>\n",
       "      <td>canon eos rebel t3i digital slr 18 55mm 75 300...</td>\n",
       "      <td>canon</td>\n",
       "      <td>t3i</td>\n",
       "      <td>canon eos rebel t3i digital slr 18 55mm 75 300...</td>\n",
       "      <td>canon eo rebel t3i digit slr 18 55mm 75 300mm ...</td>\n",
       "      <td>canon eo rebel t3i digit slr 18 55mm 75 300mm ...</td>\n",
       "      <td>www.ebay.com</td>\n",
       "      <td>1.0</td>\n",
       "      <td>0</td>\n",
       "    </tr>\n",
       "    <tr>\n",
       "      <th>5</th>\n",
       "      <td>www.ebay.com//46571</td>\n",
       "      <td>sony cyber shot dsc w130 8-1-mp digital 4x opt...</td>\n",
       "      <td>sony</td>\n",
       "      <td>dscw130</td>\n",
       "      <td>sony cyber shot dsc w130 8-1-mp digital 4x opt...</td>\n",
       "      <td>soni cyber shot dsc w130 8-1-mp digit 4x optic...</td>\n",
       "      <td>soni cyber shot dsc w130 8-1-mp digit 4x optic...</td>\n",
       "      <td>www.ebay.com</td>\n",
       "      <td>649.0</td>\n",
       "      <td>1</td>\n",
       "    </tr>\n",
       "    <tr>\n",
       "      <th>6</th>\n",
       "      <td>www.ebay.com//46742</td>\n",
       "      <td>nikon d810 36-3-mp digital slr body</td>\n",
       "      <td>nikon</td>\n",
       "      <td>d810</td>\n",
       "      <td>d810 36-3-mp digital slr body brand-new applic...</td>\n",
       "      <td>nikon d810 36-3-mp digit slr bodi</td>\n",
       "      <td>d810 36-3-mp digit slr bodi brand-new applic f...</td>\n",
       "      <td>www.ebay.com</td>\n",
       "      <td>344.0</td>\n",
       "      <td>2</td>\n",
       "    </tr>\n",
       "    <tr>\n",
       "      <th>7</th>\n",
       "      <td>www.ebay.com//44821</td>\n",
       "      <td>nikon d610 24-3-mp nikkor af 24 85mm f 3 5 4 5...</td>\n",
       "      <td>nikon</td>\n",
       "      <td>d610</td>\n",
       "      <td>d610 24-3-mp nikkor af 24 85mm f 3 5 4 5g ed v...</td>\n",
       "      <td>nikon d610 24-3-mp nikkor af 24 85mm f 3 5 4 5...</td>\n",
       "      <td>d610 24-3-mp nikkor af 24 85mm f 3 5 4 5g ed v...</td>\n",
       "      <td>www.ebay.com</td>\n",
       "      <td>71.0</td>\n",
       "      <td>3</td>\n",
       "    </tr>\n",
       "    <tr>\n",
       "      <th>8</th>\n",
       "      <td>www.ebay.com//60340</td>\n",
       "      <td>sony a7 alpha mirrorless digital body</td>\n",
       "      <td>sony</td>\n",
       "      <td>ilce7</td>\n",
       "      <td>sony a7 alpha mirrorless digital body sony yes...</td>\n",
       "      <td>soni a7 alpha mirrorless digit bodi</td>\n",
       "      <td>soni a7 alpha mirrorless digit bodi soni yes 2...</td>\n",
       "      <td>www.ebay.com</td>\n",
       "      <td>709.0</td>\n",
       "      <td>4</td>\n",
       "    </tr>\n",
       "  </tbody>\n",
       "</table>\n",
       "</div>"
      ],
      "text/plain": [
       "               spec_id                                         page_title  \\\n",
       "2  www.ebay.com//60440  canon eos rebel t3i digital slr 18 55mm 75 300...   \n",
       "5  www.ebay.com//46571  sony cyber shot dsc w130 8-1-mp digital 4x opt...   \n",
       "6  www.ebay.com//46742                nikon d810 36-3-mp digital slr body   \n",
       "7  www.ebay.com//44821  nikon d610 24-3-mp nikkor af 24 85mm f 3 5 4 5...   \n",
       "8  www.ebay.com//60340              sony a7 alpha mirrorless digital body   \n",
       "\n",
       "   brand    model                                           all_text  \\\n",
       "2  canon      t3i  canon eos rebel t3i digital slr 18 55mm 75 300...   \n",
       "5   sony  dscw130  sony cyber shot dsc w130 8-1-mp digital 4x opt...   \n",
       "6  nikon     d810  d810 36-3-mp digital slr body brand-new applic...   \n",
       "7  nikon     d610  d610 24-3-mp nikkor af 24 85mm f 3 5 4 5g ed v...   \n",
       "8   sony    ilce7  sony a7 alpha mirrorless digital body sony yes...   \n",
       "\n",
       "                                     page_title_stem  \\\n",
       "2  canon eo rebel t3i digit slr 18 55mm 75 300mm ...   \n",
       "5  soni cyber shot dsc w130 8-1-mp digit 4x optic...   \n",
       "6                  nikon d810 36-3-mp digit slr bodi   \n",
       "7  nikon d610 24-3-mp nikkor af 24 85mm f 3 5 4 5...   \n",
       "8                soni a7 alpha mirrorless digit bodi   \n",
       "\n",
       "                                       all_text_stem          site  class_  \\\n",
       "2  canon eo rebel t3i digit slr 18 55mm 75 300mm ...  www.ebay.com     1.0   \n",
       "5  soni cyber shot dsc w130 8-1-mp digit 4x optic...  www.ebay.com   649.0   \n",
       "6  d810 36-3-mp digit slr bodi brand-new applic f...  www.ebay.com   344.0   \n",
       "7  d610 24-3-mp nikkor af 24 85mm f 3 5 4 5g ed v...  www.ebay.com    71.0   \n",
       "8  soni a7 alpha mirrorless digit bodi soni yes 2...  www.ebay.com   709.0   \n",
       "\n",
       "   spec_idx  \n",
       "2         0  \n",
       "5         1  \n",
       "6         2  \n",
       "7         3  \n",
       "8         4  "
      ]
     },
     "execution_count": 860,
     "metadata": {},
     "output_type": "execute_result"
    }
   ],
   "source": [
    "labelled_specs_df['spec_idx'] = range(len(labelled_specs_df))\n",
    "labelled_specs_df.head()"
   ]
  },
  {
   "cell_type": "code",
   "execution_count": 861,
   "metadata": {
    "Collapsed": "false"
   },
   "outputs": [
    {
     "data": {
      "text/plain": [
       "array(['canon eo 7d 18-0-mp digit slr 18 135mm 75 300mm pistol grip',\n",
       "       'canon eo 7d 18-0-mp digit slr bodi w batteri grip plus 013803117493',\n",
       "       'canon eo 7d 18-0-mp digit slr bodi 013803117509',\n",
       "       'canon eo 7d 18-0-mp digit slr bodi english version free express 013803117493',\n",
       "       'canon eo 7d kit come everyth 013803117493',\n",
       "       'canon eo 7d 18-0-mp digit slr 28 135mm len mani extra 013803117493',\n",
       "       'canon eo 7d 18-0-mp digit slr kit w ef 18 135mm len',\n",
       "       'canon eo 7d dslr 013803117493',\n",
       "       'canon eo 7d digit slr kit w ef 28 135 usm len extra bat chrgr',\n",
       "       'canon eo 7d 18-0-mp digit slr bodi',\n",
       "       'canon eo 7d 18-0-mp digit slr bodi complet kit 013803117509',\n",
       "       'canon eo 7d slr bodi 18-0-mp 4 gb lexar cf memori card 1 3814b004 013803117493',\n",
       "       'canon eo 7d 18-0-mp digit slr bodi 013803117493',\n",
       "       'pre stock perfect canon eo 7d digit slr bodi japan 013803117493',\n",
       "       'canon eo 7d 7 len dslr kit 44 piec pro packag 013803117493',\n",
       "       'canon eo 7d digit slr bodi box accessori 013803117493',\n",
       "       'canon eo 7d packag kit 18-0-mp canon digit slr full hd video 013803117493',\n",
       "       'canon eo 7d 18-0-mp digit slr kit w 28 135mm len',\n",
       "       'canon eo 7d 18-0-mp digit slr bodi magic lantern guid book 013803117493',\n",
       "       'canon eo 7d 18-0-mp digit slr bodi 013803117493',\n",
       "       'canon eo 7d digit slr bodi extra batteri remot 32gb top valu kit 013803117493',\n",
       "       'canon eo 7d 18-0-mp digit slr',\n",
       "       'canon eo 7d digit slr 5 len 18 55 75 300 500mm 16gb load kit 013803117493',\n",
       "       'canon eo 7d 18-mp dslr digit bodi w extra excel 013803117493',\n",
       "       'canon eo 7d 18-0-mp digit slr kit w 28 135mm len',\n",
       "       'canon 7d 18-0-mp digit slr bodi excel mark 013803117493',\n",
       "       'canon eo 7d 18-0-mp digit slr bodi usa warranti 013803117493',\n",
       "       'canon eo 7d 18-0-mp digit slr bodi 013803117493',\n",
       "       'canon eo 7d slr digit 18-0-mp bodi 013803117493',\n",
       "       'canon eo 7d 18-0-mp digit slr bodi 75k shutter 013803117493',\n",
       "       'canon eo 7d 18-0-mp bodi great 23072 013803117493',\n",
       "       'canon eo 7d 18-0-mp digit slr bodi 013803117493',\n",
       "       'canon eo 7d 18-0-mp digit slr excel 390 013803117493',\n",
       "       'nice test canon eo 7d 18-mp bodi batt charger 013803117493',\n",
       "       'canon eo 7d batteri grip bg e7 near perfect reserv 013803117493',\n",
       "       'ext canon eo 7d 18-0-mp digit slr bodi japan 013803117493',\n",
       "       'canon eo 7d hotrod pl mount 013803117493',\n",
       "       'canon eo 7d 18-0-mp dslr w ef 18 135mm bundl',\n",
       "       'canon eo 7d bodi 18-0-mp digit dslr slr japan model 013803117493',\n",
       "       'canon eo 7d 18-0-mp digit slr excel extra batteri 013803117493',\n",
       "       'canon eo 7d 18-0-mp digit slr bodi 013803117493',\n",
       "       'canon eo 7d 18-0-mp digit slr bodi 013803117493',\n",
       "       'canon eo 7d 7 18-0-mp digit slr box bodi japan 013803117493',\n",
       "       'canon eo 7d 18-0-mp digit slr kit w ef 18 55mm len',\n",
       "       'canon 7d slr bundl 2 x batteri carri bag much 013803117493',\n",
       "       'canon eo 7d digit slr bodi refurbish 013803117493',\n",
       "       'usa canon eo 7d digit slr 7 len load kit dslr mega bundl 013803117493',\n",
       "       'canon eo 7d bodi 18-0-mp digit dslr slr japan model 013803117493',\n",
       "       'canon eo 7d 18-0-mp bodi great 23186 013803117493',\n",
       "       'canon eo 7d 18-0-mp digit slr bodi extra 013803117493',\n",
       "       'canon eo 7d 18-0-mp digit slr bodi 013803117493',\n",
       "       'usa canon eo 7d digit slr bodi 7 len load kit 013803117493',\n",
       "       'canon eo 7d 18-0-mp digit slr kit w 28 135mm len',\n",
       "       'canon eo 7d 18-0-mp digit slr ef 18 135mm f 3 5 5 6 len 013803117493',\n",
       "       'canon eo 7d bodi 15 85mm f3 5 5 6 usm len kit digit japan model 013803117493',\n",
       "       'canon eo 7d 18-0-mp digit slr kit w ef 18 55mm len',\n",
       "       'usa canon eo 7d digit slr 7 len load kit 16gb 013803117493',\n",
       "       'canon eo 7d digit slr 18 55 75 300mm len kit usa',\n",
       "       'canon eo 7d 18-0-mp bodi great 22847 013803117493',\n",
       "       'canon eo 7d digit slr 18 55 55 250 len kit usa 8714574550558',\n",
       "       'canon eo 7d 18-0-mp digit slr bodi 013803117493',\n",
       "       'usa canon eo 7d 18-mp canon 18 55 3 len 16gb full kit',\n",
       "       'canon 7d bodi 013803117493',\n",
       "       'canon eo 7d 18-0-mp digit slr ef 18 135 stm len fast ship',\n",
       "       'canon eo 7d 18-0-mp digit slr bodi 013803117493',\n",
       "       'canon eo 7d 18-0-mp digit slr bodi 013803117493',\n",
       "       'canon eo 7d 18-0-mp digit slr bodi 013803117493',\n",
       "       'canon eo 7d 18-0-mp digit slr kit w ef 18 135mm len',\n",
       "       'canon eo 7d kit stock lens',\n",
       "       'canon eo 7d 18-0-mp dslr good bodi 013803117509',\n",
       "       'canon eo 7d 18-0-mp digit slr bodi plus vertic grip 013803117493',\n",
       "       'canon eo 7d 18-0-mp digit slr bodi batteri grip 013803117493',\n",
       "       'canon eo 7d 18-0-mp dslr w ef 18 135mm len low shutter count 147',\n",
       "       'canon eo 7d slr bodi accesori exc includ 60mb flash card',\n",
       "       'canon eo 7d 18-0-mp digit slr kit w ef usm 15 85mm',\n",
       "       'canon eo 7d 18-0-mp digit slr bodi 013803117493',\n",
       "       'canon eo 7d 18-0-mp digit slr bodi 013803117493',\n",
       "       'canon eo 7d 18-0-mp digit slr canon ef 28 135mm f 3 5 5 6 usm',\n",
       "       'canon eo 7d 18-0-mp digit slr 28 135mm len usa 2014',\n",
       "       'sale canon eo 7d bodi 18-0-mp ap c digit slr express 013803117493',\n",
       "       'bundl canon eo 7d 18-0-mp digit slr kit w 28 135mm len',\n",
       "       'canon eo 7d 18-0-mp bodi great 23186 013803117493',\n",
       "       '2 canon eo 7d 18-0-mp digit slr bodi 013803117493',\n",
       "       'canon eo 7d 18-0-mp digit slr bodi 013803117493',\n",
       "       'canon 7d bundl 3 lens tripod lot filter lot extra 013803117493',\n",
       "       'canon eo 7d 18-0-mp digit slr bodi perfect',\n",
       "       'canon eo 7d digit slr ef 28 135 f 3 5 5 6 usm kit box',\n",
       "       'genuin canon eo 7d bodi 18 200mm len kit digit dslr em f',\n",
       "       'canon eo 7d 18-0-mp megapixel digit slr dslr bodi bundl 013803117493',\n",
       "       'usa canon eo 7d 18-mp 5 len 16gb complet digit slr kit 8714574550558',\n",
       "       'canon 7d pl mount hot rod mod 013803117493',\n",
       "       'canon eo 7d 18-0-mp bodi great 23673 013803117493',\n",
       "       '14539 canon eo 7d doubl zoom full size excel japan import f gift nakano 013803117493',\n",
       "       'canon eo 7d 18-0-mp bodi great 013803117493',\n",
       "       'canon eo 7d 18-mp digit slr bodi 3814b004 013803117493',\n",
       "       'canon eo 7d 18-0-mp digit slr kit w ef 18 135mm len',\n",
       "       'canon eo 7d 18-mp digit slr bodi 3814b004 013803117493',\n",
       "       'canon eo 7d dslr bodi refurbish batteri grip 013803117493',\n",
       "       'canon eo 7d 18-0-mp digit slr bodi english version free express 013803117493',\n",
       "       'canon eo 7d 18-0-mp digit slr bodi 013803117509',\n",
       "       'canon eo 7d 18-0-mp digit slr bodi 013803117493',\n",
       "       'canon eo 7d 18-0-mp digit slr bodi 013803117509',\n",
       "       'canon eo 7d 18-0-mp digit slr 28 135 usm len 6425 shot',\n",
       "       'canon eo 7d 18-mp digit slr bodi 9913 shutter 013803117493',\n",
       "       'mint canon eo 7d 18-0-mp digit slr bodi 013803117509',\n",
       "       'canon eo 7d 18-0-mp digit slr bodi 013803117493',\n",
       "       'canon eo 7d 18-0-mp digit slr',\n",
       "       'canon 7d canon 18 55 75 300 iii 32gb 5 len pkg top valu bundl kit',\n",
       "       'canon eo 7d dslr bodi free ship 013803117493',\n",
       "       'canon eo 7d 18-0-mp digit slr bodi 1yr warranti 013803117493',\n",
       "       'canon eo 7d 18-0-mp dslr bodi box memori card excel 013803117493',\n",
       "       'canon eo 7d 18-0-mp bodi great 22950 013803117493',\n",
       "       'canon eo 7d 18-0-mp digit slr bodi 013803117493',\n",
       "       'canon eo 7d 18-0-mp digit slr bodi 75k shutter 013803117493',\n",
       "       'canon 7d bundl w canon bg e7 grip canon17 40 8mm fishey len prestin 013803117493',\n",
       "       'canon eo 7d bodi box dslr excel reserv 013803117493',\n",
       "       'canon eo 7d 18-0-mp digit slr includ batteri grip 013803117493',\n",
       "       'canon eo 7d 18-0-mp digit slr bodi extra 013803117509',\n",
       "       'canon eo 7d digit slr 2 canon lens 18 55 75 300 32gb kit',\n",
       "       'canon eo 7d 18-0-mp digit slr bodi 013803117493',\n",
       "       'canon eo 7d 18-0-mp bodi great 23752 013803117493',\n",
       "       'canon eo 7d 18-0-mp digit slr kit w ef 18 55mm len',\n",
       "       'canon eo 7d dslr rrs bracket 013803117493',\n",
       "       'canon eo 7d 18-0-mp digit slr kit w ef 18 135mm len',\n",
       "       'canon eo 7d bg e7 batteri girp 013803117493',\n",
       "       'canon eo 7d dslr bodi perfect shape reserv 013803117493',\n",
       "       'canon eo 7d 18-0-mp digit slr bodi 013803117493',\n",
       "       'canon eo 7d 18-0-mp digit slr kit w 28 135mm len',\n",
       "       'canon eo 7d 18-0-mp digit slr bodi 013803117493',\n",
       "       'canon eo 7d 18-0-mp digit bodi excel 013803117493',\n",
       "       '10187 canon eo 7d digit slr excel 013803117493',\n",
       "       'canon eo 7d 18-135mm india bangalor hyderabad delhi chennai mumbai pune kolkatta',\n",
       "       'canon eo 7d bodi india bangalor hyderabad delhi chennai mumbai pune kolkatta',\n",
       "       'canon eo 7d ef- 15-85mm india bangalor hyderabad delhi chennai mumbai pune kolkatta',\n",
       "       'canon eo 7d digit slr 7dplk camerafarm australia',\n",
       "       'canon eo 7d 18-55 3 5-5 6 55-250 4 0-5 6 zealand price pricem',\n",
       "       'canon eo 7d 18-55 3 5-5 6 zealand price pricem',\n",
       "       'canon eo 7d 28-135 3 5-5 6 usm zealand price pricem',\n",
       "       'canon eo 7d 24-70mm f2 8 l zealand price pricem',\n",
       "       'canon eo 7d 24-105 4 0 l usm zealand price pricem',\n",
       "       'canon eo 7d 17-55 2 8 zealand price pricem',\n",
       "       'canon eo 7d zealand price pricem',\n",
       "       'canon eo 7d 15-85 3 5-5 6 70-300 4 5-5 6 zealand price pricem',\n",
       "       'canon eo 7d 18-135 3 5-5 6 zealand price pricem',\n",
       "       'canon eo 7d 18-200 3 5-5 6 zealand price pricem',\n",
       "       'canon eo 7d 15-85 3 5-5 6 zealand price pricem',\n",
       "       'canon eo 7d dslr bodi india offer full specif pricedekho com',\n",
       "       'canon eo 7d dslr 15-85mm india offer full specif pricedekho com',\n",
       "       'canon eo 7d 15-85mm kit comparison digit camera australia',\n",
       "       'canon eo 7d 24-105mm kit comparison digit camera australia',\n",
       "       'canon eo 7d comparison digit camera australia',\n",
       "       'canon eo 7d 17-55mm kit comparison digit camera australia',\n",
       "       'canon eo 7d 24-70mm comparison digit camera australia',\n",
       "       'canon eo 7d 18-mp digit slr bodi 3 lcd walmart com',\n",
       "       'canon eo 7d ef- 18-135mm f 3 5-5 6 digit camera photo visual ilg net',\n",
       "       'canon eo 7d ef- 15-85mm f 3 5-5 6 usm digit camera photo visual ilg net',\n",
       "       'provid canon eo 7d 18-mp cmos digit slr 3-inch lcd 18-135mm f 3 5-5 6 buzzillion com',\n",
       "       'provid canon eo 7d digit slr buzzillion com',\n",
       "       'canon eo 7d slr digit kit w 28-135mm len 18-mp 4 8x opt compactflash slot comparison net',\n",
       "       'canon eo 7d premium kit', 'canon eo 7d platinum kit',\n",
       "       'canon eo 7d bodi',\n",
       "       'canon eo 7d kit 18-200mm digit price shop comparison canon eo 7d kit 18 200mm onlin india shopmania',\n",
       "       'canon eo 7d kit 18-135mm digit price shop comparison canon eo 7d kit 18 135mm onlin india shopmania',\n",
       "       'canon eo 7d kit 15-85mm digit price shop comparison canon eo 7d kit 15 85mm onlin india shopmania',\n",
       "       'canon eo 7d bodi digit price shop comparison canon eo 7 bodi onlin india shopmania',\n",
       "       'canon eo 7d 18-mp dslr sale 734 39',\n",
       "       'canon eo 7d 18-mp cmos dslr kit sale 1099 99',\n",
       "       'canon eo 7d digit slr ef- sale 1502 99',\n",
       "       'canon eo 7d 18-mp cmos digit slr sale 1099 00',\n",
       "       'canon eo 7d digit slr sale 1499 00',\n",
       "       'cammarkt canon eo 7d 18-mp cmos digit slr 3-inch lcd',\n",
       "       'cammarkt canon eo 7d 18-mp cmos digit slr 3-inch lcd bodi',\n",
       "       'cammarkt canon eo 7d 18-mp cmos digit slr 3-inch lcd 1',\n",
       "       'canon eo 7d kit 18-135mm len digit slr',\n",
       "       'canon eo 7d kit 15-85mm len digit slr',\n",
       "       'canon eo 7d bodi digit slr',\n",
       "       'canon eo 7d kit 18-200mm len digit slr'], dtype=object)"
      ]
     },
     "execution_count": 861,
     "metadata": {},
     "output_type": "execute_result"
    }
   ],
   "source": [
    "random_class = labelled_specs_df.sample(1).class_.values[0]\n",
    "\n",
    "labelled_specs_df[labelled_specs_df.class_ == random_class].page_title_stem.values"
   ]
  },
  {
   "cell_type": "markdown",
   "metadata": {
    "Collapsed": "false"
   },
   "source": [
    "# Obtain train/val split"
   ]
  },
  {
   "cell_type": "code",
   "execution_count": 862,
   "metadata": {
    "Collapsed": "false"
   },
   "outputs": [
    {
     "data": {
      "text/plain": [
       "((12281, 10), (0, 10))"
      ]
     },
     "execution_count": 862,
     "metadata": {},
     "output_type": "execute_result"
    }
   ],
   "source": [
    "INTERIM_PATH = '../data/interim/'\n",
    "TRAIN_PATH = 'specs_train.csv'\n",
    "VAL_PATH = 'specs_val.csv'\n",
    "\n",
    "classes = labelled_specs_df.class_.unique()\n",
    "val_classes = np.random.choice(classes, 0)\n",
    "\n",
    "labelled_specs_train = labelled_specs_df[~labelled_specs_df.class_.isin(val_classes)]\n",
    "labelled_specs_val = labelled_specs_df[labelled_specs_df.class_.isin(val_classes)]\n",
    "\n",
    "labelled_specs_train.to_csv(os.path.join(INTERIM_PATH, TRAIN_PATH), index=None)\n",
    "labelled_specs_val.to_csv(os.path.join(INTERIM_PATH, VAL_PATH), index=None)\n",
    "\n",
    "labelled_specs_train.shape, labelled_specs_val.shape"
   ]
  },
  {
   "cell_type": "code",
   "execution_count": 863,
   "metadata": {
    "Collapsed": "false"
   },
   "outputs": [],
   "source": [
    "def tokenize(text):\n",
    "    return text.split(' ')\n",
    "\n",
    "text_field = Field(sequential=True, tokenize=tokenize, lower=True)\n",
    "label_field = Field(sequential=False, use_vocab=False, is_target=True, dtype=torch.uint8, tokenize=None, preprocessing=lambda x: int(float(x)))"
   ]
  },
  {
   "cell_type": "code",
   "execution_count": 864,
   "metadata": {
    "Collapsed": "false"
   },
   "outputs": [
    {
     "data": {
      "text/html": [
       "<div>\n",
       "<style scoped>\n",
       "    .dataframe tbody tr th:only-of-type {\n",
       "        vertical-align: middle;\n",
       "    }\n",
       "\n",
       "    .dataframe tbody tr th {\n",
       "        vertical-align: top;\n",
       "    }\n",
       "\n",
       "    .dataframe thead th {\n",
       "        text-align: right;\n",
       "    }\n",
       "</style>\n",
       "<table border=\"1\" class=\"dataframe\">\n",
       "  <thead>\n",
       "    <tr style=\"text-align: right;\">\n",
       "      <th></th>\n",
       "      <th>spec_id</th>\n",
       "      <th>page_title</th>\n",
       "      <th>brand</th>\n",
       "      <th>model</th>\n",
       "      <th>all_text</th>\n",
       "      <th>page_title_stem</th>\n",
       "      <th>all_text_stem</th>\n",
       "      <th>site</th>\n",
       "      <th>class_</th>\n",
       "    </tr>\n",
       "  </thead>\n",
       "  <tbody>\n",
       "    <tr>\n",
       "      <th>0</th>\n",
       "      <td>www.ebay.com//57656</td>\n",
       "      <td>canon powershot elph 110 hs 16-1-mp digital</td>\n",
       "      <td>canon</td>\n",
       "      <td>NaN</td>\n",
       "      <td>canon powershot 110 hs 16-1-mp digital canon r...</td>\n",
       "      <td>canon powershot elph 110 hs 16-1-mp digit</td>\n",
       "      <td>canon powershot 110 hs 16-1-mp digit canon ref...</td>\n",
       "      <td>www.ebay.com</td>\n",
       "      <td>NaN</td>\n",
       "    </tr>\n",
       "    <tr>\n",
       "      <th>1</th>\n",
       "      <td>www.ebay.com//60583</td>\n",
       "      <td>canon rebel 2000 35mm great case instruction b...</td>\n",
       "      <td>canon</td>\n",
       "      <td>NaN</td>\n",
       "      <td>canon rebel 2000 35mm great case instruction b...</td>\n",
       "      <td>canon rebel 2000 35mm great case instruct booklet</td>\n",
       "      <td>canon rebel 2000 35mm great case instruct book...</td>\n",
       "      <td>www.ebay.com</td>\n",
       "      <td>NaN</td>\n",
       "    </tr>\n",
       "    <tr>\n",
       "      <th>2</th>\n",
       "      <td>www.ebay.com//60440</td>\n",
       "      <td>canon eos rebel t3i digital slr 18 55mm 75 300...</td>\n",
       "      <td>canon</td>\n",
       "      <td>t3i</td>\n",
       "      <td>canon eos rebel t3i digital slr 18 55mm 75 300...</td>\n",
       "      <td>canon eo rebel t3i digit slr 18 55mm 75 300mm ...</td>\n",
       "      <td>canon eo rebel t3i digit slr 18 55mm 75 300mm ...</td>\n",
       "      <td>www.ebay.com</td>\n",
       "      <td>1.0</td>\n",
       "    </tr>\n",
       "    <tr>\n",
       "      <th>3</th>\n",
       "      <td>www.ebay.com//24139</td>\n",
       "      <td>ge c1033 10-1-mp digital 3x zoom 2 4 lcd</td>\n",
       "      <td>NaN</td>\n",
       "      <td>c1033</td>\n",
       "      <td>ge c1033 10-1-mp digital 3x zoom 2 4 ge brand-...</td>\n",
       "      <td>ge c1033 10-1-mp digit 3x zoom 2 4 lcd</td>\n",
       "      <td>ge c1033 10-1-mp digit 3x zoom 2 4 ge brand-ne...</td>\n",
       "      <td>www.ebay.com</td>\n",
       "      <td>NaN</td>\n",
       "    </tr>\n",
       "    <tr>\n",
       "      <th>4</th>\n",
       "      <td>www.ebay.com//54903</td>\n",
       "      <td>vivitar clip shot digital 1-1-mp</td>\n",
       "      <td>vivitar</td>\n",
       "      <td>NaN</td>\n",
       "      <td>vivitar clip shot digital 1-1-mp vivitar brand...</td>\n",
       "      <td>vivitar clip shot digit 1-1-mp</td>\n",
       "      <td>vivitar clip shot digit 1-1-mp vivitar brand-n...</td>\n",
       "      <td>www.ebay.com</td>\n",
       "      <td>NaN</td>\n",
       "    </tr>\n",
       "  </tbody>\n",
       "</table>\n",
       "</div>"
      ],
      "text/plain": [
       "               spec_id                                         page_title  \\\n",
       "0  www.ebay.com//57656        canon powershot elph 110 hs 16-1-mp digital   \n",
       "1  www.ebay.com//60583  canon rebel 2000 35mm great case instruction b...   \n",
       "2  www.ebay.com//60440  canon eos rebel t3i digital slr 18 55mm 75 300...   \n",
       "3  www.ebay.com//24139           ge c1033 10-1-mp digital 3x zoom 2 4 lcd   \n",
       "4  www.ebay.com//54903                   vivitar clip shot digital 1-1-mp   \n",
       "\n",
       "     brand  model                                           all_text  \\\n",
       "0    canon    NaN  canon powershot 110 hs 16-1-mp digital canon r...   \n",
       "1    canon    NaN  canon rebel 2000 35mm great case instruction b...   \n",
       "2    canon    t3i  canon eos rebel t3i digital slr 18 55mm 75 300...   \n",
       "3      NaN  c1033  ge c1033 10-1-mp digital 3x zoom 2 4 ge brand-...   \n",
       "4  vivitar    NaN  vivitar clip shot digital 1-1-mp vivitar brand...   \n",
       "\n",
       "                                     page_title_stem  \\\n",
       "0          canon powershot elph 110 hs 16-1-mp digit   \n",
       "1  canon rebel 2000 35mm great case instruct booklet   \n",
       "2  canon eo rebel t3i digit slr 18 55mm 75 300mm ...   \n",
       "3             ge c1033 10-1-mp digit 3x zoom 2 4 lcd   \n",
       "4                     vivitar clip shot digit 1-1-mp   \n",
       "\n",
       "                                       all_text_stem          site  class_  \n",
       "0  canon powershot 110 hs 16-1-mp digit canon ref...  www.ebay.com     NaN  \n",
       "1  canon rebel 2000 35mm great case instruct book...  www.ebay.com     NaN  \n",
       "2  canon eo rebel t3i digit slr 18 55mm 75 300mm ...  www.ebay.com     1.0  \n",
       "3  ge c1033 10-1-mp digit 3x zoom 2 4 ge brand-ne...  www.ebay.com     NaN  \n",
       "4  vivitar clip shot digit 1-1-mp vivitar brand-n...  www.ebay.com     NaN  "
      ]
     },
     "execution_count": 864,
     "metadata": {},
     "output_type": "execute_result"
    }
   ],
   "source": [
    "specs_df.head()"
   ]
  },
  {
   "cell_type": "code",
   "execution_count": 865,
   "metadata": {
    "Collapsed": "false"
   },
   "outputs": [
    {
     "name": "stdout",
     "output_type": "stream",
     "text": [
      "CPU times: user 1.04 s, sys: 8.06 ms, total: 1.04 s\n",
      "Wall time: 1.07 s\n"
     ]
    }
   ],
   "source": [
    "%%time\n",
    "datafields = [(\"spec_id\", None),\n",
    "              (\"page_title\", None),\n",
    "               (\"brand\", None),\n",
    "               (\"model\", None),\n",
    "              (\"all_text\", None),\n",
    "              (\"page_title_stem\", text_field),\n",
    "              (\"all_text_stem\", None),\n",
    "              (\"site\", None),\n",
    "             ('class_', label_field)]\n",
    "\n",
    "full_dataset = TabularDataset.splits(\n",
    "        path=\"../data/processed/\", # the root directory where the data lies\n",
    "        train='specs.csv',\n",
    "        format='csv',\n",
    "        skip_header=True, # if your csv header has a header, make sure to pass this to ensure it doesn't get proceesed as data!\n",
    "        fields=datafields)\n",
    "\n",
    "train_dataset, val_dataset = TabularDataset.splits(\n",
    "    path=INTERIM_PATH, # the root directory where the data lies\n",
    "    train=TRAIN_PATH,\n",
    "    test=VAL_PATH,\n",
    "    format='csv',\n",
    "    skip_header=True, # if your csv header has a header, make sure to pass this to ensure it doesn't get proceesed as data!\n",
    "    fields=datafields)\n",
    "\n",
    "full_dataset = full_dataset[0]"
   ]
  },
  {
   "cell_type": "code",
   "execution_count": 866,
   "metadata": {
    "Collapsed": "false"
   },
   "outputs": [],
   "source": [
    "train_labelled_df = pd.read_csv(os.path.join(INTERIM_PATH, TRAIN_PATH))\n",
    "train_labelled_df['spec_idx'] = range(len(train_labelled_df))\n",
    "\n",
    "# train_class_lookup = train_labelled_df[~train_labelled_df.class_.isnull()].set_index('spec_idx').to_dict()['class_']\n",
    "# train_spec_lookup = train_labelled_df.groupby(['class_'])['spec_idx'].agg(list).to_dict()"
   ]
  },
  {
   "cell_type": "code",
   "execution_count": 867,
   "metadata": {
    "Collapsed": "false"
   },
   "outputs": [],
   "source": [
    "val_labelled_df = pd.read_csv(os.path.join(INTERIM_PATH, VAL_PATH))\n",
    "val_labelled_df['spec_idx'] = range(len(val_labelled_df))\n",
    "\n",
    "# val_class_lookup = val_labelled_df[~val_labelled_df.class_.isnull()].set_index('spec_idx').to_dict()['class_']\n",
    "# val_spec_lookup = val_labelled_df.groupby(['class_'])['spec_idx'].agg(list).to_dict()"
   ]
  },
  {
   "cell_type": "code",
   "execution_count": 868,
   "metadata": {
    "Collapsed": "false"
   },
   "outputs": [
    {
     "name": "stdout",
     "output_type": "stream",
     "text": [
      "CPU times: user 160 ms, sys: 5 µs, total: 160 ms\n",
      "Wall time: 159 ms\n"
     ]
    }
   ],
   "source": [
    "%%time\n",
    "text_field.build_vocab(full_dataset)"
   ]
  },
  {
   "cell_type": "markdown",
   "metadata": {
    "Collapsed": "false"
   },
   "source": [
    "## Quick checks"
   ]
  },
  {
   "cell_type": "code",
   "execution_count": 869,
   "metadata": {
    "Collapsed": "false"
   },
   "outputs": [
    {
     "data": {
      "text/html": [
       "<div>\n",
       "<style scoped>\n",
       "    .dataframe tbody tr th:only-of-type {\n",
       "        vertical-align: middle;\n",
       "    }\n",
       "\n",
       "    .dataframe tbody tr th {\n",
       "        vertical-align: top;\n",
       "    }\n",
       "\n",
       "    .dataframe thead th {\n",
       "        text-align: right;\n",
       "    }\n",
       "</style>\n",
       "<table border=\"1\" class=\"dataframe\">\n",
       "  <thead>\n",
       "    <tr style=\"text-align: right;\">\n",
       "      <th></th>\n",
       "      <th>spec_id</th>\n",
       "      <th>page_title</th>\n",
       "      <th>brand</th>\n",
       "      <th>model</th>\n",
       "      <th>all_text</th>\n",
       "      <th>page_title_stem</th>\n",
       "      <th>all_text_stem</th>\n",
       "      <th>site</th>\n",
       "      <th>class_</th>\n",
       "    </tr>\n",
       "  </thead>\n",
       "  <tbody>\n",
       "    <tr>\n",
       "      <th>0</th>\n",
       "      <td>www.ebay.com//57656</td>\n",
       "      <td>canon powershot elph 110 hs 16-1-mp digital</td>\n",
       "      <td>canon</td>\n",
       "      <td>NaN</td>\n",
       "      <td>canon powershot 110 hs 16-1-mp digital canon r...</td>\n",
       "      <td>canon powershot elph 110 hs 16-1-mp digit</td>\n",
       "      <td>canon powershot 110 hs 16-1-mp digit canon ref...</td>\n",
       "      <td>www.ebay.com</td>\n",
       "      <td>NaN</td>\n",
       "    </tr>\n",
       "  </tbody>\n",
       "</table>\n",
       "</div>"
      ],
      "text/plain": [
       "               spec_id                                   page_title  brand  \\\n",
       "0  www.ebay.com//57656  canon powershot elph 110 hs 16-1-mp digital  canon   \n",
       "\n",
       "  model                                           all_text  \\\n",
       "0   NaN  canon powershot 110 hs 16-1-mp digital canon r...   \n",
       "\n",
       "                             page_title_stem  \\\n",
       "0  canon powershot elph 110 hs 16-1-mp digit   \n",
       "\n",
       "                                       all_text_stem          site  class_  \n",
       "0  canon powershot 110 hs 16-1-mp digit canon ref...  www.ebay.com     NaN  "
      ]
     },
     "execution_count": 869,
     "metadata": {},
     "output_type": "execute_result"
    }
   ],
   "source": [
    "specs_df.head(1)"
   ]
  },
  {
   "cell_type": "code",
   "execution_count": 870,
   "metadata": {
    "Collapsed": "false"
   },
   "outputs": [
    {
     "data": {
      "text/plain": [
       "{'page_title_stem': ['canon',\n",
       "  'powershot',\n",
       "  'elph',\n",
       "  '110',\n",
       "  'hs',\n",
       "  '16-1-mp',\n",
       "  'digit']}"
      ]
     },
     "execution_count": 870,
     "metadata": {},
     "output_type": "execute_result"
    }
   ],
   "source": [
    "full_dataset.examples[0].__dict__"
   ]
  },
  {
   "cell_type": "code",
   "execution_count": 871,
   "metadata": {
    "Collapsed": "false"
   },
   "outputs": [
    {
     "data": {
      "text/html": [
       "<div>\n",
       "<style scoped>\n",
       "    .dataframe tbody tr th:only-of-type {\n",
       "        vertical-align: middle;\n",
       "    }\n",
       "\n",
       "    .dataframe tbody tr th {\n",
       "        vertical-align: top;\n",
       "    }\n",
       "\n",
       "    .dataframe thead th {\n",
       "        text-align: right;\n",
       "    }\n",
       "</style>\n",
       "<table border=\"1\" class=\"dataframe\">\n",
       "  <thead>\n",
       "    <tr style=\"text-align: right;\">\n",
       "      <th></th>\n",
       "      <th>spec_id</th>\n",
       "      <th>page_title</th>\n",
       "      <th>brand</th>\n",
       "      <th>model</th>\n",
       "      <th>all_text</th>\n",
       "      <th>page_title_stem</th>\n",
       "      <th>all_text_stem</th>\n",
       "      <th>site</th>\n",
       "      <th>class_</th>\n",
       "      <th>spec_idx</th>\n",
       "    </tr>\n",
       "  </thead>\n",
       "  <tbody>\n",
       "    <tr>\n",
       "      <th>0</th>\n",
       "      <td>www.ebay.com//60440</td>\n",
       "      <td>canon eos rebel t3i digital slr 18 55mm 75 300...</td>\n",
       "      <td>canon</td>\n",
       "      <td>t3i</td>\n",
       "      <td>canon eos rebel t3i digital slr 18 55mm 75 300...</td>\n",
       "      <td>canon eo rebel t3i digit slr 18 55mm 75 300mm ...</td>\n",
       "      <td>canon eo rebel t3i digit slr 18 55mm 75 300mm ...</td>\n",
       "      <td>www.ebay.com</td>\n",
       "      <td>1.0</td>\n",
       "      <td>0</td>\n",
       "    </tr>\n",
       "  </tbody>\n",
       "</table>\n",
       "</div>"
      ],
      "text/plain": [
       "               spec_id                                         page_title  \\\n",
       "0  www.ebay.com//60440  canon eos rebel t3i digital slr 18 55mm 75 300...   \n",
       "\n",
       "   brand model                                           all_text  \\\n",
       "0  canon   t3i  canon eos rebel t3i digital slr 18 55mm 75 300...   \n",
       "\n",
       "                                     page_title_stem  \\\n",
       "0  canon eo rebel t3i digit slr 18 55mm 75 300mm ...   \n",
       "\n",
       "                                       all_text_stem          site  class_  \\\n",
       "0  canon eo rebel t3i digit slr 18 55mm 75 300mm ...  www.ebay.com     1.0   \n",
       "\n",
       "   spec_idx  \n",
       "0         0  "
      ]
     },
     "execution_count": 871,
     "metadata": {},
     "output_type": "execute_result"
    }
   ],
   "source": [
    "train_labelled_df.head(1)"
   ]
  },
  {
   "cell_type": "code",
   "execution_count": 872,
   "metadata": {
    "Collapsed": "false"
   },
   "outputs": [
    {
     "data": {
      "text/plain": [
       "{'class_': 1,\n",
       " 'page_title_stem': ['canon',\n",
       "  'eo',\n",
       "  'rebel',\n",
       "  't3i',\n",
       "  'digit',\n",
       "  'slr',\n",
       "  '18',\n",
       "  '55mm',\n",
       "  '75',\n",
       "  '300mm',\n",
       "  'iii',\n",
       "  'len',\n",
       "  'kit',\n",
       "  'usa',\n",
       "  '609728170592']}"
      ]
     },
     "execution_count": 872,
     "metadata": {},
     "output_type": "execute_result"
    }
   ],
   "source": [
    "train_dataset.examples[0].__dict__"
   ]
  },
  {
   "cell_type": "code",
   "execution_count": 873,
   "metadata": {
    "Collapsed": "false"
   },
   "outputs": [
    {
     "data": {
      "text/plain": [
       "tensor([1], dtype=torch.uint8)"
      ]
     },
     "execution_count": 873,
     "metadata": {},
     "output_type": "execute_result"
    }
   ],
   "source": [
    "label_field.numericalize([train_dataset.examples[0].class_])"
   ]
  },
  {
   "cell_type": "code",
   "execution_count": 874,
   "metadata": {
    "Collapsed": "false"
   },
   "outputs": [
    {
     "data": {
      "text/html": [
       "<div>\n",
       "<style scoped>\n",
       "    .dataframe tbody tr th:only-of-type {\n",
       "        vertical-align: middle;\n",
       "    }\n",
       "\n",
       "    .dataframe tbody tr th {\n",
       "        vertical-align: top;\n",
       "    }\n",
       "\n",
       "    .dataframe thead th {\n",
       "        text-align: right;\n",
       "    }\n",
       "</style>\n",
       "<table border=\"1\" class=\"dataframe\">\n",
       "  <thead>\n",
       "    <tr style=\"text-align: right;\">\n",
       "      <th></th>\n",
       "      <th>spec_id</th>\n",
       "      <th>page_title</th>\n",
       "      <th>brand</th>\n",
       "      <th>model</th>\n",
       "      <th>all_text</th>\n",
       "      <th>page_title_stem</th>\n",
       "      <th>all_text_stem</th>\n",
       "      <th>site</th>\n",
       "      <th>class_</th>\n",
       "      <th>spec_idx</th>\n",
       "    </tr>\n",
       "  </thead>\n",
       "  <tbody>\n",
       "  </tbody>\n",
       "</table>\n",
       "</div>"
      ],
      "text/plain": [
       "Empty DataFrame\n",
       "Columns: [spec_id, page_title, brand, model, all_text, page_title_stem, all_text_stem, site, class_, spec_idx]\n",
       "Index: []"
      ]
     },
     "execution_count": 874,
     "metadata": {},
     "output_type": "execute_result"
    }
   ],
   "source": [
    "val_labelled_df.head(1)"
   ]
  },
  {
   "cell_type": "code",
   "execution_count": 875,
   "metadata": {
    "Collapsed": "false"
   },
   "outputs": [],
   "source": [
    "# val_dataset.examples[0].__dict__"
   ]
  },
  {
   "cell_type": "markdown",
   "metadata": {
    "Collapsed": "false"
   },
   "source": [
    "# Batch sampler"
   ]
  },
  {
   "cell_type": "markdown",
   "metadata": {
    "Collapsed": "false"
   },
   "source": [
    "Sampler that returns indices `n_samples` of `n_classes` in each batch."
   ]
  },
  {
   "cell_type": "code",
   "execution_count": 876,
   "metadata": {
    "Collapsed": "false"
   },
   "outputs": [],
   "source": [
    "from torch.utils.data.sampler import BatchSampler"
   ]
  },
  {
   "cell_type": "code",
   "execution_count": 877,
   "metadata": {
    "Collapsed": "false"
   },
   "outputs": [],
   "source": [
    "# src: https://github.com/adambielski/siamese-triplet/blob/master/datasets.py\n",
    "class BalancedBatchSampler(BatchSampler):\n",
    "    \"\"\"\n",
    "    BatchSampler - from a MNIST-like dataset, samples n_classes and within these classes samples n_samples.\n",
    "    Returns batches of size n_classes * n_samples\n",
    "    \"\"\"\n",
    "\n",
    "    def __init__(self, labels, n_classes, n_samples):\n",
    "        self.labels = labels\n",
    "        self.labels_set = list(set(self.labels.numpy()))\n",
    "        self.label_to_indices = {label: np.where(self.labels.numpy() == label)[0]\n",
    "                                 for label in self.labels_set}\n",
    "        for l in self.labels_set:\n",
    "            np.random.shuffle(self.label_to_indices[l])\n",
    "        self.used_label_indices_count = {label: 0 for label in self.labels_set}\n",
    "        self.count = 0\n",
    "        self.n_classes = n_classes\n",
    "        self.n_samples = n_samples\n",
    "        self.n_dataset = len(self.labels)\n",
    "        self.batch_size = self.n_samples * self.n_classes\n",
    "\n",
    "    def __iter__(self):\n",
    "        self.count = 0\n",
    "        while self.count + self.batch_size < self.n_dataset:\n",
    "            classes = np.random.choice(self.labels_set, self.n_classes, replace=False)\n",
    "            indices = []\n",
    "            for class_ in classes:\n",
    "                indices.extend(self.label_to_indices[class_][\n",
    "                               self.used_label_indices_count[class_]:self.used_label_indices_count[\n",
    "                                                                         class_] + self.n_samples])\n",
    "                self.used_label_indices_count[class_] += self.n_samples\n",
    "                if self.used_label_indices_count[class_] + self.n_samples > len(self.label_to_indices[class_]):\n",
    "                    np.random.shuffle(self.label_to_indices[class_])\n",
    "                    self.used_label_indices_count[class_] = 0\n",
    "            yield indices\n",
    "            self.count += self.n_classes * self.n_samples\n",
    "\n",
    "    def __len__(self):\n",
    "        return self.n_dataset // self.batch_size"
   ]
  },
  {
   "cell_type": "code",
   "execution_count": 878,
   "metadata": {
    "Collapsed": "false"
   },
   "outputs": [],
   "source": [
    "def get_batch_tensor(dataset, sampler, text_field, text_field_name, label_field, label_field_name='class_'):\n",
    "    for indices in iter(sampler):\n",
    "        examples = [dataset[i] for i in indices]\n",
    "        texts = [getattr(ex, text_field_name) for ex in examples]\n",
    "        labels = label_field.numericalize([getattr(ex, label_field_name) for ex in examples])\n",
    "        tensor = text_field.numericalize(text_field.pad(texts))        \n",
    "        yield tensor, labels"
   ]
  },
  {
   "cell_type": "markdown",
   "metadata": {
    "Collapsed": "false"
   },
   "source": [
    "#### Test batch sampler"
   ]
  },
  {
   "cell_type": "code",
   "execution_count": 879,
   "metadata": {
    "Collapsed": "false"
   },
   "outputs": [
    {
     "name": "stdout",
     "output_type": "stream",
     "text": [
      "Class distribution\n",
      " 878.0    1\n",
      "536.0    1\n",
      "Name: class_, dtype: int64\n"
     ]
    },
    {
     "data": {
      "text/html": [
       "<div>\n",
       "<style scoped>\n",
       "    .dataframe tbody tr th:only-of-type {\n",
       "        vertical-align: middle;\n",
       "    }\n",
       "\n",
       "    .dataframe tbody tr th {\n",
       "        vertical-align: top;\n",
       "    }\n",
       "\n",
       "    .dataframe thead th {\n",
       "        text-align: right;\n",
       "    }\n",
       "</style>\n",
       "<table border=\"1\" class=\"dataframe\">\n",
       "  <thead>\n",
       "    <tr style=\"text-align: right;\">\n",
       "      <th></th>\n",
       "      <th>spec_id</th>\n",
       "      <th>page_title</th>\n",
       "      <th>brand</th>\n",
       "      <th>model</th>\n",
       "      <th>all_text</th>\n",
       "      <th>page_title_stem</th>\n",
       "      <th>all_text_stem</th>\n",
       "      <th>site</th>\n",
       "      <th>class_</th>\n",
       "      <th>spec_idx</th>\n",
       "    </tr>\n",
       "  </thead>\n",
       "  <tbody>\n",
       "    <tr>\n",
       "      <th>2820</th>\n",
       "      <td>www.ebay.com//46016</td>\n",
       "      <td>fujifilm finepix s8400w 16-2-mp digital</td>\n",
       "      <td>fujifilm</td>\n",
       "      <td>s8400w</td>\n",
       "      <td>fujifilm finepix s8400w 16-2-mp digital fujifi...</td>\n",
       "      <td>fujifilm finepix s8400w 16-2-mp digit</td>\n",
       "      <td>fujifilm finepix s8400w 16-2-mp digit fujifilm...</td>\n",
       "      <td>www.ebay.com</td>\n",
       "      <td>536.0</td>\n",
       "      <td>2820</td>\n",
       "    </tr>\n",
       "    <tr>\n",
       "      <th>7026</th>\n",
       "      <td>www.ebay.com//43774</td>\n",
       "      <td>fujifilm finepix j250 10-0-mp digital</td>\n",
       "      <td>fujifilm</td>\n",
       "      <td>j250</td>\n",
       "      <td>fujifilm finepix j250 10-0-mp digital fujifilm...</td>\n",
       "      <td>fujifilm finepix j250 10-0-mp digit</td>\n",
       "      <td>fujifilm finepix j250 10-0-mp digit fujifilm 1...</td>\n",
       "      <td>www.ebay.com</td>\n",
       "      <td>878.0</td>\n",
       "      <td>7026</td>\n",
       "    </tr>\n",
       "  </tbody>\n",
       "</table>\n",
       "</div>"
      ],
      "text/plain": [
       "                  spec_id                               page_title     brand  \\\n",
       "2820  www.ebay.com//46016  fujifilm finepix s8400w 16-2-mp digital  fujifilm   \n",
       "7026  www.ebay.com//43774    fujifilm finepix j250 10-0-mp digital  fujifilm   \n",
       "\n",
       "       model                                           all_text  \\\n",
       "2820  s8400w  fujifilm finepix s8400w 16-2-mp digital fujifi...   \n",
       "7026    j250  fujifilm finepix j250 10-0-mp digital fujifilm...   \n",
       "\n",
       "                            page_title_stem  \\\n",
       "2820  fujifilm finepix s8400w 16-2-mp digit   \n",
       "7026    fujifilm finepix j250 10-0-mp digit   \n",
       "\n",
       "                                          all_text_stem          site  class_  \\\n",
       "2820  fujifilm finepix s8400w 16-2-mp digit fujifilm...  www.ebay.com   536.0   \n",
       "7026  fujifilm finepix j250 10-0-mp digit fujifilm 1...  www.ebay.com   878.0   \n",
       "\n",
       "      spec_idx  \n",
       "2820      2820  \n",
       "7026      7026  "
      ]
     },
     "execution_count": 879,
     "metadata": {},
     "output_type": "execute_result"
    }
   ],
   "source": [
    "# Select 2 random classes, 3 samples of each\n",
    "sampler = BalancedBatchSampler(torch.Tensor(train_labelled_df.class_.values), 2, 1)\n",
    "\n",
    "indices = next(iter(sampler))\n",
    "\n",
    "rows = train_labelled_df.iloc[indices]\n",
    "\n",
    "print('Class distribution\\n', rows.class_.value_counts())\n",
    "\n",
    "rows"
   ]
  },
  {
   "cell_type": "code",
   "execution_count": 880,
   "metadata": {
    "Collapsed": "false"
   },
   "outputs": [
    {
     "data": {
      "text/plain": [
       "(tensor([[  66,    9],\n",
       "         [ 409,   25],\n",
       "         [ 680, 1643],\n",
       "         [3763,    2],\n",
       "         [   1,   39],\n",
       "         [   1,   93],\n",
       "         [   1,   37],\n",
       "         [   1,    9],\n",
       "         [   1,  727],\n",
       "         [   1, 2008],\n",
       "         [   1,   69],\n",
       "         [   1,   29],\n",
       "         [   1,   94]]), tensor([244, 223], dtype=torch.uint8))"
      ]
     },
     "execution_count": 880,
     "metadata": {},
     "output_type": "execute_result"
    }
   ],
   "source": [
    "next(iter(get_batch_tensor(train_dataset, sampler, text_field, 'page_title_stem', label_field)))"
   ]
  },
  {
   "cell_type": "markdown",
   "metadata": {
    "Collapsed": "false"
   },
   "source": [
    "# Hyperparams"
   ]
  },
  {
   "cell_type": "code",
   "execution_count": 881,
   "metadata": {
    "Collapsed": "false"
   },
   "outputs": [],
   "source": [
    "text_field_name = 'page_title_stem'\n",
    "batch_n_classes = 4\n",
    "batch_n_samples = 200\n",
    "emb_dim = 50\n",
    "hidden_dim = 100\n",
    "num_linear = 2\n",
    "margin = 0.001"
   ]
  },
  {
   "cell_type": "markdown",
   "metadata": {
    "Collapsed": "false"
   },
   "source": [
    "# Batch generators"
   ]
  },
  {
   "cell_type": "code",
   "execution_count": 882,
   "metadata": {
    "Collapsed": "false"
   },
   "outputs": [],
   "source": [
    "train_batch_sampler = BalancedBatchSampler(torch.Tensor(train_labelled_df.class_.values), batch_n_classes, batch_n_samples)\n",
    "\n",
    "\n",
    "# val_batch_sampler = BalancedBatchSampler(torch.Tensor(val_labelled_df.class_.values), len(val_labelled_df.class_.unique()), 2)\n",
    "\n",
    "train_iterator = iter(get_batch_tensor(train_dataset, train_batch_sampler, text_field, text_field_name, label_field))\n",
    "# val_iterator = iter(get_batch_tensor(val_dataset, val_batch_sampler, text_field, text_field_name, label_field))\n",
    "\n",
    "def get_train_iterator():\n",
    "    return iter(get_batch_tensor(train_dataset, train_batch_sampler, text_field, text_field_name, label_field))\n",
    "\n",
    "# def get_val_iterator():\n",
    "#     return iter(get_batch_tensor(val_dataset, val_batch_sampler, text_field, text_field_name, label_field))"
   ]
  },
  {
   "cell_type": "code",
   "execution_count": 883,
   "metadata": {
    "Collapsed": "false"
   },
   "outputs": [
    {
     "data": {
      "text/plain": [
       "(tensor([[   47,    47,    47,    47,    47,    47,    47,    47,    47,    87,\n",
       "             87,    87,    87,    34,    34,    34,    34,    34,    34,   379,\n",
       "            379,   379,   379,   379,   379,   379,   379],\n",
       "         [ 2110,  2110,  2110,   760,  2110,  2110,  2110,  2110,  2110,   339,\n",
       "            339,   339,   339, 13014,     2,   209,   209,   209,   209,  2060,\n",
       "           2060,   183,  2060,  2060,  2060,  2060,   147],\n",
       "         [  143,   143,   143,   127,  2110,    75,   143,    75,   143,  6583,\n",
       "           6582,  6583,  6582,    29,   209,   816,   816,   816,   816,   186,\n",
       "              2,   289, 12391,   216,   186,   186,  2060],\n",
       "         [    2,     2,    79,  2110,   852,    71,   175,    71,   175,     2,\n",
       "            232,     2,   232,    82,   816,   293,   293,   293,   293,     2,\n",
       "             39,    80, 11615,   183,     2,     2,    16],\n",
       "         [ 8423,    23,   256,   143,    46,    29,     2,    81,     2,   204,\n",
       "            204,   204,     2,    85,   293,   112, 11580,   112,   583,   352,\n",
       "             93,    16,   414,   188,   352,   352,   289],\n",
       "         [   17,   280,  2739,     2,  2739,   150,   830,    29,   830,    56,\n",
       "             56,    56,     1,    84,  3598,   910,   910,   910,     2,  4442,\n",
       "             37,     2,     2,    24,  4442,  4442,   179],\n",
       "         [ 3478,   886,     1,     4,     1,    44,    24,    62,    24,     2,\n",
       "            300,     2,     1,    83,   220,    24,   207,    24,     4,     1,\n",
       "            379,  2060,    46,   289,     1,     1,     2],\n",
       "         [   10,     1,     1,  2739,     1,   149,    17,   166,    17,    24,\n",
       "              2,    24,     1,    86,   210,     2,  5661,     2,   280,     1,\n",
       "           7542,  3211,   129,   179,     1,     1,   110],\n",
       "         [   23,     1,     1,     1,     1,   151,    45,   154,    45,     1,\n",
       "             24,   189,     1,   158,    89,  5305, 12925,     1,   133,     1,\n",
       "             69,     1,   184,    16,     1,     1,  3211],\n",
       "         [ 1020,     1,     1,     1,     1,     3,   396,   172,   396,     1,\n",
       "             46,     1,     1,   157,     1,     1,    24,     1,    19,     1,\n",
       "             29,     1,    80,     2,     1,     1,     1],\n",
       "         [  176,     1,     1,     1,     1,     1,  1393,    84,  1393,     1,\n",
       "             67,     1,     1,     1,     1,     1,    42,     1,     1,     1,\n",
       "             94,     1,   216,     1,     1,     1,     1],\n",
       "         [   61,     1,     1,     1,     1,     1,  2777,    86,  2739,     1,\n",
       "             80,     1,     1,     1,     1,     1,    17,     1,     1,     1,\n",
       "              1,     1,     1,     1,     1,     1,     1],\n",
       "         [ 2739,     1,     1,     1,     1,     1,  2739,    82,     1,     1,\n",
       "          12822,     1,     1,     1,     1,     1,    31,     1,     1,     1,\n",
       "              1,     1,     1,     1,     1,     1,     1],\n",
       "         [    1,     1,     1,     1,     1,     1,     1,    85,     1,     1,\n",
       "              1,     1,     1,     1,     1,     1,   184,     1,     1,     1,\n",
       "              1,     1,     1,     1,     1,     1,     1],\n",
       "         [    1,     1,     1,     1,     1,     1,     1,    83,     1,     1,\n",
       "              1,     1,     1,     1,     1,     1,  1498,     1,     1,     1,\n",
       "              1,     1,     1,     1,     1,     1,     1],\n",
       "         [    1,     1,     1,     1,     1,     1,     1,   168,     1,     1,\n",
       "              1,     1,     1,     1,     1,     1,  2248,     1,     1,     1,\n",
       "              1,     1,     1,     1,     1,     1,     1],\n",
       "         [    1,     1,     1,     1,     1,     1,     1,   167,     1,     1,\n",
       "              1,     1,     1,     1,     1,     1,    80,     1,     1,     1,\n",
       "              1,     1,     1,     1,     1,     1,     1],\n",
       "         [    1,     1,     1,     1,     1,     1,     1,   171,     1,     1,\n",
       "              1,     1,     1,     1,     1,     1,  5305,     1,     1,     1,\n",
       "              1,     1,     1,     1,     1,     1,     1],\n",
       "         [    1,     1,     1,     1,     1,     1,     1,   170,     1,     1,\n",
       "              1,     1,     1,     1,     1,     1,     1,     1,     1,     1,\n",
       "              1,     1,     1,     1,     1,     1,     1]]),\n",
       " tensor([195, 195, 195, 195, 195, 195, 195, 195, 195, 209, 209, 209, 209, 185,\n",
       "         185, 185, 185, 185, 185, 217, 217, 217, 217, 217, 217, 217, 217],\n",
       "        dtype=torch.uint8))"
      ]
     },
     "execution_count": 883,
     "metadata": {},
     "output_type": "execute_result"
    }
   ],
   "source": [
    "next(get_train_iterator())"
   ]
  },
  {
   "cell_type": "code",
   "execution_count": 884,
   "metadata": {
    "Collapsed": "false"
   },
   "outputs": [],
   "source": [
    "# next(get_val_iterator())"
   ]
  },
  {
   "cell_type": "markdown",
   "metadata": {
    "Collapsed": "false"
   },
   "source": [
    "# Model"
   ]
  },
  {
   "cell_type": "code",
   "execution_count": 885,
   "metadata": {
    "Collapsed": "false"
   },
   "outputs": [
    {
     "data": {
      "text/plain": [
       "EmbeddingBagEmbedder(\n",
       "  (relu): ReLU()\n",
       "  (embedding_bag): EmbeddingBag(13733, 100, mode=mean)\n",
       "  (linear_layers): ModuleList(\n",
       "    (0): Sequential(\n",
       "      (0): Linear(in_features=100, out_features=100, bias=True)\n",
       "      (1): Dropout(p=0.05, inplace=False)\n",
       "    )\n",
       "    (1): Sequential(\n",
       "      (0): Linear(in_features=100, out_features=100, bias=True)\n",
       "      (1): Dropout(p=0.05, inplace=False)\n",
       "    )\n",
       "    (2): Sequential(\n",
       "      (0): Linear(in_features=100, out_features=50, bias=True)\n",
       "    )\n",
       "  )\n",
       ")"
      ]
     },
     "execution_count": 885,
     "metadata": {},
     "output_type": "execute_result"
    }
   ],
   "source": [
    "model = EmbeddingBagEmbedder(text_field, hidden_dim, emb_dim=emb_dim, num_linear=num_linear)\n",
    "\n",
    "# model = LSTMEmbedder(text_field,\n",
    "#                      lstm_dim=100,\n",
    "#                      emb_dim=emb_dim,\n",
    "#                      hidden_dim=hidden_dim,\n",
    "#                      num_linear=num_linear,\n",
    "#                      num_lstm=1\n",
    "#                      )\n",
    "model"
   ]
  },
  {
   "cell_type": "markdown",
   "metadata": {
    "Collapsed": "false"
   },
   "source": [
    "# Online triplet loss"
   ]
  },
  {
   "cell_type": "code",
   "execution_count": 886,
   "metadata": {
    "Collapsed": "false"
   },
   "outputs": [],
   "source": [
    "from online_triplet_loss.losses import batch_hard_triplet_loss"
   ]
  },
  {
   "cell_type": "markdown",
   "metadata": {
    "Collapsed": "false"
   },
   "source": [
    "### Tests"
   ]
  },
  {
   "cell_type": "markdown",
   "metadata": {
    "Collapsed": "false"
   },
   "source": [
    "Test model"
   ]
  },
  {
   "cell_type": "code",
   "execution_count": 887,
   "metadata": {
    "Collapsed": "false"
   },
   "outputs": [
    {
     "data": {
      "text/plain": [
       "tensor([[0.0017, 0.0000, 0.0288, 0.0000, 0.0000, 0.0296, 0.0000, 0.0000, 0.0950,\n",
       "         0.0000, 0.0000, 0.0000, 0.0000, 0.0320, 0.0808, 0.0777, 0.0398, 0.0344,\n",
       "         0.0000, 0.0000, 0.0473, 0.0000, 0.0000, 0.0000, 0.0000, 0.0000, 0.0390,\n",
       "         0.0000, 0.0093, 0.0208, 0.0000, 0.0320, 0.0779, 0.1177, 0.0000, 0.0000,\n",
       "         0.0973, 0.1316, 0.0000, 0.0239, 0.0000, 0.0000, 0.0062, 0.0667, 0.0000,\n",
       "         0.0000, 0.0000, 0.0780, 0.0000, 0.0000],\n",
       "        [0.0000, 0.0000, 0.0693, 0.0206, 0.0000, 0.0051, 0.0000, 0.0000, 0.0794,\n",
       "         0.0023, 0.0000, 0.0000, 0.0571, 0.0873, 0.0974, 0.1051, 0.0374, 0.0000,\n",
       "         0.0182, 0.0000, 0.0448, 0.0000, 0.0000, 0.0000, 0.0000, 0.0000, 0.0145,\n",
       "         0.0000, 0.0487, 0.0120, 0.0000, 0.0354, 0.1005, 0.1220, 0.0000, 0.0000,\n",
       "         0.1129, 0.0987, 0.0000, 0.0820, 0.0457, 0.0000, 0.0000, 0.0542, 0.0000,\n",
       "         0.0000, 0.0000, 0.1021, 0.0000, 0.0000]], grad_fn=<ReluBackward0>)"
      ]
     },
     "execution_count": 887,
     "metadata": {},
     "output_type": "execute_result"
    }
   ],
   "source": [
    "model.infer(['canon eos 20d 8 2 mp', 'nikon eos 20d'])"
   ]
  },
  {
   "cell_type": "markdown",
   "metadata": {
    "Collapsed": "false"
   },
   "source": [
    "Test loss"
   ]
  },
  {
   "cell_type": "code",
   "execution_count": 888,
   "metadata": {
    "Collapsed": "false"
   },
   "outputs": [
    {
     "name": "stdout",
     "output_type": "stream",
     "text": [
      "Loss: tensor(0.0883, grad_fn=<MeanBackward0>)\n"
     ]
    }
   ],
   "source": [
    "batch = next(get_train_iterator())\n",
    "text_tensor, labels = batch\n",
    "embeddings = model(text_tensor)\n",
    "\n",
    "loss = batch_hard_triplet_loss(labels, embeddings, margin=margin)\n",
    "print('Loss:', loss)\n",
    "loss.backward()"
   ]
  },
  {
   "cell_type": "code",
   "execution_count": 889,
   "metadata": {
    "Collapsed": "false"
   },
   "outputs": [],
   "source": [
    "# batch = next(get_val_iterator())\n",
    "# text_tensor, labels = batch\n",
    "# embeddings = model(text_tensor)\n",
    "\n",
    "# loss = batch_hard_triplet_loss(labels, embeddings, margin=margin)\n",
    "# print('Loss:', loss)"
   ]
  },
  {
   "cell_type": "markdown",
   "metadata": {
    "Collapsed": "false"
   },
   "source": [
    "# Train"
   ]
  },
  {
   "cell_type": "code",
   "execution_count": 890,
   "metadata": {
    "Collapsed": "false"
   },
   "outputs": [],
   "source": [
    "loss_history_train = []\n",
    "# loss_history_val = []"
   ]
  },
  {
   "cell_type": "code",
   "execution_count": 891,
   "metadata": {
    "Collapsed": "false"
   },
   "outputs": [],
   "source": [
    "opt = optim.Adam(model.parameters(), lr=1e-3, weight_decay=1e-4)\n",
    "scheduler = torch.optim.lr_scheduler.ReduceLROnPlateau(opt, mode='min', patience=3, verbose=True)\n",
    "epochs = 200\n",
    "early_stop_patience = 5"
   ]
  },
  {
   "cell_type": "code",
   "execution_count": 892,
   "metadata": {
    "Collapsed": "false"
   },
   "outputs": [],
   "source": [
    "# validation_batches = []\n",
    "# for i in range(200):\n",
    "#     for batch in get_val_iterator():\n",
    "#         validation_batches.append(batch)\n",
    "# len(validation_batches)"
   ]
  },
  {
   "cell_type": "code",
   "execution_count": 893,
   "metadata": {
    "Collapsed": "false"
   },
   "outputs": [
    {
     "data": {
      "application/vnd.jupyter.widget-view+json": {
       "model_id": "ec18774d799640a5ac2540455d70c1c0",
       "version_major": 2,
       "version_minor": 0
      },
      "text/html": [
       "<p>Failed to display Jupyter Widget of type <code>HBox</code>.</p>\n",
       "<p>\n",
       "  If you're reading this message in the Jupyter Notebook or JupyterLab Notebook, it may mean\n",
       "  that the widgets JavaScript is still loading. If this message persists, it\n",
       "  likely means that the widgets JavaScript library is either not installed or\n",
       "  not enabled. See the <a href=\"https://ipywidgets.readthedocs.io/en/stable/user_install.html\">Jupyter\n",
       "  Widgets Documentation</a> for setup instructions.\n",
       "</p>\n",
       "<p>\n",
       "  If you're reading this message in another frontend (for example, a static\n",
       "  rendering on GitHub or <a href=\"https://nbviewer.jupyter.org/\">NBViewer</a>),\n",
       "  it may mean that your frontend doesn't currently support widgets.\n",
       "</p>\n"
      ],
      "text/plain": [
       "HBox(children=(IntProgress(value=0, max=200), HTML(value='')))"
      ]
     },
     "metadata": {},
     "output_type": "display_data"
    },
    {
     "name": "stdout",
     "output_type": "stream",
     "text": [
      "Epoch: 1, Training Loss: 0.0472\n",
      "Epoch: 2, Training Loss: 0.0275\n",
      "Epoch: 3, Training Loss: 0.0222\n",
      "Epoch: 4, Training Loss: 0.0166\n",
      "Epoch: 5, Training Loss: 0.0148\n",
      "Epoch: 6, Training Loss: 0.0117\n",
      "Epoch: 7, Training Loss: 0.0105\n",
      "Epoch: 8, Training Loss: 0.0089\n",
      "Epoch: 9, Training Loss: 0.0088\n",
      "Epoch: 10, Training Loss: 0.0072\n",
      "Epoch: 11, Training Loss: 0.0073\n",
      "Epoch: 12, Training Loss: 0.0055\n",
      "Epoch: 13, Training Loss: 0.0051\n",
      "Epoch: 14, Training Loss: 0.0052\n",
      "Epoch: 15, Training Loss: 0.0046\n",
      "Epoch: 16, Training Loss: 0.0042\n",
      "Epoch: 17, Training Loss: 0.0037\n",
      "Epoch: 18, Training Loss: 0.0036\n",
      "Epoch: 19, Training Loss: 0.0031\n",
      "Epoch: 20, Training Loss: 0.0026\n",
      "Epoch: 21, Training Loss: 0.0025\n",
      "Epoch: 22, Training Loss: 0.0021\n",
      "Epoch: 23, Training Loss: 0.0019\n",
      "Epoch: 24, Training Loss: 0.0019\n",
      "Epoch: 25, Training Loss: 0.0015\n",
      "Epoch: 26, Training Loss: 0.0015\n",
      "Epoch: 27, Training Loss: 0.0014\n",
      "Epoch: 28, Training Loss: 0.0012\n",
      "Epoch: 29, Training Loss: 0.0012\n",
      "Epoch: 30, Training Loss: 0.0011\n",
      "Epoch: 31, Training Loss: 0.0011\n",
      "Epoch: 32, Training Loss: 0.0012\n",
      "Epoch: 33, Training Loss: 0.0011\n",
      "Epoch: 34, Training Loss: 0.0011\n",
      "Epoch: 35, Training Loss: 0.0011\n",
      "Epoch: 36, Training Loss: 0.0010\n",
      "Epoch: 37, Training Loss: 0.0011\n",
      "Epoch: 38, Training Loss: 0.0011\n",
      "Epoch: 39, Training Loss: 0.0010\n",
      "Epoch: 40, Training Loss: 0.0011\n",
      "Epoch: 41, Training Loss: 0.0010\n",
      "Epoch: 42, Training Loss: 0.0010\n",
      "Epoch: 43, Training Loss: 0.0010\n",
      "Epoch: 44, Training Loss: 0.0010\n",
      "Epoch: 45, Training Loss: 0.0010\n",
      "Epoch: 46, Training Loss: 0.0010\n",
      "Epoch: 47, Training Loss: 0.0010\n",
      "Epoch: 48, Training Loss: 0.0010\n",
      "Epoch    47: reducing learning rate of group 0 to 1.0000e-04.\n",
      "Epoch: 49, Training Loss: 0.0010\n",
      "Epoch: 50, Training Loss: 0.0010\n",
      "Epoch: 51, Training Loss: 0.0010\n",
      "Epoch: 52, Training Loss: 0.0010\n",
      "Epoch    51: reducing learning rate of group 0 to 1.0000e-05.\n",
      "Epoch: 53, Training Loss: 0.0010\n",
      "Epoch: 54, Training Loss: 0.0010\n",
      "Epoch: 55, Training Loss: 0.0010\n",
      "Epoch: 56, Training Loss: 0.0010\n",
      "Epoch    55: reducing learning rate of group 0 to 1.0000e-06.\n",
      "Epoch: 57, Training Loss: 0.0010\n",
      "Epoch: 58, Training Loss: 0.0010\n",
      "Epoch: 59, Training Loss: 0.0010\n",
      "Epoch: 60, Training Loss: 0.0010\n",
      "Epoch: 61, Training Loss: 0.0010\n",
      "Epoch: 62, Training Loss: 0.0010\n",
      "Epoch    61: reducing learning rate of group 0 to 1.0000e-07.\n",
      "Epoch: 63, Training Loss: 0.0010\n",
      "Epoch: 64, Training Loss: 0.0010\n",
      "Epoch: 65, Training Loss: 0.0010\n",
      "Epoch: 66, Training Loss: 0.0010\n",
      "Epoch    65: reducing learning rate of group 0 to 1.0000e-08.\n",
      "Epoch: 67, Training Loss: 0.0010\n",
      "Epoch: 68, Training Loss: 0.0010\n",
      "Epoch: 69, Training Loss: 0.0010\n",
      "Epoch: 70, Training Loss: 0.0010\n",
      "Epoch: 71, Training Loss: 0.0010\n",
      "Epoch: 72, Training Loss: 0.0010\n",
      "Epoch: 73, Training Loss: 0.0010\n",
      "Epoch: 74, Training Loss: 0.0010\n",
      "Epoch: 75, Training Loss: 0.0010\n",
      "Epoch: 76, Training Loss: 0.0010\n",
      "Epoch: 77, Training Loss: 0.0010\n",
      "Epoch: 78, Training Loss: 0.0010\n",
      "Epoch: 79, Training Loss: 0.0010\n",
      "Epoch: 80, Training Loss: 0.0010\n",
      "Epoch: 81, Training Loss: 0.0010\n",
      "Epoch: 82, Training Loss: 0.0010\n",
      "Epoch: 83, Training Loss: 0.0010\n",
      "Epoch: 84, Training Loss: 0.0011\n",
      "Epoch: 85, Training Loss: 0.0010\n",
      "Epoch: 86, Training Loss: 0.0010\n",
      "Epoch: 87, Training Loss: 0.0010\n",
      "Epoch: 88, Training Loss: 0.0010\n",
      "Epoch: 89, Training Loss: 0.0010\n",
      "Epoch: 90, Training Loss: 0.0010\n",
      "Epoch: 91, Training Loss: 0.0010\n",
      "Epoch: 92, Training Loss: 0.0010\n",
      "Epoch: 93, Training Loss: 0.0010\n",
      "Epoch: 94, Training Loss: 0.0010\n",
      "Epoch: 95, Training Loss: 0.0010\n",
      "Epoch: 96, Training Loss: 0.0010\n",
      "Epoch: 97, Training Loss: 0.0010\n",
      "Epoch: 98, Training Loss: 0.0010\n",
      "Epoch: 99, Training Loss: 0.0010\n",
      "Epoch: 100, Training Loss: 0.0010\n",
      "Epoch: 101, Training Loss: 0.0010\n",
      "Epoch: 102, Training Loss: 0.0010\n",
      "Epoch: 103, Training Loss: 0.0010\n",
      "Epoch: 104, Training Loss: 0.0010\n",
      "Epoch: 105, Training Loss: 0.0010\n",
      "Epoch: 106, Training Loss: 0.0010\n",
      "Epoch: 107, Training Loss: 0.0010\n",
      "Epoch: 108, Training Loss: 0.0010\n",
      "Epoch: 109, Training Loss: 0.0010\n",
      "Epoch: 110, Training Loss: 0.0010\n",
      "Epoch: 111, Training Loss: 0.0010\n",
      "Epoch: 112, Training Loss: 0.0010\n",
      "Epoch: 113, Training Loss: 0.0010\n",
      "Epoch: 114, Training Loss: 0.0010\n",
      "Epoch: 115, Training Loss: 0.0010\n",
      "Epoch: 116, Training Loss: 0.0010\n",
      "Epoch: 117, Training Loss: 0.0010\n",
      "Epoch: 118, Training Loss: 0.0010\n",
      "Epoch: 119, Training Loss: 0.0010\n",
      "Epoch: 120, Training Loss: 0.0010\n",
      "Epoch: 121, Training Loss: 0.0010\n",
      "Epoch: 122, Training Loss: 0.0010\n",
      "Epoch: 123, Training Loss: 0.0010\n",
      "Epoch: 124, Training Loss: 0.0010\n",
      "Epoch: 125, Training Loss: 0.0010\n",
      "Epoch: 126, Training Loss: 0.0011\n",
      "Epoch: 127, Training Loss: 0.0010\n",
      "Epoch: 128, Training Loss: 0.0010\n",
      "Epoch: 129, Training Loss: 0.0010\n",
      "Epoch: 130, Training Loss: 0.0011\n",
      "Epoch: 131, Training Loss: 0.0010\n",
      "Epoch: 132, Training Loss: 0.0010\n",
      "Epoch: 133, Training Loss: 0.0010\n",
      "Epoch: 134, Training Loss: 0.0010\n",
      "Epoch: 135, Training Loss: 0.0010\n",
      "Epoch: 136, Training Loss: 0.0010\n",
      "Epoch: 137, Training Loss: 0.0010\n",
      "Epoch: 138, Training Loss: 0.0010\n",
      "Epoch: 139, Training Loss: 0.0010\n",
      "Epoch: 140, Training Loss: 0.0010\n",
      "Epoch: 141, Training Loss: 0.0010\n",
      "Epoch: 142, Training Loss: 0.0010\n",
      "Epoch: 143, Training Loss: 0.0010\n",
      "Epoch: 144, Training Loss: 0.0010\n",
      "Epoch: 145, Training Loss: 0.0010\n",
      "Epoch: 146, Training Loss: 0.0010\n",
      "Epoch: 147, Training Loss: 0.0011\n",
      "Epoch: 148, Training Loss: 0.0010\n",
      "Epoch: 149, Training Loss: 0.0010\n",
      "Epoch: 150, Training Loss: 0.0010\n",
      "Epoch: 151, Training Loss: 0.0011\n",
      "Epoch: 152, Training Loss: 0.0010\n",
      "Epoch: 153, Training Loss: 0.0010\n",
      "Epoch: 154, Training Loss: 0.0010\n",
      "Epoch: 155, Training Loss: 0.0010\n",
      "Epoch: 156, Training Loss: 0.0010\n",
      "Epoch: 157, Training Loss: 0.0010\n",
      "Epoch: 158, Training Loss: 0.0010\n",
      "Epoch: 159, Training Loss: 0.0010\n",
      "Epoch: 160, Training Loss: 0.0011\n",
      "Epoch: 161, Training Loss: 0.0010\n",
      "Epoch: 162, Training Loss: 0.0010\n",
      "Epoch: 163, Training Loss: 0.0010\n",
      "Epoch: 164, Training Loss: 0.0010\n",
      "Epoch: 165, Training Loss: 0.0010\n",
      "Epoch: 166, Training Loss: 0.0010\n",
      "Epoch: 167, Training Loss: 0.0010\n",
      "Epoch: 168, Training Loss: 0.0010\n",
      "Epoch: 169, Training Loss: 0.0010\n",
      "Epoch: 170, Training Loss: 0.0010\n",
      "Epoch: 171, Training Loss: 0.0010\n",
      "Epoch: 172, Training Loss: 0.0010\n",
      "Epoch: 173, Training Loss: 0.0010\n",
      "Epoch: 174, Training Loss: 0.0010\n",
      "Epoch: 175, Training Loss: 0.0010\n",
      "Epoch: 176, Training Loss: 0.0010\n",
      "Epoch: 177, Training Loss: 0.0010\n",
      "Epoch: 178, Training Loss: 0.0010\n",
      "Epoch: 179, Training Loss: 0.0010\n",
      "Epoch: 180, Training Loss: 0.0010\n",
      "Epoch: 181, Training Loss: 0.0010\n",
      "Epoch: 182, Training Loss: 0.0010\n",
      "Epoch: 183, Training Loss: 0.0010\n",
      "Epoch: 184, Training Loss: 0.0010\n",
      "Epoch: 185, Training Loss: 0.0010\n",
      "Epoch: 186, Training Loss: 0.0010\n",
      "Epoch: 187, Training Loss: 0.0010\n",
      "Epoch: 188, Training Loss: 0.0010\n",
      "Epoch: 189, Training Loss: 0.0010\n",
      "Epoch: 190, Training Loss: 0.0011\n",
      "Epoch: 191, Training Loss: 0.0010\n",
      "Epoch: 192, Training Loss: 0.0010\n",
      "Epoch: 193, Training Loss: 0.0010\n",
      "Epoch: 194, Training Loss: 0.0010\n",
      "Epoch: 195, Training Loss: 0.0010\n",
      "Epoch: 196, Training Loss: 0.0010\n",
      "Epoch: 197, Training Loss: 0.0010\n",
      "Epoch: 198, Training Loss: 0.0010\n",
      "Epoch: 199, Training Loss: 0.0010\n",
      "Epoch: 200, Training Loss: 0.0010\n",
      "CPU times: user 2min 1s, sys: 613 ms, total: 2min 1s\n",
      "Wall time: 48.5 s\n"
     ]
    }
   ],
   "source": [
    "%%time\n",
    "\n",
    "no_improvenment_count = 0\n",
    "best_val_loss = 9999\n",
    "for epoch in tqdm(range(1, epochs + 1)):\n",
    "    model.train()\n",
    "    \n",
    "    running_loss = 0\n",
    "    count_triplets = 0\n",
    "    \n",
    "    for batch in get_train_iterator():\n",
    "        opt.zero_grad()\n",
    "        \n",
    "        texts, labels = batch\n",
    "        embeddings = model(texts)\n",
    "        loss = batch_hard_triplet_loss(labels, embeddings, margin=margin)\n",
    "        loss.backward()\n",
    "        opt.step()\n",
    "        \n",
    "        running_loss += loss.data\n",
    "        count_triplets +=1 \n",
    "\n",
    "    \n",
    "    epoch_loss = running_loss / count_triplets\n",
    "    loss_history_train.append(epoch_loss)\n",
    "    print('Epoch: {}, Training Loss: {:.4f}'.format(epoch, epoch_loss))\n",
    "    \n",
    "    scheduler.step(epoch_loss)\n",
    "    \n",
    "#     model.eval()\n",
    "#     val_loss = 0\n",
    "#     count_val = 0\n",
    "#     with torch.no_grad():\n",
    "#         for batch in validation_batches:\n",
    "#             texts, labels = batch\n",
    "#             embeddings = model(texts)\n",
    "#             loss = batch_hard_triplet_loss(labels, embeddings, margin=margin)\n",
    "#             val_loss += loss.data\n",
    "#             count_val +=1 \n",
    "        \n",
    "#         epoch_val_loss = val_loss/count_val\n",
    "#         loss_history_val.append(epoch_val_loss)\n",
    "#         print('val Loss: {:.4f}'.format(epoch_val_loss))\n",
    "        \n",
    "#     scheduler.step(epoch_val_loss)\n",
    "    \n",
    "#     # Early stopping\n",
    "#     if round(epoch_val_loss.item(), 4) >= best_val_loss:\n",
    "#         no_improvenment_count += 1\n",
    "#         print(f'No val loss inmprovenment for {no_improvenment_count} epochs')\n",
    "#     else:\n",
    "#         best_val_loss = round(epoch_val_loss.item(), 4)\n",
    "#         no_improvenment_count = 0\n",
    "        \n",
    "#     if no_improvenment_count > early_stop_patience:\n",
    "#         print('Early stopping')\n",
    "#         break\n",
    "model.eval()"
   ]
  },
  {
   "cell_type": "code",
   "execution_count": 894,
   "metadata": {
    "Collapsed": "false"
   },
   "outputs": [
    {
     "data": {
      "image/png": "[encoded data removed]",
      "text/plain": [
       "<Figure size 720x504 with 1 Axes>"
      ]
     },
     "metadata": {},
     "output_type": "display_data"
    }
   ],
   "source": [
    "plt.figure()\n",
    "plt.plot(loss_history_train, label='train_loss')\n",
    "plt.plot(loss_history_val, label='val_loss')\n",
    "plt.legend()\n",
    "plt.show()"
   ]
  },
  {
   "cell_type": "code",
   "execution_count": 895,
   "metadata": {
    "Collapsed": "false"
   },
   "outputs": [
    {
     "data": {
      "text/plain": [
       "EmbeddingBagEmbedder(\n",
       "  (relu): ReLU()\n",
       "  (embedding_bag): EmbeddingBag(13733, 100, mode=mean)\n",
       "  (linear_layers): ModuleList(\n",
       "    (0): Sequential(\n",
       "      (0): Linear(in_features=100, out_features=100, bias=True)\n",
       "      (1): Dropout(p=0.05, inplace=False)\n",
       "    )\n",
       "    (1): Sequential(\n",
       "      (0): Linear(in_features=100, out_features=100, bias=True)\n",
       "      (1): Dropout(p=0.05, inplace=False)\n",
       "    )\n",
       "    (2): Sequential(\n",
       "      (0): Linear(in_features=100, out_features=50, bias=True)\n",
       "    )\n",
       "  )\n",
       ")"
      ]
     },
     "execution_count": 895,
     "metadata": {},
     "output_type": "execute_result"
    }
   ],
   "source": [
    "model.eval()"
   ]
  },
  {
   "cell_type": "markdown",
   "metadata": {
    "Collapsed": "false"
   },
   "source": [
    "# Produce train embeddings and TSNE"
   ]
  },
  {
   "cell_type": "code",
   "execution_count": 896,
   "metadata": {
    "Collapsed": "false"
   },
   "outputs": [],
   "source": [
    "from sklearn.preprocessing import normalize"
   ]
  },
  {
   "cell_type": "code",
   "execution_count": 897,
   "metadata": {
    "Collapsed": "false"
   },
   "outputs": [],
   "source": [
    "def draw_tsne(model, dataset, df, text_field_name='page_title_stem', label=''):\n",
    "    embeddings = []\n",
    "    for ex in tqdm(dataset):\n",
    "        emb = np.array(model(model.text_field.numericalize([getattr(ex, text_field_name)]))[0].data)\n",
    "        embeddings.append(emb)\n",
    "    embeddings = normalize(np.array(embeddings))\n",
    "    \n",
    "    tsne = TSNE(\n",
    "        n_components=2,\n",
    "        n_jobs=3,\n",
    "        verbose=True,\n",
    "    )\n",
    "    \n",
    "    emb_ld = tsne.fit_transform(embeddings)\n",
    "    \n",
    "    labelled_spec_classes = df.class_\n",
    "    labelled_spec_classes = labelled_spec_classes.reset_index()\n",
    "    \n",
    "    emb_tdf = pd.DataFrame(emb_ld)\n",
    "    emb_tdf = pd.concat([emb_tdf, labelled_spec_classes], axis=1, ignore_index=True)\n",
    "    emb_tdf.columns = ['x', 'y', 'original_index', 'class_']\n",
    "\n",
    "    \n",
    "    \n",
    "    plt.figure(figsize=(15, 10))\n",
    "    plt.title(f'TSNE {label}')\n",
    "    for class_ in emb_tdf['class_'].sort_values().unique():\n",
    "        class_ld_df = emb_tdf[emb_tdf.class_==class_]\n",
    "        plt.scatter(class_ld_df.iloc[:, 0], class_ld_df.iloc[:, 1], label=f'class {class_}')\n",
    "    plt.show()"
   ]
  },
  {
   "cell_type": "code",
   "execution_count": 898,
   "metadata": {
    "Collapsed": "false"
   },
   "outputs": [
    {
     "data": {
      "application/vnd.jupyter.widget-view+json": {
       "model_id": "",
       "version_major": 2,
       "version_minor": 0
      },
      "text/html": [
       "<p>Failed to display Jupyter Widget of type <code>HBox</code>.</p>\n",
       "<p>\n",
       "  If you're reading this message in the Jupyter Notebook or JupyterLab Notebook, it may mean\n",
       "  that the widgets JavaScript is still loading. If this message persists, it\n",
       "  likely means that the widgets JavaScript library is either not installed or\n",
       "  not enabled. See the <a href=\"https://ipywidgets.readthedocs.io/en/stable/user_install.html\">Jupyter\n",
       "  Widgets Documentation</a> for setup instructions.\n",
       "</p>\n",
       "<p>\n",
       "  If you're reading this message in another frontend (for example, a static\n",
       "  rendering on GitHub or <a href=\"https://nbviewer.jupyter.org/\">NBViewer</a>),\n",
       "  it may mean that your frontend doesn't currently support widgets.\n",
       "</p>\n"
      ],
      "text/plain": [
       "HBox(children=(IntProgress(value=0, max=12281), HTML(value='')))"
      ]
     },
     "metadata": {},
     "output_type": "display_data"
    },
    {
     "data": {
      "image/png": "[encoded data removed]",
      "text/plain": [
       "<Figure size 1080x720 with 1 Axes>"
      ]
     },
     "metadata": {},
     "output_type": "display_data"
    }
   ],
   "source": [
    "draw_tsne(model, train_dataset, labelled_specs_train, label ='- train')"
   ]
  },
  {
   "cell_type": "code",
   "execution_count": 899,
   "metadata": {
    "Collapsed": "false"
   },
   "outputs": [],
   "source": [
    "# draw_tsne(model, val_dataset, labelled_specs_val, label ='- val')"
   ]
  },
  {
   "cell_type": "markdown",
   "metadata": {
    "Collapsed": "false"
   },
   "source": [
    "# Produce whole dataset embeddings"
   ]
  },
  {
   "cell_type": "code",
   "execution_count": 900,
   "metadata": {
    "Collapsed": "false"
   },
   "outputs": [
    {
     "data": {
      "application/vnd.jupyter.widget-view+json": {
       "model_id": "d237f7c634a04e2db1560e8a89a59e36",
       "version_major": 2,
       "version_minor": 0
      },
      "text/html": [
       "<p>Failed to display Jupyter Widget of type <code>HBox</code>.</p>\n",
       "<p>\n",
       "  If you're reading this message in the Jupyter Notebook or JupyterLab Notebook, it may mean\n",
       "  that the widgets JavaScript is still loading. If this message persists, it\n",
       "  likely means that the widgets JavaScript library is either not installed or\n",
       "  not enabled. See the <a href=\"https://ipywidgets.readthedocs.io/en/stable/user_install.html\">Jupyter\n",
       "  Widgets Documentation</a> for setup instructions.\n",
       "</p>\n",
       "<p>\n",
       "  If you're reading this message in another frontend (for example, a static\n",
       "  rendering on GitHub or <a href=\"https://nbviewer.jupyter.org/\">NBViewer</a>),\n",
       "  it may mean that your frontend doesn't currently support widgets.\n",
       "</p>\n"
      ],
      "text/plain": [
       "HBox(children=(IntProgress(value=0, max=29694), HTML(value='')))"
      ]
     },
     "metadata": {},
     "output_type": "display_data"
    }
   ],
   "source": [
    "embeddings = []\n",
    "for ex in tqdm(full_dataset):\n",
    "    emb = np.array(model(model.text_field.numericalize([ex.page_title_stem]))[0].data)\n",
    "    embeddings.append(emb)\n",
    "embeddings = normalize(np.array(embeddings))"
   ]
  },
  {
   "cell_type": "code",
   "execution_count": 901,
   "metadata": {
    "Collapsed": "false"
   },
   "outputs": [],
   "source": [
    "emb_df = pd.DataFrame(embeddings)\n",
    "emb_df.to_csv('../data/processed/embeddings.csv', index=None)"
   ]
  },
  {
   "cell_type": "code",
   "execution_count": 902,
   "metadata": {
    "Collapsed": "false"
   },
   "outputs": [],
   "source": [
    "emb_df = pd.read_csv('../data/processed/embeddings.csv')"
   ]
  },
  {
   "cell_type": "code",
   "execution_count": 903,
   "metadata": {
    "Collapsed": "false"
   },
   "outputs": [],
   "source": [
    "emb = Embedder(model, specs_df.spec_id.values, specs_df.all_text_stem.values)"
   ]
  },
  {
   "cell_type": "code",
   "execution_count": 904,
   "metadata": {
    "Collapsed": "false"
   },
   "outputs": [],
   "source": [
    "emb.fit(emb_df.values)"
   ]
  },
  {
   "cell_type": "code",
   "execution_count": 905,
   "metadata": {
    "Collapsed": "false"
   },
   "outputs": [
    {
     "data": {
      "text/plain": [
       "array(['may sign cosmet wear fulli oper function intend may floor model return full descript imperfect definit',\n",
       "       '2 olympus fe 280 digita camera 2 wrist held carri case olympus case bag brand-new applic found retail unless handmad packag non-retail unprint box plastic bag full definit vietnam 8-0-mp fe-280 3x digit slr',\n",
       "       'free gift kodak easyshar c1530 14-0-mp digit kodak brand-new applic found retail unless handmad packag non-retail unprint box plastic bag full definit 14-0-mp c1530 8908832 3x 3 point shoot',\n",
       "       'soni mavica fd92 1-2-mp 8x optic zoom 2 5 display digit still 0027242586741 includ soni includ 1-2-mp includ mvc-fd92 mvcfd92 8x 2 5 point shoot 0027242586741',\n",
       "       'canon power shot a60 digit 2 mega pixel 3x zoom part repair canon flash len part work function intend fulli oper includ item defect way render difficult use item requir servic repair item miss essenti compon full definit malaysia 2-0-mp a60 s2596258 3x 1 5 point shoot',\n",
       "       'minolta dimag g500 konica minolta may sign cosmet wear fulli oper function intend may floor model return full descript imperfect definit 5-0-mp g500 3x point shoot',\n",
       "       'samsung st seri smart digit 16-2-mp st150f purpl 887276013688 samsung case bag memori card brand-new applic found retail unless handmad packag non-retail unprint box plastic bag full definit 16-2-mp st150f ec-st150fbpbus 5x 3 point shoot 887276013688',\n",
       "       'olympus camedia 560 zoom 3-2-mp digit 0050332140714 olympus may sign cosmet wear fulli oper function intend may floor model return full descript imperfect definit 3-2-mp d-560 zoom d-560z 3x 1 8 point shoot 0050332140714',\n",
       "       'soni cyber shot dsc p10 5-0-mp soni 5-0-mp dsc-p10 dsc-p10 cee1 3x 1 5 point shoot',\n",
       "       'soni alpha dslr a580 16-2-mp digit slr bodi 027242816527 soni 16-2-mp dslr-a580 dslr-a580 3 digit slr 027242816527'],\n",
       "      dtype=object)"
      ]
     },
     "execution_count": 905,
     "metadata": {},
     "output_type": "execute_result"
    }
   ],
   "source": [
    "emb.lookup_texts('canon eo 20d')"
   ]
  },
  {
   "cell_type": "code",
   "execution_count": 906,
   "metadata": {
    "Collapsed": "false"
   },
   "outputs": [],
   "source": [
    "emb.save('../models/embedder')"
   ]
  },
  {
   "cell_type": "code",
   "execution_count": null,
   "metadata": {
    "Collapsed": "false"
   },
   "outputs": [],
   "source": []
  }
 ],
 "metadata": {
  "kernelspec": {
   "display_name": "Python 3",
   "language": "python",
   "name": "python3"
  },
  "language_info": {
   "codemirror_mode": {
    "name": "ipython",
    "version": 3
   },
   "file_extension": ".py",
   "mimetype": "text/x-python",
   "name": "python",
   "nbconvert_exporter": "python",
   "pygments_lexer": "ipython3",
   "version": "3.6.7"
  }
 },
 "nbformat": 4,
 "nbformat_minor": 4
}
