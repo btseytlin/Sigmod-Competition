{
 "cells": [
  {
   "cell_type": "code",
   "execution_count": 1,
   "metadata": {},
   "outputs": [],
   "source": [
    "import os\n",
    "import sys\n",
    "import random\n",
    "import json\n",
    "import collections\n",
    "import itertools\n",
    "\n",
    "import pandas as pd\n",
    "import numpy as np\n",
    "import scipy        \n",
    "import statsmodels\n",
    "\n",
    "\n",
    "from tqdm import trange, tqdm_notebook as tqdm\n",
    "from matplotlib import pyplot as plt\n",
    "import seaborn as sns\n",
    "%matplotlib inline\n",
    "\n",
    "pd.options.display.max_columns = 999\n",
    "\n",
    "sns.set()\n",
    "\n",
    "plt.rcParams[\"figure.figsize\"] = (10,7)"
   ]
  },
  {
   "cell_type": "code",
   "execution_count": 2,
   "metadata": {},
   "outputs": [
    {
     "data": {
      "text/plain": [
       "'/notebooks/anton/sigmod/notebooks'"
      ]
     },
     "execution_count": 2,
     "metadata": {},
     "output_type": "execute_result"
    }
   ],
   "source": [
    "os.getcwd()"
   ]
  },
  {
   "cell_type": "code",
   "execution_count": 3,
   "metadata": {},
   "outputs": [],
   "source": [
    "%load_ext autoreload\n",
    "%autoreload 2"
   ]
  },
  {
   "cell_type": "code",
   "execution_count": 4,
   "metadata": {},
   "outputs": [],
   "source": [
    "from sigmod_src.utils import read_json, pprint_json, path_from_spec_id, get_vector_for_spec_id\n",
    "from sigmod_src.data.embedding import Embedder"
   ]
  },
  {
   "cell_type": "markdown",
   "metadata": {},
   "source": [
    "# Load data"
   ]
  },
  {
   "cell_type": "code",
   "execution_count": 5,
   "metadata": {},
   "outputs": [],
   "source": [
    "LABELS_PATH = '../data/raw/sigmod_medium_labelled_dataset.csv'"
   ]
  },
  {
   "cell_type": "code",
   "execution_count": 6,
   "metadata": {},
   "outputs": [],
   "source": [
    "labels_df = pd.read_csv(LABELS_PATH)"
   ]
  },
  {
   "cell_type": "code",
   "execution_count": 7,
   "metadata": {},
   "outputs": [
    {
     "data": {
      "text/plain": [
       "(46665, 3)"
      ]
     },
     "execution_count": 7,
     "metadata": {},
     "output_type": "execute_result"
    }
   ],
   "source": [
    "labels_df.shape"
   ]
  },
  {
   "cell_type": "code",
   "execution_count": 8,
   "metadata": {},
   "outputs": [
    {
     "data": {
      "text/html": [
       "<div>\n",
       "<style scoped>\n",
       "    .dataframe tbody tr th:only-of-type {\n",
       "        vertical-align: middle;\n",
       "    }\n",
       "\n",
       "    .dataframe tbody tr th {\n",
       "        vertical-align: top;\n",
       "    }\n",
       "\n",
       "    .dataframe thead th {\n",
       "        text-align: right;\n",
       "    }\n",
       "</style>\n",
       "<table border=\"1\" class=\"dataframe\">\n",
       "  <thead>\n",
       "    <tr style=\"text-align: right;\">\n",
       "      <th></th>\n",
       "      <th>left_spec_id</th>\n",
       "      <th>right_spec_id</th>\n",
       "      <th>label</th>\n",
       "    </tr>\n",
       "  </thead>\n",
       "  <tbody>\n",
       "    <tr>\n",
       "      <th>0</th>\n",
       "      <td>www.garricks.com.au//31</td>\n",
       "      <td>www.ebay.com//53278</td>\n",
       "      <td>1</td>\n",
       "    </tr>\n",
       "    <tr>\n",
       "      <th>1</th>\n",
       "      <td>www.ebay.com//58782</td>\n",
       "      <td>www.ebay.com//24817</td>\n",
       "      <td>0</td>\n",
       "    </tr>\n",
       "    <tr>\n",
       "      <th>2</th>\n",
       "      <td>www.ebay.com//58782</td>\n",
       "      <td>www.ebay.com//43019</td>\n",
       "      <td>0</td>\n",
       "    </tr>\n",
       "    <tr>\n",
       "      <th>3</th>\n",
       "      <td>www.ebay.com//42055</td>\n",
       "      <td>www.ebay.com//54403</td>\n",
       "      <td>0</td>\n",
       "    </tr>\n",
       "    <tr>\n",
       "      <th>4</th>\n",
       "      <td>www.ebay.com//44280</td>\n",
       "      <td>buy.net//6145</td>\n",
       "      <td>0</td>\n",
       "    </tr>\n",
       "  </tbody>\n",
       "</table>\n",
       "</div>"
      ],
      "text/plain": [
       "              left_spec_id        right_spec_id  label\n",
       "0  www.garricks.com.au//31  www.ebay.com//53278      1\n",
       "1      www.ebay.com//58782  www.ebay.com//24817      0\n",
       "2      www.ebay.com//58782  www.ebay.com//43019      0\n",
       "3      www.ebay.com//42055  www.ebay.com//54403      0\n",
       "4      www.ebay.com//44280        buy.net//6145      0"
      ]
     },
     "execution_count": 8,
     "metadata": {},
     "output_type": "execute_result"
    }
   ],
   "source": [
    "labels_df.head()"
   ]
  },
  {
   "cell_type": "code",
   "execution_count": 9,
   "metadata": {},
   "outputs": [
    {
     "name": "stdout",
     "output_type": "stream",
     "text": [
      "<class 'pandas.core.frame.DataFrame'>\n",
      "RangeIndex: 46665 entries, 0 to 46664\n",
      "Data columns (total 3 columns):\n",
      "left_spec_id     46665 non-null object\n",
      "right_spec_id    46665 non-null object\n",
      "label            46665 non-null int64\n",
      "dtypes: int64(1), object(2)\n",
      "memory usage: 1.1+ MB\n"
     ]
    }
   ],
   "source": [
    "labels_df.info()"
   ]
  },
  {
   "cell_type": "markdown",
   "metadata": {},
   "source": [
    "# Load specs df"
   ]
  },
  {
   "cell_type": "code",
   "execution_count": 10,
   "metadata": {},
   "outputs": [
    {
     "data": {
      "text/plain": [
       "(29771, 5)"
      ]
     },
     "execution_count": 10,
     "metadata": {},
     "output_type": "execute_result"
    }
   ],
   "source": [
    "specs_df = pd.read_csv('../data/processed/specs_preprocessed.csv')\n",
    "# specs_df.index=  specs_df.spec_id\n",
    "specs_df.shape"
   ]
  },
  {
   "cell_type": "code",
   "execution_count": 11,
   "metadata": {},
   "outputs": [
    {
     "data": {
      "text/html": [
       "<div>\n",
       "<style scoped>\n",
       "    .dataframe tbody tr th:only-of-type {\n",
       "        vertical-align: middle;\n",
       "    }\n",
       "\n",
       "    .dataframe tbody tr th {\n",
       "        vertical-align: top;\n",
       "    }\n",
       "\n",
       "    .dataframe thead th {\n",
       "        text-align: right;\n",
       "    }\n",
       "</style>\n",
       "<table border=\"1\" class=\"dataframe\">\n",
       "  <thead>\n",
       "    <tr style=\"text-align: right;\">\n",
       "      <th></th>\n",
       "      <th>spec_id</th>\n",
       "      <th>page_title</th>\n",
       "      <th>page_title_stem</th>\n",
       "      <th>brand</th>\n",
       "      <th>site</th>\n",
       "    </tr>\n",
       "  </thead>\n",
       "  <tbody>\n",
       "  </tbody>\n",
       "</table>\n",
       "</div>"
      ],
      "text/plain": [
       "Empty DataFrame\n",
       "Columns: [spec_id, page_title, page_title_stem, brand, site]\n",
       "Index: []"
      ]
     },
     "execution_count": 11,
     "metadata": {},
     "output_type": "execute_result"
    }
   ],
   "source": [
    "specs_df[specs_df.page_title.isnull()]"
   ]
  },
  {
   "cell_type": "code",
   "execution_count": 12,
   "metadata": {},
   "outputs": [
    {
     "data": {
      "text/html": [
       "<div>\n",
       "<style scoped>\n",
       "    .dataframe tbody tr th:only-of-type {\n",
       "        vertical-align: middle;\n",
       "    }\n",
       "\n",
       "    .dataframe tbody tr th {\n",
       "        vertical-align: top;\n",
       "    }\n",
       "\n",
       "    .dataframe thead th {\n",
       "        text-align: right;\n",
       "    }\n",
       "</style>\n",
       "<table border=\"1\" class=\"dataframe\">\n",
       "  <thead>\n",
       "    <tr style=\"text-align: right;\">\n",
       "      <th></th>\n",
       "      <th>spec_id</th>\n",
       "      <th>page_title</th>\n",
       "      <th>page_title_stem</th>\n",
       "      <th>brand</th>\n",
       "      <th>site</th>\n",
       "    </tr>\n",
       "  </thead>\n",
       "  <tbody>\n",
       "    <tr>\n",
       "      <th>0</th>\n",
       "      <td>www.flipkart.com//2249</td>\n",
       "      <td>lowepro fastpack 350 bag lowepro</td>\n",
       "      <td>lowepro fastpack 350 bag lowepro</td>\n",
       "      <td>NaN</td>\n",
       "      <td>www.flipkart.com</td>\n",
       "    </tr>\n",
       "    <tr>\n",
       "      <th>1</th>\n",
       "      <td>www.flipkart.com//2199</td>\n",
       "      <td>nikon coolpix l30 point shoot</td>\n",
       "      <td>nikon coolpix l30 point shoot</td>\n",
       "      <td>nikon</td>\n",
       "      <td>www.flipkart.com</td>\n",
       "    </tr>\n",
       "    <tr>\n",
       "      <th>2</th>\n",
       "      <td>www.flipkart.com//2286</td>\n",
       "      <td>sony point shoot</td>\n",
       "      <td>soni point shoot</td>\n",
       "      <td>sony</td>\n",
       "      <td>www.flipkart.com</td>\n",
       "    </tr>\n",
       "    <tr>\n",
       "      <th>3</th>\n",
       "      <td>www.flipkart.com//2280</td>\n",
       "      <td>lowepro compu day photo 250 multi use backpack...</td>\n",
       "      <td>lowepro compu day photo 250 multi use backpack...</td>\n",
       "      <td>NaN</td>\n",
       "      <td>www.flipkart.com</td>\n",
       "    </tr>\n",
       "    <tr>\n",
       "      <th>4</th>\n",
       "      <td>www.flipkart.com//2279</td>\n",
       "      <td>nikon l29 point shoot india</td>\n",
       "      <td>nikon l29 point shoot india</td>\n",
       "      <td>nikon</td>\n",
       "      <td>www.flipkart.com</td>\n",
       "    </tr>\n",
       "  </tbody>\n",
       "</table>\n",
       "</div>"
      ],
      "text/plain": [
       "                  spec_id                                         page_title  \\\n",
       "0  www.flipkart.com//2249                   lowepro fastpack 350 bag lowepro   \n",
       "1  www.flipkart.com//2199                      nikon coolpix l30 point shoot   \n",
       "2  www.flipkart.com//2286                                   sony point shoot   \n",
       "3  www.flipkart.com//2280  lowepro compu day photo 250 multi use backpack...   \n",
       "4  www.flipkart.com//2279                        nikon l29 point shoot india   \n",
       "\n",
       "                                     page_title_stem  brand              site  \n",
       "0                   lowepro fastpack 350 bag lowepro    NaN  www.flipkart.com  \n",
       "1                      nikon coolpix l30 point shoot  nikon  www.flipkart.com  \n",
       "2                                   soni point shoot   sony  www.flipkart.com  \n",
       "3  lowepro compu day photo 250 multi use backpack...    NaN  www.flipkart.com  \n",
       "4                        nikon l29 point shoot india  nikon  www.flipkart.com  "
      ]
     },
     "execution_count": 12,
     "metadata": {},
     "output_type": "execute_result"
    }
   ],
   "source": [
    "specs_df.head()"
   ]
  },
  {
   "cell_type": "markdown",
   "metadata": {},
   "source": [
    "# Classes df"
   ]
  },
  {
   "cell_type": "code",
   "execution_count": 13,
   "metadata": {},
   "outputs": [
    {
     "data": {
      "text/html": [
       "<div>\n",
       "<style scoped>\n",
       "    .dataframe tbody tr th:only-of-type {\n",
       "        vertical-align: middle;\n",
       "    }\n",
       "\n",
       "    .dataframe tbody tr th {\n",
       "        vertical-align: top;\n",
       "    }\n",
       "\n",
       "    .dataframe thead th {\n",
       "        text-align: right;\n",
       "    }\n",
       "</style>\n",
       "<table border=\"1\" class=\"dataframe\">\n",
       "  <thead>\n",
       "    <tr style=\"text-align: right;\">\n",
       "      <th></th>\n",
       "      <th>spec_id</th>\n",
       "      <th>class_</th>\n",
       "    </tr>\n",
       "  </thead>\n",
       "  <tbody>\n",
       "    <tr>\n",
       "      <th>0</th>\n",
       "      <td>buy.net//5641</td>\n",
       "      <td>0</td>\n",
       "    </tr>\n",
       "    <tr>\n",
       "      <th>1</th>\n",
       "      <td>www.ebay.com//58588</td>\n",
       "      <td>0</td>\n",
       "    </tr>\n",
       "    <tr>\n",
       "      <th>2</th>\n",
       "      <td>www.gosale.com//849</td>\n",
       "      <td>0</td>\n",
       "    </tr>\n",
       "    <tr>\n",
       "      <th>3</th>\n",
       "      <td>www.price-hunt.com//9794</td>\n",
       "      <td>0</td>\n",
       "    </tr>\n",
       "    <tr>\n",
       "      <th>4</th>\n",
       "      <td>buy.net//5698</td>\n",
       "      <td>1</td>\n",
       "    </tr>\n",
       "  </tbody>\n",
       "</table>\n",
       "</div>"
      ],
      "text/plain": [
       "                    spec_id  class_\n",
       "0             buy.net//5641       0\n",
       "1       www.ebay.com//58588       0\n",
       "2       www.gosale.com//849       0\n",
       "3  www.price-hunt.com//9794       0\n",
       "4             buy.net//5698       1"
      ]
     },
     "execution_count": 13,
     "metadata": {},
     "output_type": "execute_result"
    }
   ],
   "source": [
    "classes_df = pd.read_csv('../data/interim/classes.csv')\n",
    "# classes_df.index = classes_df.spec_id\n",
    "classes_df = classes_df.drop(columns='spec_id.1')\n",
    "classes_df.head()\n"
   ]
  },
  {
   "cell_type": "markdown",
   "metadata": {},
   "source": [
    "## Add classes to specs"
   ]
  },
  {
   "cell_type": "code",
   "execution_count": 14,
   "metadata": {},
   "outputs": [
    {
     "data": {
      "text/html": [
       "<div>\n",
       "<style scoped>\n",
       "    .dataframe tbody tr th:only-of-type {\n",
       "        vertical-align: middle;\n",
       "    }\n",
       "\n",
       "    .dataframe tbody tr th {\n",
       "        vertical-align: top;\n",
       "    }\n",
       "\n",
       "    .dataframe thead th {\n",
       "        text-align: right;\n",
       "    }\n",
       "</style>\n",
       "<table border=\"1\" class=\"dataframe\">\n",
       "  <thead>\n",
       "    <tr style=\"text-align: right;\">\n",
       "      <th></th>\n",
       "      <th>spec_id</th>\n",
       "      <th>page_title</th>\n",
       "      <th>page_title_stem</th>\n",
       "      <th>brand</th>\n",
       "      <th>site</th>\n",
       "      <th>class_</th>\n",
       "    </tr>\n",
       "  </thead>\n",
       "  <tbody>\n",
       "    <tr>\n",
       "      <th>0</th>\n",
       "      <td>www.flipkart.com//2249</td>\n",
       "      <td>lowepro fastpack 350 bag lowepro</td>\n",
       "      <td>lowepro fastpack 350 bag lowepro</td>\n",
       "      <td>NaN</td>\n",
       "      <td>www.flipkart.com</td>\n",
       "      <td>NaN</td>\n",
       "    </tr>\n",
       "    <tr>\n",
       "      <th>1</th>\n",
       "      <td>www.flipkart.com//2199</td>\n",
       "      <td>nikon coolpix l30 point shoot</td>\n",
       "      <td>nikon coolpix l30 point shoot</td>\n",
       "      <td>nikon</td>\n",
       "      <td>www.flipkart.com</td>\n",
       "      <td>NaN</td>\n",
       "    </tr>\n",
       "    <tr>\n",
       "      <th>2</th>\n",
       "      <td>www.flipkart.com//2286</td>\n",
       "      <td>sony point shoot</td>\n",
       "      <td>soni point shoot</td>\n",
       "      <td>sony</td>\n",
       "      <td>www.flipkart.com</td>\n",
       "      <td>NaN</td>\n",
       "    </tr>\n",
       "    <tr>\n",
       "      <th>3</th>\n",
       "      <td>www.flipkart.com//2280</td>\n",
       "      <td>lowepro compu day photo 250 multi use backpack...</td>\n",
       "      <td>lowepro compu day photo 250 multi use backpack...</td>\n",
       "      <td>NaN</td>\n",
       "      <td>www.flipkart.com</td>\n",
       "      <td>NaN</td>\n",
       "    </tr>\n",
       "    <tr>\n",
       "      <th>4</th>\n",
       "      <td>www.flipkart.com//2279</td>\n",
       "      <td>nikon l29 point shoot india</td>\n",
       "      <td>nikon l29 point shoot india</td>\n",
       "      <td>nikon</td>\n",
       "      <td>www.flipkart.com</td>\n",
       "      <td>NaN</td>\n",
       "    </tr>\n",
       "  </tbody>\n",
       "</table>\n",
       "</div>"
      ],
      "text/plain": [
       "                  spec_id                                         page_title  \\\n",
       "0  www.flipkart.com//2249                   lowepro fastpack 350 bag lowepro   \n",
       "1  www.flipkart.com//2199                      nikon coolpix l30 point shoot   \n",
       "2  www.flipkart.com//2286                                   sony point shoot   \n",
       "3  www.flipkart.com//2280  lowepro compu day photo 250 multi use backpack...   \n",
       "4  www.flipkart.com//2279                        nikon l29 point shoot india   \n",
       "\n",
       "                                     page_title_stem  brand              site  \\\n",
       "0                   lowepro fastpack 350 bag lowepro    NaN  www.flipkart.com   \n",
       "1                      nikon coolpix l30 point shoot  nikon  www.flipkart.com   \n",
       "2                                   soni point shoot   sony  www.flipkart.com   \n",
       "3  lowepro compu day photo 250 multi use backpack...    NaN  www.flipkart.com   \n",
       "4                        nikon l29 point shoot india  nikon  www.flipkart.com   \n",
       "\n",
       "   class_  \n",
       "0     NaN  \n",
       "1     NaN  \n",
       "2     NaN  \n",
       "3     NaN  \n",
       "4     NaN  "
      ]
     },
     "execution_count": 14,
     "metadata": {},
     "output_type": "execute_result"
    }
   ],
   "source": [
    "specs_df = specs_df.merge(classes_df, how='left')\n",
    "specs_df.head()"
   ]
  },
  {
   "cell_type": "code",
   "execution_count": 15,
   "metadata": {},
   "outputs": [
    {
     "data": {
      "text/html": [
       "<div>\n",
       "<style scoped>\n",
       "    .dataframe tbody tr th:only-of-type {\n",
       "        vertical-align: middle;\n",
       "    }\n",
       "\n",
       "    .dataframe tbody tr th {\n",
       "        vertical-align: top;\n",
       "    }\n",
       "\n",
       "    .dataframe thead th {\n",
       "        text-align: right;\n",
       "    }\n",
       "</style>\n",
       "<table border=\"1\" class=\"dataframe\">\n",
       "  <thead>\n",
       "    <tr style=\"text-align: right;\">\n",
       "      <th></th>\n",
       "      <th>spec_id</th>\n",
       "      <th>page_title</th>\n",
       "      <th>page_title_stem</th>\n",
       "      <th>brand</th>\n",
       "      <th>site</th>\n",
       "      <th>class_</th>\n",
       "    </tr>\n",
       "  </thead>\n",
       "  <tbody>\n",
       "    <tr>\n",
       "      <th>9274</th>\n",
       "      <td>buy.net//5641</td>\n",
       "      <td>nikon d4 body</td>\n",
       "      <td>nikon d4 bodi</td>\n",
       "      <td>nikon</td>\n",
       "      <td>buy.net</td>\n",
       "      <td>0.0</td>\n",
       "    </tr>\n",
       "    <tr>\n",
       "      <th>10828</th>\n",
       "      <td>www.price-hunt.com//9794</td>\n",
       "      <td>nikon d4 best india 2014</td>\n",
       "      <td>nikon d4 best india 2014</td>\n",
       "      <td>nikon</td>\n",
       "      <td>www.price-hunt.com</td>\n",
       "      <td>0.0</td>\n",
       "    </tr>\n",
       "    <tr>\n",
       "      <th>12808</th>\n",
       "      <td>www.ebay.com//58588</td>\n",
       "      <td>nikon d4 16 2 mp body</td>\n",
       "      <td>nikon d4 16 2 mp bodi</td>\n",
       "      <td>nikon</td>\n",
       "      <td>www.ebay.com</td>\n",
       "      <td>0.0</td>\n",
       "    </tr>\n",
       "    <tr>\n",
       "      <th>13253</th>\n",
       "      <td>www.ebay.com//59612</td>\n",
       "      <td>excellent nikon d4 body 16 2 mp fx free</td>\n",
       "      <td>excel nikon d4 bodi 16 2 mp fx free</td>\n",
       "      <td>nikon</td>\n",
       "      <td>www.ebay.com</td>\n",
       "      <td>0.0</td>\n",
       "    </tr>\n",
       "    <tr>\n",
       "      <th>16498</th>\n",
       "      <td>www.ebay.com//54217</td>\n",
       "      <td>near mint nikon d4 body 16 2 mp fx</td>\n",
       "      <td>near mint nikon d4 bodi 16 2 mp fx</td>\n",
       "      <td>nikon</td>\n",
       "      <td>www.ebay.com</td>\n",
       "      <td>0.0</td>\n",
       "    </tr>\n",
       "    <tr>\n",
       "      <th>29133</th>\n",
       "      <td>www.gosale.com//849</td>\n",
       "      <td>nikon d4 cmos fx sale</td>\n",
       "      <td>nikon d4 cmos fx sale</td>\n",
       "      <td>nikon</td>\n",
       "      <td>www.gosale.com</td>\n",
       "      <td>0.0</td>\n",
       "    </tr>\n",
       "  </tbody>\n",
       "</table>\n",
       "</div>"
      ],
      "text/plain": [
       "                        spec_id                               page_title  \\\n",
       "9274              buy.net//5641                            nikon d4 body   \n",
       "10828  www.price-hunt.com//9794                 nikon d4 best india 2014   \n",
       "12808       www.ebay.com//58588                    nikon d4 16 2 mp body   \n",
       "13253       www.ebay.com//59612  excellent nikon d4 body 16 2 mp fx free   \n",
       "16498       www.ebay.com//54217       near mint nikon d4 body 16 2 mp fx   \n",
       "29133       www.gosale.com//849                    nikon d4 cmos fx sale   \n",
       "\n",
       "                           page_title_stem  brand                site  class_  \n",
       "9274                         nikon d4 bodi  nikon             buy.net     0.0  \n",
       "10828             nikon d4 best india 2014  nikon  www.price-hunt.com     0.0  \n",
       "12808                nikon d4 16 2 mp bodi  nikon        www.ebay.com     0.0  \n",
       "13253  excel nikon d4 bodi 16 2 mp fx free  nikon        www.ebay.com     0.0  \n",
       "16498   near mint nikon d4 bodi 16 2 mp fx  nikon        www.ebay.com     0.0  \n",
       "29133                nikon d4 cmos fx sale  nikon      www.gosale.com     0.0  "
      ]
     },
     "execution_count": 15,
     "metadata": {},
     "output_type": "execute_result"
    }
   ],
   "source": [
    "specs_df[specs_df.class_ == 0]"
   ]
  },
  {
   "cell_type": "code",
   "execution_count": 16,
   "metadata": {},
   "outputs": [
    {
     "data": {
      "text/html": [
       "<div>\n",
       "<style scoped>\n",
       "    .dataframe tbody tr th:only-of-type {\n",
       "        vertical-align: middle;\n",
       "    }\n",
       "\n",
       "    .dataframe tbody tr th {\n",
       "        vertical-align: top;\n",
       "    }\n",
       "\n",
       "    .dataframe thead th {\n",
       "        text-align: right;\n",
       "    }\n",
       "</style>\n",
       "<table border=\"1\" class=\"dataframe\">\n",
       "  <thead>\n",
       "    <tr style=\"text-align: right;\">\n",
       "      <th></th>\n",
       "      <th>spec_id</th>\n",
       "      <th>page_title</th>\n",
       "      <th>page_title_stem</th>\n",
       "      <th>brand</th>\n",
       "      <th>site</th>\n",
       "      <th>class_</th>\n",
       "    </tr>\n",
       "  </thead>\n",
       "  <tbody>\n",
       "    <tr>\n",
       "      <th>9274</th>\n",
       "      <td>buy.net//5641</td>\n",
       "      <td>nikon d4 body</td>\n",
       "      <td>nikon d4 bodi</td>\n",
       "      <td>nikon</td>\n",
       "      <td>buy.net</td>\n",
       "      <td>0.0</td>\n",
       "    </tr>\n",
       "    <tr>\n",
       "      <th>10828</th>\n",
       "      <td>www.price-hunt.com//9794</td>\n",
       "      <td>nikon d4 best india 2014</td>\n",
       "      <td>nikon d4 best india 2014</td>\n",
       "      <td>nikon</td>\n",
       "      <td>www.price-hunt.com</td>\n",
       "      <td>0.0</td>\n",
       "    </tr>\n",
       "    <tr>\n",
       "      <th>12808</th>\n",
       "      <td>www.ebay.com//58588</td>\n",
       "      <td>nikon d4 16 2 mp body</td>\n",
       "      <td>nikon d4 16 2 mp bodi</td>\n",
       "      <td>nikon</td>\n",
       "      <td>www.ebay.com</td>\n",
       "      <td>0.0</td>\n",
       "    </tr>\n",
       "    <tr>\n",
       "      <th>13253</th>\n",
       "      <td>www.ebay.com//59612</td>\n",
       "      <td>excellent nikon d4 body 16 2 mp fx free</td>\n",
       "      <td>excel nikon d4 bodi 16 2 mp fx free</td>\n",
       "      <td>nikon</td>\n",
       "      <td>www.ebay.com</td>\n",
       "      <td>0.0</td>\n",
       "    </tr>\n",
       "    <tr>\n",
       "      <th>16498</th>\n",
       "      <td>www.ebay.com//54217</td>\n",
       "      <td>near mint nikon d4 body 16 2 mp fx</td>\n",
       "      <td>near mint nikon d4 bodi 16 2 mp fx</td>\n",
       "      <td>nikon</td>\n",
       "      <td>www.ebay.com</td>\n",
       "      <td>0.0</td>\n",
       "    </tr>\n",
       "    <tr>\n",
       "      <th>29133</th>\n",
       "      <td>www.gosale.com//849</td>\n",
       "      <td>nikon d4 cmos fx sale</td>\n",
       "      <td>nikon d4 cmos fx sale</td>\n",
       "      <td>nikon</td>\n",
       "      <td>www.gosale.com</td>\n",
       "      <td>0.0</td>\n",
       "    </tr>\n",
       "  </tbody>\n",
       "</table>\n",
       "</div>"
      ],
      "text/plain": [
       "                        spec_id                               page_title  \\\n",
       "9274              buy.net//5641                            nikon d4 body   \n",
       "10828  www.price-hunt.com//9794                 nikon d4 best india 2014   \n",
       "12808       www.ebay.com//58588                    nikon d4 16 2 mp body   \n",
       "13253       www.ebay.com//59612  excellent nikon d4 body 16 2 mp fx free   \n",
       "16498       www.ebay.com//54217       near mint nikon d4 body 16 2 mp fx   \n",
       "29133       www.gosale.com//849                    nikon d4 cmos fx sale   \n",
       "\n",
       "                           page_title_stem  brand                site  class_  \n",
       "9274                         nikon d4 bodi  nikon             buy.net     0.0  \n",
       "10828             nikon d4 best india 2014  nikon  www.price-hunt.com     0.0  \n",
       "12808                nikon d4 16 2 mp bodi  nikon        www.ebay.com     0.0  \n",
       "13253  excel nikon d4 bodi 16 2 mp fx free  nikon        www.ebay.com     0.0  \n",
       "16498   near mint nikon d4 bodi 16 2 mp fx  nikon        www.ebay.com     0.0  \n",
       "29133                nikon d4 cmos fx sale  nikon      www.gosale.com     0.0  "
      ]
     },
     "execution_count": 16,
     "metadata": {},
     "output_type": "execute_result"
    }
   ],
   "source": [
    "specs_df[specs_df.class_ == 0]"
   ]
  },
  {
   "cell_type": "code",
   "execution_count": 17,
   "metadata": {},
   "outputs": [],
   "source": [
    "labelled_specs_df = specs_df[~specs_df.class_.isnull()]"
   ]
  },
  {
   "cell_type": "code",
   "execution_count": 546,
   "metadata": {},
   "outputs": [],
   "source": [
    "labelled_specs_df.to_csv('../data/interim/specs_df_labelled.csv', index=None)"
   ]
  },
  {
   "cell_type": "code",
   "execution_count": 141,
   "metadata": {},
   "outputs": [
    {
     "name": "stdout",
     "output_type": "stream",
     "text": [
      "(214, 6) (92, 6)\n"
     ]
    }
   ],
   "source": [
    "from sklearn.model_selection import train_test_split\n",
    "lstr, lste = train_test_split(labelled_specs_df, test_size=0.3)\n",
    "print(lstr.shape, lste.shape)"
   ]
  },
  {
   "cell_type": "code",
   "execution_count": 142,
   "metadata": {},
   "outputs": [],
   "source": [
    "lstr.to_csv('../data/interim/specs_df_labelled_train.csv', index=None)\n",
    "lste.to_csv('../data/interim/specs_df_labelled_test.csv', index=None)"
   ]
  },
  {
   "cell_type": "markdown",
   "metadata": {},
   "source": [
    "# Triplet generator"
   ]
  },
  {
   "cell_type": "code",
   "execution_count": 549,
   "metadata": {},
   "outputs": [
    {
     "name": "stderr",
     "output_type": "stream",
     "text": [
      "/usr/local/lib/python3.6/dist-packages/ipykernel_launcher.py:1: SettingWithCopyWarning: \n",
      "A value is trying to be set on a copy of a slice from a DataFrame.\n",
      "Try using .loc[row_indexer,col_indexer] = value instead\n",
      "\n",
      "See the caveats in the documentation: http://pandas.pydata.org/pandas-docs/stable/user_guide/indexing.html#returning-a-view-versus-a-copy\n",
      "  \"\"\"Entry point for launching an IPython kernel.\n"
     ]
    },
    {
     "data": {
      "text/html": [
       "<div>\n",
       "<style scoped>\n",
       "    .dataframe tbody tr th:only-of-type {\n",
       "        vertical-align: middle;\n",
       "    }\n",
       "\n",
       "    .dataframe tbody tr th {\n",
       "        vertical-align: top;\n",
       "    }\n",
       "\n",
       "    .dataframe thead th {\n",
       "        text-align: right;\n",
       "    }\n",
       "</style>\n",
       "<table border=\"1\" class=\"dataframe\">\n",
       "  <thead>\n",
       "    <tr style=\"text-align: right;\">\n",
       "      <th></th>\n",
       "      <th>spec_id</th>\n",
       "      <th>page_title</th>\n",
       "      <th>page_title_stem</th>\n",
       "      <th>brand</th>\n",
       "      <th>site</th>\n",
       "      <th>class_</th>\n",
       "      <th>spec_idx</th>\n",
       "    </tr>\n",
       "  </thead>\n",
       "  <tbody>\n",
       "    <tr>\n",
       "      <th>91</th>\n",
       "      <td>www.flipkart.com//2178</td>\n",
       "      <td>nikon coolpix l30 point shoot</td>\n",
       "      <td>nikon coolpix l30 point shoot</td>\n",
       "      <td>nikon</td>\n",
       "      <td>www.flipkart.com</td>\n",
       "      <td>12.0</td>\n",
       "      <td>0</td>\n",
       "    </tr>\n",
       "    <tr>\n",
       "      <th>150</th>\n",
       "      <td>www.flipkart.com//2193</td>\n",
       "      <td>canon eos 1200d kit ef ii</td>\n",
       "      <td>canon eo 1200d kit ef ii</td>\n",
       "      <td>canon</td>\n",
       "      <td>www.flipkart.com</td>\n",
       "      <td>21.0</td>\n",
       "      <td>1</td>\n",
       "    </tr>\n",
       "    <tr>\n",
       "      <th>162</th>\n",
       "      <td>www.priceme.co.nz//1778</td>\n",
       "      <td>nikon d3200 zealand prices priceme</td>\n",
       "      <td>nikon d3200 zealand price pricem</td>\n",
       "      <td>nikon</td>\n",
       "      <td>www.priceme.co.nz</td>\n",
       "      <td>1.0</td>\n",
       "      <td>2</td>\n",
       "    </tr>\n",
       "    <tr>\n",
       "      <th>194</th>\n",
       "      <td>www.priceme.co.nz//1746</td>\n",
       "      <td>nikon d90 vr ii zealand prices</td>\n",
       "      <td>nikon d90 vr ii zealand price</td>\n",
       "      <td>nikon</td>\n",
       "      <td>www.priceme.co.nz</td>\n",
       "      <td>14.0</td>\n",
       "      <td>3</td>\n",
       "    </tr>\n",
       "    <tr>\n",
       "      <th>199</th>\n",
       "      <td>www.priceme.co.nz//54</td>\n",
       "      <td>canon eos 7d mark ii zealand prices priceme</td>\n",
       "      <td>canon eo 7d mark ii zealand price pricem</td>\n",
       "      <td>canon</td>\n",
       "      <td>www.priceme.co.nz</td>\n",
       "      <td>9.0</td>\n",
       "      <td>4</td>\n",
       "    </tr>\n",
       "  </tbody>\n",
       "</table>\n",
       "</div>"
      ],
      "text/plain": [
       "                     spec_id                                   page_title  \\\n",
       "91    www.flipkart.com//2178                nikon coolpix l30 point shoot   \n",
       "150   www.flipkart.com//2193                    canon eos 1200d kit ef ii   \n",
       "162  www.priceme.co.nz//1778           nikon d3200 zealand prices priceme   \n",
       "194  www.priceme.co.nz//1746               nikon d90 vr ii zealand prices   \n",
       "199    www.priceme.co.nz//54  canon eos 7d mark ii zealand prices priceme   \n",
       "\n",
       "                              page_title_stem  brand               site  \\\n",
       "91              nikon coolpix l30 point shoot  nikon   www.flipkart.com   \n",
       "150                  canon eo 1200d kit ef ii  canon   www.flipkart.com   \n",
       "162          nikon d3200 zealand price pricem  nikon  www.priceme.co.nz   \n",
       "194             nikon d90 vr ii zealand price  nikon  www.priceme.co.nz   \n",
       "199  canon eo 7d mark ii zealand price pricem  canon  www.priceme.co.nz   \n",
       "\n",
       "     class_  spec_idx  \n",
       "91     12.0         0  \n",
       "150    21.0         1  \n",
       "162     1.0         2  \n",
       "194    14.0         3  \n",
       "199     9.0         4  "
      ]
     },
     "execution_count": 549,
     "metadata": {},
     "output_type": "execute_result"
    }
   ],
   "source": [
    "labelled_specs_df['spec_idx'] = range(len(labelled_specs_df))\n",
    "labelled_specs_df.head()"
   ]
  },
  {
   "cell_type": "code",
   "execution_count": 40,
   "metadata": {},
   "outputs": [
    {
     "data": {
      "text/plain": [
       "[24, 45, 73, 80, 122, 296]"
      ]
     },
     "execution_count": 40,
     "metadata": {},
     "output_type": "execute_result"
    }
   ],
   "source": [
    "spec_lookup = labelled_specs_df.groupby(['class_'])['spec_idx'].agg(list).to_dict()\n",
    "spec_lookup[0]"
   ]
  },
  {
   "cell_type": "code",
   "execution_count": 41,
   "metadata": {},
   "outputs": [
    {
     "data": {
      "text/plain": [
       "23.0"
      ]
     },
     "execution_count": 41,
     "metadata": {},
     "output_type": "execute_result"
    }
   ],
   "source": [
    "class_lookup = labelled_specs_df[~labelled_specs_df.class_.isnull()].set_index('spec_idx').to_dict()['class_']\n",
    "class_lookup[143]"
   ]
  },
  {
   "cell_type": "code",
   "execution_count": 18,
   "metadata": {},
   "outputs": [],
   "source": [
    "def gen_triplet(anchor_ids, class_lookup_table, id_lookup_table, batch_size=1):\n",
    "    pos_ids = []\n",
    "    neg_ids = []\n",
    "    for i in enumerate(anchor_ids):\n",
    "        anchor_class = class_lookup_table[anchor_id]\n",
    "        positive_id = random.choice(list(set(id_lookup_table[anchor_class]).difference(set([anchor_id]))))\n",
    "\n",
    "        negative_class = random.choice(list(set(id_lookup_table.keys()).difference([anchor_class])))\n",
    "        negative_id = random.choice(id_lookup_table[negative_class])\n",
    "        \n",
    "    return (anchor_id, positive_id, negative_id)"
   ]
  },
  {
   "cell_type": "code",
   "execution_count": 176,
   "metadata": {},
   "outputs": [
    {
     "name": "stdout",
     "output_type": "stream",
     "text": [
      "CPU times: user 1.08 ms, sys: 0 ns, total: 1.08 ms\n",
      "Wall time: 1.03 ms\n"
     ]
    },
    {
     "data": {
      "text/html": [
       "<div>\n",
       "<style scoped>\n",
       "    .dataframe tbody tr th:only-of-type {\n",
       "        vertical-align: middle;\n",
       "    }\n",
       "\n",
       "    .dataframe tbody tr th {\n",
       "        vertical-align: top;\n",
       "    }\n",
       "\n",
       "    .dataframe thead th {\n",
       "        text-align: right;\n",
       "    }\n",
       "</style>\n",
       "<table border=\"1\" class=\"dataframe\">\n",
       "  <thead>\n",
       "    <tr style=\"text-align: right;\">\n",
       "      <th></th>\n",
       "      <th>spec_id</th>\n",
       "      <th>page_title</th>\n",
       "      <th>page_title_stem</th>\n",
       "      <th>brand</th>\n",
       "      <th>site</th>\n",
       "      <th>class_</th>\n",
       "      <th>spec_idx</th>\n",
       "    </tr>\n",
       "  </thead>\n",
       "  <tbody>\n",
       "    <tr>\n",
       "      <th>150</th>\n",
       "      <td>www.flipkart.com//2193</td>\n",
       "      <td>canon eos 1200d kit ef ii</td>\n",
       "      <td>canon eo 1200d kit ef ii</td>\n",
       "      <td>canon</td>\n",
       "      <td>www.flipkart.com</td>\n",
       "      <td>21.0</td>\n",
       "      <td>1</td>\n",
       "    </tr>\n",
       "    <tr>\n",
       "      <th>651</th>\n",
       "      <td>www.priceme.co.nz//2246</td>\n",
       "      <td>canon eos 1200d zealand prices priceme</td>\n",
       "      <td>canon eo 1200d zealand price pricem</td>\n",
       "      <td>canon</td>\n",
       "      <td>www.priceme.co.nz</td>\n",
       "      <td>21.0</td>\n",
       "      <td>15</td>\n",
       "    </tr>\n",
       "    <tr>\n",
       "      <th>11929</th>\n",
       "      <td>www.ebay.com//41954</td>\n",
       "      <td>canon eos 20d 8 2 mp</td>\n",
       "      <td>canon eo 20d 8 2 mp</td>\n",
       "      <td>canon</td>\n",
       "      <td>www.ebay.com</td>\n",
       "      <td>6.0</td>\n",
       "      <td>63</td>\n",
       "    </tr>\n",
       "  </tbody>\n",
       "</table>\n",
       "</div>"
      ],
      "text/plain": [
       "                       spec_id                              page_title  \\\n",
       "150     www.flipkart.com//2193               canon eos 1200d kit ef ii   \n",
       "651    www.priceme.co.nz//2246  canon eos 1200d zealand prices priceme   \n",
       "11929      www.ebay.com//41954                    canon eos 20d 8 2 mp   \n",
       "\n",
       "                           page_title_stem  brand               site  class_  \\\n",
       "150               canon eo 1200d kit ef ii  canon   www.flipkart.com    21.0   \n",
       "651    canon eo 1200d zealand price pricem  canon  www.priceme.co.nz    21.0   \n",
       "11929                  canon eo 20d 8 2 mp  canon       www.ebay.com     6.0   \n",
       "\n",
       "       spec_idx  \n",
       "150           1  \n",
       "651          15  \n",
       "11929        63  "
      ]
     },
     "execution_count": 176,
     "metadata": {},
     "output_type": "execute_result"
    }
   ],
   "source": [
    "%%time\n",
    "labelled_specs_df.iloc[list(gen_triplet(1, class_lookup, spec_lookup))]"
   ]
  },
  {
   "cell_type": "markdown",
   "metadata": {},
   "source": [
    "# Triplet loss model"
   ]
  },
  {
   "cell_type": "code",
   "execution_count": 19,
   "metadata": {},
   "outputs": [],
   "source": [
    "import torch\n",
    "import torchtext\n",
    "from torchtext.datasets import text_classification\n",
    "import torch.nn as nn\n",
    "import torch.nn.functional as F\n",
    "from torch.utils.data import DataLoader\n",
    "import time\n",
    "from torch.utils.data.dataset import random_split\n",
    "import torch.optim as optim"
   ]
  },
  {
   "cell_type": "code",
   "execution_count": 20,
   "metadata": {},
   "outputs": [],
   "source": [
    "from torchtext.data import Field"
   ]
  },
  {
   "cell_type": "code",
   "execution_count": 21,
   "metadata": {},
   "outputs": [],
   "source": [
    "from torchtext.data import Dataset, TabularDataset"
   ]
  },
  {
   "cell_type": "code",
   "execution_count": 22,
   "metadata": {},
   "outputs": [
    {
     "name": "stdout",
     "output_type": "stream",
     "text": [
      "env: CUDA_VISIBLE_DEVICES=0\n"
     ]
    }
   ],
   "source": [
    "DEVICE = 'cuda'\n",
    "%env CUDA_VISIBLE_DEVICES=0"
   ]
  },
  {
   "cell_type": "code",
   "execution_count": 23,
   "metadata": {},
   "outputs": [],
   "source": [
    "tokenize = lambda x: x.split()\n",
    "text_field = Field(sequential=True, tokenize=tokenize, lower=True)\n",
    "brand_field = Field(sequential=False, use_vocab=True, lower=True)\n",
    "site_field = Field(sequential=False, use_vocab=True, lower=True)"
   ]
  },
  {
   "cell_type": "code",
   "execution_count": 161,
   "metadata": {},
   "outputs": [
    {
     "name": "stdout",
     "output_type": "stream",
     "text": [
      "CPU times: user 8.01 ms, sys: 42 µs, total: 8.05 ms\n",
      "Wall time: 7.91 ms\n"
     ]
    }
   ],
   "source": [
    "%%time\n",
    "PATH = '../data/interim/'\n",
    "TRAIN_PATH = 'specs_df_labelled_train.csv'\n",
    "TEST_PATH = 'specs_df_labelled_test.csv'\n",
    "\n",
    "datafields = [(\"spec_id\", None),\n",
    "              (\"page_title\", None),\n",
    "                 (\"page_title_stem\", text_field),\n",
    "                  (\"brand\", brand_field),\n",
    "                  (\"site\", site_field),\n",
    "             ('class_', None)]\n",
    "\n",
    "train_dataset, test_dataset = TabularDataset.splits(\n",
    "        path=PATH, # the root directory where the data lies\n",
    "        train=TRAIN_PATH,\n",
    "        test=TEST_PATH,\n",
    "        format='csv',\n",
    "        skip_header=True, # if your csv header has a header, make sure to pass this to ensure it doesn't get proceesed as data!\n",
    "        fields=datafields)"
   ]
  },
  {
   "cell_type": "code",
   "execution_count": 25,
   "metadata": {},
   "outputs": [
    {
     "name": "stdout",
     "output_type": "stream",
     "text": [
      "CPU times: user 4.09 ms, sys: 232 µs, total: 4.32 ms\n",
      "Wall time: 4.34 ms\n"
     ]
    }
   ],
   "source": [
    "%%time\n",
    "text_field.build_vocab(train_dataset)\n",
    "site_field.build_vocab(train_dataset)\n",
    "brand_field.build_vocab(train_dataset)"
   ]
  },
  {
   "cell_type": "code",
   "execution_count": 26,
   "metadata": {},
   "outputs": [],
   "source": [
    "class BiLSTMEmbedder(nn.Module):\n",
    "    def __init__(self, hidden_dim, emb_dim=300,\n",
    "                 spatial_dropout=0.05, recurrent_dropout=0.1, num_linear=1, num_lstm=1, device='cpu'):\n",
    "        super().__init__()\n",
    "        self.embedding = nn.Embedding(len(text_field.vocab), emb_dim)\n",
    "        self.encoder = nn.LSTM(emb_dim, hidden_dim, num_layers=num_lstm, \n",
    "                               dropout=recurrent_dropout)\n",
    "#         self.conv1d = nn.Conv1d(emb_dim, hidden_dim, 10, )\n",
    "        self.linear_layers = []\n",
    "        self.deivce = device\n",
    "        for _ in range(num_linear - 1):\n",
    "            self.linear_layers.append(nn.Linear(hidden_dim, hidden_dim))\n",
    "        self.linear_layers = nn.ModuleList(self.linear_layers)\n",
    "    \n",
    "    def forward(self, seq):\n",
    "        hdn, _ = self.encoder(self.embedding(seq))\n",
    "        feature = hdn[-1, :, :]\n",
    "        for layer in self.linear_layers:\n",
    "            feature = layer(feature)\n",
    "        return feature.to(self.deivce)"
   ]
  },
  {
   "cell_type": "code",
   "execution_count": 27,
   "metadata": {},
   "outputs": [
    {
     "data": {
      "text/plain": [
       "BiLSTMEmbedder(\n",
       "  (embedding): Embedding(249, 300)\n",
       "  (encoder): LSTM(300, 200)\n",
       "  (linear_layers): ModuleList(\n",
       "    (0): Linear(in_features=200, out_features=200, bias=True)\n",
       "    (1): Linear(in_features=200, out_features=200, bias=True)\n",
       "  )\n",
       ")"
      ]
     },
     "execution_count": 27,
     "metadata": {},
     "output_type": "execute_result"
    }
   ],
   "source": [
    "emb_dim = 300\n",
    "hidden_dim = 200\n",
    "num_linear = 3\n",
    "num_lstm = 1\n",
    "model = BiLSTMEmbedder(hidden_dim, emb_dim=emb_dim, num_linear=num_linear, num_lstm=num_lstm, recurrent_dropout=0, device=DEVICE)\n",
    "\n",
    "model"
   ]
  },
  {
   "cell_type": "markdown",
   "metadata": {},
   "source": [
    "### data preparation"
   ]
  },
  {
   "cell_type": "code",
   "execution_count": 28,
   "metadata": {},
   "outputs": [],
   "source": [
    "def gen_triplet(anchor_id, class_lookup_table, id_lookup_table):\n",
    "\n",
    "    anchor_class = class_lookup_table[anchor_id]\n",
    "    positive_id = random.choice(list(set(id_lookup_table[anchor_class]).difference(set([anchor_id]))))\n",
    "\n",
    "    negative_class = random.choice(list(set(id_lookup_table.keys()).difference([anchor_class])))\n",
    "    negative_id = random.choice(id_lookup_table[negative_class])\n",
    "\n",
    "    return (anchor_id, positive_id, negative_id)"
   ]
  },
  {
   "cell_type": "code",
   "execution_count": 143,
   "metadata": {},
   "outputs": [],
   "source": [
    "train_labelled_df = pd.read_csv(os.path.join(PATH, TRAIN_PATH))\n",
    "train_labelled_df['spec_idx'] = range(len(train_labelled_df))\n",
    "\n",
    "train_class_lookup = train_labelled_df[~train_labelled_df.class_.isnull()].set_index('spec_idx').to_dict()['class_']\n",
    "train_spec_lookup = train_labelled_df.groupby(['class_'])['spec_idx'].agg(list).to_dict()"
   ]
  },
  {
   "cell_type": "code",
   "execution_count": 144,
   "metadata": {},
   "outputs": [],
   "source": [
    "test_labelled_df = pd.read_csv(os.path.join(PATH, TEST_PATH))\n",
    "test_labelled_df['spec_idx'] = range(len(test_labelled_df))\n",
    "\n",
    "test_class_lookup = test_labelled_df[~test_labelled_df.class_.isnull()].set_index('spec_idx').to_dict()['class_']\n",
    "test_spec_lookup = test_labelled_df.groupby(['class_'])['spec_idx'].agg(list).to_dict()"
   ]
  },
  {
   "cell_type": "code",
   "execution_count": 196,
   "metadata": {},
   "outputs": [
    {
     "data": {
      "text/plain": [
       "tensor([[  2,   2,   2],\n",
       "        [ 27,  27,  27],\n",
       "        [ 62,  62,  40],\n",
       "        [ 42,  42, 208],\n",
       "        [168,   0,  37],\n",
       "        [193,   1,  25],\n",
       "        [  1,   1,  43]])"
      ]
     },
     "execution_count": 196,
     "metadata": {},
     "output_type": "execute_result"
    }
   ],
   "source": [
    "# если количество элементов в датасете не делится нацело на количество батчей, то последний батч удаляется\n",
    "\n",
    "def triplet_iterator(dataset, class_lookup, spec_lookup, batch_size=1):\n",
    "    shuffled_idx = np.arange(len(dataset))\n",
    "    np.random.shuffle(shuffled_idx)\n",
    "    \n",
    "    \n",
    "    num_drop = len(shuffled_idx) % batch_size\n",
    "    shuffled_idx = shuffled_idx[:-num_drop] if num_drop != 0 else shuffled_idx\n",
    "    shuffled_idx = shuffled_idx.reshape(-1, batch_size)\n",
    "    for idxs in shuffled_idx:\n",
    "        list_triplets = []\n",
    "        for i in idxs:\n",
    "            try:\n",
    "                _, pos_idx, neg_idx = gen_triplet(i, class_lookup, spec_lookup)\n",
    "            except IndexError:\n",
    "#                 print('!!!!!!', i)\n",
    "                continue\n",
    "            list_triplets.extend([dataset[i].page_title_stem, \n",
    "                                  dataset[pos_idx].page_title_stem,\n",
    "                                  dataset[neg_idx].page_title_stem])\n",
    "        #паддим все к одному размеру\n",
    "#         print(list_triplets)\n",
    "        triplet = text_field.pad(list_triplets)\n",
    "        triplet = text_field.numericalize(triplet)\n",
    "        yield triplet\n",
    "           \n",
    "next(iter(triplet_iterator(train_dataset, train_class_lookup, train_spec_lookup, 1)))"
   ]
  },
  {
   "cell_type": "code",
   "execution_count": 221,
   "metadata": {},
   "outputs": [],
   "source": [
    "def triplet_loss(anchor, pos, neg, margin=0.8):\n",
    "    \"\"\"\n",
    "    Consine similarity for between anchor and positive should be >= 0.8\n",
    "    \n",
    "    Cosine similarity for negative should be < 0.8\n",
    "    \"\"\"\n",
    "    pos_dist = F.cosine_similarity(anchor, pos, dim=1)\n",
    "    neg_dist = F.cosine_similarity(anchor, neg, dim=1)\n",
    "    \n",
    "    loss_pos = torch.clamp(margin-pos_dist, min=0)\n",
    "    loss_neg = torch.clamp(neg_dist-margin, min=0)\n",
    "    return torch.sum(loss_pos + loss_neg)"
   ]
  },
  {
   "cell_type": "code",
   "execution_count": 225,
   "metadata": {},
   "outputs": [],
   "source": [
    "loss_history_train = []\n",
    "loss_history_test = []\n",
    "\n",
    "opt = optim.Adam(model.parameters(), lr=1e-3)\n",
    "epochs = 30"
   ]
  },
  {
   "cell_type": "markdown",
   "metadata": {},
   "source": [
    "### train"
   ]
  },
  {
   "cell_type": "code",
   "execution_count": 227,
   "metadata": {},
   "outputs": [
    {
     "name": "stderr",
     "output_type": "stream",
     "text": [
      "/usr/local/lib/python3.6/dist-packages/ipykernel_launcher.py:2: TqdmDeprecationWarning: This function will be removed in tqdm==5.0.0\n",
      "Please use `tqdm.notebook.tqdm` instead of `tqdm.tqdm_notebook`\n",
      "  \n"
     ]
    },
    {
     "data": {
      "application/vnd.jupyter.widget-view+json": {
       "model_id": "3b57736f826f4fcab661fef4b938ceab",
       "version_major": 2,
       "version_minor": 0
      },
      "text/plain": [
       "HBox(children=(FloatProgress(value=0.0, max=30.0), HTML(value='')))"
      ]
     },
     "metadata": {},
     "output_type": "display_data"
    },
    {
     "name": "stdout",
     "output_type": "stream",
     "text": [
      "Epoch: 1, Training Loss: 0.7151\n",
      "Epoch: 2, Training Loss: 0.4511\n",
      "Epoch: 3, Training Loss: 0.2430\n",
      "Epoch: 4, Training Loss: 0.2041\n",
      "Epoch: 5, Training Loss: 0.1243\n",
      "Epoch: 6, Training Loss: 0.1001\n",
      "Epoch: 7, Training Loss: 0.0797\n",
      "Epoch: 8, Training Loss: 0.0733\n",
      "Epoch: 9, Training Loss: 0.0758\n",
      "Epoch: 10, Training Loss: 0.0486\n",
      "Epoch: 11, Training Loss: 0.0250\n",
      "Epoch: 12, Training Loss: 0.0430\n",
      "Epoch: 13, Training Loss: 0.0183\n",
      "Epoch: 14, Training Loss: 0.0221\n",
      "Epoch: 15, Training Loss: 0.0153\n",
      "Epoch: 16, Training Loss: 0.0088\n",
      "Epoch: 17, Training Loss: 0.0098\n",
      "Epoch: 18, Training Loss: 0.0231\n",
      "Epoch: 19, Training Loss: 0.0099\n",
      "Epoch: 20, Training Loss: 0.0176\n",
      "Epoch: 21, Training Loss: 0.0174\n",
      "Epoch: 22, Training Loss: 0.0057\n",
      "Epoch: 23, Training Loss: 0.0064\n",
      "Epoch: 24, Training Loss: 0.0060\n",
      "Epoch: 25, Training Loss: 0.0034\n",
      "Epoch: 26, Training Loss: 0.0091\n",
      "Epoch: 27, Training Loss: 0.0058\n",
      "Epoch: 28, Training Loss: 0.0015\n",
      "Epoch: 29, Training Loss: 0.0059\n",
      "Epoch: 30, Training Loss: 0.0030\n",
      "\n",
      "CPU times: user 10min 23s, sys: 7.89 s, total: 10min 31s\n",
      "Wall time: 20.9 s\n"
     ]
    }
   ],
   "source": [
    "%%time\n",
    "loss_history = []\n",
    "for epoch in tqdm(range(1, epochs + 1)):\n",
    "    model.train()\n",
    "    \n",
    "    running_loss = 0\n",
    "    count_triplets = 0\n",
    "    \n",
    "    for triplet in iter(triplet_iterator(train_dataset, train_class_lookup, train_spec_lookup, batch_size=10)):\n",
    "        opt.zero_grad()\n",
    "\n",
    "        embeddings = model(triplet)\n",
    "        anchors = embeddings[0::3]\n",
    "        pos = embeddings[1::3]\n",
    "        ng = embeddings[2::3]\n",
    "        loss = triplet_loss(anchors, pos, ng)\n",
    "        loss.backward()\n",
    "        opt.step()\n",
    "        \n",
    "        running_loss += loss.data\n",
    "        count_triplets +=1 \n",
    "        \n",
    "        \n",
    "    epoch_loss = running_loss / count_triplets\n",
    "    loss_history.append(epoch_loss)\n",
    "    \n",
    "    print('Epoch: {}, Training Loss: {:.4f}'.format(epoch, epoch_loss))"
   ]
  },
  {
   "cell_type": "markdown",
   "metadata": {},
   "source": [
    "### test"
   ]
  },
  {
   "cell_type": "code",
   "execution_count": 228,
   "metadata": {},
   "outputs": [
    {
     "name": "stdout",
     "output_type": "stream",
     "text": [
      "Test Loss: 0.0285\n",
      "CPU times: user 2.79 s, sys: 0 ns, total: 2.79 s\n",
      "Wall time: 118 ms\n"
     ]
    }
   ],
   "source": [
    "%%time\n",
    "model.eval()\n",
    "\n",
    "test_loss = 0\n",
    "count_test = 0\n",
    "test_loss_h = []\n",
    "with torch.no_grad():\n",
    "    for triplet in iter(triplet_iterator(test_dataset, test_class_lookup, test_spec_lookup, batch_size=2)):\n",
    "        embeddings = model(triplet)\n",
    "        anchors = embeddings[0::3]\n",
    "        pos = embeddings[1::3]\n",
    "        ng = embeddings[2::3]\n",
    "        loss = triplet_loss(anchors, pos, ng)\n",
    "        test_loss += loss.data\n",
    "        count_test +=1 \n",
    "\n",
    "print('Test Loss: {:.4f}'.format(test_loss / count_test))"
   ]
  },
  {
   "cell_type": "code",
   "execution_count": 229,
   "metadata": {},
   "outputs": [
    {
     "data": {
      "image/png": "[encoded data removed]",
      "text/plain": [
       "<Figure size 720x504 with 1 Axes>"
      ]
     },
     "metadata": {},
     "output_type": "display_data"
    }
   ],
   "source": [
    "plt.figure()\n",
    "plt.plot(loss_history, label='loss')\n",
    "plt.show()"
   ]
  },
  {
   "cell_type": "markdown",
   "metadata": {},
   "source": [
    "# Produce embeddings and TSNE"
   ]
  },
  {
   "cell_type": "code",
   "execution_count": 230,
   "metadata": {},
   "outputs": [
    {
     "name": "stderr",
     "output_type": "stream",
     "text": [
      "/usr/local/lib/python3.6/dist-packages/ipykernel_launcher.py:3: TqdmDeprecationWarning: This function will be removed in tqdm==5.0.0\n",
      "Please use `tqdm.notebook.tqdm` instead of `tqdm.tqdm_notebook`\n",
      "  This is separate from the ipykernel package so we can avoid doing imports until\n"
     ]
    },
    {
     "data": {
      "application/vnd.jupyter.widget-view+json": {
       "model_id": "efd2afc4b60242a99553a439e1307a62",
       "version_major": 2,
       "version_minor": 0
      },
      "text/plain": [
       "HBox(children=(FloatProgress(value=0.0, max=214.0), HTML(value='')))"
      ]
     },
     "metadata": {},
     "output_type": "display_data"
    },
    {
     "name": "stdout",
     "output_type": "stream",
     "text": [
      "\n"
     ]
    }
   ],
   "source": [
    "embeddings = []\n",
    "classes = []\n",
    "for ex in tqdm(train_dataset):\n",
    "    emb = np.array(model(text_field.numericalize([ex.page_title_stem]))[0].data.cpu().numpy())\n",
    "    \n",
    "    embeddings.append(emb)\n",
    "embeddings = np.array(embeddings)"
   ]
  },
  {
   "cell_type": "code",
   "execution_count": 231,
   "metadata": {},
   "outputs": [],
   "source": [
    "from MulticoreTSNE import MulticoreTSNE as TSNE"
   ]
  },
  {
   "cell_type": "code",
   "execution_count": 232,
   "metadata": {},
   "outputs": [],
   "source": [
    "tsne = TSNE(\n",
    "    n_components=2,\n",
    "    metric='cosine',\n",
    "    n_jobs=3,\n",
    "    verbose=True,\n",
    ")"
   ]
  },
  {
   "cell_type": "code",
   "execution_count": 233,
   "metadata": {},
   "outputs": [],
   "source": [
    "emb_ld = tsne.fit_transform(embeddings)"
   ]
  },
  {
   "cell_type": "code",
   "execution_count": 234,
   "metadata": {},
   "outputs": [
    {
     "data": {
      "text/plain": [
       "(306, 2)"
      ]
     },
     "execution_count": 234,
     "metadata": {},
     "output_type": "execute_result"
    }
   ],
   "source": [
    "labelled_spec_classes = labelled_specs_df.class_\n",
    "labelled_spec_classes = labelled_spec_classes.reset_index()\n",
    "labelled_spec_classes.shape"
   ]
  },
  {
   "cell_type": "code",
   "execution_count": 235,
   "metadata": {},
   "outputs": [
    {
     "data": {
      "text/html": [
       "<div>\n",
       "<style scoped>\n",
       "    .dataframe tbody tr th:only-of-type {\n",
       "        vertical-align: middle;\n",
       "    }\n",
       "\n",
       "    .dataframe tbody tr th {\n",
       "        vertical-align: top;\n",
       "    }\n",
       "\n",
       "    .dataframe thead th {\n",
       "        text-align: right;\n",
       "    }\n",
       "</style>\n",
       "<table border=\"1\" class=\"dataframe\">\n",
       "  <thead>\n",
       "    <tr style=\"text-align: right;\">\n",
       "      <th></th>\n",
       "      <th>x</th>\n",
       "      <th>y</th>\n",
       "      <th>original_index</th>\n",
       "      <th>class_</th>\n",
       "    </tr>\n",
       "  </thead>\n",
       "  <tbody>\n",
       "    <tr>\n",
       "      <th>0</th>\n",
       "      <td>-4.407661</td>\n",
       "      <td>5.263122</td>\n",
       "      <td>91</td>\n",
       "      <td>12.0</td>\n",
       "    </tr>\n",
       "    <tr>\n",
       "      <th>1</th>\n",
       "      <td>-16.198969</td>\n",
       "      <td>-2.058035</td>\n",
       "      <td>150</td>\n",
       "      <td>21.0</td>\n",
       "    </tr>\n",
       "    <tr>\n",
       "      <th>2</th>\n",
       "      <td>-0.960544</td>\n",
       "      <td>-3.904778</td>\n",
       "      <td>162</td>\n",
       "      <td>1.0</td>\n",
       "    </tr>\n",
       "    <tr>\n",
       "      <th>3</th>\n",
       "      <td>6.916752</td>\n",
       "      <td>-1.503675</td>\n",
       "      <td>194</td>\n",
       "      <td>14.0</td>\n",
       "    </tr>\n",
       "    <tr>\n",
       "      <th>4</th>\n",
       "      <td>-2.641135</td>\n",
       "      <td>4.693935</td>\n",
       "      <td>199</td>\n",
       "      <td>9.0</td>\n",
       "    </tr>\n",
       "  </tbody>\n",
       "</table>\n",
       "</div>"
      ],
      "text/plain": [
       "           x         y  original_index  class_\n",
       "0  -4.407661  5.263122              91    12.0\n",
       "1 -16.198969 -2.058035             150    21.0\n",
       "2  -0.960544 -3.904778             162     1.0\n",
       "3   6.916752 -1.503675             194    14.0\n",
       "4  -2.641135  4.693935             199     9.0"
      ]
     },
     "execution_count": 235,
     "metadata": {},
     "output_type": "execute_result"
    }
   ],
   "source": [
    "emb_tdf = pd.DataFrame(emb_ld)\n",
    "emb_tdf = pd.concat([emb_tdf, labelled_spec_classes], axis=1, ignore_index=True)\n",
    "emb_tdf.columns = ['x', 'y', 'original_index', 'class_']\n",
    "emb_tdf.head()"
   ]
  },
  {
   "cell_type": "code",
   "execution_count": 236,
   "metadata": {},
   "outputs": [
    {
     "data": {
      "image/png": "[encoded data removed]",
      "text/plain": [
       "<Figure size 1080x720 with 1 Axes>"
      ]
     },
     "metadata": {},
     "output_type": "display_data"
    }
   ],
   "source": [
    "plt.figure(figsize=(15, 10))\n",
    "plt.title('TSNE - Labelled only')\n",
    "for class_ in emb_tdf['class_'].sort_values().unique():\n",
    "    class_ld_df = emb_tdf[emb_tdf.class_==class_]\n",
    "    plt.scatter(class_ld_df.iloc[:, 0], class_ld_df.iloc[:, 1], label=f'class {class_}')\n",
    "\n",
    "plt.legend()\n",
    "plt.show()"
   ]
  }
 ],
 "metadata": {
  "kernelspec": {
   "display_name": "Python 3",
   "language": "python",
   "name": "python3"
  },
  "language_info": {
   "codemirror_mode": {
    "name": "ipython",
    "version": 3
   },
   "file_extension": ".py",
   "mimetype": "text/x-python",
   "name": "python",
   "nbconvert_exporter": "python",
   "pygments_lexer": "ipython3",
   "version": "3.6.9"
  }
 },
 "nbformat": 4,
 "nbformat_minor": 4
}
