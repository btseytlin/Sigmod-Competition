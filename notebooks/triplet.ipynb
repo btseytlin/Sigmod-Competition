{
 "cells": [
  {
   "cell_type": "code",
   "execution_count": 107,
   "metadata": {
    "Collapsed": "false"
   },
   "outputs": [],
   "source": [
    "import os\n",
    "import sys\n",
    "import random\n",
    "import json\n",
    "import collections\n",
    "import itertools\n",
    "\n",
    "import pandas as pd\n",
    "import numpy as np\n",
    "import scipy        \n",
    "import statsmodels\n",
    "from sklearn.model_selection import train_test_split\n",
    "\n",
    "from tqdm import trange, tqdm_notebook as tqdm\n",
    "from matplotlib import pyplot as plt\n",
    "import seaborn as sns\n",
    "\n",
    "import pickle\n",
    "import torch\n",
    "import torchtext\n",
    "import torch.nn as nn\n",
    "import torch.nn.functional as F\n",
    "from torch.utils.data import DataLoader\n",
    "import time\n",
    "import torch.optim as optim\n",
    "from torchtext.data import Field, RawField\n",
    "from torchtext.data import Dataset, TabularDataset\n",
    "from torchtext.data import Iterator\n",
    "\n",
    "from annoy import AnnoyIndex\n",
    "\n",
    "from MulticoreTSNE import MulticoreTSNE as TSNE\n",
    "\n",
    "%matplotlib inline\n",
    "\n",
    "pd.options.display.max_columns = 999\n",
    "\n",
    "sns.set()\n",
    "\n",
    "plt.rcParams[\"figure.figsize\"] = (10,7)"
   ]
  },
  {
   "cell_type": "code",
   "execution_count": 108,
   "metadata": {
    "Collapsed": "false"
   },
   "outputs": [
    {
     "data": {
      "text/plain": [
       "'/home/boris/study/UT study/ACM Sigmod/sigmod/notebooks'"
      ]
     },
     "execution_count": 108,
     "metadata": {},
     "output_type": "execute_result"
    }
   ],
   "source": [
    "os.getcwd()"
   ]
  },
  {
   "cell_type": "code",
   "execution_count": 109,
   "metadata": {
    "Collapsed": "false"
   },
   "outputs": [
    {
     "name": "stdout",
     "output_type": "stream",
     "text": [
      "The autoreload extension is already loaded. To reload it, use:\n",
      "  %reload_ext autoreload\n"
     ]
    }
   ],
   "source": [
    "%load_ext autoreload\n",
    "%autoreload 2"
   ]
  },
  {
   "cell_type": "code",
   "execution_count": 110,
   "metadata": {
    "Collapsed": "false"
   },
   "outputs": [],
   "source": [
    "from sigmod_src.utils import read_json, pprint_json, path_from_spec_id, get_vector_for_spec_id\n",
    "from sigmod_src.data.embedding import Embedder, EmbeddingBagEmbedder, LSTMEmbedder"
   ]
  },
  {
   "cell_type": "markdown",
   "metadata": {
    "Collapsed": "false"
   },
   "source": [
    "# Load data"
   ]
  },
  {
   "cell_type": "code",
   "execution_count": 111,
   "metadata": {
    "Collapsed": "false"
   },
   "outputs": [],
   "source": [
    "MED_LABELS_PATH = '../data/raw/sigmod_medium_labelled_dataset.csv'\n",
    "LG_LABELS_PATH = '../data/interim/large_labelled_dataset_disjoint.csv'"
   ]
  },
  {
   "cell_type": "code",
   "execution_count": 112,
   "metadata": {
    "Collapsed": "false"
   },
   "outputs": [],
   "source": [
    "med_labels_df = pd.read_csv(MED_LABELS_PATH)\n",
    "lg_labels_df = pd.read_csv(LG_LABELS_PATH)"
   ]
  },
  {
   "cell_type": "code",
   "execution_count": 113,
   "metadata": {
    "Collapsed": "false"
   },
   "outputs": [
    {
     "data": {
      "text/plain": [
       "((46665, 3), (250986, 3))"
      ]
     },
     "execution_count": 113,
     "metadata": {},
     "output_type": "execute_result"
    }
   ],
   "source": [
    "med_labels_df.shape, lg_labels_df.shape"
   ]
  },
  {
   "cell_type": "code",
   "execution_count": 114,
   "metadata": {
    "Collapsed": "false"
   },
   "outputs": [
    {
     "data": {
      "text/html": [
       "<div>\n",
       "<style scoped>\n",
       "    .dataframe tbody tr th:only-of-type {\n",
       "        vertical-align: middle;\n",
       "    }\n",
       "\n",
       "    .dataframe tbody tr th {\n",
       "        vertical-align: top;\n",
       "    }\n",
       "\n",
       "    .dataframe thead th {\n",
       "        text-align: right;\n",
       "    }\n",
       "</style>\n",
       "<table border=\"1\" class=\"dataframe\">\n",
       "  <thead>\n",
       "    <tr style=\"text-align: right;\">\n",
       "      <th></th>\n",
       "      <th>left_spec_id</th>\n",
       "      <th>right_spec_id</th>\n",
       "      <th>label</th>\n",
       "    </tr>\n",
       "  </thead>\n",
       "  <tbody>\n",
       "    <tr>\n",
       "      <th>0</th>\n",
       "      <td>www.garricks.com.au//31</td>\n",
       "      <td>www.ebay.com//53278</td>\n",
       "      <td>1</td>\n",
       "    </tr>\n",
       "    <tr>\n",
       "      <th>1</th>\n",
       "      <td>www.ebay.com//58782</td>\n",
       "      <td>www.ebay.com//24817</td>\n",
       "      <td>0</td>\n",
       "    </tr>\n",
       "    <tr>\n",
       "      <th>2</th>\n",
       "      <td>www.ebay.com//58782</td>\n",
       "      <td>www.ebay.com//43019</td>\n",
       "      <td>0</td>\n",
       "    </tr>\n",
       "    <tr>\n",
       "      <th>3</th>\n",
       "      <td>www.ebay.com//42055</td>\n",
       "      <td>www.ebay.com//54403</td>\n",
       "      <td>0</td>\n",
       "    </tr>\n",
       "    <tr>\n",
       "      <th>4</th>\n",
       "      <td>www.ebay.com//44280</td>\n",
       "      <td>buy.net//6145</td>\n",
       "      <td>0</td>\n",
       "    </tr>\n",
       "  </tbody>\n",
       "</table>\n",
       "</div>"
      ],
      "text/plain": [
       "              left_spec_id        right_spec_id  label\n",
       "0  www.garricks.com.au//31  www.ebay.com//53278      1\n",
       "1      www.ebay.com//58782  www.ebay.com//24817      0\n",
       "2      www.ebay.com//58782  www.ebay.com//43019      0\n",
       "3      www.ebay.com//42055  www.ebay.com//54403      0\n",
       "4      www.ebay.com//44280        buy.net//6145      0"
      ]
     },
     "execution_count": 114,
     "metadata": {},
     "output_type": "execute_result"
    }
   ],
   "source": [
    "med_labels_df.head()"
   ]
  },
  {
   "cell_type": "code",
   "execution_count": 115,
   "metadata": {
    "Collapsed": "false"
   },
   "outputs": [
    {
     "data": {
      "text/html": [
       "<div>\n",
       "<style scoped>\n",
       "    .dataframe tbody tr th:only-of-type {\n",
       "        vertical-align: middle;\n",
       "    }\n",
       "\n",
       "    .dataframe tbody tr th {\n",
       "        vertical-align: top;\n",
       "    }\n",
       "\n",
       "    .dataframe thead th {\n",
       "        text-align: right;\n",
       "    }\n",
       "</style>\n",
       "<table border=\"1\" class=\"dataframe\">\n",
       "  <thead>\n",
       "    <tr style=\"text-align: right;\">\n",
       "      <th></th>\n",
       "      <th>left_spec_id</th>\n",
       "      <th>right_spec_id</th>\n",
       "      <th>label</th>\n",
       "    </tr>\n",
       "  </thead>\n",
       "  <tbody>\n",
       "    <tr>\n",
       "      <th>0</th>\n",
       "      <td>www.pricedekho.com//1053</td>\n",
       "      <td>www.ebay.com//58716</td>\n",
       "      <td>1.0</td>\n",
       "    </tr>\n",
       "    <tr>\n",
       "      <th>1</th>\n",
       "      <td>www.ebay.com//60064</td>\n",
       "      <td>www.ebay.com//54572</td>\n",
       "      <td>1.0</td>\n",
       "    </tr>\n",
       "    <tr>\n",
       "      <th>2</th>\n",
       "      <td>www.ebay.com//47074</td>\n",
       "      <td>www.ebay.com//55373</td>\n",
       "      <td>1.0</td>\n",
       "    </tr>\n",
       "    <tr>\n",
       "      <th>3</th>\n",
       "      <td>www.ebay.com//48188</td>\n",
       "      <td>www.ebay.com//44391</td>\n",
       "      <td>1.0</td>\n",
       "    </tr>\n",
       "    <tr>\n",
       "      <th>4</th>\n",
       "      <td>www.ebay.com//54736</td>\n",
       "      <td>www.ebay.com//58806</td>\n",
       "      <td>1.0</td>\n",
       "    </tr>\n",
       "  </tbody>\n",
       "</table>\n",
       "</div>"
      ],
      "text/plain": [
       "               left_spec_id        right_spec_id  label\n",
       "0  www.pricedekho.com//1053  www.ebay.com//58716    1.0\n",
       "1       www.ebay.com//60064  www.ebay.com//54572    1.0\n",
       "2       www.ebay.com//47074  www.ebay.com//55373    1.0\n",
       "3       www.ebay.com//48188  www.ebay.com//44391    1.0\n",
       "4       www.ebay.com//54736  www.ebay.com//58806    1.0"
      ]
     },
     "execution_count": 115,
     "metadata": {},
     "output_type": "execute_result"
    }
   ],
   "source": [
    "lg_labels_df.head()"
   ]
  },
  {
   "cell_type": "markdown",
   "metadata": {
    "Collapsed": "false"
   },
   "source": [
    "# Load specs df"
   ]
  },
  {
   "cell_type": "code",
   "execution_count": 116,
   "metadata": {
    "Collapsed": "false"
   },
   "outputs": [
    {
     "data": {
      "text/plain": [
       "(29771, 7)"
      ]
     },
     "execution_count": 116,
     "metadata": {},
     "output_type": "execute_result"
    }
   ],
   "source": [
    "specs_df = pd.read_csv('../data/processed/specs_preprocessed.csv')\n",
    "# specs_df.index=  specs_df.spec_id\n",
    "specs_df.shape"
   ]
  },
  {
   "cell_type": "code",
   "execution_count": 117,
   "metadata": {
    "Collapsed": "false"
   },
   "outputs": [
    {
     "data": {
      "text/html": [
       "<div>\n",
       "<style scoped>\n",
       "    .dataframe tbody tr th:only-of-type {\n",
       "        vertical-align: middle;\n",
       "    }\n",
       "\n",
       "    .dataframe tbody tr th {\n",
       "        vertical-align: top;\n",
       "    }\n",
       "\n",
       "    .dataframe thead th {\n",
       "        text-align: right;\n",
       "    }\n",
       "</style>\n",
       "<table border=\"1\" class=\"dataframe\">\n",
       "  <thead>\n",
       "    <tr style=\"text-align: right;\">\n",
       "      <th></th>\n",
       "      <th>spec_id</th>\n",
       "      <th>page_title</th>\n",
       "      <th>all_text</th>\n",
       "      <th>page_title_stem</th>\n",
       "      <th>all_text_stem</th>\n",
       "      <th>brand</th>\n",
       "      <th>site</th>\n",
       "    </tr>\n",
       "  </thead>\n",
       "  <tbody>\n",
       "  </tbody>\n",
       "</table>\n",
       "</div>"
      ],
      "text/plain": [
       "Empty DataFrame\n",
       "Columns: [spec_id, page_title, all_text, page_title_stem, all_text_stem, brand, site]\n",
       "Index: []"
      ]
     },
     "execution_count": 117,
     "metadata": {},
     "output_type": "execute_result"
    }
   ],
   "source": [
    "specs_df[specs_df.page_title.isnull()]"
   ]
  },
  {
   "cell_type": "code",
   "execution_count": 118,
   "metadata": {
    "Collapsed": "false"
   },
   "outputs": [
    {
     "data": {
      "text/html": [
       "<div>\n",
       "<style scoped>\n",
       "    .dataframe tbody tr th:only-of-type {\n",
       "        vertical-align: middle;\n",
       "    }\n",
       "\n",
       "    .dataframe tbody tr th {\n",
       "        vertical-align: top;\n",
       "    }\n",
       "\n",
       "    .dataframe thead th {\n",
       "        text-align: right;\n",
       "    }\n",
       "</style>\n",
       "<table border=\"1\" class=\"dataframe\">\n",
       "  <thead>\n",
       "    <tr style=\"text-align: right;\">\n",
       "      <th></th>\n",
       "      <th>spec_id</th>\n",
       "      <th>page_title</th>\n",
       "      <th>all_text</th>\n",
       "      <th>page_title_stem</th>\n",
       "      <th>all_text_stem</th>\n",
       "      <th>brand</th>\n",
       "      <th>site</th>\n",
       "    </tr>\n",
       "  </thead>\n",
       "  <tbody>\n",
       "    <tr>\n",
       "      <th>0</th>\n",
       "      <td>www.ebay.com//57656</td>\n",
       "      <td>canon powershot elph 110 hs 16 1 mp</td>\n",
       "      <td>canon elph 110 hs 16 1 mp canon manufacturer r...</td>\n",
       "      <td>canon powershot elph 110 hs 16 1 mp</td>\n",
       "      <td>canon elph 110 hs 16 1 mp canon manufactur ref...</td>\n",
       "      <td>canon</td>\n",
       "      <td>www.ebay.com</td>\n",
       "    </tr>\n",
       "    <tr>\n",
       "      <th>1</th>\n",
       "      <td>www.ebay.com//60583</td>\n",
       "      <td>canon rebel 2000 35 mm great case instruction ...</td>\n",
       "      <td>canon rebel 2000 35 mm great case instruction ...</td>\n",
       "      <td>canon rebel 2000 35 mm great case instruct boo...</td>\n",
       "      <td>canon rebel 2000 35 mm great case instruct boo...</td>\n",
       "      <td>canon</td>\n",
       "      <td>www.ebay.com</td>\n",
       "    </tr>\n",
       "    <tr>\n",
       "      <th>2</th>\n",
       "      <td>www.ebay.com//60440</td>\n",
       "      <td>canon eos rebel t3i 18 55mm 75 300mm iii lens ...</td>\n",
       "      <td>canon eos rebel 18 55mm 75 300mm iii lens kit ...</td>\n",
       "      <td>canon eo rebel t3i 18 55mm 75 300mm iii len ki...</td>\n",
       "      <td>canon eo rebel 18 55mm 75 300mm iii len kit us...</td>\n",
       "      <td>canon</td>\n",
       "      <td>www.ebay.com</td>\n",
       "    </tr>\n",
       "    <tr>\n",
       "      <th>3</th>\n",
       "      <td>www.ebay.com//24139</td>\n",
       "      <td>ge c1033 10 1 mp 3x zoom 2 4 lcd</td>\n",
       "      <td>ge c1033 10 1 mp 3x zoom 2 4 ge unused undamag...</td>\n",
       "      <td>ge c1033 10 1 mp 3x zoom 2 4 lcd</td>\n",
       "      <td>ge c1033 10 1 mp 3x zoom 2 4 ge unus undamag o...</td>\n",
       "      <td>NaN</td>\n",
       "      <td>www.ebay.com</td>\n",
       "    </tr>\n",
       "    <tr>\n",
       "      <th>4</th>\n",
       "      <td>www.ebay.com//54903</td>\n",
       "      <td>vivitar clip shot 1 1 mp</td>\n",
       "      <td>vivitar clip shot 1 1 mp vivitar unused undama...</td>\n",
       "      <td>vivitar clip shot 1 1 mp</td>\n",
       "      <td>vivitar clip shot 1 1 mp vivitar unus undamag ...</td>\n",
       "      <td>vivitar</td>\n",
       "      <td>www.ebay.com</td>\n",
       "    </tr>\n",
       "  </tbody>\n",
       "</table>\n",
       "</div>"
      ],
      "text/plain": [
       "               spec_id                                         page_title  \\\n",
       "0  www.ebay.com//57656                canon powershot elph 110 hs 16 1 mp   \n",
       "1  www.ebay.com//60583  canon rebel 2000 35 mm great case instruction ...   \n",
       "2  www.ebay.com//60440  canon eos rebel t3i 18 55mm 75 300mm iii lens ...   \n",
       "3  www.ebay.com//24139                   ge c1033 10 1 mp 3x zoom 2 4 lcd   \n",
       "4  www.ebay.com//54903                           vivitar clip shot 1 1 mp   \n",
       "\n",
       "                                            all_text  \\\n",
       "0  canon elph 110 hs 16 1 mp canon manufacturer r...   \n",
       "1  canon rebel 2000 35 mm great case instruction ...   \n",
       "2  canon eos rebel 18 55mm 75 300mm iii lens kit ...   \n",
       "3  ge c1033 10 1 mp 3x zoom 2 4 ge unused undamag...   \n",
       "4  vivitar clip shot 1 1 mp vivitar unused undama...   \n",
       "\n",
       "                                     page_title_stem  \\\n",
       "0                canon powershot elph 110 hs 16 1 mp   \n",
       "1  canon rebel 2000 35 mm great case instruct boo...   \n",
       "2  canon eo rebel t3i 18 55mm 75 300mm iii len ki...   \n",
       "3                   ge c1033 10 1 mp 3x zoom 2 4 lcd   \n",
       "4                           vivitar clip shot 1 1 mp   \n",
       "\n",
       "                                       all_text_stem    brand          site  \n",
       "0  canon elph 110 hs 16 1 mp canon manufactur ref...    canon  www.ebay.com  \n",
       "1  canon rebel 2000 35 mm great case instruct boo...    canon  www.ebay.com  \n",
       "2  canon eo rebel 18 55mm 75 300mm iii len kit us...    canon  www.ebay.com  \n",
       "3  ge c1033 10 1 mp 3x zoom 2 4 ge unus undamag o...      NaN  www.ebay.com  \n",
       "4  vivitar clip shot 1 1 mp vivitar unus undamag ...  vivitar  www.ebay.com  "
      ]
     },
     "execution_count": 118,
     "metadata": {},
     "output_type": "execute_result"
    }
   ],
   "source": [
    "specs_df.head()"
   ]
  },
  {
   "cell_type": "markdown",
   "metadata": {
    "Collapsed": "false"
   },
   "source": [
    "# Classes df"
   ]
  },
  {
   "cell_type": "code",
   "execution_count": 119,
   "metadata": {
    "Collapsed": "false"
   },
   "outputs": [
    {
     "data": {
      "text/html": [
       "<div>\n",
       "<style scoped>\n",
       "    .dataframe tbody tr th:only-of-type {\n",
       "        vertical-align: middle;\n",
       "    }\n",
       "\n",
       "    .dataframe tbody tr th {\n",
       "        vertical-align: top;\n",
       "    }\n",
       "\n",
       "    .dataframe thead th {\n",
       "        text-align: right;\n",
       "    }\n",
       "</style>\n",
       "<table border=\"1\" class=\"dataframe\">\n",
       "  <thead>\n",
       "    <tr style=\"text-align: right;\">\n",
       "      <th></th>\n",
       "      <th>spec_id</th>\n",
       "      <th>class_</th>\n",
       "    </tr>\n",
       "  </thead>\n",
       "  <tbody>\n",
       "    <tr>\n",
       "      <th>0</th>\n",
       "      <td>buy.net//5641</td>\n",
       "      <td>0</td>\n",
       "    </tr>\n",
       "    <tr>\n",
       "      <th>1</th>\n",
       "      <td>www.ebay.com//58588</td>\n",
       "      <td>0</td>\n",
       "    </tr>\n",
       "    <tr>\n",
       "      <th>2</th>\n",
       "      <td>www.gosale.com//849</td>\n",
       "      <td>0</td>\n",
       "    </tr>\n",
       "    <tr>\n",
       "      <th>3</th>\n",
       "      <td>www.price-hunt.com//9794</td>\n",
       "      <td>0</td>\n",
       "    </tr>\n",
       "    <tr>\n",
       "      <th>4</th>\n",
       "      <td>buy.net//5698</td>\n",
       "      <td>1</td>\n",
       "    </tr>\n",
       "  </tbody>\n",
       "</table>\n",
       "</div>"
      ],
      "text/plain": [
       "                    spec_id  class_\n",
       "0             buy.net//5641       0\n",
       "1       www.ebay.com//58588       0\n",
       "2       www.gosale.com//849       0\n",
       "3  www.price-hunt.com//9794       0\n",
       "4             buy.net//5698       1"
      ]
     },
     "execution_count": 119,
     "metadata": {},
     "output_type": "execute_result"
    }
   ],
   "source": [
    "classes_df = pd.read_csv('../data/interim/classes.csv')\n",
    "classes_df.head()"
   ]
  },
  {
   "cell_type": "code",
   "execution_count": 120,
   "metadata": {
    "Collapsed": "false"
   },
   "outputs": [
    {
     "data": {
      "text/plain": [
       "(908, 2)"
      ]
     },
     "execution_count": 120,
     "metadata": {},
     "output_type": "execute_result"
    }
   ],
   "source": [
    "classes_df.shape"
   ]
  },
  {
   "cell_type": "code",
   "execution_count": 121,
   "metadata": {
    "Collapsed": "false"
   },
   "outputs": [
    {
     "data": {
      "text/plain": [
       "6     178\n",
       "2     130\n",
       "11     95\n",
       "4      91\n",
       "13     80\n",
       "7      78\n",
       "9      57\n",
       "1      55\n",
       "12     16\n",
       "24     14\n",
       "10     14\n",
       "19     11\n",
       "20      9\n",
       "5       9\n",
       "23      9\n",
       "3       9\n",
       "17      7\n",
       "0       6\n",
       "14      5\n",
       "16      5\n",
       "18      5\n",
       "15      4\n",
       "21      4\n",
       "26      4\n",
       "25      3\n",
       "28      2\n",
       "8       2\n",
       "22      2\n",
       "27      2\n",
       "29      2\n",
       "Name: class_, dtype: int64"
      ]
     },
     "execution_count": 121,
     "metadata": {},
     "output_type": "execute_result"
    }
   ],
   "source": [
    "classes_df.class_.value_counts()"
   ]
  },
  {
   "cell_type": "markdown",
   "metadata": {
    "Collapsed": "false"
   },
   "source": [
    "### Add classes to specs"
   ]
  },
  {
   "cell_type": "code",
   "execution_count": 122,
   "metadata": {
    "Collapsed": "false"
   },
   "outputs": [
    {
     "data": {
      "text/html": [
       "<div>\n",
       "<style scoped>\n",
       "    .dataframe tbody tr th:only-of-type {\n",
       "        vertical-align: middle;\n",
       "    }\n",
       "\n",
       "    .dataframe tbody tr th {\n",
       "        vertical-align: top;\n",
       "    }\n",
       "\n",
       "    .dataframe thead th {\n",
       "        text-align: right;\n",
       "    }\n",
       "</style>\n",
       "<table border=\"1\" class=\"dataframe\">\n",
       "  <thead>\n",
       "    <tr style=\"text-align: right;\">\n",
       "      <th></th>\n",
       "      <th>spec_id</th>\n",
       "      <th>page_title</th>\n",
       "      <th>all_text</th>\n",
       "      <th>page_title_stem</th>\n",
       "      <th>all_text_stem</th>\n",
       "      <th>brand</th>\n",
       "      <th>site</th>\n",
       "      <th>class_</th>\n",
       "    </tr>\n",
       "  </thead>\n",
       "  <tbody>\n",
       "    <tr>\n",
       "      <th>0</th>\n",
       "      <td>www.ebay.com//57656</td>\n",
       "      <td>canon powershot elph 110 hs 16 1 mp</td>\n",
       "      <td>canon elph 110 hs 16 1 mp canon manufacturer r...</td>\n",
       "      <td>canon powershot elph 110 hs 16 1 mp</td>\n",
       "      <td>canon elph 110 hs 16 1 mp canon manufactur ref...</td>\n",
       "      <td>canon</td>\n",
       "      <td>www.ebay.com</td>\n",
       "      <td>NaN</td>\n",
       "    </tr>\n",
       "    <tr>\n",
       "      <th>1</th>\n",
       "      <td>www.ebay.com//60583</td>\n",
       "      <td>canon rebel 2000 35 mm great case instruction ...</td>\n",
       "      <td>canon rebel 2000 35 mm great case instruction ...</td>\n",
       "      <td>canon rebel 2000 35 mm great case instruct boo...</td>\n",
       "      <td>canon rebel 2000 35 mm great case instruct boo...</td>\n",
       "      <td>canon</td>\n",
       "      <td>www.ebay.com</td>\n",
       "      <td>NaN</td>\n",
       "    </tr>\n",
       "    <tr>\n",
       "      <th>2</th>\n",
       "      <td>www.ebay.com//60440</td>\n",
       "      <td>canon eos rebel t3i 18 55mm 75 300mm iii lens ...</td>\n",
       "      <td>canon eos rebel 18 55mm 75 300mm iii lens kit ...</td>\n",
       "      <td>canon eo rebel t3i 18 55mm 75 300mm iii len ki...</td>\n",
       "      <td>canon eo rebel 18 55mm 75 300mm iii len kit us...</td>\n",
       "      <td>canon</td>\n",
       "      <td>www.ebay.com</td>\n",
       "      <td>NaN</td>\n",
       "    </tr>\n",
       "    <tr>\n",
       "      <th>3</th>\n",
       "      <td>www.ebay.com//24139</td>\n",
       "      <td>ge c1033 10 1 mp 3x zoom 2 4 lcd</td>\n",
       "      <td>ge c1033 10 1 mp 3x zoom 2 4 ge unused undamag...</td>\n",
       "      <td>ge c1033 10 1 mp 3x zoom 2 4 lcd</td>\n",
       "      <td>ge c1033 10 1 mp 3x zoom 2 4 ge unus undamag o...</td>\n",
       "      <td>NaN</td>\n",
       "      <td>www.ebay.com</td>\n",
       "      <td>NaN</td>\n",
       "    </tr>\n",
       "    <tr>\n",
       "      <th>4</th>\n",
       "      <td>www.ebay.com//54903</td>\n",
       "      <td>vivitar clip shot 1 1 mp</td>\n",
       "      <td>vivitar clip shot 1 1 mp vivitar unused undama...</td>\n",
       "      <td>vivitar clip shot 1 1 mp</td>\n",
       "      <td>vivitar clip shot 1 1 mp vivitar unus undamag ...</td>\n",
       "      <td>vivitar</td>\n",
       "      <td>www.ebay.com</td>\n",
       "      <td>NaN</td>\n",
       "    </tr>\n",
       "  </tbody>\n",
       "</table>\n",
       "</div>"
      ],
      "text/plain": [
       "               spec_id                                         page_title  \\\n",
       "0  www.ebay.com//57656                canon powershot elph 110 hs 16 1 mp   \n",
       "1  www.ebay.com//60583  canon rebel 2000 35 mm great case instruction ...   \n",
       "2  www.ebay.com//60440  canon eos rebel t3i 18 55mm 75 300mm iii lens ...   \n",
       "3  www.ebay.com//24139                   ge c1033 10 1 mp 3x zoom 2 4 lcd   \n",
       "4  www.ebay.com//54903                           vivitar clip shot 1 1 mp   \n",
       "\n",
       "                                            all_text  \\\n",
       "0  canon elph 110 hs 16 1 mp canon manufacturer r...   \n",
       "1  canon rebel 2000 35 mm great case instruction ...   \n",
       "2  canon eos rebel 18 55mm 75 300mm iii lens kit ...   \n",
       "3  ge c1033 10 1 mp 3x zoom 2 4 ge unused undamag...   \n",
       "4  vivitar clip shot 1 1 mp vivitar unused undama...   \n",
       "\n",
       "                                     page_title_stem  \\\n",
       "0                canon powershot elph 110 hs 16 1 mp   \n",
       "1  canon rebel 2000 35 mm great case instruct boo...   \n",
       "2  canon eo rebel t3i 18 55mm 75 300mm iii len ki...   \n",
       "3                   ge c1033 10 1 mp 3x zoom 2 4 lcd   \n",
       "4                           vivitar clip shot 1 1 mp   \n",
       "\n",
       "                                       all_text_stem    brand          site  \\\n",
       "0  canon elph 110 hs 16 1 mp canon manufactur ref...    canon  www.ebay.com   \n",
       "1  canon rebel 2000 35 mm great case instruct boo...    canon  www.ebay.com   \n",
       "2  canon eo rebel 18 55mm 75 300mm iii len kit us...    canon  www.ebay.com   \n",
       "3  ge c1033 10 1 mp 3x zoom 2 4 ge unus undamag o...      NaN  www.ebay.com   \n",
       "4  vivitar clip shot 1 1 mp vivitar unus undamag ...  vivitar  www.ebay.com   \n",
       "\n",
       "   class_  \n",
       "0     NaN  \n",
       "1     NaN  \n",
       "2     NaN  \n",
       "3     NaN  \n",
       "4     NaN  "
      ]
     },
     "execution_count": 122,
     "metadata": {},
     "output_type": "execute_result"
    }
   ],
   "source": [
    "specs_df = specs_df.merge(classes_df, how='left')\n",
    "specs_df.head()"
   ]
  },
  {
   "cell_type": "code",
   "execution_count": 123,
   "metadata": {
    "Collapsed": "false"
   },
   "outputs": [
    {
     "data": {
      "text/plain": [
       "6.0     178\n",
       "2.0     130\n",
       "11.0     95\n",
       "4.0      91\n",
       "13.0     80\n",
       "7.0      78\n",
       "9.0      57\n",
       "1.0      55\n",
       "12.0     16\n",
       "10.0     14\n",
       "24.0     14\n",
       "19.0     11\n",
       "5.0       9\n",
       "20.0      9\n",
       "3.0       9\n",
       "23.0      9\n",
       "17.0      7\n",
       "0.0       6\n",
       "16.0      5\n",
       "14.0      5\n",
       "18.0      5\n",
       "26.0      4\n",
       "21.0      4\n",
       "15.0      4\n",
       "25.0      3\n",
       "8.0       2\n",
       "22.0      2\n",
       "28.0      2\n",
       "27.0      2\n",
       "29.0      2\n",
       "Name: class_, dtype: int64"
      ]
     },
     "execution_count": 123,
     "metadata": {},
     "output_type": "execute_result"
    }
   ],
   "source": [
    "class_vcounts = specs_df.class_.value_counts()\n",
    "class_vcounts"
   ]
  },
  {
   "cell_type": "code",
   "execution_count": 124,
   "metadata": {
    "Collapsed": "false"
   },
   "outputs": [
    {
     "data": {
      "text/plain": [
       "[]"
      ]
     },
     "execution_count": 124,
     "metadata": {},
     "output_type": "execute_result"
    }
   ],
   "source": [
    "bad_classes = list(class_vcounts[class_vcounts<2].index)\n",
    "bad_classes"
   ]
  },
  {
   "cell_type": "code",
   "execution_count": 125,
   "metadata": {
    "Collapsed": "false"
   },
   "outputs": [
    {
     "data": {
      "text/plain": [
       "(29771, 8)"
      ]
     },
     "execution_count": 125,
     "metadata": {},
     "output_type": "execute_result"
    }
   ],
   "source": [
    "specs_df.shape"
   ]
  },
  {
   "cell_type": "code",
   "execution_count": 126,
   "metadata": {
    "Collapsed": "false"
   },
   "outputs": [
    {
     "data": {
      "text/plain": [
       "(29771, 8)"
      ]
     },
     "execution_count": 126,
     "metadata": {},
     "output_type": "execute_result"
    }
   ],
   "source": [
    "specs_df = specs_df[~specs_df.class_.isin(bad_classes)]\n",
    "specs_df.shape"
   ]
  },
  {
   "cell_type": "code",
   "execution_count": 127,
   "metadata": {
    "Collapsed": "false"
   },
   "outputs": [
    {
     "data": {
      "text/plain": [
       "(908, 8)"
      ]
     },
     "execution_count": 127,
     "metadata": {},
     "output_type": "execute_result"
    }
   ],
   "source": [
    "labelled_specs_df = specs_df[~specs_df.class_.isnull()].copy()\n",
    "labelled_specs_df.shape"
   ]
  },
  {
   "cell_type": "code",
   "execution_count": 128,
   "metadata": {
    "Collapsed": "false"
   },
   "outputs": [],
   "source": [
    "labelled_specs_df.to_csv('../data/interim/specs_df_labelled.csv', index=None)"
   ]
  },
  {
   "cell_type": "code",
   "execution_count": 129,
   "metadata": {
    "Collapsed": "false"
   },
   "outputs": [
    {
     "data": {
      "text/html": [
       "<div>\n",
       "<style scoped>\n",
       "    .dataframe tbody tr th:only-of-type {\n",
       "        vertical-align: middle;\n",
       "    }\n",
       "\n",
       "    .dataframe tbody tr th {\n",
       "        vertical-align: top;\n",
       "    }\n",
       "\n",
       "    .dataframe thead th {\n",
       "        text-align: right;\n",
       "    }\n",
       "</style>\n",
       "<table border=\"1\" class=\"dataframe\">\n",
       "  <thead>\n",
       "    <tr style=\"text-align: right;\">\n",
       "      <th></th>\n",
       "      <th>spec_id</th>\n",
       "      <th>page_title</th>\n",
       "      <th>all_text</th>\n",
       "      <th>page_title_stem</th>\n",
       "      <th>all_text_stem</th>\n",
       "      <th>brand</th>\n",
       "      <th>site</th>\n",
       "      <th>class_</th>\n",
       "      <th>spec_idx</th>\n",
       "    </tr>\n",
       "  </thead>\n",
       "  <tbody>\n",
       "    <tr>\n",
       "      <th>29</th>\n",
       "      <td>www.ebay.com//55555</td>\n",
       "      <td>nikon d800 36 3 mp body</td>\n",
       "      <td>nikon 36 3 mp body nikon may signs cosmetic we...</td>\n",
       "      <td>nikon d800 36 3 mp bodi</td>\n",
       "      <td>nikon 36 3 mp bodi nikon may sign cosmet wear ...</td>\n",
       "      <td>nikon</td>\n",
       "      <td>www.ebay.com</td>\n",
       "      <td>13.0</td>\n",
       "      <td>0</td>\n",
       "    </tr>\n",
       "    <tr>\n",
       "      <th>40</th>\n",
       "      <td>www.ebay.com//46983</td>\n",
       "      <td>nikon d90 12 3 mp kit w vr 18 105 mm lens</td>\n",
       "      <td>nikon d90 12 3 mp kit w vr 18 105 mm lens niko...</td>\n",
       "      <td>nikon d90 12 3 mp kit w vr 18 105 mm len</td>\n",
       "      <td>nikon d90 12 3 mp kit w vr 18 105 mm len nikon...</td>\n",
       "      <td>nikon</td>\n",
       "      <td>www.ebay.com</td>\n",
       "      <td>4.0</td>\n",
       "      <td>1</td>\n",
       "    </tr>\n",
       "    <tr>\n",
       "      <th>45</th>\n",
       "      <td>www.ebay.com//55066</td>\n",
       "      <td>nikon d90 12 3 mp w af 18 200mm lens</td>\n",
       "      <td>nikon d90 12 3 mp w af 18 200mm lens nikon len...</td>\n",
       "      <td>nikon d90 12 3 mp w af 18 200mm len</td>\n",
       "      <td>nikon d90 12 3 mp w af 18 200mm len nikon len ...</td>\n",
       "      <td>nikon</td>\n",
       "      <td>www.ebay.com</td>\n",
       "      <td>4.0</td>\n",
       "      <td>2</td>\n",
       "    </tr>\n",
       "    <tr>\n",
       "      <th>46</th>\n",
       "      <td>www.ebay.com//41954</td>\n",
       "      <td>canon eos 20d 8 2 mp body</td>\n",
       "      <td>canon eos 20d 8 2 mp body canon extra battery ...</td>\n",
       "      <td>canon eo 20d 8 2 mp bodi</td>\n",
       "      <td>canon eo 20d 8 2 mp bodi canon extra batteri m...</td>\n",
       "      <td>canon</td>\n",
       "      <td>www.ebay.com</td>\n",
       "      <td>10.0</td>\n",
       "      <td>3</td>\n",
       "    </tr>\n",
       "    <tr>\n",
       "      <th>56</th>\n",
       "      <td>www.ebay.com//45818</td>\n",
       "      <td>canon eos 5d mark ii excellent japan 2882</td>\n",
       "      <td>canon eos 5d mark ii excellent japan never min...</td>\n",
       "      <td>canon eo 5d mark ii excel japan 2882</td>\n",
       "      <td>canon eo 5d mark ii excel japan never minim si...</td>\n",
       "      <td>canon</td>\n",
       "      <td>www.ebay.com</td>\n",
       "      <td>11.0</td>\n",
       "      <td>4</td>\n",
       "    </tr>\n",
       "  </tbody>\n",
       "</table>\n",
       "</div>"
      ],
      "text/plain": [
       "                spec_id                                 page_title  \\\n",
       "29  www.ebay.com//55555                    nikon d800 36 3 mp body   \n",
       "40  www.ebay.com//46983  nikon d90 12 3 mp kit w vr 18 105 mm lens   \n",
       "45  www.ebay.com//55066       nikon d90 12 3 mp w af 18 200mm lens   \n",
       "46  www.ebay.com//41954                  canon eos 20d 8 2 mp body   \n",
       "56  www.ebay.com//45818  canon eos 5d mark ii excellent japan 2882   \n",
       "\n",
       "                                             all_text  \\\n",
       "29  nikon 36 3 mp body nikon may signs cosmetic we...   \n",
       "40  nikon d90 12 3 mp kit w vr 18 105 mm lens niko...   \n",
       "45  nikon d90 12 3 mp w af 18 200mm lens nikon len...   \n",
       "46  canon eos 20d 8 2 mp body canon extra battery ...   \n",
       "56  canon eos 5d mark ii excellent japan never min...   \n",
       "\n",
       "                             page_title_stem  \\\n",
       "29                   nikon d800 36 3 mp bodi   \n",
       "40  nikon d90 12 3 mp kit w vr 18 105 mm len   \n",
       "45       nikon d90 12 3 mp w af 18 200mm len   \n",
       "46                  canon eo 20d 8 2 mp bodi   \n",
       "56      canon eo 5d mark ii excel japan 2882   \n",
       "\n",
       "                                        all_text_stem  brand          site  \\\n",
       "29  nikon 36 3 mp bodi nikon may sign cosmet wear ...  nikon  www.ebay.com   \n",
       "40  nikon d90 12 3 mp kit w vr 18 105 mm len nikon...  nikon  www.ebay.com   \n",
       "45  nikon d90 12 3 mp w af 18 200mm len nikon len ...  nikon  www.ebay.com   \n",
       "46  canon eo 20d 8 2 mp bodi canon extra batteri m...  canon  www.ebay.com   \n",
       "56  canon eo 5d mark ii excel japan never minim si...  canon  www.ebay.com   \n",
       "\n",
       "    class_  spec_idx  \n",
       "29    13.0         0  \n",
       "40     4.0         1  \n",
       "45     4.0         2  \n",
       "46    10.0         3  \n",
       "56    11.0         4  "
      ]
     },
     "execution_count": 129,
     "metadata": {},
     "output_type": "execute_result"
    }
   ],
   "source": [
    "labelled_specs_df['spec_idx'] = range(len(labelled_specs_df))\n",
    "labelled_specs_df.head()"
   ]
  },
  {
   "cell_type": "markdown",
   "metadata": {
    "Collapsed": "false"
   },
   "source": [
    "# Obtain train/val split"
   ]
  },
  {
   "cell_type": "code",
   "execution_count": 219,
   "metadata": {
    "Collapsed": "false"
   },
   "outputs": [
    {
     "data": {
      "text/plain": [
       "((746, 9), (162, 9))"
      ]
     },
     "execution_count": 219,
     "metadata": {},
     "output_type": "execute_result"
    }
   ],
   "source": [
    "INTERIM_PATH = '../data/interim/'\n",
    "TRAIN_PATH = 'specs_train.csv'\n",
    "VAL_PATH = 'specs_val.csv'\n",
    "\n",
    "classes = labelled_specs_df.class_.unique()\n",
    "val_classes = np.random.choice(classes, 5)\n",
    "\n",
    "labelled_specs_train = labelled_specs_df[~labelled_specs_df.class_.isin(val_classes)]\n",
    "labelled_specs_val = labelled_specs_df[labelled_specs_df.class_.isin(val_classes)]\n",
    "\n",
    "labelled_specs_train.to_csv(os.path.join(INTERIM_PATH, TRAIN_PATH), index=None)\n",
    "labelled_specs_val.to_csv(os.path.join(INTERIM_PATH, VAL_PATH), index=None)\n",
    "\n",
    "labelled_specs_train.shape, labelled_specs_val.shape"
   ]
  },
  {
   "cell_type": "code",
   "execution_count": 232,
   "metadata": {
    "Collapsed": "false"
   },
   "outputs": [],
   "source": [
    "def tokenize(text):\n",
    "    return text.split(' ')\n",
    "\n",
    "text_field = Field(sequential=True, tokenize=tokenize, lower=True)\n",
    "label_field = Field(sequential=False, use_vocab=False, is_target=True, dtype=torch.uint8, tokenize=None, preprocessing=lambda x: int(float(x)))"
   ]
  },
  {
   "cell_type": "code",
   "execution_count": 233,
   "metadata": {
    "Collapsed": "false"
   },
   "outputs": [
    {
     "name": "stdout",
     "output_type": "stream",
     "text": [
      "CPU times: user 623 ms, sys: 10.8 ms, total: 634 ms\n",
      "Wall time: 633 ms\n"
     ]
    }
   ],
   "source": [
    "%%time\n",
    "datafields = [(\"spec_id\", None),\n",
    "              (\"page_title\", None),\n",
    "              (\"all_text\", None),\n",
    "              (\"page_title_stem\", text_field),\n",
    "              (\"all_text_stem\", None),\n",
    "                  (\"brand\", None),\n",
    "                  (\"site\", None),\n",
    "             ('class_', label_field)]\n",
    "\n",
    "full_dataset = TabularDataset.splits(\n",
    "        path=\"../data/processed/\", # the root directory where the data lies\n",
    "        train='specs_preprocessed.csv',\n",
    "        format='csv',\n",
    "        skip_header=True, # if your csv header has a header, make sure to pass this to ensure it doesn't get proceesed as data!\n",
    "        fields=datafields)\n",
    "\n",
    "train_dataset, val_dataset = TabularDataset.splits(\n",
    "    path=INTERIM_PATH, # the root directory where the data lies\n",
    "    train=TRAIN_PATH,\n",
    "    test=VAL_PATH,\n",
    "    format='csv',\n",
    "    skip_header=True, # if your csv header has a header, make sure to pass this to ensure it doesn't get proceesed as data!\n",
    "    fields=datafields)\n",
    "\n",
    "full_dataset = full_dataset[0]"
   ]
  },
  {
   "cell_type": "code",
   "execution_count": 234,
   "metadata": {
    "Collapsed": "false"
   },
   "outputs": [],
   "source": [
    "train_labelled_df = pd.read_csv(os.path.join(INTERIM_PATH, TRAIN_PATH))\n",
    "train_labelled_df['spec_idx'] = range(len(train_labelled_df))\n",
    "\n",
    "# train_class_lookup = train_labelled_df[~train_labelled_df.class_.isnull()].set_index('spec_idx').to_dict()['class_']\n",
    "# train_spec_lookup = train_labelled_df.groupby(['class_'])['spec_idx'].agg(list).to_dict()"
   ]
  },
  {
   "cell_type": "code",
   "execution_count": 235,
   "metadata": {
    "Collapsed": "false"
   },
   "outputs": [],
   "source": [
    "val_labelled_df = pd.read_csv(os.path.join(INTERIM_PATH, VAL_PATH))\n",
    "val_labelled_df['spec_idx'] = range(len(val_labelled_df))\n",
    "\n",
    "# val_class_lookup = val_labelled_df[~val_labelled_df.class_.isnull()].set_index('spec_idx').to_dict()['class_']\n",
    "# val_spec_lookup = val_labelled_df.groupby(['class_'])['spec_idx'].agg(list).to_dict()"
   ]
  },
  {
   "cell_type": "code",
   "execution_count": 236,
   "metadata": {
    "Collapsed": "false"
   },
   "outputs": [
    {
     "name": "stdout",
     "output_type": "stream",
     "text": [
      "CPU times: user 171 ms, sys: 887 µs, total: 172 ms\n",
      "Wall time: 170 ms\n"
     ]
    }
   ],
   "source": [
    "%%time\n",
    "text_field.build_vocab(full_dataset)"
   ]
  },
  {
   "cell_type": "markdown",
   "metadata": {
    "Collapsed": "false"
   },
   "source": [
    "## Quick checks"
   ]
  },
  {
   "cell_type": "code",
   "execution_count": 237,
   "metadata": {
    "Collapsed": "false"
   },
   "outputs": [
    {
     "data": {
      "text/html": [
       "<div>\n",
       "<style scoped>\n",
       "    .dataframe tbody tr th:only-of-type {\n",
       "        vertical-align: middle;\n",
       "    }\n",
       "\n",
       "    .dataframe tbody tr th {\n",
       "        vertical-align: top;\n",
       "    }\n",
       "\n",
       "    .dataframe thead th {\n",
       "        text-align: right;\n",
       "    }\n",
       "</style>\n",
       "<table border=\"1\" class=\"dataframe\">\n",
       "  <thead>\n",
       "    <tr style=\"text-align: right;\">\n",
       "      <th></th>\n",
       "      <th>spec_id</th>\n",
       "      <th>page_title</th>\n",
       "      <th>all_text</th>\n",
       "      <th>page_title_stem</th>\n",
       "      <th>all_text_stem</th>\n",
       "      <th>brand</th>\n",
       "      <th>site</th>\n",
       "      <th>class_</th>\n",
       "    </tr>\n",
       "  </thead>\n",
       "  <tbody>\n",
       "    <tr>\n",
       "      <th>0</th>\n",
       "      <td>www.ebay.com//57656</td>\n",
       "      <td>canon powershot elph 110 hs 16 1 mp</td>\n",
       "      <td>canon elph 110 hs 16 1 mp canon manufacturer r...</td>\n",
       "      <td>canon powershot elph 110 hs 16 1 mp</td>\n",
       "      <td>canon elph 110 hs 16 1 mp canon manufactur ref...</td>\n",
       "      <td>canon</td>\n",
       "      <td>www.ebay.com</td>\n",
       "      <td>NaN</td>\n",
       "    </tr>\n",
       "  </tbody>\n",
       "</table>\n",
       "</div>"
      ],
      "text/plain": [
       "               spec_id                           page_title  \\\n",
       "0  www.ebay.com//57656  canon powershot elph 110 hs 16 1 mp   \n",
       "\n",
       "                                            all_text  \\\n",
       "0  canon elph 110 hs 16 1 mp canon manufacturer r...   \n",
       "\n",
       "                       page_title_stem  \\\n",
       "0  canon powershot elph 110 hs 16 1 mp   \n",
       "\n",
       "                                       all_text_stem  brand          site  \\\n",
       "0  canon elph 110 hs 16 1 mp canon manufactur ref...  canon  www.ebay.com   \n",
       "\n",
       "   class_  \n",
       "0     NaN  "
      ]
     },
     "execution_count": 237,
     "metadata": {},
     "output_type": "execute_result"
    }
   ],
   "source": [
    "specs_df.head(1)"
   ]
  },
  {
   "cell_type": "code",
   "execution_count": 238,
   "metadata": {
    "Collapsed": "false"
   },
   "outputs": [
    {
     "data": {
      "text/plain": [
       "{'page_title_stem': ['canon',\n",
       "  'powershot',\n",
       "  'elph',\n",
       "  '110',\n",
       "  'hs',\n",
       "  '16',\n",
       "  '1',\n",
       "  'mp']}"
      ]
     },
     "execution_count": 238,
     "metadata": {},
     "output_type": "execute_result"
    }
   ],
   "source": [
    "full_dataset.examples[0].__dict__"
   ]
  },
  {
   "cell_type": "code",
   "execution_count": 239,
   "metadata": {
    "Collapsed": "false"
   },
   "outputs": [
    {
     "data": {
      "text/html": [
       "<div>\n",
       "<style scoped>\n",
       "    .dataframe tbody tr th:only-of-type {\n",
       "        vertical-align: middle;\n",
       "    }\n",
       "\n",
       "    .dataframe tbody tr th {\n",
       "        vertical-align: top;\n",
       "    }\n",
       "\n",
       "    .dataframe thead th {\n",
       "        text-align: right;\n",
       "    }\n",
       "</style>\n",
       "<table border=\"1\" class=\"dataframe\">\n",
       "  <thead>\n",
       "    <tr style=\"text-align: right;\">\n",
       "      <th></th>\n",
       "      <th>spec_id</th>\n",
       "      <th>page_title</th>\n",
       "      <th>all_text</th>\n",
       "      <th>page_title_stem</th>\n",
       "      <th>all_text_stem</th>\n",
       "      <th>brand</th>\n",
       "      <th>site</th>\n",
       "      <th>class_</th>\n",
       "      <th>spec_idx</th>\n",
       "    </tr>\n",
       "  </thead>\n",
       "  <tbody>\n",
       "    <tr>\n",
       "      <th>0</th>\n",
       "      <td>www.ebay.com//55555</td>\n",
       "      <td>nikon d800 36 3 mp body</td>\n",
       "      <td>nikon 36 3 mp body nikon may signs cosmetic we...</td>\n",
       "      <td>nikon d800 36 3 mp bodi</td>\n",
       "      <td>nikon 36 3 mp bodi nikon may sign cosmet wear ...</td>\n",
       "      <td>nikon</td>\n",
       "      <td>www.ebay.com</td>\n",
       "      <td>13.0</td>\n",
       "      <td>0</td>\n",
       "    </tr>\n",
       "  </tbody>\n",
       "</table>\n",
       "</div>"
      ],
      "text/plain": [
       "               spec_id               page_title  \\\n",
       "0  www.ebay.com//55555  nikon d800 36 3 mp body   \n",
       "\n",
       "                                            all_text          page_title_stem  \\\n",
       "0  nikon 36 3 mp body nikon may signs cosmetic we...  nikon d800 36 3 mp bodi   \n",
       "\n",
       "                                       all_text_stem  brand          site  \\\n",
       "0  nikon 36 3 mp bodi nikon may sign cosmet wear ...  nikon  www.ebay.com   \n",
       "\n",
       "   class_  spec_idx  \n",
       "0    13.0         0  "
      ]
     },
     "execution_count": 239,
     "metadata": {},
     "output_type": "execute_result"
    }
   ],
   "source": [
    "train_labelled_df.head(1)"
   ]
  },
  {
   "cell_type": "code",
   "execution_count": 240,
   "metadata": {
    "Collapsed": "false"
   },
   "outputs": [
    {
     "data": {
      "text/plain": [
       "{'class_': 13, 'page_title_stem': ['nikon', 'd800', '36', '3', 'mp', 'bodi']}"
      ]
     },
     "execution_count": 240,
     "metadata": {},
     "output_type": "execute_result"
    }
   ],
   "source": [
    "train_dataset.examples[0].__dict__"
   ]
  },
  {
   "cell_type": "code",
   "execution_count": 241,
   "metadata": {
    "Collapsed": "false"
   },
   "outputs": [
    {
     "data": {
      "text/plain": [
       "tensor([13], dtype=torch.uint8)"
      ]
     },
     "execution_count": 241,
     "metadata": {},
     "output_type": "execute_result"
    }
   ],
   "source": [
    "label_field.numericalize([train_dataset.examples[0].class_])"
   ]
  },
  {
   "cell_type": "code",
   "execution_count": 242,
   "metadata": {
    "Collapsed": "false"
   },
   "outputs": [
    {
     "data": {
      "text/html": [
       "<div>\n",
       "<style scoped>\n",
       "    .dataframe tbody tr th:only-of-type {\n",
       "        vertical-align: middle;\n",
       "    }\n",
       "\n",
       "    .dataframe tbody tr th {\n",
       "        vertical-align: top;\n",
       "    }\n",
       "\n",
       "    .dataframe thead th {\n",
       "        text-align: right;\n",
       "    }\n",
       "</style>\n",
       "<table border=\"1\" class=\"dataframe\">\n",
       "  <thead>\n",
       "    <tr style=\"text-align: right;\">\n",
       "      <th></th>\n",
       "      <th>spec_id</th>\n",
       "      <th>page_title</th>\n",
       "      <th>all_text</th>\n",
       "      <th>page_title_stem</th>\n",
       "      <th>all_text_stem</th>\n",
       "      <th>brand</th>\n",
       "      <th>site</th>\n",
       "      <th>class_</th>\n",
       "      <th>spec_idx</th>\n",
       "    </tr>\n",
       "  </thead>\n",
       "  <tbody>\n",
       "    <tr>\n",
       "      <th>0</th>\n",
       "      <td>www.ebay.com//25152</td>\n",
       "      <td>nikon d7000 16 2 megapixel dx body great 23228</td>\n",
       "      <td>nikon d7000 16 2 megapixel dx body great nikon...</td>\n",
       "      <td>nikon d7000 16 2 megapixel dx bodi great 23228</td>\n",
       "      <td>nikon d7000 16 2 megapixel dx bodi great nikon...</td>\n",
       "      <td>nikon</td>\n",
       "      <td>www.ebay.com</td>\n",
       "      <td>2.0</td>\n",
       "      <td>0</td>\n",
       "    </tr>\n",
       "  </tbody>\n",
       "</table>\n",
       "</div>"
      ],
      "text/plain": [
       "               spec_id                                      page_title  \\\n",
       "0  www.ebay.com//25152  nikon d7000 16 2 megapixel dx body great 23228   \n",
       "\n",
       "                                            all_text  \\\n",
       "0  nikon d7000 16 2 megapixel dx body great nikon...   \n",
       "\n",
       "                                  page_title_stem  \\\n",
       "0  nikon d7000 16 2 megapixel dx bodi great 23228   \n",
       "\n",
       "                                       all_text_stem  brand          site  \\\n",
       "0  nikon d7000 16 2 megapixel dx bodi great nikon...  nikon  www.ebay.com   \n",
       "\n",
       "   class_  spec_idx  \n",
       "0     2.0         0  "
      ]
     },
     "execution_count": 242,
     "metadata": {},
     "output_type": "execute_result"
    }
   ],
   "source": [
    "val_labelled_df.head(1)"
   ]
  },
  {
   "cell_type": "code",
   "execution_count": 243,
   "metadata": {
    "Collapsed": "false"
   },
   "outputs": [
    {
     "data": {
      "text/plain": [
       "{'class_': 2,\n",
       " 'page_title_stem': ['nikon',\n",
       "  'd7000',\n",
       "  '16',\n",
       "  '2',\n",
       "  'megapixel',\n",
       "  'dx',\n",
       "  'bodi',\n",
       "  'great',\n",
       "  '23228']}"
      ]
     },
     "execution_count": 243,
     "metadata": {},
     "output_type": "execute_result"
    }
   ],
   "source": [
    "val_dataset.examples[0].__dict__"
   ]
  },
  {
   "cell_type": "markdown",
   "metadata": {
    "Collapsed": "false"
   },
   "source": [
    "# Batch sampler"
   ]
  },
  {
   "cell_type": "markdown",
   "metadata": {
    "Collapsed": "false"
   },
   "source": [
    "Sampler that returns indices `n_samples` of `n_classes` in each batch."
   ]
  },
  {
   "cell_type": "code",
   "execution_count": 244,
   "metadata": {
    "Collapsed": "false"
   },
   "outputs": [],
   "source": [
    "from torch.utils.data.sampler import BatchSampler"
   ]
  },
  {
   "cell_type": "code",
   "execution_count": 245,
   "metadata": {
    "Collapsed": "false"
   },
   "outputs": [],
   "source": [
    "# src: https://github.com/adambielski/siamese-triplet/blob/master/datasets.py\n",
    "class BalancedBatchSampler(BatchSampler):\n",
    "    \"\"\"\n",
    "    BatchSampler - from a MNIST-like dataset, samples n_classes and within these classes samples n_samples.\n",
    "    Returns batches of size n_classes * n_samples\n",
    "    \"\"\"\n",
    "\n",
    "    def __init__(self, labels, n_classes, n_samples):\n",
    "        self.labels = labels\n",
    "        self.labels_set = list(set(self.labels.numpy()))\n",
    "        self.label_to_indices = {label: np.where(self.labels.numpy() == label)[0]\n",
    "                                 for label in self.labels_set}\n",
    "        for l in self.labels_set:\n",
    "            np.random.shuffle(self.label_to_indices[l])\n",
    "        self.used_label_indices_count = {label: 0 for label in self.labels_set}\n",
    "        self.count = 0\n",
    "        self.n_classes = n_classes\n",
    "        self.n_samples = n_samples\n",
    "        self.n_dataset = len(self.labels)\n",
    "        self.batch_size = self.n_samples * self.n_classes\n",
    "\n",
    "    def __iter__(self):\n",
    "        self.count = 0\n",
    "        while self.count + self.batch_size < self.n_dataset:\n",
    "            classes = np.random.choice(self.labels_set, self.n_classes, replace=False)\n",
    "            indices = []\n",
    "            for class_ in classes:\n",
    "                indices.extend(self.label_to_indices[class_][\n",
    "                               self.used_label_indices_count[class_]:self.used_label_indices_count[\n",
    "                                                                         class_] + self.n_samples])\n",
    "                self.used_label_indices_count[class_] += self.n_samples\n",
    "                if self.used_label_indices_count[class_] + self.n_samples > len(self.label_to_indices[class_]):\n",
    "                    np.random.shuffle(self.label_to_indices[class_])\n",
    "                    self.used_label_indices_count[class_] = 0\n",
    "            yield indices\n",
    "            self.count += self.n_classes * self.n_samples\n",
    "\n",
    "    def __len__(self):\n",
    "        return self.n_dataset // self.batch_size"
   ]
  },
  {
   "cell_type": "code",
   "execution_count": 246,
   "metadata": {
    "Collapsed": "false"
   },
   "outputs": [],
   "source": [
    "def get_batch_tensor(dataset, sampler, text_field, text_field_name, label_field, label_field_name='class_'):\n",
    "    for indices in iter(sampler):\n",
    "        examples = [dataset[i] for i in indices]\n",
    "        texts = [getattr(ex, text_field_name) for ex in examples]\n",
    "        labels = label_field.numericalize([getattr(ex, label_field_name) for ex in examples])\n",
    "        tensor = text_field.numericalize(text_field.pad(texts))        \n",
    "        yield tensor, labels"
   ]
  },
  {
   "cell_type": "markdown",
   "metadata": {
    "Collapsed": "false"
   },
   "source": [
    "#### Test batch sampler"
   ]
  },
  {
   "cell_type": "code",
   "execution_count": 247,
   "metadata": {
    "Collapsed": "false"
   },
   "outputs": [
    {
     "name": "stdout",
     "output_type": "stream",
     "text": [
      "Class distribution\n",
      " 22.0    1\n",
      "3.0     1\n",
      "Name: class_, dtype: int64\n"
     ]
    },
    {
     "data": {
      "text/html": [
       "<div>\n",
       "<style scoped>\n",
       "    .dataframe tbody tr th:only-of-type {\n",
       "        vertical-align: middle;\n",
       "    }\n",
       "\n",
       "    .dataframe tbody tr th {\n",
       "        vertical-align: top;\n",
       "    }\n",
       "\n",
       "    .dataframe thead th {\n",
       "        text-align: right;\n",
       "    }\n",
       "</style>\n",
       "<table border=\"1\" class=\"dataframe\">\n",
       "  <thead>\n",
       "    <tr style=\"text-align: right;\">\n",
       "      <th></th>\n",
       "      <th>spec_id</th>\n",
       "      <th>page_title</th>\n",
       "      <th>all_text</th>\n",
       "      <th>page_title_stem</th>\n",
       "      <th>all_text_stem</th>\n",
       "      <th>brand</th>\n",
       "      <th>site</th>\n",
       "      <th>class_</th>\n",
       "      <th>spec_idx</th>\n",
       "    </tr>\n",
       "  </thead>\n",
       "  <tbody>\n",
       "    <tr>\n",
       "      <th>609</th>\n",
       "      <td>www.priceme.co.nz//2346</td>\n",
       "      <td>nikon coolpix s01 mini zealand prices priceme</td>\n",
       "      <td>nikon coolpix s01 mini zealand prices priceme ...</td>\n",
       "      <td>nikon coolpix s01 mini zealand price pricem</td>\n",
       "      <td>nikon coolpix s01 mini zealand price pricem nu...</td>\n",
       "      <td>nikon</td>\n",
       "      <td>www.priceme.co.nz</td>\n",
       "      <td>3.0</td>\n",
       "      <td>609</td>\n",
       "    </tr>\n",
       "    <tr>\n",
       "      <th>239</th>\n",
       "      <td>www.ebay.com//46830</td>\n",
       "      <td>canon eos 60da astrophotography</td>\n",
       "      <td>canon eos 60da astrophotography canon unused u...</td>\n",
       "      <td>canon eo 60da astrophotographi</td>\n",
       "      <td>canon eo 60da astrophotographi canon unus unda...</td>\n",
       "      <td>canon</td>\n",
       "      <td>www.ebay.com</td>\n",
       "      <td>22.0</td>\n",
       "      <td>239</td>\n",
       "    </tr>\n",
       "  </tbody>\n",
       "</table>\n",
       "</div>"
      ],
      "text/plain": [
       "                     spec_id                                     page_title  \\\n",
       "609  www.priceme.co.nz//2346  nikon coolpix s01 mini zealand prices priceme   \n",
       "239      www.ebay.com//46830                canon eos 60da astrophotography   \n",
       "\n",
       "                                              all_text  \\\n",
       "609  nikon coolpix s01 mini zealand prices priceme ...   \n",
       "239  canon eos 60da astrophotography canon unused u...   \n",
       "\n",
       "                                 page_title_stem  \\\n",
       "609  nikon coolpix s01 mini zealand price pricem   \n",
       "239               canon eo 60da astrophotographi   \n",
       "\n",
       "                                         all_text_stem  brand  \\\n",
       "609  nikon coolpix s01 mini zealand price pricem nu...  nikon   \n",
       "239  canon eo 60da astrophotographi canon unus unda...  canon   \n",
       "\n",
       "                  site  class_  spec_idx  \n",
       "609  www.priceme.co.nz     3.0       609  \n",
       "239       www.ebay.com    22.0       239  "
      ]
     },
     "execution_count": 247,
     "metadata": {},
     "output_type": "execute_result"
    }
   ],
   "source": [
    "# Select 2 random classes, 3 samples of each\n",
    "sampler = BalancedBatchSampler(torch.Tensor(train_labelled_df.class_.values), 2, 1)\n",
    "\n",
    "indices = next(iter(sampler))\n",
    "\n",
    "rows = train_labelled_df.iloc[indices]\n",
    "\n",
    "print('Class distribution\\n', rows.class_.value_counts())\n",
    "\n",
    "rows"
   ]
  },
  {
   "cell_type": "code",
   "execution_count": 248,
   "metadata": {
    "Collapsed": "false"
   },
   "outputs": [
    {
     "data": {
      "text/plain": [
       "(tensor([[  7,  43],\n",
       "         [239,  51],\n",
       "         [130,  38],\n",
       "         [ 19,  28],\n",
       "         [  2,  94],\n",
       "         [ 18,   1],\n",
       "         [ 27,   1],\n",
       "         [129,   1],\n",
       "         [ 68,   1],\n",
       "         [154,   1],\n",
       "         [ 24,   1],\n",
       "         [ 58,   1],\n",
       "         [245,   1],\n",
       "         [166,   1]]), tensor([ 1, 28], dtype=torch.uint8))"
      ]
     },
     "execution_count": 248,
     "metadata": {},
     "output_type": "execute_result"
    }
   ],
   "source": [
    "next(iter(get_batch_tensor(train_dataset, sampler, text_field, 'page_title_stem', label_field)))"
   ]
  },
  {
   "cell_type": "markdown",
   "metadata": {
    "Collapsed": "false"
   },
   "source": [
    "# Hyperparams"
   ]
  },
  {
   "cell_type": "code",
   "execution_count": 416,
   "metadata": {
    "Collapsed": "false"
   },
   "outputs": [],
   "source": [
    "text_field_name = 'page_title_stem'\n",
    "batch_n_classes = 10\n",
    "batch_n_samples = 10\n",
    "emb_dim = 200\n",
    "hidden_dim = 200\n",
    "num_linear = 3\n",
    "margin = 0.1"
   ]
  },
  {
   "cell_type": "markdown",
   "metadata": {
    "Collapsed": "false"
   },
   "source": [
    "# Batch generators"
   ]
  },
  {
   "cell_type": "code",
   "execution_count": 417,
   "metadata": {
    "Collapsed": "false"
   },
   "outputs": [],
   "source": [
    "train_batch_sampler = BalancedBatchSampler(torch.Tensor(train_labelled_df.class_.values), batch_n_classes, batch_n_samples)\n",
    "\n",
    "\n",
    "val_batch_sampler = BalancedBatchSampler(torch.Tensor(val_labelled_df.class_.values), min(batch_n_classes, len(val_labelled_df.class_.unique())), batch_n_samples)\n",
    "\n",
    "train_iterator = iter(get_batch_tensor(train_dataset, train_batch_sampler, text_field, text_field_name, label_field))\n",
    "val_iterator = iter(get_batch_tensor(val_dataset, val_batch_sampler, text_field, text_field_name, label_field))\n",
    "\n",
    "def get_train_iterator():\n",
    "    return iter(get_batch_tensor(train_dataset, train_batch_sampler, text_field, text_field_name, label_field))\n",
    "\n",
    "def get_val_iterator():\n",
    "    return iter(get_batch_tensor(val_dataset, val_batch_sampler, text_field, text_field_name, label_field))"
   ]
  },
  {
   "cell_type": "markdown",
   "metadata": {
    "Collapsed": "false"
   },
   "source": [
    "# Model"
   ]
  },
  {
   "cell_type": "code",
   "execution_count": 418,
   "metadata": {
    "Collapsed": "false"
   },
   "outputs": [
    {
     "data": {
      "text/plain": [
       "EmbeddingBagEmbedder(\n",
       "  (relu): ReLU()\n",
       "  (embedding_bag): EmbeddingBag(9304, 200, mode=mean)\n",
       "  (linear_layers): ModuleList(\n",
       "    (0): Sequential(\n",
       "      (0): Linear(in_features=200, out_features=200, bias=True)\n",
       "      (1): Dropout(p=0.05, inplace=False)\n",
       "    )\n",
       "    (1): Sequential(\n",
       "      (0): Linear(in_features=200, out_features=200, bias=True)\n",
       "      (1): Dropout(p=0.05, inplace=False)\n",
       "    )\n",
       "    (2): Sequential(\n",
       "      (0): Linear(in_features=200, out_features=200, bias=True)\n",
       "      (1): Dropout(p=0.05, inplace=False)\n",
       "    )\n",
       "    (3): Sequential(\n",
       "      (0): Linear(in_features=200, out_features=200, bias=True)\n",
       "    )\n",
       "  )\n",
       ")"
      ]
     },
     "execution_count": 418,
     "metadata": {},
     "output_type": "execute_result"
    }
   ],
   "source": [
    "model = EmbeddingBagEmbedder(text_field, hidden_dim, emb_dim=emb_dim, num_linear=num_linear)\n",
    "\n",
    "# model = LSTMEmbedder(text_field,\n",
    "#                      lstm_dim=300,\n",
    "#                      emb_dim=emb_dim,\n",
    "#                      hidden_dim=hidden_dim,\n",
    "#                      num_linear=num_linear,\n",
    "#                      num_lstm=1\n",
    "#                      )\n",
    "model"
   ]
  },
  {
   "cell_type": "markdown",
   "metadata": {
    "Collapsed": "false"
   },
   "source": [
    "# Online triplet loss"
   ]
  },
  {
   "cell_type": "code",
   "execution_count": 419,
   "metadata": {
    "Collapsed": "false"
   },
   "outputs": [],
   "source": [
    "from online_triplet_loss.losses import batch_hard_triplet_loss"
   ]
  },
  {
   "cell_type": "markdown",
   "metadata": {
    "Collapsed": "false"
   },
   "source": [
    "### Tests"
   ]
  },
  {
   "cell_type": "markdown",
   "metadata": {
    "Collapsed": "false"
   },
   "source": [
    "Test model"
   ]
  },
  {
   "cell_type": "code",
   "execution_count": 420,
   "metadata": {
    "Collapsed": "false"
   },
   "outputs": [
    {
     "data": {
      "text/plain": [
       "tensor([[1.6761e-02, 2.6402e-02, 1.3011e-02, 0.0000e+00, 0.0000e+00, 5.8135e-03,\n",
       "         7.6453e-02, 2.2960e-04, 0.0000e+00, 6.2206e-02, 3.2762e-02, 0.0000e+00,\n",
       "         0.0000e+00, 4.8882e-02, 0.0000e+00, 0.0000e+00, 7.6331e-02, 9.2813e-02,\n",
       "         2.2567e-02, 4.4562e-02, 0.0000e+00, 5.0585e-02, 0.0000e+00, 2.2677e-02,\n",
       "         1.5279e-02, 3.8199e-02, 3.0089e-02, 0.0000e+00, 1.0206e-01, 3.0096e-02,\n",
       "         0.0000e+00, 0.0000e+00, 0.0000e+00, 0.0000e+00, 0.0000e+00, 0.0000e+00,\n",
       "         3.3106e-02, 4.6290e-03, 4.1935e-02, 0.0000e+00, 0.0000e+00, 8.0219e-02,\n",
       "         3.8384e-03, 8.8014e-02, 5.6356e-02, 0.0000e+00, 4.1842e-02, 3.5122e-02,\n",
       "         6.5823e-02, 2.2587e-02, 0.0000e+00, 7.6116e-02, 0.0000e+00, 0.0000e+00,\n",
       "         6.6777e-04, 0.0000e+00, 0.0000e+00, 5.3589e-02, 0.0000e+00, 1.9822e-02,\n",
       "         0.0000e+00, 0.0000e+00, 1.8976e-02, 4.3281e-02, 0.0000e+00, 2.5445e-02,\n",
       "         4.9522e-02, 0.0000e+00, 2.4649e-02, 3.8715e-02, 1.1563e-02, 0.0000e+00,\n",
       "         0.0000e+00, 1.2017e-03, 3.8726e-02, 0.0000e+00, 1.6874e-02, 0.0000e+00,\n",
       "         3.5097e-02, 0.0000e+00, 0.0000e+00, 5.5478e-02, 0.0000e+00, 7.7958e-02,\n",
       "         0.0000e+00, 0.0000e+00, 2.8186e-02, 0.0000e+00, 4.8561e-02, 0.0000e+00,\n",
       "         1.5823e-02, 0.0000e+00, 2.4151e-02, 0.0000e+00, 2.5052e-02, 2.5706e-02,\n",
       "         0.0000e+00, 0.0000e+00, 0.0000e+00, 0.0000e+00, 0.0000e+00, 0.0000e+00,\n",
       "         0.0000e+00, 0.0000e+00, 6.3421e-02, 2.0966e-02, 4.5773e-02, 3.2646e-02,\n",
       "         4.0948e-02, 4.5457e-02, 0.0000e+00, 2.1928e-02, 4.1754e-03, 0.0000e+00,\n",
       "         3.2778e-02, 5.9763e-02, 0.0000e+00, 1.2898e-02, 2.7647e-02, 2.2243e-02,\n",
       "         2.7696e-02, 6.8356e-02, 5.9301e-02, 5.0505e-02, 0.0000e+00, 5.6797e-02,\n",
       "         0.0000e+00, 0.0000e+00, 5.3160e-02, 0.0000e+00, 6.0226e-02, 0.0000e+00,\n",
       "         0.0000e+00, 0.0000e+00, 4.2140e-02, 1.3978e-02, 6.2696e-02, 5.4466e-02,\n",
       "         0.0000e+00, 1.8224e-02, 4.5604e-02, 0.0000e+00, 1.2861e-02, 1.5403e-02,\n",
       "         1.9035e-02, 0.0000e+00, 0.0000e+00, 6.1425e-03, 6.5224e-02, 0.0000e+00,\n",
       "         0.0000e+00, 1.6650e-02, 0.0000e+00, 6.4401e-03, 4.5500e-02, 0.0000e+00,\n",
       "         0.0000e+00, 3.0792e-03, 3.7981e-02, 0.0000e+00, 0.0000e+00, 0.0000e+00,\n",
       "         0.0000e+00, 0.0000e+00, 0.0000e+00, 6.1477e-02, 8.8782e-02, 0.0000e+00,\n",
       "         0.0000e+00, 1.2091e-02, 8.1166e-02, 0.0000e+00, 0.0000e+00, 5.9760e-02,\n",
       "         4.1995e-02, 6.9878e-02, 9.2193e-03, 7.4851e-02, 0.0000e+00, 0.0000e+00,\n",
       "         1.8198e-02, 1.0078e-01, 3.8850e-03, 7.4285e-02, 3.0754e-02, 1.0757e-01,\n",
       "         1.7837e-02, 0.0000e+00, 5.7233e-02, 2.8886e-02, 5.2841e-02, 6.3858e-02,\n",
       "         3.1644e-02, 7.9602e-04, 0.0000e+00, 5.7882e-02, 0.0000e+00, 0.0000e+00,\n",
       "         4.0223e-02, 5.5078e-02],\n",
       "        [2.3456e-03, 3.9716e-02, 6.6567e-03, 0.0000e+00, 0.0000e+00, 1.6578e-02,\n",
       "         9.8042e-02, 0.0000e+00, 0.0000e+00, 5.2566e-02, 1.8129e-02, 0.0000e+00,\n",
       "         0.0000e+00, 2.8711e-02, 0.0000e+00, 2.6332e-02, 9.2679e-02, 1.0034e-01,\n",
       "         0.0000e+00, 3.3795e-02, 1.2361e-03, 4.2625e-02, 0.0000e+00, 6.9720e-03,\n",
       "         0.0000e+00, 2.6883e-02, 2.8840e-02, 0.0000e+00, 9.3416e-02, 9.3700e-03,\n",
       "         0.0000e+00, 0.0000e+00, 0.0000e+00, 0.0000e+00, 1.5543e-02, 0.0000e+00,\n",
       "         4.4888e-02, 3.0311e-03, 2.7319e-02, 0.0000e+00, 0.0000e+00, 7.8355e-02,\n",
       "         0.0000e+00, 1.0343e-01, 4.6853e-02, 0.0000e+00, 5.7491e-02, 2.6565e-02,\n",
       "         6.3412e-02, 2.5759e-02, 0.0000e+00, 7.0207e-02, 0.0000e+00, 0.0000e+00,\n",
       "         3.5979e-02, 0.0000e+00, 0.0000e+00, 5.1604e-02, 0.0000e+00, 5.8218e-03,\n",
       "         0.0000e+00, 0.0000e+00, 1.1830e-02, 2.9789e-02, 0.0000e+00, 3.1972e-02,\n",
       "         4.4104e-02, 1.0456e-02, 4.0340e-02, 1.2612e-03, 0.0000e+00, 0.0000e+00,\n",
       "         0.0000e+00, 3.4214e-03, 4.2957e-02, 0.0000e+00, 2.1033e-02, 0.0000e+00,\n",
       "         2.5769e-02, 0.0000e+00, 1.0710e-02, 5.8043e-02, 2.6901e-02, 7.1562e-02,\n",
       "         3.5586e-03, 0.0000e+00, 3.7684e-02, 0.0000e+00, 2.7451e-02, 9.3946e-03,\n",
       "         3.5755e-02, 0.0000e+00, 3.0083e-02, 0.0000e+00, 9.8270e-03, 5.7195e-02,\n",
       "         0.0000e+00, 0.0000e+00, 0.0000e+00, 0.0000e+00, 0.0000e+00, 0.0000e+00,\n",
       "         0.0000e+00, 0.0000e+00, 6.0227e-02, 3.9910e-02, 2.6194e-02, 4.2355e-02,\n",
       "         5.0696e-02, 4.6744e-02, 0.0000e+00, 2.2365e-03, 0.0000e+00, 5.4948e-03,\n",
       "         6.9666e-02, 8.3111e-02, 0.0000e+00, 1.1981e-03, 3.9428e-02, 1.0386e-02,\n",
       "         3.6677e-02, 8.4098e-02, 6.1025e-02, 3.6283e-02, 0.0000e+00, 4.2451e-02,\n",
       "         0.0000e+00, 0.0000e+00, 3.5889e-02, 0.0000e+00, 5.0139e-02, 0.0000e+00,\n",
       "         0.0000e+00, 0.0000e+00, 4.6939e-02, 3.1639e-02, 4.5437e-02, 4.8630e-02,\n",
       "         0.0000e+00, 1.4864e-02, 3.4169e-02, 0.0000e+00, 2.1992e-02, 0.0000e+00,\n",
       "         3.9198e-02, 0.0000e+00, 0.0000e+00, 8.4864e-03, 5.2145e-02, 0.0000e+00,\n",
       "         0.0000e+00, 2.3346e-02, 0.0000e+00, 0.0000e+00, 4.1322e-02, 0.0000e+00,\n",
       "         0.0000e+00, 2.0152e-02, 5.4257e-02, 4.9984e-05, 0.0000e+00, 0.0000e+00,\n",
       "         0.0000e+00, 0.0000e+00, 1.7918e-02, 7.6812e-02, 6.7288e-02, 0.0000e+00,\n",
       "         0.0000e+00, 2.1854e-02, 8.8581e-02, 0.0000e+00, 0.0000e+00, 6.6627e-02,\n",
       "         4.4234e-02, 8.8983e-02, 5.7148e-04, 7.6060e-02, 0.0000e+00, 0.0000e+00,\n",
       "         0.0000e+00, 7.8426e-02, 1.4287e-02, 7.9227e-02, 4.9452e-02, 9.4788e-02,\n",
       "         3.1252e-02, 6.3344e-03, 4.7990e-02, 3.5181e-02, 4.0391e-02, 8.7004e-02,\n",
       "         4.4318e-02, 0.0000e+00, 0.0000e+00, 5.5241e-02, 0.0000e+00, 0.0000e+00,\n",
       "         3.2021e-02, 7.1449e-02]], grad_fn=<ReluBackward0>)"
      ]
     },
     "execution_count": 420,
     "metadata": {},
     "output_type": "execute_result"
    }
   ],
   "source": [
    "model.infer(['canon eos 20d 8 2 mp', 'nikon eos 20d'])"
   ]
  },
  {
   "cell_type": "markdown",
   "metadata": {
    "Collapsed": "false"
   },
   "source": [
    "Test loss"
   ]
  },
  {
   "cell_type": "code",
   "execution_count": 421,
   "metadata": {
    "Collapsed": "false"
   },
   "outputs": [
    {
     "name": "stdout",
     "output_type": "stream",
     "text": [
      "Loss: tensor(0.1771, grad_fn=<MeanBackward0>)\n"
     ]
    }
   ],
   "source": [
    "batch = next(get_train_iterator())\n",
    "text_tensor, labels = batch\n",
    "embeddings = model(text_tensor)\n",
    "\n",
    "loss = batch_hard_triplet_loss(labels, embeddings, margin=margin)\n",
    "print('Loss:', loss)\n",
    "loss.backward()"
   ]
  },
  {
   "cell_type": "code",
   "execution_count": 422,
   "metadata": {
    "Collapsed": "false"
   },
   "outputs": [
    {
     "name": "stdout",
     "output_type": "stream",
     "text": [
      "Loss: tensor(0.1865, grad_fn=<MeanBackward0>)\n"
     ]
    }
   ],
   "source": [
    "batch = next(get_val_iterator())\n",
    "text_tensor, labels = batch\n",
    "embeddings = model(text_tensor)\n",
    "\n",
    "loss = batch_hard_triplet_loss(labels, embeddings, margin=margin)\n",
    "print('Loss:', loss)"
   ]
  },
  {
   "cell_type": "markdown",
   "metadata": {
    "Collapsed": "false"
   },
   "source": [
    "# Train"
   ]
  },
  {
   "cell_type": "code",
   "execution_count": 423,
   "metadata": {
    "Collapsed": "false"
   },
   "outputs": [],
   "source": [
    "loss_history_train = []\n",
    "loss_history_val = []"
   ]
  },
  {
   "cell_type": "code",
   "execution_count": 424,
   "metadata": {
    "Collapsed": "false"
   },
   "outputs": [],
   "source": [
    "opt = optim.Adam(model.parameters(), lr=1e-3, weight_decay=1e-4)\n",
    "scheduler = torch.optim.lr_scheduler.ReduceLROnPlateau(opt, mode='min', patience=3, verbose=True)\n",
    "epochs = 100\n",
    "early_stop_patience = 10"
   ]
  },
  {
   "cell_type": "code",
   "execution_count": 425,
   "metadata": {
    "Collapsed": "false"
   },
   "outputs": [
    {
     "data": {
      "text/plain": [
       "300"
      ]
     },
     "execution_count": 425,
     "metadata": {},
     "output_type": "execute_result"
    }
   ],
   "source": [
    "validation_batches = []\n",
    "for i in range(100):\n",
    "    for batch in get_val_iterator():\n",
    "        validation_batches.append(batch)\n",
    "len(validation_batches)"
   ]
  },
  {
   "cell_type": "code",
   "execution_count": 426,
   "metadata": {
    "Collapsed": "false"
   },
   "outputs": [
    {
     "data": {
      "application/vnd.jupyter.widget-view+json": {
       "model_id": "2711c0fc852c482e8f1444fa270ac707",
       "version_major": 2,
       "version_minor": 0
      },
      "text/html": [
       "<p>Failed to display Jupyter Widget of type <code>HBox</code>.</p>\n",
       "<p>\n",
       "  If you're reading this message in the Jupyter Notebook or JupyterLab Notebook, it may mean\n",
       "  that the widgets JavaScript is still loading. If this message persists, it\n",
       "  likely means that the widgets JavaScript library is either not installed or\n",
       "  not enabled. See the <a href=\"https://ipywidgets.readthedocs.io/en/stable/user_install.html\">Jupyter\n",
       "  Widgets Documentation</a> for setup instructions.\n",
       "</p>\n",
       "<p>\n",
       "  If you're reading this message in another frontend (for example, a static\n",
       "  rendering on GitHub or <a href=\"https://nbviewer.jupyter.org/\">NBViewer</a>),\n",
       "  it may mean that your frontend doesn't currently support widgets.\n",
       "</p>\n"
      ],
      "text/plain": [
       "HBox(children=(IntProgress(value=0), HTML(value='')))"
      ]
     },
     "metadata": {},
     "output_type": "display_data"
    },
    {
     "name": "stdout",
     "output_type": "stream",
     "text": [
      "Epoch: 1, Training Loss: 0.1447\n",
      "val Loss: 0.1176\n",
      "Epoch: 2, Training Loss: 0.1249\n",
      "val Loss: 0.1159\n",
      "Epoch: 3, Training Loss: 0.1174\n",
      "val Loss: 0.1085\n",
      "Epoch: 4, Training Loss: 0.1124\n",
      "val Loss: 0.1063\n",
      "Epoch: 5, Training Loss: 0.1099\n",
      "val Loss: 0.1055\n",
      "Epoch: 6, Training Loss: 0.1078\n",
      "val Loss: 0.1046\n",
      "Epoch: 7, Training Loss: 0.1062\n",
      "val Loss: 0.1025\n",
      "Epoch: 8, Training Loss: 0.1046\n",
      "val Loss: 0.1023\n",
      "Epoch: 9, Training Loss: 0.1043\n",
      "val Loss: 0.1023\n",
      "Epoch: 10, Training Loss: 0.1037\n",
      "val Loss: 0.1020\n",
      "Epoch: 11, Training Loss: 0.1026\n",
      "val Loss: 0.1021\n",
      "Epoch: 12, Training Loss: 0.1021\n",
      "val Loss: 0.1022\n",
      "Epoch: 13, Training Loss: 0.1017\n",
      "val Loss: 0.1025\n",
      "Epoch: 14, Training Loss: 0.1022\n",
      "val Loss: 0.1026\n",
      "Epoch    13: reducing learning rate of group 0 to 1.0000e-04.\n",
      "Epoch: 15, Training Loss: 0.1014\n",
      "val Loss: 0.1024\n",
      "Epoch: 16, Training Loss: 0.1014\n",
      "val Loss: 0.1022\n",
      "Epoch: 17, Training Loss: 0.1013\n",
      "val Loss: 0.1021\n",
      "Epoch: 18, Training Loss: 0.1010\n",
      "val Loss: 0.1022\n",
      "Epoch    17: reducing learning rate of group 0 to 1.0000e-05.\n",
      "Epoch: 19, Training Loss: 0.1003\n",
      "val Loss: 0.1022\n",
      "Epoch: 20, Training Loss: 0.1013\n",
      "val Loss: 0.1023\n",
      "Epoch: 21, Training Loss: 0.1011\n",
      "val Loss: 0.1023\n",
      "Early stopping\n",
      "CPU times: user 24.2 s, sys: 7.16 s, total: 31.3 s\n",
      "Wall time: 12.3 s\n"
     ]
    }
   ],
   "source": [
    "%%time\n",
    "\n",
    "no_improvenment_count = 0\n",
    "best_val_loss = 9999\n",
    "for epoch in tqdm(range(1, epochs + 1)):\n",
    "    model.train()\n",
    "    \n",
    "    running_loss = 0\n",
    "    count_triplets = 0\n",
    "    \n",
    "    for batch in get_train_iterator():\n",
    "        opt.zero_grad()\n",
    "        \n",
    "        texts, labels = batch\n",
    "        embeddings = model(texts)\n",
    "        loss = batch_hard_triplet_loss(labels, embeddings, margin=margin)\n",
    "        loss.backward()\n",
    "        opt.step()\n",
    "        \n",
    "        running_loss += loss.data\n",
    "        count_triplets +=1 \n",
    "\n",
    "    \n",
    "    epoch_loss = running_loss / count_triplets\n",
    "    loss_history_train.append(epoch_loss)\n",
    "    print('Epoch: {}, Training Loss: {:.4f}'.format(epoch, epoch_loss))\n",
    "    \n",
    "    model.eval()\n",
    "    val_loss = 0\n",
    "    count_val = 0\n",
    "    with torch.no_grad():\n",
    "        for batch in validation_batches:\n",
    "            texts, labels = batch\n",
    "            embeddings = model(texts)\n",
    "            loss = batch_hard_triplet_loss(labels, embeddings, margin=margin)\n",
    "            val_loss += loss.data\n",
    "            count_val +=1 \n",
    "        \n",
    "        epoch_val_loss = val_loss/count_val\n",
    "        loss_history_val.append(epoch_val_loss)\n",
    "        print('val Loss: {:.4f}'.format(epoch_val_loss))\n",
    "        \n",
    "    scheduler.step(epoch_val_loss)\n",
    "    \n",
    "    # Early stopping\n",
    "    if epoch_val_loss >= best_val_loss:\n",
    "        no_improvenment_count += 1\n",
    "    else:\n",
    "        best_val_loss = epoch_val_loss\n",
    "        no_improvenment_count = 0\n",
    "        \n",
    "    if no_improvenment_count > early_stop_patience:\n",
    "        print('Early stopping')\n",
    "        break\n",
    "model.eval()"
   ]
  },
  {
   "cell_type": "code",
   "execution_count": 427,
   "metadata": {
    "Collapsed": "false"
   },
   "outputs": [
    {
     "data": {
      "image/png": "[encoded data removed]",
      "text/plain": [
       "<Figure size 720x504 with 1 Axes>"
      ]
     },
     "metadata": {},
     "output_type": "display_data"
    }
   ],
   "source": [
    "plt.figure()\n",
    "plt.plot(loss_history_train, label='train_loss')\n",
    "plt.plot(loss_history_val, label='val_loss')\n",
    "plt.legend()\n",
    "plt.show()"
   ]
  },
  {
   "cell_type": "code",
   "execution_count": 428,
   "metadata": {
    "Collapsed": "false"
   },
   "outputs": [
    {
     "data": {
      "text/plain": [
       "EmbeddingBagEmbedder(\n",
       "  (relu): ReLU()\n",
       "  (embedding_bag): EmbeddingBag(9304, 200, mode=mean)\n",
       "  (linear_layers): ModuleList(\n",
       "    (0): Sequential(\n",
       "      (0): Linear(in_features=200, out_features=200, bias=True)\n",
       "      (1): Dropout(p=0.05, inplace=False)\n",
       "    )\n",
       "    (1): Sequential(\n",
       "      (0): Linear(in_features=200, out_features=200, bias=True)\n",
       "      (1): Dropout(p=0.05, inplace=False)\n",
       "    )\n",
       "    (2): Sequential(\n",
       "      (0): Linear(in_features=200, out_features=200, bias=True)\n",
       "      (1): Dropout(p=0.05, inplace=False)\n",
       "    )\n",
       "    (3): Sequential(\n",
       "      (0): Linear(in_features=200, out_features=200, bias=True)\n",
       "    )\n",
       "  )\n",
       ")"
      ]
     },
     "execution_count": 428,
     "metadata": {},
     "output_type": "execute_result"
    }
   ],
   "source": [
    "model.eval()"
   ]
  },
  {
   "cell_type": "markdown",
   "metadata": {
    "Collapsed": "false"
   },
   "source": [
    "# Produce train embeddings and TSNE"
   ]
  },
  {
   "cell_type": "code",
   "execution_count": 429,
   "metadata": {
    "Collapsed": "false"
   },
   "outputs": [],
   "source": [
    "from sklearn.preprocessing import normalize"
   ]
  },
  {
   "cell_type": "code",
   "execution_count": 430,
   "metadata": {
    "Collapsed": "false"
   },
   "outputs": [],
   "source": [
    "def draw_tsne(model, dataset, df, text_field_name='page_title_stem', label=''):\n",
    "    embeddings = []\n",
    "    for ex in tqdm(dataset):\n",
    "        emb = np.array(model(model.text_field.numericalize([getattr(ex, text_field_name)]))[0].data)\n",
    "        embeddings.append(emb)\n",
    "    embeddings = normalize(np.array(embeddings))\n",
    "    \n",
    "    tsne = TSNE(\n",
    "        n_components=2,\n",
    "        metric='cosine',\n",
    "        n_jobs=3,\n",
    "        verbose=True,\n",
    "    )\n",
    "    \n",
    "    emb_ld = tsne.fit_transform(embeddings)\n",
    "    \n",
    "    labelled_spec_classes = df.class_\n",
    "    labelled_spec_classes = labelled_spec_classes.reset_index()\n",
    "    \n",
    "    emb_tdf = pd.DataFrame(emb_ld)\n",
    "    emb_tdf = pd.concat([emb_tdf, labelled_spec_classes], axis=1, ignore_index=True)\n",
    "    emb_tdf.columns = ['x', 'y', 'original_index', 'class_']\n",
    "\n",
    "    \n",
    "    \n",
    "    plt.figure(figsize=(15, 10))\n",
    "    plt.title(f'TSNE {label}')\n",
    "    for class_ in emb_tdf['class_'].sort_values().unique():\n",
    "        class_ld_df = emb_tdf[emb_tdf.class_==class_]\n",
    "        plt.scatter(class_ld_df.iloc[:, 0], class_ld_df.iloc[:, 1], label=f'class {class_}')\n",
    "\n",
    "    plt.legend()\n",
    "    plt.show()"
   ]
  },
  {
   "cell_type": "code",
   "execution_count": 431,
   "metadata": {
    "Collapsed": "false"
   },
   "outputs": [
    {
     "data": {
      "application/vnd.jupyter.widget-view+json": {
       "model_id": "84a67075ae9a44b1a44f123516589100",
       "version_major": 2,
       "version_minor": 0
      },
      "text/html": [
       "<p>Failed to display Jupyter Widget of type <code>HBox</code>.</p>\n",
       "<p>\n",
       "  If you're reading this message in the Jupyter Notebook or JupyterLab Notebook, it may mean\n",
       "  that the widgets JavaScript is still loading. If this message persists, it\n",
       "  likely means that the widgets JavaScript library is either not installed or\n",
       "  not enabled. See the <a href=\"https://ipywidgets.readthedocs.io/en/stable/user_install.html\">Jupyter\n",
       "  Widgets Documentation</a> for setup instructions.\n",
       "</p>\n",
       "<p>\n",
       "  If you're reading this message in another frontend (for example, a static\n",
       "  rendering on GitHub or <a href=\"https://nbviewer.jupyter.org/\">NBViewer</a>),\n",
       "  it may mean that your frontend doesn't currently support widgets.\n",
       "</p>\n"
      ],
      "text/plain": [
       "HBox(children=(IntProgress(value=0, max=746), HTML(value='')))"
      ]
     },
     "metadata": {},
     "output_type": "display_data"
    },
    {
     "data": {
      "image/png": "[encoded data removed]",
      "text/plain": [
       "<Figure size 1080x720 with 1 Axes>"
      ]
     },
     "metadata": {},
     "output_type": "display_data"
    }
   ],
   "source": [
    "draw_tsne(model, train_dataset, labelled_specs_train, label ='- train')"
   ]
  },
  {
   "cell_type": "code",
   "execution_count": 432,
   "metadata": {
    "Collapsed": "false"
   },
   "outputs": [
    {
     "data": {
      "application/vnd.jupyter.widget-view+json": {
       "model_id": "4b3e5815f0964ee49f311700e31732fc",
       "version_major": 2,
       "version_minor": 0
      },
      "text/html": [
       "<p>Failed to display Jupyter Widget of type <code>HBox</code>.</p>\n",
       "<p>\n",
       "  If you're reading this message in the Jupyter Notebook or JupyterLab Notebook, it may mean\n",
       "  that the widgets JavaScript is still loading. If this message persists, it\n",
       "  likely means that the widgets JavaScript library is either not installed or\n",
       "  not enabled. See the <a href=\"https://ipywidgets.readthedocs.io/en/stable/user_install.html\">Jupyter\n",
       "  Widgets Documentation</a> for setup instructions.\n",
       "</p>\n",
       "<p>\n",
       "  If you're reading this message in another frontend (for example, a static\n",
       "  rendering on GitHub or <a href=\"https://nbviewer.jupyter.org/\">NBViewer</a>),\n",
       "  it may mean that your frontend doesn't currently support widgets.\n",
       "</p>\n"
      ],
      "text/plain": [
       "HBox(children=(IntProgress(value=0, max=162), HTML(value='')))"
      ]
     },
     "metadata": {},
     "output_type": "display_data"
    },
    {
     "data": {
      "image/png": "[encoded data removed]",
      "text/plain": [
       "<Figure size 1080x720 with 1 Axes>"
      ]
     },
     "metadata": {},
     "output_type": "display_data"
    }
   ],
   "source": [
    "draw_tsne(model, val_dataset, labelled_specs_val, label ='- val')"
   ]
  },
  {
   "cell_type": "markdown",
   "metadata": {
    "Collapsed": "false"
   },
   "source": [
    "# Produce whole dataset embeddings"
   ]
  },
  {
   "cell_type": "code",
   "execution_count": 433,
   "metadata": {
    "Collapsed": "false"
   },
   "outputs": [
    {
     "data": {
      "application/vnd.jupyter.widget-view+json": {
       "model_id": "d2b44487bcd34339bde2aedaa91749d0",
       "version_major": 2,
       "version_minor": 0
      },
      "text/html": [
       "<p>Failed to display Jupyter Widget of type <code>HBox</code>.</p>\n",
       "<p>\n",
       "  If you're reading this message in the Jupyter Notebook or JupyterLab Notebook, it may mean\n",
       "  that the widgets JavaScript is still loading. If this message persists, it\n",
       "  likely means that the widgets JavaScript library is either not installed or\n",
       "  not enabled. See the <a href=\"https://ipywidgets.readthedocs.io/en/stable/user_install.html\">Jupyter\n",
       "  Widgets Documentation</a> for setup instructions.\n",
       "</p>\n",
       "<p>\n",
       "  If you're reading this message in another frontend (for example, a static\n",
       "  rendering on GitHub or <a href=\"https://nbviewer.jupyter.org/\">NBViewer</a>),\n",
       "  it may mean that your frontend doesn't currently support widgets.\n",
       "</p>\n"
      ],
      "text/plain": [
       "HBox(children=(IntProgress(value=0, max=29771), HTML(value='')))"
      ]
     },
     "metadata": {},
     "output_type": "display_data"
    }
   ],
   "source": [
    "embeddings = []\n",
    "for ex in tqdm(full_dataset):\n",
    "    emb = np.array(model(model.text_field.numericalize([ex.page_title_stem]))[0].data)\n",
    "    embeddings.append(emb)\n",
    "embeddings = normalize(np.array(embeddings))"
   ]
  },
  {
   "cell_type": "code",
   "execution_count": 434,
   "metadata": {
    "Collapsed": "false"
   },
   "outputs": [],
   "source": [
    "emb_df = pd.DataFrame(embeddings)\n",
    "emb_df.to_csv('../data/processed/embeddings.csv', index=None)"
   ]
  },
  {
   "cell_type": "code",
   "execution_count": 435,
   "metadata": {
    "Collapsed": "false"
   },
   "outputs": [],
   "source": [
    "emb_df = pd.read_csv('../data/processed/embeddings.csv')"
   ]
  },
  {
   "cell_type": "code",
   "execution_count": 436,
   "metadata": {
    "Collapsed": "false"
   },
   "outputs": [],
   "source": [
    "emb = Embedder(model, specs_df.spec_id.values, specs_df.all_text_stem.values)"
   ]
  },
  {
   "cell_type": "code",
   "execution_count": 437,
   "metadata": {
    "Collapsed": "false"
   },
   "outputs": [],
   "source": [
    "emb.fit(emb_df.values)"
   ]
  },
  {
   "cell_type": "code",
   "execution_count": 438,
   "metadata": {
    "Collapsed": "false"
   },
   "outputs": [
    {
     "data": {
      "text/plain": [
       "array(['canon eo 20d bodi canon extra batteri may sign cosmet wear fulli oper function intend may floor model store return seller full detail descript imperfect open window tab read moreabout mp 20d',\n",
       "       'canon eo 20d 8 2mp bodi pleas includ full zip code canon ship store pickup ship anywher ship buyer paypal address ship fee paid may sign cosmet wear fulli oper function intend may floor model store return seller full detail descript imperfect open window tab read moreabout mp 20d none know want pick ship',\n",
       "       'canon eo 20d 8 2mp bodi canon may sign cosmet wear fulli oper function intend may floor model store return seller full detail descript imperfect open window tab read moreabout mp 20d',\n",
       "       'canon eo 20d 8 2mp bodi pleas includ full zip code canon ship store pickup ship anywher ship buyer paypal address ship fee paid may sign cosmet wear fulli oper function intend may floor model store return seller full detail descript imperfect open window tab read moreabout mp 20d know want pick ship',\n",
       "       'canon eo 20d 8 2mp canon case bag extra batteri len len clean kit memori card strap neck wrist len filter may sign cosmet wear fulli oper function intend may floor model store return seller full detail descript imperfect open window tab read moreabout',\n",
       "       'canon 20d canon len memori card strap neck wrist seller refurbish restor work order ebay seller third parti approv manufactur mean inspect clean repair full work order excel may may origin packag seller full detail open window tab read moreabout 20d',\n",
       "       'canon eo rebel t1i canon may sign cosmet wear fulli oper function intend may floor model store return seller full detail descript imperfect open window tab read moreabout rebel t1i',\n",
       "       'canon eo rebel t1i canon canon eo canon eo rebel rebel t1i',\n",
       "       'cammarkt canon eo 20d canon 2544x1696 1728x1152 megapixel sensor compos pixel tini squar sensor camera today made million pixel one regist bright light strike photo taken megapixel term million pixel megapixel imag sensor higher potenti resolut hand megapixel determin size print higher megapixel mean larger print size exampl 6 megapixel good 8x10 print 8 megapixel good 16x20 print d21716 ec2721 raw imag fine mani camera includ differ set control photo resolut resolut pictur take affect qualiti well amount memori util higher resolut result higher qualiti take memori reduct flash jpeg flash might sever differ flash function flash without zoom sensor compos pixel tini squar sensor camera today made million pixel one regist bright light strike photo taken megapixel term million pixel megapixel imag sensor higher potenti resolut hand megapixel determin size print higher megapixel mean larger print size exampl 6 megapixel good 8x10 print 8 megapixel good 16x20 print screen canon eo card type ii ibm microdr 15 imag 128mb card mani type memori media camera model compat one common smartmedia mani camera use memori write pictur direct onto floppi disk help choos sort memori devic easi find store case need purchas extra 213 imag 128mb card auto flash 100',\n",
       "       '28 135 mm camera may allow separ bodi len allow interchang lens differ type photographi cammarkt canon eo 20d canon 2544x1696 1752x1168 megapixel sensor compos pixel tini squar sensor camera today made million pixel one regist bright light strike photo taken megapixel term million pixel megapixel imag sensor higher potenti resolut hand megapixel determin size print higher megapixel mean larger print size exampl 6 megapixel good 8x10 print 8 megapixel good 16x20 print normal auto flash reduct flash forc jpeg flash might sever differ flash function flash cm screen canon eo card type ii ibm microdr 10 imag 128mb card mani type memori media camera model compat one common smartmedia mani camera use memori write pictur direct onto floppi disk help choos sort memori devic easi find store case need purchas extra 213 imag 128mb card flash 100 200 400 800 1600 3200 extern iso stand intern standard denot rate film sensit light base arithmet progress though camera use film adopt rate system describ sensit imag sensor camera often includ control adjust iso speed adjust automat depend light condit adjust upward avail light dim examp iso 200 film twice fast iso 100 film half fast iso scale ident asa american'],\n",
       "      dtype=object)"
      ]
     },
     "execution_count": 438,
     "metadata": {},
     "output_type": "execute_result"
    }
   ],
   "source": [
    "emb.lookup_texts('canon eo 20d')"
   ]
  },
  {
   "cell_type": "code",
   "execution_count": 439,
   "metadata": {
    "Collapsed": "false"
   },
   "outputs": [],
   "source": [
    "emb.save('../models/embedder')"
   ]
  },
  {
   "cell_type": "code",
   "execution_count": null,
   "metadata": {
    "Collapsed": "false"
   },
   "outputs": [],
   "source": []
  }
 ],
 "metadata": {
  "kernelspec": {
   "display_name": "Python 3",
   "language": "python",
   "name": "python3"
  },
  "language_info": {
   "codemirror_mode": {
    "name": "ipython",
    "version": 3
   },
   "file_extension": ".py",
   "mimetype": "text/x-python",
   "name": "python",
   "nbconvert_exporter": "python",
   "pygments_lexer": "ipython3",
   "version": "3.6.7"
  }
 },
 "nbformat": 4,
 "nbformat_minor": 4
}
